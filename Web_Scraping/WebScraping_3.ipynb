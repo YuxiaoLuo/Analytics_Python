{
 "cells": [
  {
   "cell_type": "markdown",
   "id": "7e1234f6",
   "metadata": {},
   "source": [
    "# Selenium\n",
    "\n",
    "- Selenium Python bindings provides a simple API to write functional/acceptance tests using Selenium WebDriver. Through Selenium Python API you can access all functionalities of Selenium WebDriver in an intuitive way.\n",
    "\n",
    "- Selenium was originally developed for the purpose of automated website testing. It's also a powerful tool for web scraping with dynamic pages.\n",
    "\n",
    "- Selenium can be controlled from various programming languages, such as Java, C#, PHP, and Python.\n",
    "- Reference page: https://selenium-python.readthedocs.io/installation.html#introduction\n"
   ]
  },
  {
   "cell_type": "markdown",
   "id": "0527ee69",
   "metadata": {},
   "source": [
    "## Configuration of Selenium\n",
    "### step 1: install Selenium\n",
    "\n",
    "Use the `pip` or `conda` to install Python modules. \n",
    "\n",
    "```\n",
    "pip install -U selenium\n",
    "\n",
    "conda install selenium\n",
    "```"
   ]
  },
  {
   "cell_type": "markdown",
   "id": "a90a6b09",
   "metadata": {},
   "source": [
    "Mac users can run it in Jupyter Notebook with the magic command:"
   ]
  },
  {
   "cell_type": "code",
   "execution_count": 3,
   "id": "3d784bd4",
   "metadata": {},
   "outputs": [],
   "source": [
    "# %%bash\n",
    "# pip install -U selenium"
   ]
  },
  {
   "cell_type": "markdown",
   "id": "8e52ced0",
   "metadata": {},
   "source": [
    "Windows users can run it in Jupyter Notebook with the magic command:"
   ]
  },
  {
   "cell_type": "code",
   "execution_count": 2,
   "id": "99043247",
   "metadata": {},
   "outputs": [],
   "source": [
    "# %%cmd \n",
    "# pip install -U selenium"
   ]
  },
  {
   "cell_type": "markdown",
   "id": "618843b4",
   "metadata": {},
   "source": [
    "### Step 2: download a webdriver file matching your platform (Windows, Mac, or Linux) and your browser.\n",
    "\n",
    "Webdriver: a compact object-oriented API that drives the browser effectively\n",
    "\n",
    "- for Chrome user\n",
    "    - head to https://sites.google.com/chromium.org/driver/downloads?authuser=0 and download the least version matching your chrome version\n",
    "    - The ZIP file you downloaded will contain an executable called “chromedriver.exe” on Windows or just “chromedriver” otherwise. The easiest way to make sure Selenium can see this executable is to put it in the same directory as your Python scripts\n",
    "- for Safari user\n",
    "    - Safari now provides native support for the WebDriver API Starting with Safari 10 on OS X El Capitan and macOS Sierra. This might be oudated, check the up-to-date information online.\n",
    "    - Enable Remote Automation in the Develop menu.This is toggled via Develop and allow Remote Automation in the menu bar\n",
    "    - Reference: https://webkit.org/blog/6900/webdriver-support-in-safari-10/\n",
    "    \n",
    "**In the following section, we will use Chrome Webdriver for all the demonstrations**."
   ]
  },
  {
   "cell_type": "code",
   "execution_count": 7,
   "id": "84327f8f",
   "metadata": {},
   "outputs": [],
   "source": [
    "#test\n",
    "\n",
    "from selenium import webdriver\n",
    "\n",
    "#url = 'http://www.google.com'\n",
    "url = 'https://the-internet.herokuapp.com/dynamic_loading/2'\n",
    "#url = 'http://www.webscrapingfordatascience.com/postform2/'\n",
    "\n",
    "# open the Chrome using ChromeDrive\n",
    "driver = webdriver.Chrome()\n",
    "\n",
    "# If you use Safari\n",
    "# driver = webdriver.Safari()\n",
    "\n",
    "driver.get(url)\n",
    "\n",
    "# input('Press ENTER to close the automated browser')\n",
    "# driver.quit()\n",
    "\n",
    "# print(driver.page_source)"
   ]
  },
  {
   "cell_type": "markdown",
   "id": "ed81f4b2",
   "metadata": {},
   "source": [
    "### Google colab\n",
    "\n",
    "The following methods are gathered for running webdriver on Google colab FYI. However, we will stick to Jupyter Notebook in the rest of learning."
   ]
  },
  {
   "cell_type": "code",
   "execution_count": null,
   "id": "9846e67f",
   "metadata": {},
   "outputs": [],
   "source": [
    "#method 1\n",
    "#for google colab run following codes to set up selenium and webdriver (Chrome)\n",
    "#step 1\n",
    "!apt install chromium-chromedriver\n",
    "!cp /usr/lib/chromium-browser/chromedriver /usr/bin\n",
    "!pip install selenium"
   ]
  },
  {
   "cell_type": "code",
   "execution_count": 5,
   "id": "29188ac3",
   "metadata": {},
   "outputs": [],
   "source": [
    "#step 2\n",
    "from selenium import webdriver\n",
    "options = webdriver.ChromeOptions()\n",
    "options.add_argument('-headless')\n",
    "options.add_argument('-no-sandbox')\n",
    "options.add_argument('-disable-dev-shm-usage')"
   ]
  },
  {
   "cell_type": "code",
   "execution_count": 11,
   "id": "552b35a2",
   "metadata": {},
   "outputs": [],
   "source": [
    "#step 3: test\n",
    "\n",
    "# driver = webdriver.Chrome('chromedriver',options=options)\n",
    "# url = 'https://en.wikipedia.org/w/index.php?title=List_of_Game_of_Thrones_episodes&oldid=802553687'\n",
    "# driver.get(url)\n",
    "# print(driver.page_source) # results"
   ]
  },
  {
   "cell_type": "code",
   "execution_count": null,
   "id": "96e4c5cc",
   "metadata": {},
   "outputs": [],
   "source": [
    "#method 2\n",
    "#use kora module in google colab\n",
    "!pip install kora -q\n"
   ]
  },
  {
   "cell_type": "markdown",
   "id": "53bd0329",
   "metadata": {},
   "source": [
    "kora is a collection of tools to make programming on Google Colab easier. GitHub: https://github.com/korakot/kora."
   ]
  },
  {
   "cell_type": "code",
   "execution_count": 12,
   "id": "43c42da4",
   "metadata": {},
   "outputs": [],
   "source": [
    "#test\n",
    "# from kora.selenium import wd\n",
    "# url = url = 'http://www.webscrapingfordatascience.com/postform2/'\n",
    "# wd.get(url)\n",
    "# print(wd.page_source)"
   ]
  },
  {
   "cell_type": "markdown",
   "id": "59aa961b",
   "metadata": {},
   "source": [
    "### WebDriver Location\n",
    "If you prefer to keep the WebDriver executable somewhere else, it is also possible to pass its location as you construct the Selenium webdriver object in Python like so (however, we’ll assume that you keep the executable in the same directory for the\n",
    "examples that follow to keep the code a bit shorter):"
   ]
  },
  {
   "cell_type": "code",
   "execution_count": 13,
   "id": "2fe5cc74",
   "metadata": {},
   "outputs": [],
   "source": [
    "# driver_exe = 'C:/Users/Henry/Desktop/chromedriver.exe'\n",
    "# driver = webdriver.Chrome(driver_exe)"
   ]
  },
  {
   "cell_type": "markdown",
   "id": "436c545f",
   "metadata": {},
   "source": [
    "## Common `selenium` methods"
   ]
  },
  {
   "cell_type": "markdown",
   "id": "8fdd1615",
   "metadata": {},
   "source": [
    "We can use Selenium methods to to handle HTML elements, like Beautiful Soup. Here is a list of the methods:\n",
    "- find_element(By.ID) \n",
    "- find_element(By.Name)\n",
    "       - selects elements based on the HTML “name” attribute\n",
    "- find_element(By.XPATH)\n",
    "       - selects elements using XPATH\n",
    "- find_element(By.LINK_TEXT)\n",
    "       - selects elements (e.g., link) by matching its inner text.     \n",
    "- find_element(By.PARTIAL_LINK_TEXT)\n",
    "       - does the same, but partially matches the inner text. \n",
    "- find_element(By.TAG_NAME)\n",
    "       - selects elements using the actual tag name.\n",
    "- find_element(By.CLASS_NAME)\n",
    "- find_element(By.CSS_SELECTOR)\n",
    "       - is similar to Beautiful Soup’s select method, but comes with a more robust CSS selector rule parser."
   ]
  },
  {
   "cell_type": "markdown",
   "id": "82c4a68f",
   "metadata": {},
   "source": [
    "To find multiple elements (these methods will return a list): `find_elements`."
   ]
  },
  {
   "cell_type": "markdown",
   "id": "d38577a7",
   "metadata": {},
   "source": [
    "### XPath and XML\n",
    "XPath is a language used for locating nodes in XML documents. As HTML can be regarded as an implementation of XML (also referred to as XHTML in this case), Selenium can use the XPath language to select elements. XPath extends beyond the simple methods of locating by id or name attributes."
   ]
  },
  {
   "cell_type": "markdown",
   "id": "b0ea226c",
   "metadata": {},
   "source": [
    "A quick overview of common XPath expressions is given below:\n",
    "- nodename selects all nodes with the name “nodename”;\n",
    "- / selects from the root node;\n",
    "- // can be used to skip multiple levels of nodes and search through all\n",
    "descendants to perform a selection;\n",
    "- . selects the current node;\n",
    "- .. selects the parent of the current node;\n",
    "- @ selects attributes.\n",
    "\n",
    "Examples:\n",
    "\n",
    "- /html/body/form[1]: get the first form element inside the “<body>” tag inside the “<html>” tag.\n",
    "- //form[1]: get the first form element inside the document.\n",
    "- //form[@id='my_form']: get the form element with an “id” attribute\n",
    "set to “my_form”."
   ]
  },
  {
   "cell_type": "markdown",
   "id": "4a3ec04b",
   "metadata": {},
   "source": [
    "### Types of XPath\n",
    "\n",
    "XPath can be used to locate any element on a page based on its tag name, ID, CSS class, and so on. There are two types of XPath in Selenium.\n",
    "\n",
    "1. Absolute XPath: \n",
    "    - absolute Xpath is the simplest form of XPath in Selenium. It starts with a single slash ‘/’ and provides the absolute path of an element in the entire DOM.\n",
    "    - However, even though it is simple, the biggest disadvantage of using absolute XPath is that they are very vulnerable to any changes in the DOM structure and, as a result, can bring you a lot of automation failures.\n",
    "    \n",
    "    ```\n",
    "    //div/div/div/div[1]/div/a/img\n",
    "    ```\n",
    "\n",
    "2. Relative XPath\n",
    "    - In the case of relative XPath in Selenium, the XPath expression starts from the middle of the DOM structure. It is represented by a double slash ‘//’ denoting the current node.\n",
    "    - It is always preferred over an absolute XPath as it is not a complete path from the root element.\n",
    "    \n",
    "    ```\n",
    "    //img[@alt='LambdaTest']\n",
    "    ```"
   ]
  },
  {
   "cell_type": "markdown",
   "id": "da819641",
   "metadata": {},
   "source": [
    "### How to write XPath in Selenium\n",
    "\n",
    "1. XPath using Contains\n",
    "`contains()` is a very useful method in XPath. It can be used for all such web elements whose value can change dynamically. The syntax for using Contains() method in XPath is\n",
    "```\n",
    "//tagname[contains(@attribute,constantvalue)]\n",
    "```\n",
    "\n",
    "2. XPath using Logical Operators: OR & AND\n",
    "We can use logical operators such as OR & AND on the attributes condition. In the case of OR, any one of the conditions should be true or both, whereas, in the case of AND, both the conditions should be true.\n",
    "    ```\n",
    "    XPath=//tagname[@attribute1=value1 OR @attribute2=value1]\n",
    "\n",
    "    XPath=//tagname[@attribute1=value1 AND @attribute2=value1]\n",
    "    ```\n",
    "\n",
    "3. XPath using Text() is used in XPath whenever we have a text defined in an HTML tag, and we wish to identify that element via text. This comes in handy when the other attribute values change dynamically with no substantial attribute value used via Starts-with or Contains.\n",
    "    ```\n",
    "    //tagname[text()='Text of the Web Element']\n",
    "    ```\n",
    "    \n",
    "4. XPath using Starts-With() is similar to the Contains() method. It is helpful in the case of web elements whose attribute value can change dynamically. In the Starts-With method, the starting value of the attribute’s text is used for locating the element.\n",
    "\n",
    "\n",
    "[Reference](https://www.lambdatest.com/blog/complete-guide-for-using-xpath-in-selenium-with-examples/)"
   ]
  },
  {
   "cell_type": "markdown",
   "id": "4aa5da10",
   "metadata": {},
   "source": [
    "#### Special Keys \n",
    "\n",
    "In `selenium` webdriver, we can use the keys on our keyboard. (https://www.geeksforgeeks.org/special-keys-in-selenium-python/#)\n",
    "\n",
    "|            |              |            |\n",
    "|------------|--------------|------------|\n",
    "| ADD        | ALT          | ARROW_DOWN |\n",
    "| ARROW_LEFT | ARROW_RIGHT  | ARROW_UP   |\n",
    "| BACKSPACE  | BACK_SPACE   | CANCEL     |\n",
    "| CLEAR      | COMMAND      | CONTROL    |\n",
    "| DECIMAL    | DELETE       | DIVIDE     |\n",
    "| DOWN       | END          | ENTER      |\n",
    "| EQUALS     | ESCAPE       | F1         |\n",
    "| F10        | F11          | F12        |\n",
    "| F2         | F3           | F4         |\n",
    "| F5         | F6           | F7         |\n",
    "| F8         | F9           | HELP       |\n",
    "| HOME       | INSERT       | LEFT       |\n",
    "| LEFT_ALT   | LEFT_CONTROL | LEFT_SHIFT |\n",
    "| META       | MULTIPLY     | NULL       |\n",
    "| NUMPAD0    | NUMPAD1      | NUMPAD2    |\n",
    "| NUMPAD3    | NUMPAD4      | NUMPAD5    |\n",
    "| NUMPAD6    | NUMPAD7      | NUMPAD8    |\n",
    "| NUMPAD9    | PAGE_DOWN    | PAGE_UP    |\n",
    "| PAUSE      | RETURN       | RIGHT      |\n",
    "| SEMICOLON  | SEPARATOR    | SHIFT      |\n",
    "| SPACE      | SUBTRACT     | TAB        |"
   ]
  },
  {
   "cell_type": "markdown",
   "id": "ee2538ae",
   "metadata": {},
   "source": [
    "### Code Demonstration"
   ]
  },
  {
   "cell_type": "markdown",
   "id": "5fd5827c",
   "metadata": {},
   "source": [
    "- import `webdrive` class.\n",
    "- `Keys` and `By` are two commons classes we will use in `selenium` module. Import them as needed.\n",
    "    - Keys class provide keys in the keyboard\n",
    "    - By class are used to locate elements"
   ]
  },
  {
   "cell_type": "code",
   "execution_count": null,
   "id": "97d5884b",
   "metadata": {},
   "outputs": [],
   "source": [
    "from selenium.webdriver.common.keys import Keys\n",
    "from selenium.webdriver.common.by import By"
   ]
  },
  {
   "cell_type": "markdown",
   "id": "443d176a",
   "metadata": {},
   "source": [
    "Let's use `selenium` to scrape the Wikipedia page of Information System: https://en.wikipedia.org/wiki/Information_system. "
   ]
  },
  {
   "cell_type": "code",
   "execution_count": 77,
   "id": "4086e0e1",
   "metadata": {},
   "outputs": [
    {
     "data": {
      "text/plain": [
       "<selenium.webdriver.remote.webelement.WebElement (session=\"15d2161d8051ed4551b6fc73c2b416ca\", element=\"A5955F550FF65897A4A0096D3EEEE74A_element_30\")>"
      ]
     },
     "execution_count": 77,
     "metadata": {},
     "output_type": "execute_result"
    }
   ],
   "source": [
    "from selenium import webdriver\n",
    "from selenium.webdriver.common.by import By\n",
    "\n",
    "url = 'https://en.wikipedia.org/wiki/Information_system'\n",
    "driver = webdriver.Chrome()\n",
    "driver.get(url)\n",
    "# print(driver.page_source)\n",
    "driver.find_element(By.TAG_NAME, 'h1')"
   ]
  },
  {
   "cell_type": "code",
   "execution_count": 80,
   "id": "3e00bdd0",
   "metadata": {},
   "outputs": [
    {
     "data": {
      "text/plain": [
       "'Information system'"
      ]
     },
     "execution_count": 80,
     "metadata": {},
     "output_type": "execute_result"
    }
   ],
   "source": [
    "# find the page title with tag name\n",
    "driver.find_element(By.TAG_NAME, 'h1').text"
   ]
  },
  {
   "cell_type": "code",
   "execution_count": 24,
   "id": "c18eff53",
   "metadata": {},
   "outputs": [
    {
     "data": {
      "text/plain": [
       "'Information system'"
      ]
     },
     "execution_count": 24,
     "metadata": {},
     "output_type": "execute_result"
    }
   ],
   "source": [
    "# find the page title with class attribute\n",
    "driver.find_element(By.CLASS_NAME,'mw-page-title-main').text"
   ]
  },
  {
   "cell_type": "code",
   "execution_count": 30,
   "id": "49a9828e",
   "metadata": {},
   "outputs": [
    {
     "name": "stdout",
     "output_type": "stream",
     "text": [
      "Information systems for managers: with cases\n"
     ]
    },
    {
     "data": {
      "text/plain": [
       "<selenium.webdriver.remote.webelement.WebElement (session=\"7afa77372a487b0266c571623e6f685d\", element=\"C08460BC0092BE8A39F1AECE18737377_element_222\")>"
      ]
     },
     "execution_count": 30,
     "metadata": {},
     "output_type": "execute_result"
    }
   ],
   "source": [
    "# find a link based on textual value \n",
    "print(driver.find_element(By.PARTIAL_LINK_TEXT, \"Information system\").text)\n",
    "driver.find_element(By.PARTIAL_LINK_TEXT, \"Information system\")"
   ]
  },
  {
   "cell_type": "code",
   "execution_count": 34,
   "id": "fb6ecdbf",
   "metadata": {},
   "outputs": [],
   "source": [
    "#dynamic web form example\n",
    "from selenium import webdriver\n",
    "\n",
    "url = 'https://www.w3schools.com/html/html_forms.asp'\n",
    "# driver = webdriver.Chrome()\n",
    "driver.get(url)\n",
    "#print(driver.page_source)"
   ]
  },
  {
   "cell_type": "markdown",
   "id": "48ef2f52",
   "metadata": {},
   "source": [
    "Perform operaitons on websites with `selenium\n",
    "- Click the \"start\" button on this website: https://the-internet.herokuapp.com/dynamic_loading/2\n",
    "- Remotely send data to a webform by xpath and css selector and the click action"
   ]
  },
  {
   "cell_type": "code",
   "execution_count": 38,
   "id": "9a0f32f8",
   "metadata": {},
   "outputs": [],
   "source": [
    "#url = 'http://www.webscrapingfordatascience.com/postform2/'\n",
    "url = 'https://the-internet.herokuapp.com/dynamic_loading/2'\n",
    "# driver = webdriver.Chrome()\n",
    "driver.get(url)\n",
    "\n",
    "# Using XPATH\n",
    "# driver.find_element(By.XPATH, '//*[@id=\"start\"]/button').click()\n",
    "\n",
    "# Using CSS Selector\n",
    "# driver.find_element(By.CSS_SELECTOR, '#start > button').click()"
   ]
  },
  {
   "cell_type": "markdown",
   "id": "d17fbcd6",
   "metadata": {},
   "source": [
    "Remeber what we did in the first Chapter with `requests.post()`: we send data to a webform with HTML post method. \n",
    "\n",
    "The example: "
   ]
  },
  {
   "cell_type": "code",
   "execution_count": 52,
   "id": "70311484",
   "metadata": {},
   "outputs": [
    {
     "name": "stdout",
     "output_type": "stream",
     "text": [
      "<html>\r\n",
      "\t<body>\r\n",
      "\r\n",
      "\r\n",
      "<h2>Thanks for submitting your information</h2>\r\n",
      "\r\n",
      "<p>Here's a dump of the form data that was submitted:</p>\r\n",
      "\r\n",
      "<pre>array(5) {\n",
      "  [\"name\"]=>\n",
      "  string(2) \"YL\"\n",
      "  [\"gender\"]=>\n",
      "  string(1) \"F\"\n",
      "  [\"pizza\"]=>\n",
      "  string(4) \"like\"\n",
      "  [\"haircolor\"]=>\n",
      "  string(5) \"brown\"\n",
      "  [\"comments\"]=>\n",
      "  string(10) \"no comment\"\n",
      "}\n",
      "</pre>\r\n",
      "\r\n",
      "\r\n",
      "\t</body>\r\n",
      "</html>\r\n",
      "\n"
     ]
    }
   ],
   "source": [
    "import requests\n",
    "url = 'http://www.webscrapingfordatascience.com/postform2/'\n",
    "# First perform a GET request\n",
    "r = requests.get(url)\n",
    "# Followed by a POST request\n",
    "formdata = {\n",
    "'name': 'YL',\n",
    "'gender': 'M',\n",
    "'pizza': 'like',\n",
    "'haircolor': 'brown',\n",
    "'comments': 'no comment'\n",
    "}\n",
    "r = requests.post(url, data=formdata)\n",
    "print(r.text)"
   ]
  },
  {
   "cell_type": "markdown",
   "id": "4799534a",
   "metadata": {},
   "source": []
  },
  {
   "cell_type": "markdown",
   "id": "2e6c6d6a",
   "metadata": {},
   "source": [
    "Now, let's try to remotely control a web form with `selenium` webdriver."
   ]
  },
  {
   "cell_type": "markdown",
   "id": "da4dff68",
   "metadata": {},
   "source": [
    "#### Example 1 \n",
    "Let 's submit our first name and last name to a web form on this page: https://www.w3schools.com/html/html_forms.asp"
   ]
  },
  {
   "cell_type": "code",
   "execution_count": 41,
   "id": "bd5914b2",
   "metadata": {},
   "outputs": [],
   "source": [
    "# from selenium import webdriver\n",
    "url = 'https://www.w3schools.com/html/html_forms.asp'\n",
    "# driver = webdriver.Chrome()\n",
    "driver.get(url)\n",
    "\n",
    "import time\n",
    "\n",
    "#find_element_by_id\n",
    "#id=\"fname\"\n",
    "#id=\"lname\"\n",
    "\n",
    "# find first name\n",
    "fname = driver.find_element(By.ID, 'fname')\n",
    "# find last name\n",
    "lname = driver.find_element(By.ID, 'lname')\n",
    "# find the button\n",
    "btn = driver.find_element(By.XPATH, '//*[@id=\"main\"]/div[3]/div/form/input[3]')  \n",
    "\n",
    "# clear the text of the elements first\n",
    "# then type into the element\n",
    "fname.clear()\n",
    "fname.send_keys('Yuxiao')\n",
    "time.sleep(3)\n",
    "lname.clear()\n",
    "lname.send_keys('Luo')\n",
    "time.sleep(3)\n",
    "\n",
    "# submit the answer in the web form\n",
    "# btn.click()\n",
    "lname.submit()"
   ]
  },
  {
   "cell_type": "markdown",
   "id": "91779656",
   "metadata": {},
   "source": [
    "To retrieve the html code of the page"
   ]
  },
  {
   "cell_type": "code",
   "execution_count": null,
   "id": "af6f8bd4",
   "metadata": {},
   "outputs": [],
   "source": [
    "# print(driver.page_source)"
   ]
  },
  {
   "cell_type": "code",
   "execution_count": 51,
   "id": "d80bb403",
   "metadata": {
    "scrolled": true
   },
   "outputs": [
    {
     "data": {
      "text/plain": [
       "<form action=\"/action_page.php\" data-gtm-form-interact-id=\"0\" target=\"_blank\">\n",
       "<label for=\"fname\">First name:</label><br/>\n",
       "<input data-gtm-form-interact-field-id=\"0\" id=\"fname\" name=\"fname\" type=\"text\" value=\"John\"/><br/>\n",
       "<label for=\"lname\">Last name:</label><br/>\n",
       "<input data-gtm-form-interact-field-id=\"1\" id=\"lname\" name=\"lname\" type=\"text\" value=\"Doe\"/><br/><br/>\n",
       "<input type=\"submit\" value=\"Submit\"/>\n",
       "</form>"
      ]
     },
     "execution_count": 51,
     "metadata": {},
     "output_type": "execute_result"
    }
   ],
   "source": [
    "from bs4 import BeautifulSoup\n",
    "BeautifulSoup(driver.page_source, 'html.parser').find('form')"
   ]
  },
  {
   "cell_type": "markdown",
   "id": "538ddb9e",
   "metadata": {},
   "source": [
    "#### Example 2\n",
    "Let' fetch the video information from a dynamic website: Youtube page of PlayStation https://www.youtube.com/c/PlayStation/videos."
   ]
  },
  {
   "cell_type": "code",
   "execution_count": 3,
   "id": "d3c9c3a9",
   "metadata": {},
   "outputs": [
    {
     "data": {
      "text/plain": [
       "[{'Title': 'Minecraft - Teenage Mutant Ninja Turtles Launch Trailer | PS4 & PS VR Games',\n",
       "  'Number of views': '13K views',\n",
       "  'Time uploaded': '5 hours ago'},\n",
       " {'Title': 'Call of Duty: Modern Warfare II & Warzone - Season 05 BlackCell Battle Pass Upgrade | PS5 & PS4',\n",
       "  'Number of views': '24K views',\n",
       "  'Time uploaded': '6 hours ago'},\n",
       " {'Title': 'The Jackbox Party Pack 10 - Dodo Re Mi Reveal Trailer | PS5 & PS4 Games',\n",
       "  'Number of views': '19K views',\n",
       "  'Time uploaded': '8 hours ago'},\n",
       " {'Title': 'Pistol Whip - Overdrive: Majesty Available Now | PS VR2 Games',\n",
       "  'Number of views': '12K views',\n",
       "  'Time uploaded': '10 hours ago'},\n",
       " {'Title': 'Atlas Fallen - Lord of the Sands | PS5 Games',\n",
       "  'Number of views': '25K views',\n",
       "  'Time uploaded': '11 hours ago'},\n",
       " {'Title': 'Bad Dreams - Launch Trailer | PS4 & PSVR Games',\n",
       "  'Number of views': '26K views',\n",
       "  'Time uploaded': '11 hours ago'},\n",
       " {'Title': 'Tower of Fantasy - Pre-Order Exclusives | PS5 & PS4 Games',\n",
       "  'Number of views': '36K views',\n",
       "  'Time uploaded': '22 hours ago'},\n",
       " {'Title': 'Under the Waves - Pre-Order Launch Cinematic Trailer | PS5 & PS4 Games',\n",
       "  'Number of views': '64K views',\n",
       "  'Time uploaded': '1 day ago'},\n",
       " {'Title': 'Fate/Samurai Remnant - Second Trailer | PS5 & PS4 Games',\n",
       "  'Number of views': '61K views',\n",
       "  'Time uploaded': '1 day ago'},\n",
       " {'Title': 'Venba - Launch Trailer | PS5 Games',\n",
       "  'Number of views': '23K views',\n",
       "  'Time uploaded': '1 day ago'},\n",
       " {'Title': 'Side Bullet - Announce Trailer | PS5 Games',\n",
       "  'Number of views': '100K views',\n",
       "  'Time uploaded': '2 days ago'},\n",
       " {'Title': 'Final Fantasy XIV: Dawntrail - Teaser Trailer | PS5 & PS4 Games',\n",
       "  'Number of views': '125K views',\n",
       "  'Time uploaded': '4 days ago'},\n",
       " {'Title': 'Gori: Cuddly Carnage - Off Panel Trailer | PS5 & PS4 Games',\n",
       "  'Number of views': '30K views',\n",
       "  'Time uploaded': '4 days ago'},\n",
       " {'Title': 'Hot Wheels Unleashed 2 - Turbocharged - Fast & Furious Trailer | PS5 & PS4 Games',\n",
       "  'Number of views': '36K views',\n",
       "  'Time uploaded': '4 days ago'},\n",
       " {'Title': 'MLB The Show 23 - August Live Content Report | PS5 & PS4 Games',\n",
       "  'Number of views': '65K views',\n",
       "  'Time uploaded': '4 days ago'},\n",
       " {'Title': 'Demonic Supremacy - Launch Trailer | PS4 Games',\n",
       "  'Number of views': '30K views',\n",
       "  'Time uploaded': '4 days ago'},\n",
       " {'Title': 'Marvel’s Spider-Man 2 - San Diego Comic-Con Panel Full Length | PS5 Games',\n",
       "  'Number of views': '285K views',\n",
       "  'Time uploaded': '5 days ago'},\n",
       " {'Title': 'Call of Duty: Modern Warfare II & Warzone - Season 05 Launch Trailer | PS5 & PS4 Games',\n",
       "  'Number of views': '57K views',\n",
       "  'Time uploaded': '5 days ago'},\n",
       " {'Title': 'All Star Brawl 2 - Announce Trailer | PS5 & PS4 Games',\n",
       "  'Number of views': '60K views',\n",
       "  'Time uploaded': '5 days ago'},\n",
       " {'Title': 'Dreams - Tren Trailer | PS4 Games',\n",
       "  'Number of views': '58K views',\n",
       "  'Time uploaded': '5 days ago'},\n",
       " {'Title': 'F1 Manager 2023 - Launch Trailer | PS5 & PS4 Games',\n",
       "  'Number of views': '22K views',\n",
       "  'Time uploaded': '5 days ago'},\n",
       " {'Title': 'Assetto Corsa Competizione - 2023 GT World Challenge Pack Launch Trailer | PS5 Games',\n",
       "  'Number of views': '29K views',\n",
       "  'Time uploaded': '5 days ago'},\n",
       " {'Title': 'Disgaea 7: Vows of the Virtueless - New Features Trailer | PS5 & PS4 Games',\n",
       "  'Number of views': '20K views',\n",
       "  'Time uploaded': '5 days ago'},\n",
       " {'Title': 'Ad Infinitum - Pre-Order Trailer | PS5 Games',\n",
       "  'Number of views': '115K views',\n",
       "  'Time uploaded': '5 days ago'},\n",
       " {'Title': 'Venice 2089 - Launch Trailer | PS5 & PS4 Games',\n",
       "  'Number of views': '22K views',\n",
       "  'Time uploaded': '5 days ago'},\n",
       " {'Title': 'Truck Driver: The American Dream - Release Date Announcement | PS5 Games',\n",
       "  'Number of views': '25K views',\n",
       "  'Time uploaded': '5 days ago'},\n",
       " {'Title': 'Koa and the Five Pirates of Mara - Launch Trailer | PS5 & PS4 Games',\n",
       "  'Number of views': '20K views',\n",
       "  'Time uploaded': '5 days ago'},\n",
       " {'Title': 'Nova Strike - Launch Trailer | PS5 Games',\n",
       "  'Number of views': '24K views',\n",
       "  'Time uploaded': '5 days ago'},\n",
       " {'Title': 'Double Dragon Gaiden: Rise of the Dragons - Launch Trailer | PS5 & PS4 Games',\n",
       "  'Number of views': '33K views',\n",
       "  'Time uploaded': '5 days ago'},\n",
       " {'Title': 'Daymare: 1994 Sandcastle - July 2023 Trailer | PS5 & PS4 Games',\n",
       "  'Number of views': '29K views',\n",
       "  'Time uploaded': '6 days ago'}]"
      ]
     },
     "execution_count": 3,
     "metadata": {},
     "output_type": "execute_result"
    }
   ],
   "source": [
    "from selenium import webdriver\n",
    "from selenium.webdriver.common.by import By\n",
    "\n",
    "url = 'https://www.youtube.com/c/PlayStation/videos'\n",
    "driver = webdriver.Chrome()\n",
    "driver.get(url)\n",
    "\n",
    "#class=\"style-scope ytd-grid-video-renderer\"\n",
    "#//*[@id=\"video-title\"]\n",
    "#//*[@id=\"metadata-line\"]/span[1]\n",
    "#//*[@id=\"metadata-line\"]/span[2]\n",
    "\n",
    "#video-title\n",
    "\n",
    "# waits maximum 10 seconds for element's presence \n",
    "# since video site takes longer to load\n",
    "driver.implicitly_wait(10) #10 second \n",
    "\n",
    "# videos = driver.find_elements(By.CLASS_NAME,'style-scope ytd-rich-grid-media')\n",
    "videos = driver.find_elements(By.TAG_NAME, 'ytd-rich-grid-media')\n",
    "\n",
    "newlist =[]\n",
    "for video in videos:\n",
    "    title = video.find_element(By.XPATH, './/*[@id=\"video-title\"]').text\n",
    "    views = video.find_element(By.XPATH, './/*[@id=\"metadata-line\"]/span[1]').text\n",
    "    time = video.find_element(By.XPATH, './/*[@id=\"metadata-line\"]/span[2]').text\n",
    "    #print(title,views,time)\n",
    "    vd = {\n",
    "        'Title':title,\n",
    "        'Number of views':views,\n",
    "        'Time uploaded':time\n",
    "    }\n",
    "    newlist.append(vd)\n",
    "\n",
    "newlist\n"
   ]
  },
  {
   "cell_type": "code",
   "execution_count": 4,
   "id": "0aa5f5a0",
   "metadata": {},
   "outputs": [
    {
     "data": {
      "text/plain": [
       "[{'Title': 'Minecraft - Teenage Mutant Ninja Turtles Launch Trailer | PS4 & PS VR Games',\n",
       "  'Number of views': '13K views',\n",
       "  'Time uploaded': '5 hours ago'},\n",
       " {'Title': 'Call of Duty: Modern Warfare II & Warzone - Season 05 BlackCell Battle Pass Upgrade | PS5 & PS4',\n",
       "  'Number of views': '24K views',\n",
       "  'Time uploaded': '6 hours ago'},\n",
       " {'Title': 'The Jackbox Party Pack 10 - Dodo Re Mi Reveal Trailer | PS5 & PS4 Games',\n",
       "  'Number of views': '19K views',\n",
       "  'Time uploaded': '8 hours ago'},\n",
       " {'Title': 'Pistol Whip - Overdrive: Majesty Available Now | PS VR2 Games',\n",
       "  'Number of views': '12K views',\n",
       "  'Time uploaded': '10 hours ago'},\n",
       " {'Title': 'Atlas Fallen - Lord of the Sands | PS5 Games',\n",
       "  'Number of views': '25K views',\n",
       "  'Time uploaded': '11 hours ago'},\n",
       " {'Title': 'Bad Dreams - Launch Trailer | PS4 & PSVR Games',\n",
       "  'Number of views': '26K views',\n",
       "  'Time uploaded': '11 hours ago'},\n",
       " {'Title': 'Tower of Fantasy - Pre-Order Exclusives | PS5 & PS4 Games',\n",
       "  'Number of views': '36K views',\n",
       "  'Time uploaded': '22 hours ago'},\n",
       " {'Title': 'Under the Waves - Pre-Order Launch Cinematic Trailer | PS5 & PS4 Games',\n",
       "  'Number of views': '64K views',\n",
       "  'Time uploaded': '1 day ago'},\n",
       " {'Title': 'Fate/Samurai Remnant - Second Trailer | PS5 & PS4 Games',\n",
       "  'Number of views': '61K views',\n",
       "  'Time uploaded': '1 day ago'},\n",
       " {'Title': 'Venba - Launch Trailer | PS5 Games',\n",
       "  'Number of views': '23K views',\n",
       "  'Time uploaded': '1 day ago'},\n",
       " {'Title': 'Side Bullet - Announce Trailer | PS5 Games',\n",
       "  'Number of views': '100K views',\n",
       "  'Time uploaded': '2 days ago'},\n",
       " {'Title': 'Final Fantasy XIV: Dawntrail - Teaser Trailer | PS5 & PS4 Games',\n",
       "  'Number of views': '125K views',\n",
       "  'Time uploaded': '4 days ago'},\n",
       " {'Title': 'Gori: Cuddly Carnage - Off Panel Trailer | PS5 & PS4 Games',\n",
       "  'Number of views': '30K views',\n",
       "  'Time uploaded': '4 days ago'},\n",
       " {'Title': 'Hot Wheels Unleashed 2 - Turbocharged - Fast & Furious Trailer | PS5 & PS4 Games',\n",
       "  'Number of views': '36K views',\n",
       "  'Time uploaded': '4 days ago'},\n",
       " {'Title': 'MLB The Show 23 - August Live Content Report | PS5 & PS4 Games',\n",
       "  'Number of views': '65K views',\n",
       "  'Time uploaded': '4 days ago'},\n",
       " {'Title': 'Demonic Supremacy - Launch Trailer | PS4 Games',\n",
       "  'Number of views': '30K views',\n",
       "  'Time uploaded': '4 days ago'},\n",
       " {'Title': 'Marvel’s Spider-Man 2 - San Diego Comic-Con Panel Full Length | PS5 Games',\n",
       "  'Number of views': '285K views',\n",
       "  'Time uploaded': '5 days ago'},\n",
       " {'Title': 'Call of Duty: Modern Warfare II & Warzone - Season 05 Launch Trailer | PS5 & PS4 Games',\n",
       "  'Number of views': '57K views',\n",
       "  'Time uploaded': '5 days ago'},\n",
       " {'Title': 'All Star Brawl 2 - Announce Trailer | PS5 & PS4 Games',\n",
       "  'Number of views': '60K views',\n",
       "  'Time uploaded': '5 days ago'},\n",
       " {'Title': 'Dreams - Tren Trailer | PS4 Games',\n",
       "  'Number of views': '58K views',\n",
       "  'Time uploaded': '5 days ago'},\n",
       " {'Title': 'F1 Manager 2023 - Launch Trailer | PS5 & PS4 Games',\n",
       "  'Number of views': '22K views',\n",
       "  'Time uploaded': '5 days ago'},\n",
       " {'Title': 'Assetto Corsa Competizione - 2023 GT World Challenge Pack Launch Trailer | PS5 Games',\n",
       "  'Number of views': '29K views',\n",
       "  'Time uploaded': '5 days ago'},\n",
       " {'Title': 'Disgaea 7: Vows of the Virtueless - New Features Trailer | PS5 & PS4 Games',\n",
       "  'Number of views': '20K views',\n",
       "  'Time uploaded': '5 days ago'},\n",
       " {'Title': 'Ad Infinitum - Pre-Order Trailer | PS5 Games',\n",
       "  'Number of views': '115K views',\n",
       "  'Time uploaded': '5 days ago'},\n",
       " {'Title': 'Venice 2089 - Launch Trailer | PS5 & PS4 Games',\n",
       "  'Number of views': '22K views',\n",
       "  'Time uploaded': '5 days ago'},\n",
       " {'Title': 'Truck Driver: The American Dream - Release Date Announcement | PS5 Games',\n",
       "  'Number of views': '25K views',\n",
       "  'Time uploaded': '5 days ago'},\n",
       " {'Title': 'Koa and the Five Pirates of Mara - Launch Trailer | PS5 & PS4 Games',\n",
       "  'Number of views': '20K views',\n",
       "  'Time uploaded': '5 days ago'},\n",
       " {'Title': 'Nova Strike - Launch Trailer | PS5 Games',\n",
       "  'Number of views': '24K views',\n",
       "  'Time uploaded': '5 days ago'},\n",
       " {'Title': 'Double Dragon Gaiden: Rise of the Dragons - Launch Trailer | PS5 & PS4 Games',\n",
       "  'Number of views': '33K views',\n",
       "  'Time uploaded': '5 days ago'},\n",
       " {'Title': 'Daymare: 1994 Sandcastle - July 2023 Trailer | PS5 & PS4 Games',\n",
       "  'Number of views': '29K views',\n",
       "  'Time uploaded': '6 days ago'}]"
      ]
     },
     "execution_count": 4,
     "metadata": {},
     "output_type": "execute_result"
    }
   ],
   "source": [
    "# You can also use CSS selector\n",
    "from selenium import webdriver\n",
    "from selenium.webdriver.common.by import By\n",
    "\n",
    "url = 'https://www.youtube.com/c/PlayStation/videos'\n",
    "driver = webdriver.Chrome()\n",
    "driver.get(url)\n",
    "\n",
    "#class=\"style-scope ytd-grid-video-renderer\"\n",
    "# CSS selector:\n",
    "#video-title\n",
    "#metadata-line > span:nth-child(3)\n",
    "#metadata-line > span:nth-child(4)\n",
    "\n",
    "# waits maximum 10 seconds for element's presence \n",
    "# since video site takes longer to load\n",
    "driver.implicitly_wait(10) #10 second \n",
    "\n",
    "# videos = driver.find_elements(By.CLASS_NAME,'style-scope ytd-rich-grid-media')\n",
    "videos = driver.find_elements(By.TAG_NAME, 'ytd-rich-grid-media')\n",
    "\n",
    "newlist =[]\n",
    "for video in videos:\n",
    "    title = video.find_element(By.CSS_SELECTOR, '#video-title').text\n",
    "    views = video.find_element(By.CSS_SELECTOR, '#metadata-line > span:nth-child(3)').text\n",
    "    time = video.find_element(By.CSS_SELECTOR, '#metadata-line > span:nth-child(4)').text\n",
    "    #print(title,views,time)\n",
    "    vd = {\n",
    "        'Title':title,\n",
    "        'Number of views':views,\n",
    "        'Time uploaded':time\n",
    "    }\n",
    "    newlist.append(vd)\n",
    "\n",
    "newlist\n"
   ]
  },
  {
   "cell_type": "markdown",
   "id": "54366854",
   "metadata": {},
   "source": [
    "#### Example 3\n",
    "Let's fetch the video information from the Youtube page of Drake."
   ]
  },
  {
   "cell_type": "code",
   "execution_count": 69,
   "id": "9c8427ab",
   "metadata": {},
   "outputs": [
    {
     "data": {
      "text/plain": [
       "[{'Title': 'Drake - Search & Rescue (Official Visualizer)',\n",
       "  'Number of views': '20M views',\n",
       "  'Time uploaded': '3 months ago'},\n",
       " {'Title': 'Drake, 21 Savage - Spin Bout U',\n",
       "  'Number of views': '32M views',\n",
       "  'Time uploaded': '5 months ago'},\n",
       " {'Title': 'Drake - Jumbotron Shit Poppin',\n",
       "  'Number of views': '14M views',\n",
       "  'Time uploaded': '6 months ago'},\n",
       " {'Title': 'Drake and 21 Savage - Rich Flex Her Loss Recap',\n",
       "  'Number of views': '28M views',\n",
       "  'Time uploaded': '8 months ago'},\n",
       " {'Title': 'Drake & 21 Savage - Privileged Rappers | A COLORS SHOW',\n",
       "  'Number of views': '14M views',\n",
       "  'Time uploaded': '8 months ago'},\n",
       " {'Title': 'Drake and 21 Savage performing “On BS” live on SNL',\n",
       "  'Number of views': '9.1M views',\n",
       "  'Time uploaded': '8 months ago'},\n",
       " {'Title': 'Drake - Middle of the Ocean (Audio)',\n",
       "  'Number of views': '6M views',\n",
       "  'Time uploaded': '8 months ago'},\n",
       " {'Title': 'Drake, 21 Savage - On BS (Audio)',\n",
       "  'Number of views': '12M views',\n",
       "  'Time uploaded': '8 months ago'},\n",
       " {'Title': 'Drake - BackOutsideBoyz (Audio)',\n",
       "  'Number of views': '6.3M views',\n",
       "  'Time uploaded': '8 months ago'},\n",
       " {'Title': 'Drake, 21 Savage - Spin Bout U (Audio)',\n",
       "  'Number of views': '26M views',\n",
       "  'Time uploaded': '8 months ago'},\n",
       " {'Title': 'Drake, 21 Savage - Hours In Silence (Audio)',\n",
       "  'Number of views': '11M views',\n",
       "  'Time uploaded': '8 months ago'},\n",
       " {'Title': 'Drake, 21 Savage - Rich Flex (Audio)',\n",
       "  'Number of views': '65M views',\n",
       "  'Time uploaded': '8 months ago'},\n",
       " {'Title': 'Drake - I Guess It’s Fuck Me (Audio)',\n",
       "  'Number of views': '1.5M views',\n",
       "  'Time uploaded': '8 months ago'},\n",
       " {'Title': 'Drake, 21 Savage - Pussy & Millions (Audio) ft. Travis Scott',\n",
       "  'Number of views': '4.3M views',\n",
       "  'Time uploaded': '8 months ago'},\n",
       " {'Title': 'Drake, 21 Savage - Privileged Rappers (Audio)',\n",
       "  'Number of views': '3.6M views',\n",
       "  'Time uploaded': '8 months ago'},\n",
       " {'Title': '21 Savage - 3AM on Glenwood (Audio)',\n",
       "  'Number of views': '870K views',\n",
       "  'Time uploaded': '8 months ago'},\n",
       " {'Title': 'Drake, 21 Savage - Major Distribution (Audio)',\n",
       "  'Number of views': '9.8M views',\n",
       "  'Time uploaded': '8 months ago'},\n",
       " {'Title': 'Drake, 21 Savage - Circo Loco (Audio)',\n",
       "  'Number of views': '11M views',\n",
       "  'Time uploaded': '8 months ago'},\n",
       " {'Title': 'Drake, 21 Savage - Broke Boys (Audio)',\n",
       "  'Number of views': '8.9M views',\n",
       "  'Time uploaded': '8 months ago'},\n",
       " {'Title': 'Drake, 21 Savage - Treacherous Twins (Audio)',\n",
       "  'Number of views': '5.8M views',\n",
       "  'Time uploaded': '8 months ago'},\n",
       " {'Title': 'Drake, 21 Savage - More M’s (Audio)',\n",
       "  'Number of views': '3.8M views',\n",
       "  'Time uploaded': '8 months ago'},\n",
       " {'Title': 'Drake - Jumbotron Shit Poppin (Audio)',\n",
       "  'Number of views': '3.8M views',\n",
       "  'Time uploaded': '8 months ago'},\n",
       " {'Title': 'Drake & 21 Savage - Jimmy Cooks',\n",
       "  'Number of views': '14M views',\n",
       "  'Time uploaded': '9 months ago'},\n",
       " {'Title': 'Drake - Sticky (Official Music Video)',\n",
       "  'Number of views': '31M views',\n",
       "  'Time uploaded': '11 months ago'},\n",
       " {'Title': 'Drake - Falling Back (Album Cut)',\n",
       "  'Number of views': '2.8M views',\n",
       "  'Time uploaded': '1 year ago'},\n",
       " {'Title': 'Drake - Tie That Binds',\n",
       "  'Number of views': '3.5M views',\n",
       "  'Time uploaded': '1 year ago'},\n",
       " {'Title': \"Drake - Flight's Booked\",\n",
       "  'Number of views': '6.2M views',\n",
       "  'Time uploaded': '1 year ago'},\n",
       " {'Title': 'Drake - Massive',\n",
       "  'Number of views': '22M views',\n",
       "  'Time uploaded': '1 year ago'},\n",
       " {'Title': 'Drake - Texts Go Green (Official Audio)',\n",
       "  'Number of views': '6.2M views',\n",
       "  'Time uploaded': '1 year ago'},\n",
       " {'Title': 'Drake - Liability',\n",
       "  'Number of views': '2.5M views',\n",
       "  'Time uploaded': '1 year ago'}]"
      ]
     },
     "execution_count": 69,
     "metadata": {},
     "output_type": "execute_result"
    }
   ],
   "source": [
    "from selenium import webdriver\n",
    "\n",
    "url = 'https://www.youtube.com/user/DrakeOfficial/videos'\n",
    "driver = webdriver.Chrome()\n",
    "driver.get(url)\n",
    "\n",
    "#class=\"style-scope ytd-grid-video-renderer\"\n",
    "#//*[@id=\"video-title\"]\n",
    "#//*[@id=\"metadata-line\"]/span[1]\n",
    "#//*[@id=\"metadata-line\"]/span[2]\n",
    "\n",
    "# waits maximum 10 seconds for element's presence \n",
    "# since video site takes longer to load\n",
    "driver.implicitly_wait(10) #10 second \n",
    "\n",
    "# videos = driver.find_elements(By.CLASS_NAME,'style-scope ytd-grid-video-renderer')\n",
    "videos = driver.find_elements(By.TAG_NAME, 'ytd-rich-item-renderer')\n",
    "\n",
    "newlist =[]\n",
    "for video in videos:\n",
    "    title = video.find_element(By.XPATH, './/*[@id=\"video-title\"]').text\n",
    "    views = video.find_element(By.XPATH, './/*[@id=\"metadata-line\"]/span[1]').text\n",
    "    time = video.find_element(By.XPATH, './/*[@id=\"metadata-line\"]/span[2]').text\n",
    "    #print(title,views,time)\n",
    "    vd = {\n",
    "        'Title':title,\n",
    "        'Number of views':views,\n",
    "        'Time uploaded':time\n",
    "    }\n",
    "    newlist.append(vd)\n",
    "\n",
    "newlist"
   ]
  },
  {
   "cell_type": "markdown",
   "id": "e646edbb",
   "metadata": {},
   "source": [
    "### Selenium Wait \n",
    "Deal with \"NoSuchElementException\"\n",
    "https://selenium-python.readthedocs.io/waits.html\n",
    "\n",
    "Implicit wait:\n",
    "- Makes WebDriver poll the page for a certain amount of time every time when trying to locate an element\n",
    "- This can be useful when certain elements on the webpage are not available immediately and need some time to load\n",
    "- driver.implicitly_wait(10)\n",
    "\n",
    "Explicit wait:\n",
    "- Makes the WebDriver wait for a certain, given condition to return a non-False value before proceeding further with execution\n",
    "- `presence_of_element_located(locator)`: checks whether there is at least one element present on the page matching a locator (see explanation below). If found, the condition returns the first matching element. It's from the `expected_conditions` class or `EC`. More details are included in the tutorial \"More_About_Selenium\".\n",
    "\n",
    "Synatx:\n",
    "\n",
    "```\n",
    "from selenium import webdriver\n",
    "from selenium.webdriver.common.by import By\n",
    "from selenium.webdriver.support.ui import WebDriverWait\n",
    "from selenium.webdriver.support import expected_conditions as EC\n",
    "\n",
    "driver = webdriver.Chrome()\n",
    "driver.get(\"http://somedomain.com/url_that_delays_loading\")\n",
    "try:\n",
    "    element = WebDriverWait(driver, 10).until(\n",
    "        EC.presence_of_element_located((By.ID, \"myDynamicElement\"))\n",
    "    )\n",
    "finally:\n",
    "    driver.quit()\n",
    "```"
   ]
  },
  {
   "cell_type": "code",
   "execution_count": 76,
   "id": "5e0d2576",
   "metadata": {},
   "outputs": [],
   "source": [
    "from selenium import webdriver\n",
    "from selenium.webdriver.common.by import By\n",
    "from selenium.webdriver.support.ui import WebDriverWait\n",
    "from selenium.webdriver.support import expected_conditions as EC\n",
    "from selenium.webdriver.common.keys import Keys\n",
    "from selenium.common.exceptions import TimeoutException\n",
    "import time\n",
    "\n",
    "\n",
    "driver = webdriver.Chrome()\n",
    "# Go to www.google.com\n",
    "driver.get(\"https://www.google.com\")\n",
    "\n",
    "try:\n",
    "    # Wait as long as required, or maximum of 5 sec for element to appear\n",
    "    # If successful, retrieves the element\n",
    "    element = WebDriverWait(driver,5).until(\n",
    "         EC.presence_of_element_located((By.NAME, \"q\"))) # <q> defines a short quotation\n",
    "\n",
    "    # Type \"selenium\"\n",
    "    element.send_keys(\"selenium\")\n",
    "    \n",
    "    #Type Enter\n",
    "    element.send_keys(Keys.ENTER)\n",
    "    # time.sleep(3)\n",
    "    # print(driver.page_source.encode('utf-8'))\n",
    "\n",
    "\n",
    "except TimeoutException:\n",
    "    print(\"Failed to load search bar at www.google.com\")\n",
    "    \n",
    "# The finally block will always be executed, no matter if the try block raises an error or not\n",
    "#finally:\n",
    "#    driver.quit() "
   ]
  },
  {
   "cell_type": "markdown",
   "id": "5b07dee2",
   "metadata": {},
   "source": [
    "### Ethical use of web scraping\n",
    "\n",
    "- Linkedin sued anonymous data scrapers:\n",
    "https://techcrunch.com/2016/08/15/linkedin-sues-scrapers/.\n",
    "\n",
    "- Screen the `robots.txt` document of websites before scraping. \n",
    "\n",
    "### Key principles for web scraping\n",
    "- **Get written permission**: The best way to avoid legal issues is to get written permission from a website’s owner covering which data you can scrape and to what extent. \n",
    "\n",
    "- **Check the terms of use**: These will often include explicit provisions against automated extraction of data. Oftentimes, a site’s API will come with its own terms of use regarding usage, which you should check as well.\n",
    "\n",
    "- **Public information only**: If a site exposes information publicly, without explicitly requiring acceptance of terms and conditions, moderated scraping is most likely fine. Sites that require you to log in is another story, however.\n",
    "\n",
    "- **Don’t cause damage**: Be nice when scraping! Don’t hammer websites with lots of requests, overloading their network and blocking them of normal usage. Stay away from protected computers, and do not try to access servers you’re not given access to.\n",
    "\n",
    "- **Copyright and fair use**: Copyright law seems to provide the strongest means for plaintiffs to argue their case. Check carefully whether your scraping case would fall under fair use, and do not use copyrighted works in commercial projects."
   ]
  }
 ],
 "metadata": {
  "kernelspec": {
   "display_name": "Python 3 (ipykernel)",
   "language": "python",
   "name": "python3"
  },
  "language_info": {
   "codemirror_mode": {
    "name": "ipython",
    "version": 3
   },
   "file_extension": ".py",
   "mimetype": "text/x-python",
   "name": "python",
   "nbconvert_exporter": "python",
   "pygments_lexer": "ipython3",
   "version": "3.11.1"
  }
 },
 "nbformat": 4,
 "nbformat_minor": 5
}
