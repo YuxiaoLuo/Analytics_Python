{
 "cells": [
  {
   "cell_type": "markdown",
   "id": "af9659f6",
   "metadata": {},
   "source": [
    "# HTML and CSS\n",
    "\n",
    "- HTML: Most web pages are formatted using the Hypertext Markup Language (HTML), we need to understand how to extract\n",
    "information from such pages.\n",
    "\n",
    "- CSS: Cascading Style Sheets (CSS) is used for format and stylize modern web pages.\n",
    "\n",
    "## HTML\n",
    "\n",
    "Remember what we extract from the webpage:\n",
    "\n",
    "```\n",
    "<!DOCTYPE html>\n",
    "<html class=\"client-nojs\" lang=\"en\" dir=\"ltr\">\n",
    "<head>\n",
    "<meta charset=\"UTF-8\"/>\n",
    "<title>List of Game of Thrones episodes - Wikipedia</title>\n",
    "[...]\n",
    "</html>\n"
   ]
  },
  {
   "cell_type": "markdown",
   "id": "da66249a",
   "metadata": {},
   "source": [
    "HTML provides the building blocks to provide structure and formatting to\n",
    "documents. This is provided by means of a series of “tags.” \n",
    "- HTML tags often come in pairs and are enclosed in angled brackets, with “`<tagname>`” being the opening tag and\n",
    "“`</tagname>`” indicating the closing tag. \n",
    "- Some tags come in an unpaired form, and do not require a closing tag.\n",
    "\n",
    "Let's look at some commonly used tags:\n",
    "\n",
    "- `<p>`...`</p>` to enclose a paragraph;\n",
    "\n",
    "- `<br>` to set a line break;\n",
    "\n",
    "- `<table>`...`</table>` to start a table block, inside; `<tr>`...`</tr>` is\n",
    "used for the rows; and `<td>`...`</td>` cells;\n",
    "\n",
    "- `<img>` for images;\n",
    "\n",
    "- `<h1>`...`</h1>` to `<h6>`...`</h6>` for headers;\n",
    "\n",
    "- `<div>`...`</div>` to indicate a “division” in an HTML document, basically used to group a set of elements;\n",
    "\n",
    "- `<a>`...`</a>` for hyperlinks;\n",
    "\n",
    "- `<ul>`...`</ul>`, `<ol>`...`</ol>` for unordered and ordered lists respectively; inside of these, `<li>`...`</li>` is used for each list item.\n",
    "\n",
    "-----------------------------\n",
    "A few things:\n",
    "\n",
    "1. Tags can be nested inside each other, so “`<div><p>Hello</p></div>`” is perfectly valid, though overlapping nestings such as “`<div><p>Oops</div></p>`” is not.\n",
    "\n",
    "2. Even though this isn’t proper HTML, every web browser will exert a lot of effort to still parse and render an HTML page as well as possible.\n",
    "\n",
    "3. HTML is messy. If web browsers have strict requirements on the web pages HTML code (like perfectlly formatted based on HTML standard), most websites would die. \n",
    "\n",
    "When you read HTML content:\n",
    "\n",
    "1. Tags that come in pairs have content. For instance, “`<a>click here</a>`” will render out “click here” as a hyperlink in your browser.\n",
    "\n",
    "2. Tags can also have attributes, which are put inside of the opening tag. “href” attribute indicates the web address of the link. \n",
    "“`<a href=“http://www.google.com”> click here </a>`” directs the user to Google’s home page.\n",
    "\n",
    "3. For image tag, the `src` attribute is used to indicate the URL of the image the browser should retrieve. Ex., “\n",
    "`<img src=“http://www.example.com/image.jpg”>`”. "
   ]
  },
  {
   "cell_type": "markdown",
   "id": "5d266e16",
   "metadata": {},
   "source": [
    "### Use browser as a development tool\n",
    "\n",
    "Assuming you use Google Chrome. \n",
    "\n",
    "- Navigate to https://en.wikipedia.org/w/index.php?title=List_of_Game_of_Thrones_episodes&oldid=802553687\n",
    "\n",
    "- Let's look at the underlying HTML of the page. \n",
    "    - Right-click on the page and press \"View source\" or `Control+U` in Chrome.\n",
    "    - A new page will open containing the raw HTML contents for the current page (the same content as what we got back using `r.text`);\n",
    "\n",
    "- Open up Chrome’s “Developer Tools.” To do so, either select the Chrome Menu at the top right of your browser window, then select “Tools,” “Developer Tools,” or press Control+Shift+I. Alternatively, you can also right-click on any page element and select “Inspect Element.” You will see a new window with a bunch of helpful tools for web scrapers.\n",
    "\n",
    "- Explore the Developer Tools pane. Yours might appear at the bottom of your browser window. If you prefer to have it on the right, find the menu with the three-dotted-colon icon (the tri-colon), and pick a different “Dock side.”\n",
    "\n",
    "Summary: \n",
    "\n",
    "- “Elements” and “Network” will come in most helpful.\n",
    "\n",
    "- Red “recording” icon in the toolbar indicates that Chrome is tracking network requests (if the icon is not lit, press it to start tracking).\n",
    "\n",
    "- Refresh the Wikipedia page and look at what happens in the Developer Tools pane: \n",
    "    - Chrome starts logging all requests it is making, starting with an HTTP request for the page itself at the top.\n",
    "    - Your web browser is also making lots of other requests to actually render the page, most of them to fetch image data (“Type: png”).\n",
    "    - By clicking a request, you can get more information about it. Click the “index.php” request at the top.\n",
    "        - Selecting a request opens another pane that provides a wealth of information that should already, look pretty familiar to you now that you’ve already worked with HTTP.\n",
    "        - For instance, select header, you will see info like, request URL, method (verb), and status code that was sent back by the server, as well as a full list of request and response headers.\n",
    "       \n",
    "----------------------------\n",
    "\n",
    "**Check boxes** in the Network tab that are noteworthy to mention:\n",
    "   - Enabling “Preserve log” will prevent Chrome from “cleaning up” the overview every time a new page request is performed. This can come in handy in case you want to track a series of actions when navigating a website\n",
    "   - “Disable cache” will prevent Chrome from using its “short-term memory.” \n",
    "       - HTTP 304 code will change to 200.\n",
    "       - An HTTP 304 not modified status code means that the request succeeds and the website you're requesting hasn't been updated since the last time you accessed it. Typically, your browser will save (or cache) web pages so it doesn't have to repeatedly download the same information. This is an attempt to speed up page delivery.\n",
    "   - Chrome will try to be smart and prevent performing a request if it still has the contents of a recent page around, though you can override this in case you want to force Chrome to actually perform every request.\n",
    "   \n",
    "------------------------------\n",
    "\n",
    "**Elements** tab in Chrome:\n",
    "\n",
    "- You can hover over the HTML tags in the Elements tab, and Chrome will show a transparent box over the corresponding visual representation on the web page itself. This can help you to quickly find the pieces of content you’re looking for.\n",
    "\n",
    "- Alternatively, you can right-click any element on a web page and press “Inspect element” to immediately highlight its corresponding HTML code in the Elements tab."
   ]
  },
  {
   "cell_type": "markdown",
   "id": "084d00da",
   "metadata": {},
   "source": [
    "#### Inspecting Elements versus View Source\n",
    "Why the “View source” option is useful to look at a page’s raw HTML source when we have a much user-friendlier alternative offered by the Elements tab.\n",
    "\n",
    "1. “View source” option shows the HTML code as it was returned by the web server, and it will contain the same contents as `r.text` when using requests.\n",
    "2. The view in the Elements tab, on the other hand, provides a “cleaned up” version after the HTML was parsed by your web browser. Overlapping tags are fixed and extra white space is removed, for instance.\n",
    "3. There might hence be small differences between these two views.\n",
    "\n",
    "4. The Elements tab provides a live and dynamic view and will reflect the current state of the page. \n",
    "    - websites can include scripts that are executed by the web browser and which can alter the contents of the page at will. \n",
    "    - These scripts are written in a programming language called JavaScript and can be found inside `<script>...</script>` tags in HTML.\n",
    "    \n",
    "---------------------------\n",
    "\n",
    "#### A few other things:\n",
    "\n",
    "- Next, note that any HTML element in the Elements tab can be right-clicked.\n",
    "    - “Copy, Copy selector” and “Copy XPath” are particularly useful, which we’re going to use quite often later on.\n",
    "    \n",
    "- You can edit the HTML code in real time (the web page will update itself to reflect your edits). \n",
    "    - These changes are only local. They don’t do anything on the web server itself and will be gone once you refresh the page, though it can be a fun way to experiment with HTML."
   ]
  },
  {
   "cell_type": "markdown",
   "id": "e7ec1fc7",
   "metadata": {},
   "source": [
    "## Cascading Style Sheets: CSS\n",
    "\n",
    "### Difference between HTML & CSS\n",
    "The structure and formatting of documents basically relate to two different concerns. Then,\n",
    "- HTML is used to define the general structure and semantics of a document\n",
    "- CSS will govern how a document should be styled, or, what it should look like.\n",
    "\n",
    "The CSS language looks somewhat different from HTML. In CSS, style information is written down \n",
    "   - as a list of colon-separated key-value based statements\n",
    "   - with each statement itself being separated by a semicolon, as follows:\n",
    "\n",
    "``` \n",
    "color: 'red';\n",
    "background-color: #ccc;\n",
    "font-size: 14pt;\n",
    "border: 2px solid yellow;\n",
    "\n"
   ]
  },
  {
   "cell_type": "markdown",
   "id": "68816414",
   "metadata": {},
   "source": [
    "### How CSS are included in the website document\n",
    "\n",
    "These style declarations can be included in a document in 3 different ways:\n",
    "\n",
    "- Inside a regular HTML “style” attribute, for instance as in: `<p style=\"color:'red';\">...</p>`\n",
    "\n",
    "- Inside of HTML `<style>...</style>` tags, placed in inside the `<head>` tag of a page.\n",
    "\n",
    "- Inside a separate file, which is then referred to by means of a `<link>` tag inside the `<head>` tag of a page. This is the cleanest way of working. \n",
    "    - When loading a web page, your browser will perform an additional HTTP request to download this CSS file and apply its defined styles to the document."
   ]
  },
  {
   "cell_type": "markdown",
   "id": "91e92229",
   "metadata": {},
   "source": [
    "When style declaratoins are placed inside a \"style\" attribute, it is clear to which element the declaration should be applied: the HTML tag itself. There is another way of defining style declaration inside curly brackets to group them, and putting a \"CSS selector\" at the beginning of each group. \n",
    "\n",
    "```\n",
    "\n",
    "h1{\n",
    "  color: red;\n",
    "}\n",
    "div.box{\n",
    "  border: 1px solid black;\n",
    "}\n",
    "#intro-pragraph{\n",
    "  font-weight: bold;\n",
    "}\n",
    "\n",
    "```"
   ]
  },
  {
   "cell_type": "markdown",
   "id": "c9770957",
   "metadata": {},
   "source": [
    "### CSS selector\n",
    "\n",
    "CSS selector define the patterns used to \"select\" the HTML elements you want to style. ([Details](https://www.w3schools.com/cssref/trysel.asp?selector=ul%20~%20table))\n",
    "\n",
    "\n",
    "Here is a full reference:\n",
    "- `tagname` selects all elements with a particular tag name. Ex., \"h1\" simply matches with all \"\\<h1\\>\" tags on a page.\n",
    "- `.classname` selects all elements having a particular class defined in the HTML document. This is where the \"class\" attribute comes in. \n",
    "    - For instance, `.intro` will match with both \"\\<p class=\"intro\"\\>\" and \"\\<h1 class=\"intro\"\\>\". Note that HTML elements can have multiple classes, for example, \"\\<p class=\"intro highlight\"\\>\".\n",
    "- `#idname` matches elements based on their “id” attribute. Contrary to classes, proper HTML documents should ensure that each “id” is unique and only given to one element only (though don’t be surprised if some particularly messy HTML page breaks this convention and used the same id value multiple times).\n",
    "- These selectors can be combined in all sorts of ways. div.box,\n",
    "for instance, selects all “\\<div class=”box”\\> tags, but not “\\<div class=”circle”\\>” tags.\n",
    "- Multiple selector rules can be specified by using a comma, “,”, for example, h1, h2, h3.\n",
    "- `selector1` `selector2` defines a chaining rule (note the space) and selects all elements matching selector2 inside of elements matching selector1. Note that it is possible to chain more than two selectors together.\n",
    "- `selector1` > `selector2` selects all elements matching selector2 where the parent element matches selector1. Note the subtle difference here with the previous line. A “parent” element refers to the “direct parent.” For instance, `div` \\> `span` will not match with the span element inside “`<div><p><span></span></p></div>`” (as the parent element of `span` here is a \"\\<p>\" tag), whereas `div span` will.\n",
    "- `selector1` + `selector2` selects all elements matching `selector2` that are placed directly after (i.e., on the same level in the HTML hierarchy) elements matching `selector1`.\n",
    "- `selector1` ~ `selector2` selects all elements matching `selector2` that are placed after (on the same level in the HTML hierarchy) `selector1`. Again, there’s a subtle difference here with the previous rule: the precedence here does not need to be “direct”: there can be other tags in between.\n",
    "- It is also possible to add more fine-tuned selection rules based on attributes of elements.tagname\\[attributename\\] selects all tagname elements where an attribute named attributename is present. \n",
    "    - Note that the tag selector is optional, and simply writing \\[title\\] selects all elements with a “title” attribute.\n",
    "- The attribute selector can be further refined. \\[attributename=value\\]\n",
    "checks the actual value of an attribute as well. If you want to include\n",
    "spaces, wrap the value in double quotes.\n",
    "- \\[attributename~=value\\] does something similar, but instead of performing an exact value comparison, here all elements are selected whose attributename attribute’s value is a space-separated list of words, one of them being equal to value.\n",
    "- \\[attributename|=value\\] selects all elements whose attributename attribute’s value is a space-separated list of words, with any of them being equal to “value” or starting with “value” and followed by a hypen (“-”).\n",
    "- \\[attributename^=value\\] selects all elements whose attribute value starts with the provided value. \n",
    "    - If you want to include spaces, wrap the value in double quotes.\n",
    "- \\[attributename$=value\\] selects all elements whose attribute value ends with the provided value. \n",
    "    - If you want to include spaces, wrap the value in double quotes.\n",
    "- \\[attributename*=value\\] selects all elements whose attribute value contains the provided value. \n",
    "    - If you want to include spaces, wrap the value in double quotes.\n",
    "- Finally, there are a number of “colon” and “double-colon” “pseudo-classes” that can be used in a selector rule as well. p:first-child selects every “\\<p\\>” tag that is the first child of its parent element, and `p:last-child` and `p:nth-child(10)` provide similar functionality.\n",
    "\n",
    "\n",
    "### Retrieve HTML elements using CSS selector\n",
    "\n",
    "Next thing is try to play around with a webpage using the Chrome's Developer Tools and find instances of the \"class\" attribute. The CSS resource of the page is referenced through a `<link>` tag (note that pages can load multiple CSS files as well):\n",
    "\n",
    "`<link rel=\"stylesheet\" href=\"/w/load.php?[...];skin=vector\">`\n",
    "\n",
    "- The same CSS selector syntax can be used to quickly find and retrieve elements from an HTML page using Python. \n",
    "\n",
    "- Try right-clicking some HTML elements in the Elements tab of Chrome’s Developer Tools pane and press “Copy, Copy selector.” You will obtain a CSS selector. Ex., the following selector can fetch a table on the page: \n",
    "    - `#mw-content-text > div > table:nth-child(9).`\n",
    "    - Or: “inside the element with id “mw-content-text,” get the child “div” element, and get the 9th “table” child element.”\n",
    "    \n",
    "Practice: \n",
    "`#mw-content-text > div.mw-parser-output > table:nth-child(24)`"
   ]
  },
  {
   "cell_type": "markdown",
   "id": "01affeeb",
   "metadata": {},
   "source": [
    "### Exercise\n",
    "\n",
    "Find the CSS selector to scrape the image of the Seal of Baruch College on the Baruch College Wikipedia page: https://en.wikipedia.org/wiki/Baruch_College.\n",
    "\n",
    "\n",
    "This is what I found: #mw-content-text > div.mw-parser-output > table.infobox.vcard > tbody > tr:nth-child(1) > td > span > a > img"
   ]
  },
  {
   "cell_type": "markdown",
   "id": "ece63b4a",
   "metadata": {},
   "source": [
    "## BeautifulSoup Package\n",
    "\n",
    "A Python library for pulling data out of HTML and XML files. Beautiful Soup tries to organize complexity: it helps to parse, structure and organize the messy web by fixing bad HTML and presenting us with an easy-to-work-with Python structure.\n",
    "\n",
    "How to install `beautifulsoup` in Python\n",
    "\n",
    "- pip install -U beautifulsoup4\n",
    "\n",
    "- conda install beautifulsoup4\n"
   ]
  },
  {
   "cell_type": "code",
   "execution_count": 233,
   "id": "34d85b32",
   "metadata": {},
   "outputs": [],
   "source": [
    "# run multiple outputs\n",
    "from IPython.core.interactiveshell import InteractiveShell\n",
    "InteractiveShell.ast_node_interactivity = \"all\""
   ]
  },
  {
   "cell_type": "code",
   "execution_count": 125,
   "id": "b3865420",
   "metadata": {},
   "outputs": [],
   "source": [
    "import requests\n",
    "\n",
    "url = 'https://en.wikipedia.org/w/index.php?title=List_of_Game_of_Thrones_episodes&oldid=802553687'\n",
    "#url = 'http://faculty.baruch.cuny.edu/nkumar/pytest/page.htm'\n",
    "r = requests.get(url)\n",
    "\n",
    "# html content from the page\n",
    "html_contents = r.text"
   ]
  },
  {
   "cell_type": "code",
   "execution_count": 7,
   "id": "dde0d787",
   "metadata": {
    "scrolled": true
   },
   "outputs": [],
   "source": [
    "# official document of BeautifulSoup class\n",
    "# help(BeautifulSoup)"
   ]
  },
  {
   "cell_type": "code",
   "execution_count": 126,
   "id": "87863083",
   "metadata": {
    "scrolled": true
   },
   "outputs": [
    {
     "data": {
      "text/plain": [
       "bs4.BeautifulSoup"
      ]
     },
     "execution_count": 126,
     "metadata": {},
     "output_type": "execute_result"
    }
   ],
   "source": [
    "from bs4 import BeautifulSoup\n",
    "\n",
    "#create a beautiful soup object\n",
    "html_soup = BeautifulSoup(html_contents)\n",
    "\n",
    "# type(html_soup)\n",
    "\n",
    "# If error code comes up, try the code below\n",
    "html_soup = BeautifulSoup(html_contents, 'html.parser')\n",
    "\n",
    "type(html_soup)"
   ]
  },
  {
   "cell_type": "code",
   "execution_count": 127,
   "id": "ea0aa794",
   "metadata": {},
   "outputs": [],
   "source": [
    "# parsed html content\n",
    "# print(html_contents)"
   ]
  },
  {
   "cell_type": "code",
   "execution_count": 128,
   "id": "5ecb4f18",
   "metadata": {},
   "outputs": [
    {
     "name": "stdout",
     "output_type": "stream",
     "text": [
      "<title>List of Game of Thrones episodes - Wikipedia</title>\n"
     ]
    }
   ],
   "source": [
    "# get website title\n",
    "print(html_soup.title)"
   ]
  },
  {
   "cell_type": "code",
   "execution_count": 11,
   "id": "2f8b0151",
   "metadata": {},
   "outputs": [],
   "source": [
    "# get website text\n",
    "# print(html_soup.get_text())\n",
    "# print(html_soup.text)"
   ]
  },
  {
   "cell_type": "markdown",
   "id": "d5d91b0e",
   "metadata": {},
   "source": [
    "### HTML parser\n",
    "\n",
    "The reason why we use `BeautifulSoup(html_contents, \"html.parser\")` is that the Beautiful Soup Library itself depends on an HTML parser to perform most of the bulk parsing work. In Python, there are multiple existing parsers:\n",
    "\n",
    "- “html.parser”: a built-in Python parser that is decent (especially when using recent versions of Python 3) and requires no extra installation.\n",
    "\n",
    "- \"lxml”: which is very fast but requires an extra installation.\n",
    "\n",
    "- “html5lib”: which aims to parse web page in exactly the same way as a web browser does, but is a bit slower.\n",
    "\n",
    "Since there are small differences between these parsers, Beautiful Soup warns you if\n",
    "you don’t explicitly provide one, this might cause your code to behave slightly different\n",
    "when executing the same script on different machines. To solve this, we simply specify a\n",
    "parser ourselves: `html_soup = BeautifulSoup(html_contents, 'html.parser')`"
   ]
  },
  {
   "cell_type": "markdown",
   "id": "185d3e56",
   "metadata": {},
   "source": [
    "Beautiful Soup’s main task is to take HTML content and transform it into a tree-based representation. Once you’ve created a BeautifulSoup object, there are two methods you’ll be using to fetch data from the page:\n",
    "- `find(name, attrs, recursive, string, **keywords)`\n",
    "- `find_all(name, attrs, recursive, string, limit, **keywords)`\n",
    "\n",
    "Both methods look very similar indeed, with the exception that `find_all` takes an\n",
    "extra limit argument.\n",
    "\n",
    "- The `name` argument defines the tag names you wish to “find” on the page. You can pass a string, or a list of tags. Leaving this argument as an empty string simply selects all elements.\n",
    "\n",
    "- The `attrs` argument takes a Python dictionary of attributes and matches HTML elements that match those attributes.\n",
    "\n",
    "- The `recursive` argument is a Boolean and governs the depth of the search. If set to True — the default value, the find and find_all methods will look into children, children’s children, and so on... for elements that match your query. If it is False, it will only look at direct child elements.\n",
    "\n",
    "- The `string` argument is used to perform matching based on the text content of elements.\n",
    "\n",
    "- The `limit` argument is only used in the find_all method and can be used to limit the number of elements that are retrieved. \n",
    "\n",
    "    - `find` is functionally equivalent to calling `find_all` with the limit set to 1\n",
    "        - the former returns the retrieved element directly\n",
    "        - the latter will always return a list of items, even if it just contains a single element. \n",
    "    - when `find_all` cannot find anything, it returns an empty list, whereas if `find` cannot find anything, it returns `None`.\n",
    "\n",
    "- `**keywords` is kind of a special case. Basically, this part of the method signature indicates that you can add in as many extra named arguments as you like, which will then simply be used as attribute filters. \n",
    "    - Writing `find(id='myid')` is hence the same as `find(attrs={'id': 'myid'})`. \n",
    "    - If you define both the attrs argument and extra keywords, all of these will be used together as filters. \n",
    "    - This functionality is mainly offered as a convenience in order to write easier-to-read code.\n",
    "    - Caveats:\n",
    "        - You cannot use class as a keyword, as this is a reserved Python keyword\n",
    "            - Workaround in Beautiful Soup. Use `“find(class_='myclass')”`. Or the original way: `find({'class':'myclass'})`.\n",
    "        - However, `name` is used as the first argument name for these 2 functions. You need to use `attrs` if you want to filter based on the \"name\" HTML attribute."
   ]
  },
  {
   "cell_type": "markdown",
   "id": "971bf4a5",
   "metadata": {},
   "source": [
    "#### What you can do with `find` and `find_all`\n",
    "They return `Tag` objects and there are many things you can do with the `Tag` object.\n",
    "\n",
    "- Access the `name` attribute to retrieve the tag name.\n",
    "\n",
    "- Access the `contents` attribute to get a Python list containing the tag’s bchildren (its direct descendant tags) as a list.\n",
    "\n",
    "- The `children` attribute does the same but provides an iterator instead; the `descendants` attribute also returns an iterator, now including all the tag’s descendants in a recursive manner. These attributes are used when you call `find` and `find_all`.\n",
    "\n",
    "- Similarly, you can also go “up” the HTML tree by using the parent and parents attributes. \n",
    "    - To go sideways (i.e., find next and previous elements at the same level in the hierarchy), `next_sibling`, `previous_sibling` and `next_siblings`, and `previous_siblings` can be used.\n",
    "\n",
    "- Converting the `Tag` object to a string shows both the tag and its HTML content as a string. This is what happens if you call print out the `Tag` object, for instance, or wrap such an object in the `str` function.\n",
    "\n",
    "- Access the attributes of the element:\n",
    "    - through the `attrs` attribute of the `Tag` object. E.g., `first_h1.attrs['id']`\n",
    "    - you can also directly use the `Tag` object itself as a dictionary. E.g., `first_h1['id']`\n",
    "    - uses `.get('Tag')` to acess the attribute. E.g., `first_h1.get('id')`\n",
    "\n",
    "\n",
    "- Use the `text` attribute to get the contents of the `Tag` object as clear text (remove HTML tags).\n",
    "    - `get_text(strip = True)` does the same thing.\n",
    "    - You can also specify a string to be used to join the bits of text enclosed in the element together, ex., `get_text('***')`.\n",
    "- If a tag has only one child and that child is text, you can use the `string` attribute to get the textual content. \n",
    "    - If a tag contains other HTML tags nested within, `string` will return `None` whereas `text` can recursively fetch all the text.\n",
    "    \n",
    "- Last, not all `find` and `find_all` searches need to start from the BeautifulSoup objects. Every Tag object itself can be used as a new root from which new searches can be started. "
   ]
  },
  {
   "cell_type": "code",
   "execution_count": 25,
   "id": "6920516c",
   "metadata": {
    "scrolled": true
   },
   "outputs": [],
   "source": [
    "# html_soup"
   ]
  },
  {
   "cell_type": "code",
   "execution_count": 129,
   "id": "a848a205",
   "metadata": {},
   "outputs": [
    {
     "name": "stdout",
     "output_type": "stream",
     "text": [
      "<h1 class=\"firstHeading mw-first-heading\" id=\"firstHeading\">List of <i>Game of Thrones</i> episodes</h1>\n"
     ]
    }
   ],
   "source": [
    "# find firsting heading tag\n",
    "first_h1 = html_soup.find('h1')\n",
    "\n",
    "str(first_h1)\n",
    "\n",
    "print(first_h1)"
   ]
  },
  {
   "cell_type": "code",
   "execution_count": 130,
   "id": "f95ac5b6",
   "metadata": {},
   "outputs": [
    {
     "data": {
      "text/plain": [
       "<h1 class=\"firstHeading mw-first-heading\" id=\"firstHeading\">List of <i>Game of Thrones</i> episodes</h1>"
      ]
     },
     "execution_count": 130,
     "metadata": {},
     "output_type": "execute_result"
    }
   ],
   "source": [
    "# find() can be used on tag object directly \n",
    "html_soup.find('body').find('h1')"
   ]
  },
  {
   "cell_type": "code",
   "execution_count": 131,
   "id": "c794044d",
   "metadata": {},
   "outputs": [
    {
     "name": "stdout",
     "output_type": "stream",
     "text": [
      "[<h2 class=\"vector-pinnable-header-label\">Contents</h2>, <h2><span class=\"mw-headline\" id=\"Series_overview\">Series overview</span></h2>, <h2><span class=\"mw-headline\" id=\"Episodes\">Episodes</span></h2>, <h2><span class=\"mw-headline\" id=\"Home_media_releases\">Home media releases</span></h2>, <h2><span class=\"mw-headline\" id=\"Ratings\">Ratings</span></h2>, <h2><span class=\"mw-headline\" id=\"References\">References</span></h2>, <h2><span class=\"mw-headline\" id=\"External_links\">External links</span></h2>]\n"
     ]
    }
   ],
   "source": [
    "# find_all()  \n",
    "first_h2 = html_soup.find_all('h2')\n",
    "print(first_h2)"
   ]
  },
  {
   "cell_type": "code",
   "execution_count": 132,
   "id": "6358be27",
   "metadata": {},
   "outputs": [
    {
     "data": {
      "text/plain": [
       "[<h2 class=\"vector-pinnable-header-label\">Contents</h2>,\n",
       " <h2><span class=\"mw-headline\" id=\"Series_overview\">Series overview</span></h2>,\n",
       " <h2><span class=\"mw-headline\" id=\"Episodes\">Episodes</span></h2>,\n",
       " <h2><span class=\"mw-headline\" id=\"Home_media_releases\">Home media releases</span></h2>,\n",
       " <h2><span class=\"mw-headline\" id=\"Ratings\">Ratings</span></h2>,\n",
       " <h2><span class=\"mw-headline\" id=\"References\">References</span></h2>,\n",
       " <h2><span class=\"mw-headline\" id=\"External_links\">External links</span></h2>]"
      ]
     },
     "execution_count": 132,
     "metadata": {},
     "output_type": "execute_result"
    }
   ],
   "source": [
    "first_h2 = html_soup.find_all(name = 'h2')\n",
    "first_h2                            "
   ]
  },
  {
   "cell_type": "code",
   "execution_count": 133,
   "id": "4893ec44",
   "metadata": {},
   "outputs": [
    {
     "data": {
      "text/plain": [
       "[<h2 class=\"vector-pinnable-header-label\">Contents</h2>]"
      ]
     },
     "execution_count": 133,
     "metadata": {},
     "output_type": "execute_result"
    }
   ],
   "source": [
    "html_soup.find_all(name = 'h2', attrs = {'class':'vector-pinnable-header-label'})"
   ]
  },
  {
   "cell_type": "code",
   "execution_count": 134,
   "id": "287167ca",
   "metadata": {},
   "outputs": [
    {
     "name": "stdout",
     "output_type": "stream",
     "text": [
      "[<span class=\"mw-headline\" id=\"Series_overview\">Series overview</span>]\n"
     ]
    }
   ],
   "source": [
    "# using attrs argument\n",
    "first_h2 = html_soup.find_all(name = 'span', attrs = {'id':'Series_overview'})\n",
    "print(first_h2)"
   ]
  },
  {
   "cell_type": "code",
   "execution_count": 135,
   "id": "c0f9eb68",
   "metadata": {},
   "outputs": [
    {
     "data": {
      "text/plain": [
       "<h1 class=\"firstHeading mw-first-heading\" id=\"firstHeading\">List of <i>Game of Thrones</i> episodes</h1>"
      ]
     },
     "execution_count": 135,
     "metadata": {},
     "output_type": "execute_result"
    }
   ],
   "source": [
    "first_h1"
   ]
  },
  {
   "cell_type": "code",
   "execution_count": 136,
   "id": "4c95c8c9",
   "metadata": {
    "scrolled": true
   },
   "outputs": [
    {
     "name": "stdout",
     "output_type": "stream",
     "text": [
      "h1\n",
      "['List of ', <i>Game of Thrones</i>, ' episodes']\n",
      "{'id': 'firstHeading', 'class': ['firstHeading', 'mw-first-heading']}\n"
     ]
    }
   ],
   "source": [
    "# methods for the h1 object\n",
    "\n",
    "# tag name \n",
    "print(first_h1.name)\n",
    "\n",
    "# contents between HTML tags\n",
    "print(first_h1.contents)\n",
    "\n",
    "# attributes\n",
    "print(first_h1.attrs)"
   ]
  },
  {
   "cell_type": "code",
   "execution_count": 137,
   "id": "a8b9773c",
   "metadata": {},
   "outputs": [
    {
     "name": "stdout",
     "output_type": "stream",
     "text": [
      "firstHeading\n",
      "firstHeading\n"
     ]
    }
   ],
   "source": [
    "# tag object\n",
    "# Official documentation: https://www.crummy.com/software/BeautifulSoup/bs4/doc/\n",
    "type(first_h1)\n",
    "\n",
    "# extract attrs\n",
    "# treat tag object as a dict\n",
    "print(first_h1.attrs['id'])\n",
    "# use get method for tag object\n",
    "print(first_h1.get('id'))"
   ]
  },
  {
   "cell_type": "code",
   "execution_count": 138,
   "id": "2b259d67",
   "metadata": {},
   "outputs": [
    {
     "name": "stdout",
     "output_type": "stream",
     "text": [
      "['firstHeading', 'mw-first-heading']\n",
      "firstHeading\n"
     ]
    }
   ],
   "source": [
    "# use Tag object itself as dictionary\n",
    "print(first_h1['class'])\n",
    "print(first_h1['id'])"
   ]
  },
  {
   "cell_type": "code",
   "execution_count": 139,
   "id": "257cd3f6",
   "metadata": {},
   "outputs": [
    {
     "name": "stdout",
     "output_type": "stream",
     "text": [
      "<a class=\"mw-jump-link\" href=\"#bodyContent\">Jump to content</a>\n",
      "\n",
      "\n",
      "<b>This is an <a href=\"/wiki/Help:Page_history\" title=\"Help:Page history\">old revision</a> of this page, as edited by <span id=\"mw-revision-name\"><a class=\"mw-userlink\" data-mw-revid=\"802553687\" href=\"/wiki/User:Alex_21\" title=\"User:Alex 21\"><bdi>Alex 21</bdi></a> <span class=\"mw-usertoollinks\">(<a class=\"mw-usertoollinks-talk\" href=\"/wiki/User_talk:Alex_21\" title=\"User talk:Alex 21\">talk</a> | <a class=\"mw-usertoollinks-contribs\" href=\"/wiki/Special:Contributions/Alex_21\" title=\"Special:Contributions/Alex 21\">contribs</a>)</span></span> at <span id=\"mw-revision-date\">22:27, 26 September 2017</span><span id=\"mw-revision-summary\"> <span class=\"comment\">(Work on article at <a class=\"mw-redirect\" href=\"/wiki/Draft:Game_of_Thrones_(season_8)\" title=\"Draft:Game of Thrones (season 8)\">Draft:Game of Thrones (season 8)</a>)</span></span>. The present address (URL) is a <a href=\"/wiki/Help:Permanent_link\" title=\"Help:Permanent link\">permanent link</a> to this revision, which may differ significantly from the <span class=\"plainlinks\"><a class=\"external text\" href=\"https://en.wikipedia.org/wiki/List_of_Game_of_Thrones_episodes\">current revision</a></span>.</b>\n",
      "\n",
      "\n",
      "This is an old revision of this page, as edited by Alex 21 (talk | contribs) at 22:27, 26 September 2017 (Work on article at Draft:Game of Thrones (season 8)). The present address (URL) is a permanent link to this revision, which may differ significantly from the current revision.\n",
      "This is an old revision of this page, as edited by Alex 21 (talk | contribs) at 22:27, 26 September 2017 (Work on article at Draft:Game of Thrones (season 8)). The present address (URL) is a permanent link to this revision, which may differ significantly from the current revision.\n"
     ]
    }
   ],
   "source": [
    "#find and find_all methods\n",
    "\n",
    "#syntax:\n",
    "#find(name, attrs, recursive, string, **keywords)\n",
    "\n",
    "#find first <a> tag (hyperlink)\n",
    "html_soup.find('a')\n",
    "\n",
    "print(html_soup.a)\n",
    "\n",
    "print('\\n')\n",
    "\n",
    "#find first <b> tag (bold text) beneath <body> tag\n",
    "html_soup.body.b\n",
    "print(html_soup.find('body').find('b'))\n",
    "\n",
    "print('\\n')\n",
    "\n",
    "print(html_soup.find('body').find('b').text)\n",
    "# alternative to get text\n",
    "print(html_soup.find('body').find('b').get_text())"
   ]
  },
  {
   "cell_type": "code",
   "execution_count": 140,
   "id": "08ec761d",
   "metadata": {},
   "outputs": [
    {
     "name": "stdout",
     "output_type": "stream",
     "text": [
      "<p><b>This is an <a href=\"/wiki/Help:Page_history\" title=\"Help:Page history\">old revision</a> of this page, as edited by <span id=\"mw-revision-name\"><a class=\"mw-userlink\" data-mw-revid=\"802553687\" href=\"/wiki/User:Alex_21\" title=\"User:Alex 21\"><bdi>Alex 21</bdi></a> <span class=\"mw-usertoollinks\">(<a class=\"mw-usertoollinks-talk\" href=\"/wiki/User_talk:Alex_21\" title=\"User talk:Alex 21\">talk</a> | <a class=\"mw-usertoollinks-contribs\" href=\"/wiki/Special:Contributions/Alex_21\" title=\"Special:Contributions/Alex 21\">contribs</a>)</span></span> at <span id=\"mw-revision-date\">22:27, 26 September 2017</span><span id=\"mw-revision-summary\"> <span class=\"comment\">(Work on article at <a class=\"mw-redirect\" href=\"/wiki/Draft:Game_of_Thrones_(season_8)\" title=\"Draft:Game of Thrones (season 8)\">Draft:Game of Thrones (season 8)</a>)</span></span>. The present address (URL) is a <a href=\"/wiki/Help:Permanent_link\" title=\"Help:Permanent link\">permanent link</a> to this revision, which may differ significantly from the <span class=\"plainlinks\"><a class=\"external text\" href=\"https://en.wikipedia.org/wiki/List_of_Game_of_Thrones_episodes\">current revision</a></span>.</b></p>\n"
     ]
    },
    {
     "data": {
      "text/plain": [
       "'This is an old revision of this page, as edited by Alex 21 (talk | contribs) at 22:27, 26 September 2017 (Work on article at Draft:Game of Thrones (season 8)). The present address (URL) is a permanent link to this revision, which may differ significantly from the current revision.'"
      ]
     },
     "execution_count": 140,
     "metadata": {},
     "output_type": "execute_result"
    }
   ],
   "source": [
    "#find first <p> tag (paragraph)\n",
    "print(html_soup.p)\n",
    "html_soup.find('p')\n",
    "html_soup.find('p').text"
   ]
  },
  {
   "cell_type": "code",
   "execution_count": 141,
   "id": "fe2f04e9",
   "metadata": {},
   "outputs": [
    {
     "name": "stdout",
     "output_type": "stream",
     "text": [
      "List of Game of Thrones episodes\n",
      "List of Game of Thrones episodes\n"
     ]
    }
   ],
   "source": [
    "# rendered text\n",
    "print(first_h1.text)\n",
    "# rendered text\n",
    "print(first_h1.get_text())"
   ]
  },
  {
   "cell_type": "code",
   "execution_count": 142,
   "id": "bd2b57fe",
   "metadata": {},
   "outputs": [
    {
     "name": "stdout",
     "output_type": "stream",
     "text": [
      "None\n"
     ]
    }
   ],
   "source": [
    "# you can try to match certain string in the content \n",
    "# here no text 'jupyter notebook' exists\n",
    "print(html_soup.find(string = 'jupyter notebook'))"
   ]
  },
  {
   "cell_type": "code",
   "execution_count": 143,
   "id": "f8a84274",
   "metadata": {},
   "outputs": [
    {
     "name": "stdout",
     "output_type": "stream",
     "text": [
      "The Dragon and the Wolf\n"
     ]
    }
   ],
   "source": [
    "# the text 'The Dragon and the Wolf' exists \n",
    "print(html_soup.find(string = \"The Dragon and the Wolf\"))"
   ]
  },
  {
   "cell_type": "code",
   "execution_count": 144,
   "id": "9b46ec51",
   "metadata": {},
   "outputs": [
    {
     "data": {
      "text/plain": [
       "[<a class=\"mw-jump-link\" href=\"#bodyContent\">Jump to content</a>,\n",
       " <a accesskey=\"z\" href=\"/wiki/Main_Page\" title=\"Visit the main page [z]\"><span>Main page</span></a>,\n",
       " <a href=\"/wiki/Wikipedia:Contents\" title=\"Guides to browsing Wikipedia\"><span>Contents</span></a>,\n",
       " <a href=\"/wiki/Portal:Current_events\" title=\"Articles related to current events\"><span>Current events</span></a>,\n",
       " <a accesskey=\"x\" href=\"/wiki/Special:Random\" title=\"Visit a randomly selected article [x]\"><span>Random article</span></a>]"
      ]
     },
     "execution_count": 144,
     "metadata": {},
     "output_type": "execute_result"
    }
   ],
   "source": [
    "# limit in find_all()\n",
    "html_soup.find_all('a',limit = 5)"
   ]
  },
  {
   "cell_type": "code",
   "execution_count": 145,
   "id": "68bf81fa",
   "metadata": {},
   "outputs": [
    {
     "data": {
      "text/plain": [
       "1081"
      ]
     },
     "execution_count": 145,
     "metadata": {},
     "output_type": "execute_result"
    }
   ],
   "source": [
    "len(html_soup.find_all('a'))"
   ]
  },
  {
   "cell_type": "code",
   "execution_count": 146,
   "id": "5bfa690b",
   "metadata": {},
   "outputs": [
    {
     "data": {
      "text/plain": [
       "219"
      ]
     },
     "execution_count": 146,
     "metadata": {},
     "output_type": "execute_result"
    }
   ],
   "source": [
    "len(html_soup.find_all('a', class_='external text'))"
   ]
  },
  {
   "cell_type": "code",
   "execution_count": 147,
   "id": "f3762a66",
   "metadata": {
    "scrolled": true
   },
   "outputs": [
    {
     "data": {
      "text/plain": [
       "[<a class=\"external text\" href=\"https://en.wikipedia.org/wiki/List_of_Game_of_Thrones_episodes\">current revision</a>,\n",
       " <a class=\"external text\" href=\"https://en.wikipedia.org/w/index.php?title=List_of_Game_of_Thrones_episodes&amp;action=edit\">[update]</a>,\n",
       " <a class=\"external text\" href=\"https://web.archive.org/web/20120817073932/http://tv.ign.com/articles/116/1160215p1.html\" rel=\"nofollow\">\"Game of Thrones: \"Winter is Coming\" Review\"</a>,\n",
       " <a class=\"external text\" href=\"http://tv.ign.com/articles/116/1160215p1.html\" rel=\"nofollow\">the original</a>,\n",
       " <a class=\"external text\" href=\"https://web.archive.org/web/20120516224747/http://www.variety.com/article/VR1117957532?refCatId=14\" rel=\"nofollow\">\"HBO turns <i>Fire</i> into fantasy series\"</a>]"
      ]
     },
     "execution_count": 147,
     "metadata": {},
     "output_type": "execute_result"
    }
   ],
   "source": [
    "html_soup.find_all('a', class_='external text', limit = 5)"
   ]
  },
  {
   "cell_type": "code",
   "execution_count": 148,
   "id": "bd517f19",
   "metadata": {},
   "outputs": [
    {
     "data": {
      "text/plain": [
       "219"
      ]
     },
     "execution_count": 148,
     "metadata": {},
     "output_type": "execute_result"
    }
   ],
   "source": [
    "len(html_soup.find_all(attrs = {'class':'external text'}))"
   ]
  },
  {
   "cell_type": "code",
   "execution_count": 149,
   "id": "3ded6e11",
   "metadata": {},
   "outputs": [
    {
     "data": {
      "text/plain": [
       "[<a href=\"/wiki/Game_of_Thrones\" title=\"Game of Thrones\">Game of Thrones</a>,\n",
       " <a class=\"external text\" href=\"https://www.imdb.com/title/tt0944947/episodes\" rel=\"nofollow\"><i>Game of Thrones</i></a>,\n",
       " <a class=\"external text\" href=\"https://www.rottentomatoes.com/tv/game-of-thrones//\" rel=\"nofollow\"><i>Game of Thrones</i></a>,\n",
       " <a href=\"/wiki/Game_of_Thrones_(2012_video_game)\" title=\"Game of Thrones (2012 video game)\"><i>Game of Thrones</i></a>,\n",
       " <a href=\"/wiki/Game_of_Thrones_(2014_video_game)\" title=\"Game of Thrones (2014 video game)\"><i>Game of Thrones</i></a>,\n",
       " <a href=\"/wiki/Game_of_Thrones\" title=\"Game of Thrones\">Game of Thrones</a>,\n",
       " <a class=\"mw-selflink selflink\">Game of Thrones</a>]"
      ]
     },
     "execution_count": 149,
     "metadata": {},
     "output_type": "execute_result"
    }
   ],
   "source": [
    "html_soup.find_all('a', string = 'Game of Thrones')"
   ]
  },
  {
   "cell_type": "code",
   "execution_count": 150,
   "id": "619a5778",
   "metadata": {},
   "outputs": [
    {
     "data": {
      "text/plain": [
       "[<h1 class=\"firstHeading mw-first-heading\" id=\"firstHeading\">List of <i>Game of Thrones</i> episodes</h1>]"
      ]
     },
     "execution_count": 150,
     "metadata": {},
     "output_type": "execute_result"
    }
   ],
   "source": [
    "# filter 2 tags at the same time\n",
    "# combine in a list\n",
    "# html_soup.find_all(['h1','h2'])\n",
    "html_soup.findAll(['h1','h2'])\n",
    "\n",
    "html_soup.findAll('h1')"
   ]
  },
  {
   "cell_type": "code",
   "execution_count": 151,
   "id": "c396f11f",
   "metadata": {},
   "outputs": [
    {
     "name": "stdout",
     "output_type": "stream",
     "text": [
      "{'img', 'header', 'table', 'th', 'li', 'sup', 'tbody', 'h1', 'head', 'code', 'body', 'br', 'ul', 'nav', 'label', 'a', 'figcaption', 'b', 'main', 'link', 'title', 'footer', 'cite', 'div', 'h3', 'html', 'meta', 'abbr', 'p', 'h2', 'style', 'span', 'ol', 'wbr', 'figure', 'script', 'form', 'input', 'td', 'tr', 'button', 'noscript', 'i', 'bdi'}\n"
     ]
    }
   ],
   "source": [
    "# find all unique tag names in the html\n",
    "print(set(i.name for i in html_soup.find_all()))"
   ]
  },
  {
   "cell_type": "code",
   "execution_count": 152,
   "id": "0a13a39b",
   "metadata": {},
   "outputs": [
    {
     "data": {
      "text/plain": [
       "[<cite class=\"citation web cs1\" id=\"CITEREFFowler2011\">Fowler, Matt (April 8, 2011). <a class=\"external text\" href=\"https://web.archive.org/web/20120817073932/http://tv.ign.com/articles/116/1160215p1.html\" rel=\"nofollow\">\"Game of Thrones: \"Winter is Coming\" Review\"</a>. <a href=\"/wiki/IGN\" title=\"IGN\">IGN</a>. Archived from <a class=\"external text\" href=\"http://tv.ign.com/articles/116/1160215p1.html\" rel=\"nofollow\">the original</a> on August 17, 2012<span class=\"reference-accessdate\">. Retrieved <span class=\"nowrap\">September 22,</span> 2016</span>.</cite>]"
      ]
     },
     "execution_count": 152,
     "metadata": {},
     "output_type": "execute_result"
    }
   ],
   "source": [
    "#find_all method\n",
    "#find_all(name, attrs, recursive, string, limit, **keywords)\n",
    "\n",
    "#find all <a> tags (external links)\n",
    "html_soup.find_all('a', class_='external text',limit=1)\n",
    "\n",
    "#find all <a> tags (external links)\n",
    "#attrs argument in find_all\n",
    "html_soup.find_all(attrs = {'class':'external text'},limit = 1)\n",
    "\n",
    "#find all <a> tags with the content \"Game of Thrones\"\n",
    "html_soup.find_all('a',string = 'Game of Thrones', limit = 1)\n",
    "\n",
    "#filter tag within a list\n",
    "html_soup.findAll(['h1','h2'])\n",
    "\n",
    "# html_soup.find_all(id = 'bodyContent')\n",
    "html_soup.find_all('cite',limit = 1)"
   ]
  },
  {
   "cell_type": "code",
   "execution_count": 155,
   "id": "fb66af96",
   "metadata": {},
   "outputs": [
    {
     "data": {
      "text/plain": [
       "[<cite class=\"citation web cs1\" id=\"CITEREFFowler2011\">Fowler, Matt (April 8, 2011). <a class=\"external text\" href=\"https://web.archive.org/web/20120817073932/http://tv.ign.com/articles/116/1160215p1.html\" rel=\"nofollow\">\"Game of Thrones: \"Winter is Coming\" Review\"</a>. <a href=\"/wiki/IGN\" title=\"IGN\">IGN</a>. Archived from <a class=\"external text\" href=\"http://tv.ign.com/articles/116/1160215p1.html\" rel=\"nofollow\">the original</a> on August 17, 2012<span class=\"reference-accessdate\">. Retrieved <span class=\"nowrap\">September 22,</span> 2016</span>.</cite>,\n",
       " <cite class=\"citation news cs1\" id=\"CITEREFFleming2007\">Fleming, Michael (January 16, 2007). <a class=\"external text\" href=\"https://web.archive.org/web/20120516224747/http://www.variety.com/article/VR1117957532?refCatId=14\" rel=\"nofollow\">\"HBO turns <i>Fire</i> into fantasy series\"</a>. <i><a href=\"/wiki/Variety_(magazine)\" title=\"Variety (magazine)\">Variety</a></i>. Archived from <a class=\"external text\" href=\"http://www.variety.com/article/VR1117957532.html?categoryid=14&amp;cs=1\" rel=\"nofollow\">the original</a> on May 16, 2012<span class=\"reference-accessdate\">. Retrieved <span class=\"nowrap\">September 3,</span> 2016</span>.</cite>,\n",
       " <cite class=\"citation web cs1\"><a class=\"external text\" href=\"http://www.emmys.com/shows/game-thrones\" rel=\"nofollow\">\"Game of Thrones\"</a>. <a class=\"mw-redirect\" href=\"/wiki/Emmy_Award\" title=\"Emmy Award\">Emmys.com</a><span class=\"reference-accessdate\">. Retrieved <span class=\"nowrap\">September 17,</span> 2016</span>.</cite>]"
      ]
     },
     "execution_count": 155,
     "metadata": {},
     "output_type": "execute_result"
    }
   ],
   "source": [
    "# find the cite HTML tag with attribute class equal to citation\n",
    "# set limit to 3\n",
    "cites = html_soup.find_all('cite', attrs = {'class':'citation'}, limit = 3)\n",
    "cites\n",
    "\n",
    "# you can also use class_\n",
    "# html_soup.find_all('cite', class_ = \"citation\")"
   ]
  },
  {
   "cell_type": "code",
   "execution_count": 158,
   "id": "8b4ef7db",
   "metadata": {},
   "outputs": [
    {
     "name": "stdout",
     "output_type": "stream",
     "text": [
      "Fowler, Matt (April 8, 2011). \"Game of Thrones: \"Winter is Coming\" Review\". IGN. Archived from the original on August 17, 2012. Retrieved September 22, 2016.\n",
      "https://web.archive.org/web/20120817073932/http://tv.ign.com/articles/116/1160215p1.html\n",
      "Fleming, Michael (January 16, 2007). \"HBO turns Fire into fantasy series\". Variety. Archived from the original on May 16, 2012. Retrieved September 3, 2016.\n",
      "https://web.archive.org/web/20120516224747/http://www.variety.com/article/VR1117957532?refCatId=14\n",
      "\"Game of Thrones\". Emmys.com. Retrieved September 17, 2016.\n",
      "http://www.emmys.com/shows/game-thrones\n"
     ]
    }
   ],
   "source": [
    "# use a for loop to display each item in the list of cite tags\n",
    "for citation in cites:\n",
    "    # display text in each cite tag\n",
    "    print(citation.get_text())\n",
    "    \n",
    "    # inside of this cite element, find the first tag\n",
    "    link = citation.find('a')\n",
    "    \n",
    "    # ... and show its URL\n",
    "    print(link.get('href'))"
   ]
  },
  {
   "cell_type": "code",
   "execution_count": 238,
   "id": "7576729b",
   "metadata": {},
   "outputs": [
    {
     "data": {
      "text/plain": [
       "<h1 class=\"firstHeading mw-first-heading\" id=\"firstHeading\">List of <i>Game of Thrones</i> episodes</h1>"
      ]
     },
     "execution_count": 238,
     "metadata": {},
     "output_type": "execute_result"
    },
    {
     "data": {
      "text/plain": [
       "bs4.element.Tag"
      ]
     },
     "execution_count": 238,
     "metadata": {},
     "output_type": "execute_result"
    },
    {
     "data": {
      "text/plain": [
       "<th rowspan=\"2\" scope=\"col\" style=\"min-width:50px;padding:0 8px\">Season</th>"
      ]
     },
     "execution_count": 238,
     "metadata": {},
     "output_type": "execute_result"
    },
    {
     "data": {
      "text/plain": [
       "'min-width:50px;padding:0 8px'"
      ]
     },
     "execution_count": 238,
     "metadata": {},
     "output_type": "execute_result"
    }
   ],
   "source": [
    "# if you traverse a chain of tag names \n",
    "html_soup.find('h1')\n",
    "\n",
    "# returning tag object\n",
    "type(html_soup.h1)\n",
    "\n",
    "html_soup.find('body').find('table').find('tr').find('th')\n",
    "\n",
    "# retrieve attribute within a tag\n",
    "html_soup.body.table.tr.th.get('style')"
   ]
  },
  {
   "cell_type": "code",
   "execution_count": 256,
   "id": "ed8ae6d6",
   "metadata": {},
   "outputs": [
    {
     "data": {
      "text/plain": [
       "[<h2 class=\"vector-pinnable-header-label\">Contents</h2>,\n",
       " <h2><span class=\"mw-headline\" id=\"Series_overview\">Series overview</span></h2>,\n",
       " <h2><span class=\"mw-headline\" id=\"Episodes\">Episodes</span></h2>,\n",
       " <h2><span class=\"mw-headline\" id=\"Home_media_releases\">Home media releases</span></h2>,\n",
       " <h2><span class=\"mw-headline\" id=\"Ratings\">Ratings</span></h2>,\n",
       " <h2><span class=\"mw-headline\" id=\"References\">References</span></h2>,\n",
       " <h2><span class=\"mw-headline\" id=\"External_links\">External links</span></h2>]"
      ]
     },
     "execution_count": 256,
     "metadata": {},
     "output_type": "execute_result"
    },
    {
     "data": {
      "text/plain": [
       "[<h2 class=\"vector-pinnable-header-label\">Contents</h2>,\n",
       " <h2><span class=\"mw-headline\" id=\"Series_overview\">Series overview</span></h2>,\n",
       " <h2><span class=\"mw-headline\" id=\"Episodes\">Episodes</span></h2>,\n",
       " <h2><span class=\"mw-headline\" id=\"Home_media_releases\">Home media releases</span></h2>,\n",
       " <h2><span class=\"mw-headline\" id=\"Ratings\">Ratings</span></h2>,\n",
       " <h2><span class=\"mw-headline\" id=\"References\">References</span></h2>,\n",
       " <h2><span class=\"mw-headline\" id=\"External_links\">External links</span></h2>]"
      ]
     },
     "execution_count": 256,
     "metadata": {},
     "output_type": "execute_result"
    }
   ],
   "source": [
    "# for find_all, this is equivalent\n",
    "html_soup.find_all('h2')\n",
    "html_soup('h2')"
   ]
  },
  {
   "cell_type": "code",
   "execution_count": 246,
   "id": "26a5a053",
   "metadata": {},
   "outputs": [
    {
     "data": {
      "text/plain": [
       "<h2 class=\"vector-pinnable-header-label\">Contents</h2>"
      ]
     },
     "execution_count": 246,
     "metadata": {},
     "output_type": "execute_result"
    }
   ],
   "source": [
    "# note: if you use tag method, it's returning the first matched tag\n",
    "html_soup.h2"
   ]
  },
  {
   "cell_type": "markdown",
   "id": "023a3619",
   "metadata": {},
   "source": [
    "#### Practice\n",
    "Scrape the definiation of Information Systems (IS) on this Wikipedia page of Information Systems: https://simple.wikipedia.org/wiki/Information_systems."
   ]
  },
  {
   "cell_type": "code",
   "execution_count": 109,
   "id": "cc94b0b9",
   "metadata": {},
   "outputs": [
    {
     "data": {
      "text/plain": [
       "[<p><b>Information systems</b> (IS) is the study of how people put <a href=\"/wiki/Data\" title=\"Data\">data</a> into <a href=\"/wiki/Computer\" title=\"Computer\">computers</a> to create useful <a href=\"/wiki/Information\" title=\"Information\">information</a>.<sup class=\"reference\" id=\"cite_ref-1\"><a href=\"#cite_note-1\">[1]</a></sup><sup class=\"reference\" id=\"cite_ref-2\"><a href=\"#cite_note-2\">[2]</a></sup><sup class=\"reference\" id=\"cite_ref-3\"><a href=\"#cite_note-3\">[3]</a></sup><sup class=\"reference\" id=\"cite_ref-4\"><a href=\"#cite_note-4\">[4]</a></sup>\n",
       " </p>,\n",
       " <p>There are five things you need to make an information system work:\n",
       " </p>,\n",
       " <p><br/>\n",
       " </p>]"
      ]
     },
     "execution_count": 109,
     "metadata": {},
     "output_type": "execute_result"
    }
   ],
   "source": [
    "import requests\n",
    "from bs4 import BeautifulSoup\n",
    "\n",
    "# first, http request and get the parsed html contents\n",
    "url = \"https://simple.wikipedia.org/wiki/Information_systems\"\n",
    "\n",
    "r = requests.get(url)\n",
    "\n",
    "html_contents = r.text\n",
    "\n",
    "html_soup = BeautifulSoup(html_contents, 'html.parser')\n",
    "\n",
    "# second, navigate the webpage and find the tag\n",
    "html_soup.find_all('p')"
   ]
  },
  {
   "cell_type": "code",
   "execution_count": 116,
   "id": "ccc48007",
   "metadata": {},
   "outputs": [
    {
     "data": {
      "text/plain": [
       "'Information systems (IS) is the study of how people put data into computers to create useful information.[1][2][3][4]\\n'"
      ]
     },
     "execution_count": 116,
     "metadata": {},
     "output_type": "execute_result"
    }
   ],
   "source": [
    "# Third, extract the definition of IS\n",
    "html_soup.find_all('p')[0].text"
   ]
  },
  {
   "cell_type": "markdown",
   "id": "8567be6d",
   "metadata": {},
   "source": [
    "#### Code Example\n",
    "\n",
    "The example below shows how to scrap the tables from the page (https://en.wikipedia.org/w/index.php?title=List_of_Game_of_Thrones_episodes&oldid=802553687) and store them in a list neatly.\n",
    "\n",
    "- `<tr>` tag defines a row in an HTML table\n",
    "- `<th>` tag defines a header cell in an HTML table\n",
    "- `<td>` tag defines the standard data cell in an HTML table"
   ]
  },
  {
   "cell_type": "code",
   "execution_count": 277,
   "id": "3d48fd9d",
   "metadata": {},
   "outputs": [
    {
     "name": "stdout",
     "output_type": "stream",
     "text": [
      "{'No.overall': '1', 'No. inseason': '1', 'Title': '\"Winter Is Coming\"', 'Directed by': 'Tim Van Patten', 'Written by': 'David Benioff & D. B. Weiss', 'Original air date\\u200a[20]': 'April\\xa017,\\xa02011\\xa0(2011-04-17)', 'U.S. viewers(millions)': '2.22[21]'}\n",
      "{'No.overall': '2', 'No. inseason': '2', 'Title': '\"The Kingsroad\"', 'Directed by': 'Tim Van Patten', 'Written by': 'David Benioff & D. B. Weiss', 'Original air date\\u200a[20]': 'April\\xa024,\\xa02011\\xa0(2011-04-24)', 'U.S. viewers(millions)': '2.20[22]'}\n",
      "{'No.overall': '3', 'No. inseason': '3', 'Title': '\"Lord Snow\"', 'Directed by': 'Brian Kirk', 'Written by': 'David Benioff & D. B. Weiss', 'Original air date\\u200a[20]': 'May\\xa01,\\xa02011\\xa0(2011-05-01)', 'U.S. viewers(millions)': '2.44[23]'}\n",
      "{'No.overall': '4', 'No. inseason': '4', 'Title': '\"Cripples, Bastards, and Broken Things\"', 'Directed by': 'Brian Kirk', 'Written by': 'Bryan Cogman', 'Original air date\\u200a[20]': 'May\\xa08,\\xa02011\\xa0(2011-05-08)', 'U.S. viewers(millions)': '2.45[24]'}\n",
      "{'No.overall': '5', 'No. inseason': '5', 'Title': '\"The Wolf and the Lion\"', 'Directed by': 'Brian Kirk', 'Written by': 'David Benioff & D. B. Weiss', 'Original air date\\u200a[20]': 'May\\xa015,\\xa02011\\xa0(2011-05-15)', 'U.S. viewers(millions)': '2.58[25]'}\n",
      "{'No.overall': '6', 'No. inseason': '6', 'Title': '\"A Golden Crown\"', 'Directed by': 'Daniel Minahan', 'Written by': 'Story by\\u200a: David Benioff & D. B. WeissTeleplay by\\u200a: Jane Espenson and David Benioff & D. B. Weiss', 'Original air date\\u200a[20]': 'May\\xa022,\\xa02011\\xa0(2011-05-22)', 'U.S. viewers(millions)': '2.44[26]'}\n",
      "{'No.overall': '7', 'No. inseason': '7', 'Title': '\"You Win or You Die\"', 'Directed by': 'Daniel Minahan', 'Written by': 'David Benioff & D. B. Weiss', 'Original air date\\u200a[20]': 'May\\xa029,\\xa02011\\xa0(2011-05-29)', 'U.S. viewers(millions)': '2.40[27]'}\n",
      "{'No.overall': '8', 'No. inseason': '8', 'Title': '\"The Pointy End\"', 'Directed by': 'Daniel Minahan', 'Written by': 'George R. R. Martin', 'Original air date\\u200a[20]': 'June\\xa05,\\xa02011\\xa0(2011-06-05)', 'U.S. viewers(millions)': '2.72[28]'}\n",
      "{'No.overall': '9', 'No. inseason': '9', 'Title': '\"Baelor\"', 'Directed by': 'Alan Taylor', 'Written by': 'David Benioff & D. B. Weiss', 'Original air date\\u200a[20]': 'June\\xa012,\\xa02011\\xa0(2011-06-12)', 'U.S. viewers(millions)': '2.66[29]'}\n",
      "{'No.overall': '10', 'No. inseason': '10', 'Title': '\"Fire and Blood\"', 'Directed by': 'Alan Taylor', 'Written by': 'David Benioff & D. B. Weiss', 'Original air date\\u200a[20]': 'June\\xa019,\\xa02011\\xa0(2011-06-19)', 'U.S. viewers(millions)': '3.04[30]'}\n"
     ]
    }
   ],
   "source": [
    "import requests\n",
    "from bs4 import BeautifulSoup\n",
    "\n",
    "url = 'https://en.wikipedia.org/w/index.php' + \\\n",
    "'?title=List_of_Game_of_Thrones_episodes&oldid=802553687'\n",
    "\n",
    "r = requests.get(url)\n",
    "\n",
    "html_contents = r.text\n",
    "\n",
    "html_soup = BeautifulSoup(html_contents, 'html.parser')\n",
    "\n",
    "# use a list to store episode list\n",
    "episodes = []\n",
    "\n",
    "# after navigating the webpage, we find this attrs \"wikitable plainrowheaders wikiepisodetable\"\n",
    "ep_tables = html_soup.find_all('table', attrs = {'class':'wikiepisodetable'}, limit = 1)\n",
    "\n",
    "for table in ep_tables:\n",
    "    \n",
    "    headers = []\n",
    "    \n",
    "    # start by fetching the header cells from the first row to determine \n",
    "    # the field names \n",
    "    \n",
    "    for header in table.find('tr').find_all('th'):\n",
    "        headers.append(header.text)\n",
    "    \n",
    "    # then go through all the rows except the first row\n",
    "    for row in table.find_all('tr')[1:]:\n",
    "        values = []\n",
    "        \n",
    "        # get the column cells, the first one being inside a th-tag (header cell) in the row, others are td-tag\n",
    "        for col in row.find_all(['th', 'td']):\n",
    "            values.append(col.text)\n",
    "        # if the list is not empty, update the episode_dict\n",
    "        if values:\n",
    "            episode_dict = {headers[i]:values[i] for i in range(len(values))}\n",
    "            episodes.append(episode_dict)\n",
    "\n",
    "# show the result\n",
    "for episode in episodes:\n",
    "    print(episode)"
   ]
  },
  {
   "cell_type": "markdown",
   "id": "0191275b",
   "metadata": {},
   "source": [
    "Summary:\n",
    "\n",
    "- We don’t come up with the `find_all('table', class_= 'wikiepisodetable')` line from thin air, although it might seem that\n",
    "way just by looking at the code. Recall what we said earlier about your\n",
    "browser’s developer tools becoming your best friend. Inspect the\n",
    "episode tables on the page. Note how they’re all defined by means\n",
    "of a `<table>` tag. However, the page also contains tables we do not\n",
    "want to include. Some further investigation leads us to a solution: all\n",
    "the episode tables have “wikiepisodetable” as a class, whereas the\n",
    "other tables do not. You’ll often have to puzzle your way through a\n",
    "page first before coming up with a solid approach. In many cases,\n",
    "you’ll have to perform multiple find and find_all iterations before\n",
    "ending up where you want to be.\n",
    "    \n",
    "- For every table, we first want to retrieve the headers to use as keys in\n",
    "a Python dictionary. To do so, we first select the first `<tr>` tag, and\n",
    "select all `<th>` tags within it.\n",
    "    \n",
    "- Next, we loop through all the rows (the `<tr>` tags), except for the first one (the header row). For each row, we loop through the `<th>`\n",
    "and `<td>` tags to extract the column values (the first column is\n",
    "wrapped inside of a `<th>` tag, the others in `<td>` tags, which is why\n",
    "we need to handle both). At the end of each row, we’re ready to add\n",
    "a new entry to the “episodes” variable. To store each entry, we use a\n",
    "normal Python dictionary (episode_dict). The way how this object is\n",
    "constructed might look a bit strange in case you’re not very familiar\n",
    "with Python. That is, Python allows us to construct a complete list or\n",
    "dictionary “in one go” by putting a “for” construct inside the “[...]”\n",
    "or “{...}” brackets. Here, we use this to immediately loop through the\n",
    "headers and values lists to build the dictionary object. Note that this\n",
    "assumes that both of these lists have the same length, and that the\n",
    "order for both of these matches so that the header at “headers[2]”,\n",
    "for instance, is the header corresponding with the value over at\n",
    "“values[2]”. Since we’re dealing with rather simple tables here, this\n",
    "is a safe assumption."
   ]
  },
  {
   "cell_type": "markdown",
   "id": "2ef675d1",
   "metadata": {},
   "source": [
    "### More on Beautiful Soup\n",
    "\n",
    "We can search the string that starts with any letter by constructing a regular expression using Python's `re` module.\n",
    "\n",
    "#### Regex\n",
    "A regular expression (regex) defines a sequence of patterns (an expression) defining a\n",
    "search pattern. It is frequently used for string searching and matching code to find\n",
    "(and replace) fragments of strings. Although they are very powerful constructs,\n",
    "they can also be misused. \n",
    "- Do not go overboard with long or complex regular expressions, as they’re not readable and it might be hard to figure out what a particular piece of regex is doing later on. \n",
    "- You should avoid using regex to parse HTML pages. \n",
    "    - Always use an HTML parser like Beautiful Soup to perform the grunt work. You can then use small snippets of regex to find or extract pieces of content.\n",
    "    \n",
    "- I write a short introduction to Regex [here](https://github.com/YuxiaoLuo/RUG-RUserGroup/blob/main/RUG_RgularExpr.md), and here is a [cheatsheet](https://github.com/YuxiaoLuo/RUG-RUserGroup/blob/main/images/regex_cheatsheet.pdf) about using Regex.\n",
    "- [regexone.com](https://regexone.com/) can help you practice using Regex."
   ]
  },
  {
   "cell_type": "code",
   "execution_count": 371,
   "id": "17ed489d",
   "metadata": {},
   "outputs": [
    {
     "data": {
      "text/plain": [
       "{'b', 'bdi', 'body', 'br', 'button'}"
      ]
     },
     "execution_count": 371,
     "metadata": {},
     "output_type": "execute_result"
    }
   ],
   "source": [
    "#finds all the tags whose names start with the letter \"b\", then print tag name:\n",
    "import re\n",
    "\n",
    "taglist = []\n",
    "for tag in html_soup.find_all(re.compile(\"^b\")):\n",
    "    #print(tag.name)\n",
    "    taglist.append(tag.name)\n",
    "\n",
    "set(taglist)"
   ]
  },
  {
   "cell_type": "code",
   "execution_count": 325,
   "id": "c576fe0f",
   "metadata": {},
   "outputs": [
    {
     "data": {
      "text/plain": [
       "{'a', 'meta'}"
      ]
     },
     "execution_count": 325,
     "metadata": {},
     "output_type": "execute_result"
    }
   ],
   "source": [
    "#finds all the tags whose names ends with the letter \"a\", then print tag name:\n",
    "import re\n",
    "\n",
    "taglist = []\n",
    "for tag in html_soup.find_all(re.compile(\"a$\")):\n",
    "    #print(tag.name)\n",
    "    taglist.append(tag.name)\n",
    "\n",
    "set(taglist)"
   ]
  },
  {
   "cell_type": "code",
   "execution_count": 218,
   "id": "59e8d8fc",
   "metadata": {},
   "outputs": [
    {
     "name": "stdout",
     "output_type": "stream",
     "text": [
      "{'title', 'html', 'style', 'footer', 'script', 'cite', 'input', 'td', 'tr', 'noscript', 'table', 'th', 'meta', 'tbody'}\n"
     ]
    }
   ],
   "source": [
    "#finds all the tags whose names contain the letter \"t\", then print tag name:\n",
    "\n",
    "taglist1 = []\n",
    "for tag in html_soup.find_all(re.compile(\"t\")):\n",
    "    #print(tag.name)\n",
    "    taglist1.append(tag.name)\n",
    "\n",
    "print(set(taglist1))"
   ]
  },
  {
   "cell_type": "code",
   "execution_count": 352,
   "id": "67e1cbab",
   "metadata": {},
   "outputs": [
    {
     "data": {
      "text/plain": [
       "<a href=\"/wiki/Wikipedia:Featured_lists\" title=\"This is a featured list. Click here for more information.\"><img alt=\"This is a featured list. Click here for more information.\" data-file-height=\"438\" data-file-width=\"462\" decoding=\"async\" height=\"19\" src=\"//upload.wikimedia.org/wikipedia/en/thumb/e/e7/Cscr-featured.svg/20px-Cscr-featured.svg.png\" srcset=\"//upload.wikimedia.org/wikipedia/en/thumb/e/e7/Cscr-featured.svg/30px-Cscr-featured.svg.png 1.5x, //upload.wikimedia.org/wikipedia/en/thumb/e/e7/Cscr-featured.svg/40px-Cscr-featured.svg.png 2x\" width=\"20\"/></a>"
      ]
     },
     "execution_count": 352,
     "metadata": {},
     "output_type": "execute_result"
    },
    {
     "data": {
      "text/plain": [
       "'/wiki/Wikipedia:Featured_lists'"
      ]
     },
     "execution_count": 352,
     "metadata": {},
     "output_type": "execute_result"
    },
    {
     "data": {
      "text/plain": [
       "'/wiki/Wikipedia:Featured_lists'"
      ]
     },
     "execution_count": 352,
     "metadata": {},
     "output_type": "execute_result"
    },
    {
     "data": {
      "text/plain": [
       "'This is a featured list. Click here for more information.'"
      ]
     },
     "execution_count": 352,
     "metadata": {},
     "output_type": "execute_result"
    },
    {
     "data": {
      "text/plain": [
       "<img alt=\"This is a featured list. Click here for more information.\" data-file-height=\"438\" data-file-width=\"462\" decoding=\"async\" height=\"19\" src=\"//upload.wikimedia.org/wikipedia/en/thumb/e/e7/Cscr-featured.svg/20px-Cscr-featured.svg.png\" srcset=\"//upload.wikimedia.org/wikipedia/en/thumb/e/e7/Cscr-featured.svg/30px-Cscr-featured.svg.png 1.5x, //upload.wikimedia.org/wikipedia/en/thumb/e/e7/Cscr-featured.svg/40px-Cscr-featured.svg.png 2x\" width=\"20\"/>"
      ]
     },
     "execution_count": 352,
     "metadata": {},
     "output_type": "execute_result"
    },
    {
     "data": {
      "text/plain": [
       "'//upload.wikimedia.org/wikipedia/en/thumb/e/e7/Cscr-featured.svg/20px-Cscr-featured.svg.png'"
      ]
     },
     "execution_count": 352,
     "metadata": {},
     "output_type": "execute_result"
    }
   ],
   "source": [
    "#get one external link from a website\n",
    "html_soup.find_all('a')[1]\n",
    "html_soup.find_all('a')[1].get('href')\n",
    "\n",
    "html_soup.find_all('a')[1].attrs['href']\n",
    "#The href attribute specifies the URL of the page the link goes to\n",
    "#If the href attribute is not present, the <a> tag will not be a hyperlink\n",
    "\n",
    "# get other html attributes in the a tag\n",
    "html_soup.find_all('a')[1]['title']\n",
    "\n",
    "# get the child tag (img) under a tag\n",
    "html_soup.find_all('a')[1].find('img')\n",
    "# get the html attribute of child tag img\n",
    "html_soup.find_all('a')[1].find('img')['src']"
   ]
  },
  {
   "cell_type": "code",
   "execution_count": 356,
   "id": "07de44e6",
   "metadata": {
    "scrolled": true
   },
   "outputs": [
    {
     "data": {
      "text/plain": [
       "[<a id=\"top\"></a>,\n",
       " <a href=\"/wiki/Wikipedia:Featured_lists\" title=\"This is a featured list. Click here for more information.\"><img alt=\"This is a featured list. Click here for more information.\" data-file-height=\"438\" data-file-width=\"462\" decoding=\"async\" height=\"19\" src=\"//upload.wikimedia.org/wikipedia/en/thumb/e/e7/Cscr-featured.svg/20px-Cscr-featured.svg.png\" srcset=\"//upload.wikimedia.org/wikipedia/en/thumb/e/e7/Cscr-featured.svg/30px-Cscr-featured.svg.png 1.5x, //upload.wikimedia.org/wikipedia/en/thumb/e/e7/Cscr-featured.svg/40px-Cscr-featured.svg.png 2x\" width=\"20\"/></a>,\n",
       " <a href=\"/wiki/Help:Page_history\" title=\"Help:Page history\">old revision</a>,\n",
       " <a class=\"mw-userlink\" href=\"/wiki/User:Alex_21\" title=\"User:Alex 21\"><bdi>Alex 21</bdi></a>,\n",
       " <a class=\"mw-usertoollinks-talk\" href=\"/wiki/User_talk:Alex_21\" title=\"User talk:Alex 21\">talk</a>]"
      ]
     },
     "execution_count": 356,
     "metadata": {},
     "output_type": "execute_result"
    },
    {
     "data": {
      "text/plain": [
       "'/wiki/Wikipedia:Featured_lists'"
      ]
     },
     "execution_count": 356,
     "metadata": {},
     "output_type": "execute_result"
    }
   ],
   "source": [
    "html_soup.find_all('a',limit = 5)\n",
    "html_soup.find_all('a', limit =5)[1].get('href')"
   ]
  },
  {
   "cell_type": "code",
   "execution_count": 357,
   "id": "2c5c4a4a",
   "metadata": {},
   "outputs": [
    {
     "name": "stdout",
     "output_type": "stream",
     "text": [
      "None\n",
      "/wiki/Wikipedia:Featured_lists\n",
      "/wiki/Help:Page_history\n",
      "/wiki/User:Alex_21\n",
      "/wiki/User_talk:Alex_21\n",
      "/wiki/Special:Contributions/Alex_21\n",
      "/wiki/Draft:Game_of_Thrones_(season_8)\n",
      "/wiki/Help:Permanent_link\n",
      "https://en.wikipedia.org/wiki/List_of_Game_of_Thrones_episodes\n",
      "/wiki/User:Alex_21\n",
      "/wiki/User_talk:Alex_21\n",
      "/wiki/Special:Contributions/Alex_21\n",
      "/wiki/Draft:Game_of_Thrones_(season_8)\n",
      "/w/index.php?title=List_of_Game_of_Thrones_episodes&diff=prev&oldid=802553687\n",
      "/w/index.php?title=List_of_Game_of_Thrones_episodes&direction=prev&oldid=802553687\n",
      "/wiki/List_of_Game_of_Thrones_episodes\n",
      "/w/index.php?title=List_of_Game_of_Thrones_episodes&diff=cur&oldid=802553687\n",
      "/w/index.php?title=List_of_Game_of_Thrones_episodes&direction=next&oldid=802553687\n",
      "/w/index.php?title=List_of_Game_of_Thrones_episodes&diff=next&oldid=802553687\n",
      "#mw-head\n",
      "#searchInput\n",
      "/wiki/File:Game_of_Thrones_2011_logo.svg\n",
      "/wiki/Game_of_Thrones\n",
      "/wiki/Fantasy\n",
      "/wiki/Television_drama\n",
      "/wiki/David_Benioff\n",
      "/wiki/D._B._Weiss\n",
      "/wiki/A_Song_of_Ice_and_Fire\n",
      "/wiki/George_R._R._Martin\n",
      "/wiki/Westeros\n",
      "/wiki/Essos\n",
      "/wiki/Iron_Throne_(A_Song_of_Ice_and_Fire)\n",
      "/wiki/Characters_in_A_Song_of_Ice_and_Fire#House_Stark,_retainers,_and_bannermen\n",
      "/wiki/Ned_Stark\n",
      "/wiki/Sean_Bean\n",
      "/wiki/Robert_Baratheon\n",
      "/wiki/Mark_Addy\n",
      "/wiki/Jon_Arryn\n",
      "#cite_note-1\n",
      "/wiki/HBO\n",
      "/wiki/Carolyn_Strauss\n",
      "/wiki/Bernadette_Caulfield\n",
      "#cite_note-2\n",
      "#cite_note-emmys.com-3\n",
      "#cite_note-4\n",
      "#cite_note-5\n",
      "#cite_note-6\n",
      "#cite_note-7\n",
      "#cite_note-8\n",
      "#cite_note-9\n",
      "/wiki/Blu-ray\n",
      "#cite_note-s7_renewed-10\n",
      "#cite_note-HBO_confirms-11\n",
      "#cite_note-12\n",
      "#cite_note-13\n",
      "https://en.wikipedia.org/w/index.php?title=List_of_Game_of_Thrones_episodes&action=edit\n",
      "/wiki/List_of_awards_and_nominations_received_by_Game_of_Thrones\n",
      "/wiki/Primetime_Emmy_Award_for_Outstanding_Drama_Series\n",
      "#cite_note-emmys.com-3\n",
      "#Series_overview\n",
      "#Episodes\n",
      "#Season_1_(2011)\n",
      "#Season_2_(2012)\n",
      "#Season_3_(2013)\n",
      "#Season_4_(2014)\n",
      "#Season_5_(2015)\n",
      "#Season_6_(2016)\n",
      "#Season_7_(2017)\n",
      "#Home_media_releases\n",
      "#Ratings\n",
      "#References\n",
      "#External_links\n",
      "#Season_1_(2011)\n",
      "#Season_2_(2012)\n",
      "#Season_3_(2013)\n",
      "#Season_4_(2014)\n",
      "#Season_5_(2015)\n",
      "#Season_6_(2016)\n",
      "#Season_7_(2017)\n",
      "/wiki/Game_of_Thrones_(season_1)\n",
      "#cite_note-Futon-20\n",
      "/wiki/Winter_Is_Coming\n",
      "/wiki/Tim_Van_Patten\n",
      "/wiki/David_Benioff\n",
      "/wiki/D._B._Weiss\n",
      "#cite_note-21\n",
      "/wiki/The_Kingsroad\n",
      "#cite_note-22\n",
      "/wiki/Lord_Snow\n",
      "/wiki/Brian_Kirk\n",
      "#cite_note-23\n",
      "/wiki/Cripples,_Bastards,_and_Broken_Things\n",
      "/wiki/Bryan_Cogman\n",
      "#cite_note-24\n",
      "/wiki/The_Wolf_and_the_Lion\n",
      "#cite_note-25\n",
      "/wiki/A_Golden_Crown\n",
      "/wiki/Daniel_Minahan\n",
      "/wiki/Jane_Espenson\n",
      "#cite_note-26\n",
      "/wiki/You_Win_or_You_Die\n",
      "#cite_note-27\n",
      "/wiki/The_Pointy_End\n",
      "/wiki/George_R._R._Martin\n",
      "#cite_note-28\n",
      "/wiki/Baelor\n",
      "/wiki/Alan_Taylor_(director)\n",
      "#cite_note-29\n",
      "/wiki/Fire_and_Blood_(Game_of_Thrones)\n",
      "#cite_note-30\n",
      "/wiki/Game_of_Thrones_(season_2)\n",
      "#cite_note-Futon-20\n",
      "/wiki/The_North_Remembers\n",
      "/wiki/Alan_Taylor_(director)\n",
      "/wiki/David_Benioff\n",
      "/wiki/D._B._Weiss\n",
      "#cite_note-31\n",
      "/wiki/The_Night_Lands\n",
      "#cite_note-32\n",
      "/wiki/What_Is_Dead_May_Never_Die\n",
      "/wiki/Alik_Sakharov\n",
      "/wiki/Bryan_Cogman\n",
      "#cite_note-33\n",
      "/wiki/Garden_of_Bones\n",
      "/wiki/David_Petrarca\n",
      "/wiki/Vanessa_Taylor\n",
      "#cite_note-34\n",
      "/wiki/The_Ghost_of_Harrenhal\n",
      "#cite_note-35\n",
      "/wiki/The_Old_Gods_and_the_New\n",
      "/wiki/David_Nutter\n",
      "#cite_note-36\n",
      "/wiki/A_Man_Without_Honor\n",
      "#cite_note-37\n",
      "/wiki/The_Prince_of_Winterfell\n",
      "#cite_note-38\n",
      "/wiki/Blackwater_(Game_of_Thrones)\n",
      "/wiki/Neil_Marshall\n",
      "/wiki/George_R._R._Martin\n",
      "#cite_note-39\n",
      "/wiki/Valar_Morghulis\n",
      "#cite_note-40\n",
      "/wiki/Game_of_Thrones_(season_3)\n",
      "#cite_note-Futon-20\n",
      "/wiki/Valar_Dohaeris\n",
      "/wiki/Daniel_Minahan\n",
      "/wiki/David_Benioff\n",
      "/wiki/D._B._Weiss\n",
      "#cite_note-41\n",
      "/wiki/Dark_Wings,_Dark_Words\n",
      "/wiki/Vanessa_Taylor\n",
      "#cite_note-42\n",
      "/wiki/Walk_of_Punishment\n",
      "#cite_note-43\n",
      "/wiki/And_Now_His_Watch_Is_Ended\n",
      "/wiki/Alex_Graves\n",
      "#cite_note-44\n",
      "/wiki/Kissed_by_Fire\n",
      "/wiki/Bryan_Cogman\n",
      "#cite_note-45\n",
      "/wiki/The_Climb_(Game_of_Thrones)\n",
      "/wiki/Alik_Sakharov\n",
      "#cite_note-46\n",
      "/wiki/The_Bear_and_the_Maiden_Fair\n",
      "/wiki/Michelle_MacLaren\n",
      "/wiki/George_R._R._Martin\n",
      "#cite_note-47\n",
      "/wiki/Second_Sons\n",
      "#cite_note-48\n",
      "/wiki/The_Rains_of_Castamere\n",
      "/wiki/David_Nutter\n",
      "#cite_note-49\n",
      "/wiki/Mhysa\n",
      "#cite_note-50\n",
      "/wiki/Game_of_Thrones_(season_4)\n",
      "#cite_note-Futon-20\n",
      "/wiki/Two_Swords_(Game_of_Thrones)\n",
      "/wiki/D._B._Weiss\n",
      "/wiki/David_Benioff\n",
      "#cite_note-51\n",
      "/wiki/The_Lion_and_the_Rose\n",
      "/wiki/Alex_Graves\n",
      "/wiki/George_R._R._Martin\n",
      "#cite_note-52\n",
      "/wiki/Breaker_of_Chains\n",
      "#cite_note-53\n",
      "/wiki/Oathkeeper\n",
      "/wiki/Michelle_MacLaren\n",
      "/wiki/Bryan_Cogman\n",
      "#cite_note-54\n",
      "/wiki/First_of_His_Name\n",
      "#cite_note-55\n",
      "/wiki/The_Laws_of_Gods_and_Men\n",
      "/wiki/Alik_Sakharov\n",
      "#cite_note-56\n",
      "/wiki/Mockingbird_(Game_of_Thrones)\n",
      "#cite_note-57\n",
      "/wiki/The_Mountain_and_the_Viper\n",
      "#cite_note-58\n",
      "/wiki/The_Watchers_on_the_Wall\n",
      "/wiki/Neil_Marshall\n",
      "#cite_note-59\n",
      "/wiki/The_Children_(Game_of_Thrones)\n",
      "#cite_note-60\n",
      "/wiki/Game_of_Thrones_(season_5)\n",
      "#cite_note-Futon-20\n",
      "/wiki/The_Wars_to_Come\n",
      "/wiki/Michael_Slovis\n",
      "/wiki/David_Benioff\n",
      "/wiki/D._B._Weiss\n",
      "#cite_note-5.01-61\n",
      "/wiki/The_House_of_Black_and_White\n",
      "#cite_note-5.02-62\n",
      "/wiki/High_Sparrow_(Game_of_Thrones_episode)\n",
      "/wiki/Mark_Mylod\n",
      "#cite_note-5.03-63\n",
      "/wiki/Sons_of_the_Harpy\n",
      "/wiki/Dave_Hill_(screenwriter)\n",
      "#cite_note-5.04-64\n",
      "/wiki/Kill_the_Boy\n",
      "/wiki/Jeremy_Podeswa\n",
      "/wiki/Bryan_Cogman\n",
      "#cite_note-5.05-65\n",
      "/wiki/Unbowed,_Unbent,_Unbroken\n",
      "#cite_note-5.06-66\n",
      "/wiki/The_Gift_(Game_of_Thrones)\n",
      "/wiki/Miguel_Sapochnik\n",
      "#cite_note-5.07-67\n",
      "/wiki/Hardhome\n",
      "#cite_note-5.08-68\n",
      "/wiki/The_Dance_of_Dragons\n",
      "/wiki/David_Nutter\n",
      "#cite_note-5.09-69\n",
      "/wiki/Mother%27s_Mercy\n",
      "#cite_note-finale_ratings-70\n",
      "/wiki/Game_of_Thrones_(season_6)\n",
      "#cite_note-Futon-20\n",
      "/wiki/The_Red_Woman\n",
      "/wiki/Jeremy_Podeswa\n",
      "/wiki/David_Benioff\n",
      "/wiki/D._B._Weiss\n",
      "#cite_note-6.01-71\n",
      "/wiki/Home_(Game_of_Thrones)\n",
      "/wiki/Dave_Hill_(screenwriter)\n",
      "#cite_note-6.02-72\n",
      "/wiki/Oathbreaker_(Game_of_Thrones)\n",
      "/wiki/Daniel_Sackheim\n",
      "#cite_note-6.03-73\n",
      "/wiki/Book_of_the_Stranger\n",
      "#cite_note-6.04-74\n",
      "/wiki/The_Door_(Game_of_Thrones)\n",
      "/wiki/Jack_Bender\n",
      "#cite_note-6.05-75\n",
      "/wiki/Blood_of_My_Blood\n",
      "/wiki/Bryan_Cogman\n",
      "#cite_note-6.06-76\n",
      "/wiki/The_Broken_Man\n",
      "/wiki/Mark_Mylod\n",
      "#cite_note-6.07-77\n",
      "/wiki/No_One_(Game_of_Thrones)\n",
      "#cite_note-6.08-78\n",
      "/wiki/Battle_of_the_Bastards\n",
      "/wiki/Miguel_Sapochnik\n",
      "#cite_note-6.09-79\n",
      "/wiki/The_Winds_of_Winter_(Game_of_Thrones)\n",
      "#cite_note-6.10-80\n",
      "/wiki/Game_of_Thrones_(season_7)\n",
      "#cite_note-Futon-20\n",
      "/wiki/Dragonstone_(Game_of_Thrones_episode)\n",
      "/wiki/Jeremy_Podeswa\n",
      "/wiki/David_Benioff\n",
      "/wiki/D._B._Weiss\n",
      "#cite_note-s07e01-81\n",
      "/wiki/Stormborn\n",
      "/wiki/Mark_Mylod\n",
      "/wiki/Bryan_Cogman\n",
      "#cite_note-s07e02-82\n",
      "/wiki/The_Queen%27s_Justice\n",
      "#cite_note-s07e03-83\n",
      "/wiki/The_Spoils_of_War_(Game_of_Thrones)\n",
      "/wiki/Matt_Shakman\n",
      "#cite_note-s07e04-84\n",
      "/wiki/Eastwatch\n",
      "/wiki/Dave_Hill_(screenwriter)\n",
      "#cite_note-s07e05-85\n",
      "/wiki/Beyond_the_Wall_(Game_of_Thrones)\n",
      "/wiki/Alan_Taylor_(director)\n",
      "#cite_note-s07e06-86\n",
      "/wiki/The_Dragon_and_the_Wolf\n",
      "#cite_note-s07e07-87\n",
      "/wiki/DVD\n",
      "/wiki/Blu-ray\n",
      "/wiki/DVD_region_code#1\n",
      "/wiki/DVD_region_code#2\n",
      "/wiki/DVD_region_code#4\n",
      "#Season_1_(2011)\n",
      "#cite_note-88\n",
      "#cite_note-89\n",
      "#cite_note-90\n",
      "#Season_2_(2012)\n",
      "#cite_note-91\n",
      "#cite_note-92\n",
      "#cite_note-93\n",
      "#Season_3_(2013)\n",
      "#cite_note-94\n",
      "#cite_note-95\n",
      "#cite_note-96\n",
      "#Season_4_(2014)\n",
      "#cite_note-97\n",
      "#cite_note-98\n",
      "#cite_note-99\n",
      "#Season_5_(2015)\n",
      "#cite_note-100\n",
      "#cite_note-101\n",
      "#cite_note-102\n",
      "#Season_6_(2016)\n",
      "#cite_note-103\n",
      "#cite_note-104\n",
      "#cite_note-105\n",
      "#Season_7_(2017)\n",
      "#cite_note-106\n",
      "#cite_note-107\n",
      "#cite_note-108\n",
      "/w/index.php?title=Template:Game_of_Thrones_ratings&action=edit&redlink=1\n",
      "#cite_ref-1\n",
      "https://web.archive.org/web/20120817073932/http://tv.ign.com/articles/116/1160215p1.html\n",
      "/wiki/IGN\n",
      "http://tv.ign.com/articles/116/1160215p1.html\n",
      "/wiki/Template:Cite_web\n",
      "/wiki/Help:CS1_errors#parameter_ignored_suggest\n",
      "#cite_ref-2\n",
      "https://web.archive.org/web/20120516224747/http://www.variety.com/article/VR1117957532?refCatId=14\n",
      "/wiki/Variety_(magazine)\n",
      "http://www.variety.com/article/VR1117957532.html?categoryid=14&cs=1\n",
      "/wiki/Template:Cite_news\n",
      "/wiki/Help:CS1_errors#parameter_ignored_suggest\n",
      "#cite_ref-emmys.com_3-0\n",
      "#cite_ref-emmys.com_3-1\n",
      "http://www.emmys.com/shows/game-thrones\n",
      "/wiki/Emmy_Award\n",
      "#cite_ref-4\n",
      "https://web.archive.org/web/20120401123724/http://travel.usatoday.com/destinations/story/2012-04-01/Where-the-HBO-hit-Game-of-Thrones-was-filmed/53876876/1\n",
      "/wiki/USA_Today\n",
      "http://travel.usatoday.com/destinations/story/2012-04-01/Where-the-HBO-hit-Game-of-Thrones-was-filmed/53876876/1\n",
      "#cite_ref-5\n",
      "https://web.archive.org/web/20131016062544/http://blog.zap2it.com/frominsidethebox/2013/01/game-of-thrones-casts-a-bear-and-shoots-in-los-angeles-for-major-season-3-scene.html\n",
      "/wiki/Zap2it\n",
      "http://blog.zap2it.com/frominsidethebox/2013/01/game-of-thrones-casts-a-bear-and-shoots-in-los-angeles-for-major-season-3-scene.html\n",
      "/wiki/Template:Cite_web\n",
      "/wiki/Help:CS1_errors#parameter_ignored_suggest\n",
      "#cite_ref-6\n",
      "https://web.archive.org/web/20160821000000/http://www.theguardian.com/tv-and-radio/2014/jul/06/game-of-thrones-fifth-series-10000-spaniards-extras-spain\n",
      "/wiki/The_Guardian\n",
      "https://www.theguardian.com/tv-and-radio/2014/jul/06/game-of-thrones-fifth-series-10000-spaniards-extras-spain\n",
      "/wiki/Template:Cite_web\n",
      "/wiki/Help:CS1_errors#parameter_ignored_suggest\n",
      "#cite_ref-7\n",
      "https://web.archive.org/web/20160821000000/http://www.slate.com/articles/arts/culturebox/2012/03/game_of_thrones_how_hbo_and_showtime_make_money_despite_low_ratings_.html\n",
      "/wiki/Slate_(magazine)\n",
      "http://www.slate.com/articles/arts/culturebox/2012/03/game_of_thrones_how_hbo_and_showtime_make_money_despite_low_ratings_.html\n",
      "/wiki/Template:Cite_news\n",
      "/wiki/Help:CS1_errors#parameter_ignored_suggest\n",
      "#cite_ref-8\n",
      "https://web.archive.org/web/20160821000000/http://heavy.com/entertainment/2016/06/game-of-thrones-season-6-episode-9-air-time-channel-hbo-when-is-on-tonight-station-battle-of-the-bastards/\n",
      "/wiki/Heavy.com\n",
      "http://heavy.com/entertainment/2016/06/game-of-thrones-season-6-episode-9-air-time-channel-hbo-when-is-on-tonight-station-battle-of-the-bastards/\n",
      "/wiki/Template:Cite_news\n",
      "/wiki/Help:CS1_errors#parameter_ignored_suggest\n",
      "#cite_ref-9\n",
      "http://www.hbo.com/search?q=Game%20of%20Thrones&type=schedule\n",
      "/wiki/HBO\n",
      "#cite_ref-s7_renewed_10-0\n",
      "https://web.archive.org/web/20160905223946/http://deadline.com/2016/04/game-of-thrones-renewed-season-6-veep-silicon-valley-hbo-1201741600/\n",
      "/wiki/Deadline.com\n",
      "http://deadline.com/2016/04/game-of-thrones-renewed-season-6-veep-silicon-valley-hbo-1201741600/\n",
      "/wiki/Template:Cite_web\n",
      "/wiki/Help:CS1_errors#parameter_ignored_suggest\n",
      "#cite_ref-HBO_confirms_11-0\n",
      "https://web.archive.org/web/20160901123724/http://www.ew.com/article/2016/07/18/game-thrones-season-7\n",
      "/wiki/Entertainment_Weekly\n",
      "http://www.ew.com/article/2016/07/18/game-thrones-season-7\n",
      "/wiki/Template:Cite_web\n",
      "/wiki/Help:CS1_errors#parameter_ignored_suggest\n",
      "#cite_ref-12\n",
      "https://web.archive.org/web/20160901123724/http://www.ew.com/article/2016/07/30/game-thrones\n",
      "http://www.ew.com/article/2016/07/30/game-thrones\n",
      "/wiki/Template:Cite_web\n",
      "/wiki/Help:CS1_errors#parameter_ignored_suggest\n",
      "#cite_ref-13\n",
      "https://web.archive.org/web/20170312123724/http://variety.com/2017/tv/news/game-of-thrones-sxsw-panel-2017-highlights-1202007386/\n",
      "/wiki/Variety_(magazine)\n",
      "http://variety.com/2017/tv/news/game-of-thrones-sxsw-panel-2017-highlights-1202007386/\n",
      "/wiki/Template:Cite_web\n",
      "/wiki/Help:CS1_errors#parameter_ignored_suggest\n",
      "#cite_ref-average_2_14-0\n",
      "#cite_ref-average_2_14-1\n",
      "https://web.archive.org/web/20160901123724/http://tvseriesfinale.com/tv-show/game-of-thrones-season-two-ratings-22729/\n",
      "http://tvseriesfinale.com/tv-show/game-of-thrones-season-two-ratings-22729/\n",
      "/wiki/Template:Cite_web\n",
      "/wiki/Help:CS1_errors#parameter_ignored_suggest\n",
      "#cite_ref-15\n",
      "https://web.archive.org/web/20160901123724/http://tvseriesfinale.com/tv-show/game-of-thrones-season-three-ratings-27711/\n",
      "http://tvseriesfinale.com/tv-show/game-of-thrones-season-three-ratings-27711/\n",
      "/wiki/Template:Cite_web\n",
      "/wiki/Help:CS1_errors#parameter_ignored_suggest\n",
      "#cite_ref-16\n",
      "https://web.archive.org/web/20160901123724/http://tvseriesfinale.com/tv-show/game-of-thrones-season-four-ratings-32088/\n",
      "http://tvseriesfinale.com/tv-show/game-of-thrones-season-four-ratings-32088/\n",
      "/wiki/Template:Cite_web\n",
      "/wiki/Help:CS1_errors#parameter_ignored_suggest\n",
      "#cite_ref-17\n",
      "https://web.archive.org/web/20160901123724/http://tvseriesfinale.com/tv-show/game-of-thrones-season-five-ratings-36234/\n",
      "http://tvseriesfinale.com/tv-show/game-of-thrones-season-five-ratings-36234/\n",
      "/wiki/Template:Cite_web\n",
      "/wiki/Help:CS1_errors#parameter_ignored_suggest\n",
      "#cite_ref-18\n",
      "https://web.archive.org/web/20160901123724/http://tvseriesfinale.com/tv-show/game-thrones-season-six-ratings/\n",
      "http://tvseriesfinale.com/tv-show/game-thrones-season-six-ratings/\n",
      "/wiki/Template:Cite_web\n",
      "/wiki/Help:CS1_errors#parameter_ignored_suggest\n",
      "#cite_ref-19\n",
      "http://tvbythenumbers.zap2it.com/more-tv-news/game-of-thrones-season-7-finale-smashes-more-records-for-hbo//\n",
      "/wiki/Template:Cite_web\n",
      "/wiki/Help:CS1_errors#parameter_ignored_suggest\n",
      "#cite_ref-Futon_20-0\n",
      "#cite_ref-Futon_20-1\n",
      "#cite_ref-Futon_20-2\n",
      "#cite_ref-Futon_20-3\n",
      "#cite_ref-Futon_20-4\n",
      "#cite_ref-Futon_20-5\n",
      "#cite_ref-Futon_20-6\n",
      "http://www.thefutoncritic.com/showatch/game-of-thrones/listings/\n",
      "/wiki/The_Futon_Critic\n",
      "#cite_ref-21\n",
      "https://web.archive.org/web/20110423154028/http://tvbythenumbers.zap2it.com/2011/04/19/sunday-cable-ratings-nba-storage-wars-ax-men-khloe-lamar-the-killing-breakout-kings-sam-axe-game-of-thrones-much-more/89980\n",
      "/wiki/TV_by_the_Numbers\n",
      "http://tvbythenumbers.zap2it.com/2011/04/19/sunday-cable-ratings-nba-storage-wars-ax-men-khloe-lamar-the-killing-breakout-kings-sam-axe-game-of-thrones-much-more/89980\n",
      "#cite_ref-22\n",
      "https://web.archive.org/web/20110429171712/http://tvbythenumbers.zap2it.com/2011/04/26/sunday-cable-ratings-nba-khloe-lamar-the-killing-breakout-kings-housewives-game-of-thrones-much-more/90557\n",
      "http://tvbythenumbers.zap2it.com/2011/04/26/sunday-cable-ratings-nba-khloe-lamar-the-killing-breakout-kings-housewives-game-of-thrones-much-more/90557\n",
      "#cite_ref-23\n",
      "https://web.archive.org/web/20110506062854/http://tvbythenumbers.zap2it.com/2011/05/03/sunday-cable-ratings-more-death-of-bin-laden-ratings-khloe-lamar-law-order-ci-in-plain-sight-army-wives-housewives-game-of-thrones-much-more/91296\n",
      "http://tvbythenumbers.zap2it.com/2011/05/03/sunday-cable-ratings-more-death-of-bin-laden-ratings-khloe-lamar-law-order-ci-in-plain-sight-army-wives-housewives-game-of-thrones-much-more/91296\n",
      "#cite_ref-24\n",
      "https://web.archive.org/web/20110512045247/http://tvbythenumbers.zap2it.com/2011/05/10/sunday-cable-ratings-bullshawks-tops-law-order-ci-in-plain-sight-army-wives-housewives-game-of-thrones-much-more/92058/\n",
      "http://tvbythenumbers.zap2it.com/2011/05/10/sunday-cable-ratings-bullshawks-tops-law-order-ci-in-plain-sight-army-wives-housewives-game-of-thrones-much-more/92058/\n",
      "#cite_ref-25\n",
      "https://web.archive.org/web/20110521181701/http://tvbythenumbers.zap2it.com/2011/05/18/sunday-cable-ratings-heatbulls-slam-dunks-law-order-ci-in-plain-sight-army-wives-housewives-game-of-thrones-much-more/93124/\n",
      "http://tvbythenumbers.zap2it.com/2011/05/18/sunday-cable-ratings-heatbulls-slam-dunks-law-order-ci-in-plain-sight-army-wives-housewives-game-of-thrones-much-more/93124/\n",
      "#cite_ref-26\n",
      "https://web.archive.org/web/20110527163508/http://tvbythenumbers.zap2it.com/2011/05/24/sunday-cable-ratings-heatbulls-scores-big-law-order-ci-in-plain-sight-army-wives-housewives-game-of-thrones-much-more/93748/\n",
      "http://tvbythenumbers.zap2it.com/2011/05/24/sunday-cable-ratings-heatbulls-scores-big-law-order-ci-in-plain-sight-army-wives-housewives-game-of-thrones-much-more/93748/\n",
      "#cite_ref-27\n",
      "https://web.archive.org/web/20110603194915/http://tvbythenumbers.zap2it.com/2011/06/01/sunday-cable-ratings-my-big-fat-gypsy-wedding-breakout-kings-game-of-thrones-the-killing-more/94362/\n",
      "http://tvbythenumbers.zap2it.com/2011/06/01/sunday-cable-ratings-my-big-fat-gypsy-wedding-breakout-kings-game-of-thrones-the-killing-more/94362/\n",
      "#cite_ref-28\n",
      "https://web.archive.org/web/20110609181222/http://tvbythenumbers.zap2it.com/2011/06/07/sunday-cable-ratings-mtv-movie-awards-leads-night-game-of-thrones-series-high-real-housewives-abdc-lots-more/94914/\n",
      "http://tvbythenumbers.zap2it.com/2011/06/07/sunday-cable-ratings-mtv-movie-awards-leads-night-game-of-thrones-series-high-real-housewives-abdc-lots-more/94914/\n",
      "#cite_ref-29\n",
      "https://web.archive.org/web/20110616091944/http://tvbythenumbers.zap2it.com/2011/06/14/sunday-cable-ratings-game-of-thrones-real-housewives-kardashians-in-plain-sight-army-wives-more/95543/\n",
      "http://tvbythenumbers.zap2it.com/2011/06/14/sunday-cable-ratings-game-of-thrones-real-housewives-kardashians-in-plain-sight-army-wives-more/95543/\n",
      "#cite_ref-30\n",
      "https://web.archive.org/web/20110624184644/http://tvbythenumbers.zap2it.com/2011/06/21/sunday-cable-ratings-falling-skies-game-of-thrones-the-killing-in-plain-sight-law-order-ci-the-glades-and-much-more/96119//\n",
      "http://tvbythenumbers.zap2it.com/2011/06/21/sunday-cable-ratings-falling-skies-game-of-thrones-the-killing-in-plain-sight-law-order-ci-the-glades-and-much-more/96119/\n",
      "#cite_ref-31\n",
      "https://web.archive.org/web/20120404231719/http://tvbythenumbers.zap2it.com/2012/04/03/sunday-cable-ratingsgame-of-thrones-returns-higher-khloe-lamar-the-killing-mad-menarmy-wives-more/127202/\n",
      "/wiki/TV_by_the_Numbers\n",
      "http://tvbythenumbers.zap2it.com/2012/04/03/sunday-cable-ratingsgame-of-thrones-returns-higher-khloe-lamar-the-killing-mad-menarmy-wives-more/127202\n",
      "#cite_ref-32\n",
      "https://web.archive.org/web/20120413004039/http://tvbythenumbers.zap2it.com/2012/04/10/sunday-cable-ratings-game-of-thrones-leads-atlanta-housewives-mad-men-khloe-lamar-army-wives-the-client-list-much-more/128221/\n",
      "http://tvbythenumbers.zap2it.com/2012/04/10/sunday-cable-ratings-game-of-thrones-leads-atlanta-housewives-mad-men-khloe-lamar-army-wives-the-client-list-much-more/128221/\n",
      "#cite_ref-33\n",
      "https://web.archive.org/web/20120419102713/http://tvbythenumbers.zap2it.com/2012/04/17/sunday-cable-ratings-game-of-thrones-real-housewives-atl-mad-men-khloe-lamar-the-client-list-more/129431/\n",
      "http://tvbythenumbers.zap2it.com/2012/04/17/sunday-cable-ratings-game-of-thrones-real-housewives-atl-mad-men-khloe-lamar-the-client-list-more/129431/\n",
      "#cite_ref-34\n",
      "https://web.archive.org/web/20120427003910/http://tvbythenumbers.zap2it.com/2012/04/24/sunday-cable-ratings-game-of-thrones-real-housewives-atl-mad-men-khloe-lamar-the-client-list-more-2/130469/\n",
      "http://tvbythenumbers.zap2it.com/2012/04/24/sunday-cable-ratings-game-of-thrones-real-housewives-atl-mad-men-khloe-lamar-the-client-list-more-2/130469/\n",
      "#cite_ref-35\n",
      "https://web.archive.org/web/20120503204826/http://tvbythenumbers.zap2it.com/2012/05/01/sunday-cable-ratings-game-of-thrones-rises-ties-nba-playoffs-real-housewives-the-client-list-army-wives-mad-men-more/131531/\n",
      "http://tvbythenumbers.zap2it.com/2012/05/01/sunday-cable-ratings-game-of-thrones-rises-ties-nba-playoffs-real-housewives-the-client-list-army-wives-mad-men-more/131531/\n",
      "#cite_ref-36\n",
      "https://web.archive.org/web/20120510023725/http://tvbythenumbers.zap2it.com/2012/05/08/sunday-cable-ratings-nba-playoffs-game-of-thrones-the-client-list-khloe-lamar-mad-men-more/132856/\n",
      "http://tvbythenumbers.zap2it.com/2012/05/08/sunday-cable-ratings-nba-playoffs-game-of-thrones-the-client-list-khloe-lamar-mad-men-more/132856/\n",
      "#cite_ref-37\n",
      "https://web.archive.org/web/20120518005551/http://tvbythenumbers.zap2it.com/2012/05/15/sunday-cable-ratings-game-of-thrones-tops-real-housewives-nj-the-client-list-khloe-lamar-army-wives-more/134164/\n",
      "http://tvbythenumbers.zap2it.com/2012/05/15/sunday-cable-ratings-game-of-thrones-tops-real-housewives-nj-the-client-list-khloe-lamar-army-wives-more/134164/\n",
      "#cite_ref-38\n",
      "https://web.archive.org/web/20120525060743/http://tvbythenumbers.zap2it.com/2012/05/22/sunday-cable-ratings-nba-playoffs-game-of-thrones-keeping-up-with-the-kardashians-ax-men-the-client-list-sister-wives-more/135295/\n",
      "http://tvbythenumbers.zap2it.com/2012/05/22/sunday-cable-ratings-nba-playoffs-game-of-thrones-keeping-up-with-the-kardashians-ax-men-the-client-list-sister-wives-more/135295/\n",
      "#cite_ref-39\n",
      "https://web.archive.org/web/20120602032344/http://tvbythenumbers.zap2it.com/2012/05/30/sunday-cable-ratings-nba-playoffs-win-night-game-of-thrones-mad-men-keeping-up-with-the-kardashians-girls-pawn-stars-more/136102/\n",
      "http://tvbythenumbers.zap2it.com/2012/05/30/sunday-cable-ratings-nba-playoffs-win-night-game-of-thrones-mad-men-keeping-up-with-the-kardashians-girls-pawn-stars-more/136102/\n",
      "#cite_ref-40\n",
      "https://web.archive.org/web/20120607211006/http://tvbythenumbers.zap2it.com/2012/06/05/sunday-cable-ratings-nba-playoffs-game-of-thrones-finale-mtv-movie-awards-sister-wives-the-glades-longmire-more/136802/\n",
      "http://tvbythenumbers.zap2it.com/2012/06/05/sunday-cable-ratings-nba-playoffs-game-of-thrones-finale-mtv-movie-awards-sister-wives-the-glades-longmire-more/136802/\n",
      "#cite_ref-41\n",
      "https://web.archive.org/web/20130404222250/http://tvbythenumbers.zap2it.com/2013/04/02/sunday-cable-ratings-the-walking-dead-wins-night-game-of-thrones-the-bible-vikings-shameless-the-client-list-more/175901/\n",
      "/wiki/TV_by_the_Numbers\n",
      "http://tvbythenumbers.zap2it.com/2013/04/02/sunday-cable-ratings-the-walking-dead-wins-night-game-of-thrones-the-bible-vikings-shameless-the-client-list-more/175901/\n",
      "#cite_ref-42\n",
      "https://web.archive.org/web/20130412085124/http://tvbythenumbers.zap2it.com/2013/04/09/sunday-cable-ratings-game-of-thrones-wins-night-real-housewives-of-atlanta-kourtney-kim-take-miami-vikings-mad-men-more/177076/\n",
      "http://tvbythenumbers.zap2it.com/2013/04/09/sunday-cable-ratings-game-of-thrones-wins-night-real-housewives-of-atlanta-kourtney-kim-take-miami-vikings-mad-men-more/177076/\n",
      "#cite_ref-43\n",
      "https://web.archive.org/web/20130419043731/http://tvbythenumbers.zap2it.com/2013/04/16/sunday-cable-ratings-game-of-thrones-wins-night-mtv-movie-awards-vikings-mad-menthe-client-list-veep-more/178049/\n",
      "http://tvbythenumbers.zap2it.com/2013/04/16/sunday-cable-ratings-game-of-thrones-wins-night-mtv-movie-awards-vikings-mad-menthe-client-list-veep-more/178049/\n",
      "#cite_ref-44\n",
      "https://web.archive.org/web/20130425211600/http://tvbythenumbers.zap2it.com/2013/04/23/sunday-cable-ratings-game-of-thrones-wins-night-nba-playoffs-real-housewives-of-atlanta-vikings-more/179182/\n",
      "http://tvbythenumbers.zap2it.com/2013/04/23/sunday-cable-ratings-game-of-thrones-wins-night-nba-playoffs-real-housewives-of-atlanta-vikings-more/179182/\n",
      "#cite_ref-45\n",
      "https://web.archive.org/web/20130503030511/http://tvbythenumbers.zap2it.com/2013/04/30/sunday-cable-ratings-game-of-thrones-wins-night-nba-playoffs-vikings-the-client-list-mad-men-veep-more/180165/\n",
      "http://tvbythenumbers.zap2it.com/2013/04/30/sunday-cable-ratings-game-of-thrones-wins-night-nba-playoffs-vikings-the-client-list-mad-men-veep-more/180165/\n",
      "#cite_ref-46\n",
      "https://web.archive.org/web/20130510033336/http://tvbythenumbers.zap2it.com/2013/05/07/sunday-cable-ratings-game-of-thrones-wins-night-ax-men-mad-men-army-wives-the-client-list-more/181265/\n",
      "http://tvbythenumbers.zap2it.com/2013/05/07/sunday-cable-ratings-game-of-thrones-wins-night-ax-men-mad-men-army-wives-the-client-list-more/181265/\n",
      "#cite_ref-47\n",
      "https://web.archive.org/web/20130607112615/http://tvbythenumbers.zap2it.com/2013/05/14/sunday-cable-ratings-game-of-thrones-wins-night-breaking-amish-mad-men-long-island-medium-river-monsters-more/182590/\n",
      "http://tvbythenumbers.zap2it.com/2013/05/14/sunday-cable-ratings-game-of-thrones-wins-night-breaking-amish-mad-men-long-island-medium-river-monsters-more/182590/\n",
      "#cite_ref-48\n",
      "https://web.archive.org/web/20130607112730/http://tvbythenumbers.zap2it.com/2013/05/21/sunday-cable-ratingsgame-of-thrones-wins-night-north-america-mad-men-veep-the-client-list-more/183402/\n",
      "http://tvbythenumbers.zap2it.com/2013/05/21/sunday-cable-ratingsgame-of-thrones-wins-night-north-america-mad-men-veep-the-client-list-more/183402/\n",
      "#cite_ref-49\n",
      "https://web.archive.org/web/20130608010043/http://tvbythenumbers.zap2it.com/2013/06/04/sunday-cable-ratings-game-of-thrones-wins-night-keeping-up-with-the-kardashians-real-housewives-of-new-jersey-breaking-amish-mad-men-more/185649/\n",
      "http://tvbythenumbers.zap2it.com/2013/06/04/sunday-cable-ratings-game-of-thrones-wins-night-keeping-up-with-the-kardashians-real-housewives-of-new-jersey-breaking-amish-mad-men-more/185649/\n",
      "#cite_ref-50\n",
      "https://web.archive.org/web/20130614195306/http://tvbythenumbers.zap2it.com/2013/06/11/sunday-cable-ratings-game-of-thrones-wins-night-falling-skies-mad-men-army-wives-veep-the-client-list-more-more/186683/\n",
      "http://tvbythenumbers.zap2it.com/2013/06/11/sunday-cable-ratings-game-of-thrones-wins-night-falling-skies-mad-men-army-wives-veep-the-client-list-more-more/186683/\n",
      "#cite_ref-51\n",
      "https://web.archive.org/web/20140408224954/http://tvbythenumbers.zap2it.com/2014/04/08/sunday-cable-ratings-game-of-thrones-wins-night-the-real-housewives-of-atlanta-silicon-valley-married-to-medicine-more/251918/\n",
      "http://tvbythenumbers.zap2it.com/2014/04/08/sunday-cable-ratings-game-of-thrones-wins-night-the-real-housewives-of-atlanta-silicon-valley-married-to-medicine-more/251918/\n",
      "#cite_ref-52\n",
      "https://web.archive.org/web/20140416001123/http://tvbythenumbers.zap2it.com/2014/04/15/sunday-cable-ratings-game-of-thrones-wins-night-real-housewives-of-atlanta-mtv-movie-awards-silicon-valley-mad-men-drop-dead-diva-more/254110/\n",
      "http://tvbythenumbers.zap2it.com/2014/04/15/sunday-cable-ratings-game-of-thrones-wins-night-real-housewives-of-atlanta-mtv-movie-awards-silicon-valley-mad-men-drop-dead-diva-more/254110/\n",
      "#cite_ref-53\n",
      "https://web.archive.org/web/20140424031717/http://tvbythenumbers.zap2it.com/2014/04/22/sunday-cable-ratings-game-of-thrones-wins-night-nba-playoffs-real-housewives-of-atlanta-naked-and-afraid-more/256183/\n",
      "http://tvbythenumbers.zap2it.com/2014/04/22/sunday-cable-ratings-game-of-thrones-wins-night-nba-playoffs-real-housewives-of-atlanta-naked-and-afraid-more/256183/\n",
      "#cite_ref-54\n",
      "https://web.archive.org/web/20140429183802/http://tvbythenumbers.zap2it.com/2014/04/29/sunday-cable-ratings-game-of-thrones-wins-night-nba-playoffs-real-housewives-of-atlanta-mad-men-devious-maids-more/258458/\n",
      "http://tvbythenumbers.zap2it.com/2014/04/29/sunday-cable-ratings-game-of-thrones-wins-night-nba-playoffs-real-housewives-of-atlanta-mad-men-devious-maids-more/258458/\n",
      "#cite_ref-55\n",
      "https://web.archive.org/web/20140506164134/http://tvbythenumbers.zap2it.com/2014/05/06/sunday-cable-ratings-game-of-thrones-wins-night-real-housewives-of-atlanta-married-to-medicine-silicon-valley-more/260613/\n",
      "http://tvbythenumbers.zap2it.com/2014/05/06/sunday-cable-ratings-game-of-thrones-wins-night-real-housewives-of-atlanta-married-to-medicine-silicon-valley-more/260613/\n",
      "#cite_ref-56\n",
      "https://web.archive.org/web/20140514024434/http://tvbythenumbers.zap2it.com/2014/05/13/sunday-cable-ratings-game-of-thrones-wins-night-nba-playoffs-silicon-valley-bar-rescue-real-housewives-of-atlanta-mad-men-more/263258/\n",
      "http://tvbythenumbers.zap2it.com/2014/05/13/sunday-cable-ratings-game-of-thrones-wins-night-nba-playoffs-silicon-valley-bar-rescue-real-housewives-of-atlanta-mad-men-more/263258/\n",
      "#cite_ref-57\n",
      "https://web.archive.org/web/20140520220200/http://tvbythenumbers.zap2it.com/2014/05/20/sunday-cable-ratings-game-of-thrones-wins-night-silicon-valley-real-housewives-of-atlanta-river-monsters-married-to-medicine-more/265704/\n",
      "http://tvbythenumbers.zap2it.com/2014/05/20/sunday-cable-ratings-game-of-thrones-wins-night-silicon-valley-real-housewives-of-atlanta-river-monsters-married-to-medicine-more/265704/\n",
      "#cite_ref-58\n",
      "https://web.archive.org/web/20140606141926/http://tvbythenumbers.zap2it.com/2014/06/03/sunday-cable-ratings-game-of-thrones-wins-night-nhl-conference-finals-real-housewives-of-atlanta-kandis-wedding-silicon-valley-more/269702/\n",
      "http://tvbythenumbers.zap2it.com/2014/06/03/sunday-cable-ratings-game-of-thrones-wins-night-nhl-conference-finals-real-housewives-of-atlanta-kandis-wedding-silicon-valley-more/269702/\n",
      "#cite_ref-59\n",
      "https://web.archive.org/web/20140614030809/http://tvbythenumbers.zap2it.com/2014/06/10/sunday-cable-ratings-game-of-thrones-wins-night-keeping-up-with-the-kardashians-devious-maids-veep-turn-more/271830/\n",
      "http://tvbythenumbers.zap2it.com/2014/06/10/sunday-cable-ratings-game-of-thrones-wins-night-keeping-up-with-the-kardashians-devious-maids-veep-turn-more/271830/\n",
      "#cite_ref-60\n",
      "https://web.archive.org/web/20140620101205/http://tvbythenumbers.zap2it.com/2014/06/17/sunday-cable-ratings-game-of-thrones-wins-night-world-cup-soccer-keeping-up-with-the-kardashians-nascar-more/274033/\n",
      "http://tvbythenumbers.zap2it.com/2014/06/17/sunday-cable-ratings-game-of-thrones-wins-night-world-cup-soccer-keeping-up-with-the-kardashians-nascar-more/274033/\n",
      "#cite_ref-5.01_61-0\n",
      "https://web.archive.org/web/20160901123724/http://tvbythenumbers.zap2it.com/2015/04/14/sunday-cable-ratings-game-of-thrones-wins-night-silicon-valley-mtv-movie-awards-mad-men-veep-the-royals-more/388550/\n",
      "/wiki/TV_by_the_Numbers\n",
      "http://tvbythenumbers.zap2it.com/2015/04/14/sunday-cable-ratings-game-of-thrones-wins-night-silicon-valley-mtv-movie-awards-mad-men-veep-the-royals-more/388550/\n",
      "#cite_ref-5.02_62-0\n",
      "https://web.archive.org/web/20160901123724/http://tvbythenumbers.zap2it.com/2015/04/21/sunday-cable-ratings-game-of-thrones-tops-night-nba-playoffs-real-housewives-of-atlanta-naked-and-afraid-more/392154/\n",
      "http://tvbythenumbers.zap2it.com/2015/04/21/sunday-cable-ratings-game-of-thrones-tops-night-nba-playoffs-real-housewives-of-atlanta-naked-and-afraid-more/392154/\n",
      "#cite_ref-5.03_63-0\n",
      "https://web.archive.org/web/20160901123724/http://tvbythenumbers.zap2it.com/2015/04/28/sunday-cable-ratings-game-of-thrones-wins-night-nba-playoffs-real-housewives-of-atlanta-silicon-valley-mad-men-more/395207/\n",
      "http://tvbythenumbers.zap2it.com/2015/04/28/sunday-cable-ratings-game-of-thrones-wins-night-nba-playoffs-real-housewives-of-atlanta-silicon-valley-mad-men-more/395207/\n",
      "#cite_ref-5.04_64-0\n",
      "https://web.archive.org/web/20160901123724/http://tvbythenumbers.zap2it.com/2015/05/05/sunday-cable-ratings-game-of-thrones-tops-night-real-housewives-of-atlanta-silicon-valley-more/399327/\n",
      "http://tvbythenumbers.zap2it.com/2015/05/05/sunday-cable-ratings-game-of-thrones-tops-night-real-housewives-of-atlanta-silicon-valley-more/399327/\n",
      "#cite_ref-5.05_65-0\n",
      "https://web.archive.org/web/20160901123724/http://tvbythenumbers.zap2it.com/2015/05/12/sunday-cable-ratings-game-of-thrones-wins-night-nba-playoffs-silicon-valley-mad-men-the-royals-veep-more/402701/\n",
      "http://tvbythenumbers.zap2it.com/2015/05/12/sunday-cable-ratings-game-of-thrones-wins-night-nba-playoffs-silicon-valley-mad-men-the-royals-veep-more/402701/\n",
      "#cite_ref-5.06_66-0\n",
      "https://web.archive.org/web/20160901123724/http://tvbythenumbers.zap2it.com/2015/05/19/sunday-cable-ratings-game-of-thrones-tops-night-keeping-up-with-the-kardashians-mad-men-more/405665/\n",
      "http://tvbythenumbers.zap2it.com/2015/05/19/sunday-cable-ratings-game-of-thrones-tops-night-keeping-up-with-the-kardashians-mad-men-more/405665/\n",
      "#cite_ref-5.07_67-0\n",
      "https://web.archive.org/web/20160901123724/http://tvbythenumbers.zap2it.com/2015/05/27/sunday-cable-ratings-nba-conference-finals-win-night-game-of-thrones-silicon-valley-keeping-up-with-the-kardashians-veep-more/408392/\n",
      "http://tvbythenumbers.zap2it.com/2015/05/27/sunday-cable-ratings-nba-conference-finals-win-night-game-of-thrones-silicon-valley-keeping-up-with-the-kardashians-veep-more/408392/\n",
      "#cite_ref-5.08_68-0\n",
      "https://web.archive.org/web/20160901123724/http://tvbythenumbers.zap2it.com/2015/06/02/sunday-cable-ratings-game-of-thrones-tops-night-keeping-up-with-the-kardashians-silicon-valley-naked-and-afraid-more/411032/\n",
      "http://tvbythenumbers.zap2it.com/2015/06/02/sunday-cable-ratings-game-of-thrones-tops-night-keeping-up-with-the-kardashians-silicon-valley-naked-and-afraid-more/411032/\n",
      "#cite_ref-5.09_69-0\n",
      "https://web.archive.org/web/20160901123724/http://tvbythenumbers.zap2it.com/2015/06/09/sunday-cable-ratings-game-of-thrones-wins-night-silicon-valley-naked-afraid-married-to-medicine-veep-more/414320/\n",
      "http://tvbythenumbers.zap2it.com/2015/06/09/sunday-cable-ratings-game-of-thrones-wins-night-silicon-valley-naked-afraid-married-to-medicine-veep-more/414320/\n",
      "#cite_ref-finale_ratings_70-0\n",
      "https://web.archive.org/web/20160610161844/http://tvbythenumbers.zap2it.com/2015/06/16/sunday-cable-ratings-game-of-thrones-tops-night-silicon-valley-nascar-botched-more/417761/\n",
      "http://tvbythenumbers.zap2it.com/2015/06/16/sunday-cable-ratings-game-of-thrones-tops-night-silicon-valley-nascar-botched-more/417761/\n",
      "#cite_ref-6.01_71-0\n",
      "https://web.archive.org/web/20160901123724/http://tvbythenumbers.zap2it.com/2016/04/26/sunday-cable-ratings-april-24-2016/\n",
      "/wiki/TV_by_the_Numbers\n",
      "http://tvbythenumbers.zap2it.com/2016/04/26/sunday-cable-ratings-april-24-2016/\n",
      "#cite_ref-6.02_72-0\n",
      "https://web.archive.org/web/20160901123724/http://tvbythenumbers.zap2it.com/2016/05/03/sunday-cable-ratings-may-1-2016/\n",
      "http://tvbythenumbers.zap2it.com/2016/05/03/sunday-cable-ratings-may-1-2016/\n",
      "#cite_ref-6.03_73-0\n",
      "https://web.archive.org/web/20160901123724/http://tvbythenumbers.zap2it.com/2016/05/10/sunday-cable-ratings-may-8-2016/\n",
      "http://tvbythenumbers.zap2it.com/2016/05/10/sunday-cable-ratings-may-8-2016/\n",
      "#cite_ref-6.04_74-0\n",
      "https://web.archive.org/web/20160901123724/http://tvbythenumbers.zap2it.com/2016/05/17/sunday-cable-ratings-game-of-thrones-rises-fear-the-walking-dead-falls/\n",
      "http://tvbythenumbers.zap2it.com/2016/05/17/sunday-cable-ratings-game-of-thrones-rises-fear-the-walking-dead-falls/\n",
      "#cite_ref-6.05_75-0\n",
      "https://web.archive.org/web/20160926224753/http://tvbythenumbers.zap2it.com/2016/05/24/sunday-cable-ratings-may-22-2016/\n",
      "http://tvbythenumbers.zap2it.com/2016/05/24/sunday-cable-ratings-may-22-2016/\n",
      "#cite_ref-6.06_76-0\n",
      "https://web.archive.org/web/20160901123724/http://tvbythenumbers.zap2it.com/2016/06/01/sunday-cable-ratings-may-29-2016/\n",
      "http://tvbythenumbers.zap2it.com/2016/06/01/sunday-cable-ratings-may-29-2016/\n",
      "#cite_ref-6.07_77-0\n",
      "https://web.archive.org/web/20160828033328/http://tvbythenumbers.zap2it.com/2016/06/07/sunday-cable-ratings-june-5-2016/\n",
      "http://tvbythenumbers.zap2it.com/2016/06/07/sunday-cable-ratings-june-5-2016/\n",
      "#cite_ref-6.08_78-0\n",
      "https://web.archive.org/web/20160901123724/http://tvbythenumbers.zap2it.com/2016/06/14/sunday-cable-ratings-june-12-2016/\n",
      "http://tvbythenumbers.zap2it.com/2016/06/14/sunday-cable-ratings-june-12-2016/\n",
      "#cite_ref-6.09_79-0\n",
      "https://web.archive.org/web/20160915043520/http://tvbythenumbers.zap2it.com/2016/06/21/sunday-cable-ratings-june-19-2016/\n",
      "http://tvbythenumbers.zap2it.com/2016/06/21/sunday-cable-ratings-june-19-2016/\n",
      "#cite_ref-6.10_80-0\n",
      "https://web.archive.org/web/20160901123724/http://tvbythenumbers.zap2it.com/2016/06/28/sunday-cable-ratings-june-26-2016/\n",
      "http://tvbythenumbers.zap2it.com/2016/06/28/sunday-cable-ratings-june-26-2016/\n",
      "#cite_ref-s07e01_81-0\n",
      "https://web.archive.org/web/20170730232116/http://tvbythenumbers.zap2it.com/daily-ratings/game-of-thrones-scores-series-best-audience-with-season-7-premiere/\n",
      "/wiki/TV_by_the_Numbers\n",
      "http://tvbythenumbers.zap2it.com/daily-ratings/game-of-thrones-scores-series-best-audience-with-season-7-premiere/\n",
      "#cite_ref-s07e02_82-0\n",
      "https://web.archive.org/web/20170725182750/http://tvbythenumbers.zap2it.com/daily-ratings/sunday-cable-ratings-july-23-2017/\n",
      "/wiki/TV_by_the_Numbers\n",
      "http://tvbythenumbers.zap2it.com/daily-ratings/sunday-cable-ratings-july-23-2017/\n",
      "#cite_ref-s07e03_83-0\n",
      "https://web.archive.org/web/20170801193447/http://tvbythenumbers.zap2it.com/daily-ratings/sunday-cable-ratings-july-30-2017/\n",
      "/wiki/TV_by_the_Numbers\n",
      "http://tvbythenumbers.zap2it.com/daily-ratings/sunday-cable-ratings-july-30-2017/\n",
      "#cite_ref-s07e04_84-0\n",
      "https://web.archive.org/web/20170808224152/http://tvbythenumbers.zap2it.com/daily-ratings/sunday-cable-ratings-aug-6-2017/\n",
      "/wiki/TV_by_the_Numbers\n",
      "http://tvbythenumbers.zap2it.com/daily-ratings/sunday-cable-ratings-aug-6-2017/\n",
      "#cite_ref-s07e05_85-0\n",
      "https://web.archive.org/web/20170815222212/http://tvbythenumbers.zap2it.com/daily-ratings/sunday-cable-ratings-aug-13-2017/\n",
      "/wiki/TV_by_the_Numbers\n",
      "http://tvbythenumbers.zap2it.com/daily-ratings/sunday-cable-ratings-aug-13-2017/\n",
      "#cite_ref-s07e06_86-0\n",
      "https://web.archive.org/web/20170822201353/http://tvbythenumbers.zap2it.com/daily-ratings/sunday-cable-ratings-aug-20-2017/\n",
      "/wiki/TV_by_the_Numbers\n",
      "http://tvbythenumbers.zap2it.com/daily-ratings/sunday-cable-ratings-aug-20-2017/\n",
      "#cite_ref-s07e07_87-0\n",
      "https://web.archive.org/web/20170829203817/http://tvbythenumbers.zap2it.com/daily-ratings/sunday-cable-ratings-aug-27-2017/\n",
      "/wiki/TV_by_the_Numbers\n",
      "http://tvbythenumbers.zap2it.com/daily-ratings/sunday-cable-ratings-aug-27-2017/\n",
      "#cite_ref-88\n",
      "https://web.archive.org/web/20160901123724/http://www.tvshowsondvd.com/news/Game-Thrones-Season-1-Press-Release/16277\n",
      "/wiki/TVShowsOnDVD.com\n",
      "http://www.tvshowsondvd.com/news/Game-Thrones-Season-1-Press-Release/16277\n",
      "/wiki/Template:Cite_web\n",
      "/wiki/Help:CS1_errors#parameter_ignored_suggest\n",
      "#cite_ref-89\n",
      "https://web.archive.org/web/20160619023517/https://www.amazon.co.uk/Game-Thrones-Season-1-DVD/dp/B004LRO176\n",
      "https://www.amazon.co.uk/Game-Thrones-Season-1-DVD/dp/B004LRO176/\n",
      "/wiki/Template:Cite_web\n",
      "/wiki/Help:CS1_errors#parameter_ignored_suggest\n",
      "#cite_ref-90\n",
      "https://web.archive.org/web/20161114014955/https://www.jbhifi.com.au/movies-tv-shows/movies-tv-shows-on-sale/tv-fantasy/game-of-thrones-season-1/291196/\n",
      "https://www.jbhifi.com.au/movies-tv-shows/movies-tv-shows-on-sale/tv-fantasy/game-of-thrones-season-1/291196/\n",
      "/wiki/Template:Cite_web\n",
      "/wiki/Help:CS1_errors#parameter_ignored_suggest\n",
      "#cite_ref-91\n",
      "https://web.archive.org/web/20160901123724/http://www.tvshowsondvd.com/news/Game-Thrones-Season-2/17767\n",
      "http://www.tvshowsondvd.com/news/Game-Thrones-Season-2/17767\n",
      "/wiki/Template:Cite_web\n",
      "/wiki/Help:CS1_errors#parameter_ignored_suggest\n",
      "#cite_ref-92\n",
      "https://web.archive.org/web/20161114015044/https://www.amazon.co.uk/d/DVD-Blu-ray/Game-Thrones-Season-2-2013-Lena-Headey/B005PN8BUS/\n",
      "https://www.amazon.co.uk/d/DVD-Blu-ray/Game-Thrones-Season-2-2013-Lena-Headey/B005PN8BUS/\n",
      "/wiki/Template:Cite_web\n",
      "/wiki/Help:CS1_errors#parameter_ignored_suggest\n",
      "#cite_ref-93\n",
      "https://web.archive.org/web/20161114015145/https://www.jbhifi.com.au/movies-tv-shows/movies-tv-shows-on-sale/tv-fantasy/game-of-thrones-season-2/393699/\n",
      "https://www.jbhifi.com.au/movies-tv-shows/movies-tv-shows-on-sale/tv-fantasy/game-of-thrones-season-2/393699/\n",
      "/wiki/Template:Cite_web\n",
      "/wiki/Help:CS1_errors#parameter_ignored_suggest\n",
      "#cite_ref-94\n",
      "https://web.archive.org/web/20160901123724/http://tvshowsondvd.com/news/Game-Thrones-Season-3/18611\n",
      "http://tvshowsondvd.com/news/Game-Thrones-Season-3/18611\n",
      "/wiki/Template:Cite_web\n",
      "/wiki/Help:CS1_errors#parameter_ignored_suggest\n",
      "#cite_ref-95\n",
      "https://web.archive.org/web/20160619024301/https://www.amazon.co.uk/Game-Thrones-Season-3-DVD/dp/B00AQGE43M\n",
      "https://www.amazon.co.uk/Game-Thrones-Season-3-DVD/dp/B00AQGE43M/\n",
      "/wiki/Template:Cite_web\n",
      "/wiki/Help:CS1_errors#parameter_ignored_suggest\n",
      "#cite_ref-96\n",
      "https://web.archive.org/web/20150527074013/https://www.jbhifi.com.au/movies-tv-shows/movies-tv-shows-on-sale/tv-fantasy/game-of-thrones-season-3/526290/\n",
      "https://www.jbhifi.com.au/movies-tv-shows/movies-tv-shows-on-sale/tv-fantasy/game-of-thrones-season-3/526290/\n",
      "/wiki/Template:Cite_web\n",
      "/wiki/Help:CS1_errors#parameter_ignored_suggest\n",
      "#cite_ref-97\n",
      "https://web.archive.org/web/20160901123724/http://www.tvshowsondvd.com/news/Game-Thrones-Season-4/20065\n",
      "http://www.tvshowsondvd.com/news/Game-Thrones-Season-4/20065\n",
      "/wiki/Template:Cite_web\n",
      "/wiki/Help:CS1_errors#parameter_ignored_suggest\n",
      "#cite_ref-98\n",
      "https://web.archive.org/web/20160818003357/https://www.amazon.co.uk/Game-Thrones-Season-4-DVD/dp/B00DY64C8S\n",
      "https://www.amazon.co.uk/Game-Thrones-Season-4-DVD/dp/B00DY64C8S/\n",
      "/wiki/Template:Cite_web\n",
      "/wiki/Help:CS1_errors#parameter_ignored_suggest\n",
      "#cite_ref-99\n",
      "https://web.archive.org/web/20160510021547/https://www.jbhifi.com.au/movies-tv-shows/movies-tv-shows-on-sale/tv-fantasy/game-of-thrones-season-4/611100/\n",
      "https://www.jbhifi.com.au/movies-tv-shows/movies-tv-shows-on-sale/tv-fantasy/game-of-thrones-season-4/611100/\n",
      "/wiki/Template:Cite_web\n",
      "/wiki/Help:CS1_errors#parameter_ignored_suggest\n",
      "#cite_ref-100\n",
      "https://web.archive.org/web/20160901123724/http://www.amazon.com/dp/B00VSG3MSC/\n",
      "/wiki/Amazon.com\n",
      "https://www.amazon.com/dp/B00VSG3MSC/\n",
      "/wiki/Template:Cite_web\n",
      "/wiki/Help:CS1_errors#parameter_ignored_suggest\n",
      "#cite_ref-101\n",
      "https://web.archive.org/web/20161114015534/https://www.amazon.co.uk/Game-Thrones-Season-5-DVD-x/dp/B010BY2AQ6/\n",
      "https://www.amazon.co.uk/Game-Thrones-Season-5-DVD-x/dp/B010BY2AQ6/\n",
      "/wiki/Template:Cite_web\n",
      "/wiki/Help:CS1_errors#parameter_ignored_suggest\n",
      "#cite_ref-102\n",
      "https://web.archive.org/web/20160516112155/https://www.jbhifi.com.au/movies-tv-shows/movies-tv-shows-on-sale/tv-fantasy/game-of-thrones-season-5/927320/\n",
      "https://www.jbhifi.com.au/movies-tv-shows/movies-tv-shows-on-sale/tv-fantasy/game-of-thrones-season-5/927320/\n",
      "/wiki/Template:Cite_web\n",
      "/wiki/Help:CS1_errors#parameter_ignored_suggest\n",
      "#cite_ref-103\n",
      "https://web.archive.org/web/20160901123724/http://www.amazon.com/dp/B01H2JPULU/\n",
      "https://www.amazon.com/dp/B01H2JPULU/\n",
      "/wiki/Template:Cite_web\n",
      "/wiki/Help:CS1_errors#parameter_ignored_suggest\n",
      "#cite_ref-104\n",
      "https://web.archive.org/web/20161109105347/https://www.amazon.co.uk/Game-Thrones-Season-6-DVD/dp/B018SBSAJK\n",
      "https://www.amazon.co.uk/Game-Thrones-Season-6-DVD/dp/B018SBSAJK/\n",
      "/wiki/Template:Cite_web\n",
      "/wiki/Help:CS1_errors#parameter_ignored_suggest\n",
      "#cite_ref-105\n",
      "https://web.archive.org/web/20161114015700/https://www.jbhifi.com.au/movies-tv-shows/movies-tv-shows-on-sale/tv-fantasy/game-of-thrones-season-6/988991/\n",
      "https://www.jbhifi.com.au/movies-tv-shows/movies-tv-shows-on-sale/tv-fantasy/game-of-thrones-season-6/988991/\n",
      "/wiki/Template:Cite_web\n",
      "/wiki/Help:CS1_errors#parameter_ignored_suggest\n",
      "#cite_ref-106\n",
      "https://web.archive.org/web/20170726011355/http://www.tvshowsondvd.com/news/Game-Thrones-Season-7/23505\n",
      "http://www.tvshowsondvd.com/news/Game-Thrones-Season-7/23505\n",
      "/wiki/Template:Cite_web\n",
      "/wiki/Help:CS1_errors#parameter_ignored_suggest\n",
      "#cite_ref-107\n",
      "https://www.amazon.co.uk/dp/B075728BT8/\n",
      "#cite_ref-108\n",
      "https://www.jbhifi.com.au/movies-tv-shows/movies-tv-shows-on-sale/tv-fantasy/game-of-thrones-season-7/460287/\n",
      "http://www.hbo.com/game-of-thrones\n",
      "http://viewers-guide.hbo.com\n",
      "http://www.makinggameofthrones.com\n",
      "https://www.imdb.com/title/tt0944947/episodes\n",
      "/wiki/IMDb\n",
      "/w/index.php?title=Template:Tv.com_episodes&action=edit&redlink=1\n",
      "https://www.rottentomatoes.com/tv/game-of-thrones//\n",
      "/wiki/Rotten_Tomatoes\n",
      "/wiki/Template:A_Song_of_Ice_and_Fire\n",
      "/wiki/Template_talk:A_Song_of_Ice_and_Fire\n",
      "https://en.wikipedia.org/w/index.php?title=Template:A_Song_of_Ice_and_Fire&action=edit\n",
      "/wiki/George_R._R._Martin\n",
      "/wiki/A_Song_of_Ice_and_Fire\n",
      "/wiki/A_Game_of_Thrones\n",
      "/wiki/A_Clash_of_Kings\n",
      "/wiki/A_Storm_of_Swords\n",
      "/wiki/A_Feast_for_Crows\n",
      "/wiki/A_Dance_with_Dragons\n",
      "/wiki/The_Winds_of_Winter\n",
      "/wiki/A_Dream_of_Spring\n",
      "/wiki/Works_based_on_A_Song_of_Ice_and_Fire\n",
      "/wiki/Tales_of_Dunk_and_Egg\n",
      "/wiki/The_Princess_and_the_Queen\n",
      "/wiki/The_Rogue_Prince\n",
      "/wiki/The_World_of_Ice_%26_Fire\n",
      "/wiki/Elio_M._Garc%C3%ADa_Jr._and_Linda_Antonsson\n",
      "/wiki/The_Sons_of_the_Dragon\n",
      "/wiki/Fire_%26_Blood_(novel)\n",
      "/wiki/Game_of_Thrones\n",
      "None\n",
      "/wiki/Game_of_Thrones_(season_1)\n",
      "/wiki/Game_of_Thrones_(season_2)\n",
      "/wiki/Game_of_Thrones_(season_3)\n",
      "/wiki/Game_of_Thrones_(season_4)\n",
      "/wiki/Game_of_Thrones_(season_5)\n",
      "/wiki/Game_of_Thrones_(season_6)\n",
      "/wiki/Game_of_Thrones_(season_7)\n",
      "/wiki/Game_of_Thrones_(season_8)\n",
      "/wiki/List_of_awards_and_nominations_received_by_Game_of_Thrones\n",
      "/wiki/List_of_Game_of_Thrones_characters\n",
      "/wiki/Music_of_Game_of_Thrones\n",
      "/wiki/Game_of_Thrones:_Season_1_(soundtrack)\n",
      "/wiki/Game_of_Thrones:_Season_2_(soundtrack)\n",
      "/wiki/Game_of_Thrones:_Season_3_(soundtrack)\n",
      "/wiki/Game_of_Thrones:_Season_4_(soundtrack)\n",
      "/wiki/Game_of_Thrones:_Season_5_(soundtrack)\n",
      "/wiki/Game_of_Thrones:_Season_6_(soundtrack)\n",
      "/wiki/Game_of_Thrones:_Season_7_(soundtrack)\n",
      "/wiki/Game_of_Thrones:_Season_8_(soundtrack)\n",
      "/wiki/Game_of_Thrones_Theme\n",
      "/wiki/The_Rains_of_Castamere_(song)\n",
      "/wiki/The_Bear_and_the_Maiden_Fair_(song)\n",
      "/wiki/Light_of_the_Seven\n",
      "/wiki/Power_Is_Power\n",
      "/wiki/Me_Traicionaste\n",
      "/wiki/Jenny_of_Oldstones\n",
      "/wiki/Catch_the_Throne\n",
      "/wiki/For_the_Throne:_Music_Inspired_by_the_HBO_Series_Game_of_Thrones\n",
      "/wiki/Game_of_Thrones_Live_Concert_Experience\n",
      "/wiki/Game_of_Thrones_title_sequence\n",
      "/wiki/After_the_Thrones\n",
      "/wiki/Thronecast\n",
      "/wiki/House_of_the_Dragon\n",
      "/wiki/List_of_A_Song_of_Ice_and_Fire_video_games\n",
      "/wiki/A_Game_of_Thrones:_Genesis\n",
      "/wiki/Game_of_Thrones_(2012_video_game)\n",
      "/wiki/Game_of_Thrones_Ascent\n",
      "/wiki/Game_of_Thrones_(2014_video_game)\n",
      "/wiki/Reigns:_Game_of_Thrones\n",
      "/wiki/Game_of_Thrones:_Winter_Is_Coming\n",
      "/wiki/Game_of_Thrones:_Seven_Kingdoms\n",
      "/wiki/MultiVersus\n",
      "/wiki/A_Game_of_Thrones_(card_game)\n",
      "/wiki/A_Game_of_Thrones:_Second_Edition_(card_game)\n",
      "/wiki/A_Game_of_Thrones_(board_game)\n",
      "/wiki/A_Game_of_Thrones_(role-playing_game)\n",
      "/wiki/A_Song_of_Ice_and_Fire_Roleplaying\n",
      "/wiki/A_Game_of_Thrones_(comics)\n",
      "/wiki/A_Clash_of_Kings_(comics)\n",
      "/wiki/List_of_A_Song_of_Ice_and_Fire_characters\n",
      "/wiki/Petyr_Baelish\n",
      "/wiki/Joffrey_Baratheon\n",
      "/wiki/Myrcella_Baratheon\n",
      "/wiki/Renly_Baratheon\n",
      "/wiki/Robert_Baratheon\n",
      "/wiki/Stannis_Baratheon\n",
      "/wiki/Tommen_Baratheon\n",
      "/wiki/Ramsay_Bolton\n",
      "/wiki/Roose_Bolton\n",
      "/wiki/Gregor_Clegane\n",
      "/wiki/Sandor_Clegane\n",
      "/wiki/Gendry\n",
      "/wiki/Tormund_Giantsbane\n",
      "/wiki/Gilly_(A_Song_of_Ice_and_Fire)\n",
      "/wiki/Theon_Greyjoy\n",
      "/wiki/Cersei_Lannister\n",
      "/wiki/Jaime_Lannister\n",
      "/wiki/Tyrion_Lannister\n",
      "/wiki/Tywin_Lannister\n",
      "/wiki/Oberyn_Martell\n",
      "/wiki/Melisandre\n",
      "/wiki/Missandei\n",
      "/wiki/Jorah_Mormont\n",
      "/wiki/Daario_Naharis\n",
      "/wiki/Night_King\n",
      "/wiki/Ellaria_Sand\n",
      "/wiki/Davos_Seaworth\n",
      "/wiki/Jon_Snow_(character)\n",
      "/wiki/High_Sparrow\n",
      "/wiki/Arya_Stark\n",
      "/wiki/Bran_Stark\n",
      "/wiki/Catelyn_Stark\n",
      "/wiki/Ned_Stark\n",
      "/wiki/Rickon_Stark\n",
      "/wiki/Robb_Stark\n",
      "/wiki/Sansa_Stark\n",
      "/wiki/Daenerys_Targaryen\n",
      "/wiki/Samwell_Tarly\n",
      "/wiki/Brienne_of_Tarth\n",
      "/wiki/Margaery_Tyrell\n",
      "/wiki/Olenna_Tyrell\n",
      "/wiki/Varys\n",
      "/wiki/World_of_A_Song_of_Ice_and_Fire\n",
      "/wiki/Dothraki_language\n",
      "/wiki/Iron_Throne_(A_Song_of_Ice_and_Fire)\n",
      "/wiki/Valyrian_languages\n",
      "/wiki/White_Walker\n",
      "/wiki/A_Song_of_Ice_and_Fire_fandom\n",
      "/wiki/Themes_in_A_Song_of_Ice_and_Fire\n",
      "/wiki/Targaryendraco\n",
      "/wiki/Category:A_Song_of_Ice_and_Fire\n",
      "/wiki/Outline_of_A_Song_of_Ice_and_Fire_franchise\n",
      "/wiki/Template:Game_of_Thrones_episodes\n",
      "/wiki/Template_talk:Game_of_Thrones_episodes\n",
      "https://en.wikipedia.org/w/index.php?title=Template:Game_of_Thrones_episodes&action=edit\n",
      "/wiki/Game_of_Thrones\n",
      "None\n",
      "/wiki/Game_of_Thrones_(season_1)\n",
      "/wiki/Winter_Is_Coming\n",
      "/wiki/The_Kingsroad\n",
      "/wiki/Lord_Snow\n",
      "/wiki/Cripples,_Bastards,_and_Broken_Things\n",
      "/wiki/The_Wolf_and_the_Lion\n",
      "/wiki/A_Golden_Crown\n",
      "/wiki/You_Win_or_You_Die\n",
      "/wiki/The_Pointy_End\n",
      "/wiki/Baelor\n",
      "/wiki/Fire_and_Blood_(Game_of_Thrones)\n",
      "/wiki/Game_of_Thrones_(season_2)\n",
      "/wiki/The_North_Remembers\n",
      "/wiki/The_Night_Lands\n",
      "/wiki/What_Is_Dead_May_Never_Die\n",
      "/wiki/Garden_of_Bones\n",
      "/wiki/The_Ghost_of_Harrenhal\n",
      "/wiki/The_Old_Gods_and_the_New\n",
      "/wiki/A_Man_Without_Honor\n",
      "/wiki/The_Prince_of_Winterfell\n",
      "/wiki/Blackwater_(Game_of_Thrones)\n",
      "/wiki/Valar_Morghulis\n",
      "/wiki/Game_of_Thrones_(season_3)\n",
      "/wiki/Valar_Dohaeris\n",
      "/wiki/Dark_Wings,_Dark_Words\n",
      "/wiki/Walk_of_Punishment\n",
      "/wiki/And_Now_His_Watch_Is_Ended\n",
      "/wiki/Kissed_by_Fire\n",
      "/wiki/The_Climb_(Game_of_Thrones)\n",
      "/wiki/The_Bear_and_the_Maiden_Fair\n",
      "/wiki/Second_Sons\n",
      "/wiki/The_Rains_of_Castamere\n",
      "/wiki/Mhysa\n",
      "/wiki/Game_of_Thrones_(season_4)\n",
      "/wiki/Two_Swords_(Game_of_Thrones)\n",
      "/wiki/The_Lion_and_the_Rose\n",
      "/wiki/Breaker_of_Chains\n",
      "/wiki/Oathkeeper\n",
      "/wiki/First_of_His_Name\n",
      "/wiki/The_Laws_of_Gods_and_Men\n",
      "/wiki/Mockingbird_(Game_of_Thrones)\n",
      "/wiki/The_Mountain_and_the_Viper\n",
      "/wiki/The_Watchers_on_the_Wall\n",
      "/wiki/The_Children_(Game_of_Thrones)\n",
      "/wiki/Game_of_Thrones_(season_5)\n",
      "/wiki/The_Wars_to_Come\n",
      "/wiki/The_House_of_Black_and_White\n",
      "/wiki/High_Sparrow_(Game_of_Thrones_episode)\n",
      "/wiki/Sons_of_the_Harpy\n",
      "/wiki/Kill_the_Boy\n",
      "/wiki/Unbowed,_Unbent,_Unbroken\n",
      "/wiki/The_Gift_(Game_of_Thrones)\n",
      "/wiki/Hardhome\n",
      "/wiki/The_Dance_of_Dragons\n",
      "/wiki/Mother%27s_Mercy\n",
      "/wiki/Game_of_Thrones_(season_6)\n",
      "/wiki/The_Red_Woman\n",
      "/wiki/Home_(Game_of_Thrones)\n",
      "/wiki/Oathbreaker_(Game_of_Thrones)\n",
      "/wiki/Book_of_the_Stranger\n",
      "/wiki/The_Door_(Game_of_Thrones)\n",
      "/wiki/Blood_of_My_Blood\n",
      "/wiki/The_Broken_Man\n",
      "/wiki/No_One_(Game_of_Thrones)\n",
      "/wiki/Battle_of_the_Bastards\n",
      "/wiki/The_Winds_of_Winter_(Game_of_Thrones)\n",
      "/wiki/Game_of_Thrones_(season_7)\n",
      "/wiki/Dragonstone_(Game_of_Thrones_episode)\n",
      "/wiki/Stormborn\n",
      "/wiki/The_Queen%27s_Justice\n",
      "/wiki/The_Spoils_of_War_(Game_of_Thrones)\n",
      "/wiki/Eastwatch\n",
      "/wiki/Beyond_the_Wall_(Game_of_Thrones)\n",
      "/wiki/The_Dragon_and_the_Wolf\n",
      "/wiki/Game_of_Thrones_(season_8)\n",
      "/wiki/Winterfell_(Game_of_Thrones_episode)\n",
      "/wiki/A_Knight_of_the_Seven_Kingdoms_(Game_of_Thrones)\n",
      "/wiki/The_Long_Night_(Game_of_Thrones)\n",
      "/wiki/The_Last_of_the_Starks\n",
      "/wiki/The_Bells_(Game_of_Thrones)\n",
      "/wiki/The_Iron_Throne_(Game_of_Thrones)\n",
      "https://en.wikipedia.org/w/index.php?title=List_of_Game_of_Thrones_episodes&oldid=802553687\n",
      "/wiki/Help:Category\n",
      "/wiki/Category:Game_of_Thrones_episodes\n",
      "/wiki/Category:Lists_of_American_drama_television_series_episodes\n",
      "/wiki/Category:Lists_of_fantasy_television_series_episodes\n",
      "/wiki/Category:CS1_errors:_unsupported_parameter\n",
      "/wiki/Category:Articles_containing_potentially_dated_statements_from_August_2017\n",
      "/wiki/Category:All_articles_containing_potentially_dated_statements\n",
      "/wiki/Category:Official_website_not_in_Wikidata\n",
      "/wiki/Category:Featured_lists\n",
      "/wiki/Special:MyTalk\n",
      "/wiki/Special:MyContributions\n",
      "/w/index.php?title=Special:CreateAccount&returnto=List+of+Game+of+Thrones+episodes&returntoquery=oldid%3D802553687\n",
      "/w/index.php?title=Special:UserLogin&returnto=List+of+Game+of+Thrones+episodes&returntoquery=oldid%3D802553687\n",
      "/wiki/List_of_Game_of_Thrones_episodes\n",
      "/wiki/Talk:List_of_Game_of_Thrones_episodes\n",
      "/wiki/List_of_Game_of_Thrones_episodes\n",
      "/w/index.php?title=List_of_Game_of_Thrones_episodes&action=edit&oldid=802553687\n",
      "/w/index.php?title=List_of_Game_of_Thrones_episodes&action=history\n",
      "/wiki/Main_Page\n",
      "/wiki/Main_Page\n",
      "/wiki/Wikipedia:Contents\n",
      "/wiki/Portal:Current_events\n",
      "/wiki/Special:Random\n",
      "/wiki/Wikipedia:About\n",
      "//en.wikipedia.org/wiki/Wikipedia:Contact_us\n",
      "https://donate.wikimedia.org/wiki/Special:FundraiserRedirector?utm_source=donate&utm_medium=sidebar&utm_campaign=C13_en.wikipedia.org&uselang=en\n",
      "/wiki/Help:Contents\n",
      "/wiki/Help:Introduction\n",
      "/wiki/Wikipedia:Community_portal\n",
      "/wiki/Special:RecentChanges\n",
      "/wiki/Wikipedia:File_Upload_Wizard\n",
      "/wiki/Special:WhatLinksHere/List_of_Game_of_Thrones_episodes\n",
      "/wiki/Special:RecentChangesLinked/List_of_Game_of_Thrones_episodes\n",
      "/wiki/Wikipedia:File_Upload_Wizard\n",
      "/wiki/Special:SpecialPages\n",
      "/w/index.php?title=List_of_Game_of_Thrones_episodes&oldid=802553687\n",
      "/w/index.php?title=List_of_Game_of_Thrones_episodes&action=info\n",
      "/w/index.php?title=Special:CiteThisPage&page=List_of_Game_of_Thrones_episodes&id=802553687&wpFormIdentifier=titleform\n",
      "https://www.wikidata.org/wiki/Special:EntityPage/Q847578\n",
      "/w/index.php?title=Special:Book&bookcmd=render_article&arttitle=List+of+Game+of+Thrones+episodes&returnto=List+of+Game+of+Thrones+episodes&oldid=802553687&writer=rl\n",
      "/w/index.php?title=List_of_Game_of_Thrones_episodes&printable=yes\n",
      "https://www.wikidata.org/wiki/Wikidata:WikiProject_Movies/lists/episodes_of_Game_of_Thrones\n",
      "https://ar.wikipedia.org/wiki/%D9%82%D8%A7%D8%A6%D9%85%D8%A9_%D8%AD%D9%84%D9%82%D8%A7%D8%AA_%D8%B5%D8%B1%D8%A7%D8%B9_%D8%A7%D9%84%D8%B9%D8%B1%D9%88%D8%B4\n",
      "https://ast.wikipedia.org/wiki/Llista_d%27episodios_de_Game_of_Thrones\n",
      "https://be.wikipedia.org/wiki/%D0%A1%D0%BF%D1%96%D1%81_%D1%8D%D0%BF%D1%96%D0%B7%D0%BE%D0%B4%D0%B0%D1%9E_%D1%82%D1%8D%D0%BB%D0%B5%D1%81%D0%B5%D1%80%D1%8B%D1%8F%D0%BB%D0%B0_%C2%AB%D0%93%D1%83%D0%BB%D1%8C%D0%BD%D1%8F_%D1%82%D1%80%D0%BE%D0%BD%D0%B0%D1%9E%C2%BB\n",
      "https://bg.wikipedia.org/wiki/%D0%A1%D0%BF%D0%B8%D1%81%D1%8A%D0%BA_%D1%81_%D0%B5%D0%BF%D0%B8%D0%B7%D0%BE%D0%B4%D0%B8_%D0%BD%D0%B0_%D0%98%D0%B3%D1%80%D0%B0_%D0%BD%D0%B0_%D1%82%D1%80%D0%BE%D0%BD%D0%BE%D0%B2%D0%B5\n",
      "https://bs.wikipedia.org/wiki/Spisak_epizoda_%22Igre_prijestolja%22\n",
      "https://ca.wikipedia.org/wiki/Llista_d%27episodis_de_Game_of_Thrones\n",
      "https://cs.wikipedia.org/wiki/Seznam_d%C3%ADl%C5%AF_seri%C3%A1lu_Hra_o_tr%C5%AFny\n",
      "https://da.wikipedia.org/wiki/Afsnit_af_Game_of_Thrones\n",
      "https://de.wikipedia.org/wiki/Game_of_Thrones/Episodenliste\n",
      "https://es.wikipedia.org/wiki/Anexo:Episodios_de_Game_of_Thrones\n",
      "https://fa.wikipedia.org/wiki/%D9%81%D9%87%D8%B1%D8%B3%D8%AA_%D9%82%D8%B3%D9%85%D8%AA%E2%80%8C%D9%87%D8%A7%DB%8C_%D8%A8%D8%A7%D8%B2%DB%8C_%D8%AA%D8%A7%D8%AC%E2%80%8C%D9%88%D8%AA%D8%AE%D8%AA\n",
      "https://fr.wikipedia.org/wiki/Liste_des_%C3%A9pisodes_de_Game_of_Thrones\n",
      "https://gl.wikipedia.org/wiki/Lista_de_episodios_de_Game_of_Thrones\n",
      "https://ko.wikipedia.org/wiki/%EC%99%95%EC%A2%8C%EC%9D%98_%EA%B2%8C%EC%9E%84%EC%9D%98_%EC%97%90%ED%94%BC%EC%86%8C%EB%93%9C_%EB%AA%A9%EB%A1%9D\n",
      "https://hy.wikipedia.org/wiki/%D4%B3%D5%A1%D5%B0%D5%A5%D6%80%D5%AB_%D5%AD%D5%A1%D5%B2_%D5%BD%D5%A5%D6%80%D5%AB%D5%A1%D5%AC%D5%AB_%D5%A5%D5%A9%D5%A5%D6%80%D5%A1%D5%B7%D6%80%D5%BB%D5%A1%D5%B6%D5%B6%D5%A5%D6%80%D5%A8\n",
      "https://hi.wikipedia.org/wiki/%E0%A4%97%E0%A5%87%E0%A4%AE_%E0%A4%91%E0%A4%AB%E0%A4%BC_%E0%A4%A5%E0%A5%8D%E0%A4%B0%E0%A5%8B%E0%A4%A8%E0%A5%8D%E0%A4%B8_%E0%A4%AA%E0%A5%8D%E0%A4%B0%E0%A4%95%E0%A4%B0%E0%A4%A3%E0%A5%8B%E0%A4%82_%E0%A4%95%E0%A5%80_%E0%A4%B8%E0%A5%82%E0%A4%9A%E0%A5%80\n",
      "https://id.wikipedia.org/wiki/Daftar_episode_Game_of_Thrones\n",
      "https://he.wikipedia.org/wiki/%D7%9E%D7%A9%D7%97%D7%A7%D7%99_%D7%94%D7%9B%D7%A1_(%D7%A1%D7%93%D7%A8%D7%AA_%D7%98%D7%9C%D7%95%D7%95%D7%99%D7%96%D7%99%D7%94)_-_%D7%A4%D7%A8%D7%A7%D7%99%D7%9D\n",
      "https://ka.wikipedia.org/wiki/%E1%83%A1%E1%83%90%E1%83%A2%E1%83%90%E1%83%AE%E1%83%A2%E1%83%9D%E1%83%97%E1%83%90_%E1%83%97%E1%83%90%E1%83%9B%E1%83%90%E1%83%A8%E1%83%98_(%E1%83%94%E1%83%9E%E1%83%98%E1%83%96%E1%83%9D%E1%83%93%E1%83%94%E1%83%91%E1%83%98%E1%83%A1_%E1%83%A1%E1%83%98%E1%83%90)\n",
      "https://hu.wikipedia.org/wiki/A_Tr%C3%B3nok_harca_epiz%C3%B3djainak_list%C3%A1ja\n",
      "https://mk.wikipedia.org/wiki/%D0%A1%D0%BF%D0%B8%D1%81%D0%BE%D0%BA_%D0%BD%D0%B0_%D0%B5%D0%BF%D0%B8%D0%B7%D0%BE%D0%B4%D0%B8_%D0%BE%D0%B4_%D0%98%D0%B3%D1%80%D0%B0_%D0%BD%D0%B0_%D1%82%D1%80%D0%BE%D0%BD%D0%BE%D0%B2%D0%B8\n",
      "https://ms.wikipedia.org/wiki/Senarai_episod_Game_of_Thrones\n",
      "https://nl.wikipedia.org/wiki/Lijst_van_afleveringen_van_Game_of_Thrones\n",
      "https://no.wikipedia.org/wiki/Liste_over_episoder_av_Game_of_Thrones\n",
      "https://pl.wikipedia.org/wiki/Lista_odcink%C3%B3w_serialu_Gra_o_tron\n",
      "https://pt.wikipedia.org/wiki/Lista_de_epis%C3%B3dios_de_Game_of_Thrones\n",
      "https://ro.wikipedia.org/wiki/Lista_episoadelor_din_Urzeala_tronurilor\n",
      "https://ru.wikipedia.org/wiki/%D0%A1%D0%BF%D0%B8%D1%81%D0%BE%D0%BA_%D1%8D%D0%BF%D0%B8%D0%B7%D0%BE%D0%B4%D0%BE%D0%B2_%D1%82%D0%B5%D0%BB%D0%B5%D1%81%D0%B5%D1%80%D0%B8%D0%B0%D0%BB%D0%B0_%C2%AB%D0%98%D0%B3%D1%80%D0%B0_%D0%BF%D1%80%D0%B5%D1%81%D1%82%D0%BE%D0%BB%D0%BE%D0%B2%C2%BB\n",
      "https://sq.wikipedia.org/wiki/Lista_e_episodeve_t%C3%AB_Game_of_Thrones\n",
      "https://sk.wikipedia.org/wiki/Zoznam_%C4%8Dast%C3%AD_seri%C3%A1lu_Game_of_Thrones\n",
      "https://sr.wikipedia.org/wiki/%D0%A1%D0%BF%D0%B8%D1%81%D0%B0%D0%BA_%D0%B5%D0%BF%D0%B8%D0%B7%D0%BE%D0%B4%D0%B0_%D1%81%D0%B5%D1%80%D0%B8%D1%98%D0%B5_%D0%98%D0%B3%D1%80%D0%B0_%D0%BF%D1%80%D0%B5%D1%81%D1%82%D0%BE%D0%BB%D0%B0\n",
      "https://fi.wikipedia.org/wiki/Luettelo_televisiosarjan_Game_of_Thrones_jaksoista\n",
      "https://sv.wikipedia.org/wiki/Lista_%C3%B6ver_avsnitt_av_Game_of_Thrones\n",
      "https://tr.wikipedia.org/wiki/Game_of_Thrones_b%C3%B6l%C3%BCmleri_listesi\n",
      "https://uk.wikipedia.org/wiki/%D0%A1%D0%BF%D0%B8%D1%81%D0%BE%D0%BA_%D0%B5%D0%BF%D1%96%D0%B7%D0%BE%D0%B4%D1%96%D0%B2_%D1%82%D0%B5%D0%BB%D0%B5%D1%81%D0%B5%D1%80%D1%96%D0%B0%D0%BB%D1%83_%C2%AB%D0%93%D1%80%D0%B0_%D0%BF%D1%80%D0%B5%D1%81%D1%82%D0%BE%D0%BB%D1%96%D0%B2%C2%BB\n",
      "https://vi.wikipedia.org/wiki/Danh_s%C3%A1ch_c%C3%A1c_t%E1%BA%ADp_phim_trong_Game_of_Thrones\n",
      "https://zh.wikipedia.org/wiki/%E6%9D%83%E5%8A%9B%E7%9A%84%E6%B8%B8%E6%88%8F%E9%9B%86%E6%95%B0%E5%88%97%E8%A1%A8\n",
      "https://www.wikidata.org/wiki/Special:EntityPage/Q847578#sitelinks-wikipedia\n",
      "https://en.wikipedia.org/wiki/Wikipedia:Page_history\n",
      "https://en.wikipedia.org/wiki/Wikipedia:Text_of_Creative_Commons_Attribution-ShareAlike_3.0_Unported_License\n",
      "https://foundation.wikimedia.org/wiki/Privacy_policy\n",
      "/wiki/Wikipedia:About\n",
      "/wiki/Wikipedia:General_disclaimer\n",
      "//en.wikipedia.org/wiki/Wikipedia:Contact_us\n",
      "//en.m.wikipedia.org/w/index.php?title=List_of_Game_of_Thrones_episodes&oldid=802553687&mobileaction=toggle_view_mobile\n",
      "https://www.mediawiki.org/wiki/Special:MyLanguage/How_to_contribute\n",
      "https://stats.wikimedia.org/#/en.wikipedia.org\n",
      "https://foundation.wikimedia.org/wiki/Cookie_statement\n",
      "https://wikimediafoundation.org/\n",
      "https://www.mediawiki.org/\n"
     ]
    }
   ],
   "source": [
    "#get all links from a website:\n",
    "for links in html_soup.find_all('a'):\n",
    "    print(links.get('href'))"
   ]
  },
  {
   "cell_type": "markdown",
   "id": "a246a854",
   "metadata": {},
   "source": [
    "Below is a code example showing how to use Regex to match the links ending with .org using `re.compile` and `re.search`.\n",
    "\n",
    "\n",
    "`enumerate()` method adds a counter to an iterable and returns it in a form of enumerating object. This enumerated object can then be used directly for loops or converted into a list of tuples using the list() function. https://www.geeksforgeeks.org/enumerate-in-python/"
   ]
  },
  {
   "cell_type": "code",
   "execution_count": 372,
   "id": "08e67c09",
   "metadata": {},
   "outputs": [
    {
     "name": "stdout",
     "output_type": "stream",
     "text": [
      "https://wikimediafoundation.org/\n",
      "https://www.mediawiki.org/\n"
     ]
    }
   ],
   "source": [
    "# regex_pattern = re.compile('([A-Za-z9-9-]+)\\.org/$')\n",
    "regex_pattern = re.compile('.org/\\Z')\n",
    "\n",
    "results = []\n",
    "\n",
    "for i, links in enumerate(html_soup.find_all('a')):\n",
    "    if links.get('href'):\n",
    "        # pattern matching fing .org link\n",
    "        results.append(re.search(regex_pattern, links.get('href')))\n",
    "\n",
    "# show the result\n",
    "for result in results:\n",
    "    if result:\n",
    "        print(result.string)"
   ]
  },
  {
   "cell_type": "code",
   "execution_count": 480,
   "id": "7678ddcf",
   "metadata": {},
   "outputs": [
    {
     "name": "stdout",
     "output_type": "stream",
     "text": [
      "#History\n",
      "#Presidents_of_Baruch_College\n",
      "#Academics\n",
      "#Campus\n",
      "#Lawrence_and_Eris_Field_Building\n",
      "#Information_and_Technology_Building\n",
      "#Newman_Vertical_Campus\n",
      "#Campus_location\n",
      "#Academic_centers_and_institutes\n",
      "#Partnerships\n",
      "#Student_life\n",
      "#Athletics\n",
      "#Admissions\n",
      "#Rankings\n",
      "#Notable_people\n",
      "#Alumni\n",
      "#Business\n",
      "#Politics,_government,_and_law\n",
      "#The_arts\n",
      "#Literature,_journalism,_and_tech\n",
      "#Sports\n",
      "#Faculty\n",
      "#References\n",
      "#External_links\n",
      "/wiki/New_York_City_Subway\n",
      "/wiki/MTA_Regional_Bus_Operations\n",
      "#cite_note-30\n",
      "#cite_note-31\n",
      "#cite_note-32\n",
      "#cite_note-33\n",
      "#cite_note-34\n",
      "#cite_note-35\n",
      "#cite_note-36\n",
      "#cite_note-37\n",
      "#cite_note-38\n",
      "#cite_note-39\n",
      "#cite_note-40\n",
      "/wiki/Bernard_L._Schwartz_Communication_Institute\n",
      "#cite_note-42\n",
      "#cite_note-43\n",
      "#cite_note-44\n",
      "#cite_note-45\n",
      "#cite_note-46\n",
      "#cite_note-47\n",
      "/wiki/JPMorgan_Chase\n",
      "/wiki/JPMorgan_Chase\n",
      "/wiki/Brooklyn_Law_School\n",
      "/wiki/Baruch_College_Campus_High_School\n",
      "/wiki/American_Graduate_School_in_Paris\n",
      "#cite_note-64\n",
      "/wiki/Washington_Monthly\n",
      "/wiki/CNBC\n",
      "/wiki/Entrepreneur_(magazine)\n",
      "/wiki/Forbes\n",
      "/wiki/Business_Insider\n",
      "/wiki/U.S._News_%26_World_Report\n",
      "/wiki/U.S._News_%26_World_Report\n",
      "/wiki/File:Abraham_D._Beame.jpg\n",
      "/wiki/File:Ralph_Lauren_2013.jpg\n",
      "/wiki/File:Jennifer_Lopez_at_GLAAD_Media_Awards_(cropped).jpg\n",
      "/wiki/File:Mike_Grimm.jpg\n",
      "/wiki/File:L-16-05-05-A-0002_(26807788142)_(cropped).jpg\n",
      "/wiki/File:Mr._Shkreli_(cropped).jpg\n",
      "/wiki/File:CarlHeastie2017_(cropped).jpg\n",
      "/wiki/File:TechCrunch_Disrupt_NY_2015_(17172830107)_cropped.jpg\n",
      "/wiki/File:Daniel_A._Nigro_1706964.jpg\n",
      "/wiki/Lara_Abrash\n",
      "/wiki/William_F._Aldinger_III\n",
      "/wiki/Anthony_Chan_(economist)\n",
      "/wiki/Akis_Cleanthous\n",
      "/wiki/Monte_Conner\n",
      "/wiki/Fernando_Ferrer\n",
      "/wiki/Sidney_Harman\n",
      "/wiki/Jacqueline_Hern%C3%A1ndez\n",
      "/wiki/Robert_Holland_(executive)\n",
      "/wiki/James_Lam\n",
      "/wiki/Mayuri_Kango\n",
      "/wiki/Ralph_Lauren\n",
      "/wiki/Dennis_Levine\n",
      "/wiki/Adam_Neumann\n",
      "/wiki/Oscar_N._Onyema\n",
      "/wiki/Bruce_Sherman\n",
      "/wiki/Martin_Shkreli\n",
      "/wiki/Stuart_Subotnick\n",
      "/wiki/George_Weissman\n",
      "/wiki/Larry_Zicklin\n",
      "/wiki/Tony_Allen_(academic_administrator)\n",
      "/wiki/Egemen_Ba%C4%9F%C4%B1%C5%9F\n",
      "/wiki/Shirley_Elizabeth_Barnes\n",
      "/wiki/Abraham_Beame\n",
      "/wiki/Vanessa_Gibson\n",
      "/wiki/Michael_Grimm_(politician)\n",
      "/wiki/Carl_Heastie\n",
      "/wiki/Verna_L._Jones\n",
      "/wiki/Ron_Kim_(politician)\n",
      "/wiki/Melissa_Mark-Viverito\n",
      "/wiki/Cristina_Jim%C3%A9nez_Moreta\n",
      "/wiki/Daniel_A._Nigro\n",
      "/wiki/Yuh-Line_Niou\n",
      "/wiki/Rukidi_III_of_Toro#Offspring\n",
      "/wiki/Albert_Seedman\n",
      "/wiki/Ada_L._Smith\n",
      "/wiki/Michael_G._Sotirhos\n",
      "/wiki/Carl_Spielvogel\n",
      "/wiki/Craig_A._Stanley\n",
      "/wiki/Eric_Ulrich\n",
      "/wiki/Carolyn_Walker-Diallo\n",
      "/wiki/Grace_Helen_Whitener\n",
      "/wiki/Leo_C._Zeferetti\n",
      "/wiki/Eddie_Carmel\n",
      "/wiki/Buddy_Freitag\n",
      "/wiki/Immortal_Technique\n",
      "/wiki/Daniel_Lobell\n",
      "/wiki/Jennifer_Lopez\n",
      "/wiki/Bernie_West\n",
      "/wiki/Perizaad_Zorabian\n",
      "/wiki/Tarkan_(singer)\n",
      "/wiki/Jack_Barsky\n",
      "/wiki/Michael_Freeman_(inventor)\n",
      "/wiki/David_Hamilton_Golland\n",
      "/wiki/G._Winston_James\n",
      "/wiki/Tsvetta_Kaleynska\n",
      "/wiki/Carlos_D._Ramirez\n",
      "/wiki/Upton_Sinclair\n",
      "/wiki/Levy_Rozman\n",
      "/wiki/Ervand_Abrahamian\n",
      "/wiki/Abraham_J._Briloff\n",
      "/wiki/Joel_Brind\n",
      "/wiki/Mario_Cuomo\n",
      "/wiki/Matthew_Goldstein\n",
      "/wiki/David_Gruber\n",
      "/wiki/Douglas_P._Lackey\n",
      "/wiki/John_Liu\n",
      "/wiki/Kenneth_L._Marcus\n",
      "/wiki/Harry_Markowitz\n",
      "/wiki/Wendell_Pritchett\n",
      "/wiki/Carla_Robbins\n",
      "/wiki/David_Rosner\n",
      "/wiki/Donna_Shalala\n",
      "/wiki/Clarence_Taylor\n",
      "/wiki/John_Trinkaus\n",
      "/wiki/Yoshihiro_Tsurumi\n",
      "#cite_ref-1\n",
      "#cite_ref-autogenerated1_2-0\n",
      "#cite_ref-3\n",
      "#cite_ref-4\n",
      "#cite_ref-5\n",
      "#cite_ref-6\n",
      "#cite_ref-7\n",
      "#cite_ref-8\n",
      "#cite_ref-9\n",
      "#cite_ref-10\n",
      "#cite_ref-11\n",
      "#cite_ref-12\n",
      "#cite_ref-nytimes1_13-0\n",
      "#cite_ref-14\n",
      "#cite_ref-15\n",
      "#cite_ref-16\n",
      "#cite_ref-17\n",
      "#cite_ref-18\n",
      "#cite_ref-19\n",
      "#cite_ref-20\n",
      "#cite_ref-21\n",
      "#cite_ref-22\n",
      "#cite_ref-23\n",
      "#cite_ref-nyt_vertcamp_24-0\n",
      "#cite_ref-25\n",
      "#cite_ref-26\n",
      "#cite_ref-27\n",
      "#cite_ref-28\n",
      "#cite_ref-29\n",
      "#cite_ref-30\n",
      "#cite_ref-31\n",
      "#cite_ref-32\n",
      "#cite_ref-33\n",
      "#cite_ref-34\n",
      "#cite_ref-35\n",
      "#cite_ref-36\n",
      "#cite_ref-37\n",
      "#cite_ref-38\n",
      "#cite_ref-39\n",
      "#cite_ref-40\n",
      "#cite_ref-41\n",
      "#cite_ref-42\n",
      "#cite_ref-43\n",
      "#cite_ref-44\n",
      "#cite_ref-45\n",
      "#cite_ref-46\n",
      "#cite_ref-47\n",
      "#cite_ref-48\n",
      "#cite_ref-49\n",
      "#cite_ref-50\n",
      "#cite_ref-51\n",
      "#cite_ref-theticker.org_52-0\n",
      "#cite_ref-53\n",
      "#cite_ref-54\n",
      "#cite_ref-55\n",
      "#cite_ref-56\n",
      "#cite_ref-board_57-0\n",
      "#cite_ref-58\n",
      "#cite_ref-59\n",
      "#cite_ref-60\n",
      "#cite_ref-Rankings_USNWR_REG_61-0\n",
      "#cite_ref-Rankings_Forbes_62-0\n",
      "#cite_ref-Rankings_THE_WSJ_63-0\n",
      "#cite_ref-64\n",
      "#cite_ref-65\n",
      "#cite_ref-66\n",
      "#cite_ref-67\n",
      "#cite_ref-68\n",
      "#cite_ref-69\n",
      "#cite_ref-70\n",
      "#cite_ref-71\n",
      "#cite_ref-72\n",
      "#cite_ref-73\n",
      "#cite_ref-74\n",
      "#cite_ref-75\n",
      "#cite_ref-76\n",
      "#cite_ref-77\n",
      "#cite_ref-78\n",
      "#cite_ref-79\n",
      "#cite_ref-80\n",
      "#cite_ref-81\n",
      "#cite_ref-82\n",
      "#cite_ref-83\n",
      "#cite_ref-84\n",
      "#cite_ref-85\n",
      "#cite_ref-86\n",
      "#cite_ref-87\n",
      "#cite_ref-88\n",
      "#cite_ref-89\n",
      "#cite_ref-90\n",
      "#cite_ref-91\n",
      "#cite_ref-92\n",
      "#cite_ref-93\n",
      "#cite_ref-94\n",
      "#cite_ref-95\n",
      "#cite_ref-96\n",
      "#cite_ref-97\n",
      "#cite_ref-98\n",
      "#cite_ref-99\n",
      "#cite_ref-100\n",
      "#cite_ref-101\n",
      "#cite_ref-102\n",
      "#cite_ref-103\n",
      "#cite_ref-104\n",
      "#cite_ref-105\n",
      "#cite_ref-106\n",
      "#cite_ref-107\n",
      "#cite_ref-108\n",
      "#cite_ref-109\n",
      "#cite_ref-110\n",
      "#cite_ref-111\n",
      "#cite_ref-112\n",
      "#cite_ref-113\n",
      "#cite_ref-114\n",
      "#cite_ref-115\n",
      "#cite_ref-116\n",
      "#cite_ref-117\n",
      "#cite_ref-118\n",
      "#cite_ref-119\n",
      "#cite_ref-120\n",
      "#cite_ref-121\n",
      "#cite_ref-playbill_122-0\n",
      "#cite_ref-123\n",
      "#cite_ref-124\n",
      "#cite_ref-125\n",
      "#cite_ref-126\n",
      "#cite_ref-127\n",
      "#cite_ref-128\n",
      "#cite_ref-129\n",
      "#cite_ref-130\n",
      "#cite_ref-131\n",
      "#cite_ref-132\n",
      "#cite_ref-133\n",
      "#cite_ref-134\n",
      "#cite_ref-135\n",
      "#cite_ref-136\n",
      "#cite_ref-137\n",
      "#cite_ref-138\n",
      "#cite_ref-139\n",
      "#cite_ref-140\n",
      "#cite_ref-141\n",
      "#cite_ref-142\n",
      "#cite_ref-143\n",
      "#cite_ref-144\n",
      "#cite_ref-145\n",
      "#cite_ref-146\n",
      "#cite_ref-147\n",
      "#cite_ref-148\n",
      "#cite_ref-149\n",
      "#cite_ref-150\n",
      "http://www.baruch.cuny.edu/\n",
      "http://athletics.baruch.cuny.edu/\n",
      "http://www.theticker.org/\n",
      "/wiki/Template:CUNY\n",
      "/wiki/Template_talk:CUNY\n",
      "https://en.wikipedia.org/w/index.php?title=Template:CUNY&action=edit\n",
      "/wiki/Borough_of_Manhattan_Community_College\n",
      "/wiki/Bronx_Community_College\n",
      "/wiki/Guttman_Community_College\n",
      "/wiki/Hostos_Community_College\n",
      "/wiki/Kingsborough_Community_College\n",
      "/wiki/LaGuardia_Community_College\n",
      "/wiki/Queensborough_Community_College\n",
      "None\n",
      "/wiki/Brooklyn_College\n",
      "/wiki/City_College_of_New_York\n",
      "/wiki/New_York_City_College_of_Technology\n",
      "/wiki/Hunter_College\n",
      "/wiki/John_Jay_College_of_Criminal_Justice\n",
      "/wiki/Lehman_College\n",
      "/wiki/William_E._Macaulay_Honors_College\n",
      "/wiki/Medgar_Evers_College\n",
      "/wiki/Queens_College,_City_University_of_New_York\n",
      "/wiki/College_of_Staten_Island\n",
      "/wiki/York_College,_City_University_of_New_York\n",
      "/wiki/Graduate_Center,_CUNY\n",
      "/wiki/Craig_Newmark_Graduate_School_of_Journalism_at_the_City_University_of_New_York\n",
      "/wiki/CUNY_School_of_Labor_and_Urban_Studies\n",
      "/wiki/CUNY_School_of_Law\n",
      "/wiki/CUNY_School_of_Medicine\n",
      "/wiki/Aaron_Copland_School_of_Music\n",
      "/wiki/Hunter-Bellevue_School_of_Nursing\n",
      "/wiki/CUNY_School_of_Professional_Studies\n",
      "/wiki/CUNY_School_of_Public_Health\n",
      "/wiki/Marxe_School_of_Public_and_International_Affairs\n",
      "/wiki/WSIA\n",
      "/wiki/WSIA\n",
      "/wiki/WHCR-FM\n",
      "/wiki/WKRB\n",
      "/wiki/CUNY_TV\n",
      "/wiki/The_Feminist_Press\n",
      "/wiki/Mott_Haven_Herald\n",
      "/wiki/Template:CUNY_Athletic_Conference\n",
      "/w/index.php?title=Template_talk:CUNY_Athletic_Conference&action=edit&redlink=1\n",
      "https://en.wikipedia.org/w/index.php?title=Template:CUNY_Athletic_Conference&action=edit\n",
      "None\n",
      "/wiki/City_College_of_New_York\n",
      "/wiki/Hunter_College\n",
      "/wiki/John_Jay_College_of_Criminal_Justice\n",
      "/wiki/Brooklyn_College\n",
      "/wiki/Lehman_College\n",
      "/wiki/Medgar_Evers_College\n",
      "/wiki/York_College,_City_University_of_New_York\n",
      "/wiki/Bronx_Community_College\n",
      "/wiki/Borough_of_Manhattan_Community_College\n",
      "/wiki/Hostos_Community_College\n",
      "/wiki/Kingsborough_Community_College\n",
      "/wiki/LaGuardia_Community_College\n",
      "/wiki/Queensborough_Community_College\n",
      "/wiki/ISNI_(identifier)\n",
      "https://isni.org/isni/0000000107427937\n",
      "/wiki/VIAF_(identifier)\n",
      "https://viaf.org/viaf/141241053\n",
      "https://www.worldcat.org/identities/lccn-n79135511/\n",
      "https://id.loc.gov/authorities/names/n79135511\n",
      "https://aleph.nkp.cz/F/?func=find-c&local_base=aut&ccl_term=ica=ko2008481069&CON_LNG=ENG\n",
      "/wiki/Category:Baruch_College\n",
      "/wiki/Category:1919_establishments_in_New_York_City\n",
      "/wiki/Category:Educational_institutions_established_in_1919\n",
      "/wiki/Category:Flatiron_District\n",
      "/wiki/Category:Universities_and_colleges_in_Manhattan\n",
      "/wiki/Category:Colleges_of_the_City_University_of_New_York\n",
      "/wiki/Category:Bernard_Baruch\n",
      "/wiki/Category:Webarchive_template_wayback_links\n",
      "/wiki/Category:CS1_errors:_generic_title\n",
      "/wiki/Category:All_articles_with_bare_URLs_for_citations\n",
      "/wiki/Category:Articles_with_bare_URLs_for_citations_from_December_2021\n",
      "/wiki/Category:Articles_with_short_description\n",
      "/wiki/Category:Short_description_matches_Wikidata\n",
      "/wiki/Category:Use_mdy_dates_from_November_2013\n",
      "/wiki/Category:Coordinates_on_Wikidata\n",
      "/wiki/Category:Articles_using_infobox_university\n",
      "/wiki/Category:All_articles_with_unsourced_statements\n",
      "/wiki/Category:Articles_with_unsourced_statements_from_January_2021\n",
      "/wiki/Category:Articles_needing_additional_references_from_January_2021\n",
      "/wiki/Category:All_articles_needing_additional_references\n",
      "/wiki/Category:Pages_using_New_York_City_Subway_service_templates\n",
      "/wiki/Category:Commons_category_link_is_on_Wikidata\n",
      "/wiki/Category:Articles_with_ISNI_identifiers\n",
      "/wiki/Category:Articles_with_VIAF_identifiers\n",
      "/wiki/Category:Articles_with_WORLDCATID_identifiers\n",
      "/wiki/Category:Articles_with_LCCN_identifiers\n",
      "/wiki/Category:Articles_with_NKC_identifiers\n",
      "/wiki/Special:MyTalk\n",
      "/wiki/Special:MyContributions\n",
      "/w/index.php?title=Special:CreateAccount&returnto=Baruch+College\n",
      "/w/index.php?title=Special:UserLogin&returnto=Baruch+College\n",
      "/wiki/Baruch_College\n",
      "/wiki/Talk:Baruch_College\n",
      "/wiki/Baruch_College\n",
      "/w/index.php?title=Baruch_College&action=edit\n",
      "/w/index.php?title=Baruch_College&action=history\n",
      "/wiki/Main_Page\n",
      "/wiki/Wikipedia:Contents\n",
      "/wiki/Portal:Current_events\n",
      "/wiki/Special:Random\n",
      "/wiki/Wikipedia:About\n",
      "//en.wikipedia.org/wiki/Wikipedia:Contact_us\n",
      "https://donate.wikimedia.org/wiki/Special:FundraiserRedirector?utm_source=donate&utm_medium=sidebar&utm_campaign=C13_en.wikipedia.org&uselang=en\n",
      "/wiki/Help:Contents\n",
      "/wiki/Help:Introduction\n",
      "/wiki/Wikipedia:Community_portal\n",
      "/wiki/Special:RecentChanges\n",
      "/wiki/Wikipedia:File_Upload_Wizard\n",
      "/wiki/Special:WhatLinksHere/Baruch_College\n",
      "/wiki/Special:RecentChangesLinked/Baruch_College\n",
      "/wiki/Wikipedia:File_Upload_Wizard\n",
      "/wiki/Special:SpecialPages\n",
      "/w/index.php?title=Baruch_College&oldid=1093364819\n",
      "/w/index.php?title=Baruch_College&action=info\n",
      "/w/index.php?title=Special:CiteThisPage&page=Baruch_College&id=1093364819&wpFormIdentifier=titleform\n",
      "https://www.wikidata.org/wiki/Special:EntityPage/Q809633\n",
      "/w/index.php?title=Special:DownloadAsPdf&page=Baruch_College&action=show-download-screen\n",
      "/w/index.php?title=Baruch_College&printable=yes\n",
      "https://commons.wikimedia.org/wiki/Category:Baruch_College\n",
      "https://ar.wikipedia.org/wiki/%D9%83%D9%84%D9%8A%D8%A9_%D8%A8%D8%A7%D8%B1%D9%88%D8%AE\n",
      "https://azb.wikipedia.org/wiki/%D8%A8%D8%A7%D8%B1%D9%88%D8%AE_%D8%A8%DB%8C%D9%84%DB%8C%D9%85%E2%80%8C%DB%8C%D9%88%D8%B1%D8%AF%D9%88\n",
      "https://de.wikipedia.org/wiki/Baruch_College\n",
      "https://es.wikipedia.org/wiki/Baruch_College\n",
      "https://fr.wikipedia.org/wiki/Baruch_College\n",
      "https://ko.wikipedia.org/wiki/%EB%B2%84%EB%A3%A9_%EC%B9%BC%EB%A6%AC%EC%A7%80\n",
      "https://ja.wikipedia.org/wiki/%E3%83%8B%E3%83%A5%E3%83%BC%E3%83%A8%E3%83%BC%E3%82%AF%E5%B8%82%E7%AB%8B%E5%A4%A7%E5%AD%A6%E3%83%90%E3%83%AB%E3%83%BC%E3%82%AF%E6%A0%A1\n",
      "https://pl.wikipedia.org/wiki/Baruch_College\n",
      "https://ru.wikipedia.org/wiki/%D0%9A%D0%BE%D0%BB%D0%BB%D0%B5%D0%B4%D0%B6_%D0%91%D0%B0%D1%80%D1%83%D1%85%D0%B0\n",
      "https://tr.wikipedia.org/wiki/Baruch_College\n",
      "https://zh.wikipedia.org/wiki/%E7%B4%90%E7%B4%84%E5%B8%82%E7%AB%8B%E5%A4%A7%E5%AD%B8%E6%9F%8F%E9%AD%AF%E5%85%8B%E5%88%86%E6%A0%A1\n",
      "//en.wikipedia.org/wiki/Wikipedia:Text_of_Creative_Commons_Attribution-ShareAlike_3.0_Unported_License\n",
      "https://foundation.wikimedia.org/wiki/Privacy_policy\n",
      "/wiki/Wikipedia:About\n",
      "/wiki/Wikipedia:General_disclaimer\n",
      "//en.wikipedia.org/wiki/Wikipedia:Contact_us\n",
      "//en.m.wikipedia.org/w/index.php?title=Baruch_College&mobileaction=toggle_view_mobile\n",
      "https://www.mediawiki.org/wiki/Special:MyLanguage/How_to_contribute\n",
      "https://stats.wikimedia.org/#/en.wikipedia.org\n",
      "https://foundation.wikimedia.org/wiki/Cookie_statement\n",
      "https://wikimediafoundation.org/\n",
      "https://www.mediawiki.org/\n"
     ]
    }
   ],
   "source": [
    "#<li> defines a list item\n",
    "\n",
    "url = 'https://en.wikipedia.org/wiki/Baruch_College'\n",
    "r = requests.get(url)\n",
    "soup = BeautifulSoup(r.text)\n",
    "\n",
    "newlist1 = []\n",
    "for item in soup.findAll('li'):\n",
    "    #print(item)\n",
    "    #print(item.find('a').get('href'))\n",
    "    a = item.find('a')\n",
    "    if a != None:\n",
    "        newlist1.append(a.get('href'))\n",
    "        #newlist1.append(a.attr['href'])\n",
    "        \n",
    "    #newlist1.append(href)\n",
    "    #print(href)\n",
    "    \n",
    "    \n",
    "for i in newlist1:\n",
    "    print(i)\n"
   ]
  },
  {
   "cell_type": "code",
   "execution_count": 481,
   "id": "e01a4a04",
   "metadata": {
    "scrolled": true
   },
   "outputs": [
    {
     "data": {
      "text/plain": [
       "['https://www.alumni.baruch.cuny.edu/uploaded/Annual_Reports/BCF_Annual_Report_2020-21-Final.pdf',\n",
       " 'https://ir.baruch.cuny.edu/wp-content/uploads/sites/23/2021/01/Factsheet.Fall_2020_Finalx.pdf',\n",
       " 'http://colleges.usnews.rankingsandreviews.com/best-colleges/baruch-cuny-4766',\n",
       " 'http://www.baruch.edu/news/waldron_announces_gifts.htm',\n",
       " 'https://web.archive.org/web/20090918142223/http://www.baruch.cuny.edu/campaign/index.htm',\n",
       " 'https://www.nytimes.com/2011/11/22/education/cuny-students-clash-with-police-in-manhattan.html',\n",
       " 'https://www1.cuny.edu/mu/forum/2020/02/03/cuny-appoints-next-president-of-baruch-college/',\n",
       " 'https://www.baruch.cuny.edu//academic-degree-programs/',\n",
       " 'http://zicklin.baruch.cuny.edu/',\n",
       " 'http://www.baruch.cuny.edu/wsas/']"
      ]
     },
     "execution_count": 481,
     "metadata": {},
     "output_type": "execute_result"
    }
   ],
   "source": [
    "#build a connection with the url and create a beatifulsoup object\n",
    "url = 'https://en.wikipedia.org/wiki/Baruch_College'\n",
    "\n",
    "r = requests.get(url)\n",
    "soup = BeautifulSoup(r.text)\n",
    "\n",
    "# find all the cite tags with attrs class\n",
    "cites = soup.find_all('cite',class_='citation',limit = 10)\n",
    "\n",
    "newlist = []\n",
    "\n",
    "for cite in cites:\n",
    "    #print(cite.find('a'))\n",
    "    a = cite.find('a')\n",
    "    link = a.get('href')\n",
    "    #print(link)\n",
    "    newlist.append(link)\n",
    "    \n",
    "newlist "
   ]
  },
  {
   "cell_type": "markdown",
   "id": "b01eb9e9",
   "metadata": {},
   "source": [
    "Apart from `find` and `find_all`, there are also a number of other methods for searching the HTML tree, which are very similar to find and find_all. The difference is that they will search different parts of the HTML tree:\n",
    "- `find_parent` and `find_parents` work their way up the tree, looking at a tag’s parents using its parents attribute. Remember that find and find_all work their way down the tree, looking at a tag’s descendants.\n",
    "- `find_next_sibling` and `find_next_siblings` will iterate and match a tag’s siblings using next_siblings attribute.\n",
    "- `find_previous_sibling` and `find_previous_siblings` do the same but use the previous_siblings attribute.\n",
    "- `find_next` and `find_all_next` use the next_elements attribute to iterate and match over whatever comes after a tag in the document.\n",
    "- `find_previous` and `find_all_previous` will perform the search backward using the previous_elements attribute instead.\n",
    "- Remember that `find` and `find_all` work on the children attribute in case the recursive argument is set to False, and on the descendants attribute in case recursive is set to True."
   ]
  },
  {
   "cell_type": "markdown",
   "id": "0696288b",
   "metadata": {},
   "source": [
    "### CSS selectors: `.select()` method \n",
    "\n",
    "Pass a CSS selector rule as a string. `.select()` method runs a CSS selector against a parsed document and return all the matching elements.\n",
    "\n",
    "For example,\n",
    "\n",
    "```\n",
    "# Find all <a> tags\n",
    "html_soup.select('a')\n",
    "\n",
    "# Find the element with the info id\n",
    "html_soup.select('#info')\n",
    "\n",
    "# Find <div> tags with both classa and classb CSS classes\n",
    "html_soup.select(div.classa.classb)\n",
    "\n",
    "# Find <a> tags with an href attribute starting with http://example.com/\n",
    "html_soup.select('a[href^=\"http://example.com/\"]')\n",
    "\n",
    "# Find <li> tags which are children of <ul> tags with class 1st\n",
    "html_soup.select(ul.lst > li')\n",
    "```\n",
    "\n"
   ]
  },
  {
   "cell_type": "markdown",
   "id": "69b78b18",
   "metadata": {},
   "source": [
    "- There are often multiple ways to write a CSS selector to get the same result.\n",
    "    - Ex., instead of writing “cite a,” you can also go overboard and write “body div.reflist ol.references li cite.citation a” and get the same result.\n",
    "- Websites are changing and it might break your selectors. \n",
    "    - Including extra checks in your code and providing early warning signs can help a lot to build robust web scrapers.\n",
    "- More details in [BeautifulSoup Official Document](https://www.crummy.com/software/BeautifulSoup/bs4/doc/#css-selectors)."
   ]
  },
  {
   "cell_type": "code",
   "execution_count": 113,
   "id": "284a3b62",
   "metadata": {},
   "outputs": [
    {
     "name": "stdout",
     "output_type": "stream",
     "text": [
      "Type:  <class 'bs4.element.ResultSet'>\n",
      "Type: <class 'bs4.element.ResultSet'>\n"
     ]
    }
   ],
   "source": [
    "# they give the same results\n",
    "print('Type: ',type(html_soup.select('a',limit=1)))\n",
    "print('Type:', type(html_soup.find_all('a')))"
   ]
  },
  {
   "cell_type": "code",
   "execution_count": 382,
   "id": "f62721a1",
   "metadata": {},
   "outputs": [
    {
     "name": "stdout",
     "output_type": "stream",
     "text": [
      "[<h1 class=\"firstHeading mw-first-heading\" id=\"firstHeading\">List of <i>Game of Thrones</i> episodes</h1>]\n",
      "<h1 class=\"firstHeading mw-first-heading\" id=\"firstHeading\">List of <i>Game of Thrones</i> episodes</h1>\n"
     ]
    }
   ],
   "source": [
    "# Find the element with id\n",
    "print(html_soup.select('#firstHeading'))\n",
    "print(html_soup.find('h1'))"
   ]
  },
  {
   "cell_type": "code",
   "execution_count": 496,
   "id": "fd726afb",
   "metadata": {},
   "outputs": [
    {
     "data": {
      "text/plain": [
       "[<a id=\"top\"></a>,\n",
       " <h1 class=\"firstHeading mw-first-heading\" id=\"firstHeading\">List of <i>Game of Thrones</i> episodes</h1>]"
      ]
     },
     "execution_count": 496,
     "metadata": {},
     "output_type": "execute_result"
    }
   ],
   "source": [
    "# Find the element with id\n",
    "html_soup.select('#firstHeading, #top')"
   ]
  },
  {
   "cell_type": "code",
   "execution_count": 30,
   "id": "54eeee74",
   "metadata": {},
   "outputs": [
    {
     "data": {
      "text/plain": [
       "[<a id=\"top\"></a>,\n",
       " <a href=\"/wiki/Wikipedia:Featured_lists\" title=\"This is a featured list. Click here for more information.\"><img alt=\"This is a featured list. Click here for more information.\" data-file-height=\"438\" data-file-width=\"462\" decoding=\"async\" height=\"19\" src=\"//upload.wikimedia.org/wikipedia/en/thumb/e/e7/Cscr-featured.svg/20px-Cscr-featured.svg.png\" srcset=\"//upload.wikimedia.org/wikipedia/en/thumb/e/e7/Cscr-featured.svg/30px-Cscr-featured.svg.png 1.5x, //upload.wikimedia.org/wikipedia/en/thumb/e/e7/Cscr-featured.svg/40px-Cscr-featured.svg.png 2x\" width=\"20\"/></a>,\n",
       " <a href=\"/wiki/Help:Page_history\" title=\"Help:Page history\">old revision</a>,\n",
       " <a class=\"mw-userlink\" href=\"/wiki/User:Alex_21\" title=\"User:Alex 21\"><bdi>Alex 21</bdi></a>,\n",
       " <a class=\"mw-usertoollinks-talk\" href=\"/wiki/User_talk:Alex_21\" title=\"User talk:Alex 21\">talk</a>]"
      ]
     },
     "execution_count": 30,
     "metadata": {},
     "output_type": "execute_result"
    }
   ],
   "source": [
    "# find tags beneath other tags\n",
    "html_soup.select('body div a', limit = 5)"
   ]
  },
  {
   "cell_type": "code",
   "execution_count": 504,
   "id": "5eff6a04",
   "metadata": {},
   "outputs": [
    {
     "data": {
      "text/plain": [
       "[<title>List of Game of Thrones episodes - Wikipedia</title>]"
      ]
     },
     "execution_count": 504,
     "metadata": {},
     "output_type": "execute_result"
    },
    {
     "data": {
      "text/plain": [
       "<title>List of Game of Thrones episodes - Wikipedia</title>"
      ]
     },
     "execution_count": 504,
     "metadata": {},
     "output_type": "execute_result"
    },
    {
     "data": {
      "text/plain": [
       "[<a id=\"top\"></a>]"
      ]
     },
     "execution_count": 504,
     "metadata": {},
     "output_type": "execute_result"
    }
   ],
   "source": [
    "#find tags\n",
    "html_soup.select('title')\n",
    "html_soup.find('title')\n",
    "\n",
    "#find tags directly beneath other tags\n",
    "html_soup.select('body > div > a')"
   ]
  },
  {
   "cell_type": "code",
   "execution_count": 391,
   "id": "cc2232f5",
   "metadata": {},
   "outputs": [
    {
     "name": "stdout",
     "output_type": "stream",
     "text": [
      "#cite_ref-1\n",
      "https://web.archive.org/web/20120817073932/http://tv.ign.com/articles/116/1160215p1.html\n",
      "/wiki/IGN\n",
      "http://tv.ign.com/articles/116/1160215p1.html\n",
      "/wiki/Template:Cite_web\n",
      "/wiki/Help:CS1_errors#parameter_ignored_suggest\n"
     ]
    }
   ],
   "source": [
    "for link in html_soup.select('ol.references li#cite_note-1 a[href]'):\n",
    "    print(link.get('href'))"
   ]
  },
  {
   "cell_type": "markdown",
   "id": "04583929",
   "metadata": {},
   "source": [
    "Find specific tags in the reference section, with select method"
   ]
  },
  {
   "cell_type": "code",
   "execution_count": 393,
   "id": "2a321e58",
   "metadata": {},
   "outputs": [
    {
     "name": "stdout",
     "output_type": "stream",
     "text": [
      "https://web.archive.org/web/20150527074013/https://www.jbhifi.com.au/movies-tv-shows/movies-tv-shows-on-sale/tv-fantasy/game-of-thrones-season-3/526290/\n"
     ]
    }
   ],
   "source": [
    "# find specific tags in the reference section, with select method\n",
    "for i in html_soup.select(\"#cite_note-96 > span.reference-text > cite > a:nth-child(1)\"):\n",
    "    print(i.get('href'))\n",
    "    #print(i)"
   ]
  },
  {
   "cell_type": "code",
   "execution_count": 394,
   "id": "0a9aad68",
   "metadata": {},
   "outputs": [
    {
     "name": "stdout",
     "output_type": "stream",
     "text": [
      "https://web.archive.org/web/20120817073932/http://tv.ign.com/articles/116/1160215p1.html\n",
      "/wiki/IGN\n",
      "http://tv.ign.com/articles/116/1160215p1.html\n",
      "https://web.archive.org/web/20120516224747/http://www.variety.com/article/VR1117957532?refCatId=14\n",
      "/wiki/Variety_(magazine)\n",
      "http://www.variety.com/article/VR1117957532.html?categoryid=14&cs=1\n",
      "http://www.emmys.com/shows/game-thrones\n",
      "/wiki/Emmy_Award\n",
      "https://web.archive.org/web/20120401123724/http://travel.usatoday.com/destinations/story/2012-04-01/Where-the-HBO-hit-Game-of-Thrones-was-filmed/53876876/1\n",
      "/wiki/USA_Today\n",
      "http://travel.usatoday.com/destinations/story/2012-04-01/Where-the-HBO-hit-Game-of-Thrones-was-filmed/53876876/1\n",
      "https://web.archive.org/web/20131016062544/http://blog.zap2it.com/frominsidethebox/2013/01/game-of-thrones-casts-a-bear-and-shoots-in-los-angeles-for-major-season-3-scene.html\n",
      "/wiki/Zap2it\n",
      "http://blog.zap2it.com/frominsidethebox/2013/01/game-of-thrones-casts-a-bear-and-shoots-in-los-angeles-for-major-season-3-scene.html\n",
      "https://web.archive.org/web/20160821000000/http://www.theguardian.com/tv-and-radio/2014/jul/06/game-of-thrones-fifth-series-10000-spaniards-extras-spain\n",
      "/wiki/The_Guardian\n",
      "https://www.theguardian.com/tv-and-radio/2014/jul/06/game-of-thrones-fifth-series-10000-spaniards-extras-spain\n",
      "https://web.archive.org/web/20160821000000/http://www.slate.com/articles/arts/culturebox/2012/03/game_of_thrones_how_hbo_and_showtime_make_money_despite_low_ratings_.html\n",
      "/wiki/Slate_(magazine)\n",
      "http://www.slate.com/articles/arts/culturebox/2012/03/game_of_thrones_how_hbo_and_showtime_make_money_despite_low_ratings_.html\n",
      "https://web.archive.org/web/20160821000000/http://heavy.com/entertainment/2016/06/game-of-thrones-season-6-episode-9-air-time-channel-hbo-when-is-on-tonight-station-battle-of-the-bastards/\n",
      "/wiki/Heavy.com\n",
      "http://heavy.com/entertainment/2016/06/game-of-thrones-season-6-episode-9-air-time-channel-hbo-when-is-on-tonight-station-battle-of-the-bastards/\n",
      "http://www.hbo.com/search?q=Game%20of%20Thrones&type=schedule\n",
      "/wiki/HBO\n",
      "https://web.archive.org/web/20160905223946/http://deadline.com/2016/04/game-of-thrones-renewed-season-6-veep-silicon-valley-hbo-1201741600/\n",
      "/wiki/Deadline.com\n",
      "http://deadline.com/2016/04/game-of-thrones-renewed-season-6-veep-silicon-valley-hbo-1201741600/\n",
      "https://web.archive.org/web/20160901123724/http://www.ew.com/article/2016/07/18/game-thrones-season-7\n",
      "/wiki/Entertainment_Weekly\n",
      "http://www.ew.com/article/2016/07/18/game-thrones-season-7\n",
      "https://web.archive.org/web/20160901123724/http://www.ew.com/article/2016/07/30/game-thrones\n",
      "http://www.ew.com/article/2016/07/30/game-thrones\n",
      "https://web.archive.org/web/20170312123724/http://variety.com/2017/tv/news/game-of-thrones-sxsw-panel-2017-highlights-1202007386/\n",
      "/wiki/Variety_(magazine)\n",
      "http://variety.com/2017/tv/news/game-of-thrones-sxsw-panel-2017-highlights-1202007386/\n",
      "https://web.archive.org/web/20160901123724/http://tvseriesfinale.com/tv-show/game-of-thrones-season-two-ratings-22729/\n",
      "http://tvseriesfinale.com/tv-show/game-of-thrones-season-two-ratings-22729/\n",
      "https://web.archive.org/web/20160901123724/http://tvseriesfinale.com/tv-show/game-of-thrones-season-three-ratings-27711/\n",
      "http://tvseriesfinale.com/tv-show/game-of-thrones-season-three-ratings-27711/\n",
      "https://web.archive.org/web/20160901123724/http://tvseriesfinale.com/tv-show/game-of-thrones-season-four-ratings-32088/\n",
      "http://tvseriesfinale.com/tv-show/game-of-thrones-season-four-ratings-32088/\n",
      "https://web.archive.org/web/20160901123724/http://tvseriesfinale.com/tv-show/game-of-thrones-season-five-ratings-36234/\n",
      "http://tvseriesfinale.com/tv-show/game-of-thrones-season-five-ratings-36234/\n",
      "https://web.archive.org/web/20160901123724/http://tvseriesfinale.com/tv-show/game-thrones-season-six-ratings/\n",
      "http://tvseriesfinale.com/tv-show/game-thrones-season-six-ratings/\n",
      "http://tvbythenumbers.zap2it.com/more-tv-news/game-of-thrones-season-7-finale-smashes-more-records-for-hbo//\n",
      "http://www.thefutoncritic.com/showatch/game-of-thrones/listings/\n",
      "/wiki/The_Futon_Critic\n",
      "https://web.archive.org/web/20110423154028/http://tvbythenumbers.zap2it.com/2011/04/19/sunday-cable-ratings-nba-storage-wars-ax-men-khloe-lamar-the-killing-breakout-kings-sam-axe-game-of-thrones-much-more/89980\n",
      "/wiki/TV_by_the_Numbers\n",
      "http://tvbythenumbers.zap2it.com/2011/04/19/sunday-cable-ratings-nba-storage-wars-ax-men-khloe-lamar-the-killing-breakout-kings-sam-axe-game-of-thrones-much-more/89980\n",
      "https://web.archive.org/web/20110429171712/http://tvbythenumbers.zap2it.com/2011/04/26/sunday-cable-ratings-nba-khloe-lamar-the-killing-breakout-kings-housewives-game-of-thrones-much-more/90557\n",
      "http://tvbythenumbers.zap2it.com/2011/04/26/sunday-cable-ratings-nba-khloe-lamar-the-killing-breakout-kings-housewives-game-of-thrones-much-more/90557\n",
      "https://web.archive.org/web/20110506062854/http://tvbythenumbers.zap2it.com/2011/05/03/sunday-cable-ratings-more-death-of-bin-laden-ratings-khloe-lamar-law-order-ci-in-plain-sight-army-wives-housewives-game-of-thrones-much-more/91296\n",
      "http://tvbythenumbers.zap2it.com/2011/05/03/sunday-cable-ratings-more-death-of-bin-laden-ratings-khloe-lamar-law-order-ci-in-plain-sight-army-wives-housewives-game-of-thrones-much-more/91296\n",
      "https://web.archive.org/web/20110512045247/http://tvbythenumbers.zap2it.com/2011/05/10/sunday-cable-ratings-bullshawks-tops-law-order-ci-in-plain-sight-army-wives-housewives-game-of-thrones-much-more/92058/\n",
      "http://tvbythenumbers.zap2it.com/2011/05/10/sunday-cable-ratings-bullshawks-tops-law-order-ci-in-plain-sight-army-wives-housewives-game-of-thrones-much-more/92058/\n",
      "https://web.archive.org/web/20110521181701/http://tvbythenumbers.zap2it.com/2011/05/18/sunday-cable-ratings-heatbulls-slam-dunks-law-order-ci-in-plain-sight-army-wives-housewives-game-of-thrones-much-more/93124/\n",
      "http://tvbythenumbers.zap2it.com/2011/05/18/sunday-cable-ratings-heatbulls-slam-dunks-law-order-ci-in-plain-sight-army-wives-housewives-game-of-thrones-much-more/93124/\n",
      "https://web.archive.org/web/20110527163508/http://tvbythenumbers.zap2it.com/2011/05/24/sunday-cable-ratings-heatbulls-scores-big-law-order-ci-in-plain-sight-army-wives-housewives-game-of-thrones-much-more/93748/\n",
      "http://tvbythenumbers.zap2it.com/2011/05/24/sunday-cable-ratings-heatbulls-scores-big-law-order-ci-in-plain-sight-army-wives-housewives-game-of-thrones-much-more/93748/\n",
      "https://web.archive.org/web/20110603194915/http://tvbythenumbers.zap2it.com/2011/06/01/sunday-cable-ratings-my-big-fat-gypsy-wedding-breakout-kings-game-of-thrones-the-killing-more/94362/\n",
      "http://tvbythenumbers.zap2it.com/2011/06/01/sunday-cable-ratings-my-big-fat-gypsy-wedding-breakout-kings-game-of-thrones-the-killing-more/94362/\n",
      "https://web.archive.org/web/20110609181222/http://tvbythenumbers.zap2it.com/2011/06/07/sunday-cable-ratings-mtv-movie-awards-leads-night-game-of-thrones-series-high-real-housewives-abdc-lots-more/94914/\n",
      "http://tvbythenumbers.zap2it.com/2011/06/07/sunday-cable-ratings-mtv-movie-awards-leads-night-game-of-thrones-series-high-real-housewives-abdc-lots-more/94914/\n",
      "https://web.archive.org/web/20110616091944/http://tvbythenumbers.zap2it.com/2011/06/14/sunday-cable-ratings-game-of-thrones-real-housewives-kardashians-in-plain-sight-army-wives-more/95543/\n",
      "http://tvbythenumbers.zap2it.com/2011/06/14/sunday-cable-ratings-game-of-thrones-real-housewives-kardashians-in-plain-sight-army-wives-more/95543/\n",
      "https://web.archive.org/web/20110624184644/http://tvbythenumbers.zap2it.com/2011/06/21/sunday-cable-ratings-falling-skies-game-of-thrones-the-killing-in-plain-sight-law-order-ci-the-glades-and-much-more/96119//\n",
      "http://tvbythenumbers.zap2it.com/2011/06/21/sunday-cable-ratings-falling-skies-game-of-thrones-the-killing-in-plain-sight-law-order-ci-the-glades-and-much-more/96119/\n",
      "https://web.archive.org/web/20120404231719/http://tvbythenumbers.zap2it.com/2012/04/03/sunday-cable-ratingsgame-of-thrones-returns-higher-khloe-lamar-the-killing-mad-menarmy-wives-more/127202/\n",
      "/wiki/TV_by_the_Numbers\n",
      "http://tvbythenumbers.zap2it.com/2012/04/03/sunday-cable-ratingsgame-of-thrones-returns-higher-khloe-lamar-the-killing-mad-menarmy-wives-more/127202\n",
      "https://web.archive.org/web/20120413004039/http://tvbythenumbers.zap2it.com/2012/04/10/sunday-cable-ratings-game-of-thrones-leads-atlanta-housewives-mad-men-khloe-lamar-army-wives-the-client-list-much-more/128221/\n",
      "http://tvbythenumbers.zap2it.com/2012/04/10/sunday-cable-ratings-game-of-thrones-leads-atlanta-housewives-mad-men-khloe-lamar-army-wives-the-client-list-much-more/128221/\n",
      "https://web.archive.org/web/20120419102713/http://tvbythenumbers.zap2it.com/2012/04/17/sunday-cable-ratings-game-of-thrones-real-housewives-atl-mad-men-khloe-lamar-the-client-list-more/129431/\n",
      "http://tvbythenumbers.zap2it.com/2012/04/17/sunday-cable-ratings-game-of-thrones-real-housewives-atl-mad-men-khloe-lamar-the-client-list-more/129431/\n",
      "https://web.archive.org/web/20120427003910/http://tvbythenumbers.zap2it.com/2012/04/24/sunday-cable-ratings-game-of-thrones-real-housewives-atl-mad-men-khloe-lamar-the-client-list-more-2/130469/\n",
      "http://tvbythenumbers.zap2it.com/2012/04/24/sunday-cable-ratings-game-of-thrones-real-housewives-atl-mad-men-khloe-lamar-the-client-list-more-2/130469/\n",
      "https://web.archive.org/web/20120503204826/http://tvbythenumbers.zap2it.com/2012/05/01/sunday-cable-ratings-game-of-thrones-rises-ties-nba-playoffs-real-housewives-the-client-list-army-wives-mad-men-more/131531/\n",
      "http://tvbythenumbers.zap2it.com/2012/05/01/sunday-cable-ratings-game-of-thrones-rises-ties-nba-playoffs-real-housewives-the-client-list-army-wives-mad-men-more/131531/\n",
      "https://web.archive.org/web/20120510023725/http://tvbythenumbers.zap2it.com/2012/05/08/sunday-cable-ratings-nba-playoffs-game-of-thrones-the-client-list-khloe-lamar-mad-men-more/132856/\n",
      "http://tvbythenumbers.zap2it.com/2012/05/08/sunday-cable-ratings-nba-playoffs-game-of-thrones-the-client-list-khloe-lamar-mad-men-more/132856/\n",
      "https://web.archive.org/web/20120518005551/http://tvbythenumbers.zap2it.com/2012/05/15/sunday-cable-ratings-game-of-thrones-tops-real-housewives-nj-the-client-list-khloe-lamar-army-wives-more/134164/\n",
      "http://tvbythenumbers.zap2it.com/2012/05/15/sunday-cable-ratings-game-of-thrones-tops-real-housewives-nj-the-client-list-khloe-lamar-army-wives-more/134164/\n",
      "https://web.archive.org/web/20120525060743/http://tvbythenumbers.zap2it.com/2012/05/22/sunday-cable-ratings-nba-playoffs-game-of-thrones-keeping-up-with-the-kardashians-ax-men-the-client-list-sister-wives-more/135295/\n",
      "http://tvbythenumbers.zap2it.com/2012/05/22/sunday-cable-ratings-nba-playoffs-game-of-thrones-keeping-up-with-the-kardashians-ax-men-the-client-list-sister-wives-more/135295/\n",
      "https://web.archive.org/web/20120602032344/http://tvbythenumbers.zap2it.com/2012/05/30/sunday-cable-ratings-nba-playoffs-win-night-game-of-thrones-mad-men-keeping-up-with-the-kardashians-girls-pawn-stars-more/136102/\n",
      "http://tvbythenumbers.zap2it.com/2012/05/30/sunday-cable-ratings-nba-playoffs-win-night-game-of-thrones-mad-men-keeping-up-with-the-kardashians-girls-pawn-stars-more/136102/\n",
      "https://web.archive.org/web/20120607211006/http://tvbythenumbers.zap2it.com/2012/06/05/sunday-cable-ratings-nba-playoffs-game-of-thrones-finale-mtv-movie-awards-sister-wives-the-glades-longmire-more/136802/\n",
      "http://tvbythenumbers.zap2it.com/2012/06/05/sunday-cable-ratings-nba-playoffs-game-of-thrones-finale-mtv-movie-awards-sister-wives-the-glades-longmire-more/136802/\n",
      "https://web.archive.org/web/20130404222250/http://tvbythenumbers.zap2it.com/2013/04/02/sunday-cable-ratings-the-walking-dead-wins-night-game-of-thrones-the-bible-vikings-shameless-the-client-list-more/175901/\n",
      "/wiki/TV_by_the_Numbers\n",
      "http://tvbythenumbers.zap2it.com/2013/04/02/sunday-cable-ratings-the-walking-dead-wins-night-game-of-thrones-the-bible-vikings-shameless-the-client-list-more/175901/\n",
      "https://web.archive.org/web/20130412085124/http://tvbythenumbers.zap2it.com/2013/04/09/sunday-cable-ratings-game-of-thrones-wins-night-real-housewives-of-atlanta-kourtney-kim-take-miami-vikings-mad-men-more/177076/\n",
      "http://tvbythenumbers.zap2it.com/2013/04/09/sunday-cable-ratings-game-of-thrones-wins-night-real-housewives-of-atlanta-kourtney-kim-take-miami-vikings-mad-men-more/177076/\n",
      "https://web.archive.org/web/20130419043731/http://tvbythenumbers.zap2it.com/2013/04/16/sunday-cable-ratings-game-of-thrones-wins-night-mtv-movie-awards-vikings-mad-menthe-client-list-veep-more/178049/\n",
      "http://tvbythenumbers.zap2it.com/2013/04/16/sunday-cable-ratings-game-of-thrones-wins-night-mtv-movie-awards-vikings-mad-menthe-client-list-veep-more/178049/\n",
      "https://web.archive.org/web/20130425211600/http://tvbythenumbers.zap2it.com/2013/04/23/sunday-cable-ratings-game-of-thrones-wins-night-nba-playoffs-real-housewives-of-atlanta-vikings-more/179182/\n",
      "http://tvbythenumbers.zap2it.com/2013/04/23/sunday-cable-ratings-game-of-thrones-wins-night-nba-playoffs-real-housewives-of-atlanta-vikings-more/179182/\n",
      "https://web.archive.org/web/20130503030511/http://tvbythenumbers.zap2it.com/2013/04/30/sunday-cable-ratings-game-of-thrones-wins-night-nba-playoffs-vikings-the-client-list-mad-men-veep-more/180165/\n",
      "http://tvbythenumbers.zap2it.com/2013/04/30/sunday-cable-ratings-game-of-thrones-wins-night-nba-playoffs-vikings-the-client-list-mad-men-veep-more/180165/\n",
      "https://web.archive.org/web/20130510033336/http://tvbythenumbers.zap2it.com/2013/05/07/sunday-cable-ratings-game-of-thrones-wins-night-ax-men-mad-men-army-wives-the-client-list-more/181265/\n",
      "http://tvbythenumbers.zap2it.com/2013/05/07/sunday-cable-ratings-game-of-thrones-wins-night-ax-men-mad-men-army-wives-the-client-list-more/181265/\n",
      "https://web.archive.org/web/20130607112615/http://tvbythenumbers.zap2it.com/2013/05/14/sunday-cable-ratings-game-of-thrones-wins-night-breaking-amish-mad-men-long-island-medium-river-monsters-more/182590/\n",
      "http://tvbythenumbers.zap2it.com/2013/05/14/sunday-cable-ratings-game-of-thrones-wins-night-breaking-amish-mad-men-long-island-medium-river-monsters-more/182590/\n",
      "https://web.archive.org/web/20130607112730/http://tvbythenumbers.zap2it.com/2013/05/21/sunday-cable-ratingsgame-of-thrones-wins-night-north-america-mad-men-veep-the-client-list-more/183402/\n",
      "http://tvbythenumbers.zap2it.com/2013/05/21/sunday-cable-ratingsgame-of-thrones-wins-night-north-america-mad-men-veep-the-client-list-more/183402/\n",
      "https://web.archive.org/web/20130608010043/http://tvbythenumbers.zap2it.com/2013/06/04/sunday-cable-ratings-game-of-thrones-wins-night-keeping-up-with-the-kardashians-real-housewives-of-new-jersey-breaking-amish-mad-men-more/185649/\n",
      "http://tvbythenumbers.zap2it.com/2013/06/04/sunday-cable-ratings-game-of-thrones-wins-night-keeping-up-with-the-kardashians-real-housewives-of-new-jersey-breaking-amish-mad-men-more/185649/\n",
      "https://web.archive.org/web/20130614195306/http://tvbythenumbers.zap2it.com/2013/06/11/sunday-cable-ratings-game-of-thrones-wins-night-falling-skies-mad-men-army-wives-veep-the-client-list-more-more/186683/\n",
      "http://tvbythenumbers.zap2it.com/2013/06/11/sunday-cable-ratings-game-of-thrones-wins-night-falling-skies-mad-men-army-wives-veep-the-client-list-more-more/186683/\n",
      "https://web.archive.org/web/20140408224954/http://tvbythenumbers.zap2it.com/2014/04/08/sunday-cable-ratings-game-of-thrones-wins-night-the-real-housewives-of-atlanta-silicon-valley-married-to-medicine-more/251918/\n",
      "http://tvbythenumbers.zap2it.com/2014/04/08/sunday-cable-ratings-game-of-thrones-wins-night-the-real-housewives-of-atlanta-silicon-valley-married-to-medicine-more/251918/\n",
      "https://web.archive.org/web/20140416001123/http://tvbythenumbers.zap2it.com/2014/04/15/sunday-cable-ratings-game-of-thrones-wins-night-real-housewives-of-atlanta-mtv-movie-awards-silicon-valley-mad-men-drop-dead-diva-more/254110/\n",
      "http://tvbythenumbers.zap2it.com/2014/04/15/sunday-cable-ratings-game-of-thrones-wins-night-real-housewives-of-atlanta-mtv-movie-awards-silicon-valley-mad-men-drop-dead-diva-more/254110/\n",
      "https://web.archive.org/web/20140424031717/http://tvbythenumbers.zap2it.com/2014/04/22/sunday-cable-ratings-game-of-thrones-wins-night-nba-playoffs-real-housewives-of-atlanta-naked-and-afraid-more/256183/\n",
      "http://tvbythenumbers.zap2it.com/2014/04/22/sunday-cable-ratings-game-of-thrones-wins-night-nba-playoffs-real-housewives-of-atlanta-naked-and-afraid-more/256183/\n",
      "https://web.archive.org/web/20140429183802/http://tvbythenumbers.zap2it.com/2014/04/29/sunday-cable-ratings-game-of-thrones-wins-night-nba-playoffs-real-housewives-of-atlanta-mad-men-devious-maids-more/258458/\n",
      "http://tvbythenumbers.zap2it.com/2014/04/29/sunday-cable-ratings-game-of-thrones-wins-night-nba-playoffs-real-housewives-of-atlanta-mad-men-devious-maids-more/258458/\n",
      "https://web.archive.org/web/20140506164134/http://tvbythenumbers.zap2it.com/2014/05/06/sunday-cable-ratings-game-of-thrones-wins-night-real-housewives-of-atlanta-married-to-medicine-silicon-valley-more/260613/\n",
      "http://tvbythenumbers.zap2it.com/2014/05/06/sunday-cable-ratings-game-of-thrones-wins-night-real-housewives-of-atlanta-married-to-medicine-silicon-valley-more/260613/\n",
      "https://web.archive.org/web/20140514024434/http://tvbythenumbers.zap2it.com/2014/05/13/sunday-cable-ratings-game-of-thrones-wins-night-nba-playoffs-silicon-valley-bar-rescue-real-housewives-of-atlanta-mad-men-more/263258/\n",
      "http://tvbythenumbers.zap2it.com/2014/05/13/sunday-cable-ratings-game-of-thrones-wins-night-nba-playoffs-silicon-valley-bar-rescue-real-housewives-of-atlanta-mad-men-more/263258/\n",
      "https://web.archive.org/web/20140520220200/http://tvbythenumbers.zap2it.com/2014/05/20/sunday-cable-ratings-game-of-thrones-wins-night-silicon-valley-real-housewives-of-atlanta-river-monsters-married-to-medicine-more/265704/\n",
      "http://tvbythenumbers.zap2it.com/2014/05/20/sunday-cable-ratings-game-of-thrones-wins-night-silicon-valley-real-housewives-of-atlanta-river-monsters-married-to-medicine-more/265704/\n",
      "https://web.archive.org/web/20140606141926/http://tvbythenumbers.zap2it.com/2014/06/03/sunday-cable-ratings-game-of-thrones-wins-night-nhl-conference-finals-real-housewives-of-atlanta-kandis-wedding-silicon-valley-more/269702/\n",
      "http://tvbythenumbers.zap2it.com/2014/06/03/sunday-cable-ratings-game-of-thrones-wins-night-nhl-conference-finals-real-housewives-of-atlanta-kandis-wedding-silicon-valley-more/269702/\n",
      "https://web.archive.org/web/20140614030809/http://tvbythenumbers.zap2it.com/2014/06/10/sunday-cable-ratings-game-of-thrones-wins-night-keeping-up-with-the-kardashians-devious-maids-veep-turn-more/271830/\n",
      "http://tvbythenumbers.zap2it.com/2014/06/10/sunday-cable-ratings-game-of-thrones-wins-night-keeping-up-with-the-kardashians-devious-maids-veep-turn-more/271830/\n",
      "https://web.archive.org/web/20140620101205/http://tvbythenumbers.zap2it.com/2014/06/17/sunday-cable-ratings-game-of-thrones-wins-night-world-cup-soccer-keeping-up-with-the-kardashians-nascar-more/274033/\n",
      "http://tvbythenumbers.zap2it.com/2014/06/17/sunday-cable-ratings-game-of-thrones-wins-night-world-cup-soccer-keeping-up-with-the-kardashians-nascar-more/274033/\n",
      "https://web.archive.org/web/20160901123724/http://tvbythenumbers.zap2it.com/2015/04/14/sunday-cable-ratings-game-of-thrones-wins-night-silicon-valley-mtv-movie-awards-mad-men-veep-the-royals-more/388550/\n",
      "/wiki/TV_by_the_Numbers\n",
      "http://tvbythenumbers.zap2it.com/2015/04/14/sunday-cable-ratings-game-of-thrones-wins-night-silicon-valley-mtv-movie-awards-mad-men-veep-the-royals-more/388550/\n",
      "https://web.archive.org/web/20160901123724/http://tvbythenumbers.zap2it.com/2015/04/21/sunday-cable-ratings-game-of-thrones-tops-night-nba-playoffs-real-housewives-of-atlanta-naked-and-afraid-more/392154/\n",
      "http://tvbythenumbers.zap2it.com/2015/04/21/sunday-cable-ratings-game-of-thrones-tops-night-nba-playoffs-real-housewives-of-atlanta-naked-and-afraid-more/392154/\n",
      "https://web.archive.org/web/20160901123724/http://tvbythenumbers.zap2it.com/2015/04/28/sunday-cable-ratings-game-of-thrones-wins-night-nba-playoffs-real-housewives-of-atlanta-silicon-valley-mad-men-more/395207/\n",
      "http://tvbythenumbers.zap2it.com/2015/04/28/sunday-cable-ratings-game-of-thrones-wins-night-nba-playoffs-real-housewives-of-atlanta-silicon-valley-mad-men-more/395207/\n",
      "https://web.archive.org/web/20160901123724/http://tvbythenumbers.zap2it.com/2015/05/05/sunday-cable-ratings-game-of-thrones-tops-night-real-housewives-of-atlanta-silicon-valley-more/399327/\n",
      "http://tvbythenumbers.zap2it.com/2015/05/05/sunday-cable-ratings-game-of-thrones-tops-night-real-housewives-of-atlanta-silicon-valley-more/399327/\n",
      "https://web.archive.org/web/20160901123724/http://tvbythenumbers.zap2it.com/2015/05/12/sunday-cable-ratings-game-of-thrones-wins-night-nba-playoffs-silicon-valley-mad-men-the-royals-veep-more/402701/\n",
      "http://tvbythenumbers.zap2it.com/2015/05/12/sunday-cable-ratings-game-of-thrones-wins-night-nba-playoffs-silicon-valley-mad-men-the-royals-veep-more/402701/\n",
      "https://web.archive.org/web/20160901123724/http://tvbythenumbers.zap2it.com/2015/05/19/sunday-cable-ratings-game-of-thrones-tops-night-keeping-up-with-the-kardashians-mad-men-more/405665/\n",
      "http://tvbythenumbers.zap2it.com/2015/05/19/sunday-cable-ratings-game-of-thrones-tops-night-keeping-up-with-the-kardashians-mad-men-more/405665/\n",
      "https://web.archive.org/web/20160901123724/http://tvbythenumbers.zap2it.com/2015/05/27/sunday-cable-ratings-nba-conference-finals-win-night-game-of-thrones-silicon-valley-keeping-up-with-the-kardashians-veep-more/408392/\n",
      "http://tvbythenumbers.zap2it.com/2015/05/27/sunday-cable-ratings-nba-conference-finals-win-night-game-of-thrones-silicon-valley-keeping-up-with-the-kardashians-veep-more/408392/\n",
      "https://web.archive.org/web/20160901123724/http://tvbythenumbers.zap2it.com/2015/06/02/sunday-cable-ratings-game-of-thrones-tops-night-keeping-up-with-the-kardashians-silicon-valley-naked-and-afraid-more/411032/\n",
      "http://tvbythenumbers.zap2it.com/2015/06/02/sunday-cable-ratings-game-of-thrones-tops-night-keeping-up-with-the-kardashians-silicon-valley-naked-and-afraid-more/411032/\n",
      "https://web.archive.org/web/20160901123724/http://tvbythenumbers.zap2it.com/2015/06/09/sunday-cable-ratings-game-of-thrones-wins-night-silicon-valley-naked-afraid-married-to-medicine-veep-more/414320/\n",
      "http://tvbythenumbers.zap2it.com/2015/06/09/sunday-cable-ratings-game-of-thrones-wins-night-silicon-valley-naked-afraid-married-to-medicine-veep-more/414320/\n",
      "https://web.archive.org/web/20160610161844/http://tvbythenumbers.zap2it.com/2015/06/16/sunday-cable-ratings-game-of-thrones-tops-night-silicon-valley-nascar-botched-more/417761/\n",
      "http://tvbythenumbers.zap2it.com/2015/06/16/sunday-cable-ratings-game-of-thrones-tops-night-silicon-valley-nascar-botched-more/417761/\n",
      "https://web.archive.org/web/20160901123724/http://tvbythenumbers.zap2it.com/2016/04/26/sunday-cable-ratings-april-24-2016/\n",
      "/wiki/TV_by_the_Numbers\n",
      "http://tvbythenumbers.zap2it.com/2016/04/26/sunday-cable-ratings-april-24-2016/\n",
      "https://web.archive.org/web/20160826024533/http://tvbythenumbers.zap2it.com/2016/05/03/sunday-cable-ratings-may-1-2016/\n",
      "http://tvbythenumbers.zap2it.com/2016/05/03/sunday-cable-ratings-may-1-2016/\n",
      "https://web.archive.org/web/20160901123724/http://tvbythenumbers.zap2it.com/2016/05/10/sunday-cable-ratings-may-8-2016/\n",
      "http://tvbythenumbers.zap2it.com/2016/05/10/sunday-cable-ratings-may-8-2016/\n",
      "https://web.archive.org/web/20160901123724/http://tvbythenumbers.zap2it.com/2016/05/17/sunday-cable-ratings-game-of-thrones-rises-fear-the-walking-dead-falls/\n",
      "http://tvbythenumbers.zap2it.com/2016/05/17/sunday-cable-ratings-game-of-thrones-rises-fear-the-walking-dead-falls/\n",
      "https://web.archive.org/web/20160926224753/http://tvbythenumbers.zap2it.com/2016/05/24/sunday-cable-ratings-may-22-2016/\n",
      "http://tvbythenumbers.zap2it.com/2016/05/24/sunday-cable-ratings-may-22-2016/\n",
      "https://web.archive.org/web/20160901123724/http://tvbythenumbers.zap2it.com/2016/06/01/sunday-cable-ratings-may-29-2016/\n",
      "http://tvbythenumbers.zap2it.com/2016/06/01/sunday-cable-ratings-may-29-2016/\n",
      "https://web.archive.org/web/20160828033328/http://tvbythenumbers.zap2it.com/2016/06/07/sunday-cable-ratings-june-5-2016/\n",
      "http://tvbythenumbers.zap2it.com/2016/06/07/sunday-cable-ratings-june-5-2016/\n",
      "https://web.archive.org/web/20160901123724/http://tvbythenumbers.zap2it.com/2016/06/14/sunday-cable-ratings-june-12-2016/\n",
      "http://tvbythenumbers.zap2it.com/2016/06/14/sunday-cable-ratings-june-12-2016/\n",
      "https://web.archive.org/web/20160915043520/http://tvbythenumbers.zap2it.com/2016/06/21/sunday-cable-ratings-june-19-2016/\n",
      "http://tvbythenumbers.zap2it.com/2016/06/21/sunday-cable-ratings-june-19-2016/\n",
      "https://web.archive.org/web/20160901123724/http://tvbythenumbers.zap2it.com/2016/06/28/sunday-cable-ratings-june-26-2016/\n",
      "http://tvbythenumbers.zap2it.com/2016/06/28/sunday-cable-ratings-june-26-2016/\n",
      "https://web.archive.org/web/20170730232116/http://tvbythenumbers.zap2it.com/daily-ratings/game-of-thrones-scores-series-best-audience-with-season-7-premiere/\n",
      "/wiki/TV_by_the_Numbers\n",
      "http://tvbythenumbers.zap2it.com/daily-ratings/game-of-thrones-scores-series-best-audience-with-season-7-premiere/\n",
      "https://web.archive.org/web/20170725182750/http://tvbythenumbers.zap2it.com/daily-ratings/sunday-cable-ratings-july-23-2017/\n",
      "/wiki/TV_by_the_Numbers\n",
      "http://tvbythenumbers.zap2it.com/daily-ratings/sunday-cable-ratings-july-23-2017/\n",
      "https://web.archive.org/web/20170801193447/http://tvbythenumbers.zap2it.com/daily-ratings/sunday-cable-ratings-july-30-2017/\n",
      "/wiki/TV_by_the_Numbers\n",
      "http://tvbythenumbers.zap2it.com/daily-ratings/sunday-cable-ratings-july-30-2017/\n",
      "https://web.archive.org/web/20170808224152/http://tvbythenumbers.zap2it.com/daily-ratings/sunday-cable-ratings-aug-6-2017/\n",
      "/wiki/TV_by_the_Numbers\n",
      "http://tvbythenumbers.zap2it.com/daily-ratings/sunday-cable-ratings-aug-6-2017/\n",
      "https://web.archive.org/web/20170815222212/http://tvbythenumbers.zap2it.com/daily-ratings/sunday-cable-ratings-aug-13-2017/\n",
      "/wiki/TV_by_the_Numbers\n",
      "http://tvbythenumbers.zap2it.com/daily-ratings/sunday-cable-ratings-aug-13-2017/\n",
      "https://web.archive.org/web/20170822201353/http://tvbythenumbers.zap2it.com/daily-ratings/sunday-cable-ratings-aug-20-2017/\n",
      "/wiki/TV_by_the_Numbers\n",
      "http://tvbythenumbers.zap2it.com/daily-ratings/sunday-cable-ratings-aug-20-2017/\n",
      "https://web.archive.org/web/20170829203817/http://tvbythenumbers.zap2it.com/daily-ratings/sunday-cable-ratings-aug-27-2017/\n",
      "/wiki/TV_by_the_Numbers\n",
      "http://tvbythenumbers.zap2it.com/daily-ratings/sunday-cable-ratings-aug-27-2017/\n",
      "https://web.archive.org/web/20160901123724/http://www.tvshowsondvd.com/news/Game-Thrones-Season-1-Press-Release/16277\n",
      "/wiki/TVShowsOnDVD.com\n",
      "http://www.tvshowsondvd.com/news/Game-Thrones-Season-1-Press-Release/16277\n",
      "https://web.archive.org/web/20160619023517/https://www.amazon.co.uk/Game-Thrones-Season-1-DVD/dp/B004LRO176\n",
      "https://www.amazon.co.uk/Game-Thrones-Season-1-DVD/dp/B004LRO176/\n",
      "https://web.archive.org/web/20161114014955/https://www.jbhifi.com.au/movies-tv-shows/movies-tv-shows-on-sale/tv-fantasy/game-of-thrones-season-1/291196/\n",
      "https://www.jbhifi.com.au/movies-tv-shows/movies-tv-shows-on-sale/tv-fantasy/game-of-thrones-season-1/291196/\n",
      "https://web.archive.org/web/20160901123724/http://www.tvshowsondvd.com/news/Game-Thrones-Season-2/17767\n",
      "http://www.tvshowsondvd.com/news/Game-Thrones-Season-2/17767\n",
      "https://web.archive.org/web/20161114015044/https://www.amazon.co.uk/d/DVD-Blu-ray/Game-Thrones-Season-2-2013-Lena-Headey/B005PN8BUS/\n",
      "https://www.amazon.co.uk/d/DVD-Blu-ray/Game-Thrones-Season-2-2013-Lena-Headey/B005PN8BUS/\n",
      "https://web.archive.org/web/20161114015145/https://www.jbhifi.com.au/movies-tv-shows/movies-tv-shows-on-sale/tv-fantasy/game-of-thrones-season-2/393699/\n",
      "https://www.jbhifi.com.au/movies-tv-shows/movies-tv-shows-on-sale/tv-fantasy/game-of-thrones-season-2/393699/\n",
      "https://web.archive.org/web/20160901123724/http://tvshowsondvd.com/news/Game-Thrones-Season-3/18611\n",
      "http://tvshowsondvd.com/news/Game-Thrones-Season-3/18611\n",
      "https://web.archive.org/web/20160619024301/https://www.amazon.co.uk/Game-Thrones-Season-3-DVD/dp/B00AQGE43M\n",
      "https://www.amazon.co.uk/Game-Thrones-Season-3-DVD/dp/B00AQGE43M/\n",
      "https://web.archive.org/web/20150527074013/https://www.jbhifi.com.au/movies-tv-shows/movies-tv-shows-on-sale/tv-fantasy/game-of-thrones-season-3/526290/\n",
      "https://www.jbhifi.com.au/movies-tv-shows/movies-tv-shows-on-sale/tv-fantasy/game-of-thrones-season-3/526290/\n",
      "https://web.archive.org/web/20160901123724/http://www.tvshowsondvd.com/news/Game-Thrones-Season-4/20065\n",
      "http://www.tvshowsondvd.com/news/Game-Thrones-Season-4/20065\n",
      "https://web.archive.org/web/20160818003357/https://www.amazon.co.uk/Game-Thrones-Season-4-DVD/dp/B00DY64C8S\n",
      "https://www.amazon.co.uk/Game-Thrones-Season-4-DVD/dp/B00DY64C8S/\n",
      "https://web.archive.org/web/20160510021547/https://www.jbhifi.com.au/movies-tv-shows/movies-tv-shows-on-sale/tv-fantasy/game-of-thrones-season-4/611100/\n",
      "https://www.jbhifi.com.au/movies-tv-shows/movies-tv-shows-on-sale/tv-fantasy/game-of-thrones-season-4/611100/\n",
      "https://web.archive.org/web/20160901123724/http://www.amazon.com/dp/B00VSG3MSC/\n",
      "/wiki/Amazon.com\n",
      "https://www.amazon.com/dp/B00VSG3MSC/\n",
      "https://web.archive.org/web/20161114015534/https://www.amazon.co.uk/Game-Thrones-Season-5-DVD-x/dp/B010BY2AQ6/\n",
      "https://www.amazon.co.uk/Game-Thrones-Season-5-DVD-x/dp/B010BY2AQ6/\n",
      "https://web.archive.org/web/20160516112155/https://www.jbhifi.com.au/movies-tv-shows/movies-tv-shows-on-sale/tv-fantasy/game-of-thrones-season-5/927320/\n",
      "https://www.jbhifi.com.au/movies-tv-shows/movies-tv-shows-on-sale/tv-fantasy/game-of-thrones-season-5/927320/\n",
      "https://web.archive.org/web/20160901123724/http://www.amazon.com/dp/B01H2JPULU/\n",
      "https://www.amazon.com/dp/B01H2JPULU/\n",
      "https://web.archive.org/web/20161109105347/https://www.amazon.co.uk/Game-Thrones-Season-6-DVD/dp/B018SBSAJK\n",
      "https://www.amazon.co.uk/Game-Thrones-Season-6-DVD/dp/B018SBSAJK/\n",
      "https://web.archive.org/web/20161114015700/https://www.jbhifi.com.au/movies-tv-shows/movies-tv-shows-on-sale/tv-fantasy/game-of-thrones-season-6/988991/\n",
      "https://www.jbhifi.com.au/movies-tv-shows/movies-tv-shows-on-sale/tv-fantasy/game-of-thrones-season-6/988991/\n",
      "https://web.archive.org/web/20170726011355/http://www.tvshowsondvd.com/news/Game-Thrones-Season-7/23505\n",
      "http://www.tvshowsondvd.com/news/Game-Thrones-Season-7/23505\n",
      "https://www.amazon.co.uk/dp/B075728BT8/\n",
      "https://www.jbhifi.com.au/movies-tv-shows/movies-tv-shows-on-sale/tv-fantasy/game-of-thrones-season-7/460287/\n"
     ]
    }
   ],
   "source": [
    "#find all citation links from a webpage with select method\n",
    "\n",
    "for i in html_soup.select('ol.references cite a[href]'):\n",
    "    print(i.get('href'))"
   ]
  },
  {
   "cell_type": "code",
   "execution_count": 420,
   "id": "7708b417",
   "metadata": {},
   "outputs": [
    {
     "data": {
      "text/plain": [
       "[]"
      ]
     },
     "execution_count": 420,
     "metadata": {},
     "output_type": "execute_result"
    }
   ],
   "source": [
    "html_soup.select(\"#mw-content-text > div.mw-parser-output > div:nth-child(7) > table\")"
   ]
  },
  {
   "cell_type": "markdown",
   "id": "86b7c83a",
   "metadata": {},
   "source": [
    "### Other Beautiful Soup objects\n",
    "There are two more object types in Beautiful Soup that, although less commonly used, are useful to know about:\n",
    "\n",
    "- `NavigableString` objects: these are used to represent text within tags, rather than the tags themselves. Some Beautiful Soup functions and attributes will return such objects, such as the string attribute of tags, for instance. Attributes such as descendants will also include these in their listings. In addition, if you use `find` or `find_all` methods and supply a string argument value without a name argument, then these will return NavigableString objects as well, instead of Tag objects.\n",
    "- `Comment objects`: these are used to represent HTML comments (found in comment tags, “`<!-- ... -->`”). These are very rarely useful when web scraping."
   ]
  }
 ],
 "metadata": {
  "kernelspec": {
   "display_name": "Python 3 (ipykernel)",
   "language": "python",
   "name": "python3"
  },
  "language_info": {
   "codemirror_mode": {
    "name": "ipython",
    "version": 3
   },
   "file_extension": ".py",
   "mimetype": "text/x-python",
   "name": "python",
   "nbconvert_exporter": "python",
   "pygments_lexer": "ipython3",
   "version": "3.11.1"
  }
 },
 "nbformat": 4,
 "nbformat_minor": 5
}
