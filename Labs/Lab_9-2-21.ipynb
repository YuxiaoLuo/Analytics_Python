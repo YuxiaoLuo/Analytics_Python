{
 "cells": [
  {
   "cell_type": "markdown",
   "id": "216d7ee5",
   "metadata": {},
   "source": [
    "**Lab (9/2/21)**"
   ]
  },
  {
   "cell_type": "code",
   "execution_count": 13,
   "id": "50e5c27b",
   "metadata": {},
   "outputs": [
    {
     "name": "stdout",
     "output_type": "stream",
     "text": [
      "Your name?: Yuxiao\n"
     ]
    }
   ],
   "source": [
    "#Print Hello and the name of the user\n",
    "UserName = input(\"Your name?: \")"
   ]
  },
  {
   "cell_type": "code",
   "execution_count": 14,
   "id": "00ce4b0d",
   "metadata": {},
   "outputs": [
    {
     "name": "stdout",
     "output_type": "stream",
     "text": [
      "Hello Yuxiao\n"
     ]
    }
   ],
   "source": [
    "print(\"Hello \" + UserName)"
   ]
  },
  {
   "cell_type": "code",
   "execution_count": 4,
   "id": "6bec4184",
   "metadata": {},
   "outputs": [
    {
     "data": {
      "text/plain": [
       "'I'"
      ]
     },
     "execution_count": 4,
     "metadata": {},
     "output_type": "execute_result"
    }
   ],
   "source": [
    "#Create a string with the course code and name:\"CIS3120\": Programming for Analytics in Python\" and write code to answer q's\n",
    "c = \"CIS3120: Programming for Analytics in Python\"\n",
    "\n",
    "#a) compute and print the length of the string\n",
    "len(c)\n",
    "c[1]"
   ]
  }
 ],
 "metadata": {
  "kernelspec": {
   "display_name": "Python 3 (ipykernel)",
   "language": "python",
   "name": "python3"
  },
  "language_info": {
   "codemirror_mode": {
    "name": "ipython",
    "version": 3
   },
   "file_extension": ".py",
   "mimetype": "text/x-python",
   "name": "python",
   "nbconvert_exporter": "python",
   "pygments_lexer": "ipython3",
   "version": "3.11.1"
  }
 },
 "nbformat": 4,
 "nbformat_minor": 5
}
