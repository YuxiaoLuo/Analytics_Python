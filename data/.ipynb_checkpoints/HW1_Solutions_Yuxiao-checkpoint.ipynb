{
 "cells": [
  {
   "cell_type": "code",
   "execution_count": 2,
   "id": "86686993",
   "metadata": {},
   "outputs": [],
   "source": [
    "from IPython.core.interactiveshell import InteractiveShell\n",
    "InteractiveShell.ast_node_interactivity = \"all\""
   ]
  },
  {
   "cell_type": "markdown",
   "id": "0db794ca",
   "metadata": {},
   "source": [
    "1.\tWrite a Python program to filter integers (1-50) into two lists (even numbers and odd numbers) (using Lambda argument)"
   ]
  },
  {
   "cell_type": "code",
   "execution_count": 52,
   "id": "fa1d378a",
   "metadata": {},
   "outputs": [
    {
     "name": "stdout",
     "output_type": "stream",
     "text": [
      "This program filters integers (1-50) into two lists. \n",
      "\n",
      "The odd list is [1, 3, 5, 7, 9, 11, 13, 15, 17, 19, 21, 23, 25, 27, 29, 31, 33, 35, 37, 39, 41, 43, 45, 47, 49]. \n",
      "\n",
      "The even list is [2, 4, 6, 8, 10, 12, 14, 16, 18, 20, 22, 24, 26, 28, 30, 32, 34, 36, 38, 40, 42, 44, 46, 48, 50]. \n",
      "\n"
     ]
    }
   ],
   "source": [
    "def main():\n",
    "    print(\"This program filters integers (1-50) into two lists. \\n\")\n",
    "    odd = []\n",
    "    even = []\n",
    "    for number in range(1,51):\n",
    "        if number%2 == 0:\n",
    "            even.append(number)\n",
    "        elif number % 2 != 0:\n",
    "            odd.append(number)\n",
    "        else:\n",
    "            print(\"ERROR: please check!\")\n",
    "    print(f\"The odd list is {odd}. \\n\")\n",
    "    print(f\"The even list is {even}. \\n\")\n",
    "    \n",
    "if __name__ == \"__main__\":\n",
    "    main()"
   ]
  },
  {
   "cell_type": "code",
   "execution_count": 7,
   "id": "48e4d1bd",
   "metadata": {},
   "outputs": [
    {
     "data": {
      "text/plain": [
       "range"
      ]
     },
     "execution_count": 7,
     "metadata": {},
     "output_type": "execute_result"
    },
    {
     "name": "stdout",
     "output_type": "stream",
     "text": [
      "[2, 4, 6, 8, 10, 12, 14, 16, 18, 20, 22, 24, 26, 28, 30, 32, 34, 36, 38, 40, 42, 44, 46, 48, 50]\n",
      "[1, 3, 5, 7, 9, 11, 13, 15, 17, 19, 21, 23, 25, 27, 29, 31, 33, 35, 37, 39, 41, 43, 45, 47, 49]\n"
     ]
    }
   ],
   "source": [
    "# using lambda and filter()\n",
    "num = range(1,51)\n",
    "type(num)\n",
    "\n",
    "# filter(func, iterable) extracts the True elements returned by the func\n",
    "even_num = list(filter(lambda x: x%2 == 0, num))\n",
    "\n",
    "odd_num = list(filter(lambda x: x%2 !=0, num))\n",
    "\n",
    "print(even_num)\n",
    "print(odd_num)"
   ]
  },
  {
   "cell_type": "markdown",
   "id": "13b0bad7",
   "metadata": {},
   "source": [
    "2.\tCreate a list and find numbers from 1 to 200, which are divisible by 2-9 (use for loop)"
   ]
  },
  {
   "cell_type": "code",
   "execution_count": 32,
   "id": "7b5d0d79",
   "metadata": {},
   "outputs": [
    {
     "name": "stdout",
     "output_type": "stream",
     "text": [
      "From 1 to 200, these numbers are divisible by 2-9: {2, 3, 4, 5, 6, 7, 8, 9, 10, 12, 14, 15, 16, 18, 20, 21, 22, 24, 25, 26, 27, 28, 30, 32, 33, 34, 35, 36, 38, 39, 40, 42, 44, 45, 46, 48, 49, 50, 51, 52, 54, 55, 56, 57, 58, 60, 62, 63, 64, 65, 66, 68, 69, 70, 72, 74, 75, 76, 77, 78, 80, 81, 82, 84, 85, 86, 87, 88, 90, 91, 92, 93, 94, 95, 96, 98, 99, 100, 102, 104, 105, 106, 108, 110, 111, 112, 114, 115, 116, 117, 118, 119, 120, 122, 123, 124, 125, 126, 128, 129, 130, 132, 133, 134, 135, 136, 138, 140, 141, 142, 144, 145, 146, 147, 148, 150, 152, 153, 154, 155, 156, 158, 159, 160, 161, 162, 164, 165, 166, 168, 170, 171, 172, 174, 175, 176, 177, 178, 180, 182, 183, 184, 185, 186, 188, 189, 190, 192, 194, 195, 196, 198, 200}\n"
     ]
    }
   ],
   "source": [
    "def main():\n",
    "    \n",
    "    # create empty list\n",
    "    nums_divisible = []\n",
    "    \n",
    "    # for loop\n",
    "    for num in range(1, 201):\n",
    "        for denominator in range(2,10):\n",
    "            if num % denominator == 0:\n",
    "                nums_divisible += [num]\n",
    "                \n",
    "    # keep unique numbers in the list\n",
    "    nums_divisible = set(nums_divisible)            \n",
    "    # print result\n",
    "    print(f\"From 1 to 200, these numbers are divisible by 2-9: {nums_divisible}\")\n",
    "    \n",
    "if __name__ == '__main__':\n",
    "    main()"
   ]
  },
  {
   "cell_type": "markdown",
   "id": "b5cd2222",
   "metadata": {},
   "source": [
    "3.\tCreate a list and find numbers from 1 to 200, which are divisible by 2-9 (use list comprehension)"
   ]
  },
  {
   "cell_type": "code",
   "execution_count": 51,
   "id": "649f595b",
   "metadata": {},
   "outputs": [
    {
     "name": "stdout",
     "output_type": "stream",
     "text": [
      "[2, 3, 4, 5, 6, 7, 8, 9, 10, 12, 14, 15, 16, 18, 20, 21, 22, 24, 25, 26, 27, 28, 30, 32, 33, 34, 35, 36, 38, 39, 40, 42, 44, 45, 46, 48, 49, 50, 51, 52, 54, 55, 56, 57, 58, 60, 62, 63, 64, 65, 66, 68, 69, 70, 72, 74, 75, 76, 77, 78, 80, 81, 82, 84, 85, 86, 87, 88, 90, 91, 92, 93, 94, 95, 96, 98, 99, 100, 102, 104, 105, 106, 108, 110, 111, 112, 114, 115, 116, 117, 118, 119, 120, 122, 123, 124, 125, 126, 128, 129, 130, 132, 133, 134, 135, 136, 138, 140, 141, 142, 144, 145, 146, 147, 148, 150, 152, 153, 154, 155, 156, 158, 159, 160, 161, 162, 164, 165, 166, 168, 170, 171, 172, 174, 175, 176, 177, 178, 180, 182, 183, 184, 185, 186, 188, 189, 190, 192, 194, 195, 196, 198, 200]\n"
     ]
    }
   ],
   "source": [
    "# use indexing \n",
    "nums_divisible = [num for num in range(1,201) if True in [True for denominator in range(2,10) \n",
    "                                                          if num % denominator == 0]]\n",
    "print(nums_divisible)"
   ]
  },
  {
   "cell_type": "code",
   "execution_count": 50,
   "id": "76a7b22e",
   "metadata": {},
   "outputs": [
    {
     "name": "stdout",
     "output_type": "stream",
     "text": [
      "[2, 3, 4, 5, 6, 7, 8, 9, 10, 12, 14, 15, 16, 18, 20, 21, 22, 24, 25, 26, 27, 28, 30, 32, 33, 34, 35, 36, 38, 39, 40, 42, 44, 45, 46, 48, 49, 50, 51, 52, 54, 55, 56, 57, 58, 60, 62, 63, 64, 65, 66, 68, 69, 70, 72, 74, 75, 76, 77, 78, 80, 81, 82, 84, 85, 86, 87, 88, 90, 91, 92, 93, 94, 95, 96, 98, 99, 100, 102, 104, 105, 106, 108, 110, 111, 112, 114, 115, 116, 117, 118, 119, 120, 122, 123, 124, 125, 126, 128, 129, 130, 132, 133, 134, 135, 136, 138, 140, 141, 142, 144, 145, 146, 147, 148, 150, 152, 153, 154, 155, 156, 158, 159, 160, 161, 162, 164, 165, 166, 168, 170, 171, 172, 174, 175, 176, 177, 178, 180, 182, 183, 184, 185, 186, 188, 189, 190, 192, 194, 195, 196, 198, 200]\n"
     ]
    }
   ],
   "source": [
    "# nested for loop in list comprehension\n",
    "nums_divisible = set(num for num in range(1,201) for denominator in range(2,10) if \n",
    "                     num % denominator == 0)\n",
    "print(list(nums_divisible))"
   ]
  },
  {
   "cell_type": "markdown",
   "id": "41b10e2c",
   "metadata": {},
   "source": [
    "4.\t\n",
    "Create a list to get the first 11 Fibonacci series. \n",
    "\n",
    "\n",
    "Note: The Fibonacci Sequence is the series of numbers: 0, 1, 1, 2, 3, 5, 8, 13, 21, .... \n",
    "\n",
    "Every next number is found by adding up the two numbers before it.\n",
    "\n",
    "Expected Output: 1 1 2 3 5 8 13 21 34 55 89\n"
   ]
  },
  {
   "cell_type": "code",
   "execution_count": 9,
   "id": "b44ef054",
   "metadata": {},
   "outputs": [
    {
     "name": "stdout",
     "output_type": "stream",
     "text": [
      "How long the Fibonacci series do you wanna get? 50\n",
      "The Fibonacci series is [1, 1, 2, 3, 5, 8, 13, 21, 34, 55, 89, 144, 233, 377, 610, 987, 1597, 2584, 4181, 6765, 10946, 17711, 28657, 46368, 75025, 121393, 196418, 317811, 514229, 832040, 1346269, 2178309, 3524578, 5702887, 9227465, 14930352, 24157817, 39088169, 63245986, 102334155, 165580141, 267914296, 433494437, 701408733, 1134903170, 1836311903, 2971215073, 4807526976, 7778742049, 12586269025].\n"
     ]
    }
   ],
   "source": [
    "# use for loop\n",
    "def main():\n",
    "    Fibonacci = [0,1]\n",
    "    \n",
    "    length = int(input(\"How long the Fibonacci series do you wanna get? \"))\n",
    "    \n",
    "    if len(Fibonacci) >= length:\n",
    "        print(f\"The Fibonacci series is {Fibonacci}.\")\n",
    "    else:\n",
    "        for i in range(length-1):\n",
    "            Fibonacci.append(Fibonacci[i]+Fibonacci[i+1])\n",
    "        # remove 0 from series\n",
    "        del Fibonacci[0]\n",
    "        print(f\"The Fibonacci series is {Fibonacci}.\")\n",
    "        \n",
    "if __name__ == '__main__':\n",
    "    main()"
   ]
  },
  {
   "cell_type": "code",
   "execution_count": 69,
   "id": "38484def",
   "metadata": {},
   "outputs": [
    {
     "name": "stdout",
     "output_type": "stream",
     "text": [
      "How many Fibonacci seires numbers you want? 11\n",
      "[1, 1, 2, 3, 5, 8, 13, 21, 34, 55, 89]\n"
     ]
    }
   ],
   "source": [
    "# use recursion\n",
    "\n",
    "def main():\n",
    "    length = int(input(\"How many Fibonacci seires numbers you want? \"))\n",
    "    fib_series = []\n",
    "    for i in range(1,length+1):\n",
    "        fib_series.append(fibonacci(i))\n",
    "    print(fib_series)\n",
    "    \n",
    "def fibonacci(n):\n",
    "    if n in {0,1}:\n",
    "        return n\n",
    "    return fibonacci(n-1) + fibonacci(n-2)\n",
    "\n",
    "if __name__ == '__main__':\n",
    "    main()"
   ]
  },
  {
   "cell_type": "markdown",
   "id": "f6c9ccde",
   "metadata": {},
   "source": [
    "5.\tCount the number of paragraphs, tables, and external links from the webpage: https://en.wikipedia.org/wiki/Baruch_College"
   ]
  },
  {
   "cell_type": "code",
   "execution_count": 93,
   "id": "5e1f97ed",
   "metadata": {},
   "outputs": [],
   "source": [
    "import requests\n",
    "from bs4 import BeautifulSoup\n",
    "\n",
    "url = 'https://en.wikipedia.org/wiki/Baruch_College'\n",
    "    \n",
    "r = requests.get(url)\n",
    "\n",
    "html_soup = BeautifulSoup(r.text)\n",
    "\n",
    "# find all paragraphs\n",
    "para = html_soup.find_all('p')\n",
    "# find all tables\n",
    "table = html_soup.find_all('table')\n",
    "# find all hyperlinks\n",
    "hyperlink = html_soup.find_all('a', attrs = {'class':'external text'})"
   ]
  },
  {
   "cell_type": "code",
   "execution_count": 123,
   "id": "7d05f675",
   "metadata": {},
   "outputs": [
    {
     "data": {
      "text/plain": [
       "33"
      ]
     },
     "execution_count": 123,
     "metadata": {},
     "output_type": "execute_result"
    },
    {
     "data": {
      "text/plain": [
       "8"
      ]
     },
     "execution_count": 123,
     "metadata": {},
     "output_type": "execute_result"
    },
    {
     "data": {
      "text/plain": [
       "188"
      ]
     },
     "execution_count": 123,
     "metadata": {},
     "output_type": "execute_result"
    }
   ],
   "source": [
    "# count number of all the paragraphs, tables, and hyperlinks\n",
    "len(para)\n",
    "len(table)\n",
    "len(hyperlink)"
   ]
  },
  {
   "cell_type": "code",
   "execution_count": 121,
   "id": "2d425927",
   "metadata": {},
   "outputs": [
    {
     "data": {
      "text/plain": [
       "['//geohack.toolforge.org/geohack.php?pagename=Baruch_College&params=40.740159_N_73.98338_W_source:dewiki_region:US-NY_type:edu_dim:5km',\n",
       " '//geohack.toolforge.org/geohack.php?pagename=Baruch_College&params=40.740159_N_73.98338_W_source:dewiki_region:US-NY_type:edu_dim:5km',\n",
       " 'http://www.baruch.cuny.edu',\n",
       " 'https://en.wikipedia.org/w/index.php?title=Baruch_College&action=edit',\n",
       " 'https://www.alumni.baruch.cuny.edu/uploaded/Annual_Reports/BCF_Annual_Report_2020-21-Final.pdf']"
      ]
     },
     "execution_count": 121,
     "metadata": {},
     "output_type": "execute_result"
    }
   ],
   "source": [
    "# Check the the links with URL\n",
    "href_list = [hyperlink[i].get('href') for i in range(len(hyperlink))]\n",
    "href_list[0:5]"
   ]
  },
  {
   "cell_type": "markdown",
   "id": "18173f12",
   "metadata": {},
   "source": [
    "6.\tPrint the text in the first paragraph from the following html document:\n",
    "\n",
    "```\n",
    "html_doc = \"\"\"\n",
    "<html>\n",
    "<head>\n",
    "<meta http-equiv=\"Content-Type\" content=\"text/html;\n",
    "charset=iso-8859-1\">\n",
    "<title>An example of HTML page</title>\n",
    "</head>\n",
    "<body>\n",
    "<h2>This is an example HTML page</h2>\n",
    "<p>\n",
    "Lorem ipsum dolor sit amet, consectetur adipiscing elit. Nunc at nisi velit,\n",
    "aliquet iaculis est. Curabitur porttitor nisi vel lacus euismod egestas. In hac\n",
    "habitasse platea dictumst. In sagittis magna eu odio interdum mollis. Phasellus\n",
    "sagittis pulvinar facilisis. Donec vel odio volutpat tortor volutpat commodo.\n",
    "Donec vehicula vulputate sem, vel iaculis urna molestie eget. Sed pellentesque\n",
    "adipiscing tortor, at condimentum elit elementum sed. Mauris dignissim\n",
    "elementum nunc, non elementum felis condimentum eu. In in turpis quis erat\n",
    "imperdiet vulputate. Pellentesque mauris turpis, dignissim sed iaculis eu,\n",
    "euismod eget ipsum. Vivamus mollis adipiscing viverra. Morbi at sem eget nisl\n",
    "euismod porta.</p>\n",
    "<p><a href=\"https://www.w3resource.com/html/HTML-tutorials.php\">Learn HTML from\n",
    "w3resource.com</a></p>\n",
    "<p><a href=\"https://www.w3resource.com/css/CSS-tutorials.php\">Learn CSS from \n",
    "w3resource.com</a></p>\n",
    "</body>\n",
    "</html>\n",
    "\"\"\"\n",
    "```\n"
   ]
  },
  {
   "cell_type": "code",
   "execution_count": 138,
   "id": "16baa35e",
   "metadata": {},
   "outputs": [],
   "source": [
    "# assign the html code to the object html_doc\n",
    "html_doc = \"\"\"\n",
    "<html>\n",
    "<head>\n",
    "<meta http-equiv=\"Content-Type\" content=\"text/html;\n",
    "charset=iso-8859-1\">\n",
    "<title>An example of HTML page</title>\n",
    "</head>\n",
    "<body>\n",
    "<h2>This is an example HTML page</h2>\n",
    "<p>\n",
    "Lorem ipsum dolor sit amet, consectetur adipiscing elit. Nunc at nisi velit,\n",
    "aliquet iaculis est. Curabitur porttitor nisi vel lacus euismod egestas. In hac\n",
    "habitasse platea dictumst. In sagittis magna eu odio interdum mollis. Phasellus\n",
    "sagittis pulvinar facilisis. Donec vel odio volutpat tortor volutpat commodo.\n",
    "Donec vehicula vulputate sem, vel iaculis urna molestie eget. Sed pellentesque\n",
    "adipiscing tortor, at condimentum elit elementum sed. Mauris dignissim\n",
    "elementum nunc, non elementum felis condimentum eu. In in turpis quis erat\n",
    "imperdiet vulputate. Pellentesque mauris turpis, dignissim sed iaculis eu,\n",
    "euismod eget ipsum. Vivamus mollis adipiscing viverra. Morbi at sem eget nisl\n",
    "euismod porta.</p>\n",
    "<p><a href=\"https://www.w3resource.com/html/HTML-tutorials.php\">Learn HTML from\n",
    "w3resource.com</a></p>\n",
    "<p><a href=\"https://www.w3resource.com/css/CSS-tutorials.php\">Learn CSS from \n",
    "w3resource.com</a></p>\n",
    "</body>\n",
    "</html>\n",
    "\"\"\""
   ]
  },
  {
   "cell_type": "code",
   "execution_count": 146,
   "id": "e7b61244",
   "metadata": {},
   "outputs": [
    {
     "name": "stdout",
     "output_type": "stream",
     "text": [
      "\n",
      "Lorem ipsum dolor sit amet, consectetur adipiscing elit. Nunc at nisi velit,\n",
      "aliquet iaculis est. Curabitur porttitor nisi vel lacus euismod egestas. In hac\n",
      "habitasse platea dictumst. In sagittis magna eu odio interdum mollis. Phasellus\n",
      "sagittis pulvinar facilisis. Donec vel odio volutpat tortor volutpat commodo.\n",
      "Donec vehicula vulputate sem, vel iaculis urna molestie eget. Sed pellentesque\n",
      "adipiscing tortor, at condimentum elit elementum sed. Mauris dignissim\n",
      "elementum nunc, non elementum felis condimentum eu. In in turpis quis erat\n",
      "imperdiet vulputate. Pellentesque mauris turpis, dignissim sed iaculis eu,\n",
      "euismod eget ipsum. Vivamus mollis adipiscing viverra. Morbi at sem eget nisl\n",
      "euismod porta.\n"
     ]
    }
   ],
   "source": [
    "html_soup = BeautifulSoup(markup = html_doc, features = 'html.parser')\n",
    "\n",
    "print(html_soup.find('p').text)"
   ]
  },
  {
   "cell_type": "markdown",
   "id": "fc6619a4",
   "metadata": {},
   "source": [
    "7.\tWrite a Python program to find all the link tags and list the first ten from the webpage https://www.baruch.cuny.edu"
   ]
  },
  {
   "cell_type": "code",
   "execution_count": 134,
   "id": "ec7a7a54",
   "metadata": {},
   "outputs": [],
   "source": [
    "import requests\n",
    "from bs4 import BeautifulSoup\n",
    "\n",
    "url = 'https://www.baruch.cuny.edu'\n",
    "r = requests.get(url)\n",
    "\n",
    "html_soup = BeautifulSoup(markup = r.text, features = 'html.parser' )\n",
    "\n",
    "# all the link tags\n",
    "links = html_soup.find_all('a', limit = 10)"
   ]
  },
  {
   "cell_type": "code",
   "execution_count": 137,
   "id": "0fbae705",
   "metadata": {},
   "outputs": [
    {
     "data": {
      "text/plain": [
       "['https://blogs.baruch.cuny.edu/bctc/2022/03/22/m365emailfaq/',\n",
       " '#content',\n",
       " 'https://forward.baruch.cuny.edu/',\n",
       " 'https://www.baruch.cuny.edu/bctc/blackboard/',\n",
       " 'https://blogs.baruch.cuny.edu/',\n",
       " 'https://home.cunyfirst.cuny.edu/',\n",
       " 'https://www.baruch.cuny.edu/bctc/degreeworks/',\n",
       " 'https://baruch.cuny.edu/epaf/',\n",
       " '#',\n",
       " 'https://outlook.office.com/']"
      ]
     },
     "execution_count": 137,
     "metadata": {},
     "output_type": "execute_result"
    }
   ],
   "source": [
    "link_href = [links[i].get('href') for i in range(len(links))]\n",
    "link_href"
   ]
  },
  {
   "cell_type": "markdown",
   "id": "86f8c959",
   "metadata": {},
   "source": [
    "8.\tCreate a Python dictionary to get the title, rating and the url of the top 50 movie from IMDb movie database: https://www.imdb.com/chart/top/?ref_=nv_mv_250"
   ]
  },
  {
   "cell_type": "code",
   "execution_count": 11,
   "id": "21f8a813",
   "metadata": {},
   "outputs": [],
   "source": [
    "import requests\n",
    "from bs4 import BeautifulSoup\n",
    "\n",
    "url = 'https://www.imdb.com/chart/top/?ref_=nv_mv_250'\n",
    "    \n",
    "r = requests.get(url)\n",
    "\n",
    "html_soup = BeautifulSoup(markup = r.text, features = 'html.parser')\n",
    "\n",
    "# go to the page and find the table there\n",
    "table = html_soup.find('table', attrs = {'data-caller-name':'chart-top250movie'})"
   ]
  },
  {
   "cell_type": "code",
   "execution_count": 16,
   "id": "147c8908",
   "metadata": {},
   "outputs": [
    {
     "data": {
      "text/plain": [
       "['The Shawshank Redemption',\n",
       " 'The Godfather',\n",
       " 'The Dark Knight',\n",
       " 'The Godfather Part II',\n",
       " '12 Angry Men']"
      ]
     },
     "execution_count": 16,
     "metadata": {},
     "output_type": "execute_result"
    },
    {
     "data": {
      "text/plain": [
       "250"
      ]
     },
     "execution_count": 16,
     "metadata": {},
     "output_type": "execute_result"
    }
   ],
   "source": [
    "# td(table data) tag contains the table\n",
    "Titles_tag = table.find_all('td', attrs = {'class':'titleColumn'})\n",
    "# a tag contains movie titles\n",
    "titles = [Titles_tag[i].find('a').text for i in range(len(Titles_tag))]\n",
    "# check movie titles\n",
    "titles[:5]\n",
    "len(titles)"
   ]
  },
  {
   "cell_type": "code",
   "execution_count": 17,
   "id": "f53f4de1",
   "metadata": {},
   "outputs": [
    {
     "data": {
      "text/plain": [
       "['/title/tt0111161/',\n",
       " '/title/tt0068646/',\n",
       " '/title/tt0468569/',\n",
       " '/title/tt0071562/',\n",
       " '/title/tt0050083/']"
      ]
     },
     "execution_count": 17,
     "metadata": {},
     "output_type": "execute_result"
    }
   ],
   "source": [
    "# links in href attrs in a tag\n",
    "links = [Titles_tag[i].find('a').get('href') for i in range(len(Titles_tag))]\n",
    "links[:5]"
   ]
  },
  {
   "cell_type": "code",
   "execution_count": 175,
   "id": "70e7b027",
   "metadata": {},
   "outputs": [
    {
     "data": {
      "text/plain": [
       "['9.2', '9.2', '9.0', '9.0', '8.9']"
      ]
     },
     "execution_count": 175,
     "metadata": {},
     "output_type": "execute_result"
    }
   ],
   "source": [
    "# ratings tag\n",
    "ratings_tag = table.find_all('strong')\n",
    "ratings = [ratings_tag[i].text for i in range(len(ratings_tag))]\n",
    "# check the ratings\n",
    "ratings[:5]"
   ]
  },
  {
   "cell_type": "code",
   "execution_count": 203,
   "id": "cc7358cc",
   "metadata": {},
   "outputs": [
    {
     "name": "stdout",
     "output_type": "stream",
     "text": [
      "{'title': 'The Shawshank Redemption', 'rating': '9.2', 'url': '/title/tt0111161/'}\n",
      "{'title': 'The Godfather', 'rating': '9.2', 'url': '/title/tt0068646/'}\n",
      "{'title': 'The Dark Knight', 'rating': '9.0', 'url': '/title/tt0468569/'}\n",
      "{'title': 'The Godfather Part II', 'rating': '9.0', 'url': '/title/tt0071562/'}\n",
      "{'title': '12 Angry Men', 'rating': '8.9', 'url': '/title/tt0050083/'}\n",
      "{'title': \"Schindler's List\", 'rating': '8.9', 'url': '/title/tt0108052/'}\n",
      "{'title': 'The Lord of the Rings: The Return of the King', 'rating': '8.9', 'url': '/title/tt0167260/'}\n",
      "{'title': 'Pulp Fiction', 'rating': '8.9', 'url': '/title/tt0110912/'}\n",
      "{'title': 'The Lord of the Rings: The Fellowship of the Ring', 'rating': '8.8', 'url': '/title/tt0120737/'}\n",
      "{'title': 'The Good, the Bad and the Ugly', 'rating': '8.8', 'url': '/title/tt0060196/'}\n",
      "{'title': 'Forrest Gump', 'rating': '8.8', 'url': '/title/tt0109830/'}\n",
      "{'title': 'Fight Club', 'rating': '8.7', 'url': '/title/tt0137523/'}\n",
      "{'title': 'Inception', 'rating': '8.7', 'url': '/title/tt1375666/'}\n",
      "{'title': 'The Lord of the Rings: The Two Towers', 'rating': '8.7', 'url': '/title/tt0167261/'}\n",
      "{'title': 'Star Wars: Episode V - The Empire Strikes Back', 'rating': '8.7', 'url': '/title/tt0080684/'}\n",
      "{'title': 'The Matrix', 'rating': '8.7', 'url': '/title/tt0133093/'}\n",
      "{'title': 'Goodfellas', 'rating': '8.7', 'url': '/title/tt0099685/'}\n",
      "{'title': \"One Flew Over the Cuckoo's Nest\", 'rating': '8.6', 'url': '/title/tt0073486/'}\n",
      "{'title': 'Se7en', 'rating': '8.6', 'url': '/title/tt0114369/'}\n",
      "{'title': 'Seven Samurai', 'rating': '8.6', 'url': '/title/tt0047478/'}\n",
      "{'title': \"It's a Wonderful Life\", 'rating': '8.6', 'url': '/title/tt0038650/'}\n",
      "{'title': 'The Silence of the Lambs', 'rating': '8.6', 'url': '/title/tt0102926/'}\n",
      "{'title': 'City of God', 'rating': '8.6', 'url': '/title/tt0317248/'}\n",
      "{'title': 'Saving Private Ryan', 'rating': '8.6', 'url': '/title/tt0120815/'}\n",
      "{'title': 'Life Is Beautiful', 'rating': '8.6', 'url': '/title/tt0118799/'}\n",
      "{'title': 'The Green Mile', 'rating': '8.6', 'url': '/title/tt0120689/'}\n",
      "{'title': 'Interstellar', 'rating': '8.6', 'url': '/title/tt0816692/'}\n",
      "{'title': 'Star Wars', 'rating': '8.6', 'url': '/title/tt0076759/'}\n",
      "{'title': 'Terminator 2: Judgment Day', 'rating': '8.5', 'url': '/title/tt0103064/'}\n",
      "{'title': 'Back to the Future', 'rating': '8.5', 'url': '/title/tt0088763/'}\n",
      "{'title': 'Spirited Away', 'rating': '8.5', 'url': '/title/tt0245429/'}\n",
      "{'title': 'Psycho', 'rating': '8.5', 'url': '/title/tt0054215/'}\n",
      "{'title': 'The Pianist', 'rating': '8.5', 'url': '/title/tt0253474/'}\n",
      "{'title': 'Léon: The Professional', 'rating': '8.5', 'url': '/title/tt0110413/'}\n",
      "{'title': 'Parasite', 'rating': '8.5', 'url': '/title/tt6751668/'}\n",
      "{'title': 'The Lion King', 'rating': '8.5', 'url': '/title/tt0110357/'}\n",
      "{'title': 'Gladiator', 'rating': '8.5', 'url': '/title/tt0172495/'}\n",
      "{'title': 'American History X', 'rating': '8.5', 'url': '/title/tt0120586/'}\n",
      "{'title': 'The Usual Suspects', 'rating': '8.5', 'url': '/title/tt0114814/'}\n",
      "{'title': 'The Departed', 'rating': '8.5', 'url': '/title/tt0407887/'}\n",
      "{'title': 'The Prestige', 'rating': '8.5', 'url': '/title/tt0482571/'}\n",
      "{'title': 'Casablanca', 'rating': '8.5', 'url': '/title/tt0034583/'}\n",
      "{'title': 'Top Gun: Maverick', 'rating': '8.5', 'url': '/title/tt1745960/'}\n",
      "{'title': 'Whiplash', 'rating': '8.5', 'url': '/title/tt2582802/'}\n",
      "{'title': 'The Intouchables', 'rating': '8.5', 'url': '/title/tt1675434/'}\n",
      "{'title': 'Modern Times', 'rating': '8.4', 'url': '/title/tt0027977/'}\n",
      "{'title': 'Hara-Kiri', 'rating': '8.4', 'url': '/title/tt0056058/'}\n",
      "{'title': 'Grave of the Fireflies', 'rating': '8.4', 'url': '/title/tt0095327/'}\n",
      "{'title': 'Once Upon a Time in the West', 'rating': '8.4', 'url': '/title/tt0064116/'}\n",
      "{'title': 'Rear Window', 'rating': '8.4', 'url': '/title/tt0047396/'}\n",
      "{'title': 'Alien', 'rating': '8.4', 'url': '/title/tt0078748/'}\n",
      "{'title': 'City Lights', 'rating': '8.4', 'url': '/title/tt0021749/'}\n",
      "{'title': 'Cinema Paradiso', 'rating': '8.4', 'url': '/title/tt0095765/'}\n",
      "{'title': 'Memento', 'rating': '8.4', 'url': '/title/tt0209144/'}\n",
      "{'title': 'Apocalypse Now', 'rating': '8.4', 'url': '/title/tt0078788/'}\n",
      "{'title': 'Indiana Jones and the Raiders of the Lost Ark', 'rating': '8.4', 'url': '/title/tt0082971/'}\n",
      "{'title': 'Django Unchained', 'rating': '8.4', 'url': '/title/tt1853728/'}\n",
      "{'title': 'WALL·E', 'rating': '8.4', 'url': '/title/tt0910970/'}\n",
      "{'title': 'The Lives of Others', 'rating': '8.4', 'url': '/title/tt0405094/'}\n",
      "{'title': 'Sunset Blvd.', 'rating': '8.4', 'url': '/title/tt0043014/'}\n",
      "{'title': 'Paths of Glory', 'rating': '8.4', 'url': '/title/tt0050825/'}\n",
      "{'title': 'The Shining', 'rating': '8.4', 'url': '/title/tt0081505/'}\n",
      "{'title': 'The Great Dictator', 'rating': '8.4', 'url': '/title/tt0032553/'}\n",
      "{'title': 'Witness for the Prosecution', 'rating': '8.4', 'url': '/title/tt0051201/'}\n",
      "{'title': 'Avengers: Infinity War', 'rating': '8.4', 'url': '/title/tt4154756/'}\n",
      "{'title': 'Aliens', 'rating': '8.3', 'url': '/title/tt0090605/'}\n",
      "{'title': 'American Beauty', 'rating': '8.3', 'url': '/title/tt0169547/'}\n",
      "{'title': 'Dr. Strangelove or: How I Learned to Stop Worrying and Love the Bomb', 'rating': '8.3', 'url': '/title/tt0057012/'}\n",
      "{'title': 'Spider-Man: Into the Spider-Verse', 'rating': '8.3', 'url': '/title/tt4633694/'}\n",
      "{'title': 'The Dark Knight Rises', 'rating': '8.3', 'url': '/title/tt1345836/'}\n",
      "{'title': 'Oldboy', 'rating': '8.3', 'url': '/title/tt0364569/'}\n",
      "{'title': 'Joker', 'rating': '8.3', 'url': '/title/tt7286456/'}\n",
      "{'title': 'Amadeus', 'rating': '8.3', 'url': '/title/tt0086879/'}\n",
      "{'title': 'Braveheart', 'rating': '8.3', 'url': '/title/tt0112573/'}\n",
      "{'title': 'Toy Story', 'rating': '8.3', 'url': '/title/tt0114709/'}\n",
      "{'title': 'Coco', 'rating': '8.3', 'url': '/title/tt2380307/'}\n",
      "{'title': 'The Boat', 'rating': '8.3', 'url': '/title/tt0082096/'}\n",
      "{'title': 'Inglourious Basterds', 'rating': '8.3', 'url': '/title/tt0361748/'}\n",
      "{'title': 'Princess Mononoke', 'rating': '8.3', 'url': '/title/tt0119698/'}\n",
      "{'title': 'Avengers: Endgame', 'rating': '8.3', 'url': '/title/tt4154796/'}\n",
      "{'title': 'Once Upon a Time in America', 'rating': '8.3', 'url': '/title/tt0087843/'}\n",
      "{'title': 'Good Will Hunting', 'rating': '8.3', 'url': '/title/tt0119217/'}\n",
      "{'title': 'Requiem for a Dream', 'rating': '8.3', 'url': '/title/tt0180093/'}\n",
      "{'title': 'Toy Story 3', 'rating': '8.3', 'url': '/title/tt0435761/'}\n",
      "{'title': 'Your Name.', 'rating': '8.3', 'url': '/title/tt5311514/'}\n",
      "{'title': \"Singin' in the Rain\", 'rating': '8.3', 'url': '/title/tt0045152/'}\n",
      "{'title': '3 Idiots', 'rating': '8.3', 'url': '/title/tt1187043/'}\n",
      "{'title': 'Star Wars: Episode VI - Return of the Jedi', 'rating': '8.3', 'url': '/title/tt0086190/'}\n",
      "{'title': '2001: A Space Odyssey', 'rating': '8.3', 'url': '/title/tt0062622/'}\n",
      "{'title': 'Eternal Sunshine of the Spotless Mind', 'rating': '8.3', 'url': '/title/tt0338013/'}\n",
      "{'title': 'Reservoir Dogs', 'rating': '8.3', 'url': '/title/tt0105236/'}\n",
      "{'title': 'High and Low', 'rating': '8.3', 'url': '/title/tt0057565/'}\n",
      "{'title': 'Capernaum', 'rating': '8.3', 'url': '/title/tt8267604/'}\n",
      "{'title': 'Citizen Kane', 'rating': '8.3', 'url': '/title/tt0033467/'}\n",
      "{'title': 'Lawrence of Arabia', 'rating': '8.3', 'url': '/title/tt0056172/'}\n",
      "{'title': 'The Hunt', 'rating': '8.3', 'url': '/title/tt2106476/'}\n",
      "{'title': 'M', 'rating': '8.3', 'url': '/title/tt0022100/'}\n",
      "{'title': 'North by Northwest', 'rating': '8.3', 'url': '/title/tt0053125/'}\n",
      "{'title': 'Vertigo', 'rating': '8.2', 'url': '/title/tt0052357/'}\n",
      "{'title': 'Amélie', 'rating': '8.2', 'url': '/title/tt0211915/'}\n",
      "{'title': 'A Clockwork Orange', 'rating': '8.2', 'url': '/title/tt0066921/'}\n",
      "{'title': 'Come and See', 'rating': '8.2', 'url': '/title/tt0091251/'}\n",
      "{'title': 'Full Metal Jacket', 'rating': '8.2', 'url': '/title/tt0093058/'}\n",
      "{'title': 'Double Indemnity', 'rating': '8.2', 'url': '/title/tt0036775/'}\n",
      "{'title': 'The Apartment', 'rating': '8.2', 'url': '/title/tt0053604/'}\n",
      "{'title': 'Scarface', 'rating': '8.2', 'url': '/title/tt0086250/'}\n",
      "{'title': 'Ikiru', 'rating': '8.2', 'url': '/title/tt0044741/'}\n",
      "{'title': 'The Sting', 'rating': '8.2', 'url': '/title/tt0070735/'}\n",
      "{'title': 'To Kill a Mockingbird', 'rating': '8.2', 'url': '/title/tt0056592/'}\n",
      "{'title': 'Taxi Driver', 'rating': '8.2', 'url': '/title/tt0075314/'}\n",
      "{'title': 'L.A. Confidential', 'rating': '8.2', 'url': '/title/tt0119488/'}\n",
      "{'title': 'Up', 'rating': '8.2', 'url': '/title/tt1049413/'}\n",
      "{'title': 'Heat', 'rating': '8.2', 'url': '/title/tt0113277/'}\n",
      "{'title': 'Hamilton', 'rating': '8.2', 'url': '/title/tt8503618/'}\n",
      "{'title': 'Metropolis', 'rating': '8.2', 'url': '/title/tt0017136/'}\n",
      "{'title': 'A Separation', 'rating': '8.2', 'url': '/title/tt1832382/'}\n",
      "{'title': 'Snatch', 'rating': '8.2', 'url': '/title/tt0208092/'}\n",
      "{'title': 'Die Hard', 'rating': '8.2', 'url': '/title/tt0095016/'}\n",
      "{'title': 'Incendies', 'rating': '8.2', 'url': '/title/tt1255953/'}\n",
      "{'title': 'Indiana Jones and the Last Crusade', 'rating': '8.2', 'url': '/title/tt0097576/'}\n",
      "{'title': 'Bicycle Thieves', 'rating': '8.2', 'url': '/title/tt0040522/'}\n",
      "{'title': '1917', 'rating': '8.2', 'url': '/title/tt8579674/'}\n",
      "{'title': 'Spider-Man: No Way Home', 'rating': '8.2', 'url': '/title/tt10872600/'}\n",
      "{'title': 'Like Stars on Earth', 'rating': '8.2', 'url': '/title/tt0986264/'}\n",
      "{'title': 'Downfall', 'rating': '8.2', 'url': '/title/tt0363163/'}\n",
      "{'title': 'For a Few Dollars More', 'rating': '8.2', 'url': '/title/tt0059578/'}\n",
      "{'title': 'Batman Begins', 'rating': '8.2', 'url': '/title/tt0372784/'}\n",
      "{'title': 'Dangal', 'rating': '8.2', 'url': '/title/tt5074352/'}\n",
      "{'title': 'The Kid', 'rating': '8.2', 'url': '/title/tt0012349/'}\n",
      "{'title': 'Some Like It Hot', 'rating': '8.2', 'url': '/title/tt0053291/'}\n",
      "{'title': 'The Father', 'rating': '8.2', 'url': '/title/tt10272386/'}\n",
      "{'title': 'All About Eve', 'rating': '8.2', 'url': '/title/tt0042192/'}\n",
      "{'title': 'Green Book', 'rating': '8.2', 'url': '/title/tt6966692/'}\n",
      "{'title': 'The Wolf of Wall Street', 'rating': '8.2', 'url': '/title/tt0993846/'}\n",
      "{'title': 'Judgment at Nuremberg', 'rating': '8.2', 'url': '/title/tt0055031/'}\n",
      "{'title': 'Unforgiven', 'rating': '8.2', 'url': '/title/tt0105695/'}\n",
      "{'title': 'Ran', 'rating': '8.2', 'url': '/title/tt0089881/'}\n",
      "{'title': 'Casino', 'rating': '8.2', 'url': '/title/tt0112641/'}\n",
      "{'title': \"Pan's Labyrinth\", 'rating': '8.2', 'url': '/title/tt0457430/'}\n",
      "{'title': 'Everything Everywhere All at Once', 'rating': '8.2', 'url': '/title/tt6710474/'}\n",
      "{'title': 'There Will Be Blood', 'rating': '8.2', 'url': '/title/tt0469494/'}\n",
      "{'title': 'The Sixth Sense', 'rating': '8.2', 'url': '/title/tt0167404/'}\n",
      "{'title': 'A Beautiful Mind', 'rating': '8.2', 'url': '/title/tt0268978/'}\n",
      "{'title': 'Monty Python and the Holy Grail', 'rating': '8.2', 'url': '/title/tt0071853/'}\n",
      "{'title': 'The Truman Show', 'rating': '8.2', 'url': '/title/tt0120382/'}\n",
      "{'title': 'Yojimbo', 'rating': '8.1', 'url': '/title/tt0055630/'}\n",
      "{'title': 'The Treasure of the Sierra Madre', 'rating': '8.1', 'url': '/title/tt0040897/'}\n",
      "{'title': 'Shutter Island', 'rating': '8.1', 'url': '/title/tt1130884/'}\n",
      "{'title': 'Rashomon', 'rating': '8.1', 'url': '/title/tt0042876/'}\n",
      "{'title': 'The Great Escape', 'rating': '8.1', 'url': '/title/tt0057115/'}\n",
      "{'title': 'Jurassic Park', 'rating': '8.1', 'url': '/title/tt0107290/'}\n",
      "{'title': 'Kill Bill: Vol. 1', 'rating': '8.1', 'url': '/title/tt0266697/'}\n",
      "{'title': 'No Country for Old Men', 'rating': '8.1', 'url': '/title/tt0477348/'}\n",
      "{'title': 'Finding Nemo', 'rating': '8.1', 'url': '/title/tt0266543/'}\n",
      "{'title': 'The Elephant Man', 'rating': '8.1', 'url': '/title/tt0080678/'}\n",
      "{'title': 'Raging Bull', 'rating': '8.1', 'url': '/title/tt0081398/'}\n",
      "{'title': 'Chinatown', 'rating': '8.1', 'url': '/title/tt0071315/'}\n",
      "{'title': 'Gone with the Wind', 'rating': '8.1', 'url': '/title/tt0031381/'}\n",
      "{'title': 'V for Vendetta', 'rating': '8.1', 'url': '/title/tt0434409/'}\n",
      "{'title': 'The Thing', 'rating': '8.1', 'url': '/title/tt0084787/'}\n",
      "{'title': 'Inside Out', 'rating': '8.1', 'url': '/title/tt2096673/'}\n",
      "{'title': 'Lock, Stock and Two Smoking Barrels', 'rating': '8.1', 'url': '/title/tt0120735/'}\n",
      "{'title': 'Dial M for Murder', 'rating': '8.1', 'url': '/title/tt0046912/'}\n",
      "{'title': 'The Secret in Their Eyes', 'rating': '8.1', 'url': '/title/tt1305806/'}\n",
      "{'title': 'The Bridge on the River Kwai', 'rating': '8.1', 'url': '/title/tt0050212/'}\n",
      "{'title': \"Howl's Moving Castle\", 'rating': '8.1', 'url': '/title/tt0347149/'}\n",
      "{'title': 'Three Billboards Outside Ebbing, Missouri', 'rating': '8.1', 'url': '/title/tt5027774/'}\n",
      "{'title': 'Trainspotting', 'rating': '8.1', 'url': '/title/tt0117951/'}\n",
      "{'title': 'Gran Torino', 'rating': '8.1', 'url': '/title/tt1205489/'}\n",
      "{'title': 'Warrior', 'rating': '8.1', 'url': '/title/tt1291584/'}\n",
      "{'title': 'Fargo', 'rating': '8.1', 'url': '/title/tt0116282/'}\n",
      "{'title': 'Prisoners', 'rating': '8.1', 'url': '/title/tt1392214/'}\n",
      "{'title': 'My Neighbor Totoro', 'rating': '8.1', 'url': '/title/tt0096283/'}\n",
      "{'title': 'Million Dollar Baby', 'rating': '8.1', 'url': '/title/tt0405159/'}\n",
      "{'title': 'The Gold Rush', 'rating': '8.1', 'url': '/title/tt0015864/'}\n",
      "{'title': 'Blade Runner', 'rating': '8.1', 'url': '/title/tt0083658/'}\n",
      "{'title': 'Catch Me If You Can', 'rating': '8.1', 'url': '/title/tt0264464/'}\n",
      "{'title': 'On the Waterfront', 'rating': '8.1', 'url': '/title/tt0047296/'}\n",
      "{'title': 'The Third Man', 'rating': '8.1', 'url': '/title/tt0041959/'}\n",
      "{'title': 'Children of Heaven', 'rating': '8.1', 'url': '/title/tt0118849/'}\n",
      "{'title': 'Ben-Hur', 'rating': '8.1', 'url': '/title/tt0052618/'}\n",
      "{'title': '12 Years a Slave', 'rating': '8.1', 'url': '/title/tt2024544/'}\n",
      "{'title': 'The General', 'rating': '8.1', 'url': '/title/tt0017925/'}\n",
      "{'title': 'Wild Strawberries', 'rating': '8.1', 'url': '/title/tt0050986/'}\n",
      "{'title': 'Gone Girl', 'rating': '8.1', 'url': '/title/tt2267998/'}\n",
      "{'title': 'Before Sunrise', 'rating': '8.1', 'url': '/title/tt0112471/'}\n",
      "{'title': 'Harry Potter and the Deathly Hallows: Part 2', 'rating': '8.1', 'url': '/title/tt1201607/'}\n",
      "{'title': 'The Deer Hunter', 'rating': '8.1', 'url': '/title/tt0077416/'}\n",
      "{'title': 'In the Name of the Father', 'rating': '8.1', 'url': '/title/tt0107207/'}\n",
      "{'title': 'The Grand Budapest Hotel', 'rating': '8.1', 'url': '/title/tt2278388/'}\n",
      "{'title': 'Mr. Smith Goes to Washington', 'rating': '8.1', 'url': '/title/tt0031679/'}\n",
      "{'title': 'The Wages of Fear', 'rating': '8.1', 'url': '/title/tt0046268/'}\n",
      "{'title': 'Barry Lyndon', 'rating': '8.1', 'url': '/title/tt0072684/'}\n",
      "{'title': 'Sherlock Jr.', 'rating': '8.1', 'url': '/title/tt0015324/'}\n",
      "{'title': 'Memories of Murder', 'rating': '8.1', 'url': '/title/tt0353969/'}\n",
      "{'title': 'Klaus', 'rating': '8.1', 'url': '/title/tt4729430/'}\n",
      "{'title': 'Room', 'rating': '8.1', 'url': '/title/tt3170832/'}\n",
      "{'title': 'Hacksaw Ridge', 'rating': '8.1', 'url': '/title/tt2119532/'}\n",
      "{'title': 'The Seventh Seal', 'rating': '8.1', 'url': '/title/tt0050976/'}\n",
      "{'title': 'Wild Tales', 'rating': '8.1', 'url': '/title/tt3011894/'}\n",
      "{'title': 'The Big Lebowski', 'rating': '8.1', 'url': '/title/tt0118715/'}\n",
      "{'title': 'Mad Max: Fury Road', 'rating': '8.1', 'url': '/title/tt1392190/'}\n",
      "{'title': 'How to Train Your Dragon', 'rating': '8.1', 'url': '/title/tt0892769/'}\n",
      "{'title': 'Mary and Max', 'rating': '8.1', 'url': '/title/tt0978762/'}\n",
      "{'title': 'Monsters, Inc.', 'rating': '8.1', 'url': '/title/tt0198781/'}\n",
      "{'title': 'Jaws', 'rating': '8.1', 'url': '/title/tt0073195/'}\n",
      "{'title': 'The Passion of Joan of Arc', 'rating': '8.1', 'url': '/title/tt0019254/'}\n",
      "{'title': 'Hotel Rwanda', 'rating': '8.1', 'url': '/title/tt0395169/'}\n",
      "{'title': 'Dead Poets Society', 'rating': '8.1', 'url': '/title/tt0097165/'}\n",
      "{'title': 'Tokyo Story', 'rating': '8.1', 'url': '/title/tt0046438/'}\n",
      "{'title': 'Pather Panchali', 'rating': '8.1', 'url': '/title/tt0048473/'}\n",
      "{'title': 'Rocky', 'rating': '8.0', 'url': '/title/tt0075148/'}\n",
      "{'title': 'Platoon', 'rating': '8.0', 'url': '/title/tt0091763/'}\n",
      "{'title': 'Ford v Ferrari', 'rating': '8.0', 'url': '/title/tt1950186/'}\n",
      "{'title': 'Stand by Me', 'rating': '8.0', 'url': '/title/tt0092005/'}\n",
      "{'title': 'The Terminator', 'rating': '8.0', 'url': '/title/tt0088247/'}\n",
      "{'title': 'Spotlight', 'rating': '8.0', 'url': '/title/tt1895587/'}\n",
      "{'title': 'Rush', 'rating': '8.0', 'url': '/title/tt1979320/'}\n",
      "{'title': 'Into the Wild', 'rating': '8.0', 'url': '/title/tt0758758/'}\n",
      "{'title': 'Network', 'rating': '8.0', 'url': '/title/tt0074958/'}\n",
      "{'title': 'Logan', 'rating': '8.0', 'url': '/title/tt3315342/'}\n",
      "{'title': 'The Wizard of Oz', 'rating': '8.0', 'url': '/title/tt0032138/'}\n",
      "{'title': 'Ratatouille', 'rating': '8.0', 'url': '/title/tt0382932/'}\n",
      "{'title': 'Groundhog Day', 'rating': '8.0', 'url': '/title/tt0107048/'}\n",
      "{'title': 'Before Sunset', 'rating': '8.0', 'url': '/title/tt0381681/'}\n",
      "{'title': 'The Exorcist', 'rating': '8.0', 'url': '/title/tt0070047/'}\n",
      "{'title': 'The Best Years of Our Lives', 'rating': '8.0', 'url': '/title/tt0036868/'}\n",
      "{'title': 'The Incredibles', 'rating': '8.0', 'url': '/title/tt0317705/'}\n",
      "{'title': 'To Be or Not to Be', 'rating': '8.0', 'url': '/title/tt0035446/'}\n",
      "{'title': 'Rebecca', 'rating': '8.0', 'url': '/title/tt0032976/'}\n",
      "{'title': 'The Battle of Algiers', 'rating': '8.0', 'url': '/title/tt0058946/'}\n",
      "{'title': 'The Grapes of Wrath', 'rating': '8.0', 'url': '/title/tt0032551/'}\n",
      "{'title': \"Hachi: A Dog's Tale\", 'rating': '8.0', 'url': '/title/tt1028532/'}\n",
      "{'title': 'Cool Hand Luke', 'rating': '8.0', 'url': '/title/tt0061512/'}\n",
      "{'title': 'Amores perros', 'rating': '8.0', 'url': '/title/tt0245712/'}\n",
      "{'title': 'Pirates of the Caribbean: The Curse of the Black Pearl', 'rating': '8.0', 'url': '/title/tt0325980/'}\n",
      "{'title': 'La Haine', 'rating': '8.0', 'url': '/title/tt0113247/'}\n",
      "{'title': 'The 400 Blows', 'rating': '8.0', 'url': '/title/tt0053198/'}\n",
      "{'title': 'Persona', 'rating': '8.0', 'url': '/title/tt0060827/'}\n",
      "{'title': 'My Father and My Son', 'rating': '8.0', 'url': '/title/tt0476735/'}\n",
      "{'title': 'Life of Brian', 'rating': '8.0', 'url': '/title/tt0079470/'}\n",
      "{'title': 'Dersu Uzala', 'rating': '8.0', 'url': '/title/tt0071411/'}\n",
      "{'title': 'It Happened One Night', 'rating': '8.0', 'url': '/title/tt0025316/'}\n",
      "{'title': 'The Sound of Music', 'rating': '8.0', 'url': '/title/tt0059742/'}\n",
      "{'title': 'The Handmaiden', 'rating': '8.0', 'url': '/title/tt4016934/'}\n",
      "{'title': 'Aladdin', 'rating': '8.0', 'url': '/title/tt0103639/'}\n",
      "{'title': 'Gandhi', 'rating': '8.0', 'url': '/title/tt0083987/'}\n",
      "{'title': 'Jai Bhim', 'rating': '8.0', 'url': '/title/tt15097216/'}\n",
      "{'title': 'The Help', 'rating': '8.0', 'url': '/title/tt1454029/'}\n",
      "{'title': 'Beauty and the Beast', 'rating': '8.0', 'url': '/title/tt0101414/'}\n"
     ]
    }
   ],
   "source": [
    "movies = []\n",
    "\n",
    "for i in range(len(titles)):\n",
    "    movie = {'title': titles[i], 'rating':ratings[i], 'url':links[i]}\n",
    "    movies.append(movie)\n",
    "\n",
    "for i in movies:\n",
    "    print(i)"
   ]
  }
 ],
 "metadata": {
  "kernelspec": {
   "display_name": "Python 3",
   "language": "python",
   "name": "python3"
  },
  "language_info": {
   "codemirror_mode": {
    "name": "ipython",
    "version": 3
   },
   "file_extension": ".py",
   "mimetype": "text/x-python",
   "name": "python",
   "nbconvert_exporter": "python",
   "pygments_lexer": "ipython3",
   "version": "3.9.5"
  }
 },
 "nbformat": 4,
 "nbformat_minor": 5
}
