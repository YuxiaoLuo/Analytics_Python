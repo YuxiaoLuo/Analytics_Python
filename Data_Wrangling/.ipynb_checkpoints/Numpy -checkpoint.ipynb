{
 "cells": [
  {
   "cell_type": "markdown",
   "id": "d379e4aa",
   "metadata": {},
   "source": [
    "# Numpy\n",
    "\n",
    "\n",
    "NumPy (short for Numerical Python) provides an efficient interface to store and operate on dense data buffers. \n",
    "- In some ways, NumPy arrays are like Python’s built-in list type, but NumPy arrays provide much more efficient storage and data operations as the arrays grow larger in size.\n",
    "- NumPy arrays form the core of nearly the entire ecosystem of data science tools in Python\n",
    "\n",
    "First, install `numpy` and load it. I checked my version of `numpy` and upgraded it since it's outdated."
   ]
  },
  {
   "cell_type": "code",
   "execution_count": 63,
   "id": "8f2deabe",
   "metadata": {},
   "outputs": [
    {
     "data": {
      "text/plain": [
       "'1.21.0'"
      ]
     },
     "execution_count": 63,
     "metadata": {},
     "output_type": "execute_result"
    }
   ],
   "source": [
    "import numpy as np\n",
    "np.__version__"
   ]
  },
  {
   "cell_type": "code",
   "execution_count": 53,
   "id": "99eac190",
   "metadata": {},
   "outputs": [
    {
     "name": "stdout",
     "output_type": "stream",
     "text": [
      "Microsoft Windows [Version 10.0.19044.1766]\r\n",
      "(c) Microsoft Corporation. All rights reserved.\r\n",
      "\r\n",
      "C:\\Users\\Yuxiao Luo\\Documents\\python3\\Analytics_Python\\Data_Wrangling>pip list --outdated\n",
      "Package             Version   Latest      Type\r\n",
      "------------------- --------- ----------- -----\r\n",
      "argon2-cffi         20.1.0    21.3.0      wheel\r\n",
      "attrs               21.2.0    21.4.0      wheel\r\n",
      "beautifulsoup4      4.10.0    4.11.1      wheel\r\n",
      "bleach              3.3.0     5.0.0       wheel\r\n",
      "certifi             2021.5.30 2022.6.15   wheel\r\n",
      "cffi                1.14.6    1.15.0      wheel\r\n",
      "charset-normalizer  2.0.12    2.1.0       wheel\r\n",
      "click               8.0.1     8.1.3       wheel\r\n",
      "colorama            0.4.4     0.4.5       wheel\r\n",
      "cycler              0.10.0    0.11.0      wheel\r\n",
      "decorator           5.0.9     5.1.1       wheel\r\n",
      "entrypoints         0.3       0.4         wheel\r\n",
      "idna                2.10      3.3         wheel\r\n",
      "ipykernel           5.5.5     6.15.0      wheel\r\n",
      "ipython             7.24.1    8.4.0       wheel\r\n",
      "jedi                0.18.0    0.18.1      wheel\r\n",
      "Jinja2              3.0.1     3.1.2       wheel\r\n",
      "joblib              1.0.1     1.1.0       wheel\r\n",
      "jsonschema          3.2.0     4.6.0       wheel\r\n",
      "jupyter-client      6.1.12    7.3.4       wheel\r\n",
      "jupyter-core        4.7.1     4.10.0      wheel\r\n",
      "jupyterlab-pygments 0.1.2     0.2.2       wheel\r\n",
      "kiwisolver          1.3.1     1.4.3       wheel\r\n",
      "MarkupSafe          2.0.1     2.1.1       wheel\r\n",
      "matplotlib          3.4.2     3.5.2       wheel\r\n",
      "matplotlib-inline   0.1.2     0.1.3       wheel\r\n",
      "mistune             0.8.4     2.0.2       wheel\r\n",
      "nbclient            0.5.3     0.6.4       wheel\r\n",
      "nbconvert           6.1.0     6.5.0       wheel\r\n",
      "nbformat            5.1.3     5.4.0       wheel\r\n",
      "nest-asyncio        1.5.1     1.5.5       wheel\r\n",
      "nltk                3.6.2     3.7         wheel\r\n",
      "notebook            6.4.0     6.4.12      wheel\r\n",
      "numpy               1.21.0    1.22.4      wheel\r\n",
      "packaging           21.0      21.3        wheel\r\n",
      "pandas              1.3.3     1.4.2       wheel\r\n",
      "pandocfilters       1.4.3     1.5.0       wheel\r\n",
      "parso               0.8.2     0.8.3       wheel\r\n",
      "path                16.0.0    16.4.0      wheel\r\n",
      "Pillow              8.3.1     9.1.1       wheel\r\n",
      "prometheus-client   0.11.0    0.14.1      wheel\r\n",
      "prompt-toolkit      3.0.19    3.0.29      wheel\r\n",
      "pycparser           2.20      2.21        wheel\r\n",
      "Pygments            2.9.0     2.12.0      wheel\r\n",
      "pyparsing           2.4.7     3.0.9       wheel\r\n",
      "pyrsistent          0.18.0    0.18.1      wheel\r\n",
      "python-dateutil     2.8.1     2.8.2       wheel\r\n",
      "pytz                2021.3    2022.1      wheel\r\n",
      "pywin32             301       304         wheel\r\n",
      "pywinpty            1.1.3     2.0.5       wheel\r\n",
      "pyzmq               22.1.0    23.2.0      wheel\r\n",
      "regex               2021.7.6  2022.6.2    wheel\r\n",
      "requests            2.27.1    2.28.0      wheel\r\n",
      "scipy               1.7.2     1.8.1       wheel\r\n",
      "Send2Trash          1.7.1     1.8.0       wheel\r\n",
      "setuptools          57.0.0    62.6.0      wheel\r\n",
      "soupsieve           2.2.1     2.3.2.post1 wheel\r\n",
      "spotipy             2.19.0    2.20.0      wheel\r\n",
      "terminado           0.10.1    0.15.0      wheel\r\n",
      "testpath            0.5.0     0.6.0       wheel\r\n",
      "tqdm                4.61.2    4.64.0      wheel\r\n",
      "traitlets           5.1.1     5.3.0       wheel\r\n",
      "urllib3             1.26.6    1.26.9      wheel\r\n",
      "\r\n",
      "C:\\Users\\Yuxiao Luo\\Documents\\python3\\Analytics_Python\\Data_Wrangling>"
     ]
    }
   ],
   "source": [
    "%%cmd\n",
    "pip list --outdated"
   ]
  },
  {
   "cell_type": "code",
   "execution_count": 3,
   "id": "640cc50c",
   "metadata": {},
   "outputs": [],
   "source": [
    "from IPython.core.interactiveshell import InteractiveShell\n",
    "InteractiveShell.ast_node_interactivity = \"all\""
   ]
  },
  {
   "cell_type": "markdown",
   "id": "9d55de64",
   "metadata": {},
   "source": [
    "### Built-In Documentation\n",
    "- Display all the contents of the numpy namespace: `np.<TAB>`\n",
    "\n",
    "- Display NumPy's built-in documentation: `np?`\n",
    "\n",
    "- More detailed documentatio, tutorials and other resources, go to http://www.numpy.org."
   ]
  },
  {
   "cell_type": "markdown",
   "id": "9bc943de",
   "metadata": {},
   "source": [
    "### Data Types in Python\n",
    "\n",
    "- The standard Python implementation is written in C. This means that every Python object is simply a cleverly disguised C structure, which contains not only its value, but other information as well.\n",
    "\n",
    "- This extra information in the Python integer structure is what allows Python to be coded so freely and dynamically. All this additional information in Python types comes at a cost, however, which becomes especially apparent in structures that combine many of these objects.\n",
    "\n",
    "- There is some overhead in storing an integer in Python as compared to an integer in a compiled language like C. \n",
    "\n",
    "<br><br>\n",
    "<center><img src=\"images/Numpy_1.JPG\" width = \"500\"></center>\n",
    "<center>Difference between C and Python integers (Ref. Python Data Science Handbook)</center>"
   ]
  },
  {
   "cell_type": "markdown",
   "id": "bc7717f9",
   "metadata": {},
   "source": [
    "#### Dynamic-type list & fixed-type array (NumPy-style)\n",
    "- The array contains a single pointer to one contiguous block of data. \n",
    "\n",
    "- The Python list, contains a pointer to a block of pointers, each of which in turn points to full Python object like the Python integer. \n",
    "\n",
    "- The advantage of the list is flexibility: because each list element is a full structure containing both data and type information, the list can be filled with data of any desired type\n",
    "\n",
    "- Fixed-type NumPy-style arrays lack this flexibility, but are much more efficient for storing and manipulating data."
   ]
  },
  {
   "cell_type": "code",
   "execution_count": 68,
   "id": "14ad9fe5",
   "metadata": {},
   "outputs": [
    {
     "data": {
      "text/plain": [
       "[0, 1, 2, 3, 4, 5, 6, 7, 8, 9]"
      ]
     },
     "execution_count": 68,
     "metadata": {},
     "output_type": "execute_result"
    }
   ],
   "source": [
    "# we can use list to hold multiple items in Python\n",
    "L = list(range(10))\n",
    "L"
   ]
  },
  {
   "cell_type": "code",
   "execution_count": 69,
   "id": "a9c08c68",
   "metadata": {},
   "outputs": [
    {
     "data": {
      "text/plain": [
       "['0', '1', '2', '3', '4', '5', '6', '7', '8', '9']"
      ]
     },
     "execution_count": 69,
     "metadata": {},
     "output_type": "execute_result"
    }
   ],
   "source": [
    "L2 = [str(c) for c in L]\n",
    "L2"
   ]
  },
  {
   "cell_type": "code",
   "execution_count": 72,
   "id": "15a1dd7b",
   "metadata": {},
   "outputs": [
    {
     "data": {
      "text/plain": [
       "[bool, str, float, int]"
      ]
     },
     "execution_count": 72,
     "metadata": {},
     "output_type": "execute_result"
    }
   ],
   "source": [
    "L3 = [True, \"2\", 3.0, 4]\n",
    "[type(element) for element in L3]"
   ]
  },
  {
   "cell_type": "markdown",
   "id": "b53c3341",
   "metadata": {},
   "source": [
    "## NumPy Arrays\n",
    "### Overview\n",
    "- Support vectorized operations, while lists don't\n",
    "- In the context of high-level languages like Python, Matlab, and R, the term vectorization describes the use of optimized, pre-compiled code written in a low-level language (e.g. C) to perform mathematical operations over a sequence of data\n",
    "- cannot be changed in size -- have to create a new array or overwrite existing one\n",
    "- each has one and only one dtype - all items in each array are of that same dtype\n",
    "- an equivalent numpy array occupies much less space than a python list\n",
    "- http://www.numpy.org"
   ]
  },
  {
   "cell_type": "markdown",
   "id": "827391e0",
   "metadata": {},
   "source": [
    "### Creating array from Python lists"
   ]
  },
  {
   "cell_type": "code",
   "execution_count": 75,
   "id": "bfa81ec6",
   "metadata": {},
   "outputs": [
    {
     "data": {
      "text/plain": [
       "array([1, 4, 2, 5, 3])"
      ]
     },
     "execution_count": 75,
     "metadata": {},
     "output_type": "execute_result"
    },
    {
     "data": {
      "text/plain": [
       "array([3.14, 4.  , 2.  , 3.  ])"
      ]
     },
     "execution_count": 75,
     "metadata": {},
     "output_type": "execute_result"
    }
   ],
   "source": [
    "# create arrays from Python lists\n",
    "np.array([1, 4, 2, 5, 3])\n",
    "\n",
    "# NumPy is constrained to arrays containing the same type \n",
    "# integers are upcast to floating point \n",
    "np.array([3.14, 4, 2, 3])"
   ]
  },
  {
   "cell_type": "code",
   "execution_count": 76,
   "id": "84f5ef94",
   "metadata": {},
   "outputs": [
    {
     "data": {
      "text/plain": [
       "array([1., 2., 3., 4.], dtype=float32)"
      ]
     },
     "execution_count": 76,
     "metadata": {},
     "output_type": "execute_result"
    }
   ],
   "source": [
    "# set the data type: use dtype keyword\n",
    "# https://numpy.org/doc/stable/reference/arrays.dtypes.html \n",
    "np.array([1, 2, 3, 4], dtype = \"float32\")"
   ]
  },
  {
   "cell_type": "code",
   "execution_count": 79,
   "id": "efc6d826",
   "metadata": {},
   "outputs": [
    {
     "data": {
      "text/plain": [
       "array([[2, 3, 4, 5],\n",
       "       [4, 5, 6, 7],\n",
       "       [6, 7, 8, 9]])"
      ]
     },
     "execution_count": 79,
     "metadata": {},
     "output_type": "execute_result"
    }
   ],
   "source": [
    "# nested lists result in multidimensional arrays\n",
    "np.array([range(i, i+4) for i in [2, 4, 6]])"
   ]
  },
  {
   "cell_type": "markdown",
   "id": "3ecfd103",
   "metadata": {},
   "source": [
    "### Creating array from scratch\n",
    "Numpy offers built-in routines to create arrays."
   ]
  },
  {
   "cell_type": "code",
   "execution_count": 82,
   "id": "1895c15d",
   "metadata": {},
   "outputs": [
    {
     "data": {
      "text/plain": [
       "array([0, 0, 0, 0, 0, 0, 0, 0, 0, 0])"
      ]
     },
     "execution_count": 82,
     "metadata": {},
     "output_type": "execute_result"
    },
    {
     "data": {
      "text/plain": [
       "array([[1., 1., 1., 1., 1.],\n",
       "       [1., 1., 1., 1., 1.],\n",
       "       [1., 1., 1., 1., 1.]])"
      ]
     },
     "execution_count": 82,
     "metadata": {},
     "output_type": "execute_result"
    },
    {
     "data": {
      "text/plain": [
       "array([[3.14, 3.14, 3.14, 3.14, 3.14],\n",
       "       [3.14, 3.14, 3.14, 3.14, 3.14],\n",
       "       [3.14, 3.14, 3.14, 3.14, 3.14]])"
      ]
     },
     "execution_count": 82,
     "metadata": {},
     "output_type": "execute_result"
    }
   ],
   "source": [
    "# length-10 integer array filled with zeros\n",
    "np.zeros(10, dtype = int)\n",
    "\n",
    "# 3x5 floating-point array filled with 1s\n",
    "np.ones((3,5), dtype = float)\n",
    "\n",
    "# 3x5 array filled with 3.14 \n",
    "np.full((3,5), 3.14)"
   ]
  },
  {
   "cell_type": "code",
   "execution_count": 83,
   "id": "259ef90f",
   "metadata": {},
   "outputs": [
    {
     "data": {
      "text/plain": [
       "array([ 0,  2,  4,  6,  8, 10, 12, 14, 16, 18])"
      ]
     },
     "execution_count": 83,
     "metadata": {},
     "output_type": "execute_result"
    }
   ],
   "source": [
    "# array filled with linear sequence \n",
    "# starting at 0, ending at 20, stepping by 2\n",
    "np.arange(0, 20, 2)"
   ]
  },
  {
   "cell_type": "code",
   "execution_count": 84,
   "id": "b4ffc517",
   "metadata": {},
   "outputs": [
    {
     "data": {
      "text/plain": [
       "array([0.  , 0.25, 0.5 , 0.75, 1.  ])"
      ]
     },
     "execution_count": 84,
     "metadata": {},
     "output_type": "execute_result"
    }
   ],
   "source": [
    "# array of five values evenly spaced between 0 and 1\n",
    "np.linspace(0, 1, 5)"
   ]
  },
  {
   "cell_type": "code",
   "execution_count": 85,
   "id": "99878cdd",
   "metadata": {},
   "outputs": [
    {
     "data": {
      "text/plain": [
       "array([[0.33739616, 0.64817187, 0.36824154],\n",
       "       [0.95715516, 0.14035078, 0.87008726],\n",
       "       [0.47360805, 0.80091075, 0.52047748]])"
      ]
     },
     "execution_count": 85,
     "metadata": {},
     "output_type": "execute_result"
    }
   ],
   "source": [
    "# 3x3 array of uniformly distributed \n",
    "# random values between 0 and 1\n",
    "np.random.random((3,3))"
   ]
  },
  {
   "cell_type": "code",
   "execution_count": 86,
   "id": "9a63eb53",
   "metadata": {},
   "outputs": [
    {
     "data": {
      "text/plain": [
       "array([[ 1.16827314,  0.94718595,  1.08548703],\n",
       "       [ 2.38222445, -0.40602374,  0.26644534],\n",
       "       [-1.35571372, -0.11410253, -0.84423086]])"
      ]
     },
     "execution_count": 86,
     "metadata": {},
     "output_type": "execute_result"
    }
   ],
   "source": [
    "# 3x3 array of normally distributed random values \n",
    "# with mean 0 and standard deviation 1\n",
    "np.random.normal(0, 1, (3,3))"
   ]
  },
  {
   "cell_type": "code",
   "execution_count": 88,
   "id": "30d4f8cb",
   "metadata": {
    "scrolled": true
   },
   "outputs": [
    {
     "data": {
      "text/plain": [
       "array([[7, 9, 9],\n",
       "       [3, 6, 7],\n",
       "       [2, 0, 3]])"
      ]
     },
     "execution_count": 88,
     "metadata": {},
     "output_type": "execute_result"
    }
   ],
   "source": [
    "# 3x3 array of random integers in the interval [0, 10)\n",
    "np.random.randint(0, 10, (3,3))"
   ]
  },
  {
   "cell_type": "code",
   "execution_count": 93,
   "id": "a7fbe71c",
   "metadata": {
    "scrolled": true
   },
   "outputs": [
    {
     "data": {
      "text/plain": [
       "array([[1., 0., 0., 0.],\n",
       "       [0., 1., 0., 0.],\n",
       "       [0., 0., 1., 0.],\n",
       "       [0., 0., 0., 1.]])"
      ]
     },
     "execution_count": 93,
     "metadata": {},
     "output_type": "execute_result"
    }
   ],
   "source": [
    "# 3x3 identity matrix\n",
    "np.eye(4)"
   ]
  },
  {
   "cell_type": "code",
   "execution_count": 90,
   "id": "4a7e901d",
   "metadata": {},
   "outputs": [
    {
     "data": {
      "text/plain": [
       "array([1., 1., 1.])"
      ]
     },
     "execution_count": 90,
     "metadata": {},
     "output_type": "execute_result"
    }
   ],
   "source": [
    "# uninitialized array of 3 integers \n",
    "# values will be whatever happens to already exist at that memory location\n",
    "np.empty(3)"
   ]
  },
  {
   "cell_type": "markdown",
   "id": "b7764ff4",
   "metadata": {},
   "source": [
    "#### NumPy Standard Data Types\n",
    "\n",
    "The standard NumPy data types are listed below. \n",
    "- When constructing an array, you can specify them using a string:\n",
    "`np.zeros(10, dtype = 'int16)`\n",
    "- Or using the associated NumPy object: \n",
    "`np.zeros(10, dtype = np.int16)`\n",
    "\n",
    "\n",
    "<br><br>\n",
    "<center><img src=\"images/numpy_2.JPG\" width = \"500\"></center>\n",
    "<center>Figure.2 Standard NumPy data types </center>"
   ]
  },
  {
   "cell_type": "markdown",
   "id": "14456342",
   "metadata": {},
   "source": [
    "### Basics of Numpy arrays\n",
    "- Attributes of arrays: determining the size, shape, memory consumption, and data types of arrays\n",
    "- Indexing of arrays: getting and setting the value of individual array elements\n",
    "- Slicing of arrays: getting and setting smaller subarrays within a larger array\n",
    "- Reshaping of arrays: changing the shape of a given array\n",
    "- Joining and splitting of arrays: combining multiple arrays into one, and splitting one array into many"
   ]
  },
  {
   "cell_type": "markdown",
   "id": "d4df0247",
   "metadata": {},
   "source": [
    "#### NumPy array attributes\n",
    "- define arrays in different dimensions\n",
    "- use NumPy's random number generator and `seed()` to ensure each time the random arrays are the same"
   ]
  },
  {
   "cell_type": "code",
   "execution_count": 136,
   "id": "630f8d3f",
   "metadata": {},
   "outputs": [
    {
     "data": {
      "text/plain": [
       "array([0, 1, 1, 0, 7, 8])"
      ]
     },
     "execution_count": 136,
     "metadata": {},
     "output_type": "execute_result"
    },
    {
     "data": {
      "text/plain": [
       "array([[2, 8, 0, 5],\n",
       "       [9, 1, 3, 8],\n",
       "       [0, 3, 6, 8]])"
      ]
     },
     "execution_count": 136,
     "metadata": {},
     "output_type": "execute_result"
    },
    {
     "data": {
      "text/plain": [
       "array([[[0, 1, 2, 0, 5],\n",
       "        [7, 5, 1, 7, 5],\n",
       "        [5, 4, 8, 2, 3],\n",
       "        [1, 0, 4, 5, 0]],\n",
       "\n",
       "       [[7, 5, 5, 8, 2],\n",
       "        [4, 0, 9, 4, 9],\n",
       "        [8, 8, 0, 3, 9],\n",
       "        [5, 2, 1, 7, 2]],\n",
       "\n",
       "       [[1, 7, 9, 6, 6],\n",
       "        [7, 2, 9, 1, 9],\n",
       "        [4, 0, 4, 4, 7],\n",
       "        [8, 7, 1, 2, 9]]])"
      ]
     },
     "execution_count": 136,
     "metadata": {},
     "output_type": "execute_result"
    }
   ],
   "source": [
    "import numpy as np \n",
    "np.random.seed(2022) # seed for reproducibility\n",
    "\n",
    "x1 = np.random.randint(10, size = 6)\n",
    "x2 = np.random.randint(10, size = (3,4)) \n",
    "x3 = np.random.randint(10, size = (3, 4, 5))\n",
    "\n",
    "x1; x2; x3"
   ]
  },
  {
   "cell_type": "code",
   "execution_count": 137,
   "id": "1725d5d0",
   "metadata": {},
   "outputs": [
    {
     "data": {
      "text/plain": [
       "3"
      ]
     },
     "execution_count": 137,
     "metadata": {},
     "output_type": "execute_result"
    },
    {
     "data": {
      "text/plain": [
       "(3, 4)"
      ]
     },
     "execution_count": 137,
     "metadata": {},
     "output_type": "execute_result"
    },
    {
     "data": {
      "text/plain": [
       "60"
      ]
     },
     "execution_count": 137,
     "metadata": {},
     "output_type": "execute_result"
    },
    {
     "data": {
      "text/plain": [
       "dtype('int32')"
      ]
     },
     "execution_count": 137,
     "metadata": {},
     "output_type": "execute_result"
    },
    {
     "data": {
      "text/plain": [
       "4"
      ]
     },
     "execution_count": 137,
     "metadata": {},
     "output_type": "execute_result"
    },
    {
     "data": {
      "text/plain": [
       "240"
      ]
     },
     "execution_count": 137,
     "metadata": {},
     "output_type": "execute_result"
    }
   ],
   "source": [
    "# number of dimensions\n",
    "x3.ndim\n",
    "# size of each dimension\n",
    "x2.shape\n",
    "# total size of the array\n",
    "x3.size\n",
    "# data type of the array\n",
    "x3.dtype\n",
    "# itemsize: size (in bytes) of each array element\n",
    "x3.itemsize\n",
    "# nbytes: total size (in bytes) of the array\n",
    "x3.nbytes"
   ]
  },
  {
   "cell_type": "markdown",
   "id": "d0aaf75d",
   "metadata": {},
   "source": [
    "#### Array indexing: accessing single elements\n",
    "- In one-dimensional array, access the ith value using square brackets, like lists.\n",
    "- In multidimensional array, access items using a comma-separated tuple of indices.\n",
    "- NumPy arrays have fixed type. If you insert a floating-point vlaue to an integer array, the value will be sliently truncated."
   ]
  },
  {
   "cell_type": "code",
   "execution_count": 142,
   "id": "47aa0fab",
   "metadata": {
    "scrolled": true
   },
   "outputs": [
    {
     "data": {
      "text/plain": [
       "array([0, 1, 1, 0, 7, 8])"
      ]
     },
     "execution_count": 142,
     "metadata": {},
     "output_type": "execute_result"
    },
    {
     "data": {
      "text/plain": [
       "7"
      ]
     },
     "execution_count": 142,
     "metadata": {},
     "output_type": "execute_result"
    },
    {
     "data": {
      "text/plain": [
       "7"
      ]
     },
     "execution_count": 142,
     "metadata": {},
     "output_type": "execute_result"
    }
   ],
   "source": [
    "x1\n",
    "x1[4]\n",
    "x1[-2]"
   ]
  },
  {
   "cell_type": "code",
   "execution_count": 145,
   "id": "cd2fa7d8",
   "metadata": {},
   "outputs": [
    {
     "data": {
      "text/plain": [
       "array([[2, 8, 0, 5],\n",
       "       [9, 1, 3, 8],\n",
       "       [0, 3, 6, 8]])"
      ]
     },
     "execution_count": 145,
     "metadata": {},
     "output_type": "execute_result"
    },
    {
     "data": {
      "text/plain": [
       "2"
      ]
     },
     "execution_count": 145,
     "metadata": {},
     "output_type": "execute_result"
    },
    {
     "data": {
      "text/plain": [
       "0"
      ]
     },
     "execution_count": 145,
     "metadata": {},
     "output_type": "execute_result"
    }
   ],
   "source": [
    "x2\n",
    "\n",
    "# 1st row, 1st col\n",
    "x2[0,0]\n",
    "\n",
    "# 1st row, 3rd col\n",
    "x2[0,2]"
   ]
  },
  {
   "cell_type": "code",
   "execution_count": 146,
   "id": "c3f86b08",
   "metadata": {
    "scrolled": true
   },
   "outputs": [
    {
     "data": {
      "text/plain": [
       "array([[12,  8,  0,  5],\n",
       "       [ 9,  1,  3,  8],\n",
       "       [ 0,  3,  6,  8]])"
      ]
     },
     "execution_count": 146,
     "metadata": {},
     "output_type": "execute_result"
    }
   ],
   "source": [
    "# you can also modify values \n",
    "x2[0, 0] = 12\n",
    "x2"
   ]
  },
  {
   "cell_type": "code",
   "execution_count": 148,
   "id": "37884016",
   "metadata": {},
   "outputs": [
    {
     "data": {
      "text/plain": [
       "array([0, 1, 1, 0, 7, 8])"
      ]
     },
     "execution_count": 148,
     "metadata": {},
     "output_type": "execute_result"
    },
    {
     "data": {
      "text/plain": [
       "array([3, 1, 1, 0, 7, 8])"
      ]
     },
     "execution_count": 148,
     "metadata": {},
     "output_type": "execute_result"
    }
   ],
   "source": [
    "x1\n",
    "x1[0] = 3.1415926\n",
    "# floating will be truncated\n",
    "x1"
   ]
  },
  {
   "cell_type": "markdown",
   "id": "247b085a",
   "metadata": {},
   "source": [
    "#### Array Slicing: accessing subarrays\n",
    "\n",
    "The NumPy slicing syntax is `x[start:stop:step]`. If any of these are unspecified, they default to the values `start=0, stop=size of dimension, step=1`."
   ]
  },
  {
   "cell_type": "code",
   "execution_count": 150,
   "id": "d6c1ef74",
   "metadata": {
    "scrolled": true
   },
   "outputs": [
    {
     "name": "stdout",
     "output_type": "stream",
     "text": [
      "[0 1 2 3 4 5 6 7 8 9]\n"
     ]
    },
    {
     "data": {
      "text/plain": [
       "array([0, 1, 2, 3, 4])"
      ]
     },
     "execution_count": 150,
     "metadata": {},
     "output_type": "execute_result"
    },
    {
     "data": {
      "text/plain": [
       "array([0, 1, 2, 3, 4])"
      ]
     },
     "execution_count": 150,
     "metadata": {},
     "output_type": "execute_result"
    },
    {
     "data": {
      "text/plain": [
       "array([3, 4, 5, 6])"
      ]
     },
     "execution_count": 150,
     "metadata": {},
     "output_type": "execute_result"
    },
    {
     "data": {
      "text/plain": [
       "array([0, 2, 4, 6, 8])"
      ]
     },
     "execution_count": 150,
     "metadata": {},
     "output_type": "execute_result"
    },
    {
     "data": {
      "text/plain": [
       "array([1, 3, 5, 7, 9])"
      ]
     },
     "execution_count": 150,
     "metadata": {},
     "output_type": "execute_result"
    }
   ],
   "source": [
    "#syntax\n",
    "#x[start:stop:step]\n",
    "\n",
    "#one dimension array\n",
    "x = np.arange(10)\n",
    "print(x)\n",
    "\n",
    "#find first five elements from array x\n",
    "x[0:5]\n",
    "x[:5]\n",
    "\n",
    "#find a middle subarray \n",
    "x[3:7]\n",
    "\n",
    "#find even numbers from x\n",
    "x[0::2]\n",
    "\n",
    "#find odd numbers from x\n",
    "x[1::2]"
   ]
  },
  {
   "cell_type": "code",
   "execution_count": 39,
   "id": "b78786d7",
   "metadata": {
    "scrolled": true
   },
   "outputs": [
    {
     "data": {
      "text/plain": [
       "array([[3, 3],\n",
       "       [4, 6]])"
      ]
     },
     "execution_count": 39,
     "metadata": {},
     "output_type": "execute_result"
    }
   ],
   "source": [
    "x[1::2,:2]"
   ]
  },
  {
   "cell_type": "code",
   "execution_count": 14,
   "id": "9ce9ca92",
   "metadata": {
    "scrolled": true
   },
   "outputs": [
    {
     "name": "stdout",
     "output_type": "stream",
     "text": [
      "[[12 15  0]\n",
      " [ 3  3  7]\n",
      " [ 9 19 18]\n",
      " [ 4  6 12]]\n"
     ]
    },
    {
     "data": {
      "text/plain": [
       "array([[12, 15,  0],\n",
       "       [ 3,  3,  7]])"
      ]
     },
     "execution_count": 14,
     "metadata": {},
     "output_type": "execute_result"
    },
    {
     "data": {
      "text/plain": [
       "array([[12, 15,  0],\n",
       "       [ 3,  3,  7]])"
      ]
     },
     "execution_count": 14,
     "metadata": {},
     "output_type": "execute_result"
    },
    {
     "data": {
      "text/plain": [
       "array([[3, 3, 7]])"
      ]
     },
     "execution_count": 14,
     "metadata": {},
     "output_type": "execute_result"
    },
    {
     "data": {
      "text/plain": [
       "array([3, 3, 7])"
      ]
     },
     "execution_count": 14,
     "metadata": {},
     "output_type": "execute_result"
    },
    {
     "data": {
      "text/plain": [
       "array([12,  3,  9,  4])"
      ]
     },
     "execution_count": 14,
     "metadata": {},
     "output_type": "execute_result"
    },
    {
     "data": {
      "text/plain": [
       "array([[3, 3],\n",
       "       [4, 6]])"
      ]
     },
     "execution_count": 14,
     "metadata": {},
     "output_type": "execute_result"
    }
   ],
   "source": [
    "#Multidimensional subarrays\n",
    "\n",
    "# reproduction\n",
    "np.random.seed(0)\n",
    "\n",
    "x = np.random.randint(20,size=(4,3))\n",
    "\n",
    "print(x)\n",
    "\n",
    "#find first two rows, three columns\n",
    "x[:2]\n",
    "x[:2,:3]\n",
    "\n",
    "#second row\n",
    "x[1:2]\n",
    "x[1]\n",
    "\n",
    "#first column\n",
    "x[:, 0]\n",
    "\n",
    "#first two columns, 2nd and 4th rows\n",
    "x[1::2, :2 ]\n"
   ]
  },
  {
   "cell_type": "code",
   "execution_count": 98,
   "id": "65efc44a",
   "metadata": {},
   "outputs": [
    {
     "name": "stdout",
     "output_type": "stream",
     "text": [
      "[29 81 87 16 94 41 39 51 80 52]\n",
      "[16, 94, 39]\n",
      "[16 94 39]\n",
      "[[3 4]\n",
      " [5 7]]\n",
      "[[16 94]\n",
      " [41 51]]\n",
      "[[ 0  1  2  3]\n",
      " [ 4  5  6  7]\n",
      " [ 8  9 10 11]]\n",
      "[ 1  6 11]\n"
     ]
    }
   ],
   "source": [
    "#fancy indexing\n",
    "#pass an array of indices to access multiple array elements at once\n",
    "\n",
    "rand = np.random.RandomState([42])\n",
    "x = rand.randint(100, size=10)\n",
    "\n",
    "#x =np.random.randint(100, size = 10)\n",
    "\n",
    "print(x)\n",
    "#access three different elements\n",
    "print([x[3],x[4],x[6]])\n",
    "\n",
    "#pass the indice to x\n",
    "ind = [3,4,6]\n",
    "print(x[ind])\n",
    "\n",
    "#pass a two-dimension array of indices\n",
    "# numpy.reshape(array, shape, order = 'C')\n",
    "# shape is int or tuple or ints\n",
    "ind1 = np.array([3,4,5,7]).reshape((2,2))\n",
    "print(ind1)\n",
    "\n",
    "print(x[ind1])\n",
    "\n",
    "#in a multi-dimension array\n",
    "y = np.arange(12).reshape((3, 4))\n",
    "row = np.array([0, 1, 2])\n",
    "col = np.array([1, 2, 3])\n",
    "print(y)\n",
    "\n",
    "# retrieve cell from matrix\n",
    "print(y[row, col])"
   ]
  },
  {
   "cell_type": "code",
   "execution_count": 99,
   "id": "c059f38a",
   "metadata": {},
   "outputs": [
    {
     "name": "stdout",
     "output_type": "stream",
     "text": [
      "[[ 0  1  2  3]\n",
      " [ 4  5  6  7]\n",
      " [ 8  9 10 11]]\n"
     ]
    },
    {
     "data": {
      "text/plain": [
       "array([10,  9, 11])"
      ]
     },
     "execution_count": 99,
     "metadata": {},
     "output_type": "execute_result"
    },
    {
     "data": {
      "text/plain": [
       "array([[ 6,  5,  7],\n",
       "       [10,  9, 11]])"
      ]
     },
     "execution_count": 99,
     "metadata": {},
     "output_type": "execute_result"
    }
   ],
   "source": [
    "print(y)\n",
    "\n",
    "#combined indexing\n",
    "y[2, [2, 1, 3]]\n",
    "\n",
    "y[1:,[2, 1, 3]]"
   ]
  },
  {
   "cell_type": "code",
   "execution_count": 107,
   "id": "ec011820",
   "metadata": {},
   "outputs": [
    {
     "data": {
      "text/plain": [
       "(100, 2)"
      ]
     },
     "execution_count": 107,
     "metadata": {},
     "output_type": "execute_result"
    },
    {
     "name": "stdout",
     "output_type": "stream",
     "text": [
      "[98 96 14 55 15 77 61 11 21 41 38 52 72 39 74 44 28 92  2 95]\n",
      "[[ 0.39429174  1.11514   ]\n",
      " [ 1.17614656  3.37945328]\n",
      " [-1.25705649 -1.38143418]\n",
      " [ 1.08637403  0.39556922]\n",
      " [-0.65511929 -0.30227716]\n",
      " [-0.01929616  0.66820101]\n",
      " [ 0.5376214   2.45381299]\n",
      " [ 0.62644605  0.73181144]\n",
      " [-0.20875371  0.14498346]\n",
      " [ 0.25660302 -0.08691508]\n",
      " [ 1.81516219  4.36844979]\n",
      " [-0.38137681 -1.11384696]\n",
      " [ 0.0874623   2.03295707]\n",
      " [-0.48726184 -1.16972636]\n",
      " [ 0.99308465  1.24785633]\n",
      " [-0.22925522  0.69428969]\n",
      " [ 0.66038865  0.58273172]\n",
      " [ 0.77883571  0.05575367]\n",
      " [-0.11975441  1.9464288 ]\n",
      " [ 0.08758536 -0.86523504]]\n"
     ]
    },
    {
     "data": {
      "text/plain": [
       "(20, 2)"
      ]
     },
     "execution_count": 107,
     "metadata": {},
     "output_type": "execute_result"
    }
   ],
   "source": [
    "# using fancy indexing in data science projects\n",
    "# select random points\n",
    "\n",
    "#create a two-dimension normal distribution\n",
    "mean = [0, 0]\n",
    "cov = [[1, 2],\n",
    "       [2, 5]]\n",
    "\n",
    "x = rand.multivariate_normal(mean, cov, 100)\n",
    "\n",
    "#x = np.random.normal()\n",
    "#print(x)\n",
    "\n",
    "# dimension of matrix\n",
    "x.shape\n",
    "\n",
    "#select 20 random points\n",
    "#create indices:choosing 20 random indices with no repeats\n",
    "# choice method: https://www.geeksforgeeks.org/numpy-random-choice-in-python/\n",
    "indices = np.random.choice(100, 20, replace = False)\n",
    "print(indices)\n",
    "\n",
    "selection = x[indices]\n",
    "print(selection)\n",
    "selection.shape\n"
   ]
  },
  {
   "cell_type": "code",
   "execution_count": 108,
   "id": "ce66c20e",
   "metadata": {},
   "outputs": [
    {
     "data": {
      "text/plain": [
       "<matplotlib.collections.PathCollection at 0x1e2ac607790>"
      ]
     },
     "execution_count": 108,
     "metadata": {},
     "output_type": "execute_result"
    },
    {
     "data": {
      "image/png": "[encoded data removed]",
      "text/plain": [
       "<Figure size 432x288 with 1 Axes>"
      ]
     },
     "metadata": {},
     "output_type": "display_data"
    }
   ],
   "source": [
    "#plot\n",
    "%matplotlib inline\n",
    "import matplotlib.pyplot as plt\n",
    "import seaborn; \n",
    "\n",
    "seaborn.set() # for plot styling\n",
    "\n",
    "# first column, second column\n",
    "plt.scatter(x[:, 0],x[:, 1])"
   ]
  },
  {
   "cell_type": "code",
   "execution_count": 46,
   "id": "5fe9cbc4",
   "metadata": {},
   "outputs": [
    {
     "data": {
      "application/javascript": [
       "/* Put everything inside the global mpl namespace */\n",
       "/* global mpl */\n",
       "window.mpl = {};\n",
       "\n",
       "mpl.get_websocket_type = function () {\n",
       "    if (typeof WebSocket !== 'undefined') {\n",
       "        return WebSocket;\n",
       "    } else if (typeof MozWebSocket !== 'undefined') {\n",
       "        return MozWebSocket;\n",
       "    } else {\n",
       "        alert(\n",
       "            'Your browser does not have WebSocket support. ' +\n",
       "                'Please try Chrome, Safari or Firefox ≥ 6. ' +\n",
       "                'Firefox 4 and 5 are also supported but you ' +\n",
       "                'have to enable WebSockets in about:config.'\n",
       "        );\n",
       "    }\n",
       "};\n",
       "\n",
       "mpl.figure = function (figure_id, websocket, ondownload, parent_element) {\n",
       "    this.id = figure_id;\n",
       "\n",
       "    this.ws = websocket;\n",
       "\n",
       "    this.supports_binary = this.ws.binaryType !== undefined;\n",
       "\n",
       "    if (!this.supports_binary) {\n",
       "        var warnings = document.getElementById('mpl-warnings');\n",
       "        if (warnings) {\n",
       "            warnings.style.display = 'block';\n",
       "            warnings.textContent =\n",
       "                'This browser does not support binary websocket messages. ' +\n",
       "                'Performance may be slow.';\n",
       "        }\n",
       "    }\n",
       "\n",
       "    this.imageObj = new Image();\n",
       "\n",
       "    this.context = undefined;\n",
       "    this.message = undefined;\n",
       "    this.canvas = undefined;\n",
       "    this.rubberband_canvas = undefined;\n",
       "    this.rubberband_context = undefined;\n",
       "    this.format_dropdown = undefined;\n",
       "\n",
       "    this.image_mode = 'full';\n",
       "\n",
       "    this.root = document.createElement('div');\n",
       "    this.root.setAttribute('style', 'display: inline-block');\n",
       "    this._root_extra_style(this.root);\n",
       "\n",
       "    parent_element.appendChild(this.root);\n",
       "\n",
       "    this._init_header(this);\n",
       "    this._init_canvas(this);\n",
       "    this._init_toolbar(this);\n",
       "\n",
       "    var fig = this;\n",
       "\n",
       "    this.waiting = false;\n",
       "\n",
       "    this.ws.onopen = function () {\n",
       "        fig.send_message('supports_binary', { value: fig.supports_binary });\n",
       "        fig.send_message('send_image_mode', {});\n",
       "        if (fig.ratio !== 1) {\n",
       "            fig.send_message('set_dpi_ratio', { dpi_ratio: fig.ratio });\n",
       "        }\n",
       "        fig.send_message('refresh', {});\n",
       "    };\n",
       "\n",
       "    this.imageObj.onload = function () {\n",
       "        if (fig.image_mode === 'full') {\n",
       "            // Full images could contain transparency (where diff images\n",
       "            // almost always do), so we need to clear the canvas so that\n",
       "            // there is no ghosting.\n",
       "            fig.context.clearRect(0, 0, fig.canvas.width, fig.canvas.height);\n",
       "        }\n",
       "        fig.context.drawImage(fig.imageObj, 0, 0);\n",
       "    };\n",
       "\n",
       "    this.imageObj.onunload = function () {\n",
       "        fig.ws.close();\n",
       "    };\n",
       "\n",
       "    this.ws.onmessage = this._make_on_message_function(this);\n",
       "\n",
       "    this.ondownload = ondownload;\n",
       "};\n",
       "\n",
       "mpl.figure.prototype._init_header = function () {\n",
       "    var titlebar = document.createElement('div');\n",
       "    titlebar.classList =\n",
       "        'ui-dialog-titlebar ui-widget-header ui-corner-all ui-helper-clearfix';\n",
       "    var titletext = document.createElement('div');\n",
       "    titletext.classList = 'ui-dialog-title';\n",
       "    titletext.setAttribute(\n",
       "        'style',\n",
       "        'width: 100%; text-align: center; padding: 3px;'\n",
       "    );\n",
       "    titlebar.appendChild(titletext);\n",
       "    this.root.appendChild(titlebar);\n",
       "    this.header = titletext;\n",
       "};\n",
       "\n",
       "mpl.figure.prototype._canvas_extra_style = function (_canvas_div) {};\n",
       "\n",
       "mpl.figure.prototype._root_extra_style = function (_canvas_div) {};\n",
       "\n",
       "mpl.figure.prototype._init_canvas = function () {\n",
       "    var fig = this;\n",
       "\n",
       "    var canvas_div = (this.canvas_div = document.createElement('div'));\n",
       "    canvas_div.setAttribute(\n",
       "        'style',\n",
       "        'border: 1px solid #ddd;' +\n",
       "            'box-sizing: content-box;' +\n",
       "            'clear: both;' +\n",
       "            'min-height: 1px;' +\n",
       "            'min-width: 1px;' +\n",
       "            'outline: 0;' +\n",
       "            'overflow: hidden;' +\n",
       "            'position: relative;' +\n",
       "            'resize: both;'\n",
       "    );\n",
       "\n",
       "    function on_keyboard_event_closure(name) {\n",
       "        return function (event) {\n",
       "            return fig.key_event(event, name);\n",
       "        };\n",
       "    }\n",
       "\n",
       "    canvas_div.addEventListener(\n",
       "        'keydown',\n",
       "        on_keyboard_event_closure('key_press')\n",
       "    );\n",
       "    canvas_div.addEventListener(\n",
       "        'keyup',\n",
       "        on_keyboard_event_closure('key_release')\n",
       "    );\n",
       "\n",
       "    this._canvas_extra_style(canvas_div);\n",
       "    this.root.appendChild(canvas_div);\n",
       "\n",
       "    var canvas = (this.canvas = document.createElement('canvas'));\n",
       "    canvas.classList.add('mpl-canvas');\n",
       "    canvas.setAttribute('style', 'box-sizing: content-box;');\n",
       "\n",
       "    this.context = canvas.getContext('2d');\n",
       "\n",
       "    var backingStore =\n",
       "        this.context.backingStorePixelRatio ||\n",
       "        this.context.webkitBackingStorePixelRatio ||\n",
       "        this.context.mozBackingStorePixelRatio ||\n",
       "        this.context.msBackingStorePixelRatio ||\n",
       "        this.context.oBackingStorePixelRatio ||\n",
       "        this.context.backingStorePixelRatio ||\n",
       "        1;\n",
       "\n",
       "    this.ratio = (window.devicePixelRatio || 1) / backingStore;\n",
       "\n",
       "    var rubberband_canvas = (this.rubberband_canvas = document.createElement(\n",
       "        'canvas'\n",
       "    ));\n",
       "    rubberband_canvas.setAttribute(\n",
       "        'style',\n",
       "        'box-sizing: content-box; position: absolute; left: 0; top: 0; z-index: 1;'\n",
       "    );\n",
       "\n",
       "    // Apply a ponyfill if ResizeObserver is not implemented by browser.\n",
       "    if (this.ResizeObserver === undefined) {\n",
       "        if (window.ResizeObserver !== undefined) {\n",
       "            this.ResizeObserver = window.ResizeObserver;\n",
       "        } else {\n",
       "            var obs = _JSXTOOLS_RESIZE_OBSERVER({});\n",
       "            this.ResizeObserver = obs.ResizeObserver;\n",
       "        }\n",
       "    }\n",
       "\n",
       "    this.resizeObserverInstance = new this.ResizeObserver(function (entries) {\n",
       "        var nentries = entries.length;\n",
       "        for (var i = 0; i < nentries; i++) {\n",
       "            var entry = entries[i];\n",
       "            var width, height;\n",
       "            if (entry.contentBoxSize) {\n",
       "                if (entry.contentBoxSize instanceof Array) {\n",
       "                    // Chrome 84 implements new version of spec.\n",
       "                    width = entry.contentBoxSize[0].inlineSize;\n",
       "                    height = entry.contentBoxSize[0].blockSize;\n",
       "                } else {\n",
       "                    // Firefox implements old version of spec.\n",
       "                    width = entry.contentBoxSize.inlineSize;\n",
       "                    height = entry.contentBoxSize.blockSize;\n",
       "                }\n",
       "            } else {\n",
       "                // Chrome <84 implements even older version of spec.\n",
       "                width = entry.contentRect.width;\n",
       "                height = entry.contentRect.height;\n",
       "            }\n",
       "\n",
       "            // Keep the size of the canvas and rubber band canvas in sync with\n",
       "            // the canvas container.\n",
       "            if (entry.devicePixelContentBoxSize) {\n",
       "                // Chrome 84 implements new version of spec.\n",
       "                canvas.setAttribute(\n",
       "                    'width',\n",
       "                    entry.devicePixelContentBoxSize[0].inlineSize\n",
       "                );\n",
       "                canvas.setAttribute(\n",
       "                    'height',\n",
       "                    entry.devicePixelContentBoxSize[0].blockSize\n",
       "                );\n",
       "            } else {\n",
       "                canvas.setAttribute('width', width * fig.ratio);\n",
       "                canvas.setAttribute('height', height * fig.ratio);\n",
       "            }\n",
       "            canvas.setAttribute(\n",
       "                'style',\n",
       "                'width: ' + width + 'px; height: ' + height + 'px;'\n",
       "            );\n",
       "\n",
       "            rubberband_canvas.setAttribute('width', width);\n",
       "            rubberband_canvas.setAttribute('height', height);\n",
       "\n",
       "            // And update the size in Python. We ignore the initial 0/0 size\n",
       "            // that occurs as the element is placed into the DOM, which should\n",
       "            // otherwise not happen due to the minimum size styling.\n",
       "            if (fig.ws.readyState == 1 && width != 0 && height != 0) {\n",
       "                fig.request_resize(width, height);\n",
       "            }\n",
       "        }\n",
       "    });\n",
       "    this.resizeObserverInstance.observe(canvas_div);\n",
       "\n",
       "    function on_mouse_event_closure(name) {\n",
       "        return function (event) {\n",
       "            return fig.mouse_event(event, name);\n",
       "        };\n",
       "    }\n",
       "\n",
       "    rubberband_canvas.addEventListener(\n",
       "        'mousedown',\n",
       "        on_mouse_event_closure('button_press')\n",
       "    );\n",
       "    rubberband_canvas.addEventListener(\n",
       "        'mouseup',\n",
       "        on_mouse_event_closure('button_release')\n",
       "    );\n",
       "    rubberband_canvas.addEventListener(\n",
       "        'dblclick',\n",
       "        on_mouse_event_closure('dblclick')\n",
       "    );\n",
       "    // Throttle sequential mouse events to 1 every 20ms.\n",
       "    rubberband_canvas.addEventListener(\n",
       "        'mousemove',\n",
       "        on_mouse_event_closure('motion_notify')\n",
       "    );\n",
       "\n",
       "    rubberband_canvas.addEventListener(\n",
       "        'mouseenter',\n",
       "        on_mouse_event_closure('figure_enter')\n",
       "    );\n",
       "    rubberband_canvas.addEventListener(\n",
       "        'mouseleave',\n",
       "        on_mouse_event_closure('figure_leave')\n",
       "    );\n",
       "\n",
       "    canvas_div.addEventListener('wheel', function (event) {\n",
       "        if (event.deltaY < 0) {\n",
       "            event.step = 1;\n",
       "        } else {\n",
       "            event.step = -1;\n",
       "        }\n",
       "        on_mouse_event_closure('scroll')(event);\n",
       "    });\n",
       "\n",
       "    canvas_div.appendChild(canvas);\n",
       "    canvas_div.appendChild(rubberband_canvas);\n",
       "\n",
       "    this.rubberband_context = rubberband_canvas.getContext('2d');\n",
       "    this.rubberband_context.strokeStyle = '#000000';\n",
       "\n",
       "    this._resize_canvas = function (width, height, forward) {\n",
       "        if (forward) {\n",
       "            canvas_div.style.width = width + 'px';\n",
       "            canvas_div.style.height = height + 'px';\n",
       "        }\n",
       "    };\n",
       "\n",
       "    // Disable right mouse context menu.\n",
       "    this.rubberband_canvas.addEventListener('contextmenu', function (_e) {\n",
       "        event.preventDefault();\n",
       "        return false;\n",
       "    });\n",
       "\n",
       "    function set_focus() {\n",
       "        canvas.focus();\n",
       "        canvas_div.focus();\n",
       "    }\n",
       "\n",
       "    window.setTimeout(set_focus, 100);\n",
       "};\n",
       "\n",
       "mpl.figure.prototype._init_toolbar = function () {\n",
       "    var fig = this;\n",
       "\n",
       "    var toolbar = document.createElement('div');\n",
       "    toolbar.classList = 'mpl-toolbar';\n",
       "    this.root.appendChild(toolbar);\n",
       "\n",
       "    function on_click_closure(name) {\n",
       "        return function (_event) {\n",
       "            return fig.toolbar_button_onclick(name);\n",
       "        };\n",
       "    }\n",
       "\n",
       "    function on_mouseover_closure(tooltip) {\n",
       "        return function (event) {\n",
       "            if (!event.currentTarget.disabled) {\n",
       "                return fig.toolbar_button_onmouseover(tooltip);\n",
       "            }\n",
       "        };\n",
       "    }\n",
       "\n",
       "    fig.buttons = {};\n",
       "    var buttonGroup = document.createElement('div');\n",
       "    buttonGroup.classList = 'mpl-button-group';\n",
       "    for (var toolbar_ind in mpl.toolbar_items) {\n",
       "        var name = mpl.toolbar_items[toolbar_ind][0];\n",
       "        var tooltip = mpl.toolbar_items[toolbar_ind][1];\n",
       "        var image = mpl.toolbar_items[toolbar_ind][2];\n",
       "        var method_name = mpl.toolbar_items[toolbar_ind][3];\n",
       "\n",
       "        if (!name) {\n",
       "            /* Instead of a spacer, we start a new button group. */\n",
       "            if (buttonGroup.hasChildNodes()) {\n",
       "                toolbar.appendChild(buttonGroup);\n",
       "            }\n",
       "            buttonGroup = document.createElement('div');\n",
       "            buttonGroup.classList = 'mpl-button-group';\n",
       "            continue;\n",
       "        }\n",
       "\n",
       "        var button = (fig.buttons[name] = document.createElement('button'));\n",
       "        button.classList = 'mpl-widget';\n",
       "        button.setAttribute('role', 'button');\n",
       "        button.setAttribute('aria-disabled', 'false');\n",
       "        button.addEventListener('click', on_click_closure(method_name));\n",
       "        button.addEventListener('mouseover', on_mouseover_closure(tooltip));\n",
       "\n",
       "        var icon_img = document.createElement('img');\n",
       "        icon_img.src = '_images/' + image + '.png';\n",
       "        icon_img.srcset = '_images/' + image + '_large.png 2x';\n",
       "        icon_img.alt = tooltip;\n",
       "        button.appendChild(icon_img);\n",
       "\n",
       "        buttonGroup.appendChild(button);\n",
       "    }\n",
       "\n",
       "    if (buttonGroup.hasChildNodes()) {\n",
       "        toolbar.appendChild(buttonGroup);\n",
       "    }\n",
       "\n",
       "    var fmt_picker = document.createElement('select');\n",
       "    fmt_picker.classList = 'mpl-widget';\n",
       "    toolbar.appendChild(fmt_picker);\n",
       "    this.format_dropdown = fmt_picker;\n",
       "\n",
       "    for (var ind in mpl.extensions) {\n",
       "        var fmt = mpl.extensions[ind];\n",
       "        var option = document.createElement('option');\n",
       "        option.selected = fmt === mpl.default_extension;\n",
       "        option.innerHTML = fmt;\n",
       "        fmt_picker.appendChild(option);\n",
       "    }\n",
       "\n",
       "    var status_bar = document.createElement('span');\n",
       "    status_bar.classList = 'mpl-message';\n",
       "    toolbar.appendChild(status_bar);\n",
       "    this.message = status_bar;\n",
       "};\n",
       "\n",
       "mpl.figure.prototype.request_resize = function (x_pixels, y_pixels) {\n",
       "    // Request matplotlib to resize the figure. Matplotlib will then trigger a resize in the client,\n",
       "    // which will in turn request a refresh of the image.\n",
       "    this.send_message('resize', { width: x_pixels, height: y_pixels });\n",
       "};\n",
       "\n",
       "mpl.figure.prototype.send_message = function (type, properties) {\n",
       "    properties['type'] = type;\n",
       "    properties['figure_id'] = this.id;\n",
       "    this.ws.send(JSON.stringify(properties));\n",
       "};\n",
       "\n",
       "mpl.figure.prototype.send_draw_message = function () {\n",
       "    if (!this.waiting) {\n",
       "        this.waiting = true;\n",
       "        this.ws.send(JSON.stringify({ type: 'draw', figure_id: this.id }));\n",
       "    }\n",
       "};\n",
       "\n",
       "mpl.figure.prototype.handle_save = function (fig, _msg) {\n",
       "    var format_dropdown = fig.format_dropdown;\n",
       "    var format = format_dropdown.options[format_dropdown.selectedIndex].value;\n",
       "    fig.ondownload(fig, format);\n",
       "};\n",
       "\n",
       "mpl.figure.prototype.handle_resize = function (fig, msg) {\n",
       "    var size = msg['size'];\n",
       "    if (size[0] !== fig.canvas.width || size[1] !== fig.canvas.height) {\n",
       "        fig._resize_canvas(size[0], size[1], msg['forward']);\n",
       "        fig.send_message('refresh', {});\n",
       "    }\n",
       "};\n",
       "\n",
       "mpl.figure.prototype.handle_rubberband = function (fig, msg) {\n",
       "    var x0 = msg['x0'] / fig.ratio;\n",
       "    var y0 = (fig.canvas.height - msg['y0']) / fig.ratio;\n",
       "    var x1 = msg['x1'] / fig.ratio;\n",
       "    var y1 = (fig.canvas.height - msg['y1']) / fig.ratio;\n",
       "    x0 = Math.floor(x0) + 0.5;\n",
       "    y0 = Math.floor(y0) + 0.5;\n",
       "    x1 = Math.floor(x1) + 0.5;\n",
       "    y1 = Math.floor(y1) + 0.5;\n",
       "    var min_x = Math.min(x0, x1);\n",
       "    var min_y = Math.min(y0, y1);\n",
       "    var width = Math.abs(x1 - x0);\n",
       "    var height = Math.abs(y1 - y0);\n",
       "\n",
       "    fig.rubberband_context.clearRect(\n",
       "        0,\n",
       "        0,\n",
       "        fig.canvas.width / fig.ratio,\n",
       "        fig.canvas.height / fig.ratio\n",
       "    );\n",
       "\n",
       "    fig.rubberband_context.strokeRect(min_x, min_y, width, height);\n",
       "};\n",
       "\n",
       "mpl.figure.prototype.handle_figure_label = function (fig, msg) {\n",
       "    // Updates the figure title.\n",
       "    fig.header.textContent = msg['label'];\n",
       "};\n",
       "\n",
       "mpl.figure.prototype.handle_cursor = function (fig, msg) {\n",
       "    var cursor = msg['cursor'];\n",
       "    switch (cursor) {\n",
       "        case 0:\n",
       "            cursor = 'pointer';\n",
       "            break;\n",
       "        case 1:\n",
       "            cursor = 'default';\n",
       "            break;\n",
       "        case 2:\n",
       "            cursor = 'crosshair';\n",
       "            break;\n",
       "        case 3:\n",
       "            cursor = 'move';\n",
       "            break;\n",
       "    }\n",
       "    fig.rubberband_canvas.style.cursor = cursor;\n",
       "};\n",
       "\n",
       "mpl.figure.prototype.handle_message = function (fig, msg) {\n",
       "    fig.message.textContent = msg['message'];\n",
       "};\n",
       "\n",
       "mpl.figure.prototype.handle_draw = function (fig, _msg) {\n",
       "    // Request the server to send over a new figure.\n",
       "    fig.send_draw_message();\n",
       "};\n",
       "\n",
       "mpl.figure.prototype.handle_image_mode = function (fig, msg) {\n",
       "    fig.image_mode = msg['mode'];\n",
       "};\n",
       "\n",
       "mpl.figure.prototype.handle_history_buttons = function (fig, msg) {\n",
       "    for (var key in msg) {\n",
       "        if (!(key in fig.buttons)) {\n",
       "            continue;\n",
       "        }\n",
       "        fig.buttons[key].disabled = !msg[key];\n",
       "        fig.buttons[key].setAttribute('aria-disabled', !msg[key]);\n",
       "    }\n",
       "};\n",
       "\n",
       "mpl.figure.prototype.handle_navigate_mode = function (fig, msg) {\n",
       "    if (msg['mode'] === 'PAN') {\n",
       "        fig.buttons['Pan'].classList.add('active');\n",
       "        fig.buttons['Zoom'].classList.remove('active');\n",
       "    } else if (msg['mode'] === 'ZOOM') {\n",
       "        fig.buttons['Pan'].classList.remove('active');\n",
       "        fig.buttons['Zoom'].classList.add('active');\n",
       "    } else {\n",
       "        fig.buttons['Pan'].classList.remove('active');\n",
       "        fig.buttons['Zoom'].classList.remove('active');\n",
       "    }\n",
       "};\n",
       "\n",
       "mpl.figure.prototype.updated_canvas_event = function () {\n",
       "    // Called whenever the canvas gets updated.\n",
       "    this.send_message('ack', {});\n",
       "};\n",
       "\n",
       "// A function to construct a web socket function for onmessage handling.\n",
       "// Called in the figure constructor.\n",
       "mpl.figure.prototype._make_on_message_function = function (fig) {\n",
       "    return function socket_on_message(evt) {\n",
       "        if (evt.data instanceof Blob) {\n",
       "            var img = evt.data;\n",
       "            if (img.type !== 'image/png') {\n",
       "                /* FIXME: We get \"Resource interpreted as Image but\n",
       "                 * transferred with MIME type text/plain:\" errors on\n",
       "                 * Chrome.  But how to set the MIME type?  It doesn't seem\n",
       "                 * to be part of the websocket stream */\n",
       "                img.type = 'image/png';\n",
       "            }\n",
       "\n",
       "            /* Free the memory for the previous frames */\n",
       "            if (fig.imageObj.src) {\n",
       "                (window.URL || window.webkitURL).revokeObjectURL(\n",
       "                    fig.imageObj.src\n",
       "                );\n",
       "            }\n",
       "\n",
       "            fig.imageObj.src = (window.URL || window.webkitURL).createObjectURL(\n",
       "                img\n",
       "            );\n",
       "            fig.updated_canvas_event();\n",
       "            fig.waiting = false;\n",
       "            return;\n",
       "        } else if (\n",
       "            typeof evt.data === 'string' &&\n",
       "            evt.data.slice(0, 21) === 'data:image/png;base64'\n",
       "        ) {\n",
       "            fig.imageObj.src = evt.data;\n",
       "            fig.updated_canvas_event();\n",
       "            fig.waiting = false;\n",
       "            return;\n",
       "        }\n",
       "\n",
       "        var msg = JSON.parse(evt.data);\n",
       "        var msg_type = msg['type'];\n",
       "\n",
       "        // Call the  \"handle_{type}\" callback, which takes\n",
       "        // the figure and JSON message as its only arguments.\n",
       "        try {\n",
       "            var callback = fig['handle_' + msg_type];\n",
       "        } catch (e) {\n",
       "            console.log(\n",
       "                \"No handler for the '\" + msg_type + \"' message type: \",\n",
       "                msg\n",
       "            );\n",
       "            return;\n",
       "        }\n",
       "\n",
       "        if (callback) {\n",
       "            try {\n",
       "                // console.log(\"Handling '\" + msg_type + \"' message: \", msg);\n",
       "                callback(fig, msg);\n",
       "            } catch (e) {\n",
       "                console.log(\n",
       "                    \"Exception inside the 'handler_\" + msg_type + \"' callback:\",\n",
       "                    e,\n",
       "                    e.stack,\n",
       "                    msg\n",
       "                );\n",
       "            }\n",
       "        }\n",
       "    };\n",
       "};\n",
       "\n",
       "// from http://stackoverflow.com/questions/1114465/getting-mouse-location-in-canvas\n",
       "mpl.findpos = function (e) {\n",
       "    //this section is from http://www.quirksmode.org/js/events_properties.html\n",
       "    var targ;\n",
       "    if (!e) {\n",
       "        e = window.event;\n",
       "    }\n",
       "    if (e.target) {\n",
       "        targ = e.target;\n",
       "    } else if (e.srcElement) {\n",
       "        targ = e.srcElement;\n",
       "    }\n",
       "    if (targ.nodeType === 3) {\n",
       "        // defeat Safari bug\n",
       "        targ = targ.parentNode;\n",
       "    }\n",
       "\n",
       "    // pageX,Y are the mouse positions relative to the document\n",
       "    var boundingRect = targ.getBoundingClientRect();\n",
       "    var x = e.pageX - (boundingRect.left + document.body.scrollLeft);\n",
       "    var y = e.pageY - (boundingRect.top + document.body.scrollTop);\n",
       "\n",
       "    return { x: x, y: y };\n",
       "};\n",
       "\n",
       "/*\n",
       " * return a copy of an object with only non-object keys\n",
       " * we need this to avoid circular references\n",
       " * http://stackoverflow.com/a/24161582/3208463\n",
       " */\n",
       "function simpleKeys(original) {\n",
       "    return Object.keys(original).reduce(function (obj, key) {\n",
       "        if (typeof original[key] !== 'object') {\n",
       "            obj[key] = original[key];\n",
       "        }\n",
       "        return obj;\n",
       "    }, {});\n",
       "}\n",
       "\n",
       "mpl.figure.prototype.mouse_event = function (event, name) {\n",
       "    var canvas_pos = mpl.findpos(event);\n",
       "\n",
       "    if (name === 'button_press') {\n",
       "        this.canvas.focus();\n",
       "        this.canvas_div.focus();\n",
       "    }\n",
       "\n",
       "    var x = canvas_pos.x * this.ratio;\n",
       "    var y = canvas_pos.y * this.ratio;\n",
       "\n",
       "    this.send_message(name, {\n",
       "        x: x,\n",
       "        y: y,\n",
       "        button: event.button,\n",
       "        step: event.step,\n",
       "        guiEvent: simpleKeys(event),\n",
       "    });\n",
       "\n",
       "    /* This prevents the web browser from automatically changing to\n",
       "     * the text insertion cursor when the button is pressed.  We want\n",
       "     * to control all of the cursor setting manually through the\n",
       "     * 'cursor' event from matplotlib */\n",
       "    event.preventDefault();\n",
       "    return false;\n",
       "};\n",
       "\n",
       "mpl.figure.prototype._key_event_extra = function (_event, _name) {\n",
       "    // Handle any extra behaviour associated with a key event\n",
       "};\n",
       "\n",
       "mpl.figure.prototype.key_event = function (event, name) {\n",
       "    // Prevent repeat events\n",
       "    if (name === 'key_press') {\n",
       "        if (event.key === this._key) {\n",
       "            return;\n",
       "        } else {\n",
       "            this._key = event.key;\n",
       "        }\n",
       "    }\n",
       "    if (name === 'key_release') {\n",
       "        this._key = null;\n",
       "    }\n",
       "\n",
       "    var value = '';\n",
       "    if (event.ctrlKey && event.key !== 'Control') {\n",
       "        value += 'ctrl+';\n",
       "    }\n",
       "    else if (event.altKey && event.key !== 'Alt') {\n",
       "        value += 'alt+';\n",
       "    }\n",
       "    else if (event.shiftKey && event.key !== 'Shift') {\n",
       "        value += 'shift+';\n",
       "    }\n",
       "\n",
       "    value += 'k' + event.key;\n",
       "\n",
       "    this._key_event_extra(event, name);\n",
       "\n",
       "    this.send_message(name, { key: value, guiEvent: simpleKeys(event) });\n",
       "    return false;\n",
       "};\n",
       "\n",
       "mpl.figure.prototype.toolbar_button_onclick = function (name) {\n",
       "    if (name === 'download') {\n",
       "        this.handle_save(this, null);\n",
       "    } else {\n",
       "        this.send_message('toolbar_button', { name: name });\n",
       "    }\n",
       "};\n",
       "\n",
       "mpl.figure.prototype.toolbar_button_onmouseover = function (tooltip) {\n",
       "    this.message.textContent = tooltip;\n",
       "};\n",
       "\n",
       "///////////////// REMAINING CONTENT GENERATED BY embed_js.py /////////////////\n",
       "// prettier-ignore\n",
       "var _JSXTOOLS_RESIZE_OBSERVER=function(A){var t,i=new WeakMap,n=new WeakMap,a=new WeakMap,r=new WeakMap,o=new Set;function s(e){if(!(this instanceof s))throw new TypeError(\"Constructor requires 'new' operator\");i.set(this,e)}function h(){throw new TypeError(\"Function is not a constructor\")}function c(e,t,i,n){e=0 in arguments?Number(arguments[0]):0,t=1 in arguments?Number(arguments[1]):0,i=2 in arguments?Number(arguments[2]):0,n=3 in arguments?Number(arguments[3]):0,this.right=(this.x=this.left=e)+(this.width=i),this.bottom=(this.y=this.top=t)+(this.height=n),Object.freeze(this)}function d(){t=requestAnimationFrame(d);var s=new WeakMap,p=new Set;o.forEach((function(t){r.get(t).forEach((function(i){var r=t instanceof window.SVGElement,o=a.get(t),d=r?0:parseFloat(o.paddingTop),f=r?0:parseFloat(o.paddingRight),l=r?0:parseFloat(o.paddingBottom),u=r?0:parseFloat(o.paddingLeft),g=r?0:parseFloat(o.borderTopWidth),m=r?0:parseFloat(o.borderRightWidth),w=r?0:parseFloat(o.borderBottomWidth),b=u+f,F=d+l,v=(r?0:parseFloat(o.borderLeftWidth))+m,W=g+w,y=r?0:t.offsetHeight-W-t.clientHeight,E=r?0:t.offsetWidth-v-t.clientWidth,R=b+v,z=F+W,M=r?t.width:parseFloat(o.width)-R-E,O=r?t.height:parseFloat(o.height)-z-y;if(n.has(t)){var k=n.get(t);if(k[0]===M&&k[1]===O)return}n.set(t,[M,O]);var S=Object.create(h.prototype);S.target=t,S.contentRect=new c(u,d,M,O),s.has(i)||(s.set(i,[]),p.add(i)),s.get(i).push(S)}))})),p.forEach((function(e){i.get(e).call(e,s.get(e),e)}))}return s.prototype.observe=function(i){if(i instanceof window.Element){r.has(i)||(r.set(i,new Set),o.add(i),a.set(i,window.getComputedStyle(i)));var n=r.get(i);n.has(this)||n.add(this),cancelAnimationFrame(t),t=requestAnimationFrame(d)}},s.prototype.unobserve=function(i){if(i instanceof window.Element&&r.has(i)){var n=r.get(i);n.has(this)&&(n.delete(this),n.size||(r.delete(i),o.delete(i))),n.size||r.delete(i),o.size||cancelAnimationFrame(t)}},A.DOMRectReadOnly=c,A.ResizeObserver=s,A.ResizeObserverEntry=h,A}; // eslint-disable-line\n",
       "mpl.toolbar_items = [[\"Home\", \"Reset original view\", \"fa fa-home icon-home\", \"home\"], [\"Back\", \"Back to previous view\", \"fa fa-arrow-left icon-arrow-left\", \"back\"], [\"Forward\", \"Forward to next view\", \"fa fa-arrow-right icon-arrow-right\", \"forward\"], [\"\", \"\", \"\", \"\"], [\"Pan\", \"Left button pans, Right button zooms\\nx/y fixes axis, CTRL fixes aspect\", \"fa fa-arrows icon-move\", \"pan\"], [\"Zoom\", \"Zoom to rectangle\\nx/y fixes axis, CTRL fixes aspect\", \"fa fa-square-o icon-check-empty\", \"zoom\"], [\"\", \"\", \"\", \"\"], [\"Download\", \"Download plot\", \"fa fa-floppy-o icon-save\", \"download\"]];\n",
       "\n",
       "mpl.extensions = [\"eps\", \"jpeg\", \"pgf\", \"pdf\", \"png\", \"ps\", \"raw\", \"svg\", \"tif\"];\n",
       "\n",
       "mpl.default_extension = \"png\";/* global mpl */\n",
       "\n",
       "var comm_websocket_adapter = function (comm) {\n",
       "    // Create a \"websocket\"-like object which calls the given IPython comm\n",
       "    // object with the appropriate methods. Currently this is a non binary\n",
       "    // socket, so there is still some room for performance tuning.\n",
       "    var ws = {};\n",
       "\n",
       "    ws.binaryType = comm.kernel.ws.binaryType;\n",
       "    ws.readyState = comm.kernel.ws.readyState;\n",
       "    function updateReadyState(_event) {\n",
       "        if (comm.kernel.ws) {\n",
       "            ws.readyState = comm.kernel.ws.readyState;\n",
       "        } else {\n",
       "            ws.readyState = 3; // Closed state.\n",
       "        }\n",
       "    }\n",
       "    comm.kernel.ws.addEventListener('open', updateReadyState);\n",
       "    comm.kernel.ws.addEventListener('close', updateReadyState);\n",
       "    comm.kernel.ws.addEventListener('error', updateReadyState);\n",
       "\n",
       "    ws.close = function () {\n",
       "        comm.close();\n",
       "    };\n",
       "    ws.send = function (m) {\n",
       "        //console.log('sending', m);\n",
       "        comm.send(m);\n",
       "    };\n",
       "    // Register the callback with on_msg.\n",
       "    comm.on_msg(function (msg) {\n",
       "        //console.log('receiving', msg['content']['data'], msg);\n",
       "        var data = msg['content']['data'];\n",
       "        if (data['blob'] !== undefined) {\n",
       "            data = {\n",
       "                data: new Blob(msg['buffers'], { type: data['blob'] }),\n",
       "            };\n",
       "        }\n",
       "        // Pass the mpl event to the overridden (by mpl) onmessage function.\n",
       "        ws.onmessage(data);\n",
       "    });\n",
       "    return ws;\n",
       "};\n",
       "\n",
       "mpl.mpl_figure_comm = function (comm, msg) {\n",
       "    // This is the function which gets called when the mpl process\n",
       "    // starts-up an IPython Comm through the \"matplotlib\" channel.\n",
       "\n",
       "    var id = msg.content.data.id;\n",
       "    // Get hold of the div created by the display call when the Comm\n",
       "    // socket was opened in Python.\n",
       "    var element = document.getElementById(id);\n",
       "    var ws_proxy = comm_websocket_adapter(comm);\n",
       "\n",
       "    function ondownload(figure, _format) {\n",
       "        window.open(figure.canvas.toDataURL());\n",
       "    }\n",
       "\n",
       "    var fig = new mpl.figure(id, ws_proxy, ondownload, element);\n",
       "\n",
       "    // Call onopen now - mpl needs it, as it is assuming we've passed it a real\n",
       "    // web socket which is closed, not our websocket->open comm proxy.\n",
       "    ws_proxy.onopen();\n",
       "\n",
       "    fig.parent_element = element;\n",
       "    fig.cell_info = mpl.find_output_cell(\"<div id='\" + id + \"'></div>\");\n",
       "    if (!fig.cell_info) {\n",
       "        console.error('Failed to find cell for figure', id, fig);\n",
       "        return;\n",
       "    }\n",
       "    fig.cell_info[0].output_area.element.on(\n",
       "        'cleared',\n",
       "        { fig: fig },\n",
       "        fig._remove_fig_handler\n",
       "    );\n",
       "};\n",
       "\n",
       "mpl.figure.prototype.handle_close = function (fig, msg) {\n",
       "    var width = fig.canvas.width / fig.ratio;\n",
       "    fig.cell_info[0].output_area.element.off(\n",
       "        'cleared',\n",
       "        fig._remove_fig_handler\n",
       "    );\n",
       "    fig.resizeObserverInstance.unobserve(fig.canvas_div);\n",
       "\n",
       "    // Update the output cell to use the data from the current canvas.\n",
       "    fig.push_to_output();\n",
       "    var dataURL = fig.canvas.toDataURL();\n",
       "    // Re-enable the keyboard manager in IPython - without this line, in FF,\n",
       "    // the notebook keyboard shortcuts fail.\n",
       "    IPython.keyboard_manager.enable();\n",
       "    fig.parent_element.innerHTML =\n",
       "        '<img src=\"' + dataURL + '\" width=\"' + width + '\">';\n",
       "    fig.close_ws(fig, msg);\n",
       "};\n",
       "\n",
       "mpl.figure.prototype.close_ws = function (fig, msg) {\n",
       "    fig.send_message('closing', msg);\n",
       "    // fig.ws.close()\n",
       "};\n",
       "\n",
       "mpl.figure.prototype.push_to_output = function (_remove_interactive) {\n",
       "    // Turn the data on the canvas into data in the output cell.\n",
       "    var width = this.canvas.width / this.ratio;\n",
       "    var dataURL = this.canvas.toDataURL();\n",
       "    this.cell_info[1]['text/html'] =\n",
       "        '<img src=\"' + dataURL + '\" width=\"' + width + '\">';\n",
       "};\n",
       "\n",
       "mpl.figure.prototype.updated_canvas_event = function () {\n",
       "    // Tell IPython that the notebook contents must change.\n",
       "    IPython.notebook.set_dirty(true);\n",
       "    this.send_message('ack', {});\n",
       "    var fig = this;\n",
       "    // Wait a second, then push the new image to the DOM so\n",
       "    // that it is saved nicely (might be nice to debounce this).\n",
       "    setTimeout(function () {\n",
       "        fig.push_to_output();\n",
       "    }, 1000);\n",
       "};\n",
       "\n",
       "mpl.figure.prototype._init_toolbar = function () {\n",
       "    var fig = this;\n",
       "\n",
       "    var toolbar = document.createElement('div');\n",
       "    toolbar.classList = 'btn-toolbar';\n",
       "    this.root.appendChild(toolbar);\n",
       "\n",
       "    function on_click_closure(name) {\n",
       "        return function (_event) {\n",
       "            return fig.toolbar_button_onclick(name);\n",
       "        };\n",
       "    }\n",
       "\n",
       "    function on_mouseover_closure(tooltip) {\n",
       "        return function (event) {\n",
       "            if (!event.currentTarget.disabled) {\n",
       "                return fig.toolbar_button_onmouseover(tooltip);\n",
       "            }\n",
       "        };\n",
       "    }\n",
       "\n",
       "    fig.buttons = {};\n",
       "    var buttonGroup = document.createElement('div');\n",
       "    buttonGroup.classList = 'btn-group';\n",
       "    var button;\n",
       "    for (var toolbar_ind in mpl.toolbar_items) {\n",
       "        var name = mpl.toolbar_items[toolbar_ind][0];\n",
       "        var tooltip = mpl.toolbar_items[toolbar_ind][1];\n",
       "        var image = mpl.toolbar_items[toolbar_ind][2];\n",
       "        var method_name = mpl.toolbar_items[toolbar_ind][3];\n",
       "\n",
       "        if (!name) {\n",
       "            /* Instead of a spacer, we start a new button group. */\n",
       "            if (buttonGroup.hasChildNodes()) {\n",
       "                toolbar.appendChild(buttonGroup);\n",
       "            }\n",
       "            buttonGroup = document.createElement('div');\n",
       "            buttonGroup.classList = 'btn-group';\n",
       "            continue;\n",
       "        }\n",
       "\n",
       "        button = fig.buttons[name] = document.createElement('button');\n",
       "        button.classList = 'btn btn-default';\n",
       "        button.href = '#';\n",
       "        button.title = name;\n",
       "        button.innerHTML = '<i class=\"fa ' + image + ' fa-lg\"></i>';\n",
       "        button.addEventListener('click', on_click_closure(method_name));\n",
       "        button.addEventListener('mouseover', on_mouseover_closure(tooltip));\n",
       "        buttonGroup.appendChild(button);\n",
       "    }\n",
       "\n",
       "    if (buttonGroup.hasChildNodes()) {\n",
       "        toolbar.appendChild(buttonGroup);\n",
       "    }\n",
       "\n",
       "    // Add the status bar.\n",
       "    var status_bar = document.createElement('span');\n",
       "    status_bar.classList = 'mpl-message pull-right';\n",
       "    toolbar.appendChild(status_bar);\n",
       "    this.message = status_bar;\n",
       "\n",
       "    // Add the close button to the window.\n",
       "    var buttongrp = document.createElement('div');\n",
       "    buttongrp.classList = 'btn-group inline pull-right';\n",
       "    button = document.createElement('button');\n",
       "    button.classList = 'btn btn-mini btn-primary';\n",
       "    button.href = '#';\n",
       "    button.title = 'Stop Interaction';\n",
       "    button.innerHTML = '<i class=\"fa fa-power-off icon-remove icon-large\"></i>';\n",
       "    button.addEventListener('click', function (_evt) {\n",
       "        fig.handle_close(fig, {});\n",
       "    });\n",
       "    button.addEventListener(\n",
       "        'mouseover',\n",
       "        on_mouseover_closure('Stop Interaction')\n",
       "    );\n",
       "    buttongrp.appendChild(button);\n",
       "    var titlebar = this.root.querySelector('.ui-dialog-titlebar');\n",
       "    titlebar.insertBefore(buttongrp, titlebar.firstChild);\n",
       "};\n",
       "\n",
       "mpl.figure.prototype._remove_fig_handler = function (event) {\n",
       "    var fig = event.data.fig;\n",
       "    if (event.target !== this) {\n",
       "        // Ignore bubbled events from children.\n",
       "        return;\n",
       "    }\n",
       "    fig.close_ws(fig, {});\n",
       "};\n",
       "\n",
       "mpl.figure.prototype._root_extra_style = function (el) {\n",
       "    el.style.boxSizing = 'content-box'; // override notebook setting of border-box.\n",
       "};\n",
       "\n",
       "mpl.figure.prototype._canvas_extra_style = function (el) {\n",
       "    // this is important to make the div 'focusable\n",
       "    el.setAttribute('tabindex', 0);\n",
       "    // reach out to IPython and tell the keyboard manager to turn it's self\n",
       "    // off when our div gets focus\n",
       "\n",
       "    // location in version 3\n",
       "    if (IPython.notebook.keyboard_manager) {\n",
       "        IPython.notebook.keyboard_manager.register_events(el);\n",
       "    } else {\n",
       "        // location in version 2\n",
       "        IPython.keyboard_manager.register_events(el);\n",
       "    }\n",
       "};\n",
       "\n",
       "mpl.figure.prototype._key_event_extra = function (event, _name) {\n",
       "    var manager = IPython.notebook.keyboard_manager;\n",
       "    if (!manager) {\n",
       "        manager = IPython.keyboard_manager;\n",
       "    }\n",
       "\n",
       "    // Check for shift+enter\n",
       "    if (event.shiftKey && event.which === 13) {\n",
       "        this.canvas_div.blur();\n",
       "        // select the cell after this one\n",
       "        var index = IPython.notebook.find_cell_index(this.cell_info[0]);\n",
       "        IPython.notebook.select(index + 1);\n",
       "    }\n",
       "};\n",
       "\n",
       "mpl.figure.prototype.handle_save = function (fig, _msg) {\n",
       "    fig.ondownload(fig, null);\n",
       "};\n",
       "\n",
       "mpl.find_output_cell = function (html_output) {\n",
       "    // Return the cell and output element which can be found *uniquely* in the notebook.\n",
       "    // Note - this is a bit hacky, but it is done because the \"notebook_saving.Notebook\"\n",
       "    // IPython event is triggered only after the cells have been serialised, which for\n",
       "    // our purposes (turning an active figure into a static one), is too late.\n",
       "    var cells = IPython.notebook.get_cells();\n",
       "    var ncells = cells.length;\n",
       "    for (var i = 0; i < ncells; i++) {\n",
       "        var cell = cells[i];\n",
       "        if (cell.cell_type === 'code') {\n",
       "            for (var j = 0; j < cell.output_area.outputs.length; j++) {\n",
       "                var data = cell.output_area.outputs[j];\n",
       "                if (data.data) {\n",
       "                    // IPython >= 3 moved mimebundle to data attribute of output\n",
       "                    data = data.data;\n",
       "                }\n",
       "                if (data['text/html'] === html_output) {\n",
       "                    return [cell, data, j];\n",
       "                }\n",
       "            }\n",
       "        }\n",
       "    }\n",
       "};\n",
       "\n",
       "// Register the function which deals with the matplotlib target/channel.\n",
       "// The kernel may be null if the page has been refreshed.\n",
       "if (IPython.notebook.kernel !== null) {\n",
       "    IPython.notebook.kernel.comm_manager.register_target(\n",
       "        'matplotlib',\n",
       "        mpl.mpl_figure_comm\n",
       "    );\n",
       "}\n"
      ],
      "text/plain": [
       "<IPython.core.display.Javascript object>"
      ]
     },
     "metadata": {},
     "output_type": "display_data"
    },
    {
     "data": {
      "text/html": [
       "<img src=\"data:image/png;base64,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\" width=\"432\">"
      ],
      "text/plain": [
       "<IPython.core.display.HTML object>"
      ]
     },
     "metadata": {},
     "output_type": "display_data"
    },
    {
     "data": {
      "text/plain": [
       "<matplotlib.collections.PathCollection at 0x7f7e3380b4f0>"
      ]
     },
     "execution_count": 46,
     "metadata": {},
     "output_type": "execute_result"
    }
   ],
   "source": [
    "%matplotlib notebook\n",
    "plt.scatter(x[:, 0],x[:, 1], alpha = 0.3)\n",
    "plt.scatter(selection[:,0],selection[:,1], c ='blue',s = 50, alpha = 0.4)"
   ]
  },
  {
   "cell_type": "code",
   "execution_count": 164,
   "id": "41921205",
   "metadata": {},
   "outputs": [
    {
     "data": {
      "text/plain": [
       "array([[0, 1, 2],\n",
       "       [3, 4, 5],\n",
       "       [6, 7, 8]])"
      ]
     },
     "execution_count": 164,
     "metadata": {},
     "output_type": "execute_result"
    },
    {
     "data": {
      "text/plain": [
       "array([0, 1, 2])"
      ]
     },
     "execution_count": 164,
     "metadata": {},
     "output_type": "execute_result"
    }
   ],
   "source": [
    "array1 = np.arange(9).reshape((3,3))\n",
    "array2 = np.arange(3)\n",
    "array1\n",
    "array2"
   ]
  },
  {
   "cell_type": "code",
   "execution_count": 166,
   "id": "ac25e1be",
   "metadata": {},
   "outputs": [],
   "source": [
    "array = np.arange(4)"
   ]
  },
  {
   "cell_type": "code",
   "execution_count": 167,
   "id": "68b15601",
   "metadata": {},
   "outputs": [
    {
     "data": {
      "text/plain": [
       "array([[ 0,  2,  4],\n",
       "       [ 3,  5,  7],\n",
       "       [ 6,  8, 10]])"
      ]
     },
     "execution_count": 167,
     "metadata": {},
     "output_type": "execute_result"
    },
    {
     "data": {
      "text/plain": [
       "array([[ 0,  1,  4],\n",
       "       [ 0,  4, 10],\n",
       "       [ 0,  7, 16]])"
      ]
     },
     "execution_count": 167,
     "metadata": {},
     "output_type": "execute_result"
    },
    {
     "data": {
      "text/plain": [
       "array([ 5, 14, 23])"
      ]
     },
     "execution_count": 167,
     "metadata": {},
     "output_type": "execute_result"
    },
    {
     "data": {
      "text/plain": [
       "<function numpy.mean(a, axis=None, dtype=None, out=None, keepdims=<no value>, *, where=<no value>)>"
      ]
     },
     "execution_count": 167,
     "metadata": {},
     "output_type": "execute_result"
    },
    {
     "data": {
      "text/plain": [
       "3"
      ]
     },
     "execution_count": 167,
     "metadata": {},
     "output_type": "execute_result"
    },
    {
     "data": {
      "text/plain": [
       "array([[0, 1, 2],\n",
       "       [3, 4, 5],\n",
       "       [6, 7, 8]])"
      ]
     },
     "execution_count": 167,
     "metadata": {},
     "output_type": "execute_result"
    },
    {
     "data": {
      "text/plain": [
       "0"
      ]
     },
     "execution_count": 167,
     "metadata": {},
     "output_type": "execute_result"
    },
    {
     "data": {
      "text/plain": [
       "array([[0, 1, 2],\n",
       "       [0, 1, 2],\n",
       "       [0, 1, 2]])"
      ]
     },
     "execution_count": 167,
     "metadata": {},
     "output_type": "execute_result"
    },
    {
     "data": {
      "text/plain": [
       "<function numpy.median(a, axis=None, out=None, overwrite_input=False, keepdims=False)>"
      ]
     },
     "execution_count": 167,
     "metadata": {},
     "output_type": "execute_result"
    },
    {
     "data": {
      "text/plain": [
       "<function numpy.cumsum(a, axis=None, dtype=None, out=None)>"
      ]
     },
     "execution_count": 167,
     "metadata": {},
     "output_type": "execute_result"
    },
    {
     "data": {
      "text/plain": [
       "<ufunc 'sqrt'>"
      ]
     },
     "execution_count": 167,
     "metadata": {},
     "output_type": "execute_result"
    },
    {
     "data": {
      "text/plain": [
       "<ufunc 'exp'>"
      ]
     },
     "execution_count": 167,
     "metadata": {},
     "output_type": "execute_result"
    },
    {
     "data": {
      "text/plain": [
       "<ufunc 'add'>"
      ]
     },
     "execution_count": 167,
     "metadata": {},
     "output_type": "execute_result"
    },
    {
     "data": {
      "text/plain": [
       "<ufunc 'subtract'>"
      ]
     },
     "execution_count": 167,
     "metadata": {},
     "output_type": "execute_result"
    }
   ],
   "source": [
    "#common vectorized computation methods\n",
    "array1 + array2\n",
    "array1 * array2\n",
    "np.dot(array1, array2)\n",
    "np.mean\n",
    "\n",
    "np.max(array, axis = None) # or '0' for column-wise, or '1' for row-wise\n",
    "np.maximum(array1, array2)\n",
    "np.min(array, axis = None) # or '0' for column-wise, or '1' for row-wise\n",
    "np.minimum(array1, array2)\n",
    "np.median\n",
    "np.cumsum\n",
    "np.sqrt\n",
    "np.exp\n",
    "np.add\n",
    "np.subtract"
   ]
  },
  {
   "cell_type": "code",
   "execution_count": 116,
   "id": "3b618250",
   "metadata": {},
   "outputs": [
    {
     "data": {
      "text/plain": [
       "array([[ 28,  17,  18,  30],\n",
       "       [ 94,  83,  66, 114],\n",
       "       [160, 149, 114, 198],\n",
       "       [226, 215, 162, 282]])"
      ]
     },
     "execution_count": 116,
     "metadata": {},
     "output_type": "execute_result"
    }
   ],
   "source": [
    "array1 = np.arange(12).reshape((4,3))\n",
    "array2 = np.random.randint(1,20,(3,4))\n",
    "\n",
    "np.dot(array1, array2)\n",
    "#np.mean(array1)\n",
    "#print(array1)\n",
    "#np.max(array1,axis=1)\n",
    "#np.min(array1, axis = 0)"
   ]
  },
  {
   "cell_type": "markdown",
   "id": "36ebe30c",
   "metadata": {},
   "source": [
    "### Broadcasting\n",
    "a set of rules for applying binary ufuncs (addition, subtraction, multiplication, etc.) on arrays of different sizes.\n",
    "\n",
    "- Rule 1: If the two arrays differ in their number of dimensions, the shape of the one with fewer dimensions is padded with ones on its leading (left) side.\n",
    "- Rule 2: If the shape of the two arrays does not match in any dimension, the array with shape equal to 1 in that dimension is stretched to match the other shape.\n",
    "- Rule 3: If in any dimension the sizes disagree and neither is equal to 1, an error is raised."
   ]
  },
  {
   "cell_type": "code",
   "execution_count": 6,
   "id": "d831606e",
   "metadata": {},
   "outputs": [
    {
     "name": "stdout",
     "output_type": "stream",
     "text": [
      "(3,) \n",
      " (3, 3) \n",
      " (3, 2)\n",
      "[[1 1]\n",
      " [1 1]\n",
      " [1 1]]\n"
     ]
    }
   ],
   "source": [
    "#Broadcasting\n",
    "a1 = np.arange(3)\n",
    "a2 = np.ones((3,3),dtype='int')\n",
    "a3 = np.ones((3,2),dtype='int')\n",
    "\n",
    "print(a1.shape,'\\n',a2.shape,'\\n',a3.shape)\n",
    "a1 + 5\n",
    "\n",
    "print(a3)\n",
    "#a3 + a1\n"
   ]
  },
  {
   "cell_type": "code",
   "execution_count": 3,
   "id": "b6825f82",
   "metadata": {},
   "outputs": [
    {
     "data": {
      "text/plain": [
       "array([ 1,  3,  6, 10, 15])"
      ]
     },
     "execution_count": 3,
     "metadata": {},
     "output_type": "execute_result"
    }
   ],
   "source": [
    "x = np.arange(1, 6)\n",
    "y = np.arange(2, 7)\n",
    "\n",
    "#np.add(x,y)\n",
    "\n",
    "#reduce: repeatedly applies a given operation to the elements of an array until only a single result remains.\n",
    "np.add.reduce(x)\n",
    "np.multiply.reduce(x)\n",
    "\n",
    "#store all the intermediate results of the computation\n",
    "np.add.accumulate(x)\n",
    "\n",
    "#create a multiplication table\n",
    "#np.outer : computer outer product of two vectors\n"
   ]
  },
  {
   "cell_type": "code",
   "execution_count": 12,
   "id": "6d78a571",
   "metadata": {},
   "outputs": [
    {
     "name": "stdout",
     "output_type": "stream",
     "text": [
      "[[38 13 73 10]\n",
      " [76  6 80 65]\n",
      " [17  2 77 72]]\n"
     ]
    },
    {
     "data": {
      "text/plain": [
       "array([38, 13, 73, 10, 76, 80, 65, 17, 77, 72])"
      ]
     },
     "execution_count": 12,
     "metadata": {},
     "output_type": "execute_result"
    }
   ],
   "source": [
    "#Working with Boolean Arrays\n",
    "np.random.seed(1)\n",
    "x = np.random.randint(1,100,(3,4))\n",
    "\n",
    "print(x)\n",
    "x < 6\n",
    "# how many values less than 6?\n",
    "np.count_nonzero(x < 6)\n",
    "np.sum(x < 6)\n",
    "\n",
    "# how many values less than 6 in each row?\n",
    "np.sum(x < 6, axis = 1)\n",
    "\n",
    "# are there any values greater than 8?\n",
    "np.any(x > 8)\n",
    "\n",
    "# are all values in each row less than 8?\n",
    "np.all(x > 8, axis = 1)\n",
    "\n",
    "# what values are greater than 8?\n",
    "x[x > 8]\n"
   ]
  },
  {
   "cell_type": "code",
   "execution_count": 15,
   "id": "07d4155c",
   "metadata": {},
   "outputs": [
    {
     "data": {
      "text/html": [
       "<div>\n",
       "<style scoped>\n",
       "    .dataframe tbody tr th:only-of-type {\n",
       "        vertical-align: middle;\n",
       "    }\n",
       "\n",
       "    .dataframe tbody tr th {\n",
       "        vertical-align: top;\n",
       "    }\n",
       "\n",
       "    .dataframe thead th {\n",
       "        text-align: right;\n",
       "    }\n",
       "</style>\n",
       "<table border=\"1\" class=\"dataframe\">\n",
       "  <thead>\n",
       "    <tr style=\"text-align: right;\">\n",
       "      <th></th>\n",
       "      <th>name</th>\n",
       "      <th>height(cm)</th>\n",
       "    </tr>\n",
       "    <tr>\n",
       "      <th>order</th>\n",
       "      <th></th>\n",
       "      <th></th>\n",
       "    </tr>\n",
       "  </thead>\n",
       "  <tbody>\n",
       "    <tr>\n",
       "      <th>1</th>\n",
       "      <td>George Washington</td>\n",
       "      <td>189</td>\n",
       "    </tr>\n",
       "    <tr>\n",
       "      <th>2</th>\n",
       "      <td>John Adams</td>\n",
       "      <td>170</td>\n",
       "    </tr>\n",
       "    <tr>\n",
       "      <th>3</th>\n",
       "      <td>Thomas Jefferson</td>\n",
       "      <td>189</td>\n",
       "    </tr>\n",
       "    <tr>\n",
       "      <th>4</th>\n",
       "      <td>James Madison</td>\n",
       "      <td>163</td>\n",
       "    </tr>\n",
       "    <tr>\n",
       "      <th>5</th>\n",
       "      <td>James Monroe</td>\n",
       "      <td>183</td>\n",
       "    </tr>\n",
       "    <tr>\n",
       "      <th>6</th>\n",
       "      <td>John Quincy Adams</td>\n",
       "      <td>171</td>\n",
       "    </tr>\n",
       "    <tr>\n",
       "      <th>7</th>\n",
       "      <td>Andrew Jackson</td>\n",
       "      <td>185</td>\n",
       "    </tr>\n",
       "    <tr>\n",
       "      <th>8</th>\n",
       "      <td>Martin Van Buren</td>\n",
       "      <td>168</td>\n",
       "    </tr>\n",
       "    <tr>\n",
       "      <th>9</th>\n",
       "      <td>William Henry Harrison</td>\n",
       "      <td>173</td>\n",
       "    </tr>\n",
       "    <tr>\n",
       "      <th>10</th>\n",
       "      <td>John Tyler</td>\n",
       "      <td>183</td>\n",
       "    </tr>\n",
       "    <tr>\n",
       "      <th>11</th>\n",
       "      <td>James K. Polk</td>\n",
       "      <td>173</td>\n",
       "    </tr>\n",
       "    <tr>\n",
       "      <th>12</th>\n",
       "      <td>Zachary Taylor</td>\n",
       "      <td>173</td>\n",
       "    </tr>\n",
       "    <tr>\n",
       "      <th>13</th>\n",
       "      <td>Millard Fillmore</td>\n",
       "      <td>175</td>\n",
       "    </tr>\n",
       "    <tr>\n",
       "      <th>14</th>\n",
       "      <td>Franklin Pierce</td>\n",
       "      <td>178</td>\n",
       "    </tr>\n",
       "    <tr>\n",
       "      <th>15</th>\n",
       "      <td>James Buchanan</td>\n",
       "      <td>183</td>\n",
       "    </tr>\n",
       "    <tr>\n",
       "      <th>16</th>\n",
       "      <td>Abraham Lincoln</td>\n",
       "      <td>193</td>\n",
       "    </tr>\n",
       "    <tr>\n",
       "      <th>17</th>\n",
       "      <td>Andrew Johnson</td>\n",
       "      <td>178</td>\n",
       "    </tr>\n",
       "    <tr>\n",
       "      <th>18</th>\n",
       "      <td>Ulysses S. Grant</td>\n",
       "      <td>173</td>\n",
       "    </tr>\n",
       "    <tr>\n",
       "      <th>19</th>\n",
       "      <td>Rutherford B. Hayes</td>\n",
       "      <td>174</td>\n",
       "    </tr>\n",
       "    <tr>\n",
       "      <th>20</th>\n",
       "      <td>James A. Garfield</td>\n",
       "      <td>183</td>\n",
       "    </tr>\n",
       "    <tr>\n",
       "      <th>21</th>\n",
       "      <td>Chester A. Arthur</td>\n",
       "      <td>183</td>\n",
       "    </tr>\n",
       "    <tr>\n",
       "      <th>23</th>\n",
       "      <td>Benjamin Harrison</td>\n",
       "      <td>168</td>\n",
       "    </tr>\n",
       "    <tr>\n",
       "      <th>25</th>\n",
       "      <td>William McKinley</td>\n",
       "      <td>170</td>\n",
       "    </tr>\n",
       "    <tr>\n",
       "      <th>26</th>\n",
       "      <td>Theodore Roosevelt</td>\n",
       "      <td>178</td>\n",
       "    </tr>\n",
       "    <tr>\n",
       "      <th>27</th>\n",
       "      <td>William Howard Taft</td>\n",
       "      <td>182</td>\n",
       "    </tr>\n",
       "    <tr>\n",
       "      <th>28</th>\n",
       "      <td>Woodrow Wilson</td>\n",
       "      <td>180</td>\n",
       "    </tr>\n",
       "    <tr>\n",
       "      <th>29</th>\n",
       "      <td>Warren G. Harding</td>\n",
       "      <td>183</td>\n",
       "    </tr>\n",
       "    <tr>\n",
       "      <th>30</th>\n",
       "      <td>Calvin Coolidge</td>\n",
       "      <td>178</td>\n",
       "    </tr>\n",
       "    <tr>\n",
       "      <th>31</th>\n",
       "      <td>Herbert Hoover</td>\n",
       "      <td>182</td>\n",
       "    </tr>\n",
       "    <tr>\n",
       "      <th>32</th>\n",
       "      <td>Franklin D. Roosevelt</td>\n",
       "      <td>188</td>\n",
       "    </tr>\n",
       "    <tr>\n",
       "      <th>33</th>\n",
       "      <td>Harry S. Truman</td>\n",
       "      <td>175</td>\n",
       "    </tr>\n",
       "    <tr>\n",
       "      <th>34</th>\n",
       "      <td>Dwight D. Eisenhower</td>\n",
       "      <td>179</td>\n",
       "    </tr>\n",
       "    <tr>\n",
       "      <th>35</th>\n",
       "      <td>John F. Kennedy</td>\n",
       "      <td>183</td>\n",
       "    </tr>\n",
       "    <tr>\n",
       "      <th>36</th>\n",
       "      <td>Lyndon B. Johnson</td>\n",
       "      <td>193</td>\n",
       "    </tr>\n",
       "    <tr>\n",
       "      <th>37</th>\n",
       "      <td>Richard Nixon</td>\n",
       "      <td>182</td>\n",
       "    </tr>\n",
       "    <tr>\n",
       "      <th>38</th>\n",
       "      <td>Gerald Ford</td>\n",
       "      <td>183</td>\n",
       "    </tr>\n",
       "    <tr>\n",
       "      <th>39</th>\n",
       "      <td>Jimmy Carter</td>\n",
       "      <td>177</td>\n",
       "    </tr>\n",
       "    <tr>\n",
       "      <th>40</th>\n",
       "      <td>Ronald Reagan</td>\n",
       "      <td>185</td>\n",
       "    </tr>\n",
       "    <tr>\n",
       "      <th>41</th>\n",
       "      <td>George H. W. Bush</td>\n",
       "      <td>188</td>\n",
       "    </tr>\n",
       "    <tr>\n",
       "      <th>42</th>\n",
       "      <td>Bill Clinton</td>\n",
       "      <td>188</td>\n",
       "    </tr>\n",
       "    <tr>\n",
       "      <th>43</th>\n",
       "      <td>George W. Bush</td>\n",
       "      <td>182</td>\n",
       "    </tr>\n",
       "    <tr>\n",
       "      <th>44</th>\n",
       "      <td>Barack Obama</td>\n",
       "      <td>185</td>\n",
       "    </tr>\n",
       "  </tbody>\n",
       "</table>\n",
       "</div>"
      ],
      "text/plain": [
       "                         name  height(cm)\n",
       "order                                    \n",
       "1           George Washington         189\n",
       "2                  John Adams         170\n",
       "3            Thomas Jefferson         189\n",
       "4               James Madison         163\n",
       "5                James Monroe         183\n",
       "6           John Quincy Adams         171\n",
       "7              Andrew Jackson         185\n",
       "8            Martin Van Buren         168\n",
       "9      William Henry Harrison         173\n",
       "10                 John Tyler         183\n",
       "11              James K. Polk         173\n",
       "12             Zachary Taylor         173\n",
       "13           Millard Fillmore         175\n",
       "14            Franklin Pierce         178\n",
       "15             James Buchanan         183\n",
       "16            Abraham Lincoln         193\n",
       "17             Andrew Johnson         178\n",
       "18           Ulysses S. Grant         173\n",
       "19        Rutherford B. Hayes         174\n",
       "20          James A. Garfield         183\n",
       "21          Chester A. Arthur         183\n",
       "23          Benjamin Harrison         168\n",
       "25           William McKinley         170\n",
       "26         Theodore Roosevelt         178\n",
       "27        William Howard Taft         182\n",
       "28             Woodrow Wilson         180\n",
       "29          Warren G. Harding         183\n",
       "30            Calvin Coolidge         178\n",
       "31             Herbert Hoover         182\n",
       "32      Franklin D. Roosevelt         188\n",
       "33            Harry S. Truman         175\n",
       "34       Dwight D. Eisenhower         179\n",
       "35            John F. Kennedy         183\n",
       "36          Lyndon B. Johnson         193\n",
       "37              Richard Nixon         182\n",
       "38                Gerald Ford         183\n",
       "39               Jimmy Carter         177\n",
       "40              Ronald Reagan         185\n",
       "41          George H. W. Bush         188\n",
       "42               Bill Clinton         188\n",
       "43             George W. Bush         182\n",
       "44               Barack Obama         185"
      ]
     },
     "execution_count": 15,
     "metadata": {},
     "output_type": "execute_result"
    }
   ],
   "source": [
    "#example\n",
    "\n",
    "#president_heights.csv\n",
    "\n",
    "#https://github.com/jakevdp/PythonDataScienceHandbook/blob/master/notebooks/data/president_heights.csv\n",
    "\n",
    "import pandas as pd\n",
    "url = 'https://raw.githubusercontent.com/jakevdp/PythonDataScienceHandbook/master/notebooks/data/president_heights.csv'\n",
    "df = pd.read_csv(url,index_col = 0)\n",
    "df"
   ]
  },
  {
   "cell_type": "code",
   "execution_count": 19,
   "id": "2cf396e5",
   "metadata": {},
   "outputs": [
    {
     "data": {
      "text/plain": [
       "array([189, 170, 189, 163, 183, 171, 185, 168, 173, 183, 173, 173, 175,\n",
       "       178, 183, 193, 178, 173, 174, 183, 183, 168, 170, 178, 182, 180,\n",
       "       183, 178, 182, 188, 175, 179, 183, 193, 182, 183, 177, 185, 188,\n",
       "       188, 182, 185])"
      ]
     },
     "execution_count": 19,
     "metadata": {},
     "output_type": "execute_result"
    }
   ],
   "source": [
    "height = np.array(df['height(cm)'])"
   ]
  },
  {
   "cell_type": "code",
   "execution_count": 21,
   "id": "03fffbc3",
   "metadata": {},
   "outputs": [
    {
     "name": "stdout",
     "output_type": "stream",
     "text": [
      "Mean height:  179.73809523809524\n",
      "Standard deviation: 6.931843442745892\n",
      "Minimum height:  163\n",
      "Maximum height:  193\n"
     ]
    }
   ],
   "source": [
    "height = np.array(df['height(cm)'])\n",
    "\n",
    "#check basic statistics\n",
    "print(\"Mean height: \", height.mean())\n",
    "print(\"Standard deviation:\", height.std() )\n",
    "print(\"Minimum height: \", height.min())\n",
    "print(\"Maximum height: \", height.max())"
   ]
  },
  {
   "cell_type": "code",
   "execution_count": 30,
   "id": "41fd45fc",
   "metadata": {},
   "outputs": [
    {
     "name": "stdout",
     "output_type": "stream",
     "text": [
      "[170 183 171 168 173 183 173 173 175 178 183 178 173 174 183 183 168 170\n",
      " 178 182 180 183 178 182 175 179 183 182 183 177 182]\n",
      "[170 163 183 171 168 173 183 173 173 175 178 183 178 173 174 183 183 168\n",
      " 170 178 182 180 183 178 182 175 179 183 182 183 177 182]\n"
     ]
    }
   ],
   "source": [
    "#find heights greater than 165cm and less than 185cm\n",
    "print(height[ (height > 165) & (height < 185)])"
   ]
  },
  {
   "cell_type": "code",
   "execution_count": 35,
   "id": "1716b547",
   "metadata": {},
   "outputs": [
    {
     "name": "stdout",
     "output_type": "stream",
     "text": [
      "[[38 13 73 10]\n",
      " [76  6 80 65]\n",
      " [17  2 77 72]]\n"
     ]
    },
    {
     "data": {
      "text/plain": [
       "numpy.ndarray"
      ]
     },
     "execution_count": 35,
     "metadata": {},
     "output_type": "execute_result"
    }
   ],
   "source": [
    "#sorting\n",
    "np.random.seed(1)\n",
    "x = np.random.randint(1,100,(3,4))\n",
    "\n",
    "print(x)\n",
    "#np.sort()\n",
    "#sort arrays without modifying the input\n",
    "np.sort(x)\n",
    "np.sort(x, axis = 0)\n",
    "\n",
    "#np.argsort(): returns the indices of the sorted elements\n",
    "type(np.argsort(x))\n"
   ]
  },
  {
   "cell_type": "code",
   "execution_count": 45,
   "id": "002eb186",
   "metadata": {},
   "outputs": [
    {
     "data": {
      "text/plain": [
       "('Alice', 25, 55.)"
      ]
     },
     "execution_count": 45,
     "metadata": {},
     "output_type": "execute_result"
    }
   ],
   "source": [
    "#Numpy structured arrays\n",
    "#provide efficient storage for compound, heterogeneous data\n",
    "\n",
    "name = ['Alice', 'Bob', 'Cathy', 'Doug']\n",
    "age = [25, 45, 37, 19]\n",
    "weight = [55.0, 85.5, 68.0, 61.5]\n",
    "\n",
    "# Use a compound data type for structured arrays\n",
    "data = np.zeros(4, dtype={'names':('name', 'age', 'weight'),\n",
    "'formats':('U10', 'int', 'float')})\n",
    "\n",
    "data['name'] = name\n",
    "data['age'] = age\n",
    "data['weight'] = weight\n",
    "data\n",
    "\n",
    "# Get all names\n",
    "data['name']\n",
    "\n",
    "# Get first row of data\n",
    "data[0]\n",
    "\n",
    "# Get the name from the last row\n",
    "\n",
    "\n",
    "# Get names where age is under 30\n"
   ]
  }
 ],
 "metadata": {
  "kernelspec": {
   "display_name": "Python 3",
   "language": "python",
   "name": "python3"
  },
  "language_info": {
   "codemirror_mode": {
    "name": "ipython",
    "version": 3
   },
   "file_extension": ".py",
   "mimetype": "text/x-python",
   "name": "python",
   "nbconvert_exporter": "python",
   "pygments_lexer": "ipython3",
   "version": "3.9.5"
  }
 },
 "nbformat": 4,
 "nbformat_minor": 5
}
