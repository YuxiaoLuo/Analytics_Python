{
 "cells": [
  {
   "cell_type": "markdown",
   "id": "d379e4aa",
   "metadata": {
    "slideshow": {
     "slide_type": "slide"
    }
   },
   "source": [
    "# Numpy\n",
    "\n",
    "\n",
    "NumPy (short for Numerical Python) provides an efficient interface to store and operate on dense data buffers. \n",
    "- In some ways, NumPy arrays are like Python’s built-in list type, but NumPy arrays provide much more efficient storage and data operations as the arrays grow larger in size.\n",
    "- NumPy arrays form the core of nearly the entire ecosystem of data science tools in Python\n",
    "\n",
    "First, install `numpy` and load it. I checked my version of `numpy` and upgraded it since it's outdated."
   ]
  },
  {
   "cell_type": "code",
   "execution_count": 33,
   "id": "8e18ebc8",
   "metadata": {},
   "outputs": [],
   "source": [
    "# %%cmd\n",
    "# jupyter nbconvert --to slides Numpy.ipynb"
   ]
  },
  {
   "cell_type": "code",
   "execution_count": 5,
   "id": "8f2deabe",
   "metadata": {
    "slideshow": {
     "slide_type": "slide"
    }
   },
   "outputs": [
    {
     "data": {
      "text/plain": [
       "'1.24.1'"
      ]
     },
     "execution_count": 5,
     "metadata": {},
     "output_type": "execute_result"
    }
   ],
   "source": [
    "import numpy as np\n",
    "np.__version__"
   ]
  },
  {
   "cell_type": "code",
   "execution_count": 4,
   "id": "99eac190",
   "metadata": {
    "slideshow": {
     "slide_type": "fragment"
    }
   },
   "outputs": [],
   "source": [
    "# %%cmd\n",
    "# pip list --outdated"
   ]
  },
  {
   "cell_type": "code",
   "execution_count": null,
   "id": "9f65fcc6",
   "metadata": {
    "slideshow": {
     "slide_type": "fragment"
    }
   },
   "outputs": [],
   "source": [
    "# %%cmd\n",
    "# pip install --upgrade numpy"
   ]
  },
  {
   "cell_type": "code",
   "execution_count": 4,
   "id": "640cc50c",
   "metadata": {
    "slideshow": {
     "slide_type": "fragment"
    }
   },
   "outputs": [],
   "source": [
    "from IPython.core.interactiveshell import InteractiveShell\n",
    "InteractiveShell.ast_node_interactivity = \"all\""
   ]
  },
  {
   "cell_type": "markdown",
   "id": "9d55de64",
   "metadata": {
    "slideshow": {
     "slide_type": "fragment"
    }
   },
   "source": [
    "### Built-In Documentation\n",
    "- Display all the contents of the numpy namespace: `np.<TAB>`\n",
    "\n",
    "- Display NumPy's built-in documentation: `np?`\n",
    "\n",
    "- More detailed documentation, tutorials and other resources, go to http://www.numpy.org."
   ]
  },
  {
   "cell_type": "markdown",
   "id": "9bc943de",
   "metadata": {
    "slideshow": {
     "slide_type": "slide"
    }
   },
   "source": [
    "## Concepts of Array\n",
    "An array is a grid of values. It contains the information of the raw data, such as:\n",
    "- How to locate an element\n",
    "- How to interpret an element"
   ]
  },
  {
   "cell_type": "markdown",
   "id": "d76edd55",
   "metadata": {
    "slideshow": {
     "slide_type": "slide"
    }
   },
   "source": [
    "### Data Types in Python\n",
    "\n",
    "- The standard Python implementation is written in C. \n",
    "    - Every Python object is simply a cleverly disguised C structure, which contains not only its value, but other information as well.\n",
    "\n",
    "- This extra information in the Python integer structure is what allows Python to be coded so freely and dynamically. Of course, it comes with cost. \n",
    "\n",
    "- There is some overhead in storing an integer in Python as compared to an integer in a compiled language like C. \n",
    "\n",
    "\n",
    "For example, when you create an integer `x = 1` in Python, x is not jsut a \"raw\" integer. "
   ]
  },
  {
   "cell_type": "markdown",
   "id": "a823720c",
   "metadata": {
    "slideshow": {
     "slide_type": "slide"
    }
   },
   "source": [
    "A single integer in Python (e.g., version 3.4) contains 4 pieces:\n",
    "1. `ob_refcnt`, a reference count that helps Python silently handle memory allocation and deallocation\n",
    "2. `ob_type`, encodes the type of the variable\n",
    "3. `ob_size`, specifies the size of the following data members\n",
    "4. `ob_digit`, contains the actual integer value that we expect the Python variable to represent"
   ]
  },
  {
   "cell_type": "markdown",
   "id": "f3165af7",
   "metadata": {
    "slideshow": {
     "slide_type": "slide"
    }
   },
   "source": [
    "<br><br>\n",
    "<center><img src=\"images/Numpy_1.JPG\" width = \"500\"></center>\n",
    "<center>Difference between C and Python integers (Ref. Python Data Science Handbook)</center>"
   ]
  },
  {
   "cell_type": "markdown",
   "id": "bc7717f9",
   "metadata": {
    "slideshow": {
     "slide_type": "slide"
    }
   },
   "source": [
    "### Dynamic-type list & fixed-type array (NumPy-style)\n",
    "\n",
    "There are various differences between list and Numpy array.\n",
    "\n",
    "1. The array contains a single pointer to one contiguous block of data. \n",
    "\n",
    "2. The Python list, contains a pointer to a block of pointers, each of which in turn points to full Python object like the Python integer. \n",
    "\n",
    "Then, why would we prefer one towards the other?\n",
    "\n",
    "1. The advantage of list is flexibility: because each list element is a full structure containing both data and type information, the list can be filled with data of any desired type\n",
    "\n",
    "2. Fixed-type NumPy-style arrays lack this flexibility, but are much more efficient for storing and manipulating data."
   ]
  },
  {
   "cell_type": "markdown",
   "id": "1be065ba",
   "metadata": {},
   "source": [
    "\n",
    "<center><img src=\"images/Numpy_4.JPG\" width = \"600\"></center>\n",
    "<center>Difference between C and Python integers (Ref. Python Data Science Handbook)</center>"
   ]
  },
  {
   "cell_type": "markdown",
   "id": "98251bec",
   "metadata": {},
   "source": [
    "![Numpy4](images/Numpy_4.jpg)\n",
    "*Difference between C and Python lists (Ref. Python Data Science Handbook p.38)*"
   ]
  },
  {
   "cell_type": "markdown",
   "id": "204aa7f9",
   "metadata": {
    "slideshow": {
     "slide_type": "-"
    }
   },
   "source": [
    "**Note**: it's important to know about the basic data structure in Python: list, dictionary, etc. If you forget, please go to this tutorial to review: [Summary of List in Python](https://github.com/YuxiaoLuo/Intro_Python/blob/main/Week12/12_Lists.ipynb)."
   ]
  },
  {
   "cell_type": "code",
   "execution_count": 68,
   "id": "14ad9fe5",
   "metadata": {
    "slideshow": {
     "slide_type": "slide"
    }
   },
   "outputs": [
    {
     "data": {
      "text/plain": [
       "[0, 1, 2, 3, 4, 5, 6, 7, 8, 9]"
      ]
     },
     "execution_count": 68,
     "metadata": {},
     "output_type": "execute_result"
    }
   ],
   "source": [
    "# we can use list to hold multiple items in Python\n",
    "L = list(range(10))\n",
    "L"
   ]
  },
  {
   "cell_type": "code",
   "execution_count": 69,
   "id": "a9c08c68",
   "metadata": {
    "slideshow": {
     "slide_type": "-"
    }
   },
   "outputs": [
    {
     "data": {
      "text/plain": [
       "['0', '1', '2', '3', '4', '5', '6', '7', '8', '9']"
      ]
     },
     "execution_count": 69,
     "metadata": {},
     "output_type": "execute_result"
    }
   ],
   "source": [
    "# convert each element to string\n",
    "L2 = [str(c) for c in L]\n",
    "L2"
   ]
  },
  {
   "cell_type": "code",
   "execution_count": 72,
   "id": "15a1dd7b",
   "metadata": {
    "slideshow": {
     "slide_type": "-"
    }
   },
   "outputs": [
    {
     "data": {
      "text/plain": [
       "[bool, str, float, int]"
      ]
     },
     "execution_count": 72,
     "metadata": {},
     "output_type": "execute_result"
    }
   ],
   "source": [
    "# list can store different types\n",
    "L3 = [True, \"2\", 3.0, 4]\n",
    "[type(element) for element in L3]"
   ]
  },
  {
   "cell_type": "markdown",
   "id": "a29f13c3",
   "metadata": {
    "slideshow": {
     "slide_type": "slide"
    }
   },
   "source": [
    "Python offers a built-in `array` module (available since Python 3.3) to create dense arrays of a uniform type. But it's less useful than the `Numpy` array. In the example below, `'i'` is type code indicating the contents are integers."
   ]
  },
  {
   "cell_type": "code",
   "execution_count": 7,
   "id": "0cee7531",
   "metadata": {},
   "outputs": [
    {
     "name": "stdout",
     "output_type": "stream",
     "text": [
      "[1, 2, 3, 4, 5, 6, 7, 8, 9, 10]\n",
      "array('i', [1, 2, 3, 4, 5, 6, 7, 8, 9, 10])\n"
     ]
    }
   ],
   "source": [
    "import array\n",
    "\n",
    "# create a list from 1 to 10\n",
    "L = list(range(1,11))\n",
    "print(L)\n",
    "\n",
    "# create an array\n",
    "A = array.array('i', L)\n",
    "print(A)"
   ]
  },
  {
   "cell_type": "code",
   "execution_count": 4,
   "id": "277926d9",
   "metadata": {},
   "outputs": [],
   "source": [
    "# use Help document to learn about the object\n",
    "array.array?"
   ]
  },
  {
   "cell_type": "markdown",
   "id": "b53c3341",
   "metadata": {
    "slideshow": {
     "slide_type": "slide"
    }
   },
   "source": [
    "## NumPy Arrays\n",
    "#### Overview\n",
    "- Support vectorized operations, while lists don't\n",
    "- In the context of high-level languages like Python, Matlab, and R, the term vectorization describes the use of optimized, pre-compiled code written in a low-level language (e.g. C) to perform mathematical operations over a sequence of data\n",
    "- cannot be changed in size -- have to create a new array or overwrite existing one"
   ]
  },
  {
   "cell_type": "markdown",
   "id": "50afb71f",
   "metadata": {
    "slideshow": {
     "slide_type": "subslide"
    }
   },
   "source": [
    "- each has one and only one dtype - all items in each array are of that same dtype\n",
    "- an equivalent numpy array occupies much less space than a python list\n",
    "- http://www.numpy.org"
   ]
  },
  {
   "cell_type": "markdown",
   "id": "827391e0",
   "metadata": {
    "slideshow": {
     "slide_type": "slide"
    }
   },
   "source": [
    "### Creating array from Python lists"
   ]
  },
  {
   "cell_type": "markdown",
   "id": "2b10c93e",
   "metadata": {},
   "source": [
    "Create an array: `array(object, dtype=None, *, copy=True, order='K', subok=False, ndmin=0, like=None)`"
   ]
  },
  {
   "cell_type": "code",
   "execution_count": 12,
   "id": "5c025e2f",
   "metadata": {},
   "outputs": [],
   "source": [
    "np.array?"
   ]
  },
  {
   "cell_type": "code",
   "execution_count": 171,
   "id": "bfa81ec6",
   "metadata": {
    "slideshow": {
     "slide_type": "slide"
    }
   },
   "outputs": [
    {
     "data": {
      "text/plain": [
       "numpy.ndarray"
      ]
     },
     "execution_count": 171,
     "metadata": {},
     "output_type": "execute_result"
    },
    {
     "data": {
      "text/plain": [
       "array([3.14, 4.  , 2.  , 3.  ])"
      ]
     },
     "execution_count": 171,
     "metadata": {},
     "output_type": "execute_result"
    }
   ],
   "source": [
    "# create arrays from Python lists\n",
    "x = np.array([1, 4, 2, 5, 3])\n",
    "\n",
    "type(x)\n",
    "\n",
    "# NumPy is constrained to arrays containing the same type \n",
    "# integers are upcast to floating point \n",
    "np.array([3.14, 4, 2, 3])"
   ]
  },
  {
   "cell_type": "code",
   "execution_count": 172,
   "id": "84f5ef94",
   "metadata": {},
   "outputs": [
    {
     "data": {
      "text/plain": [
       "array([1., 2., 3., 4.], dtype=float32)"
      ]
     },
     "execution_count": 172,
     "metadata": {},
     "output_type": "execute_result"
    }
   ],
   "source": [
    "# set the data type: use dtype keyword\n",
    "# https://numpy.org/doc/stable/reference/arrays.dtypes.html \n",
    "np.array([1, 2, 3, 4], dtype = \"float32\")"
   ]
  },
  {
   "cell_type": "code",
   "execution_count": 176,
   "id": "b6fe9a8b",
   "metadata": {
    "slideshow": {
     "slide_type": "slide"
    }
   },
   "outputs": [
    {
     "data": {
      "text/plain": [
       "array([2, 3, 4])"
      ]
     },
     "execution_count": 176,
     "metadata": {},
     "output_type": "execute_result"
    }
   ],
   "source": [
    "# convert float to int\n",
    "np.array([2.3, 3.9, 4.4], dtype = \"int32\")"
   ]
  },
  {
   "cell_type": "markdown",
   "id": "96f3be6e",
   "metadata": {},
   "source": [
    "Create multidimensional arrays with list comprehension."
   ]
  },
  {
   "cell_type": "code",
   "execution_count": 79,
   "id": "efc6d826",
   "metadata": {},
   "outputs": [
    {
     "data": {
      "text/plain": [
       "array([[2, 3, 4, 5],\n",
       "       [4, 5, 6, 7],\n",
       "       [6, 7, 8, 9]])"
      ]
     },
     "execution_count": 79,
     "metadata": {},
     "output_type": "execute_result"
    }
   ],
   "source": [
    "# nested lists result in multidimensional arrays\n",
    "np.array([range(i, i+4) for i in [2, 4, 6]])"
   ]
  },
  {
   "cell_type": "markdown",
   "id": "3ecfd103",
   "metadata": {
    "slideshow": {
     "slide_type": "slide"
    }
   },
   "source": [
    "### Creating array from scratch\n",
    "Numpy offers built-in routines to create arrays."
   ]
  },
  {
   "cell_type": "code",
   "execution_count": 184,
   "id": "1895c15d",
   "metadata": {},
   "outputs": [
    {
     "data": {
      "text/plain": [
       "array([0, 0, 0, 0, 0, 0, 0, 0, 0, 0])"
      ]
     },
     "execution_count": 184,
     "metadata": {},
     "output_type": "execute_result"
    },
    {
     "data": {
      "text/plain": [
       "array([[1., 1., 1., 1., 1.],\n",
       "       [1., 1., 1., 1., 1.],\n",
       "       [1., 1., 1., 1., 1.]])"
      ]
     },
     "execution_count": 184,
     "metadata": {},
     "output_type": "execute_result"
    },
    {
     "data": {
      "text/plain": [
       "array([[3.14, 3.14, 3.14, 3.14, 3.14],\n",
       "       [3.14, 3.14, 3.14, 3.14, 3.14],\n",
       "       [3.14, 3.14, 3.14, 3.14, 3.14]])"
      ]
     },
     "execution_count": 184,
     "metadata": {},
     "output_type": "execute_result"
    }
   ],
   "source": [
    "# length-10 integer array filled with zeros\n",
    "np.zeros(10, dtype = int)\n",
    "\n",
    "# 3x5 floating-point array filled with 1s\n",
    "np.ones((3,5), dtype = float)\n",
    "\n",
    "# 3x5 array filled with 3.14 \n",
    "np.full((3,5), 3.14)"
   ]
  },
  {
   "cell_type": "code",
   "execution_count": 190,
   "id": "259ef90f",
   "metadata": {},
   "outputs": [
    {
     "data": {
      "text/plain": [
       "array([ 0,  2,  4,  6,  8, 10, 12, 14, 16, 18])"
      ]
     },
     "execution_count": 190,
     "metadata": {},
     "output_type": "execute_result"
    }
   ],
   "source": [
    "# array filled with linear sequence \n",
    "# starting at 0, ending at 20, stepping by 2\n",
    "np.arange(0, 20, 2)"
   ]
  },
  {
   "cell_type": "code",
   "execution_count": 193,
   "id": "b4ffc517",
   "metadata": {},
   "outputs": [
    {
     "data": {
      "text/plain": [
       "array([0.  , 0.25, 0.5 , 0.75, 1.  ])"
      ]
     },
     "execution_count": 193,
     "metadata": {},
     "output_type": "execute_result"
    }
   ],
   "source": [
    "# array of five values evenly spaced between 0 and 1\n",
    "np.linspace(0, 1, 5)"
   ]
  },
  {
   "cell_type": "code",
   "execution_count": 85,
   "id": "99878cdd",
   "metadata": {},
   "outputs": [
    {
     "data": {
      "text/plain": [
       "array([[0.33739616, 0.64817187, 0.36824154],\n",
       "       [0.95715516, 0.14035078, 0.87008726],\n",
       "       [0.47360805, 0.80091075, 0.52047748]])"
      ]
     },
     "execution_count": 85,
     "metadata": {},
     "output_type": "execute_result"
    }
   ],
   "source": [
    "# 3x3 array of uniformly distributed \n",
    "# random values between 0 and 1\n",
    "np.random.random((3,3))"
   ]
  },
  {
   "cell_type": "code",
   "execution_count": 197,
   "id": "9a63eb53",
   "metadata": {
    "slideshow": {
     "slide_type": "slide"
    }
   },
   "outputs": [
    {
     "data": {
      "text/plain": [
       "array([[ 0.65252896, -1.18102944, -1.01489007],\n",
       "       [-0.96732772,  1.37622696,  0.4215631 ],\n",
       "       [ 1.10019023,  0.31640099,  0.93341229]])"
      ]
     },
     "execution_count": 197,
     "metadata": {},
     "output_type": "execute_result"
    }
   ],
   "source": [
    "# 3x3 array of normally distributed random values \n",
    "# with mean 0 and standard deviation 1\n",
    "np.random.normal(0, 1, (3,3))"
   ]
  },
  {
   "cell_type": "code",
   "execution_count": 88,
   "id": "30d4f8cb",
   "metadata": {
    "scrolled": true
   },
   "outputs": [
    {
     "data": {
      "text/plain": [
       "array([[7, 9, 9],\n",
       "       [3, 6, 7],\n",
       "       [2, 0, 3]])"
      ]
     },
     "execution_count": 88,
     "metadata": {},
     "output_type": "execute_result"
    }
   ],
   "source": [
    "# 3x3 array of random integers in the interval [0, 10)\n",
    "np.random.randint(0, 10, (3,3))"
   ]
  },
  {
   "cell_type": "code",
   "execution_count": 200,
   "id": "a7fbe71c",
   "metadata": {
    "scrolled": true
   },
   "outputs": [
    {
     "data": {
      "text/plain": [
       "array([[1., 0., 0., 0., 0., 0.],\n",
       "       [0., 1., 0., 0., 0., 0.],\n",
       "       [0., 0., 1., 0., 0., 0.],\n",
       "       [0., 0., 0., 1., 0., 0.],\n",
       "       [0., 0., 0., 0., 1., 0.],\n",
       "       [0., 0., 0., 0., 0., 1.]])"
      ]
     },
     "execution_count": 200,
     "metadata": {},
     "output_type": "execute_result"
    }
   ],
   "source": [
    "# 3x3 identity matrix\n",
    "np.eye(6)"
   ]
  },
  {
   "cell_type": "markdown",
   "id": "8cf2c386",
   "metadata": {},
   "source": [
    "`np.empty()` can be used to create an array without initializing the entries of given shape and type"
   ]
  },
  {
   "cell_type": "code",
   "execution_count": 201,
   "id": "4a7e901d",
   "metadata": {
    "slideshow": {
     "slide_type": "slide"
    }
   },
   "outputs": [
    {
     "data": {
      "text/plain": [
       "array([0.  , 0.25, 0.5 , 0.75, 1.  ])"
      ]
     },
     "execution_count": 201,
     "metadata": {},
     "output_type": "execute_result"
    }
   ],
   "source": [
    "# uninitialized array of 3 integers \n",
    "# values will be whatever happens to already exist at that memory location\n",
    "np.empty(5)"
   ]
  },
  {
   "cell_type": "code",
   "execution_count": 7,
   "id": "7fd3ef35",
   "metadata": {},
   "outputs": [],
   "source": [
    "# See the function arguments\n",
    "# help(np.random.normal)"
   ]
  },
  {
   "cell_type": "code",
   "execution_count": 29,
   "id": "5cf81fb0",
   "metadata": {
    "slideshow": {
     "slide_type": "slide"
    }
   },
   "outputs": [
    {
     "data": {
      "text/plain": [
       "array([0, 1, 2, 3, 4, 5, 6, 7, 8, 9])"
      ]
     },
     "execution_count": 29,
     "metadata": {},
     "output_type": "execute_result"
    },
    {
     "data": {
      "text/plain": [
       "array([[5, 5, 4],\n",
       "       [2, 9, 5],\n",
       "       [8, 7, 1]])"
      ]
     },
     "execution_count": 29,
     "metadata": {},
     "output_type": "execute_result"
    },
    {
     "data": {
      "text/plain": [
       "array([[0.84252679, 0.9514802 , 0.67400671],\n",
       "       [0.97085538, 0.97908065, 0.49635175],\n",
       "       [0.95514056, 0.06642457, 0.38645033]])"
      ]
     },
     "execution_count": 29,
     "metadata": {},
     "output_type": "execute_result"
    },
    {
     "data": {
      "text/plain": [
       "array([[-1.63298311,  0.44241543,  0.87768993],\n",
       "       [-0.20230854, -1.77739507, -1.25239649]])"
      ]
     },
     "execution_count": 29,
     "metadata": {},
     "output_type": "execute_result"
    }
   ],
   "source": [
    "# generate random integer in a one-dimensional array\n",
    "np.arange(0, 10)\n",
    "# generate random integer in a 3x3 array \n",
    "np.random.randint(1,10, (3,3))\n",
    "# generate any array from uniform distrbution \n",
    "np.random.random((3,3))\n",
    "# generate an 5x7 array from standardized normal distribution \n",
    "np.random.normal(0,1,(2,3))"
   ]
  },
  {
   "cell_type": "markdown",
   "id": "b7764ff4",
   "metadata": {
    "slideshow": {
     "slide_type": "slide"
    }
   },
   "source": [
    "### NumPy Standard Data Types\n",
    "\n",
    "The standard NumPy data types are listed below. \n",
    "- When constructing an array, you can specify them using a string:\n",
    "`np.zeros(10, dtype = 'int16')`\n",
    "- Or using the associated NumPy object: \n",
    "`np.zeros(10, dtype = np.int16)`"
   ]
  },
  {
   "cell_type": "markdown",
   "id": "b9a892a2",
   "metadata": {},
   "source": [
    "<center><img src=\"images/Numpy_2.JPG\" width = \"500\"></center>\n",
    "<center>Figure.2 Standard NumPy data types</center>"
   ]
  },
  {
   "cell_type": "markdown",
   "id": "379445db",
   "metadata": {
    "slideshow": {
     "slide_type": "slide"
    }
   },
   "source": [
    "## Numpy Arrays\n",
    "\n",
    "Data manipulation in Python is nearly synonymous with NumPy array manipulation: even newer tools like Pandas (Next Tutorial) are built around the NumPy array. You really need to know them well."
   ]
  },
  {
   "cell_type": "markdown",
   "id": "14456342",
   "metadata": {
    "slideshow": {
     "slide_type": "slide"
    }
   },
   "source": [
    "### Basics Operations of Numpy arrays\n",
    "- Attributes of arrays: determining the size, shape, memory consumption, and data types of arrays\n",
    "- Indexing of arrays: getting and setting the value of individual array elements\n",
    "- Slicing of arrays: getting and setting smaller subarrays within a larger array\n",
    "- Reshaping of arrays: changing the shape of a given array\n",
    "- Joining and splitting of arrays: combining multiple arrays into one, and splitting one array into many"
   ]
  },
  {
   "cell_type": "markdown",
   "id": "2e82955a",
   "metadata": {
    "slideshow": {
     "slide_type": "slide"
    }
   },
   "source": [
    "#### NumPy array attributes\n",
    "- define arrays in different dimensions\n",
    "- use NumPy's random number generator and `seed()` to ensure each time the random arrays are the same"
   ]
  },
  {
   "cell_type": "code",
   "execution_count": 31,
   "id": "68d9268c",
   "metadata": {
    "slideshow": {
     "slide_type": "slide"
    }
   },
   "outputs": [
    {
     "data": {
      "text/plain": [
       "array([7, 9, 6, 7, 1, 3])"
      ]
     },
     "execution_count": 31,
     "metadata": {},
     "output_type": "execute_result"
    },
    {
     "data": {
      "text/plain": [
       "array([[4, 4, 6, 5],\n",
       "       [0, 6, 1, 5],\n",
       "       [7, 5, 8, 2]])"
      ]
     },
     "execution_count": 31,
     "metadata": {},
     "output_type": "execute_result"
    },
    {
     "data": {
      "text/plain": [
       "array([[[3, 1, 0, 7, 1],\n",
       "        [0, 0, 1, 8, 1],\n",
       "        [2, 1, 0, 1, 5],\n",
       "        [6, 4, 6, 8, 8]],\n",
       "\n",
       "       [[4, 1, 7, 6, 5],\n",
       "        [7, 4, 9, 2, 1],\n",
       "        [0, 6, 4, 3, 3],\n",
       "        [7, 2, 8, 6, 4]],\n",
       "\n",
       "       [[2, 1, 5, 3, 3],\n",
       "        [8, 5, 9, 5, 7],\n",
       "        [3, 7, 6, 7, 9],\n",
       "        [3, 3, 6, 5, 9]]])"
      ]
     },
     "execution_count": 31,
     "metadata": {},
     "output_type": "execute_result"
    }
   ],
   "source": [
    "import numpy as np \n",
    "np.random.seed(2023) # seed for reproducibility\n",
    "\n",
    "# 1-dim array: one bracket\n",
    "x1 = np.random.randint(10, size = 6)\n",
    "\n",
    "# 2-dim array: two brackets\n",
    "x2 = np.random.randint(10, size = (3,4)) \n",
    "\n",
    "# 3- dim array: three brackets\n",
    "x3 = np.random.randint(10, size = (3, 4, 5))\n",
    "\n",
    "x1; x2; x3"
   ]
  },
  {
   "cell_type": "markdown",
   "id": "5bf5f911",
   "metadata": {
    "slideshow": {
     "slide_type": "slide"
    }
   },
   "source": [
    "Here are some information stored together in the array:"
   ]
  },
  {
   "cell_type": "code",
   "execution_count": 227,
   "id": "a7aabcd4",
   "metadata": {
    "slideshow": {
     "slide_type": "-"
    }
   },
   "outputs": [
    {
     "data": {
      "text/plain": [
       "3"
      ]
     },
     "execution_count": 227,
     "metadata": {},
     "output_type": "execute_result"
    },
    {
     "data": {
      "text/plain": [
       "(3, 4, 5)"
      ]
     },
     "execution_count": 227,
     "metadata": {},
     "output_type": "execute_result"
    },
    {
     "data": {
      "text/plain": [
       "60"
      ]
     },
     "execution_count": 227,
     "metadata": {},
     "output_type": "execute_result"
    },
    {
     "data": {
      "text/plain": [
       "dtype('int32')"
      ]
     },
     "execution_count": 227,
     "metadata": {},
     "output_type": "execute_result"
    },
    {
     "data": {
      "text/plain": [
       "4"
      ]
     },
     "execution_count": 227,
     "metadata": {},
     "output_type": "execute_result"
    },
    {
     "data": {
      "text/plain": [
       "240"
      ]
     },
     "execution_count": 227,
     "metadata": {},
     "output_type": "execute_result"
    }
   ],
   "source": [
    "# number of dimensions\n",
    "x3.ndim\n",
    "# size of each dimension\n",
    "x3.shape\n",
    "# total size of the array\n",
    "x3.size\n",
    "# data type of the array\n",
    "x3.dtype\n",
    "# itemsize: size (in bytes) of each array element\n",
    "x3.itemsize\n",
    "# nbytes: total size (in bytes) of the array\n",
    "x3.nbytes"
   ]
  },
  {
   "cell_type": "markdown",
   "id": "c1f3bfda",
   "metadata": {},
   "source": [
    "You can also use `np.array()` to define whatever you want\n",
    "1. Figure out differences of dimensions using `.shape` attribute.\n",
    "2. Read this discussion thread on StackOverFLow about the topic: https://stackoverflow.com/questions/39694318/difference-between-single-and-double-bracket-numpy-array"
   ]
  },
  {
   "cell_type": "code",
   "execution_count": 143,
   "id": "dff17735",
   "metadata": {},
   "outputs": [
    {
     "data": {
      "text/plain": [
       "(4,)"
      ]
     },
     "execution_count": 143,
     "metadata": {},
     "output_type": "execute_result"
    },
    {
     "data": {
      "text/plain": [
       "(1, 4)"
      ]
     },
     "execution_count": 143,
     "metadata": {},
     "output_type": "execute_result"
    },
    {
     "data": {
      "text/plain": [
       "(1, 1, 4)"
      ]
     },
     "execution_count": 143,
     "metadata": {},
     "output_type": "execute_result"
    }
   ],
   "source": [
    "np.array([0,0,0,0]).shape\n",
    "\n",
    "np.array([[0,0,0,0]]).shape\n",
    "\n",
    "np.array([[[0,0,0,0]]]).shape"
   ]
  },
  {
   "cell_type": "markdown",
   "id": "9b10762b",
   "metadata": {},
   "source": [
    "#### Array indexing: accessing single elements\n",
    "- In one-dimensional array, access the ith value using square brackets, like lists.\n",
    "- In multidimensional array, access items using a comma-separated tuple of indices.\n",
    "- NumPy arrays have fixed type. If you insert a floating-point vlaue to an integer array, the value will be sliently truncated."
   ]
  },
  {
   "cell_type": "code",
   "execution_count": 34,
   "id": "fa17e2cf",
   "metadata": {},
   "outputs": [
    {
     "data": {
      "text/plain": [
       "array([7, 9, 6, 7, 1, 3])"
      ]
     },
     "execution_count": 34,
     "metadata": {},
     "output_type": "execute_result"
    },
    {
     "data": {
      "text/plain": [
       "1"
      ]
     },
     "execution_count": 34,
     "metadata": {},
     "output_type": "execute_result"
    },
    {
     "data": {
      "text/plain": [
       "1"
      ]
     },
     "execution_count": 34,
     "metadata": {},
     "output_type": "execute_result"
    }
   ],
   "source": [
    "x1\n",
    "x1[4]\n",
    "x1[-2]"
   ]
  },
  {
   "cell_type": "code",
   "execution_count": 42,
   "id": "1ba063dd",
   "metadata": {},
   "outputs": [
    {
     "name": "stdout",
     "output_type": "stream",
     "text": [
      "[[4 4 6 5]\n",
      " [0 6 1 5]\n",
      " [7 5 8 2]]\n"
     ]
    },
    {
     "data": {
      "text/plain": [
       "5"
      ]
     },
     "execution_count": 42,
     "metadata": {},
     "output_type": "execute_result"
    }
   ],
   "source": [
    "print(x2)\n",
    "x2[0,3]"
   ]
  },
  {
   "cell_type": "code",
   "execution_count": 35,
   "id": "8a4b26f1",
   "metadata": {},
   "outputs": [
    {
     "data": {
      "text/plain": [
       "array([7, 9, 6, 7, 1, 3])"
      ]
     },
     "execution_count": 35,
     "metadata": {},
     "output_type": "execute_result"
    },
    {
     "data": {
      "text/plain": [
       "1"
      ]
     },
     "execution_count": 35,
     "metadata": {},
     "output_type": "execute_result"
    },
    {
     "data": {
      "text/plain": [
       "1"
      ]
     },
     "execution_count": 35,
     "metadata": {},
     "output_type": "execute_result"
    }
   ],
   "source": [
    "# you can also modify values \n",
    "x2[0, 0] = 12\n",
    "x2"
   ]
  },
  {
   "cell_type": "markdown",
   "id": "9ce1c2e1",
   "metadata": {},
   "source": [
    "Keep in mind that, unlike Python lists, NumPy arrays have a fixed type. This means,\n",
    "for example, that if you attempt to insert a floating-point value to an integer array, the\n",
    "value will be silently truncated."
   ]
  },
  {
   "cell_type": "code",
   "execution_count": 44,
   "id": "e2c3f3ef",
   "metadata": {},
   "outputs": [
    {
     "name": "stdout",
     "output_type": "stream",
     "text": [
      "[7 9 6 7 1 3]\n"
     ]
    },
    {
     "data": {
      "text/plain": [
       "array([3, 9, 6, 7, 1, 3])"
      ]
     },
     "execution_count": 44,
     "metadata": {},
     "output_type": "execute_result"
    }
   ],
   "source": [
    "print(x1)\n",
    "x1[0] = 3.1415926\n",
    "# floating will be truncated\n",
    "x1"
   ]
  },
  {
   "cell_type": "markdown",
   "id": "8e292a96",
   "metadata": {},
   "source": [
    "#### Array Slicing: accessing subarrays\n",
    "\n",
    "- The NumPy slicing syntax is `x[start:stop:step]`. \n",
    "- If any of these are unspecified, they default to the values `start=0, stop=size of dimension, step=1`."
   ]
  },
  {
   "cell_type": "markdown",
   "id": "1618f3ac",
   "metadata": {},
   "source": [
    "##### One-dimensional subarray"
   ]
  },
  {
   "cell_type": "code",
   "execution_count": 45,
   "id": "55120bcc",
   "metadata": {},
   "outputs": [
    {
     "name": "stdout",
     "output_type": "stream",
     "text": [
      "[0 1 2 3 4 5 6 7 8 9]\n"
     ]
    },
    {
     "data": {
      "text/plain": [
       "array([0, 1, 2, 3, 4])"
      ]
     },
     "execution_count": 45,
     "metadata": {},
     "output_type": "execute_result"
    },
    {
     "data": {
      "text/plain": [
       "array([0, 1, 2, 3, 4])"
      ]
     },
     "execution_count": 45,
     "metadata": {},
     "output_type": "execute_result"
    },
    {
     "data": {
      "text/plain": [
       "array([3, 4, 5, 6])"
      ]
     },
     "execution_count": 45,
     "metadata": {},
     "output_type": "execute_result"
    },
    {
     "data": {
      "text/plain": [
       "array([0, 2, 4, 6, 8])"
      ]
     },
     "execution_count": 45,
     "metadata": {},
     "output_type": "execute_result"
    },
    {
     "data": {
      "text/plain": [
       "array([1, 3, 5, 7, 9])"
      ]
     },
     "execution_count": 45,
     "metadata": {},
     "output_type": "execute_result"
    }
   ],
   "source": [
    "#syntax\n",
    "#x[start:stop:step]\n",
    "\n",
    "#one dimension array\n",
    "x = np.arange(10)\n",
    "print(x)\n",
    "\n",
    "#find first five elements from array x\n",
    "x[0:5]\n",
    "x[:5]\n",
    "\n",
    "#find a middle subarray \n",
    "x[3:7]\n",
    "\n",
    "#find even numbers from x\n",
    "x[0::2]\n",
    "\n",
    "#find odd numbers from x\n",
    "x[1::2]"
   ]
  },
  {
   "cell_type": "markdown",
   "id": "5e4db902",
   "metadata": {},
   "source": [
    "##### Multidimensional subarrays"
   ]
  },
  {
   "cell_type": "code",
   "execution_count": 65,
   "id": "35e3212f",
   "metadata": {},
   "outputs": [],
   "source": [
    "np.random.randint?"
   ]
  },
  {
   "cell_type": "code",
   "execution_count": 68,
   "id": "bf24cdb6",
   "metadata": {},
   "outputs": [
    {
     "name": "stdout",
     "output_type": "stream",
     "text": [
      "[[12 15  0]\n",
      " [ 3  3  7]\n",
      " [ 9 19 18]\n",
      " [ 4  6 12]]\n"
     ]
    }
   ],
   "source": [
    "# reproduction\n",
    "np.random.seed(0)\n",
    "x = np.random.randint(low = 20, size=(4,3))\n",
    "print(x)"
   ]
  },
  {
   "cell_type": "code",
   "execution_count": 80,
   "id": "d4de0436",
   "metadata": {},
   "outputs": [
    {
     "data": {
      "text/plain": [
       "array([[12, 15,  0],\n",
       "       [ 3,  3,  7]])"
      ]
     },
     "execution_count": 80,
     "metadata": {},
     "output_type": "execute_result"
    },
    {
     "data": {
      "text/plain": [
       "array([[12, 15,  0],\n",
       "       [ 3,  3,  7]])"
      ]
     },
     "execution_count": 80,
     "metadata": {},
     "output_type": "execute_result"
    },
    {
     "data": {
      "text/plain": [
       "array([[12, 15,  0],\n",
       "       [ 3,  3,  7]])"
      ]
     },
     "execution_count": 80,
     "metadata": {},
     "output_type": "execute_result"
    }
   ],
   "source": [
    "#find first two rows, three columns\n",
    "x[:2]\n",
    "x[:2,:3]\n",
    "x[:2,:]"
   ]
  },
  {
   "cell_type": "code",
   "execution_count": 81,
   "id": "c6d2625d",
   "metadata": {},
   "outputs": [
    {
     "data": {
      "text/plain": [
       "array([[3, 3, 7]])"
      ]
     },
     "execution_count": 81,
     "metadata": {},
     "output_type": "execute_result"
    },
    {
     "data": {
      "text/plain": [
       "array([3, 3, 7])"
      ]
     },
     "execution_count": 81,
     "metadata": {},
     "output_type": "execute_result"
    }
   ],
   "source": [
    "#second row\n",
    "\n",
    "# slicing\n",
    "x[1:2]\n",
    "\n",
    "# indexing\n",
    "x[1]"
   ]
  },
  {
   "cell_type": "code",
   "execution_count": 72,
   "id": "b57aa4ba",
   "metadata": {},
   "outputs": [
    {
     "data": {
      "text/plain": [
       "array([12,  3,  9,  4])"
      ]
     },
     "execution_count": 72,
     "metadata": {},
     "output_type": "execute_result"
    }
   ],
   "source": [
    "#first column\n",
    "x[:, 0]"
   ]
  },
  {
   "cell_type": "code",
   "execution_count": 82,
   "id": "dcdecb71",
   "metadata": {},
   "outputs": [
    {
     "name": "stdout",
     "output_type": "stream",
     "text": [
      "[[12 15  0]\n",
      " [ 3  3  7]\n",
      " [ 9 19 18]\n",
      " [ 4  6 12]]\n"
     ]
    },
    {
     "data": {
      "text/plain": [
       "array([[3, 3],\n",
       "       [4, 6]])"
      ]
     },
     "execution_count": 82,
     "metadata": {},
     "output_type": "execute_result"
    }
   ],
   "source": [
    "print(x)\n",
    "#first two columns, 2nd and 4th rows\n",
    "x[1::2, :2]"
   ]
  },
  {
   "cell_type": "markdown",
   "id": "8f355d7d",
   "metadata": {},
   "source": [
    "###### Subarrays as no-copy views\n",
    "One important—and extremely useful—thing to know about array slices:\n",
    "- they return views rather than copies of the array data.\n",
    "- This is one area in which NumPy array slicing differs from Python list slicing\n",
    "- in lists, slices will be copies. \n",
    "\n",
    "Consider our two-dimensional array from before:"
   ]
  },
  {
   "cell_type": "code",
   "execution_count": 83,
   "id": "b94e5da3",
   "metadata": {},
   "outputs": [
    {
     "name": "stdout",
     "output_type": "stream",
     "text": [
      "[[12 15  0]\n",
      " [ 3  3  7]\n",
      " [ 9 19 18]\n",
      " [ 4  6 12]]\n"
     ]
    }
   ],
   "source": [
    "print(x)"
   ]
  },
  {
   "cell_type": "code",
   "execution_count": 84,
   "id": "90bf729c",
   "metadata": {},
   "outputs": [
    {
     "name": "stdout",
     "output_type": "stream",
     "text": [
      "[[12 15]\n",
      " [ 3  3]]\n"
     ]
    }
   ],
   "source": [
    "x_sub = x[:2, :2]\n",
    "print(x_sub)"
   ]
  },
  {
   "cell_type": "markdown",
   "id": "7504faf9",
   "metadata": {},
   "source": [
    "Now if we modify this subarray, we’ll see that the original array is changed!\n",
    "\n",
    "This default behavior is actually quite useful: it means that when we work with large\n",
    "datasets, we can access and process pieces of these datasets without the need to copy\n",
    "the underlying data buffer."
   ]
  },
  {
   "cell_type": "code",
   "execution_count": 87,
   "id": "e944d7c5",
   "metadata": {},
   "outputs": [
    {
     "name": "stdout",
     "output_type": "stream",
     "text": [
      "[[99 15]\n",
      " [ 3  3]]\n"
     ]
    }
   ],
   "source": [
    "x_sub[0,0] = 99\n",
    "print(x_sub)"
   ]
  },
  {
   "cell_type": "code",
   "execution_count": 88,
   "id": "4605a2e7",
   "metadata": {},
   "outputs": [
    {
     "name": "stdout",
     "output_type": "stream",
     "text": [
      "[[99 15  0]\n",
      " [ 3  3  7]\n",
      " [ 9 19 18]\n",
      " [ 4  6 12]]\n"
     ]
    }
   ],
   "source": [
    "print(x)"
   ]
  },
  {
   "cell_type": "markdown",
   "id": "9e961b4e",
   "metadata": {},
   "source": [
    "##### Creating copies of arrays\n",
    "Despite the nice features of array views, it is sometimes useful to instead explicitly\n",
    "copy the data within an array or a subarray. This can be most easily done with the\n",
    "copy() method:"
   ]
  },
  {
   "cell_type": "code",
   "execution_count": 91,
   "id": "f6b63df2",
   "metadata": {},
   "outputs": [
    {
     "name": "stdout",
     "output_type": "stream",
     "text": [
      "[[99 15  0]\n",
      " [ 3  3  7]\n",
      " [ 9 19 18]\n",
      " [ 4  6 12]]\n"
     ]
    }
   ],
   "source": [
    "print(x)"
   ]
  },
  {
   "cell_type": "code",
   "execution_count": 90,
   "id": "26e54144",
   "metadata": {},
   "outputs": [
    {
     "name": "stdout",
     "output_type": "stream",
     "text": [
      "[[99 15]\n",
      " [ 3  3]]\n"
     ]
    }
   ],
   "source": [
    "x_sub_copy = x[:2,:2].copy()\n",
    "print(x_sub_copy)"
   ]
  },
  {
   "cell_type": "code",
   "execution_count": 92,
   "id": "295798f2",
   "metadata": {},
   "outputs": [
    {
     "name": "stdout",
     "output_type": "stream",
     "text": [
      "[[100  15]\n",
      " [  3   3]]\n"
     ]
    }
   ],
   "source": [
    "x_sub_copy[0,0] = 100\n",
    "print(x_sub_copy)"
   ]
  },
  {
   "cell_type": "code",
   "execution_count": 93,
   "id": "266d014e",
   "metadata": {},
   "outputs": [
    {
     "name": "stdout",
     "output_type": "stream",
     "text": [
      "[[99 15  0]\n",
      " [ 3  3  7]\n",
      " [ 9 19 18]\n",
      " [ 4  6 12]]\n"
     ]
    }
   ],
   "source": [
    "# original array will not be modified\n",
    "print(x)"
   ]
  },
  {
   "cell_type": "markdown",
   "id": "bae3609c",
   "metadata": {
    "slideshow": {
     "slide_type": "slide"
    }
   },
   "source": [
    "#### Reshaping, Concatenation, Splitting\n",
    "- Reshaping: `reshape((x,y))`\n",
    "<br><br>\n",
    "- Concatenation: `np.concatenate`, `np.vstack` (vertical stack), and `np.hstack` (horizontal stack). \n",
    "    - `np.concatenate` takes a tuple or list of arrays as its first argument\n",
    "<br><br>\n",
    "- Splitting: `np.split`, `np.hsplit`, `np.vsplit`"
   ]
  },
  {
   "cell_type": "markdown",
   "id": "136cd391",
   "metadata": {},
   "source": [
    "##### Reshaping\n",
    "Put the numbers 1 through 9 in a 3×3 grid. \n",
    "\n",
    "Note that for this to work, the size of the initial array must match the size of the\n",
    "reshaped array."
   ]
  },
  {
   "cell_type": "code",
   "execution_count": 733,
   "id": "7cdd0b53",
   "metadata": {},
   "outputs": [
    {
     "data": {
      "text/plain": [
       "array([1, 2, 3, 4, 5, 6, 7, 8, 9])"
      ]
     },
     "execution_count": 733,
     "metadata": {},
     "output_type": "execute_result"
    }
   ],
   "source": [
    "grid = np.arange(1, 10).reshape((3,3))\n",
    "grid"
   ]
  },
  {
   "cell_type": "markdown",
   "id": "4ca6d251",
   "metadata": {},
   "source": [
    "Another common reshaping pattern is the conversion of a one-dimensional array\n",
    "into a two-dimensional row or column matrix."
   ]
  },
  {
   "cell_type": "code",
   "execution_count": 142,
   "id": "8e582769",
   "metadata": {},
   "outputs": [
    {
     "data": {
      "text/plain": [
       "array([1, 2, 3])"
      ]
     },
     "execution_count": 142,
     "metadata": {},
     "output_type": "execute_result"
    }
   ],
   "source": [
    "x = np.array([1, 2, 3])\n",
    "x"
   ]
  },
  {
   "cell_type": "code",
   "execution_count": 143,
   "id": "54566c58",
   "metadata": {
    "scrolled": true
   },
   "outputs": [
    {
     "data": {
      "text/plain": [
       "array([[1, 2, 3]])"
      ]
     },
     "execution_count": 143,
     "metadata": {},
     "output_type": "execute_result"
    }
   ],
   "source": [
    "# row vector\n",
    "x.reshape((1,3))"
   ]
  },
  {
   "cell_type": "code",
   "execution_count": 140,
   "id": "937d7aaa",
   "metadata": {},
   "outputs": [
    {
     "data": {
      "text/plain": [
       "array([[1],\n",
       "       [2],\n",
       "       [3]])"
      ]
     },
     "execution_count": 140,
     "metadata": {},
     "output_type": "execute_result"
    }
   ],
   "source": [
    "# column vector\n",
    "x.reshape((3,1))"
   ]
  },
  {
   "cell_type": "code",
   "execution_count": 16,
   "id": "de38c0b3",
   "metadata": {},
   "outputs": [
    {
     "name": "stdout",
     "output_type": "stream",
     "text": [
      "[1 2 3]\n"
     ]
    },
    {
     "data": {
      "text/plain": [
       "array([[1],\n",
       "       [2],\n",
       "       [3]])"
      ]
     },
     "execution_count": 16,
     "metadata": {},
     "output_type": "execute_result"
    }
   ],
   "source": [
    "# column vector via newaxis\n",
    "x = np.array([1,2,3])\n",
    "print(x)\n",
    "\n",
    "x[:, np.newaxis]"
   ]
  },
  {
   "cell_type": "code",
   "execution_count": 33,
   "id": "d2f21ecf",
   "metadata": {},
   "outputs": [
    {
     "name": "stdout",
     "output_type": "stream",
     "text": [
      "[1 2 3]\n"
     ]
    },
    {
     "data": {
      "text/plain": [
       "array([[1, 2, 3]])"
      ]
     },
     "execution_count": 33,
     "metadata": {},
     "output_type": "execute_result"
    }
   ],
   "source": [
    "# row vector via newaxis\n",
    "x = np.array([1,2,3])\n",
    "print(x)\n",
    "\n",
    "x[np.newaxis, :]"
   ]
  },
  {
   "cell_type": "markdown",
   "id": "8ec35c00",
   "metadata": {},
   "source": [
    "##### Concatenation and Splitting\n",
    "All of the preceding routines worked on single arrays. It’s also possible to combine\n",
    "multiple arrays into one, and to conversely split a single array into multiple arrays.\n",
    "We’ll take a look at those operations here."
   ]
  },
  {
   "cell_type": "code",
   "execution_count": 144,
   "id": "88a3e044",
   "metadata": {},
   "outputs": [
    {
     "data": {
      "text/plain": [
       "array([1, 2, 3])"
      ]
     },
     "execution_count": 144,
     "metadata": {},
     "output_type": "execute_result"
    },
    {
     "data": {
      "text/plain": [
       "array([3, 2, 1])"
      ]
     },
     "execution_count": 144,
     "metadata": {},
     "output_type": "execute_result"
    },
    {
     "data": {
      "text/plain": [
       "array([1, 2, 3, 3, 2, 1])"
      ]
     },
     "execution_count": 144,
     "metadata": {},
     "output_type": "execute_result"
    }
   ],
   "source": [
    "# concatenate() works with same dimension array\n",
    "x = np.array([1,2,3])\n",
    "y = np.array([3,2,1])\n",
    "x\n",
    "y\n",
    "\n",
    "np.concatenate([x, y])"
   ]
  },
  {
   "cell_type": "code",
   "execution_count": 145,
   "id": "deb31548",
   "metadata": {},
   "outputs": [
    {
     "data": {
      "text/plain": [
       "list"
      ]
     },
     "execution_count": 145,
     "metadata": {},
     "output_type": "execute_result"
    },
    {
     "data": {
      "text/plain": [
       "array([ 1,  2,  3,  3,  2,  1, 99, 99, 99])"
      ]
     },
     "execution_count": 145,
     "metadata": {},
     "output_type": "execute_result"
    }
   ],
   "source": [
    "# concatenate more than 2 arrays\n",
    "# note z is list\n",
    "z = [99, 99 ,99]\n",
    "type(z)\n",
    "a = np.concatenate([x,y,z])\n",
    "a"
   ]
  },
  {
   "cell_type": "code",
   "execution_count": 149,
   "id": "b54980d7",
   "metadata": {},
   "outputs": [
    {
     "data": {
      "text/plain": [
       "(9,)"
      ]
     },
     "execution_count": 149,
     "metadata": {},
     "output_type": "execute_result"
    }
   ],
   "source": [
    "a.shape"
   ]
  },
  {
   "cell_type": "code",
   "execution_count": 148,
   "id": "66ffe901",
   "metadata": {},
   "outputs": [
    {
     "data": {
      "text/plain": [
       "array([[ 1,  2,  3],\n",
       "       [ 3,  2,  1],\n",
       "       [99, 99, 99]])"
      ]
     },
     "execution_count": 148,
     "metadata": {},
     "output_type": "execute_result"
    }
   ],
   "source": [
    "a.reshape((3,3))"
   ]
  },
  {
   "cell_type": "code",
   "execution_count": 84,
   "id": "76be8af6",
   "metadata": {},
   "outputs": [
    {
     "data": {
      "text/plain": [
       "array([[1, 2, 3],\n",
       "       [4, 5, 6]])"
      ]
     },
     "execution_count": 84,
     "metadata": {},
     "output_type": "execute_result"
    },
    {
     "data": {
      "text/plain": [
       "array([[1, 2, 3],\n",
       "       [4, 5, 6],\n",
       "       [1, 2, 3],\n",
       "       [4, 5, 6]])"
      ]
     },
     "execution_count": 84,
     "metadata": {},
     "output_type": "execute_result"
    },
    {
     "data": {
      "text/plain": [
       "(4, 3)"
      ]
     },
     "execution_count": 84,
     "metadata": {},
     "output_type": "execute_result"
    }
   ],
   "source": [
    "# concatenate 2-dimensional arrays\n",
    "grid = np.array([[1, 2, 3],\n",
    "                [4, 5, 6]])\n",
    "grid\n",
    "\n",
    "new_grid = np.concatenate([grid, grid])\n",
    "new_grid\n",
    "new_grid.shape"
   ]
  },
  {
   "cell_type": "markdown",
   "id": "03a4ac84",
   "metadata": {},
   "source": [
    "###### concatenate along the second axies (zero-indexed)"
   ]
  },
  {
   "cell_type": "code",
   "execution_count": 85,
   "id": "61848cdb",
   "metadata": {},
   "outputs": [
    {
     "data": {
      "text/plain": [
       "array([[1, 2, 3, 1, 2, 3],\n",
       "       [4, 5, 6, 4, 5, 6]])"
      ]
     },
     "execution_count": 85,
     "metadata": {},
     "output_type": "execute_result"
    },
    {
     "data": {
      "text/plain": [
       "(2, 6)"
      ]
     },
     "execution_count": 85,
     "metadata": {},
     "output_type": "execute_result"
    }
   ],
   "source": [
    "# axis = 0 is column-wise, which is default\n",
    "# axis = 1 is row-wise\n",
    "new_grid = np.concatenate([grid, grid], axis = 1)\n",
    "new_grid\n",
    "new_grid.shape"
   ]
  },
  {
   "cell_type": "code",
   "execution_count": 754,
   "id": "788157c2",
   "metadata": {},
   "outputs": [
    {
     "data": {
      "text/plain": [
       "array([[1, 2, 3],\n",
       "       [9, 8, 7],\n",
       "       [6, 5, 4]])"
      ]
     },
     "execution_count": 754,
     "metadata": {},
     "output_type": "execute_result"
    }
   ],
   "source": [
    "# mixed dimensions arrays\n",
    "x = np.array([1, 2, 3])\n",
    "\n",
    "grid = np.array([[9, 8, 7],\n",
    "                [6, 5, 4]])\n",
    "# vertically stack the arrays\n",
    "np.vstack([x, grid])"
   ]
  },
  {
   "cell_type": "code",
   "execution_count": 764,
   "id": "be3b441d",
   "metadata": {},
   "outputs": [
    {
     "data": {
      "text/plain": [
       "array([[1],\n",
       "       [2]])"
      ]
     },
     "execution_count": 764,
     "metadata": {},
     "output_type": "execute_result"
    },
    {
     "data": {
      "text/plain": [
       "array([[9, 8, 7],\n",
       "       [6, 5, 4]])"
      ]
     },
     "execution_count": 764,
     "metadata": {},
     "output_type": "execute_result"
    },
    {
     "data": {
      "text/plain": [
       "array([[1, 9, 8, 7],\n",
       "       [2, 6, 5, 4]])"
      ]
     },
     "execution_count": 764,
     "metadata": {},
     "output_type": "execute_result"
    }
   ],
   "source": [
    "# horizontally stack arrays\n",
    "y = np.array([1,2]).reshape((2,1))\n",
    "y\n",
    "grid\n",
    "np.hstack([y, grid])"
   ]
  },
  {
   "cell_type": "code",
   "execution_count": 773,
   "id": "b23eae60",
   "metadata": {},
   "outputs": [
    {
     "data": {
      "text/plain": [
       "array([[99],\n",
       "       [95]])"
      ]
     },
     "execution_count": 773,
     "metadata": {},
     "output_type": "execute_result"
    },
    {
     "data": {
      "text/plain": [
       "array([[9, 8, 7],\n",
       "       [6, 5, 4]])"
      ]
     },
     "execution_count": 773,
     "metadata": {},
     "output_type": "execute_result"
    },
    {
     "data": {
      "text/plain": [
       "array([[ 9,  8,  7, 99],\n",
       "       [ 6,  5,  4, 95]])"
      ]
     },
     "execution_count": 773,
     "metadata": {},
     "output_type": "execute_result"
    }
   ],
   "source": [
    "y = np.array([[99],\n",
    "             [95]])\n",
    "y\n",
    "grid\n",
    "np.hstack((grid,y))"
   ]
  },
  {
   "cell_type": "markdown",
   "id": "75d74e97",
   "metadata": {},
   "source": [
    "##### `np.dstack` stack arrays along the third axis\n",
    "\n",
    "The numpy.dstack() is used to stack arrays in sequence depth wise (along third axis).\n",
    "This is equivalent to concatenation along the third axis after 2-D arrays of shape (M,N) have been reshaped to (M,N,1) and 1-D arrays of shape (N,) have been reshaped to (1,N,1). Rebuilds arrays divided by dsplit.\n",
    "\n",
    "This function is particularly useful for working with image data, where each image is represented as a 2D array of pixel values, and a collection of images can be stacked depth-wise to create a 3D array of shape (height, width, number of images).\n",
    "\n",
    "Examples: https://www.w3resource.com/numpy/manipulation/dstack.php"
   ]
  },
  {
   "cell_type": "code",
   "execution_count": 115,
   "id": "0b968f06",
   "metadata": {
    "scrolled": true
   },
   "outputs": [
    {
     "data": {
      "text/plain": [
       "array([[[ 1,  2,  3],\n",
       "        [ 4,  5,  6]],\n",
       "\n",
       "       [[ 7,  8,  9],\n",
       "        [10, 11, 12]]])"
      ]
     },
     "execution_count": 115,
     "metadata": {},
     "output_type": "execute_result"
    },
    {
     "name": "stdout",
     "output_type": "stream",
     "text": [
      "The dimension of array is 3. And the shape is (2, 2, 3)\n"
     ]
    },
    {
     "data": {
      "text/plain": [
       "array([[[99, 82, 77],\n",
       "        [23, 24, 76]],\n",
       "\n",
       "       [[57, 72, 44],\n",
       "        [29, 31, 39]]])"
      ]
     },
     "execution_count": 115,
     "metadata": {},
     "output_type": "execute_result"
    },
    {
     "data": {
      "text/plain": [
       "array([[[ 1,  2,  3, 99, 82, 77],\n",
       "        [ 4,  5,  6, 23, 24, 76]],\n",
       "\n",
       "       [[ 7,  8,  9, 57, 72, 44],\n",
       "        [10, 11, 12, 29, 31, 39]]])"
      ]
     },
     "execution_count": 115,
     "metadata": {},
     "output_type": "execute_result"
    }
   ],
   "source": [
    "x = np.array([[[1,2,3],\n",
    "             [4,5,6]],\n",
    "\n",
    "             [[7,8,9],\n",
    "             [10,11,12]]])\n",
    "x\n",
    "print(\"The dimension of array is \", x.ndim, \". And the shape is \", x.shape, sep = '')\n",
    "y = np.array([[[99, 82, 77],\n",
    "              [23,24,76]],\n",
    "             \n",
    "             [[57, 72, 44],\n",
    "             [29, 31, 39]]])\n",
    "y\n",
    " \n",
    "np.dstack((x,y)) # (2, 2, 6)"
   ]
  },
  {
   "cell_type": "code",
   "execution_count": 116,
   "id": "531b61c2",
   "metadata": {},
   "outputs": [
    {
     "data": {
      "text/plain": [
       "array([[[ 1,  2,  3],\n",
       "        [ 4,  5,  6]],\n",
       "\n",
       "       [[ 7,  8,  9],\n",
       "        [10, 11, 12]],\n",
       "\n",
       "       [[99, 82, 77],\n",
       "        [23, 24, 76]],\n",
       "\n",
       "       [[57, 72, 44],\n",
       "        [29, 31, 39]]])"
      ]
     },
     "execution_count": 116,
     "metadata": {},
     "output_type": "execute_result"
    }
   ],
   "source": [
    "np.vstack((x,y)) # (4, 2, 3)"
   ]
  },
  {
   "cell_type": "code",
   "execution_count": 117,
   "id": "b05e1d64",
   "metadata": {},
   "outputs": [
    {
     "data": {
      "text/plain": [
       "array([[[ 1,  2,  3],\n",
       "        [ 4,  5,  6],\n",
       "        [99, 82, 77],\n",
       "        [23, 24, 76]],\n",
       "\n",
       "       [[ 7,  8,  9],\n",
       "        [10, 11, 12],\n",
       "        [57, 72, 44],\n",
       "        [29, 31, 39]]])"
      ]
     },
     "execution_count": 117,
     "metadata": {},
     "output_type": "execute_result"
    }
   ],
   "source": [
    "np.hstack([x,y]) # (2, 4, 3)"
   ]
  },
  {
   "cell_type": "code",
   "execution_count": 75,
   "id": "5ab87398",
   "metadata": {},
   "outputs": [
    {
     "data": {
      "text/plain": [
       "array([[ 1,  2,  3],\n",
       "       [10, 11, 12]])"
      ]
     },
     "execution_count": 75,
     "metadata": {},
     "output_type": "execute_result"
    },
    {
     "data": {
      "text/plain": [
       "array([[9, 8, 7],\n",
       "       [6, 5, 4]])"
      ]
     },
     "execution_count": 75,
     "metadata": {},
     "output_type": "execute_result"
    },
    {
     "data": {
      "text/plain": [
       "array([[[ 1,  9],\n",
       "        [ 2,  8],\n",
       "        [ 3,  7]],\n",
       "\n",
       "       [[10,  6],\n",
       "        [11,  5],\n",
       "        [12,  4]]])"
      ]
     },
     "execution_count": 75,
     "metadata": {},
     "output_type": "execute_result"
    }
   ],
   "source": [
    "x = np.array([[1, 2, 3],\n",
    "             [10,11,12]])\n",
    "x\n",
    "grid = np.array([[9, 8, 7],\n",
    "                [6, 5, 4]])\n",
    "grid\n",
    "\n",
    "# vertically stack the arrays\n",
    "np.dstack([x, grid])"
   ]
  },
  {
   "cell_type": "code",
   "execution_count": 776,
   "id": "853f261f",
   "metadata": {},
   "outputs": [],
   "source": [
    "np.dstack?"
   ]
  },
  {
   "cell_type": "markdown",
   "id": "67413ba9",
   "metadata": {},
   "source": [
    "##### splitting"
   ]
  },
  {
   "cell_type": "code",
   "execution_count": 123,
   "id": "bae56ee5",
   "metadata": {},
   "outputs": [
    {
     "data": {
      "text/plain": [
       "[1, 2, 3, 99, 99, 3, 2, 1]"
      ]
     },
     "execution_count": 123,
     "metadata": {},
     "output_type": "execute_result"
    },
    {
     "name": "stdout",
     "output_type": "stream",
     "text": [
      "[1 2 3] [99 99] [3 2 1]\n"
     ]
    }
   ],
   "source": [
    "# pass a list of indices giving split points\n",
    "x = [1,2,3,99,99,3,2,1]\n",
    "x\n",
    "x1,x2,x3 = np.split(x, [3,5])\n",
    "print(x1, x2, x3)"
   ]
  },
  {
   "cell_type": "code",
   "execution_count": 124,
   "id": "f2c9bbd4",
   "metadata": {},
   "outputs": [
    {
     "data": {
      "text/plain": [
       "array([[ 0,  1,  2,  3],\n",
       "       [ 4,  5,  6,  7],\n",
       "       [ 8,  9, 10, 11],\n",
       "       [12, 13, 14, 15]])"
      ]
     },
     "execution_count": 124,
     "metadata": {},
     "output_type": "execute_result"
    },
    {
     "data": {
      "text/plain": [
       "[array([[ 0,  1],\n",
       "        [ 4,  5],\n",
       "        [ 8,  9],\n",
       "        [12, 13]]),\n",
       " array([[ 2,  3],\n",
       "        [ 6,  7],\n",
       "        [10, 11],\n",
       "        [14, 15]])]"
      ]
     },
     "execution_count": 124,
     "metadata": {},
     "output_type": "execute_result"
    }
   ],
   "source": [
    "# N split points lead to N+1 subarrays\n",
    "grid = np.arange(16).reshape((4,4))\n",
    "grid\n",
    "\n",
    "# horizontal split\n",
    "np.hsplit(grid, [2])"
   ]
  },
  {
   "cell_type": "code",
   "execution_count": 125,
   "id": "c56c639d",
   "metadata": {},
   "outputs": [
    {
     "data": {
      "text/plain": [
       "array([[0, 1, 2, 3],\n",
       "       [4, 5, 6, 7]])"
      ]
     },
     "execution_count": 125,
     "metadata": {},
     "output_type": "execute_result"
    },
    {
     "data": {
      "text/plain": [
       "array([[ 8,  9, 10, 11],\n",
       "       [12, 13, 14, 15]])"
      ]
     },
     "execution_count": 125,
     "metadata": {},
     "output_type": "execute_result"
    }
   ],
   "source": [
    "# vertical split\n",
    "upper, lower = np.vsplit(grid, 2)\n",
    "upper\n",
    "lower"
   ]
  },
  {
   "cell_type": "code",
   "execution_count": 128,
   "id": "75337baf",
   "metadata": {},
   "outputs": [],
   "source": [
    "np.dsplit?"
   ]
  },
  {
   "cell_type": "code",
   "execution_count": 136,
   "id": "0adc412d",
   "metadata": {},
   "outputs": [
    {
     "name": "stdout",
     "output_type": "stream",
     "text": [
      "[[[ 0  1  2  3]\n",
      "  [ 4  5  6  7]]\n",
      "\n",
      " [[ 8  9 10 11]\n",
      "  [12 13 14 15]]]\n"
     ]
    },
    {
     "data": {
      "text/plain": [
       "[array([[[ 0,  1],\n",
       "         [ 4,  5]],\n",
       " \n",
       "        [[ 8,  9],\n",
       "         [12, 13]]]),\n",
       " array([[[ 2,  3],\n",
       "         [ 6,  7]],\n",
       " \n",
       "        [[10, 11],\n",
       "         [14, 15]]])]"
      ]
     },
     "execution_count": 136,
     "metadata": {},
     "output_type": "execute_result"
    }
   ],
   "source": [
    "# np.dsplit will split arrays along the third axis\n",
    "grid = grid.reshape(2,2,4)\n",
    "print(grid)\n",
    "\n",
    "np.dsplit(grid,2)"
   ]
  },
  {
   "cell_type": "code",
   "execution_count": 137,
   "id": "b114f2d2",
   "metadata": {},
   "outputs": [
    {
     "data": {
      "text/plain": [
       "(2, 2, 2)"
      ]
     },
     "execution_count": 137,
     "metadata": {},
     "output_type": "execute_result"
    }
   ],
   "source": [
    "# split on the third axis --> (2,2,2)\n",
    "np.dsplit(grid,2)[0].shape"
   ]
  },
  {
   "cell_type": "markdown",
   "id": "c74dc243",
   "metadata": {},
   "source": [
    "### Computation on NumPy arrays: universal functions\n",
    "\n",
    "Python’s default implementation (known as CPython) does some operations very\n",
    "slowly. This is in part due to the dynamic, interpreted nature of the language: the fact\n",
    "that types are flexible, so that sequences of operations cannot be compiled down to\n",
    "efficient machine code as in languages like C and Fortran.\n",
    "\n",
    "- Vectorized operation\n",
    "    - is the process of converting an algorithm from operating on a single value at a time to operating on a set of values (vector) at one time.\n",
    "    - this vectorized approach is designed to push the loop into the compiled layer that underlies NumPy, leading to much faster execution.\n",
    "\n",
    "- Vectorized operations in NumPy are implemented via Universal Functions (*ufuncs*), whose main purpose is to quickly execute repeated operations on values in NumPy arrays.\n",
    "\n",
    "- *Ufuncs* can operate on scalar and an array or two arrays."
   ]
  },
  {
   "cell_type": "markdown",
   "id": "0981315d",
   "metadata": {},
   "source": [
    "**Example**\n",
    "Let's write a function to calculate the reciprocals of each value in a one-dimensional array generated from random itegers:\n",
    "`np.random.randint(1, 10, size = 5)`\n",
    "\n",
    "And then, we will compare the computing speed between loop-based approach and vectorized approach."
   ]
  },
  {
   "cell_type": "code",
   "execution_count": 2,
   "id": "ba8c23df",
   "metadata": {},
   "outputs": [],
   "source": [
    "# Define the function\n",
    "def compute_reciprocals(values):\n",
    "    output = np.empty(len(values))\n",
    "    for i in range(len(values)):\n",
    "        output[i] = 1.0 / values[i]\n",
    "    return output"
   ]
  },
  {
   "cell_type": "code",
   "execution_count": 4,
   "id": "67c333ec",
   "metadata": {},
   "outputs": [
    {
     "name": "stdout",
     "output_type": "stream",
     "text": [
      "[6 1 4 4 8]\n"
     ]
    },
    {
     "data": {
      "text/plain": [
       "array([0.16666667, 1.        , 0.25      , 0.25      , 0.125     ])"
      ]
     },
     "execution_count": 4,
     "metadata": {},
     "output_type": "execute_result"
    }
   ],
   "source": [
    "import numpy as np\n",
    "\n",
    "# seed for reproducibility\n",
    "np.random.seed(0)\n",
    "# randomly generate values\n",
    "values = np.random.randint(1, 10, size = 5)\n",
    "print(values)\n",
    "# calculate reciprocals\n",
    "compute_reciprocals(values)"
   ]
  },
  {
   "cell_type": "markdown",
   "id": "b7bba63a",
   "metadata": {},
   "source": [
    "Now, compare the time:"
   ]
  },
  {
   "cell_type": "code",
   "execution_count": 5,
   "id": "558445c2",
   "metadata": {},
   "outputs": [
    {
     "name": "stdout",
     "output_type": "stream",
     "text": [
      "286 ms ± 5.85 ms per loop (mean ± std. dev. of 7 runs, 1 loop each)\n"
     ]
    }
   ],
   "source": [
    "big_array = np.random.randint(1, 100, size = 1000000)\n",
    "%timeit compute_reciprocals(big_array)"
   ]
  },
  {
   "cell_type": "code",
   "execution_count": 8,
   "id": "bba3c061",
   "metadata": {
    "scrolled": true
   },
   "outputs": [
    {
     "name": "stdout",
     "output_type": "stream",
     "text": [
      "7.35 ms ± 585 µs per loop (mean ± std. dev. of 7 runs, 100 loops each)\n"
     ]
    }
   ],
   "source": [
    "%timeit (1.0 / big_array)"
   ]
  },
  {
   "cell_type": "markdown",
   "id": "49f3d5c4",
   "metadata": {},
   "source": [
    "- You see that vectorized approach is much faster than loop approach. \n",
    "\n",
    "- A major reason why vectorization is faster than its for loop counterpart is due to the underlying implementation of Numpy operations. As many of you know (if you're familiar with Python), Python is a dynamically typed language.\n",
    "\n",
    "- More details in this [article](https://pythonspeed.com/articles/vectorization-python/#:~:text=The%20vectorization%20performance%20trifecta&text=Your%20code%20will%20then%20run,layout%20will%20reduces%20cache%20misses.)."
   ]
  },
  {
   "cell_type": "markdown",
   "id": "68737af6",
   "metadata": {},
   "source": [
    "#### `ufuncs`\n",
    "1. Vectorized operations in NumPy are implemented via `ufuncs`, whose main purpose is\n",
    "to quickly execute repeated operations on values in NumPy arrays. \n",
    "\n",
    "2. Ufuncs are\n",
    "extremely flexible—before we saw an operation between a scalar and an array, but we\n",
    "can also operate between two arrays:"
   ]
  },
  {
   "cell_type": "code",
   "execution_count": 378,
   "id": "7d6000f0",
   "metadata": {},
   "outputs": [
    {
     "data": {
      "text/plain": [
       "array([0.        , 0.5       , 0.66666667, 0.75      , 0.8       ])"
      ]
     },
     "execution_count": 378,
     "metadata": {},
     "output_type": "execute_result"
    }
   ],
   "source": [
    "# Ufuncs on two arrays\n",
    "np.arange(5)/np.arange(1,6)"
   ]
  },
  {
   "cell_type": "code",
   "execution_count": 23,
   "id": "78aaa414",
   "metadata": {},
   "outputs": [
    {
     "data": {
      "text/plain": [
       "array([[0, 1, 2],\n",
       "       [3, 4, 5],\n",
       "       [6, 7, 8]])"
      ]
     },
     "execution_count": 23,
     "metadata": {},
     "output_type": "execute_result"
    },
    {
     "data": {
      "text/plain": [
       "array([[ 0,  2,  4],\n",
       "       [ 6,  8, 10],\n",
       "       [12, 14, 16]])"
      ]
     },
     "execution_count": 23,
     "metadata": {},
     "output_type": "execute_result"
    },
    {
     "data": {
      "text/plain": [
       "array([[ 0,  1,  4],\n",
       "       [ 9, 16, 25],\n",
       "       [36, 49, 64]])"
      ]
     },
     "execution_count": 23,
     "metadata": {},
     "output_type": "execute_result"
    },
    {
     "data": {
      "text/plain": [
       "array([[  1,   2,   4],\n",
       "       [  8,  16,  32],\n",
       "       [ 64, 128, 256]], dtype=int32)"
      ]
     },
     "execution_count": 23,
     "metadata": {},
     "output_type": "execute_result"
    }
   ],
   "source": [
    "# multi-dimension array\n",
    "x = np.arange(9).reshape((3,3))\n",
    "x\n",
    "x * 2\n",
    "x ** 2\n",
    "2 ** x"
   ]
  },
  {
   "cell_type": "markdown",
   "id": "8a3d5cfa",
   "metadata": {},
   "source": [
    "To sum up, any time you see such a loop in a Python script, you should consider\n",
    "whether it can be replaced with a vectorized expression."
   ]
  },
  {
   "cell_type": "markdown",
   "id": "86d4fd32",
   "metadata": {},
   "source": [
    "### Explore NumPy's Ufuncs\n",
    "- unary ufuncs: operate on a single input \n",
    "- binary ufuncs: operate on two inputs"
   ]
  },
  {
   "cell_type": "markdown",
   "id": "4c8ef57c",
   "metadata": {},
   "source": [
    "#### Array arithmetic\n",
    "NumPy’s ufuncs feel very natural to use because they make use of Python’s native\n",
    "arithmetic operators. The standard addition, subtraction, multiplication, and division\n",
    "can all be used:"
   ]
  },
  {
   "cell_type": "code",
   "execution_count": 24,
   "id": "02e912de",
   "metadata": {},
   "outputs": [
    {
     "data": {
      "text/plain": [
       "array([0, 1, 2, 3], dtype=int32)"
      ]
     },
     "execution_count": 24,
     "metadata": {},
     "output_type": "execute_result"
    },
    {
     "data": {
      "text/plain": [
       "array([0, 1, 4, 9])"
      ]
     },
     "execution_count": 24,
     "metadata": {},
     "output_type": "execute_result"
    },
    {
     "data": {
      "text/plain": [
       "array([0, 0, 1, 1], dtype=int32)"
      ]
     },
     "execution_count": 24,
     "metadata": {},
     "output_type": "execute_result"
    },
    {
     "data": {
      "text/plain": [
       "array([100.  ,  90.25,  81.  ,  72.25])"
      ]
     },
     "execution_count": 24,
     "metadata": {},
     "output_type": "execute_result"
    }
   ],
   "source": [
    "x = np.arange(4)\n",
    "\n",
    "# remainder\n",
    "x % 5\n",
    "# exponential\n",
    "x ** 2\n",
    "# floor division\n",
    "x // 2\n",
    "\n",
    "(-0.5 * x + 10)**2"
   ]
  },
  {
   "cell_type": "code",
   "execution_count": 29,
   "id": "a07d2358",
   "metadata": {},
   "outputs": [
    {
     "data": {
      "text/plain": [
       "array([0, 1, 2, 3])"
      ]
     },
     "execution_count": 29,
     "metadata": {},
     "output_type": "execute_result"
    },
    {
     "name": "stdout",
     "output_type": "stream",
     "text": [
      "+2:  [2 3 4 5]\n",
      "-1 [-1  0  1  2]\n",
      "negative:  [ 0 -1 -2 -3]\n",
      "multiply by 10:  [ 0 10 20 30]\n",
      "divide by 10:  [0.  0.1 0.2 0.3]\n",
      "floor divide by 10:  [0 0 0 0]\n",
      "exponentiation to 2:  [1 2 4 8]\n",
      "modulus of dividing by 1:  [0 0 0 0]\n"
     ]
    }
   ],
   "source": [
    "# built-in NumPy functions\n",
    "x\n",
    "\n",
    "print(\"+2: \",np.add(x ,2))\n",
    "\n",
    "print(\"-1\", np.subtract(x , 1))\n",
    "\n",
    "print(\"negative: \", np.negative(x))\n",
    "\n",
    "print(\"multiply by 10: \", np.multiply(x, 10))\n",
    "\n",
    "print(\"divide by 10: \", np.divide(x, 10))\n",
    "\n",
    "print(\"floor divide by 10: \", np.floor_divide(x, 10))\n",
    "\n",
    "print(\"exponentiation of 2: \", np.power(2, x))\n",
    "\n",
    "print(\"modulus of dividing by 1: \", np.mod(x, 1))"
   ]
  },
  {
   "cell_type": "markdown",
   "id": "261e8a11",
   "metadata": {},
   "source": [
    "<center><img src = \"images/Numpy_5.jpg\" width = \"500\" ></center>\n",
    "<center>Reference: Python Data Science Handbook p.53</center>"
   ]
  },
  {
   "cell_type": "markdown",
   "id": "2afd5970",
   "metadata": {},
   "source": [
    "##### absolute value"
   ]
  },
  {
   "cell_type": "code",
   "execution_count": 31,
   "id": "239e3cee",
   "metadata": {},
   "outputs": [
    {
     "data": {
      "text/plain": [
       "array([2, 1, 0, 3, 4])"
      ]
     },
     "execution_count": 31,
     "metadata": {},
     "output_type": "execute_result"
    },
    {
     "data": {
      "text/plain": [
       "array([2, 1, 0, 3, 4])"
      ]
     },
     "execution_count": 31,
     "metadata": {},
     "output_type": "execute_result"
    },
    {
     "data": {
      "text/plain": [
       "array([2, 1, 0, 3, 4])"
      ]
     },
     "execution_count": 31,
     "metadata": {},
     "output_type": "execute_result"
    }
   ],
   "source": [
    "x = np.array([-2, -1, 0, 3, 4])\n",
    "abs(x)\n",
    "np.abs(x)\n",
    "np.absolute(x)"
   ]
  },
  {
   "cell_type": "code",
   "execution_count": 410,
   "id": "823c4462",
   "metadata": {},
   "outputs": [
    {
     "data": {
      "text/plain": [
       "array([-3.+0.j, -0.-4.j,  4.-3.j,  2.+0.j,  0.+1.j])"
      ]
     },
     "execution_count": 410,
     "metadata": {},
     "output_type": "execute_result"
    },
    {
     "data": {
      "text/plain": [
       "array([3., 4., 5., 2., 1.])"
      ]
     },
     "execution_count": 410,
     "metadata": {},
     "output_type": "execute_result"
    }
   ],
   "source": [
    "# ufunc can also handle complex data, the absolute value returns the magnitude\n",
    "x = np.array([-3, -4j, 4 - 3j, 2 + 0j, 0 + 1j])\n",
    "x\n",
    "np.abs(x)"
   ]
  },
  {
   "cell_type": "markdown",
   "id": "676a89cb",
   "metadata": {},
   "source": [
    "##### Trigonometric functions"
   ]
  },
  {
   "cell_type": "code",
   "execution_count": 32,
   "id": "ccd74846",
   "metadata": {},
   "outputs": [
    {
     "data": {
      "text/plain": [
       "array([0.        , 1.57079633, 3.14159265])"
      ]
     },
     "execution_count": 32,
     "metadata": {},
     "output_type": "execute_result"
    },
    {
     "data": {
      "text/plain": [
       "array([0.0000000e+00, 1.0000000e+00, 1.2246468e-16])"
      ]
     },
     "execution_count": 32,
     "metadata": {},
     "output_type": "execute_result"
    },
    {
     "data": {
      "text/plain": [
       "array([ 1.000000e+00,  6.123234e-17, -1.000000e+00])"
      ]
     },
     "execution_count": 32,
     "metadata": {},
     "output_type": "execute_result"
    },
    {
     "data": {
      "text/plain": [
       "array([ 0.00000000e+00,  1.63312394e+16, -1.22464680e-16])"
      ]
     },
     "execution_count": 32,
     "metadata": {},
     "output_type": "execute_result"
    }
   ],
   "source": [
    "# define an array of angles\n",
    "theta = np.linspace(0, np.pi, 3)\n",
    "theta\n",
    "np.sin(theta)\n",
    "np.cos(theta)\n",
    "np.tan(theta)"
   ]
  },
  {
   "cell_type": "code",
   "execution_count": 415,
   "id": "915a7b15",
   "metadata": {},
   "outputs": [
    {
     "data": {
      "text/plain": [
       "array([-1.57079633,  0.        ,  1.57079633])"
      ]
     },
     "execution_count": 415,
     "metadata": {},
     "output_type": "execute_result"
    },
    {
     "data": {
      "text/plain": [
       "array([3.14159265, 1.57079633, 0.        ])"
      ]
     },
     "execution_count": 415,
     "metadata": {},
     "output_type": "execute_result"
    },
    {
     "data": {
      "text/plain": [
       "array([-0.78539816,  0.        ,  0.78539816])"
      ]
     },
     "execution_count": 415,
     "metadata": {},
     "output_type": "execute_result"
    }
   ],
   "source": [
    "# inverse trigonometric functions\n",
    "x = [-1, 0 ,1]\n",
    "np.arcsin(x)\n",
    "np.arccos(x)\n",
    "np.arctan(x)"
   ]
  },
  {
   "cell_type": "markdown",
   "id": "4f030efe",
   "metadata": {},
   "source": [
    "##### exponents and logarithms"
   ]
  },
  {
   "cell_type": "code",
   "execution_count": 38,
   "id": "7ef0683d",
   "metadata": {},
   "outputs": [
    {
     "data": {
      "text/plain": [
       "array([ 2.71828183,  7.3890561 , 20.08553692])"
      ]
     },
     "execution_count": 38,
     "metadata": {},
     "output_type": "execute_result"
    },
    {
     "data": {
      "text/plain": [
       "array([ 2.71828183,  7.3890561 , 20.08553692])"
      ]
     },
     "execution_count": 38,
     "metadata": {},
     "output_type": "execute_result"
    },
    {
     "data": {
      "text/plain": [
       "array([2., 4., 8.])"
      ]
     },
     "execution_count": 38,
     "metadata": {},
     "output_type": "execute_result"
    },
    {
     "data": {
      "text/plain": [
       "array([ 3,  9, 27], dtype=int32)"
      ]
     },
     "execution_count": 38,
     "metadata": {},
     "output_type": "execute_result"
    }
   ],
   "source": [
    "x = [1, 2 ,3]\n",
    "\n",
    "np.exp(x) # natural exponential function\n",
    "np.power(np.exp(1),x)\n",
    "\n",
    "np.exp2(x)\n",
    "np.power(3, x)"
   ]
  },
  {
   "cell_type": "code",
   "execution_count": 39,
   "id": "ddab8634",
   "metadata": {},
   "outputs": [
    {
     "data": {
      "text/plain": [
       "array([0.        , 0.69314718, 1.38629436, 2.30258509])"
      ]
     },
     "execution_count": 39,
     "metadata": {},
     "output_type": "execute_result"
    },
    {
     "data": {
      "text/plain": [
       "array([0.        , 1.        , 2.        , 3.32192809])"
      ]
     },
     "execution_count": 39,
     "metadata": {},
     "output_type": "execute_result"
    },
    {
     "data": {
      "text/plain": [
       "array([0.        , 0.30103   , 0.60205999, 1.        ])"
      ]
     },
     "execution_count": 39,
     "metadata": {},
     "output_type": "execute_result"
    }
   ],
   "source": [
    "# logarithms\n",
    "x = [1, 2, 4, 10]\n",
    "\n",
    "np.log(x) # ln(x)\n",
    "np.log2(x) # log2(x)\n",
    "np.log10(x) # log10(x)"
   ]
  },
  {
   "cell_type": "code",
   "execution_count": 428,
   "id": "8fe4c7fe",
   "metadata": {},
   "outputs": [
    {
     "data": {
      "text/plain": [
       "array([0.        , 0.0010005 , 0.01005017, 0.10517092])"
      ]
     },
     "execution_count": 428,
     "metadata": {},
     "output_type": "execute_result"
    },
    {
     "data": {
      "text/plain": [
       "array([0.        , 0.0009995 , 0.00995033, 0.09531018])"
      ]
     },
     "execution_count": 428,
     "metadata": {},
     "output_type": "execute_result"
    }
   ],
   "source": [
    "# when x is very small\n",
    "# these functions give more precise values than \n",
    "# if the raw np.log or np.exp were used\n",
    "\n",
    "x = [0, 0.001, 0.01, 0.1]\n",
    "np.expm1(x) # exp(x) -1 \n",
    "np.log1p(x) # log(x+1)"
   ]
  },
  {
   "cell_type": "markdown",
   "id": "2391b7ca",
   "metadata": {},
   "source": [
    "There are way too many other specialized ufuncs in Numpy, such as hyperbolic trig functions, bitwise arithmetic, etc. \n",
    "\n",
    "Another excellent source for more specialized and obscure ufuncs is the submodule `scipy.special`. If you want to compute some obscure mathematical function on your data, chances are it is implemented in `scipy.special`.\n",
    "\n",
    "```\n",
    "from scipy import special\n",
    "```"
   ]
  },
  {
   "cell_type": "markdown",
   "id": "1d93d326",
   "metadata": {},
   "source": [
    "##### Min, Max, and Everything Between\n",
    "\n",
    "To deal with a large amount of data, a first step is to compute summary\n",
    "statistics for the data in question. Perhaps the most common summary statistics\n",
    "are the mean and standard deviation, but other aggregates are useful as well (the sum, product, median,\n",
    "minimum and maximum, quantiles, etc.)."
   ]
  },
  {
   "cell_type": "code",
   "execution_count": 45,
   "id": "8238abe0",
   "metadata": {},
   "outputs": [
    {
     "data": {
      "text/plain": [
       "48.13562340572962"
      ]
     },
     "execution_count": 45,
     "metadata": {},
     "output_type": "execute_result"
    },
    {
     "data": {
      "text/plain": [
       "48.13562340572961"
      ]
     },
     "execution_count": 45,
     "metadata": {},
     "output_type": "execute_result"
    }
   ],
   "source": [
    "import numpy as np\n",
    "\n",
    "np.random.seed(2023)\n",
    "\n",
    "# Return random floats in the half-open interval [0.0, 1.0)\n",
    "L = np.random.random(100) \n",
    "\n",
    "# built-in sum \n",
    "sum(L)\n",
    "\n",
    "# NumPy's sum more power, can deal with multiple array dimensions\n",
    "np.sum(L)"
   ]
  },
  {
   "cell_type": "code",
   "execution_count": 55,
   "id": "9f8ee999",
   "metadata": {},
   "outputs": [],
   "source": [
    "np.random.rand?"
   ]
  },
  {
   "cell_type": "code",
   "execution_count": 51,
   "id": "f2d65995",
   "metadata": {},
   "outputs": [
    {
     "data": {
      "text/plain": [
       "array([0.61990928, 0.66400051, 0.37949208, 0.0923213 , 0.16059094])"
      ]
     },
     "execution_count": 51,
     "metadata": {},
     "output_type": "execute_result"
    }
   ],
   "source": [
    "# generate a big array of 10000000 elements\n",
    "big = np.random.rand(10000000)\n",
    "big[:5]"
   ]
  },
  {
   "cell_type": "code",
   "execution_count": 52,
   "id": "de0e60ef",
   "metadata": {},
   "outputs": [
    {
     "data": {
      "text/plain": [
       "(1.800969218201942e-08, 0.999999940558919)"
      ]
     },
     "execution_count": 52,
     "metadata": {},
     "output_type": "execute_result"
    }
   ],
   "source": [
    "# min() and max()\n",
    "min(big), max(big)"
   ]
  },
  {
   "cell_type": "code",
   "execution_count": 56,
   "id": "3d643b3d",
   "metadata": {},
   "outputs": [
    {
     "data": {
      "text/plain": [
       "(1.800969218201942e-08, 0.999999940558919)"
      ]
     },
     "execution_count": 56,
     "metadata": {},
     "output_type": "execute_result"
    }
   ],
   "source": [
    "# np functions\n",
    "np.min(big), np.max(big)"
   ]
  },
  {
   "cell_type": "code",
   "execution_count": 60,
   "id": "ea54a8f7",
   "metadata": {},
   "outputs": [
    {
     "data": {
      "text/plain": [
       "(1.800969218201942e-08, 0.999999940558919)"
      ]
     },
     "execution_count": 60,
     "metadata": {},
     "output_type": "execute_result"
    }
   ],
   "source": [
    "# or use the methods of the array objects\n",
    "big.min(), big.max()"
   ]
  },
  {
   "cell_type": "markdown",
   "id": "576c0ada",
   "metadata": {},
   "source": [
    "##### Multidimensional aggregates\n",
    "\n",
    "1. Say you have a 2-dim array, by default the aggregation function will sum up over the entire array."
   ]
  },
  {
   "cell_type": "markdown",
   "id": "1352c728",
   "metadata": {},
   "source": [
    "2. Aggregation functions can take an additional argument specifying the axis long which the aggregate is computed. \n",
    "\n",
    "- For example, `axis = 0` means calculate the column-wise result."
   ]
  },
  {
   "cell_type": "code",
   "execution_count": null,
   "id": "02116740",
   "metadata": {},
   "outputs": [],
   "source": [
    "# create a 3x4 array\n",
    "m = np.random.random((3,4))\n",
    "m\n",
    "\n",
    "# sum up the whole rray\n",
    "m.sum()"
   ]
  },
  {
   "cell_type": "code",
   "execution_count": 80,
   "id": "9b5e4646",
   "metadata": {},
   "outputs": [
    {
     "data": {
      "text/plain": [
       "array([0.65042504, 1.14826782, 1.58127259, 1.28882236])"
      ]
     },
     "execution_count": 80,
     "metadata": {},
     "output_type": "execute_result"
    },
    {
     "data": {
      "text/plain": [
       "array([0.07468907, 0.15498706, 0.20934697, 0.08949425])"
      ]
     },
     "execution_count": 80,
     "metadata": {},
     "output_type": "execute_result"
    }
   ],
   "source": [
    "m.sum(axis = 0)\n",
    "m.min(axis = 0)"
   ]
  },
  {
   "cell_type": "markdown",
   "id": "e81b2b83",
   "metadata": {},
   "source": [
    "- `axis = 1` means calculate the row-wise result."
   ]
  },
  {
   "cell_type": "code",
   "execution_count": 82,
   "id": "b83bd123",
   "metadata": {
    "scrolled": true
   },
   "outputs": [
    {
     "data": {
      "text/plain": [
       "array([1.34696484, 1.75054256, 1.57128041])"
      ]
     },
     "execution_count": 82,
     "metadata": {},
     "output_type": "execute_result"
    },
    {
     "data": {
      "text/plain": [
       "array([0.6302758 , 0.83430421, 0.74164981])"
      ]
     },
     "execution_count": 82,
     "metadata": {},
     "output_type": "execute_result"
    }
   ],
   "source": [
    "m.sum(axis = 1)\n",
    "m.max(axis = 1)"
   ]
  },
  {
   "cell_type": "code",
   "execution_count": 98,
   "id": "71b686f7",
   "metadata": {},
   "outputs": [
    {
     "data": {
      "text/plain": [
       "0.06594574181744674"
      ]
     },
     "execution_count": 98,
     "metadata": {},
     "output_type": "execute_result"
    },
    {
     "data": {
      "text/plain": [
       "0.2567990300165613"
      ]
     },
     "execution_count": 98,
     "metadata": {},
     "output_type": "execute_result"
    },
    {
     "data": {
      "text/plain": [
       "0.3890656511095751"
      ]
     },
     "execution_count": 98,
     "metadata": {},
     "output_type": "execute_result"
    },
    {
     "data": {
      "text/plain": [
       "3.5508569600437184e-07"
      ]
     },
     "execution_count": 98,
     "metadata": {},
     "output_type": "execute_result"
    }
   ],
   "source": [
    "m.var()\n",
    "m.std()\n",
    "m.mean()\n",
    "m.prod()"
   ]
  },
  {
   "cell_type": "code",
   "execution_count": 107,
   "id": "d5a65c71",
   "metadata": {},
   "outputs": [
    {
     "data": {
      "text/plain": [
       "'0.0000003551'"
      ]
     },
     "execution_count": 107,
     "metadata": {},
     "output_type": "execute_result"
    }
   ],
   "source": [
    "\"{:.10f}\".format(m.prod())"
   ]
  },
  {
   "cell_type": "markdown",
   "id": "ba7f9b12",
   "metadata": {},
   "source": [
    "### Broadcasting\n",
    "a set of rules for applying binary ufuncs (addition, subtraction, multiplication, etc.) on arrays of different sizes.\n",
    "\n",
    "- Rule 1: If the two arrays differ in their number of dimensions, the shape of the one with fewer dimensions is padded with ones on its leading (left) side.\n",
    "- Rule 2: If the shape of the two arrays does not match in any dimension, the array with shape equal to 1 in that dimension is stretched to match the other shape.\n",
    "- Rule 3: If in any dimension the sizes disagree and neither is equal to 1, an error is raised."
   ]
  },
  {
   "cell_type": "code",
   "execution_count": 108,
   "id": "de14680c",
   "metadata": {},
   "outputs": [
    {
     "data": {
      "text/plain": [
       "array([2, 3, 4])"
      ]
     },
     "execution_count": 108,
     "metadata": {},
     "output_type": "execute_result"
    },
    {
     "data": {
      "text/plain": [
       "array([0, 1, 2])"
      ]
     },
     "execution_count": 108,
     "metadata": {},
     "output_type": "execute_result"
    },
    {
     "data": {
      "text/plain": [
       "array([[1., 1., 1.],\n",
       "       [1., 1., 1.],\n",
       "       [1., 1., 1.]])"
      ]
     },
     "execution_count": 108,
     "metadata": {},
     "output_type": "execute_result"
    },
    {
     "data": {
      "text/plain": [
       "array([[1., 2., 3.],\n",
       "       [1., 2., 3.],\n",
       "       [1., 2., 3.]])"
      ]
     },
     "execution_count": 108,
     "metadata": {},
     "output_type": "execute_result"
    }
   ],
   "source": [
    "# array add a scalar\n",
    "\n",
    "# one dimension array\n",
    "a = np.array([0,1,2])\n",
    "a + 2\n",
    "\n",
    "a\n",
    "# two dimension array\n",
    "M = np.ones((3,3))\n",
    "M\n",
    "M + a\n",
    "\n",
    "# the one dimension array is stretched, or broadcast, across the second dimension \n",
    "# to match the dimension of M"
   ]
  },
  {
   "cell_type": "code",
   "execution_count": 109,
   "id": "b5302819",
   "metadata": {},
   "outputs": [
    {
     "data": {
      "text/plain": [
       "array([0, 1, 2])"
      ]
     },
     "execution_count": 109,
     "metadata": {},
     "output_type": "execute_result"
    },
    {
     "data": {
      "text/plain": [
       "array([[0],\n",
       "       [1],\n",
       "       [2]])"
      ]
     },
     "execution_count": 109,
     "metadata": {},
     "output_type": "execute_result"
    },
    {
     "data": {
      "text/plain": [
       "array([[0, 1, 2],\n",
       "       [1, 2, 3],\n",
       "       [2, 3, 4]])"
      ]
     },
     "execution_count": 109,
     "metadata": {},
     "output_type": "execute_result"
    },
    {
     "data": {
      "text/plain": [
       "array([[0, 0, 0],\n",
       "       [0, 1, 2],\n",
       "       [0, 2, 4]])"
      ]
     },
     "execution_count": 109,
     "metadata": {},
     "output_type": "execute_result"
    }
   ],
   "source": [
    "a = np.arange(3)\n",
    "b = np.arange(3).reshape((3,1))\n",
    "# b = np.arange(3)[:, np.newaxis] # np.newaxis is used for extending dimensions \n",
    "a\n",
    "b\n",
    "\n",
    "# inputs are two 1 dimension arrays\n",
    "# output is a 2 dimension array\n",
    "a + b\n",
    "a * b"
   ]
  },
  {
   "cell_type": "markdown",
   "id": "209d7fc1",
   "metadata": {},
   "source": [
    "<center><img src=\"images/Numpy_3.JPG\" width = \"400\"></center>\n",
    "<center>Figure 3. NumPy broadcasting</center>"
   ]
  },
  {
   "cell_type": "code",
   "execution_count": 110,
   "id": "cdbb2b3d",
   "metadata": {},
   "outputs": [
    {
     "data": {
      "text/plain": [
       "array([[0],\n",
       "       [1],\n",
       "       [2]])"
      ]
     },
     "execution_count": 110,
     "metadata": {},
     "output_type": "execute_result"
    },
    {
     "data": {
      "text/plain": [
       "array([0, 1, 2])"
      ]
     },
     "execution_count": 110,
     "metadata": {},
     "output_type": "execute_result"
    },
    {
     "data": {
      "text/plain": [
       "array([[0, 1, 2],\n",
       "       [1, 2, 3],\n",
       "       [2, 3, 4]])"
      ]
     },
     "execution_count": 110,
     "metadata": {},
     "output_type": "execute_result"
    }
   ],
   "source": [
    "# Broadcasting ex 1\n",
    "a = np.arange(3).reshape((3,1))\n",
    "b = np.arange(3)\n",
    "\n",
    "a\n",
    "b\n",
    "\n",
    "a + b"
   ]
  },
  {
   "cell_type": "code",
   "execution_count": 8,
   "id": "e70c0455",
   "metadata": {},
   "outputs": [
    {
     "data": {
      "text/plain": [
       "array([[1., 1.],\n",
       "       [1., 1.],\n",
       "       [1., 1.]])"
      ]
     },
     "execution_count": 8,
     "metadata": {},
     "output_type": "execute_result"
    },
    {
     "data": {
      "text/plain": [
       "array([0, 1, 2])"
      ]
     },
     "execution_count": 8,
     "metadata": {},
     "output_type": "execute_result"
    },
    {
     "ename": "ValueError",
     "evalue": "operands could not be broadcast together with shapes (3,2) (3,) ",
     "output_type": "error",
     "traceback": [
      "\u001b[1;31m---------------------------------------------------------------------------\u001b[0m",
      "\u001b[1;31mValueError\u001b[0m                                Traceback (most recent call last)",
      "Cell \u001b[1;32mIn[8], line 7\u001b[0m\n\u001b[0;32m      4\u001b[0m a \u001b[38;5;66;03m# 3x2\u001b[39;00m\n\u001b[0;32m      5\u001b[0m b \u001b[38;5;66;03m# 1x3\u001b[39;00m\n\u001b[1;32m----> 7\u001b[0m \u001b[43ma\u001b[49m\u001b[43m \u001b[49m\u001b[38;5;241;43m+\u001b[39;49m\u001b[43m \u001b[49m\u001b[43mb\u001b[49m\n",
      "\u001b[1;31mValueError\u001b[0m: operands could not be broadcast together with shapes (3,2) (3,) "
     ]
    }
   ],
   "source": [
    "# Broadcasting ex 2\n",
    "a = np.ones((3,2))\n",
    "b = np.arange(3)\n",
    "a # 3x2\n",
    "b # 1x3\n",
    "\n",
    "a + b"
   ]
  },
  {
   "cell_type": "code",
   "execution_count": 112,
   "id": "3bb19f9f",
   "metadata": {},
   "outputs": [
    {
     "data": {
      "text/plain": [
       "array([[0],\n",
       "       [1],\n",
       "       [2]])"
      ]
     },
     "execution_count": 112,
     "metadata": {},
     "output_type": "execute_result"
    },
    {
     "data": {
      "text/plain": [
       "array([[1., 1.],\n",
       "       [1., 1.],\n",
       "       [1., 1.]])"
      ]
     },
     "execution_count": 112,
     "metadata": {},
     "output_type": "execute_result"
    },
    {
     "data": {
      "text/plain": [
       "array([[1., 1.],\n",
       "       [2., 2.],\n",
       "       [3., 3.]])"
      ]
     },
     "execution_count": 112,
     "metadata": {},
     "output_type": "execute_result"
    }
   ],
   "source": [
    "b[:, np.newaxis]\n",
    "a\n",
    "a + b[:, np.newaxis]"
   ]
  },
  {
   "cell_type": "code",
   "execution_count": 92,
   "id": "1b00c653",
   "metadata": {},
   "outputs": [
    {
     "data": {
      "text/plain": [
       "array([[2.71828183, 2.71828183],\n",
       "       [2.71828183, 2.71828183],\n",
       "       [2.71828183, 2.71828183]])"
      ]
     },
     "execution_count": 92,
     "metadata": {},
     "output_type": "execute_result"
    },
    {
     "data": {
      "text/plain": [
       "array([1.        , 2.71828183, 7.3890561 ])"
      ]
     },
     "execution_count": 92,
     "metadata": {},
     "output_type": "execute_result"
    }
   ],
   "source": [
    "np.exp(a)\n",
    "np.exp(b)\n",
    "\n",
    "# np.exp(b)[:, np.newaxis]\n",
    "# np.log(np.exp(a) + np.exp(b)[:, np.newaxis])"
   ]
  },
  {
   "cell_type": "code",
   "execution_count": 6,
   "id": "2070bde3",
   "metadata": {},
   "outputs": [
    {
     "data": {
      "text/plain": [
       "array([0, 1, 2])"
      ]
     },
     "execution_count": 6,
     "metadata": {},
     "output_type": "execute_result"
    },
    {
     "data": {
      "text/plain": [
       "array([[1, 1, 1],\n",
       "       [1, 1, 1],\n",
       "       [1, 1, 1]])"
      ]
     },
     "execution_count": 6,
     "metadata": {},
     "output_type": "execute_result"
    },
    {
     "data": {
      "text/plain": [
       "array([[1, 1],\n",
       "       [1, 1],\n",
       "       [1, 1]])"
      ]
     },
     "execution_count": 6,
     "metadata": {},
     "output_type": "execute_result"
    },
    {
     "name": "stdout",
     "output_type": "stream",
     "text": [
      "(3,) \n",
      " (3, 3) \n",
      " (3, 2)\n"
     ]
    },
    {
     "data": {
      "text/plain": [
       "array([5, 6, 7])"
      ]
     },
     "execution_count": 6,
     "metadata": {},
     "output_type": "execute_result"
    }
   ],
   "source": [
    "# Broadcasting examples\n",
    "a1 = np.arange(3)\n",
    "a2 = np.ones((3,3),dtype='int')\n",
    "a3 = np.ones((3,2),dtype='int')\n",
    "a1\n",
    "a2\n",
    "a3\n",
    "print(a1.shape,'\\n',a2.shape,'\\n',a3.shape)\n",
    "\n",
    "a1 + 5"
   ]
  },
  {
   "cell_type": "code",
   "execution_count": 7,
   "id": "e1464e3f",
   "metadata": {},
   "outputs": [
    {
     "data": {
      "text/plain": [
       "array([[0.77483935, 0.15858292, 0.5684498 ],\n",
       "       [0.67199406, 0.80320118, 0.85842674],\n",
       "       [0.95478426, 0.8357883 , 0.76849974],\n",
       "       [0.53084947, 0.78221603, 0.27339838],\n",
       "       [0.58935129, 0.1932977 , 0.69662652],\n",
       "       [0.41358812, 0.23813738, 0.79022927],\n",
       "       [0.40678465, 0.29194775, 0.29400755],\n",
       "       [0.33038028, 0.0893021 , 0.40075185],\n",
       "       [0.46634173, 0.64694866, 0.36265841],\n",
       "       [0.66431462, 0.68633176, 0.6525757 ]])"
      ]
     },
     "execution_count": 7,
     "metadata": {},
     "output_type": "execute_result"
    },
    {
     "data": {
      "text/plain": [
       "array([0.58032278, 0.47257538, 0.5665624 ])"
      ]
     },
     "execution_count": 7,
     "metadata": {},
     "output_type": "execute_result"
    }
   ],
   "source": [
    "# centering an arrays\n",
    "X = np.random.random((10,3))\n",
    "X\n",
    "\n",
    "# calculate the average for the first dimension (column)\n",
    "X.mean(0)"
   ]
  },
  {
   "cell_type": "code",
   "execution_count": 232,
   "id": "eeddd7ec",
   "metadata": {},
   "outputs": [
    {
     "name": "stdout",
     "output_type": "stream",
     "text": [
      "[1 2 3 4 5]\n",
      "[2 3 4 5 6]\n"
     ]
    },
    {
     "data": {
      "text/plain": [
       "array([ 3,  5,  7,  9, 11])"
      ]
     },
     "execution_count": 232,
     "metadata": {},
     "output_type": "execute_result"
    },
    {
     "data": {
      "text/plain": [
       "15"
      ]
     },
     "execution_count": 232,
     "metadata": {},
     "output_type": "execute_result"
    },
    {
     "data": {
      "text/plain": [
       "120"
      ]
     },
     "execution_count": 232,
     "metadata": {},
     "output_type": "execute_result"
    },
    {
     "data": {
      "text/plain": [
       "array([ 1,  3,  6, 10, 15])"
      ]
     },
     "execution_count": 232,
     "metadata": {},
     "output_type": "execute_result"
    }
   ],
   "source": [
    "x = np.arange(1, 6)\n",
    "y = np.arange(2, 7)\n",
    "print(x)\n",
    "print(y)\n",
    "# np.add(x,y)\n",
    "\n",
    "#reduce: repeatedly applies a given operation to the elements of an array until only a single result remains.\n",
    "np.add.reduce(x)\n",
    "np.multiply.reduce(x)\n",
    "\n",
    "#store all the intermediate results of the computation\n",
    "np.add.accumulate(x)\n",
    "\n",
    "#create a multiplication table\n",
    "# np.outer : computer outer product of two vectors"
   ]
  },
  {
   "cell_type": "code",
   "execution_count": 12,
   "id": "ae75f19e",
   "metadata": {},
   "outputs": [
    {
     "data": {
      "text/plain": [
       "array([[0, 1, 2],\n",
       "       [1, 2, 3],\n",
       "       [2, 3, 4]])"
      ]
     },
     "execution_count": 12,
     "metadata": {},
     "output_type": "execute_result"
    }
   ],
   "source": [
    "# 1x3 + 3x1\n",
    "np.arange(3) + np.arange(3)[:, np.newaxis]"
   ]
  },
  {
   "cell_type": "markdown",
   "id": "a33ad5ac",
   "metadata": {},
   "source": [
    "#####  Practice \n",
    "*Practice 1*\n",
    "\n",
    "Look at the two commands below, can both of them do array broadcasting correctly? Try them. \n",
    "```\n",
    "np.ones((3,2)) + np.arange(3)\n",
    "np.ones((3,2)) + np.arange(3).reshape([3,1])\n",
    "```"
   ]
  },
  {
   "cell_type": "code",
   "execution_count": 24,
   "id": "c8439ce3",
   "metadata": {},
   "outputs": [],
   "source": [
    "# np.ones((3,2)) + np.arange(3)\n",
    "# np.ones((3,2)) + np.arange(3).reshape([3,1])"
   ]
  },
  {
   "cell_type": "markdown",
   "id": "1f3521b4",
   "metadata": {},
   "source": [
    "*Practice 2*\n",
    "\n",
    "Let's use Numpy array in practice. We will:\n",
    "1. Create a 10x3 2-D array.\n",
    "2. Calculate the mean of 1st dimension.\n",
    "3. Calculate centered array with each obs minusing the column average.\n",
    "4. The mean of each column of centered array will be nearly zero in machine."
   ]
  },
  {
   "cell_type": "code",
   "execution_count": 76,
   "id": "c5405752",
   "metadata": {},
   "outputs": [
    {
     "data": {
      "text/plain": [
       "array([[0.81418551, 0.78329505, 0.81631033],\n",
       "       [0.06156278, 0.00421947, 0.8919884 ],\n",
       "       [0.48762581, 0.81957444, 0.95962709],\n",
       "       [0.10524901, 0.65606641, 0.88273271],\n",
       "       [0.80457293, 0.34923929, 0.76814997],\n",
       "       [0.61132949, 0.45359372, 0.27406786],\n",
       "       [0.97199518, 0.6176249 , 0.71358447],\n",
       "       [0.81124374, 0.92540798, 0.47104157],\n",
       "       [0.73828959, 0.87273717, 0.67124884],\n",
       "       [0.78572751, 0.89108568, 0.38575861]])"
      ]
     },
     "execution_count": 76,
     "metadata": {},
     "output_type": "execute_result"
    }
   ],
   "source": [
    "# Imagine you have an array of 10 obs, each of which consists of 3 values\n",
    "X = np.random.random([10 , 3])\n",
    "X"
   ]
  },
  {
   "cell_type": "code",
   "execution_count": 77,
   "id": "8ff7c815",
   "metadata": {},
   "outputs": [
    {
     "data": {
      "text/plain": [
       "array([0.61917816, 0.63728441, 0.68345098])"
      ]
     },
     "execution_count": 77,
     "metadata": {},
     "output_type": "execute_result"
    }
   ],
   "source": [
    "# We compute the mean of each feature using `mean` aggregate across the first dimension, column\n",
    "Xmean = X.mean(0)\n",
    "Xmean"
   ]
  },
  {
   "cell_type": "code",
   "execution_count": 79,
   "id": "8916434c",
   "metadata": {},
   "outputs": [
    {
     "data": {
      "text/plain": [
       "array([[ 0.19500735,  0.14601064,  0.13285934],\n",
       "       [-0.55761537, -0.63306494,  0.20853742],\n",
       "       [-0.13155234,  0.18229003,  0.2761761 ],\n",
       "       [-0.51392914,  0.018782  ,  0.19928172],\n",
       "       [ 0.18539477, -0.28804512,  0.08469899],\n",
       "       [-0.00784867, -0.18369069, -0.40938313],\n",
       "       [ 0.35281703, -0.01965951,  0.03013349],\n",
       "       [ 0.19206559,  0.28812357, -0.21240941],\n",
       "       [ 0.11911143,  0.23545276, -0.01220214],\n",
       "       [ 0.16654936,  0.25380127, -0.29769238]])"
      ]
     },
     "execution_count": 79,
     "metadata": {},
     "output_type": "execute_result"
    },
    {
     "data": {
      "text/plain": [
       "array([1.33226763e-16, 0.00000000e+00, 7.77156117e-17])"
      ]
     },
     "execution_count": 79,
     "metadata": {},
     "output_type": "execute_result"
    }
   ],
   "source": [
    "# now we can center the X array by subtracting the mean, which is using broadcasting\n",
    "X_centered = X - Xmean\n",
    "X_centered\n",
    "X_centered.mean(0)"
   ]
  },
  {
   "cell_type": "code",
   "execution_count": 83,
   "id": "c6a2efea",
   "metadata": {},
   "outputs": [
    {
     "data": {
      "text/plain": [
       "'0.000000000000000'"
      ]
     },
     "execution_count": 83,
     "metadata": {},
     "output_type": "execute_result"
    },
    {
     "data": {
      "text/plain": [
       "'0.0000000000'"
      ]
     },
     "execution_count": 83,
     "metadata": {},
     "output_type": "execute_result"
    }
   ],
   "source": [
    "# The centered awway has near zero mean\n",
    "\"{:.15f}\".format(1.33226763e-16)\n",
    "format(7.77156117e-17, '.10f')"
   ]
  },
  {
   "cell_type": "markdown",
   "id": "a5f77902",
   "metadata": {},
   "source": [
    "*Practice 3*\n",
    "\n",
    "Numpy array is also useful for math function calculation and plotting. Here we run an example of using broadcasting to compute the function and plot the resulted 2-D array."
   ]
  },
  {
   "cell_type": "code",
   "execution_count": 89,
   "id": "10cf1741",
   "metadata": {},
   "outputs": [],
   "source": [
    "# create evenly spaced vector in an interval\n",
    "x = np.linspace(0, 5, 50)\n",
    "y = np.linspace(0, 5, 50)[:, np.newaxis]"
   ]
  },
  {
   "cell_type": "code",
   "execution_count": 101,
   "id": "377d295a",
   "metadata": {},
   "outputs": [
    {
     "data": {
      "text/plain": [
       "(50, 50)"
      ]
     },
     "execution_count": 101,
     "metadata": {},
     "output_type": "execute_result"
    }
   ],
   "source": [
    "# do some transformation of the arrays\n",
    "z = np.power(np.sin(x), 10) + np.cos(10+y*x)*np.cos(x)\n",
    "z.shape"
   ]
  },
  {
   "cell_type": "markdown",
   "id": "dc6f12b9",
   "metadata": {},
   "source": [
    "Then, let's plot this 2-D array. You will need to install the package `matplotlib` first. The magic function `%matplotlib inline` is used to display the plot after the cell.\n",
    "\n",
    "1. When using the `inline` backend, your matplotlib graphs will be included in your notebook, next to the code.\n",
    "2. If you want interactivity as well, you can use the nbagg backend with `%matplotlib notebook` (in IPython 3.x).\n",
    "\n",
    "Explanations about matplotlib magic function on StackOverFlow is [here](https://stackoverflow.com/questions/19410042/how-to-make-ipython-notebook-matplotlib-plot-inline)."
   ]
  },
  {
   "cell_type": "code",
   "execution_count": 108,
   "id": "1e994181",
   "metadata": {},
   "outputs": [
    {
     "data": {
      "text/plain": [
       "<matplotlib.image.AxesImage at 0x229f9de8290>"
      ]
     },
     "execution_count": 108,
     "metadata": {},
     "output_type": "execute_result"
    },
    {
     "data": {
      "text/plain": [
       "<matplotlib.colorbar.Colorbar at 0x229f9df7450>"
      ]
     },
     "execution_count": 108,
     "metadata": {},
     "output_type": "execute_result"
    },
    {
     "data": {
      "image/png": "[encoded data removed]",
      "text/plain": [
       "<Figure size 640x480 with 2 Axes>"
      ]
     },
     "metadata": {},
     "output_type": "display_data"
    }
   ],
   "source": [
    "%matplotlib inline\n",
    "import matplotlib.pyplot as plt\n",
    "plt.imshow(z, origin = 'lower', extent = [0,5,0,5], cmap = 'viridis')\n",
    "plt.colorbar()"
   ]
  },
  {
   "cell_type": "markdown",
   "id": "b0ca84a1",
   "metadata": {},
   "source": [
    "#### Fancy indexing\n",
    "It means passing an array of indices to access multiple array elements at once"
   ]
  },
  {
   "cell_type": "code",
   "execution_count": 123,
   "id": "65efc44a",
   "metadata": {},
   "outputs": [
    {
     "name": "stdout",
     "output_type": "stream",
     "text": [
      "[29 81 87 16 94 41 39 51 80 52]\n"
     ]
    }
   ],
   "source": [
    "# set seed\n",
    "rand = np.random.RandomState([42]) # same as --> np.random.seed(42)\n",
    "# generate 10 integers within 100\n",
    "x = rand.randint(100, size=10) # same as x =np.random.randint(100, size = 10)\n",
    "\n",
    "print(x)"
   ]
  },
  {
   "cell_type": "code",
   "execution_count": 115,
   "id": "49cc96e1",
   "metadata": {},
   "outputs": [
    {
     "data": {
      "text/plain": [
       "array([87, 41, 51])"
      ]
     },
     "execution_count": 115,
     "metadata": {},
     "output_type": "execute_result"
    }
   ],
   "source": [
    "#access three different elements\n",
    "print([x[3],x[4],x[6]])\n",
    "\n",
    "# or you can include all the indexes in a list\n",
    "x[[2,5,7]]"
   ]
  },
  {
   "cell_type": "markdown",
   "id": "a6bab96c",
   "metadata": {},
   "source": [
    "With fancy indexing, the shape of the result reflects the shape of the index arrays\n",
    "rather than the shape of the array being indexed:"
   ]
  },
  {
   "cell_type": "code",
   "execution_count": 136,
   "id": "2081b8a7",
   "metadata": {},
   "outputs": [
    {
     "name": "stdout",
     "output_type": "stream",
     "text": [
      "The index array is:\n",
      "[[3 4]\n",
      " [5 7]]\n",
      "\n",
      "The array being indexed is:\n",
      "[29 81 87 16 94 41 39 51 80 52]\n",
      "\n",
      "The resulted array is:\n",
      "[[16 94]\n",
      " [41 51]]\n"
     ]
    }
   ],
   "source": [
    "# pass a two-dimension array of indices\n",
    "# numpy.reshape(array, shape, order = 'C'), where shape is int or tuple or ints\n",
    "ind1 = np.array([3,4,5,7]).reshape((2,2))\n",
    "\n",
    "print(\"The index array is:\")\n",
    "print(ind1)\n",
    "\n",
    "print(\"\\nThe array being indexed is:\")\n",
    "print(x)\n",
    "\n",
    "print(\"\\nThe resulted array is:\")\n",
    "print(x[ind1])"
   ]
  },
  {
   "cell_type": "markdown",
   "id": "21db48d2",
   "metadata": {},
   "source": [
    "Fancy indexing also works in multiple dimensions. In the example below:\n",
    "1. Like with standard indexing, the first index refers to the row\n",
    "2. The second index refers to the column"
   ]
  },
  {
   "cell_type": "code",
   "execution_count": 137,
   "id": "c64f9bba",
   "metadata": {},
   "outputs": [
    {
     "name": "stdout",
     "output_type": "stream",
     "text": [
      "The array being indexed:\n",
      "[[ 0  1  2  3]\n",
      " [ 4  5  6  7]\n",
      " [ 8  9 10 11]]\n",
      "\n",
      "The resulted array is:\n",
      "[ 1  6 11]\n"
     ]
    }
   ],
   "source": [
    "# in a multi-dimension array\n",
    "y = np.arange(12).reshape((3, 4))\n",
    "row = np.array([0, 1, 2])\n",
    "col = np.array([1, 2, 3])\n",
    "\n",
    "print('The array being indexed:')\n",
    "print(y)\n",
    "\n",
    "# retrieve cell from matrix\n",
    "print(\"\\nThe resulted array is:\")\n",
    "print(y[row, col])"
   ]
  },
  {
   "cell_type": "markdown",
   "id": "a4d05086",
   "metadata": {},
   "source": [
    "Combined Indexing\n",
    "\n",
    "We can combined different ways of indexing:\n",
    "1. We can combine fancy and simple indices\n",
    "2. We can also combine fancy indexing with slicing\n",
    "3. we can combine fancy indexing with masking\n",
    "\n",
    "All of these indexing options combined lead to a very flexible set of operations for\n",
    "accessing and modifying array values."
   ]
  },
  {
   "cell_type": "code",
   "execution_count": 252,
   "id": "c059f38a",
   "metadata": {
    "scrolled": true
   },
   "outputs": [
    {
     "name": "stdout",
     "output_type": "stream",
     "text": [
      "[[ 0  1  2  3]\n",
      " [ 4  5  6  7]\n",
      " [ 8  9 10 11]]\n"
     ]
    },
    {
     "data": {
      "text/plain": [
       "array([10,  9, 11])"
      ]
     },
     "execution_count": 252,
     "metadata": {},
     "output_type": "execute_result"
    },
    {
     "data": {
      "text/plain": [
       "array([[ 6,  5,  7],\n",
       "       [10,  9, 11]])"
      ]
     },
     "execution_count": 252,
     "metadata": {},
     "output_type": "execute_result"
    },
    {
     "data": {
      "text/plain": [
       "array([[10, 11],\n",
       "       [ 6,  7]])"
      ]
     },
     "execution_count": 252,
     "metadata": {},
     "output_type": "execute_result"
    }
   ],
   "source": [
    "y = np.arange(12).reshape((3,4))\n",
    "\n",
    "print(y)\n",
    "\n",
    "#combined indexing\n",
    "y[2, [2, 1, 3]]\n",
    "\n",
    "y[1:,[2, 1, 3]]\n",
    "\n",
    "y[[2,1], 2:]"
   ]
  },
  {
   "cell_type": "markdown",
   "id": "0c76cc30",
   "metadata": {},
   "source": [
    "*Example 1*\n",
    "\n",
    "Using fancy indexing in data science projects: select random points\n"
   ]
  },
  {
   "cell_type": "code",
   "execution_count": 162,
   "id": "ec011820",
   "metadata": {},
   "outputs": [
    {
     "data": {
      "text/plain": [
       "array([[-0.075941  , -0.52082639],\n",
       "       [ 0.04168095, -0.05565961],\n",
       "       [-0.12839572,  0.45257782],\n",
       "       [ 1.3517075 ,  3.14806447],\n",
       "       [-0.00371873,  0.14267916]])"
      ]
     },
     "execution_count": 162,
     "metadata": {},
     "output_type": "execute_result"
    },
    {
     "data": {
      "text/plain": [
       "(100, 2)"
      ]
     },
     "execution_count": 162,
     "metadata": {},
     "output_type": "execute_result"
    }
   ],
   "source": [
    "#create a two-dimension normal distribution\n",
    "mean = [0, 0]\n",
    "cov = [[1, 2],\n",
    "       [2, 5]]\n",
    "x = rand.multivariate_normal(mean, cov, 100)\n",
    "# x = np.random.normal(0, 2, (100,2))\n",
    "x[:5,]\n",
    "# dimension of matrix\n",
    "x.shape"
   ]
  },
  {
   "cell_type": "markdown",
   "id": "7244a191",
   "metadata": {},
   "source": [
    "Let's draw these normally distributed points in a scatterplot."
   ]
  },
  {
   "cell_type": "code",
   "execution_count": 165,
   "id": "a5e86a5c",
   "metadata": {},
   "outputs": [
    {
     "data": {
      "image/png": "[encoded data removed]",
      "text/plain": [
       "<Figure size 640x480 with 1 Axes>"
      ]
     },
     "metadata": {},
     "output_type": "display_data"
    }
   ],
   "source": [
    "%matplotlib inline\n",
    "import matplotlib.pyplot as plt\n",
    "import seaborn\n",
    "\n",
    "seaborn.set() # for plot styling\n",
    "\n",
    "plt.scatter(x[:,0], x[:,1])"
   ]
  },
  {
   "cell_type": "markdown",
   "id": "1ac2b17d",
   "metadata": {},
   "source": [
    "*Example 2*\n",
    "\n",
    "Let’s use fancy indexing to select 20 random points. We’ll do this by first choosing 20\n",
    "random indices with no repeats, and use these indices to select a portion of the original\n",
    "array:"
   ]
  },
  {
   "cell_type": "code",
   "execution_count": 180,
   "id": "d27f2b2a",
   "metadata": {},
   "outputs": [
    {
     "name": "stdout",
     "output_type": "stream",
     "text": [
      "[56 12 68  0 82 66 91 44 46 20 35 76 83  9 16 89 26 24  2 43]\n",
      "[[-0.77055663 -2.19085628]\n",
      " [-0.35152063  0.42590182]\n",
      " [-0.05198084 -0.28361102]\n",
      " [-0.075941   -0.52082639]\n",
      " [-0.49262581 -0.38808465]]\n"
     ]
    },
    {
     "data": {
      "text/plain": [
       "(20, 2)"
      ]
     },
     "execution_count": 180,
     "metadata": {},
     "output_type": "execute_result"
    }
   ],
   "source": [
    "#create indices:choosing 20 random indices with no repeats: replace = False\n",
    "# choice method: https://www.geeksforgeeks.org/numpy-random-choice-in-python/\n",
    "np.random.seed(2023)\n",
    "indices = np.random.choice(100, 20, replace = False)\n",
    "print(indices)\n",
    "\n",
    "# randomly pick 20 points from the array generated from normal dist\n",
    "selection = x[indices]\n",
    "\n",
    "print(selection[:5,])\n",
    "\n",
    "selection.shape"
   ]
  },
  {
   "cell_type": "markdown",
   "id": "f635842b",
   "metadata": {},
   "source": [
    "Now to see which points were selected, let’s over-plot large circles at the locations of\n",
    "the selected points"
   ]
  },
  {
   "cell_type": "code",
   "execution_count": 220,
   "id": "5fe9cbc4",
   "metadata": {},
   "outputs": [
    {
     "data": {
      "text/plain": [
       "<matplotlib.collections.PathCollection at 0x229833e9990>"
      ]
     },
     "execution_count": 220,
     "metadata": {},
     "output_type": "execute_result"
    },
    {
     "data": {
      "text/plain": [
       "<matplotlib.collections.PathCollection at 0x2298346c610>"
      ]
     },
     "execution_count": 220,
     "metadata": {},
     "output_type": "execute_result"
    },
    {
     "data": {
      "image/png": "[encoded data removed]",
      "text/plain": [
       "<Figure size 640x480 with 1 Axes>"
      ]
     },
     "metadata": {},
     "output_type": "display_data"
    }
   ],
   "source": [
    "%matplotlib inline\n",
    "\n",
    "# set alpha to adjust the transparency of points\n",
    "plt.scatter(x[:, 0],x[:, 1], alpha = .3)\n",
    "# overlap a new graph on the previous one\n",
    "# plt.scatter(selection[:,0],selection[:,1], c ='blue',s = 50, alpha = 0.4)\n",
    "plt.scatter(selection[:,0],selection[:,1], edgecolor = 'blue', facecolor = 'none', s = 200, alpha = 0.2)"
   ]
  },
  {
   "cell_type": "markdown",
   "id": "de6c5927",
   "metadata": {},
   "source": [
    "##### Modify values with fancy indexing\n",
    "Imagine we have an array of indices and we’d like to set the corresponding items in an array to some value"
   ]
  },
  {
   "cell_type": "code",
   "execution_count": 221,
   "id": "64b4618c",
   "metadata": {},
   "outputs": [
    {
     "name": "stdout",
     "output_type": "stream",
     "text": [
      "[ 0 99 99  3 99  5  6  7 99  9]\n"
     ]
    }
   ],
   "source": [
    "x = np.arange(10)\n",
    "i = np.array([2, 1, 8, 4])\n",
    "x[i] = 99\n",
    "print(x)"
   ]
  },
  {
   "cell_type": "code",
   "execution_count": 222,
   "id": "4a498951",
   "metadata": {},
   "outputs": [
    {
     "name": "stdout",
     "output_type": "stream",
     "text": [
      "[ 0 89 89  3 89  5  6  7 89  9]\n"
     ]
    }
   ],
   "source": [
    "# assignment-type operator\n",
    "x[i] -= 10\n",
    "print(x)"
   ]
  },
  {
   "cell_type": "code",
   "execution_count": 223,
   "id": "3034337c",
   "metadata": {},
   "outputs": [
    {
     "name": "stdout",
     "output_type": "stream",
     "text": [
      "[6. 0. 0. 0. 0. 0. 0. 0. 0. 0.]\n"
     ]
    }
   ],
   "source": [
    "# be careful with the repeated indexes\n",
    "# 4 has been updated with 6\n",
    "x = np.zeros(10)\n",
    "x[[0, 0]] = [4, 6]\n",
    "print(x)"
   ]
  },
  {
   "cell_type": "markdown",
   "id": "608c8a75",
   "metadata": {},
   "source": [
    "#### Vectorized Computation Methods\n",
    "\n",
    "Let's supplement some other vectorized computation methods.\n",
    "1. Compute array with array (with broadcasting rules)\n",
    "2. +, -, *, /, ..."
   ]
  },
  {
   "cell_type": "code",
   "execution_count": 225,
   "id": "88ba890a",
   "metadata": {},
   "outputs": [
    {
     "data": {
      "text/plain": [
       "array([[0, 1, 2],\n",
       "       [3, 4, 5],\n",
       "       [6, 7, 8]])"
      ]
     },
     "execution_count": 225,
     "metadata": {},
     "output_type": "execute_result"
    },
    {
     "data": {
      "text/plain": [
       "array([0, 1, 2])"
      ]
     },
     "execution_count": 225,
     "metadata": {},
     "output_type": "execute_result"
    }
   ],
   "source": [
    "array1 = np.arange(9).reshape((3,3))\n",
    "array2 = np.arange(3)\n",
    "array = np.arange(4)\n",
    "array1\n",
    "array2"
   ]
  },
  {
   "cell_type": "markdown",
   "id": "1c2f7812",
   "metadata": {},
   "source": [
    "Common vectorized computation methods\n"
   ]
  },
  {
   "cell_type": "markdown",
   "id": "b47b2e7f",
   "metadata": {},
   "source": [
    "Product of arrays"
   ]
  },
  {
   "cell_type": "code",
   "execution_count": 226,
   "id": "cd1537b6",
   "metadata": {},
   "outputs": [
    {
     "data": {
      "text/plain": [
       "array([[ 0,  1,  4],\n",
       "       [ 0,  4, 10],\n",
       "       [ 0,  7, 16]])"
      ]
     },
     "execution_count": 226,
     "metadata": {},
     "output_type": "execute_result"
    }
   ],
   "source": [
    "# array times array\n",
    "array1 * array2"
   ]
  },
  {
   "cell_type": "code",
   "execution_count": 229,
   "id": "604d9b6d",
   "metadata": {},
   "outputs": [
    {
     "data": {
      "text/plain": [
       "array([[ 0,  1,  4],\n",
       "       [ 0,  4, 10],\n",
       "       [ 0,  7, 16]])"
      ]
     },
     "execution_count": 229,
     "metadata": {},
     "output_type": "execute_result"
    }
   ],
   "source": [
    "# or use the np function\n",
    "np.multiply(array1,array2)"
   ]
  },
  {
   "cell_type": "markdown",
   "id": "b4088961",
   "metadata": {},
   "source": [
    "Summation of arrays"
   ]
  },
  {
   "cell_type": "code",
   "execution_count": 240,
   "id": "68b15601",
   "metadata": {
    "scrolled": true
   },
   "outputs": [
    {
     "data": {
      "text/plain": [
       "array([[ 0,  2,  4],\n",
       "       [ 3,  5,  7],\n",
       "       [ 6,  8, 10]])"
      ]
     },
     "execution_count": 240,
     "metadata": {},
     "output_type": "execute_result"
    }
   ],
   "source": [
    "array1 + array2"
   ]
  },
  {
   "cell_type": "code",
   "execution_count": 241,
   "id": "cbc0137f",
   "metadata": {},
   "outputs": [
    {
     "data": {
      "text/plain": [
       "array([[ 0,  2,  4],\n",
       "       [ 3,  5,  7],\n",
       "       [ 6,  8, 10]])"
      ]
     },
     "execution_count": 241,
     "metadata": {},
     "output_type": "execute_result"
    }
   ],
   "source": [
    "np.add(array1, array2)"
   ]
  },
  {
   "cell_type": "code",
   "execution_count": 249,
   "id": "8d9228a2",
   "metadata": {},
   "outputs": [
    {
     "data": {
      "text/plain": [
       "array([[0, 1, 2],\n",
       "       [3, 4, 5],\n",
       "       [6, 7, 8]])"
      ]
     },
     "execution_count": 249,
     "metadata": {},
     "output_type": "execute_result"
    },
    {
     "data": {
      "text/plain": [
       "array([0, 1, 2])"
      ]
     },
     "execution_count": 249,
     "metadata": {},
     "output_type": "execute_result"
    }
   ],
   "source": [
    "array1; array2"
   ]
  },
  {
   "cell_type": "markdown",
   "id": "9b6f29fd",
   "metadata": {},
   "source": [
    "Dot product of two arrays, which is similar to matrix multiplication in linear algebra"
   ]
  },
  {
   "cell_type": "code",
   "execution_count": 242,
   "id": "aa891e27",
   "metadata": {},
   "outputs": [
    {
     "data": {
      "text/plain": [
       "array([ 5, 14, 23])"
      ]
     },
     "execution_count": 242,
     "metadata": {},
     "output_type": "execute_result"
    }
   ],
   "source": [
    "np.dot(array1, array2)"
   ]
  },
  {
   "cell_type": "markdown",
   "id": "d562fd8e",
   "metadata": {},
   "source": [
    "Average of arrays"
   ]
  },
  {
   "cell_type": "code",
   "execution_count": 258,
   "id": "d43c3a4d",
   "metadata": {},
   "outputs": [
    {
     "data": {
      "text/plain": [
       "4.0"
      ]
     },
     "execution_count": 258,
     "metadata": {},
     "output_type": "execute_result"
    },
    {
     "data": {
      "text/plain": [
       "array([3., 4., 5.])"
      ]
     },
     "execution_count": 258,
     "metadata": {},
     "output_type": "execute_result"
    },
    {
     "data": {
      "text/plain": [
       "array([1., 4., 7.])"
      ]
     },
     "execution_count": 258,
     "metadata": {},
     "output_type": "execute_result"
    }
   ],
   "source": [
    "# calcualte the mean of \n",
    "np.mean(array1) # all elements\n",
    "np.mean(array1, 0) # each column\n",
    "np.mean(array1, 1) # each row"
   ]
  },
  {
   "cell_type": "markdown",
   "id": "45887ef3",
   "metadata": {},
   "source": [
    "Other summary statistics for arrays:\n",
    "\n",
    "```\n",
    "np.max(array, axis = None) # or '0' for column-wise, or '1' for row-wise\n",
    "np.maximum(array1, array2)\n",
    "np.min(array, axis = None) # or '0' for column-wise, or '1' for row-wise\n",
    "np.minimum(array1, array2)\n",
    "np.median\n",
    "np.cumsum\n",
    "np.sqrt\n",
    "np.exp\n",
    "np.add\n",
    "np.subtract\n",
    "```"
   ]
  },
  {
   "cell_type": "code",
   "execution_count": 264,
   "id": "15bab013",
   "metadata": {},
   "outputs": [
    {
     "data": {
      "text/plain": [
       "array([[0, 1, 2],\n",
       "       [3, 4, 5],\n",
       "       [6, 7, 8]])"
      ]
     },
     "execution_count": 264,
     "metadata": {},
     "output_type": "execute_result"
    },
    {
     "data": {
      "text/plain": [
       "array([0, 1, 2])"
      ]
     },
     "execution_count": 264,
     "metadata": {},
     "output_type": "execute_result"
    },
    {
     "data": {
      "text/plain": [
       "array([[0, 1, 2],\n",
       "       [0, 1, 2],\n",
       "       [0, 1, 2]])"
      ]
     },
     "execution_count": 264,
     "metadata": {},
     "output_type": "execute_result"
    }
   ],
   "source": [
    "array1; array2\n",
    "np.minimum(array1, array2)"
   ]
  },
  {
   "cell_type": "markdown",
   "id": "1e36459a",
   "metadata": {},
   "source": [
    "### Comparisons, Masks, and Boolean Logic\n",
    "\n",
    "- Masking comes up when you want to extract, modify, count, or otherwise manipulate values in an array based on some criterion\n",
    "    - Ex., count all values greater than a certain value\n",
    "    - Ex., remove all outliers that are above some threshold\n",
    "\n",
    "- Boolean masking: most efficient way to accomplish these types of tasks"
   ]
  },
  {
   "cell_type": "markdown",
   "id": "d4d66241",
   "metadata": {},
   "source": [
    "Imagine you have a series of data that represents the amount of precipitation each day\n",
    "for a year in a given city. For example, here we’ll load the daily rainfall statistics for\n",
    "the city of Seattle in 2014, using Pandas (we will cover it next section soon). \n",
    "\n",
    "To install pandas: run this in cmd (Windows) or bash (Mac) `pip install pandas`."
   ]
  },
  {
   "cell_type": "code",
   "execution_count": 293,
   "id": "0b9ce3cc",
   "metadata": {},
   "outputs": [
    {
     "data": {
      "text/html": [
       "<div>\n",
       "<style scoped>\n",
       "    .dataframe tbody tr th:only-of-type {\n",
       "        vertical-align: middle;\n",
       "    }\n",
       "\n",
       "    .dataframe tbody tr th {\n",
       "        vertical-align: top;\n",
       "    }\n",
       "\n",
       "    .dataframe thead th {\n",
       "        text-align: right;\n",
       "    }\n",
       "</style>\n",
       "<table border=\"1\" class=\"dataframe\">\n",
       "  <thead>\n",
       "    <tr style=\"text-align: right;\">\n",
       "      <th></th>\n",
       "      <th>STATION</th>\n",
       "      <th>STATION_NAME</th>\n",
       "      <th>DATE</th>\n",
       "      <th>PRCP</th>\n",
       "      <th>SNWD</th>\n",
       "      <th>SNOW</th>\n",
       "      <th>TMAX</th>\n",
       "      <th>TMIN</th>\n",
       "      <th>AWND</th>\n",
       "      <th>WDF2</th>\n",
       "      <th>WDF5</th>\n",
       "      <th>WSF2</th>\n",
       "      <th>WSF5</th>\n",
       "      <th>WT01</th>\n",
       "      <th>WT05</th>\n",
       "      <th>WT02</th>\n",
       "      <th>WT03</th>\n",
       "    </tr>\n",
       "  </thead>\n",
       "  <tbody>\n",
       "    <tr>\n",
       "      <th>0</th>\n",
       "      <td>GHCND:USW00024233</td>\n",
       "      <td>SEATTLE TACOMA INTERNATIONAL AIRPORT WA US</td>\n",
       "      <td>20140101</td>\n",
       "      <td>0</td>\n",
       "      <td>0</td>\n",
       "      <td>0</td>\n",
       "      <td>72</td>\n",
       "      <td>33</td>\n",
       "      <td>12</td>\n",
       "      <td>340</td>\n",
       "      <td>310</td>\n",
       "      <td>36</td>\n",
       "      <td>40</td>\n",
       "      <td>-9999</td>\n",
       "      <td>-9999</td>\n",
       "      <td>-9999</td>\n",
       "      <td>-9999</td>\n",
       "    </tr>\n",
       "    <tr>\n",
       "      <th>1</th>\n",
       "      <td>GHCND:USW00024233</td>\n",
       "      <td>SEATTLE TACOMA INTERNATIONAL AIRPORT WA US</td>\n",
       "      <td>20140102</td>\n",
       "      <td>41</td>\n",
       "      <td>0</td>\n",
       "      <td>0</td>\n",
       "      <td>106</td>\n",
       "      <td>61</td>\n",
       "      <td>32</td>\n",
       "      <td>190</td>\n",
       "      <td>200</td>\n",
       "      <td>94</td>\n",
       "      <td>116</td>\n",
       "      <td>-9999</td>\n",
       "      <td>-9999</td>\n",
       "      <td>-9999</td>\n",
       "      <td>-9999</td>\n",
       "    </tr>\n",
       "    <tr>\n",
       "      <th>2</th>\n",
       "      <td>GHCND:USW00024233</td>\n",
       "      <td>SEATTLE TACOMA INTERNATIONAL AIRPORT WA US</td>\n",
       "      <td>20140103</td>\n",
       "      <td>15</td>\n",
       "      <td>0</td>\n",
       "      <td>0</td>\n",
       "      <td>89</td>\n",
       "      <td>28</td>\n",
       "      <td>26</td>\n",
       "      <td>30</td>\n",
       "      <td>50</td>\n",
       "      <td>63</td>\n",
       "      <td>72</td>\n",
       "      <td>1</td>\n",
       "      <td>-9999</td>\n",
       "      <td>-9999</td>\n",
       "      <td>-9999</td>\n",
       "    </tr>\n",
       "    <tr>\n",
       "      <th>3</th>\n",
       "      <td>GHCND:USW00024233</td>\n",
       "      <td>SEATTLE TACOMA INTERNATIONAL AIRPORT WA US</td>\n",
       "      <td>20140104</td>\n",
       "      <td>0</td>\n",
       "      <td>0</td>\n",
       "      <td>0</td>\n",
       "      <td>78</td>\n",
       "      <td>6</td>\n",
       "      <td>27</td>\n",
       "      <td>40</td>\n",
       "      <td>40</td>\n",
       "      <td>45</td>\n",
       "      <td>58</td>\n",
       "      <td>1</td>\n",
       "      <td>-9999</td>\n",
       "      <td>-9999</td>\n",
       "      <td>-9999</td>\n",
       "    </tr>\n",
       "    <tr>\n",
       "      <th>4</th>\n",
       "      <td>GHCND:USW00024233</td>\n",
       "      <td>SEATTLE TACOMA INTERNATIONAL AIRPORT WA US</td>\n",
       "      <td>20140105</td>\n",
       "      <td>0</td>\n",
       "      <td>0</td>\n",
       "      <td>0</td>\n",
       "      <td>83</td>\n",
       "      <td>-5</td>\n",
       "      <td>37</td>\n",
       "      <td>10</td>\n",
       "      <td>10</td>\n",
       "      <td>67</td>\n",
       "      <td>76</td>\n",
       "      <td>-9999</td>\n",
       "      <td>-9999</td>\n",
       "      <td>-9999</td>\n",
       "      <td>-9999</td>\n",
       "    </tr>\n",
       "  </tbody>\n",
       "</table>\n",
       "</div>"
      ],
      "text/plain": [
       "             STATION                                STATION_NAME      DATE  \\\n",
       "0  GHCND:USW00024233  SEATTLE TACOMA INTERNATIONAL AIRPORT WA US  20140101   \n",
       "1  GHCND:USW00024233  SEATTLE TACOMA INTERNATIONAL AIRPORT WA US  20140102   \n",
       "2  GHCND:USW00024233  SEATTLE TACOMA INTERNATIONAL AIRPORT WA US  20140103   \n",
       "3  GHCND:USW00024233  SEATTLE TACOMA INTERNATIONAL AIRPORT WA US  20140104   \n",
       "4  GHCND:USW00024233  SEATTLE TACOMA INTERNATIONAL AIRPORT WA US  20140105   \n",
       "\n",
       "   PRCP  SNWD  SNOW  TMAX  TMIN  AWND  WDF2  WDF5  WSF2  WSF5  WT01  WT05  \\\n",
       "0     0     0     0    72    33    12   340   310    36    40 -9999 -9999   \n",
       "1    41     0     0   106    61    32   190   200    94   116 -9999 -9999   \n",
       "2    15     0     0    89    28    26    30    50    63    72     1 -9999   \n",
       "3     0     0     0    78     6    27    40    40    45    58     1 -9999   \n",
       "4     0     0     0    83    -5    37    10    10    67    76 -9999 -9999   \n",
       "\n",
       "   WT02  WT03  \n",
       "0 -9999 -9999  \n",
       "1 -9999 -9999  \n",
       "2 -9999 -9999  \n",
       "3 -9999 -9999  \n",
       "4 -9999 -9999  "
      ]
     },
     "execution_count": 293,
     "metadata": {},
     "output_type": "execute_result"
    }
   ],
   "source": [
    "import numpy as np\n",
    "import pandas as pd \n",
    "\n",
    "# data link: https://raw.githubusercontent.com/jakevdp/PythonDataScienceHandbook/master/notebooks_v1/data/Seattle2014.csv\n",
    "\n",
    "# use Pandas to extract rainfall inches as a NumPy array\n",
    "rainfall = pd.read_csv('https://raw.githubusercontent.com/jakevdp/PythonDataScienceHandbook/master/notebooks_v1/data/Seattle2014.csv')\n",
    "\n",
    "rainfall.head(5)"
   ]
  },
  {
   "cell_type": "code",
   "execution_count": 294,
   "id": "65396105",
   "metadata": {},
   "outputs": [
    {
     "data": {
      "text/plain": [
       "numpy.ndarray"
      ]
     },
     "execution_count": 294,
     "metadata": {},
     "output_type": "execute_result"
    },
    {
     "data": {
      "text/plain": [
       "(365,)"
      ]
     },
     "execution_count": 294,
     "metadata": {},
     "output_type": "execute_result"
    }
   ],
   "source": [
    "# extract PRCP column as an array\n",
    "rainfall = rainfall['PRCP'].values\n",
    "# transform unit from cm to inch\n",
    "inches = rainfall/254 # 1/10mm -> inches\n",
    "type(inches)\n",
    "inches.shape"
   ]
  },
  {
   "cell_type": "code",
   "execution_count": 299,
   "id": "0a65f57b",
   "metadata": {},
   "outputs": [
    {
     "data": {
      "text/plain": [
       "(array([245.,  14.,  13.,  17.,   8.,   6.,   5.,   6.,   4.,   3.,   7.,\n",
       "          6.,   3.,   3.,   3.,   4.,   4.,   2.,   4.,   0.,   0.,   1.,\n",
       "          1.,   1.,   0.,   0.,   0.,   2.,   1.,   1.,   0.,   0.,   0.,\n",
       "          0.,   0.,   0.,   0.,   0.,   0.,   1.]),\n",
       " array([0.        , 0.04596457, 0.09192913, 0.1378937 , 0.18385827,\n",
       "        0.22982283, 0.2757874 , 0.32175197, 0.36771654, 0.4136811 ,\n",
       "        0.45964567, 0.50561024, 0.5515748 , 0.59753937, 0.64350394,\n",
       "        0.6894685 , 0.73543307, 0.78139764, 0.8273622 , 0.87332677,\n",
       "        0.91929134, 0.96525591, 1.01122047, 1.05718504, 1.10314961,\n",
       "        1.14911417, 1.19507874, 1.24104331, 1.28700787, 1.33297244,\n",
       "        1.37893701, 1.42490157, 1.47086614, 1.51683071, 1.56279528,\n",
       "        1.60875984, 1.65472441, 1.70068898, 1.74665354, 1.79261811,\n",
       "        1.83858268]),\n",
       " <BarContainer object of 40 artists>)"
      ]
     },
     "execution_count": 299,
     "metadata": {},
     "output_type": "execute_result"
    },
    {
     "data": {
      "image/png": "[encoded data removed]",
      "text/plain": [
       "<Figure size 640x480 with 1 Axes>"
      ]
     },
     "metadata": {},
     "output_type": "display_data"
    }
   ],
   "source": [
    "%matplotlib inline\n",
    "import matplotlib.pyplot as plt\n",
    "import seaborn; seaborn.set() # set plot styles\n",
    "plt.hist(inches, 40, orientation='vertical')"
   ]
  },
  {
   "cell_type": "markdown",
   "id": "9a724896",
   "metadata": {},
   "source": [
    "#### Comparison Operators as ufuncs\n",
    "\n",
    "NumPy also implements comparison operators such as < (less than) and > (greater than) as element-wise ufuncs."
   ]
  },
  {
   "cell_type": "code",
   "execution_count": 543,
   "id": "520f843d",
   "metadata": {},
   "outputs": [
    {
     "data": {
      "text/plain": [
       "array([ True,  True, False, False, False])"
      ]
     },
     "execution_count": 543,
     "metadata": {},
     "output_type": "execute_result"
    },
    {
     "data": {
      "text/plain": [
       "array([ True,  True,  True, False, False])"
      ]
     },
     "execution_count": 543,
     "metadata": {},
     "output_type": "execute_result"
    },
    {
     "data": {
      "text/plain": [
       "array([ True,  True, False,  True,  True])"
      ]
     },
     "execution_count": 543,
     "metadata": {},
     "output_type": "execute_result"
    },
    {
     "data": {
      "text/plain": [
       "array([False, False,  True, False, False])"
      ]
     },
     "execution_count": 543,
     "metadata": {},
     "output_type": "execute_result"
    }
   ],
   "source": [
    "x = np.array([1, 2, 3, 4, 5])\n",
    "x < 3\n",
    "x <= 3\n",
    "x != 3\n",
    "x == 3"
   ]
  },
  {
   "cell_type": "code",
   "execution_count": 544,
   "id": "26b461ee",
   "metadata": {},
   "outputs": [
    {
     "data": {
      "text/plain": [
       "array([False,  True, False, False, False])"
      ]
     },
     "execution_count": 544,
     "metadata": {},
     "output_type": "execute_result"
    }
   ],
   "source": [
    "# element-by-element comparison of 2 arrays\n",
    "# ompound expressions\n",
    "(2 * x) == (x ** 2)"
   ]
  },
  {
   "cell_type": "code",
   "execution_count": 546,
   "id": "b4a394b9",
   "metadata": {},
   "outputs": [
    {
     "data": {
      "text/plain": [
       "array([ True,  True, False, False, False])"
      ]
     },
     "execution_count": 546,
     "metadata": {},
     "output_type": "execute_result"
    },
    {
     "data": {
      "text/plain": [
       "array([ True,  True, False, False, False])"
      ]
     },
     "execution_count": 546,
     "metadata": {},
     "output_type": "execute_result"
    }
   ],
   "source": [
    "# compraison operators are implemented as ufuncs in NumPy\n",
    "x < 3\n",
    "np.less(x, 3)"
   ]
  },
  {
   "cell_type": "markdown",
   "id": "26cb7c77",
   "metadata": {},
   "source": [
    "| Operator | Equivalent ufunc |\n",
    "|----------|------------------|\n",
    "| ==       | np.equal         |\n",
    "| !=       | np.not_equal     |\n",
    "| <        | np.less          |\n",
    "| <=       | np.less_equal    |\n",
    "| >        | np.greater       |\n",
    "| >=       | np.greater_equal |"
   ]
  },
  {
   "cell_type": "markdown",
   "id": "cc8ba72a",
   "metadata": {},
   "source": [
    "These comparison operators work on any size array."
   ]
  },
  {
   "cell_type": "code",
   "execution_count": 311,
   "id": "87aae6b5",
   "metadata": {},
   "outputs": [
    {
     "data": {
      "text/plain": [
       "array([[5, 0, 3, 3],\n",
       "       [7, 9, 3, 5],\n",
       "       [2, 4, 7, 6]])"
      ]
     },
     "execution_count": 311,
     "metadata": {},
     "output_type": "execute_result"
    },
    {
     "data": {
      "text/plain": [
       "array([[ True,  True,  True,  True],\n",
       "       [False, False,  True,  True],\n",
       "       [ True,  True, False,  True]])"
      ]
     },
     "execution_count": 311,
     "metadata": {},
     "output_type": "execute_result"
    },
    {
     "data": {
      "text/plain": [
       "array([[ True,  True,  True,  True],\n",
       "       [False, False,  True,  True],\n",
       "       [ True,  True, False,  True]])"
      ]
     },
     "execution_count": 311,
     "metadata": {},
     "output_type": "execute_result"
    }
   ],
   "source": [
    "# initiate a random number generator\n",
    "rng = np.random.RandomState(0)\n",
    "\n",
    "# np.random.seed(0)\n",
    "x = rng.randint(10, size = (3,4))\n",
    "x\n",
    "# compare all elements with 6\n",
    "x <= 6 \n",
    "# equivalent ufuncs in Numpy\n",
    "np.less_equal(x, 6)"
   ]
  },
  {
   "cell_type": "markdown",
   "id": "c7f81278",
   "metadata": {},
   "source": [
    "#### Working with boolean arrays\n",
    "\n",
    "Given a Boolean array, there are a host of useful operations you can do.\n",
    "\n",
    "- `&` np.bitwise_and\n",
    "- `|` np.bitwise_or\n",
    "- `^` np.bitwise_xor\n",
    "- `~` np.bitwise_not\n",
    "\n",
    "Note: Python has built-in `sum()`, `any()`, and `all()` functions. These have different syntax than the NumPy versions. So you need to use `np.sum()`, `np.any()`, and `np.all()` for these instances."
   ]
  },
  {
   "cell_type": "code",
   "execution_count": null,
   "id": "9164b753",
   "metadata": {},
   "outputs": [],
   "source": [
    "# initiate an array\n",
    "x = np.array([[5 0 3 3],\n",
    "              [7 9 3 5],\n",
    "              [2 4 7 6]])"
   ]
  },
  {
   "cell_type": "code",
   "execution_count": 312,
   "id": "8a193de9",
   "metadata": {
    "scrolled": true
   },
   "outputs": [
    {
     "data": {
      "text/plain": [
       "array([[5, 0, 3, 3],\n",
       "       [7, 9, 3, 5],\n",
       "       [2, 4, 7, 6]])"
      ]
     },
     "execution_count": 312,
     "metadata": {},
     "output_type": "execute_result"
    },
    {
     "data": {
      "text/plain": [
       "11"
      ]
     },
     "execution_count": 312,
     "metadata": {},
     "output_type": "execute_result"
    }
   ],
   "source": [
    "# counting entries\n",
    "x\n",
    "\n",
    "# how many nonzero entries\n",
    "np.count_nonzero(x)"
   ]
  },
  {
   "cell_type": "code",
   "execution_count": 316,
   "id": "c7ed32ff",
   "metadata": {},
   "outputs": [
    {
     "data": {
      "text/plain": [
       "54"
      ]
     },
     "execution_count": 316,
     "metadata": {},
     "output_type": "execute_result"
    },
    {
     "data": {
      "text/plain": [
       "1"
      ]
     },
     "execution_count": 316,
     "metadata": {},
     "output_type": "execute_result"
    }
   ],
   "source": [
    "# summation of all entries\n",
    "np.sum(x)\n",
    "\n",
    "# count # of entries satisfying requirements\n",
    "np.sum(x == 6)"
   ]
  },
  {
   "cell_type": "code",
   "execution_count": 317,
   "id": "85113b31",
   "metadata": {},
   "outputs": [
    {
     "data": {
      "text/plain": [
       "array([4, 2, 2])"
      ]
     },
     "execution_count": 317,
     "metadata": {},
     "output_type": "execute_result"
    }
   ],
   "source": [
    "# summation can be done along rows or columns\n",
    "# how many values less than 6 in each row\n",
    "np.sum(x < 6, axis = 1)"
   ]
  },
  {
   "cell_type": "markdown",
   "id": "3b24f036",
   "metadata": {},
   "source": [
    "More examples with `np.any()` and `np.all()`"
   ]
  },
  {
   "cell_type": "code",
   "execution_count": 319,
   "id": "6d78a571",
   "metadata": {},
   "outputs": [
    {
     "name": "stdout",
     "output_type": "stream",
     "text": [
      "[[38 13 73 10]\n",
      " [76  6 80 65]\n",
      " [17  2 77 72]]\n"
     ]
    },
    {
     "data": {
      "text/plain": [
       "True"
      ]
     },
     "execution_count": 319,
     "metadata": {},
     "output_type": "execute_result"
    },
    {
     "data": {
      "text/plain": [
       "array([ True,  True,  True,  True])"
      ]
     },
     "execution_count": 319,
     "metadata": {},
     "output_type": "execute_result"
    },
    {
     "data": {
      "text/plain": [
       "array([ True, False, False])"
      ]
     },
     "execution_count": 319,
     "metadata": {},
     "output_type": "execute_result"
    }
   ],
   "source": [
    "np.random.seed(1) # same as np.random.RandomState()\n",
    "x = np.random.randint(1,100,(3,4))\n",
    "\n",
    "print(x)\n",
    "\n",
    "# are there any values greater than 8?\n",
    "# return boolean\n",
    "np.any(x > 8)\n",
    "\n",
    "# are there any values in each column greater than 8 \n",
    "# return boolean in an array\n",
    "np.any(x > 8, axis = 0)\n",
    "\n",
    "# are all values in each row less than 8?\n",
    "# return boolean in array\n",
    "np.all(x > 8, axis = 1)"
   ]
  },
  {
   "cell_type": "code",
   "execution_count": 321,
   "id": "2765534a",
   "metadata": {},
   "outputs": [
    {
     "data": {
      "text/plain": [
       "array([[ True,  True,  True,  True],\n",
       "       [ True, False,  True,  True],\n",
       "       [ True, False,  True,  True]])"
      ]
     },
     "execution_count": 321,
     "metadata": {},
     "output_type": "execute_result"
    },
    {
     "data": {
      "text/plain": [
       "array([38, 13, 73, 10, 76, 80, 65, 17, 77, 72])"
      ]
     },
     "execution_count": 321,
     "metadata": {},
     "output_type": "execute_result"
    }
   ],
   "source": [
    "# what values are greater than 8?\n",
    "x > 8\n",
    "# index the element that are greater than 8\n",
    "x[x > 8]"
   ]
  },
  {
   "cell_type": "markdown",
   "id": "5c3e49d0",
   "metadata": {},
   "source": [
    "*Boolean operators*"
   ]
  },
  {
   "cell_type": "code",
   "execution_count": 346,
   "id": "cf639521",
   "metadata": {},
   "outputs": [
    {
     "data": {
      "text/plain": [
       "1.8385826771653544"
      ]
     },
     "execution_count": 346,
     "metadata": {},
     "output_type": "execute_result"
    }
   ],
   "source": [
    "inches.max()"
   ]
  },
  {
   "cell_type": "code",
   "execution_count": 358,
   "id": "934b7843",
   "metadata": {},
   "outputs": [
    {
     "data": {
      "text/plain": [
       "(365,)"
      ]
     },
     "execution_count": 358,
     "metadata": {},
     "output_type": "execute_result"
    },
    {
     "data": {
      "text/plain": [
       "29"
      ]
     },
     "execution_count": 358,
     "metadata": {},
     "output_type": "execute_result"
    },
    {
     "data": {
      "text/plain": [
       "29"
      ]
     },
     "execution_count": 358,
     "metadata": {},
     "output_type": "execute_result"
    },
    {
     "data": {
      "text/plain": [
       "365"
      ]
     },
     "execution_count": 358,
     "metadata": {},
     "output_type": "execute_result"
    },
    {
     "data": {
      "text/plain": [
       "365"
      ]
     },
     "execution_count": 358,
     "metadata": {},
     "output_type": "execute_result"
    }
   ],
   "source": [
    "# both are true -> true\n",
    "# inches\n",
    "inches.shape\n",
    "\n",
    "# A and B\n",
    "np.sum((inches > 0.5) & (inches < 1))\n",
    "np.sum(np.bitwise_and(inches > 0.5, inches < 1))\n",
    "\n",
    "# A or B\n",
    "np.sum((inches > 0.5) | (inches < 1))\n",
    "np.sum(np.bitwise_or(inches > 0.5, inches <1))"
   ]
  },
  {
   "cell_type": "code",
   "execution_count": 366,
   "id": "ee8212d2",
   "metadata": {},
   "outputs": [
    {
     "data": {
      "text/plain": [
       "29"
      ]
     },
     "execution_count": 366,
     "metadata": {},
     "output_type": "execute_result"
    },
    {
     "data": {
      "text/plain": [
       "29"
      ]
     },
     "execution_count": 366,
     "metadata": {},
     "output_type": "execute_result"
    }
   ],
   "source": [
    "# either one is true -> true\n",
    "# both are false -> false\n",
    "# NOT (A OR B)\n",
    "np.sum(~((inches <= 0.5) | (inches >= 1))) \n",
    "np.sum(np.bitwise_not((inches <= 0.5) | (inches >= 1)))"
   ]
  },
  {
   "cell_type": "code",
   "execution_count": 371,
   "id": "787fa41f",
   "metadata": {},
   "outputs": [
    {
     "data": {
      "text/plain": [
       "336"
      ]
     },
     "execution_count": 371,
     "metadata": {},
     "output_type": "execute_result"
    },
    {
     "data": {
      "text/plain": [
       "336"
      ]
     },
     "execution_count": 371,
     "metadata": {},
     "output_type": "execute_result"
    }
   ],
   "source": [
    "# (A or B) - (A and B)\n",
    "np.sum((inches > 0.5) ^ (inches < 1))\n",
    "np.sum(~((inches > 0.5) & (inches < 1)))"
   ]
  },
  {
   "cell_type": "markdown",
   "id": "1c7c803b",
   "metadata": {},
   "source": [
    "#### Boolean array as masks\n",
    "A more powerful pattern is to use Boolean arrays as masks, to select particular\n",
    "subsets of the data themselves. Returning"
   ]
  },
  {
   "cell_type": "code",
   "execution_count": 621,
   "id": "645ca362",
   "metadata": {},
   "outputs": [
    {
     "data": {
      "text/plain": [
       "array([[38, 13, 73, 10],\n",
       "       [76,  6, 80, 65],\n",
       "       [17,  2, 77, 72]])"
      ]
     },
     "execution_count": 621,
     "metadata": {},
     "output_type": "execute_result"
    },
    {
     "data": {
      "text/plain": [
       "array([[False, False, False, False],\n",
       "       [False, False, False, False],\n",
       "       [False,  True, False, False]])"
      ]
     },
     "execution_count": 621,
     "metadata": {},
     "output_type": "execute_result"
    },
    {
     "data": {
      "text/plain": [
       "array([2])"
      ]
     },
     "execution_count": 621,
     "metadata": {},
     "output_type": "execute_result"
    }
   ],
   "source": [
    "# array\n",
    "x\n",
    "\n",
    "# obtain a boolean array for the condition\n",
    "x < 5\n",
    "\n",
    "# select these values from the array\n",
    "x[x < 5]"
   ]
  },
  {
   "cell_type": "markdown",
   "id": "69ccf18e",
   "metadata": {},
   "source": [
    "Let's go back to the precipitation data and select the summer days from 365 days. \n",
    "1. Construct a mask for rainy days\n",
    "2. Construct a mask for summer days"
   ]
  },
  {
   "cell_type": "code",
   "execution_count": 381,
   "id": "0abb5e97",
   "metadata": {},
   "outputs": [
    {
     "name": "stdout",
     "output_type": "stream",
     "text": [
      "[0.         0.         0.         0.         0.07086614 0.09055118\n",
      " 0.         0.         0.         0.         0.         0.\n",
      " 0.         0.         0.         0.         0.         0.\n",
      " 0.         0.         0.         0.         0.         0.\n",
      " 0.         0.         0.         0.         0.         0.01181102\n",
      " 0.75984252 0.         0.         0.         0.         0.\n",
      " 0.         0.         0.         0.         0.01968504 0.\n",
      " 0.         0.         0.         0.         0.         0.\n",
      " 0.         0.01968504 0.5        0.8503937  0.         0.03937008\n",
      " 0.         0.         0.         0.         0.         0.\n",
      " 0.         0.         0.         0.         0.         0.\n",
      " 0.         0.         0.33070866 0.0511811  0.         0.11811024\n",
      " 0.         0.         0.         0.         0.         0.\n",
      " 0.         0.         0.         0.         0.         0.\n",
      " 0.         0.         0.01968504 0.01181102 0.        ]\n"
     ]
    }
   ],
   "source": [
    "# construct a mask of all rainy days\n",
    "rainy = (inches > 0)\n",
    "\n",
    "# a mask of all summer days (Jun 21st is the 172nd day in a year)\n",
    "# this creates a 365x1 matrix of boolean values \n",
    "summer = (np.arange(365) - 172 < 90) & (np.arange(365) - 172 > 0)\n",
    "\n",
    "print(inches[summer])"
   ]
  },
  {
   "cell_type": "code",
   "execution_count": 385,
   "id": "5dc59702",
   "metadata": {},
   "outputs": [
    {
     "data": {
      "text/plain": [
       "0.19488188976377951"
      ]
     },
     "execution_count": 385,
     "metadata": {},
     "output_type": "execute_result"
    },
    {
     "data": {
      "text/plain": [
       "0.0"
      ]
     },
     "execution_count": 385,
     "metadata": {},
     "output_type": "execute_result"
    },
    {
     "data": {
      "text/plain": [
       "0.2066929133858267"
      ]
     },
     "execution_count": 385,
     "metadata": {},
     "output_type": "execute_result"
    },
    {
     "data": {
      "text/plain": [
       "0.3356009726725335"
      ]
     },
     "execution_count": 385,
     "metadata": {},
     "output_type": "execute_result"
    }
   ],
   "source": [
    "# calculate median of the rain during rainy days over the year\n",
    "np.median(inches[rainy])\n",
    "\n",
    "# median of the rain in the summer days\n",
    "np.median(inches[summer])\n",
    "\n",
    "np.average(inches[rainy & summer])\n",
    "np.average(inches[rainy & ~summer])"
   ]
  },
  {
   "cell_type": "markdown",
   "id": "f4aa96e6",
   "metadata": {},
   "source": [
    "#### Using the Keywords and/or Versus the Operators & / |\n",
    "\n",
    "- `and` and `or` gauge the truth or falsehood of entire object\n",
    "    - When you use `and` or `or`, it’s equivalent to asking Python to treat the object as a single Boolean entity.\n",
    "    - In Python, all nonzero integers will evaluate as `True`\n",
    "    \n",
    "- `& `and `|` refer to bits within each object.\n",
    "    - When you use `&` and `|` on integers, the expression operates on the bits of the element\n",
    "    - applying the `and` or the `or` to the individual bits making up the number"
   ]
  },
  {
   "cell_type": "code",
   "execution_count": 657,
   "id": "ac3e9e03",
   "metadata": {},
   "outputs": [
    {
     "data": {
      "text/plain": [
       "(True, False)"
      ]
     },
     "execution_count": 657,
     "metadata": {},
     "output_type": "execute_result"
    },
    {
     "data": {
      "text/plain": [
       "False"
      ]
     },
     "execution_count": 657,
     "metadata": {},
     "output_type": "execute_result"
    },
    {
     "data": {
      "text/plain": [
       "True"
      ]
     },
     "execution_count": 657,
     "metadata": {},
     "output_type": "execute_result"
    }
   ],
   "source": [
    "bool(42), bool(0)\n",
    "\n",
    "bool(42 and 0)\n",
    "\n",
    "bool(42 or 0)"
   ]
  },
  {
   "cell_type": "code",
   "execution_count": 655,
   "id": "e36782ff",
   "metadata": {},
   "outputs": [
    {
     "data": {
      "text/plain": [
       "'0b101010'"
      ]
     },
     "execution_count": 655,
     "metadata": {},
     "output_type": "execute_result"
    },
    {
     "data": {
      "text/plain": [
       "'0b111011'"
      ]
     },
     "execution_count": 655,
     "metadata": {},
     "output_type": "execute_result"
    },
    {
     "data": {
      "text/plain": [
       "'0b101010'"
      ]
     },
     "execution_count": 655,
     "metadata": {},
     "output_type": "execute_result"
    },
    {
     "data": {
      "text/plain": [
       "'0b111011'"
      ]
     },
     "execution_count": 655,
     "metadata": {},
     "output_type": "execute_result"
    }
   ],
   "source": [
    "# bin() method converts a specified integer number to its binary representation\n",
    "bin(42)\n",
    "bin(59)\n",
    "\n",
    "bin(42 & 59)\n",
    "\n",
    "bin(42 | 59)"
   ]
  },
  {
   "cell_type": "code",
   "execution_count": 663,
   "id": "0638f2ce",
   "metadata": {},
   "outputs": [
    {
     "data": {
      "text/plain": [
       "array([ True, False,  True, False,  True, False])"
      ]
     },
     "execution_count": 663,
     "metadata": {},
     "output_type": "execute_result"
    },
    {
     "data": {
      "text/plain": [
       "array([ True,  True,  True, False,  True,  True])"
      ]
     },
     "execution_count": 663,
     "metadata": {},
     "output_type": "execute_result"
    }
   ],
   "source": [
    "# in NumPy array of boolean values\n",
    "# a string of bits 1 = True and 0 = False\n",
    "A = np.array([1, 0, 1, 0, 1, 0], dtype = bool)\n",
    "B = np.array([1, 1, 1, 0, 1, 1], dtype = bool)\n",
    "A & B\n",
    "A | B"
   ]
  },
  {
   "cell_type": "code",
   "execution_count": 664,
   "id": "77368dc1",
   "metadata": {},
   "outputs": [
    {
     "ename": "ValueError",
     "evalue": "The truth value of an array with more than one element is ambiguous. Use a.any() or a.all()",
     "output_type": "error",
     "traceback": [
      "\u001b[1;31m---------------------------------------------------------------------------\u001b[0m",
      "\u001b[1;31mValueError\u001b[0m                                Traceback (most recent call last)",
      "\u001b[1;32m<ipython-input-664-0cc67685677c>\u001b[0m in \u001b[0;36m<module>\u001b[1;34m\u001b[0m\n\u001b[1;32m----> 1\u001b[1;33m \u001b[0mA\u001b[0m \u001b[1;32mand\u001b[0m \u001b[0mB\u001b[0m\u001b[1;33m\u001b[0m\u001b[1;33m\u001b[0m\u001b[0m\n\u001b[0m",
      "\u001b[1;31mValueError\u001b[0m: The truth value of an array with more than one element is ambiguous. Use a.any() or a.all()"
     ]
    }
   ],
   "source": [
    "# Use and will evaluate the truth or falsehood of the entire array object\n",
    "# which is not well-defined\n",
    "A and B"
   ]
  },
  {
   "cell_type": "code",
   "execution_count": 674,
   "id": "5f677c48",
   "metadata": {},
   "outputs": [
    {
     "data": {
      "text/plain": [
       "array([0, 1, 2, 3, 4, 5, 6, 7, 8, 9])"
      ]
     },
     "execution_count": 674,
     "metadata": {},
     "output_type": "execute_result"
    },
    {
     "data": {
      "text/plain": [
       "array([False, False, False, False, False,  True,  True,  True, False,\n",
       "       False])"
      ]
     },
     "execution_count": 674,
     "metadata": {},
     "output_type": "execute_result"
    }
   ],
   "source": [
    "# when using boolean expression on given array\n",
    "# use | or & rather than or or and\n",
    "x = np.arange(10)\n",
    "x\n",
    "\n",
    "(x > 4) & (x < 8)"
   ]
  },
  {
   "cell_type": "markdown",
   "id": "4880ed35",
   "metadata": {},
   "source": [
    "### Practice \n",
    "\n",
    "Work with `president_heights.csv` dataset.\n",
    "1. Use `df = pd.read_csv(url, index_col = 0)` to load the data into Jupyter Notebook and assign it to the object `df`. The link of the dataset is https://raw.githubusercontent.com/jakevdp/PythonDataScienceHandbook/master/notebooks/data/president_heights.csv.\n",
    "\n",
    "2. Extract the height column and convert data table to Numpy array using `height = np.array(df['height(cm)'])`.\n",
    "\n",
    "3. Find mean, median, min, and max in the `height` array. \n",
    "\n",
    "4. Find heights greater than 165cm and less than 185cm."
   ]
  },
  {
   "cell_type": "code",
   "execution_count": 3,
   "id": "07d4155c",
   "metadata": {},
   "outputs": [
    {
     "data": {
      "text/html": [
       "<div>\n",
       "<style scoped>\n",
       "    .dataframe tbody tr th:only-of-type {\n",
       "        vertical-align: middle;\n",
       "    }\n",
       "\n",
       "    .dataframe tbody tr th {\n",
       "        vertical-align: top;\n",
       "    }\n",
       "\n",
       "    .dataframe thead th {\n",
       "        text-align: right;\n",
       "    }\n",
       "</style>\n",
       "<table border=\"1\" class=\"dataframe\">\n",
       "  <thead>\n",
       "    <tr style=\"text-align: right;\">\n",
       "      <th></th>\n",
       "      <th>name</th>\n",
       "      <th>height(cm)</th>\n",
       "    </tr>\n",
       "    <tr>\n",
       "      <th>order</th>\n",
       "      <th></th>\n",
       "      <th></th>\n",
       "    </tr>\n",
       "  </thead>\n",
       "  <tbody>\n",
       "    <tr>\n",
       "      <th>1</th>\n",
       "      <td>George Washington</td>\n",
       "      <td>189</td>\n",
       "    </tr>\n",
       "    <tr>\n",
       "      <th>2</th>\n",
       "      <td>John Adams</td>\n",
       "      <td>170</td>\n",
       "    </tr>\n",
       "    <tr>\n",
       "      <th>3</th>\n",
       "      <td>Thomas Jefferson</td>\n",
       "      <td>189</td>\n",
       "    </tr>\n",
       "    <tr>\n",
       "      <th>4</th>\n",
       "      <td>James Madison</td>\n",
       "      <td>163</td>\n",
       "    </tr>\n",
       "    <tr>\n",
       "      <th>5</th>\n",
       "      <td>James Monroe</td>\n",
       "      <td>183</td>\n",
       "    </tr>\n",
       "    <tr>\n",
       "      <th>6</th>\n",
       "      <td>John Quincy Adams</td>\n",
       "      <td>171</td>\n",
       "    </tr>\n",
       "    <tr>\n",
       "      <th>7</th>\n",
       "      <td>Andrew Jackson</td>\n",
       "      <td>185</td>\n",
       "    </tr>\n",
       "    <tr>\n",
       "      <th>8</th>\n",
       "      <td>Martin Van Buren</td>\n",
       "      <td>168</td>\n",
       "    </tr>\n",
       "    <tr>\n",
       "      <th>9</th>\n",
       "      <td>William Henry Harrison</td>\n",
       "      <td>173</td>\n",
       "    </tr>\n",
       "    <tr>\n",
       "      <th>10</th>\n",
       "      <td>John Tyler</td>\n",
       "      <td>183</td>\n",
       "    </tr>\n",
       "    <tr>\n",
       "      <th>11</th>\n",
       "      <td>James K. Polk</td>\n",
       "      <td>173</td>\n",
       "    </tr>\n",
       "    <tr>\n",
       "      <th>12</th>\n",
       "      <td>Zachary Taylor</td>\n",
       "      <td>173</td>\n",
       "    </tr>\n",
       "    <tr>\n",
       "      <th>13</th>\n",
       "      <td>Millard Fillmore</td>\n",
       "      <td>175</td>\n",
       "    </tr>\n",
       "    <tr>\n",
       "      <th>14</th>\n",
       "      <td>Franklin Pierce</td>\n",
       "      <td>178</td>\n",
       "    </tr>\n",
       "    <tr>\n",
       "      <th>15</th>\n",
       "      <td>James Buchanan</td>\n",
       "      <td>183</td>\n",
       "    </tr>\n",
       "    <tr>\n",
       "      <th>16</th>\n",
       "      <td>Abraham Lincoln</td>\n",
       "      <td>193</td>\n",
       "    </tr>\n",
       "    <tr>\n",
       "      <th>17</th>\n",
       "      <td>Andrew Johnson</td>\n",
       "      <td>178</td>\n",
       "    </tr>\n",
       "    <tr>\n",
       "      <th>18</th>\n",
       "      <td>Ulysses S. Grant</td>\n",
       "      <td>173</td>\n",
       "    </tr>\n",
       "    <tr>\n",
       "      <th>19</th>\n",
       "      <td>Rutherford B. Hayes</td>\n",
       "      <td>174</td>\n",
       "    </tr>\n",
       "    <tr>\n",
       "      <th>20</th>\n",
       "      <td>James A. Garfield</td>\n",
       "      <td>183</td>\n",
       "    </tr>\n",
       "    <tr>\n",
       "      <th>21</th>\n",
       "      <td>Chester A. Arthur</td>\n",
       "      <td>183</td>\n",
       "    </tr>\n",
       "    <tr>\n",
       "      <th>23</th>\n",
       "      <td>Benjamin Harrison</td>\n",
       "      <td>168</td>\n",
       "    </tr>\n",
       "    <tr>\n",
       "      <th>25</th>\n",
       "      <td>William McKinley</td>\n",
       "      <td>170</td>\n",
       "    </tr>\n",
       "    <tr>\n",
       "      <th>26</th>\n",
       "      <td>Theodore Roosevelt</td>\n",
       "      <td>178</td>\n",
       "    </tr>\n",
       "    <tr>\n",
       "      <th>27</th>\n",
       "      <td>William Howard Taft</td>\n",
       "      <td>182</td>\n",
       "    </tr>\n",
       "    <tr>\n",
       "      <th>28</th>\n",
       "      <td>Woodrow Wilson</td>\n",
       "      <td>180</td>\n",
       "    </tr>\n",
       "    <tr>\n",
       "      <th>29</th>\n",
       "      <td>Warren G. Harding</td>\n",
       "      <td>183</td>\n",
       "    </tr>\n",
       "    <tr>\n",
       "      <th>30</th>\n",
       "      <td>Calvin Coolidge</td>\n",
       "      <td>178</td>\n",
       "    </tr>\n",
       "    <tr>\n",
       "      <th>31</th>\n",
       "      <td>Herbert Hoover</td>\n",
       "      <td>182</td>\n",
       "    </tr>\n",
       "    <tr>\n",
       "      <th>32</th>\n",
       "      <td>Franklin D. Roosevelt</td>\n",
       "      <td>188</td>\n",
       "    </tr>\n",
       "    <tr>\n",
       "      <th>33</th>\n",
       "      <td>Harry S. Truman</td>\n",
       "      <td>175</td>\n",
       "    </tr>\n",
       "    <tr>\n",
       "      <th>34</th>\n",
       "      <td>Dwight D. Eisenhower</td>\n",
       "      <td>179</td>\n",
       "    </tr>\n",
       "    <tr>\n",
       "      <th>35</th>\n",
       "      <td>John F. Kennedy</td>\n",
       "      <td>183</td>\n",
       "    </tr>\n",
       "    <tr>\n",
       "      <th>36</th>\n",
       "      <td>Lyndon B. Johnson</td>\n",
       "      <td>193</td>\n",
       "    </tr>\n",
       "    <tr>\n",
       "      <th>37</th>\n",
       "      <td>Richard Nixon</td>\n",
       "      <td>182</td>\n",
       "    </tr>\n",
       "    <tr>\n",
       "      <th>38</th>\n",
       "      <td>Gerald Ford</td>\n",
       "      <td>183</td>\n",
       "    </tr>\n",
       "    <tr>\n",
       "      <th>39</th>\n",
       "      <td>Jimmy Carter</td>\n",
       "      <td>177</td>\n",
       "    </tr>\n",
       "    <tr>\n",
       "      <th>40</th>\n",
       "      <td>Ronald Reagan</td>\n",
       "      <td>185</td>\n",
       "    </tr>\n",
       "    <tr>\n",
       "      <th>41</th>\n",
       "      <td>George H. W. Bush</td>\n",
       "      <td>188</td>\n",
       "    </tr>\n",
       "    <tr>\n",
       "      <th>42</th>\n",
       "      <td>Bill Clinton</td>\n",
       "      <td>188</td>\n",
       "    </tr>\n",
       "    <tr>\n",
       "      <th>43</th>\n",
       "      <td>George W. Bush</td>\n",
       "      <td>182</td>\n",
       "    </tr>\n",
       "    <tr>\n",
       "      <th>44</th>\n",
       "      <td>Barack Obama</td>\n",
       "      <td>185</td>\n",
       "    </tr>\n",
       "    <tr>\n",
       "      <th>45</th>\n",
       "      <td>Donald Trump</td>\n",
       "      <td>191</td>\n",
       "    </tr>\n",
       "    <tr>\n",
       "      <th>46</th>\n",
       "      <td>Joseph Biden</td>\n",
       "      <td>182</td>\n",
       "    </tr>\n",
       "  </tbody>\n",
       "</table>\n",
       "</div>"
      ],
      "text/plain": [
       "                         name  height(cm)\n",
       "order                                    \n",
       "1           George Washington         189\n",
       "2                  John Adams         170\n",
       "3            Thomas Jefferson         189\n",
       "4               James Madison         163\n",
       "5                James Monroe         183\n",
       "6           John Quincy Adams         171\n",
       "7              Andrew Jackson         185\n",
       "8            Martin Van Buren         168\n",
       "9      William Henry Harrison         173\n",
       "10                 John Tyler         183\n",
       "11              James K. Polk         173\n",
       "12             Zachary Taylor         173\n",
       "13           Millard Fillmore         175\n",
       "14            Franklin Pierce         178\n",
       "15             James Buchanan         183\n",
       "16            Abraham Lincoln         193\n",
       "17             Andrew Johnson         178\n",
       "18           Ulysses S. Grant         173\n",
       "19        Rutherford B. Hayes         174\n",
       "20          James A. Garfield         183\n",
       "21          Chester A. Arthur         183\n",
       "23          Benjamin Harrison         168\n",
       "25           William McKinley         170\n",
       "26         Theodore Roosevelt         178\n",
       "27        William Howard Taft         182\n",
       "28             Woodrow Wilson         180\n",
       "29          Warren G. Harding         183\n",
       "30            Calvin Coolidge         178\n",
       "31             Herbert Hoover         182\n",
       "32      Franklin D. Roosevelt         188\n",
       "33            Harry S. Truman         175\n",
       "34       Dwight D. Eisenhower         179\n",
       "35            John F. Kennedy         183\n",
       "36          Lyndon B. Johnson         193\n",
       "37              Richard Nixon         182\n",
       "38                Gerald Ford         183\n",
       "39               Jimmy Carter         177\n",
       "40              Ronald Reagan         185\n",
       "41          George H. W. Bush         188\n",
       "42               Bill Clinton         188\n",
       "43             George W. Bush         182\n",
       "44               Barack Obama         185\n",
       "45               Donald Trump         191\n",
       "46               Joseph Biden         182"
      ]
     },
     "execution_count": 3,
     "metadata": {},
     "output_type": "execute_result"
    }
   ],
   "source": [
    "import pandas as pd\n",
    "url = 'https://raw.githubusercontent.com/jakevdp/PythonDataScienceHandbook/master/notebooks/data/president_heights.csv'\n",
    "df = pd.read_csv(url,index_col = 0)\n",
    "df"
   ]
  },
  {
   "cell_type": "code",
   "execution_count": 832,
   "id": "91607246",
   "metadata": {},
   "outputs": [
    {
     "data": {
      "text/plain": [
       "pandas.core.frame.DataFrame"
      ]
     },
     "execution_count": 832,
     "metadata": {},
     "output_type": "execute_result"
    }
   ],
   "source": [
    "type(df)"
   ]
  },
  {
   "cell_type": "code",
   "execution_count": 834,
   "id": "2cf396e5",
   "metadata": {},
   "outputs": [
    {
     "data": {
      "text/plain": [
       "array([189, 170, 189, 163, 183, 171, 185, 168, 173, 183, 173, 173, 175,\n",
       "       178, 183, 193, 178, 173, 174, 183, 183, 168, 170, 178, 182, 180,\n",
       "       183, 178, 182, 188, 175, 179, 183, 193, 182, 183, 177, 185, 188,\n",
       "       188, 182, 185], dtype=int64)"
      ]
     },
     "execution_count": 834,
     "metadata": {},
     "output_type": "execute_result"
    }
   ],
   "source": [
    "height = np.array(df['height(cm)'])\n",
    "height"
   ]
  },
  {
   "cell_type": "code",
   "execution_count": 839,
   "id": "27136384",
   "metadata": {},
   "outputs": [
    {
     "data": {
      "text/plain": [
       "179.73809523809524"
      ]
     },
     "execution_count": 839,
     "metadata": {},
     "output_type": "execute_result"
    },
    {
     "data": {
      "text/plain": [
       "6.931843442745892"
      ]
     },
     "execution_count": 839,
     "metadata": {},
     "output_type": "execute_result"
    },
    {
     "data": {
      "text/plain": [
       "163"
      ]
     },
     "execution_count": 839,
     "metadata": {},
     "output_type": "execute_result"
    },
    {
     "data": {
      "text/plain": [
       "193"
      ]
     },
     "execution_count": 839,
     "metadata": {},
     "output_type": "execute_result"
    }
   ],
   "source": [
    "# use NumPy functions\n",
    "np.average(height)\n",
    "np.std(height)\n",
    "np.min(height)\n",
    "np.max(height)"
   ]
  },
  {
   "cell_type": "code",
   "execution_count": 835,
   "id": "03fffbc3",
   "metadata": {},
   "outputs": [
    {
     "name": "stdout",
     "output_type": "stream",
     "text": [
      "Mean height:  179.73809523809524\n",
      "Standard deviation: 6.931843442745892\n",
      "Minimum height:  163\n",
      "Maximum height:  193\n"
     ]
    }
   ],
   "source": [
    "#check basic statistics\n",
    "print(\"Mean height: \", height.mean())\n",
    "print(\"Standard deviation:\", height.std())\n",
    "print(\"Minimum height: \", height.min())\n",
    "print(\"Maximum height: \", height.max())"
   ]
  },
  {
   "cell_type": "code",
   "execution_count": 842,
   "id": "41fd45fc",
   "metadata": {},
   "outputs": [
    {
     "data": {
      "text/plain": [
       "array([170, 183, 171, 168, 173, 183, 173, 173, 175, 178, 183, 178, 173,\n",
       "       174, 183, 183, 168, 170, 178, 182, 180, 183, 178, 182, 175, 179,\n",
       "       183, 182, 183, 177, 182], dtype=int64)"
      ]
     },
     "execution_count": 842,
     "metadata": {},
     "output_type": "execute_result"
    }
   ],
   "source": [
    "#find heights greater than 165cm and less than 185cm\n",
    "height[(height > 165) & (height < 185)]"
   ]
  },
  {
   "cell_type": "markdown",
   "id": "6126a64e",
   "metadata": {},
   "source": [
    "### Sorting arrays\n",
    "\n",
    "There are some algorithms related to sorting values in NumPy arrays."
   ]
  },
  {
   "cell_type": "code",
   "execution_count": 843,
   "id": "1716b547",
   "metadata": {},
   "outputs": [
    {
     "name": "stdout",
     "output_type": "stream",
     "text": [
      "[[38 13 73 10]\n",
      " [76  6 80 65]\n",
      " [17  2 77 72]]\n"
     ]
    },
    {
     "data": {
      "text/plain": [
       "array([[10, 13, 38, 73],\n",
       "       [ 6, 65, 76, 80],\n",
       "       [ 2, 17, 72, 77]])"
      ]
     },
     "execution_count": 843,
     "metadata": {},
     "output_type": "execute_result"
    },
    {
     "data": {
      "text/plain": [
       "array([[17,  2, 73, 10],\n",
       "       [38,  6, 77, 65],\n",
       "       [76, 13, 80, 72]])"
      ]
     },
     "execution_count": 843,
     "metadata": {},
     "output_type": "execute_result"
    },
    {
     "data": {
      "text/plain": [
       "array([[3, 1, 0, 2],\n",
       "       [1, 3, 0, 2],\n",
       "       [1, 0, 3, 2]], dtype=int64)"
      ]
     },
     "execution_count": 843,
     "metadata": {},
     "output_type": "execute_result"
    },
    {
     "data": {
      "text/plain": [
       "array([[2, 2, 0, 0],\n",
       "       [0, 1, 2, 1],\n",
       "       [1, 0, 1, 2]], dtype=int64)"
      ]
     },
     "execution_count": 843,
     "metadata": {},
     "output_type": "execute_result"
    },
    {
     "data": {
      "text/plain": [
       "numpy.ndarray"
      ]
     },
     "execution_count": 843,
     "metadata": {},
     "output_type": "execute_result"
    }
   ],
   "source": [
    "#sorting\n",
    "np.random.seed(1)\n",
    "x = np.random.randint(1,100,(3,4))\n",
    "\n",
    "print(x)\n",
    "#np.sort()\n",
    "#sort arrays without modifying the input\n",
    "\n",
    "# sort row\n",
    "np.sort(x, axis = 1)\n",
    "# sort column\n",
    "np.sort(x, axis = 0)\n",
    "\n",
    "#np.argsort(): returns the indices of the sorted elements\n",
    "np.argsort(x, axis = 1)\n",
    "np.argsort(x, axis = 0)\n",
    "\n",
    "type(np.argsort(x))"
   ]
  },
  {
   "cell_type": "code",
   "execution_count": 694,
   "id": "e21c033c",
   "metadata": {},
   "outputs": [],
   "source": [
    "np.sort?"
   ]
  },
  {
   "cell_type": "code",
   "execution_count": 702,
   "id": "d37852d0",
   "metadata": {},
   "outputs": [
    {
     "data": {
      "text/plain": [
       "3"
      ]
     },
     "execution_count": 702,
     "metadata": {},
     "output_type": "execute_result"
    }
   ],
   "source": [
    "x = np.array([2, 1, 4, 3, 5])\n",
    "x[2 + np.argmin(x[2:])]"
   ]
  },
  {
   "cell_type": "markdown",
   "id": "253270b7",
   "metadata": {},
   "source": [
    "### Numpy structured arrays\n",
    "\n",
    "Let's take a look at NumPy’s structured arrays and record arrays, which provide efficient storage for compound, heterogeneous data."
   ]
  },
  {
   "cell_type": "code",
   "execution_count": 9,
   "id": "d4c839db",
   "metadata": {},
   "outputs": [
    {
     "data": {
      "text/plain": [
       "array([16, 14,  3, 17,  8, 19, 15,  7,  9, 11, 16, 12, 17,  3, 15, 18,  4,\n",
       "        7,  5, 17])"
      ]
     },
     "execution_count": 9,
     "metadata": {},
     "output_type": "execute_result"
    }
   ],
   "source": [
    "import numpy as np\n",
    "\n",
    "np.random.randint(1, 20, 20)"
   ]
  },
  {
   "cell_type": "code",
   "execution_count": 706,
   "id": "002eb186",
   "metadata": {},
   "outputs": [
    {
     "data": {
      "text/plain": [
       "array([0, 0, 0, 0])"
      ]
     },
     "execution_count": 706,
     "metadata": {},
     "output_type": "execute_result"
    },
    {
     "name": "stdout",
     "output_type": "stream",
     "text": [
      "[('name', '<U10'), ('age', '<i4'), ('weight', '<f8')]\n"
     ]
    },
    {
     "data": {
      "text/plain": [
       "array([('', 0, 0.), ('', 0, 0.), ('', 0, 0.), ('', 0, 0.)],\n",
       "      dtype=[('name', '<U10'), ('age', '<i4'), ('weight', '<f8')])"
      ]
     },
     "execution_count": 706,
     "metadata": {},
     "output_type": "execute_result"
    }
   ],
   "source": [
    "#Numpy structured arrays\n",
    "\n",
    "name = ['Alice', 'Bob', 'Cathy', 'Doug']\n",
    "age = [25, 45, 37, 19]\n",
    "weight = [55.0, 85.5, 68.0, 61.5]\n",
    "\n",
    "# we used to create a simple array\n",
    "np.zeros(4, dtype = int)\n",
    "\n",
    "# Use a compound data type for structured arrays\n",
    "data = np.zeros(4, dtype={'names':('name', 'age', 'weight'),\n",
    "'formats':('U10', 'int', 'float')})\n",
    "\n",
    "print(data.dtype)\n",
    "# U10: Unicode string of maximum length 10\n",
    "# i4: 4-byte (i.e., 32 bit) integer,\n",
    "# f8: 8-byte (i.e., 64 bit) float\n",
    "\n",
    "data"
   ]
  },
  {
   "cell_type": "code",
   "execution_count": 844,
   "id": "7287a74a",
   "metadata": {},
   "outputs": [
    {
     "data": {
      "text/plain": [
       "array([('Alice', 25, 55. ), ('Bob', 45, 85.5), ('Cathy', 37, 68. ),\n",
       "       ('Doug', 19, 61.5)],\n",
       "      dtype=[('name', '<U10'), ('age', '<i4'), ('weight', '<f8')])"
      ]
     },
     "execution_count": 844,
     "metadata": {},
     "output_type": "execute_result"
    },
    {
     "data": {
      "text/plain": [
       "numpy.ndarray"
      ]
     },
     "execution_count": 844,
     "metadata": {},
     "output_type": "execute_result"
    },
    {
     "data": {
      "text/plain": [
       "(4,)"
      ]
     },
     "execution_count": 844,
     "metadata": {},
     "output_type": "execute_result"
    }
   ],
   "source": [
    "data['name'] = name\n",
    "data['age'] = age\n",
    "data['weight'] = weight\n",
    "\n",
    "data\n",
    "\n",
    "type(data)\n",
    "\n",
    "data.shape"
   ]
  },
  {
   "cell_type": "code",
   "execution_count": 847,
   "id": "0201b405",
   "metadata": {},
   "outputs": [
    {
     "data": {
      "text/plain": [
       "('Alice', 25, 55.)"
      ]
     },
     "execution_count": 847,
     "metadata": {},
     "output_type": "execute_result"
    },
    {
     "data": {
      "text/plain": [
       "55.0"
      ]
     },
     "execution_count": 847,
     "metadata": {},
     "output_type": "execute_result"
    }
   ],
   "source": [
    "# get first row\n",
    "data[0]\n",
    "\n",
    "# get name from last row\n",
    "data[0]['weight']"
   ]
  },
  {
   "cell_type": "code",
   "execution_count": 722,
   "id": "6ebaa791",
   "metadata": {},
   "outputs": [
    {
     "data": {
      "text/plain": [
       "array([('Alice', 25, 55. ), ('Doug', 19, 61.5)],\n",
       "      dtype=[('name', '<U10'), ('age', '<i4'), ('weight', '<f8')])"
      ]
     },
     "execution_count": 722,
     "metadata": {},
     "output_type": "execute_result"
    },
    {
     "data": {
      "text/plain": [
       "array(['Alice', 'Doug'], dtype='<U10')"
      ]
     },
     "execution_count": 722,
     "metadata": {},
     "output_type": "execute_result"
    }
   ],
   "source": [
    "# get rows where age < 30\n",
    "data[data['age'] < 30]\n",
    "\n",
    "# get names where age < 30\n",
    "data['name'][data['age'] < 30]"
   ]
  },
  {
   "cell_type": "markdown",
   "id": "950b2b27",
   "metadata": {},
   "source": [
    "#### Create structured arrays"
   ]
  },
  {
   "cell_type": "code",
   "execution_count": 723,
   "id": "82b785e8",
   "metadata": {},
   "outputs": [
    {
     "data": {
      "text/plain": [
       "dtype([('name', '<U10'), ('age', '<i4'), ('weight', '<f8')])"
      ]
     },
     "execution_count": 723,
     "metadata": {},
     "output_type": "execute_result"
    }
   ],
   "source": [
    "# dictionary method\n",
    "np.dtype({\n",
    "    'names':('name', 'age', 'weight'),\n",
    "    'formats':('U10', 'i4', 'f8')\n",
    "})"
   ]
  },
  {
   "cell_type": "code",
   "execution_count": 724,
   "id": "22390e7c",
   "metadata": {},
   "outputs": [
    {
     "data": {
      "text/plain": [
       "dtype([('name', '<U10'), ('age', '<i4'), ('weight', '<f4')])"
      ]
     },
     "execution_count": 724,
     "metadata": {},
     "output_type": "execute_result"
    }
   ],
   "source": [
    "# specified with Python types or NumPy dtypes\n",
    "np.dtype({\n",
    "    'names':('name', 'age', 'weight'),\n",
    "    'formats':((np.str_,10), int, np.float32)\n",
    "})"
   ]
  },
  {
   "cell_type": "code",
   "execution_count": 726,
   "id": "b23a988e",
   "metadata": {},
   "outputs": [
    {
     "data": {
      "text/plain": [
       "dtype([('name', 'S10'), ('age', '<i4'), ('weight', '<f8')])"
      ]
     },
     "execution_count": 726,
     "metadata": {},
     "output_type": "execute_result"
    }
   ],
   "source": [
    "# specified as a list of tuples\n",
    "np.dtype([('name', 'S10'), ('age','i4'),('weight','f8')])"
   ]
  },
  {
   "cell_type": "code",
   "execution_count": 727,
   "id": "58d52d09",
   "metadata": {},
   "outputs": [
    {
     "data": {
      "text/plain": [
       "dtype([('f0', 'S10'), ('f1', '<i4'), ('f2', '<f8')])"
      ]
     },
     "execution_count": 727,
     "metadata": {},
     "output_type": "execute_result"
    }
   ],
   "source": [
    "# specified without names\n",
    "np.dtype('S10, i4, f8')"
   ]
  },
  {
   "cell_type": "code",
   "execution_count": 22,
   "id": "6cd3502b",
   "metadata": {},
   "outputs": [
    {
     "data": {
      "text/plain": [
       "array([(18, 24.5)], dtype=[('id', '<i8'), ('age', '<f8')])"
      ]
     },
     "execution_count": 22,
     "metadata": {},
     "output_type": "execute_result"
    }
   ],
   "source": [
    "# ex.,\n",
    "# create structured array with 2 characteristics\n",
    "# 1. id (int) ; 2. age (float)\n",
    "tp = np.dtype([('id', 'i8'), ('age', 'f8')])\n",
    "# create structured array with only 1 element\n",
    "x = np.zeros(1, dtype = tp)\n",
    "\n",
    "x['id'] = [18]\n",
    "x['age'] = [24.5]\n",
    "x"
   ]
  },
  {
   "cell_type": "code",
   "execution_count": 30,
   "id": "de6f4355",
   "metadata": {},
   "outputs": [
    {
     "name": "stdout",
     "output_type": "stream",
     "text": [
      "18\n",
      "18\n"
     ]
    }
   ],
   "source": [
    "print(x['id'][0])\n",
    "print(x[0]['id'])"
   ]
  },
  {
   "cell_type": "code",
   "execution_count": 49,
   "id": "b884ec52",
   "metadata": {},
   "outputs": [
    {
     "data": {
      "text/plain": [
       "'staff'"
      ]
     },
     "execution_count": 49,
     "metadata": {},
     "output_type": "execute_result"
    }
   ],
   "source": [
    "# exercise\n",
    "# create a structured array for store employees\n",
    "# we have 4 people in the store, each person has 4 characteristics\n",
    "# 1. name 'U10' 2. cellphone 'i8' 3. age 'f8' 4. working title 'S10'\n",
    "name = ['Tom','Mary', 'Caren', 'Jack']\n",
    "cellphone = [917888888, 917555555, 917444444, 917333333]\n",
    "age = [19,20,49,32]\n",
    "title = ['staff', 'staff', 'manager', 'staff']\n",
    "employee_type = np.dtype([('name', 'U10'), ('cellphone', 'i8'), ('age','f8'), ('title','U10')])\n",
    "employee = np.zeros(4, dtype = employee_type)\n",
    "\n",
    "employee['name'] = name\n",
    "employee['cellphone'] = cellphone\n",
    "employee['age'] = age\n",
    "employee['title'] = title\n",
    "\n",
    "# title of the first employee\n",
    "employee['title'][0]"
   ]
  }
 ],
 "metadata": {
  "kernelspec": {
   "display_name": "Python 3 (ipykernel)",
   "language": "python",
   "name": "python3"
  },
  "language_info": {
   "codemirror_mode": {
    "name": "ipython",
    "version": 3
   },
   "file_extension": ".py",
   "mimetype": "text/x-python",
   "name": "python",
   "nbconvert_exporter": "python",
   "pygments_lexer": "ipython3",
   "version": "3.11.1"
  }
 },
 "nbformat": 4,
 "nbformat_minor": 5
}
