{
 "cells": [
  {
   "cell_type": "markdown",
   "id": "d379e4aa",
   "metadata": {
    "slideshow": {
     "slide_type": "slide"
    }
   },
   "source": [
    "# Numpy\n",
    "\n",
    "\n",
    "NumPy (short for Numerical Python) provides an efficient interface to store and operate on dense data buffers. \n",
    "- In some ways, NumPy arrays are like Python’s built-in list type, but NumPy arrays provide much more efficient storage and data operations as the arrays grow larger in size.\n",
    "- NumPy arrays form the core of nearly the entire ecosystem of data science tools in Python\n",
    "\n",
    "First, install `numpy` and load it. I checked my version of `numpy` and upgraded it since it's outdated."
   ]
  },
  {
   "cell_type": "code",
   "execution_count": 5,
   "id": "8f2deabe",
   "metadata": {
    "slideshow": {
     "slide_type": "slide"
    }
   },
   "outputs": [
    {
     "data": {
      "text/plain": [
       "'1.24.1'"
      ]
     },
     "execution_count": 5,
     "metadata": {},
     "output_type": "execute_result"
    }
   ],
   "source": [
    "import numpy as np\n",
    "np.__version__"
   ]
  },
  {
   "cell_type": "code",
   "execution_count": 4,
   "id": "99eac190",
   "metadata": {
    "slideshow": {
     "slide_type": "fragment"
    }
   },
   "outputs": [],
   "source": [
    "# %%cmd\n",
    "# pip list --outdated"
   ]
  },
  {
   "cell_type": "code",
   "execution_count": null,
   "id": "9f65fcc6",
   "metadata": {
    "slideshow": {
     "slide_type": "fragment"
    }
   },
   "outputs": [],
   "source": [
    "# %%cmd\n",
    "# pip install --upgrade numpy"
   ]
  },
  {
   "cell_type": "code",
   "execution_count": 6,
   "id": "640cc50c",
   "metadata": {
    "slideshow": {
     "slide_type": "fragment"
    }
   },
   "outputs": [],
   "source": [
    "from IPython.core.interactiveshell import InteractiveShell\n",
    "InteractiveShell.ast_node_interactivity = \"all\""
   ]
  },
  {
   "cell_type": "markdown",
   "id": "9d55de64",
   "metadata": {
    "slideshow": {
     "slide_type": "fragment"
    }
   },
   "source": [
    "### Built-In Documentation\n",
    "- Display all the contents of the numpy namespace: `np.<TAB>`\n",
    "\n",
    "- Display NumPy's built-in documentation: `np?`\n",
    "\n",
    "- More detailed documentation, tutorials and other resources, go to http://www.numpy.org."
   ]
  },
  {
   "cell_type": "markdown",
   "id": "9bc943de",
   "metadata": {
    "slideshow": {
     "slide_type": "slide"
    }
   },
   "source": [
    "## Concepts of Array\n",
    "An array is a grid of values. It contains the information of the raw data, such as:\n",
    "- How to locate an element\n",
    "- How to interpret an element"
   ]
  },
  {
   "cell_type": "markdown",
   "id": "b0c020a7",
   "metadata": {
    "slideshow": {
     "slide_type": "slide"
    }
   },
   "source": [
    "### Data Types in Python\n",
    "\n",
    "- The standard Python implementation is written in C. \n",
    "    - Every Python object is simply a cleverly disguised C structure, which contains not only its value, but other information as well.\n",
    "\n",
    "- This extra information in the Python integer structure is what allows Python to be coded so freely and dynamically. Of course, it comes with cost. \n",
    "\n",
    "- There is some overhead in storing an integer in Python as compared to an integer in a compiled language like C. \n",
    "\n",
    "\n",
    "For example, when you create an integer `x = 1` in Python, x is not jsut a \"raw\" integer. "
   ]
  },
  {
   "cell_type": "markdown",
   "id": "3680962b",
   "metadata": {
    "slideshow": {
     "slide_type": "slide"
    }
   },
   "source": [
    "A single integer in Python (e.g., version 3.4) contains 4 pieces:\n",
    "1. `ob_refcnt`, a reference count that helps Python silently handle memory allocation and deallocation\n",
    "2. `ob_type`, encodes the type of the variable\n",
    "3. `ob_size`, specifies the size of the following data members\n",
    "4. `ob_digit`, contains the actual integer value that we expect the Python variable to represent"
   ]
  },
  {
   "cell_type": "markdown",
   "id": "3e47ceaa",
   "metadata": {
    "slideshow": {
     "slide_type": "slide"
    }
   },
   "source": [
    "<br><br>\n",
    "<center><img src=\"images/Numpy_1.JPG\" width = \"500\"></center>\n",
    "<center>Difference between C and Python integers (Ref. Python Data Science Handbook)</center>"
   ]
  },
  {
   "cell_type": "markdown",
   "id": "bc7717f9",
   "metadata": {
    "slideshow": {
     "slide_type": "slide"
    }
   },
   "source": [
    "### Dynamic-type list & fixed-type array (NumPy-style)\n",
    "\n",
    "There are various differences between list and Numpy array.\n",
    "\n",
    "1. The array contains a single pointer to one contiguous block of data. \n",
    "\n",
    "2. The Python list, contains a pointer to a block of pointers, each of which in turn points to full Python object like the Python integer. \n",
    "\n",
    "Then, why would we prefer one towards the other?\n",
    "\n",
    "1. The advantage of list is flexibility: because each list element is a full structure containing both data and type information, the list can be filled with data of any desired type\n",
    "\n",
    "2. Fixed-type NumPy-style arrays lack this flexibility, but are much more efficient for storing and manipulating data."
   ]
  },
  {
   "cell_type": "markdown",
   "id": "b23c9e8b",
   "metadata": {
    "slideshow": {
     "slide_type": "slide"
    }
   },
   "source": [
    "<center><img src=\"images/Numpy_4.JPG\" width = \"680\"></center>\n",
    "<center>Difference between C and Python lists (Ref. Python Data Science Handbook p.38)</center>"
   ]
  },
  {
   "cell_type": "markdown",
   "id": "204aa7f9",
   "metadata": {
    "slideshow": {
     "slide_type": "-"
    }
   },
   "source": [
    "**Note**: it's important to know about the basic data structure in Python: list, dictionary, etc. If you forget, please go to this tutorial to review: [Summary of List in Python](https://github.com/YuxiaoLuo/Intro_Python/blob/main/Week12/12_Lists.ipynb)."
   ]
  },
  {
   "cell_type": "code",
   "execution_count": 68,
   "id": "14ad9fe5",
   "metadata": {
    "slideshow": {
     "slide_type": "slide"
    }
   },
   "outputs": [
    {
     "data": {
      "text/plain": [
       "[0, 1, 2, 3, 4, 5, 6, 7, 8, 9]"
      ]
     },
     "execution_count": 68,
     "metadata": {},
     "output_type": "execute_result"
    }
   ],
   "source": [
    "# we can use list to hold multiple items in Python\n",
    "L = list(range(10))\n",
    "L"
   ]
  },
  {
   "cell_type": "code",
   "execution_count": 69,
   "id": "a9c08c68",
   "metadata": {
    "slideshow": {
     "slide_type": "-"
    }
   },
   "outputs": [
    {
     "data": {
      "text/plain": [
       "['0', '1', '2', '3', '4', '5', '6', '7', '8', '9']"
      ]
     },
     "execution_count": 69,
     "metadata": {},
     "output_type": "execute_result"
    }
   ],
   "source": [
    "# convert each element to string\n",
    "L2 = [str(c) for c in L]\n",
    "L2"
   ]
  },
  {
   "cell_type": "code",
   "execution_count": 72,
   "id": "15a1dd7b",
   "metadata": {
    "slideshow": {
     "slide_type": "-"
    }
   },
   "outputs": [
    {
     "data": {
      "text/plain": [
       "[bool, str, float, int]"
      ]
     },
     "execution_count": 72,
     "metadata": {},
     "output_type": "execute_result"
    }
   ],
   "source": [
    "# list can store different types\n",
    "L3 = [True, \"2\", 3.0, 4]\n",
    "[type(element) for element in L3]"
   ]
  },
  {
   "cell_type": "markdown",
   "id": "a29f13c3",
   "metadata": {
    "slideshow": {
     "slide_type": "slide"
    }
   },
   "source": [
    "Python offers a built-in `array` module (available since Python 3.3) to create dense arrays of a uniform type. But it's less useful than the `Numpy` array. In the example below, `'i'` is type code indicating the contents are integers."
   ]
  },
  {
   "cell_type": "code",
   "execution_count": 7,
   "id": "0cee7531",
   "metadata": {},
   "outputs": [
    {
     "name": "stdout",
     "output_type": "stream",
     "text": [
      "[1, 2, 3, 4, 5, 6, 7, 8, 9, 10]\n",
      "array('i', [1, 2, 3, 4, 5, 6, 7, 8, 9, 10])\n"
     ]
    }
   ],
   "source": [
    "import array\n",
    "\n",
    "# create a list from 1 to 10\n",
    "L = list(range(1,11))\n",
    "print(L)\n",
    "\n",
    "# create an array\n",
    "A = array.array('i', L)\n",
    "print(A)"
   ]
  },
  {
   "cell_type": "code",
   "execution_count": 4,
   "id": "277926d9",
   "metadata": {},
   "outputs": [],
   "source": [
    "# use Help document to learn about the object\n",
    "array.array?"
   ]
  },
  {
   "cell_type": "markdown",
   "id": "b53c3341",
   "metadata": {
    "slideshow": {
     "slide_type": "slide"
    }
   },
   "source": [
    "## NumPy Arrays\n",
    "#### Overview\n",
    "- Support vectorized operations, while lists don't\n",
    "- In the context of high-level languages like Python, Matlab, and R, the term vectorization describes the use of optimized, pre-compiled code written in a low-level language (e.g. C) to perform mathematical operations over a sequence of data\n",
    "- cannot be changed in size -- have to create a new array or overwrite existing one"
   ]
  },
  {
   "cell_type": "markdown",
   "id": "885ed433",
   "metadata": {
    "slideshow": {
     "slide_type": "subslide"
    }
   },
   "source": [
    "- each has one and only one dtype - all items in each array are of that same dtype\n",
    "- an equivalent numpy array occupies much less space than a python list\n",
    "- http://www.numpy.org"
   ]
  },
  {
   "cell_type": "markdown",
   "id": "827391e0",
   "metadata": {
    "slideshow": {
     "slide_type": "slide"
    }
   },
   "source": [
    "### Creating array from Python lists"
   ]
  },
  {
   "cell_type": "code",
   "execution_count": 171,
   "id": "bfa81ec6",
   "metadata": {},
   "outputs": [
    {
     "data": {
      "text/plain": [
       "numpy.ndarray"
      ]
     },
     "execution_count": 171,
     "metadata": {},
     "output_type": "execute_result"
    },
    {
     "data": {
      "text/plain": [
       "array([3.14, 4.  , 2.  , 3.  ])"
      ]
     },
     "execution_count": 171,
     "metadata": {},
     "output_type": "execute_result"
    }
   ],
   "source": [
    "# create arrays from Python lists\n",
    "x = np.array([1, 4, 2, 5, 3])\n",
    "\n",
    "type(x)\n",
    "\n",
    "# NumPy is constrained to arrays containing the same type \n",
    "# integers are upcast to floating point \n",
    "np.array([3.14, 4, 2, 3])"
   ]
  },
  {
   "cell_type": "code",
   "execution_count": 172,
   "id": "84f5ef94",
   "metadata": {},
   "outputs": [
    {
     "data": {
      "text/plain": [
       "array([1., 2., 3., 4.], dtype=float32)"
      ]
     },
     "execution_count": 172,
     "metadata": {},
     "output_type": "execute_result"
    }
   ],
   "source": [
    "# set the data type: use dtype keyword\n",
    "# https://numpy.org/doc/stable/reference/arrays.dtypes.html \n",
    "np.array([1, 2, 3, 4], dtype = \"float32\")\n"
   ]
  },
  {
   "cell_type": "code",
   "execution_count": 176,
   "id": "b6fe9a8b",
   "metadata": {},
   "outputs": [
    {
     "data": {
      "text/plain": [
       "array([2, 3, 4])"
      ]
     },
     "execution_count": 176,
     "metadata": {},
     "output_type": "execute_result"
    }
   ],
   "source": [
    "# convert float to int\n",
    "np.array([2.3, 3.9, 4.4], dtype = \"int32\")"
   ]
  },
  {
   "cell_type": "code",
   "execution_count": 79,
   "id": "efc6d826",
   "metadata": {},
   "outputs": [
    {
     "data": {
      "text/plain": [
       "array([[2, 3, 4, 5],\n",
       "       [4, 5, 6, 7],\n",
       "       [6, 7, 8, 9]])"
      ]
     },
     "execution_count": 79,
     "metadata": {},
     "output_type": "execute_result"
    }
   ],
   "source": [
    "# nested lists result in multidimensional arrays\n",
    "np.array([range(i, i+4) for i in [2, 4, 6]])"
   ]
  },
  {
   "cell_type": "markdown",
   "id": "3ecfd103",
   "metadata": {},
   "source": [
    "### Creating array from scratch\n",
    "Numpy offers built-in routines to create arrays."
   ]
  },
  {
   "cell_type": "code",
   "execution_count": 184,
   "id": "1895c15d",
   "metadata": {},
   "outputs": [
    {
     "data": {
      "text/plain": [
       "array([0, 0, 0, 0, 0, 0, 0, 0, 0, 0])"
      ]
     },
     "execution_count": 184,
     "metadata": {},
     "output_type": "execute_result"
    },
    {
     "data": {
      "text/plain": [
       "array([[1., 1., 1., 1., 1.],\n",
       "       [1., 1., 1., 1., 1.],\n",
       "       [1., 1., 1., 1., 1.]])"
      ]
     },
     "execution_count": 184,
     "metadata": {},
     "output_type": "execute_result"
    },
    {
     "data": {
      "text/plain": [
       "array([[3.14, 3.14, 3.14, 3.14, 3.14],\n",
       "       [3.14, 3.14, 3.14, 3.14, 3.14],\n",
       "       [3.14, 3.14, 3.14, 3.14, 3.14]])"
      ]
     },
     "execution_count": 184,
     "metadata": {},
     "output_type": "execute_result"
    }
   ],
   "source": [
    "# length-10 integer array filled with zeros\n",
    "np.zeros(10, dtype = int)\n",
    "\n",
    "# 3x5 floating-point array filled with 1s\n",
    "np.ones((3,5), dtype = float)\n",
    "\n",
    "# 3x5 array filled with 3.14 \n",
    "np.full((3,5), 3.14)"
   ]
  },
  {
   "cell_type": "code",
   "execution_count": 190,
   "id": "259ef90f",
   "metadata": {},
   "outputs": [
    {
     "data": {
      "text/plain": [
       "array([ 0,  2,  4,  6,  8, 10, 12, 14, 16, 18])"
      ]
     },
     "execution_count": 190,
     "metadata": {},
     "output_type": "execute_result"
    }
   ],
   "source": [
    "# array filled with linear sequence \n",
    "# starting at 0, ending at 20, stepping by 2\n",
    "np.arange(0, 20, 2)"
   ]
  },
  {
   "cell_type": "code",
   "execution_count": 193,
   "id": "b4ffc517",
   "metadata": {},
   "outputs": [
    {
     "data": {
      "text/plain": [
       "array([0.  , 0.25, 0.5 , 0.75, 1.  ])"
      ]
     },
     "execution_count": 193,
     "metadata": {},
     "output_type": "execute_result"
    }
   ],
   "source": [
    "# array of five values evenly spaced between 0 and 1\n",
    "np.linspace(0, 1, 5)"
   ]
  },
  {
   "cell_type": "code",
   "execution_count": 85,
   "id": "99878cdd",
   "metadata": {},
   "outputs": [
    {
     "data": {
      "text/plain": [
       "array([[0.33739616, 0.64817187, 0.36824154],\n",
       "       [0.95715516, 0.14035078, 0.87008726],\n",
       "       [0.47360805, 0.80091075, 0.52047748]])"
      ]
     },
     "execution_count": 85,
     "metadata": {},
     "output_type": "execute_result"
    }
   ],
   "source": [
    "# 3x3 array of uniformly distributed \n",
    "# random values between 0 and 1\n",
    "np.random.random((3,3))"
   ]
  },
  {
   "cell_type": "code",
   "execution_count": 197,
   "id": "9a63eb53",
   "metadata": {},
   "outputs": [
    {
     "data": {
      "text/plain": [
       "array([[ 0.65252896, -1.18102944, -1.01489007],\n",
       "       [-0.96732772,  1.37622696,  0.4215631 ],\n",
       "       [ 1.10019023,  0.31640099,  0.93341229]])"
      ]
     },
     "execution_count": 197,
     "metadata": {},
     "output_type": "execute_result"
    }
   ],
   "source": [
    "# 3x3 array of normally distributed random values \n",
    "# with mean 0 and standard deviation 1\n",
    "np.random.normal(0, 1, (3,3))"
   ]
  },
  {
   "cell_type": "code",
   "execution_count": 88,
   "id": "30d4f8cb",
   "metadata": {
    "scrolled": true
   },
   "outputs": [
    {
     "data": {
      "text/plain": [
       "array([[7, 9, 9],\n",
       "       [3, 6, 7],\n",
       "       [2, 0, 3]])"
      ]
     },
     "execution_count": 88,
     "metadata": {},
     "output_type": "execute_result"
    }
   ],
   "source": [
    "# 3x3 array of random integers in the interval [0, 10)\n",
    "np.random.randint(0, 10, (3,3))"
   ]
  },
  {
   "cell_type": "code",
   "execution_count": 200,
   "id": "a7fbe71c",
   "metadata": {
    "scrolled": true
   },
   "outputs": [
    {
     "data": {
      "text/plain": [
       "array([[1., 0., 0., 0., 0., 0.],\n",
       "       [0., 1., 0., 0., 0., 0.],\n",
       "       [0., 0., 1., 0., 0., 0.],\n",
       "       [0., 0., 0., 1., 0., 0.],\n",
       "       [0., 0., 0., 0., 1., 0.],\n",
       "       [0., 0., 0., 0., 0., 1.]])"
      ]
     },
     "execution_count": 200,
     "metadata": {},
     "output_type": "execute_result"
    }
   ],
   "source": [
    "# 3x3 identity matrix\n",
    "np.eye(6)"
   ]
  },
  {
   "cell_type": "code",
   "execution_count": 201,
   "id": "4a7e901d",
   "metadata": {},
   "outputs": [
    {
     "data": {
      "text/plain": [
       "array([0.  , 0.25, 0.5 , 0.75, 1.  ])"
      ]
     },
     "execution_count": 201,
     "metadata": {},
     "output_type": "execute_result"
    }
   ],
   "source": [
    "# uninitialized array of 3 integers \n",
    "# values will be whatever happens to already exist at that memory location\n",
    "np.empty(5)"
   ]
  },
  {
   "cell_type": "code",
   "execution_count": 7,
   "id": "7fd3ef35",
   "metadata": {},
   "outputs": [],
   "source": [
    "# help(np.random.normal)"
   ]
  },
  {
   "cell_type": "code",
   "execution_count": 222,
   "id": "5cf81fb0",
   "metadata": {},
   "outputs": [
    {
     "data": {
      "text/plain": [
       "array([0, 1, 2, 3, 4, 5, 6, 7, 8, 9])"
      ]
     },
     "execution_count": 222,
     "metadata": {},
     "output_type": "execute_result"
    },
    {
     "data": {
      "text/plain": [
       "array([[7, 6, 9],\n",
       "       [1, 7, 2],\n",
       "       [3, 3, 7]])"
      ]
     },
     "execution_count": 222,
     "metadata": {},
     "output_type": "execute_result"
    },
    {
     "data": {
      "text/plain": [
       "array([[0.3252151 , 0.70477386, 0.60989438],\n",
       "       [0.61564986, 0.25520599, 0.87127332],\n",
       "       [0.15199145, 0.53807213, 0.23170221]])"
      ]
     },
     "execution_count": 222,
     "metadata": {},
     "output_type": "execute_result"
    },
    {
     "data": {
      "text/plain": [
       "array([6.40142091, 6.89471508])"
      ]
     },
     "execution_count": 222,
     "metadata": {},
     "output_type": "execute_result"
    }
   ],
   "source": [
    "# generate random integer in a one-dimensional array\n",
    "np.arange(0, 10)\n",
    "# generate random integer in a 3x3 array \n",
    "np.random.randint(1,10, (3,3))\n",
    "# generate any array from uniform distrbution \n",
    "np.random.random((3,3))\n",
    "# generate an 5x7 array from standardized normal distribution \n",
    "np.random.normal(0,1,(5,7))"
   ]
  },
  {
   "cell_type": "markdown",
   "id": "b7764ff4",
   "metadata": {},
   "source": [
    "#### NumPy Standard Data Types\n",
    "\n",
    "The standard NumPy data types are listed below. \n",
    "- When constructing an array, you can specify them using a string:\n",
    "`np.zeros(10, dtype = 'int16')`\n",
    "- Or using the associated NumPy object: \n",
    "`np.zeros(10, dtype = np.int16)`\n",
    "\n",
    "\n",
    "<br><br>\n",
    "<center><img src=\"images/numpy_2.JPG\" width = \"500\"></center>\n",
    "<center>Figure.2 Standard NumPy data types </center>"
   ]
  },
  {
   "cell_type": "markdown",
   "id": "14456342",
   "metadata": {},
   "source": [
    "### Basics of Numpy arrays\n",
    "- Attributes of arrays: determining the size, shape, memory consumption, and data types of arrays\n",
    "- Indexing of arrays: getting and setting the value of individual array elements\n",
    "- Slicing of arrays: getting and setting smaller subarrays within a larger array\n",
    "- Reshaping of arrays: changing the shape of a given array\n",
    "- Joining and splitting of arrays: combining multiple arrays into one, and splitting one array into many"
   ]
  },
  {
   "cell_type": "markdown",
   "id": "2e82955a",
   "metadata": {},
   "source": [
    "#### NumPy array attributes\n",
    "- define arrays in different dimensions\n",
    "- use NumPy's random number generator and `seed()` to ensure each time the random arrays are the same"
   ]
  },
  {
   "cell_type": "code",
   "execution_count": 136,
   "id": "68d9268c",
   "metadata": {},
   "outputs": [
    {
     "data": {
      "text/plain": [
       "array([0, 1, 1, 0, 7, 8])"
      ]
     },
     "execution_count": 136,
     "metadata": {},
     "output_type": "execute_result"
    },
    {
     "data": {
      "text/plain": [
       "array([[2, 8, 0, 5],\n",
       "       [9, 1, 3, 8],\n",
       "       [0, 3, 6, 8]])"
      ]
     },
     "execution_count": 136,
     "metadata": {},
     "output_type": "execute_result"
    },
    {
     "data": {
      "text/plain": [
       "array([[[0, 1, 2, 0, 5],\n",
       "        [7, 5, 1, 7, 5],\n",
       "        [5, 4, 8, 2, 3],\n",
       "        [1, 0, 4, 5, 0]],\n",
       "\n",
       "       [[7, 5, 5, 8, 2],\n",
       "        [4, 0, 9, 4, 9],\n",
       "        [8, 8, 0, 3, 9],\n",
       "        [5, 2, 1, 7, 2]],\n",
       "\n",
       "       [[1, 7, 9, 6, 6],\n",
       "        [7, 2, 9, 1, 9],\n",
       "        [4, 0, 4, 4, 7],\n",
       "        [8, 7, 1, 2, 9]]])"
      ]
     },
     "execution_count": 136,
     "metadata": {},
     "output_type": "execute_result"
    }
   ],
   "source": [
    "import numpy as np \n",
    "np.random.seed(2022) # seed for reproducibility\n",
    "\n",
    "x1 = np.random.randint(10, size = 6)\n",
    "x2 = np.random.randint(10, size = (3,4)) \n",
    "x3 = np.random.randint(10, size = (3, 4, 5))\n",
    "\n",
    "x1; x2; x3"
   ]
  },
  {
   "cell_type": "code",
   "execution_count": 227,
   "id": "a7aabcd4",
   "metadata": {},
   "outputs": [
    {
     "data": {
      "text/plain": [
       "3"
      ]
     },
     "execution_count": 227,
     "metadata": {},
     "output_type": "execute_result"
    },
    {
     "data": {
      "text/plain": [
       "(3, 4, 5)"
      ]
     },
     "execution_count": 227,
     "metadata": {},
     "output_type": "execute_result"
    },
    {
     "data": {
      "text/plain": [
       "60"
      ]
     },
     "execution_count": 227,
     "metadata": {},
     "output_type": "execute_result"
    },
    {
     "data": {
      "text/plain": [
       "dtype('int32')"
      ]
     },
     "execution_count": 227,
     "metadata": {},
     "output_type": "execute_result"
    },
    {
     "data": {
      "text/plain": [
       "4"
      ]
     },
     "execution_count": 227,
     "metadata": {},
     "output_type": "execute_result"
    },
    {
     "data": {
      "text/plain": [
       "240"
      ]
     },
     "execution_count": 227,
     "metadata": {},
     "output_type": "execute_result"
    }
   ],
   "source": [
    "# number of dimensions\n",
    "x3.ndim\n",
    "# size of each dimension\n",
    "x3.shape\n",
    "# total size of the array\n",
    "x3.size\n",
    "# data type of the array\n",
    "x3.dtype\n",
    "# itemsize: size (in bytes) of each array element\n",
    "x3.itemsize\n",
    "# nbytes: total size (in bytes) of the array\n",
    "x3.nbytes"
   ]
  },
  {
   "cell_type": "markdown",
   "id": "bae3609c",
   "metadata": {},
   "source": [
    "### Reshaping, Concatenation, Splitting\n",
    "- Reshaping: `reshape((x,y))`\n",
    "- Concatenation: `np.concatenate`, `np.vstack` (vertical stack), and `np.hstack` (horizontal stack). `np.concatenate` takes a tuple or list of arrays as its first argument\n",
    "- Splitting: `np.split`, `np.hsplit`, `np.vsplit`"
   ]
  },
  {
   "cell_type": "code",
   "execution_count": 733,
   "id": "7cdd0b53",
   "metadata": {},
   "outputs": [
    {
     "data": {
      "text/plain": [
       "array([1, 2, 3, 4, 5, 6, 7, 8, 9])"
      ]
     },
     "execution_count": 733,
     "metadata": {},
     "output_type": "execute_result"
    }
   ],
   "source": [
    "grid = np.arange(1, 10).reshape((3,3))\n",
    "grid"
   ]
  },
  {
   "cell_type": "code",
   "execution_count": 734,
   "id": "88a3e044",
   "metadata": {},
   "outputs": [
    {
     "data": {
      "text/plain": [
       "array([1, 2, 3])"
      ]
     },
     "execution_count": 734,
     "metadata": {},
     "output_type": "execute_result"
    },
    {
     "data": {
      "text/plain": [
       "array([3, 2, 1])"
      ]
     },
     "execution_count": 734,
     "metadata": {},
     "output_type": "execute_result"
    },
    {
     "data": {
      "text/plain": [
       "array([1, 2, 3, 3, 2, 1])"
      ]
     },
     "execution_count": 734,
     "metadata": {},
     "output_type": "execute_result"
    }
   ],
   "source": [
    "# concatenate() works with same dimension array\n",
    "x = np.array([1,2,3])\n",
    "y = np.array([3,2,1])\n",
    "x\n",
    "y\n",
    "\n",
    "np.concatenate([x, y])"
   ]
  },
  {
   "cell_type": "code",
   "execution_count": 741,
   "id": "deb31548",
   "metadata": {},
   "outputs": [
    {
     "data": {
      "text/plain": [
       "list"
      ]
     },
     "execution_count": 741,
     "metadata": {},
     "output_type": "execute_result"
    },
    {
     "data": {
      "text/plain": [
       "array([ 1,  2,  3,  3,  2,  1, 99, 99, 99])"
      ]
     },
     "execution_count": 741,
     "metadata": {},
     "output_type": "execute_result"
    }
   ],
   "source": [
    "# concatenate more than 2 arrays\n",
    "# note z is list\n",
    "z = [99, 99 ,99]\n",
    "type(z)\n",
    "a = np.concatenate([x,y,z])\n",
    "a"
   ]
  },
  {
   "cell_type": "code",
   "execution_count": 746,
   "id": "76be8af6",
   "metadata": {},
   "outputs": [
    {
     "data": {
      "text/plain": [
       "array([[1, 2, 3],\n",
       "       [4, 5, 6]])"
      ]
     },
     "execution_count": 746,
     "metadata": {},
     "output_type": "execute_result"
    },
    {
     "data": {
      "text/plain": [
       "array([[1, 2, 3],\n",
       "       [4, 5, 6],\n",
       "       [1, 2, 3],\n",
       "       [4, 5, 6]])"
      ]
     },
     "execution_count": 746,
     "metadata": {},
     "output_type": "execute_result"
    },
    {
     "data": {
      "text/plain": [
       "(4, 3)"
      ]
     },
     "execution_count": 746,
     "metadata": {},
     "output_type": "execute_result"
    }
   ],
   "source": [
    "# concatenate 2-dimensional arrays\n",
    "grid = np.array([[1, 2, 3],\n",
    "                [4, 5, 6]])\n",
    "grid\n",
    "\n",
    "new_grid = np.concatenate([grid, grid])\n",
    "new_grid\n",
    "new_grid.shape"
   ]
  },
  {
   "cell_type": "code",
   "execution_count": 752,
   "id": "61848cdb",
   "metadata": {},
   "outputs": [
    {
     "data": {
      "text/plain": [
       "array([[1, 2, 3, 1, 2, 3],\n",
       "       [4, 5, 6, 4, 5, 6]])"
      ]
     },
     "execution_count": 752,
     "metadata": {},
     "output_type": "execute_result"
    },
    {
     "data": {
      "text/plain": [
       "(2, 6)"
      ]
     },
     "execution_count": 752,
     "metadata": {},
     "output_type": "execute_result"
    }
   ],
   "source": [
    "# concatenate along the second axies (zero-indexed)\n",
    "new_grid = np.concatenate([grid, grid], axis = 1)\n",
    "new_grid\n",
    "new_grid.shape"
   ]
  },
  {
   "cell_type": "code",
   "execution_count": 754,
   "id": "788157c2",
   "metadata": {},
   "outputs": [
    {
     "data": {
      "text/plain": [
       "array([[1, 2, 3],\n",
       "       [9, 8, 7],\n",
       "       [6, 5, 4]])"
      ]
     },
     "execution_count": 754,
     "metadata": {},
     "output_type": "execute_result"
    }
   ],
   "source": [
    "# mixed dimensions arrays\n",
    "x = np.array([1, 2, 3])\n",
    "\n",
    "grid = np.array([[9, 8, 7],\n",
    "                [6, 5, 4]])\n",
    "# vertically stack the arrays\n",
    "np.vstack([x, grid])"
   ]
  },
  {
   "cell_type": "code",
   "execution_count": 764,
   "id": "be3b441d",
   "metadata": {},
   "outputs": [
    {
     "data": {
      "text/plain": [
       "array([[1],\n",
       "       [2]])"
      ]
     },
     "execution_count": 764,
     "metadata": {},
     "output_type": "execute_result"
    },
    {
     "data": {
      "text/plain": [
       "array([[9, 8, 7],\n",
       "       [6, 5, 4]])"
      ]
     },
     "execution_count": 764,
     "metadata": {},
     "output_type": "execute_result"
    },
    {
     "data": {
      "text/plain": [
       "array([[1, 9, 8, 7],\n",
       "       [2, 6, 5, 4]])"
      ]
     },
     "execution_count": 764,
     "metadata": {},
     "output_type": "execute_result"
    }
   ],
   "source": [
    "# horizontally stack arrays\n",
    "y = np.array([1,2]).reshape((2,1))\n",
    "y\n",
    "grid\n",
    "np.hstack([y, grid])"
   ]
  },
  {
   "cell_type": "code",
   "execution_count": 773,
   "id": "b23eae60",
   "metadata": {},
   "outputs": [
    {
     "data": {
      "text/plain": [
       "array([[99],\n",
       "       [95]])"
      ]
     },
     "execution_count": 773,
     "metadata": {},
     "output_type": "execute_result"
    },
    {
     "data": {
      "text/plain": [
       "array([[9, 8, 7],\n",
       "       [6, 5, 4]])"
      ]
     },
     "execution_count": 773,
     "metadata": {},
     "output_type": "execute_result"
    },
    {
     "data": {
      "text/plain": [
       "array([[ 9,  8,  7, 99],\n",
       "       [ 6,  5,  4, 95]])"
      ]
     },
     "execution_count": 773,
     "metadata": {},
     "output_type": "execute_result"
    }
   ],
   "source": [
    "y = np.array([[99],\n",
    "             [95]])\n",
    "y\n",
    "grid\n",
    "np.hstack((grid,y))"
   ]
  },
  {
   "cell_type": "code",
   "execution_count": 308,
   "id": "0b968f06",
   "metadata": {},
   "outputs": [
    {
     "data": {
      "text/plain": [
       "array([[[ 1,  2,  3],\n",
       "        [ 4,  5,  6]],\n",
       "\n",
       "       [[ 7,  8,  9],\n",
       "        [10, 11, 12]]])"
      ]
     },
     "execution_count": 308,
     "metadata": {},
     "output_type": "execute_result"
    },
    {
     "data": {
      "text/plain": [
       "array([[[99, 82, 77],\n",
       "        [23, 24, 76]],\n",
       "\n",
       "       [[57, 72, 44],\n",
       "        [29, 31, 39]]])"
      ]
     },
     "execution_count": 308,
     "metadata": {},
     "output_type": "execute_result"
    },
    {
     "data": {
      "text/plain": [
       "array([[[ 1,  2,  3, 99, 82, 77],\n",
       "        [ 4,  5,  6, 23, 24, 76]],\n",
       "\n",
       "       [[ 7,  8,  9, 57, 72, 44],\n",
       "        [10, 11, 12, 29, 31, 39]]])"
      ]
     },
     "execution_count": 308,
     "metadata": {},
     "output_type": "execute_result"
    }
   ],
   "source": [
    "# np.dstack stack arrays along the third axis\n",
    "x = np.array([[[1,2,3],\n",
    "             [4,5,6]],\n",
    "             \n",
    "             [[7,8,9],\n",
    "             [10,11,12]]])\n",
    "x\n",
    "y = np.array([[[99, 82, 77],\n",
    "              [23,24,76]],\n",
    "             \n",
    "             [[57, 72, 44],\n",
    "             [29, 31, 39]]])\n",
    "y\n",
    "\n",
    "np.dstack((x,y))"
   ]
  },
  {
   "cell_type": "code",
   "execution_count": 774,
   "id": "5ab87398",
   "metadata": {},
   "outputs": [
    {
     "data": {
      "text/plain": [
       "array([[ 1,  2,  3],\n",
       "       [10, 11, 12]])"
      ]
     },
     "execution_count": 774,
     "metadata": {},
     "output_type": "execute_result"
    },
    {
     "data": {
      "text/plain": [
       "array([[9, 8, 7],\n",
       "       [6, 5, 4]])"
      ]
     },
     "execution_count": 774,
     "metadata": {},
     "output_type": "execute_result"
    },
    {
     "data": {
      "text/plain": [
       "array([[[ 1,  9],\n",
       "        [ 2,  8],\n",
       "        [ 3,  7]],\n",
       "\n",
       "       [[10,  6],\n",
       "        [11,  5],\n",
       "        [12,  4]]])"
      ]
     },
     "execution_count": 774,
     "metadata": {},
     "output_type": "execute_result"
    }
   ],
   "source": [
    "x = np.array([[1, 2, 3],\n",
    "             [10,11,12]])\n",
    "x\n",
    "grid = np.array([[9, 8, 7],\n",
    "                [6, 5, 4]])\n",
    "grid\n",
    "\n",
    "# vertically stack the arrays\n",
    "np.dstack([x, grid])"
   ]
  },
  {
   "cell_type": "code",
   "execution_count": 776,
   "id": "853f261f",
   "metadata": {},
   "outputs": [],
   "source": [
    "np.dstack?"
   ]
  },
  {
   "cell_type": "code",
   "execution_count": 779,
   "id": "bae56ee5",
   "metadata": {},
   "outputs": [
    {
     "data": {
      "text/plain": [
       "[1, 2, 3, 99, 99, 3, 2, 1]"
      ]
     },
     "execution_count": 779,
     "metadata": {},
     "output_type": "execute_result"
    },
    {
     "name": "stdout",
     "output_type": "stream",
     "text": [
      "[1 2 3] [99 99] [3 2 1]\n"
     ]
    },
    {
     "data": {
      "text/plain": [
       "array([[ 0,  1,  2,  3],\n",
       "       [ 4,  5,  6,  7],\n",
       "       [ 8,  9, 10, 11],\n",
       "       [12, 13, 14, 15]])"
      ]
     },
     "execution_count": 779,
     "metadata": {},
     "output_type": "execute_result"
    },
    {
     "data": {
      "text/plain": [
       "[array([[ 0,  1],\n",
       "        [ 4,  5],\n",
       "        [ 8,  9],\n",
       "        [12, 13]]),\n",
       " array([[ 2,  3],\n",
       "        [ 6,  7],\n",
       "        [10, 11],\n",
       "        [14, 15]])]"
      ]
     },
     "execution_count": 779,
     "metadata": {},
     "output_type": "execute_result"
    },
    {
     "data": {
      "text/plain": [
       "array([[0, 1, 2, 3],\n",
       "       [4, 5, 6, 7]])"
      ]
     },
     "execution_count": 779,
     "metadata": {},
     "output_type": "execute_result"
    },
    {
     "data": {
      "text/plain": [
       "array([[ 8,  9, 10, 11],\n",
       "       [12, 13, 14, 15]])"
      ]
     },
     "execution_count": 779,
     "metadata": {},
     "output_type": "execute_result"
    }
   ],
   "source": [
    "# splitting\n",
    "# pass a list of indices giving split points\n",
    "x = [1,2,3,99,99,3,2,1]\n",
    "x\n",
    "x1,x2,x3 = np.split(x, [3,5])\n",
    "print(x1, x2, x3)\n",
    "\n",
    "# N split points lead to N+1 subarrays\n",
    "grid = np.arange(16).reshape((4,4))\n",
    "grid\n",
    "\n",
    "np.hsplit(grid, [2])\n",
    "\n",
    "upper, lower = np.vsplit(grid, 2)\n",
    "upper\n",
    "lower"
   ]
  },
  {
   "cell_type": "markdown",
   "id": "3de57e36",
   "metadata": {},
   "source": [
    "#### Array indexing: accessing single elements\n",
    "- In one-dimensional array, access the ith value using square brackets, like lists.\n",
    "- In multidimensional array, access items using a comma-separated tuple of indices.\n",
    "- NumPy arrays have fixed type. If you insert a floating-point vlaue to an integer array, the value will be sliently truncated."
   ]
  },
  {
   "cell_type": "code",
   "execution_count": 142,
   "id": "b7c4eb5f",
   "metadata": {
    "scrolled": true
   },
   "outputs": [
    {
     "data": {
      "text/plain": [
       "array([0, 1, 1, 0, 7, 8])"
      ]
     },
     "execution_count": 142,
     "metadata": {},
     "output_type": "execute_result"
    },
    {
     "data": {
      "text/plain": [
       "7"
      ]
     },
     "execution_count": 142,
     "metadata": {},
     "output_type": "execute_result"
    },
    {
     "data": {
      "text/plain": [
       "7"
      ]
     },
     "execution_count": 142,
     "metadata": {},
     "output_type": "execute_result"
    }
   ],
   "source": [
    "x1\n",
    "x1[4]\n",
    "x1[-2]"
   ]
  },
  {
   "cell_type": "code",
   "execution_count": 145,
   "id": "190790db",
   "metadata": {
    "scrolled": true
   },
   "outputs": [
    {
     "data": {
      "text/plain": [
       "array([[2, 8, 0, 5],\n",
       "       [9, 1, 3, 8],\n",
       "       [0, 3, 6, 8]])"
      ]
     },
     "execution_count": 145,
     "metadata": {},
     "output_type": "execute_result"
    },
    {
     "data": {
      "text/plain": [
       "2"
      ]
     },
     "execution_count": 145,
     "metadata": {},
     "output_type": "execute_result"
    },
    {
     "data": {
      "text/plain": [
       "0"
      ]
     },
     "execution_count": 145,
     "metadata": {},
     "output_type": "execute_result"
    }
   ],
   "source": [
    "x2\n",
    "\n",
    "# 1st row, 1st col\n",
    "x2[0,0]\n",
    "\n",
    "# 1st row, 3rd col\n",
    "x2[0,2]"
   ]
  },
  {
   "cell_type": "code",
   "execution_count": 146,
   "id": "6e12803e",
   "metadata": {
    "scrolled": true
   },
   "outputs": [
    {
     "data": {
      "text/plain": [
       "array([[12,  8,  0,  5],\n",
       "       [ 9,  1,  3,  8],\n",
       "       [ 0,  3,  6,  8]])"
      ]
     },
     "execution_count": 146,
     "metadata": {},
     "output_type": "execute_result"
    }
   ],
   "source": [
    "# you can also modify values \n",
    "x2[0, 0] = 12\n",
    "x2"
   ]
  },
  {
   "cell_type": "code",
   "execution_count": 148,
   "id": "f72663e1",
   "metadata": {},
   "outputs": [
    {
     "data": {
      "text/plain": [
       "array([0, 1, 1, 0, 7, 8])"
      ]
     },
     "execution_count": 148,
     "metadata": {},
     "output_type": "execute_result"
    },
    {
     "data": {
      "text/plain": [
       "array([3, 1, 1, 0, 7, 8])"
      ]
     },
     "execution_count": 148,
     "metadata": {},
     "output_type": "execute_result"
    }
   ],
   "source": [
    "x1\n",
    "x1[0] = 3.1415926\n",
    "# floating will be truncated\n",
    "x1"
   ]
  },
  {
   "cell_type": "markdown",
   "id": "580c4534",
   "metadata": {},
   "source": [
    "#### Array Slicing: accessing subarrays\n",
    "\n",
    "- The NumPy slicing syntax is `x[start:stop:step]`. \n",
    "- If any of these are unspecified, they default to the values `start=0, stop=size of dimension, step=1`."
   ]
  },
  {
   "cell_type": "code",
   "execution_count": 229,
   "id": "d6c1ef74",
   "metadata": {
    "scrolled": true
   },
   "outputs": [
    {
     "name": "stdout",
     "output_type": "stream",
     "text": [
      "[0 1 2 3 4 5 6 7 8 9]\n"
     ]
    },
    {
     "data": {
      "text/plain": [
       "array([0, 1, 2, 3, 4])"
      ]
     },
     "execution_count": 229,
     "metadata": {},
     "output_type": "execute_result"
    },
    {
     "data": {
      "text/plain": [
       "array([0, 1, 2, 3, 4])"
      ]
     },
     "execution_count": 229,
     "metadata": {},
     "output_type": "execute_result"
    },
    {
     "data": {
      "text/plain": [
       "array([3, 4, 5, 6])"
      ]
     },
     "execution_count": 229,
     "metadata": {},
     "output_type": "execute_result"
    },
    {
     "data": {
      "text/plain": [
       "array([0, 2, 4, 6, 8])"
      ]
     },
     "execution_count": 229,
     "metadata": {},
     "output_type": "execute_result"
    },
    {
     "data": {
      "text/plain": [
       "array([1, 3, 5, 7, 9])"
      ]
     },
     "execution_count": 229,
     "metadata": {},
     "output_type": "execute_result"
    }
   ],
   "source": [
    "#syntax\n",
    "#x[start:stop:step]\n",
    "\n",
    "#one dimension array\n",
    "x = np.arange(10)\n",
    "print(x)\n",
    "\n",
    "#find first five elements from array x\n",
    "x[0:5]\n",
    "x[:5]\n",
    "\n",
    "#find a middle subarray \n",
    "x[3:7]\n",
    "\n",
    "#find even numbers from x\n",
    "x[0::2]\n",
    "\n",
    "#find odd numbers from x\n",
    "x[1::2]"
   ]
  },
  {
   "cell_type": "code",
   "execution_count": 238,
   "id": "9ce9ca92",
   "metadata": {
    "scrolled": true
   },
   "outputs": [
    {
     "name": "stdout",
     "output_type": "stream",
     "text": [
      "[[12 15  0]\n",
      " [ 3  3  7]\n",
      " [ 9 19 18]\n",
      " [ 4  6 12]]\n"
     ]
    },
    {
     "data": {
      "text/plain": [
       "array([[12, 15,  0],\n",
       "       [ 3,  3,  7]])"
      ]
     },
     "execution_count": 238,
     "metadata": {},
     "output_type": "execute_result"
    },
    {
     "data": {
      "text/plain": [
       "array([[12, 15,  0],\n",
       "       [ 3,  3,  7]])"
      ]
     },
     "execution_count": 238,
     "metadata": {},
     "output_type": "execute_result"
    },
    {
     "data": {
      "text/plain": [
       "array([[3, 3, 7]])"
      ]
     },
     "execution_count": 238,
     "metadata": {},
     "output_type": "execute_result"
    },
    {
     "data": {
      "text/plain": [
       "array([3, 3, 7])"
      ]
     },
     "execution_count": 238,
     "metadata": {},
     "output_type": "execute_result"
    },
    {
     "data": {
      "text/plain": [
       "array([12,  3,  9,  4])"
      ]
     },
     "execution_count": 238,
     "metadata": {},
     "output_type": "execute_result"
    },
    {
     "data": {
      "text/plain": [
       "array([[3, 3],\n",
       "       [4, 6]])"
      ]
     },
     "execution_count": 238,
     "metadata": {},
     "output_type": "execute_result"
    }
   ],
   "source": [
    "#Multidimensional subarrays\n",
    "\n",
    "# reproduction\n",
    "np.random.seed(0)\n",
    "\n",
    "x = np.random.randint(20,size=(4,3))\n",
    "\n",
    "print(x)\n",
    "\n",
    "#find first two rows, three columns\n",
    "x[:2]\n",
    "x[:2,:3]\n",
    "\n",
    "#second row\n",
    "x[1:2]\n",
    "x[1]\n",
    "\n",
    "#first column\n",
    "x[:, 0]\n",
    "\n",
    "#first two columns, 2nd and 4th rows\n",
    "x[1::2, :2]\n"
   ]
  },
  {
   "cell_type": "code",
   "execution_count": 367,
   "id": "b322b329",
   "metadata": {},
   "outputs": [
    {
     "name": "stdout",
     "output_type": "stream",
     "text": [
      "[6 1 4 4 8]\n"
     ]
    },
    {
     "data": {
      "text/plain": [
       "array([0.16666667, 1.        , 0.25      , 0.25      , 0.125     ])"
      ]
     },
     "execution_count": 367,
     "metadata": {},
     "output_type": "execute_result"
    }
   ],
   "source": [
    "# loops\n",
    "np.random.seed(0)\n",
    "\n",
    "def compute_reciprocals(values):\n",
    "    output = np.empty(len(values))\n",
    "    for i in range(len(values)):\n",
    "        output[i] = 1.0 / values[i]\n",
    "    return output\n",
    "\n",
    "values = np.random.randint(1, 10, size = 5)\n",
    "print(values)\n",
    "compute_reciprocals(values)"
   ]
  },
  {
   "cell_type": "markdown",
   "id": "c74dc243",
   "metadata": {},
   "source": [
    "### Computation on NumPy arrays: universal functions\n",
    "\n",
    "Python’s default implementation (known as CPython) does some operations very\n",
    "slowly. This is in part due to the dynamic, interpreted nature of the language: the fact\n",
    "that types are flexible, so that sequences of operations cannot be compiled down to\n",
    "efficient machine code as in languages like C and Fortran.\n",
    "\n",
    "- Vectorized operation: this vectorized approach is designed to push the loop into the compiled layer that underlies NumPy, leading to much faster execution.\n",
    "\n",
    "- Vectorized operations in NumPy are implemented via *ufuncs*, whose main purpose is to quickly execute repeated operations on values in NumPy arrays.\n",
    "\n",
    "- Ufuncs can operate on scalar and an array or two arrays."
   ]
  },
  {
   "cell_type": "code",
   "execution_count": 373,
   "id": "558445c2",
   "metadata": {},
   "outputs": [
    {
     "name": "stdout",
     "output_type": "stream",
     "text": [
      "1.97 s ± 85 ms per loop (mean ± std. dev. of 7 runs, 1 loop each)\n"
     ]
    }
   ],
   "source": [
    "# compare the time\n",
    "\n",
    "big_array = np.random.randint(1, 100, size = 1000000)\n",
    "%timeit compute_reciprocals(big_array)"
   ]
  },
  {
   "cell_type": "code",
   "execution_count": 377,
   "id": "bba3c061",
   "metadata": {
    "scrolled": true
   },
   "outputs": [
    {
     "name": "stdout",
     "output_type": "stream",
     "text": [
      "3.49 ms ± 398 µs per loop (mean ± std. dev. of 7 runs, 100 loops each)\n"
     ]
    }
   ],
   "source": [
    "%timeit (1.0 / big_array)"
   ]
  },
  {
   "cell_type": "code",
   "execution_count": 378,
   "id": "7d6000f0",
   "metadata": {},
   "outputs": [
    {
     "data": {
      "text/plain": [
       "array([0.        , 0.5       , 0.66666667, 0.75      , 0.8       ])"
      ]
     },
     "execution_count": 378,
     "metadata": {},
     "output_type": "execute_result"
    }
   ],
   "source": [
    "# Ufuncs on two arrays\n",
    "np.arange(5)/np.arange(1,6)"
   ]
  },
  {
   "cell_type": "code",
   "execution_count": 384,
   "id": "78aaa414",
   "metadata": {},
   "outputs": [
    {
     "data": {
      "text/plain": [
       "array([[0, 1, 2],\n",
       "       [3, 4, 5],\n",
       "       [6, 7, 8]])"
      ]
     },
     "execution_count": 384,
     "metadata": {},
     "output_type": "execute_result"
    },
    {
     "data": {
      "text/plain": [
       "array([[ 0,  2,  4],\n",
       "       [ 6,  8, 10],\n",
       "       [12, 14, 16]])"
      ]
     },
     "execution_count": 384,
     "metadata": {},
     "output_type": "execute_result"
    },
    {
     "data": {
      "text/plain": [
       "array([[ 0,  1,  4],\n",
       "       [ 9, 16, 25],\n",
       "       [36, 49, 64]], dtype=int32)"
      ]
     },
     "execution_count": 384,
     "metadata": {},
     "output_type": "execute_result"
    },
    {
     "data": {
      "text/plain": [
       "array([[  1,   2,   4],\n",
       "       [  8,  16,  32],\n",
       "       [ 64, 128, 256]], dtype=int32)"
      ]
     },
     "execution_count": 384,
     "metadata": {},
     "output_type": "execute_result"
    }
   ],
   "source": [
    "# multi-dimension array\n",
    "x = np.arange(9).reshape((3,3))\n",
    "x\n",
    "x * 2\n",
    "x ** 2\n",
    "2 ** x"
   ]
  },
  {
   "cell_type": "markdown",
   "id": "86d4fd32",
   "metadata": {},
   "source": [
    "### Explore NumPy's Ufuncs\n",
    "- unary ufuncs: operate on a single input \n",
    "- binary ufuncs: operate on two inputs"
   ]
  },
  {
   "cell_type": "code",
   "execution_count": 393,
   "id": "02e912de",
   "metadata": {},
   "outputs": [
    {
     "data": {
      "text/plain": [
       "array([0, 1, 2, 3], dtype=int32)"
      ]
     },
     "execution_count": 393,
     "metadata": {},
     "output_type": "execute_result"
    },
    {
     "data": {
      "text/plain": [
       "array([0, 1, 4, 9], dtype=int32)"
      ]
     },
     "execution_count": 393,
     "metadata": {},
     "output_type": "execute_result"
    },
    {
     "data": {
      "text/plain": [
       "array([0, 0, 1, 1], dtype=int32)"
      ]
     },
     "execution_count": 393,
     "metadata": {},
     "output_type": "execute_result"
    },
    {
     "data": {
      "text/plain": [
       "array([100.  ,  90.25,  81.  ,  72.25])"
      ]
     },
     "execution_count": 393,
     "metadata": {},
     "output_type": "execute_result"
    }
   ],
   "source": [
    "# Array arithmetic\n",
    "x = np.arange(4)\n",
    "\n",
    "# remainder\n",
    "x % 5\n",
    "# exponential\n",
    "x ** 2\n",
    "# floor division\n",
    "x // 2\n",
    "\n",
    "(-0.5 * x + 10)**2"
   ]
  },
  {
   "cell_type": "code",
   "execution_count": 404,
   "id": "a07d2358",
   "metadata": {},
   "outputs": [
    {
     "data": {
      "text/plain": [
       "array([0, 1, 2, 3])"
      ]
     },
     "execution_count": 404,
     "metadata": {},
     "output_type": "execute_result"
    },
    {
     "data": {
      "text/plain": [
       "array([2, 3, 4, 5])"
      ]
     },
     "execution_count": 404,
     "metadata": {},
     "output_type": "execute_result"
    },
    {
     "data": {
      "text/plain": [
       "array([-1,  0,  1,  2])"
      ]
     },
     "execution_count": 404,
     "metadata": {},
     "output_type": "execute_result"
    },
    {
     "data": {
      "text/plain": [
       "array([ 0, -1, -2, -3])"
      ]
     },
     "execution_count": 404,
     "metadata": {},
     "output_type": "execute_result"
    },
    {
     "data": {
      "text/plain": [
       "array([ 0, 10, 20, 30])"
      ]
     },
     "execution_count": 404,
     "metadata": {},
     "output_type": "execute_result"
    },
    {
     "data": {
      "text/plain": [
       "array([0. , 0.1, 0.2, 0.3])"
      ]
     },
     "execution_count": 404,
     "metadata": {},
     "output_type": "execute_result"
    },
    {
     "data": {
      "text/plain": [
       "array([0, 0, 0, 0], dtype=int32)"
      ]
     },
     "execution_count": 404,
     "metadata": {},
     "output_type": "execute_result"
    },
    {
     "data": {
      "text/plain": [
       "array([1, 2, 4, 8], dtype=int32)"
      ]
     },
     "execution_count": 404,
     "metadata": {},
     "output_type": "execute_result"
    },
    {
     "data": {
      "text/plain": [
       "array([0, 0, 0, 0], dtype=int32)"
      ]
     },
     "execution_count": 404,
     "metadata": {},
     "output_type": "execute_result"
    }
   ],
   "source": [
    "# built-in NumPy functions\n",
    "x\n",
    "np.add(x ,2)\n",
    "\n",
    "np.subtract(x , 1)\n",
    "\n",
    "np.negative(x)\n",
    "\n",
    "np.multiply(x, 10)\n",
    "\n",
    "np.divide(x, 10)\n",
    "\n",
    "np.floor_divide(x, 10)\n",
    "\n",
    "np.power(2, x)\n",
    "\n",
    "np.mod(x, 1)"
   ]
  },
  {
   "cell_type": "code",
   "execution_count": 406,
   "id": "239e3cee",
   "metadata": {},
   "outputs": [
    {
     "data": {
      "text/plain": [
       "array([2, 1, 0, 3, 4])"
      ]
     },
     "execution_count": 406,
     "metadata": {},
     "output_type": "execute_result"
    },
    {
     "data": {
      "text/plain": [
       "array([2, 1, 0, 3, 4])"
      ]
     },
     "execution_count": 406,
     "metadata": {},
     "output_type": "execute_result"
    },
    {
     "data": {
      "text/plain": [
       "array([2, 1, 0, 3, 4])"
      ]
     },
     "execution_count": 406,
     "metadata": {},
     "output_type": "execute_result"
    }
   ],
   "source": [
    "# absolute value\n",
    "x = np.array([-2, -1, 0, 3, 4])\n",
    "abs(x)\n",
    "np.abs(x)\n",
    "np.absolute(x)"
   ]
  },
  {
   "cell_type": "code",
   "execution_count": 410,
   "id": "823c4462",
   "metadata": {},
   "outputs": [
    {
     "data": {
      "text/plain": [
       "array([-3.+0.j, -0.-4.j,  4.-3.j,  2.+0.j,  0.+1.j])"
      ]
     },
     "execution_count": 410,
     "metadata": {},
     "output_type": "execute_result"
    },
    {
     "data": {
      "text/plain": [
       "array([3., 4., 5., 2., 1.])"
      ]
     },
     "execution_count": 410,
     "metadata": {},
     "output_type": "execute_result"
    }
   ],
   "source": [
    "# ufunc can also handle complex data\n",
    "x = np.array([-3, -4j, 4 - 3j, 2 + 0j, 0 + 1j])\n",
    "x\n",
    "np.abs(x)"
   ]
  },
  {
   "cell_type": "code",
   "execution_count": 414,
   "id": "ccd74846",
   "metadata": {},
   "outputs": [
    {
     "data": {
      "text/plain": [
       "array([0.        , 1.57079633, 3.14159265])"
      ]
     },
     "execution_count": 414,
     "metadata": {},
     "output_type": "execute_result"
    },
    {
     "data": {
      "text/plain": [
       "array([0.0000000e+00, 1.0000000e+00, 1.2246468e-16])"
      ]
     },
     "execution_count": 414,
     "metadata": {},
     "output_type": "execute_result"
    },
    {
     "data": {
      "text/plain": [
       "array([ 1.000000e+00,  6.123234e-17, -1.000000e+00])"
      ]
     },
     "execution_count": 414,
     "metadata": {},
     "output_type": "execute_result"
    },
    {
     "data": {
      "text/plain": [
       "array([ 0.00000000e+00,  1.63312394e+16, -1.22464680e-16])"
      ]
     },
     "execution_count": 414,
     "metadata": {},
     "output_type": "execute_result"
    }
   ],
   "source": [
    "# trigonometric functions\n",
    "\n",
    "# define an array of angles\n",
    "theta = np.linspace(0, np.pi, 3)\n",
    "theta\n",
    "np.sin(theta)\n",
    "np.cos(theta)\n",
    "np.tan(theta)"
   ]
  },
  {
   "cell_type": "code",
   "execution_count": 415,
   "id": "915a7b15",
   "metadata": {},
   "outputs": [
    {
     "data": {
      "text/plain": [
       "array([-1.57079633,  0.        ,  1.57079633])"
      ]
     },
     "execution_count": 415,
     "metadata": {},
     "output_type": "execute_result"
    },
    {
     "data": {
      "text/plain": [
       "array([3.14159265, 1.57079633, 0.        ])"
      ]
     },
     "execution_count": 415,
     "metadata": {},
     "output_type": "execute_result"
    },
    {
     "data": {
      "text/plain": [
       "array([-0.78539816,  0.        ,  0.78539816])"
      ]
     },
     "execution_count": 415,
     "metadata": {},
     "output_type": "execute_result"
    }
   ],
   "source": [
    "# inverse trigonometric functions\n",
    "x = [-1, 0 ,1]\n",
    "np.arcsin(x)\n",
    "np.arccos(x)\n",
    "np.arctan(x)"
   ]
  },
  {
   "cell_type": "code",
   "execution_count": 422,
   "id": "7ef0683d",
   "metadata": {},
   "outputs": [
    {
     "data": {
      "text/plain": [
       "array([ 2.71828183,  7.3890561 , 20.08553692])"
      ]
     },
     "execution_count": 422,
     "metadata": {},
     "output_type": "execute_result"
    },
    {
     "data": {
      "text/plain": [
       "array([2., 4., 8.])"
      ]
     },
     "execution_count": 422,
     "metadata": {},
     "output_type": "execute_result"
    },
    {
     "data": {
      "text/plain": [
       "array([ 3,  9, 27], dtype=int32)"
      ]
     },
     "execution_count": 422,
     "metadata": {},
     "output_type": "execute_result"
    }
   ],
   "source": [
    "# exponents and logarithms\n",
    "x = [1, 2 ,3]\n",
    "np.exp(x)\n",
    "np.exp2(x)\n",
    "np.power(3, x)"
   ]
  },
  {
   "cell_type": "code",
   "execution_count": 426,
   "id": "ddab8634",
   "metadata": {},
   "outputs": [
    {
     "data": {
      "text/plain": [
       "array([0.        , 0.69314718, 1.38629436, 2.30258509])"
      ]
     },
     "execution_count": 426,
     "metadata": {},
     "output_type": "execute_result"
    },
    {
     "data": {
      "text/plain": [
       "array([0.        , 1.        , 2.        , 3.32192809])"
      ]
     },
     "execution_count": 426,
     "metadata": {},
     "output_type": "execute_result"
    },
    {
     "data": {
      "text/plain": [
       "array([0.        , 0.30103   , 0.60205999, 1.        ])"
      ]
     },
     "execution_count": 426,
     "metadata": {},
     "output_type": "execute_result"
    }
   ],
   "source": [
    "# logarithms\n",
    "x = [1, 2, 4, 10]\n",
    "np.log(x)\n",
    "np.log2(x)\n",
    "np.log10(x)"
   ]
  },
  {
   "cell_type": "code",
   "execution_count": 428,
   "id": "8fe4c7fe",
   "metadata": {},
   "outputs": [
    {
     "data": {
      "text/plain": [
       "array([0.        , 0.0010005 , 0.01005017, 0.10517092])"
      ]
     },
     "execution_count": 428,
     "metadata": {},
     "output_type": "execute_result"
    },
    {
     "data": {
      "text/plain": [
       "array([0.        , 0.0009995 , 0.00995033, 0.09531018])"
      ]
     },
     "execution_count": 428,
     "metadata": {},
     "output_type": "execute_result"
    }
   ],
   "source": [
    "# when x is very small\n",
    "# these functions give more precise values than \n",
    "# if the raw np.log or np.exp were used\n",
    "x = [0, 0.001, 0.01, 0.1]\n",
    "np.expm1(x)\n",
    "np.log1p(x)"
   ]
  },
  {
   "cell_type": "code",
   "execution_count": null,
   "id": "1f070d25",
   "metadata": {},
   "outputs": [],
   "source": []
  },
  {
   "cell_type": "code",
   "execution_count": 241,
   "id": "65efc44a",
   "metadata": {},
   "outputs": [
    {
     "name": "stdout",
     "output_type": "stream",
     "text": [
      "[29 81 87 16 94 41 39 51 80 52]\n",
      "[16, 94, 39]\n",
      "[16 94 39]\n",
      "[16 94 39]\n",
      "[[3 4]\n",
      " [5 7]]\n",
      "[[16 94]\n",
      " [41 51]]\n",
      "[[ 0  1  2  3]\n",
      " [ 4  5  6  7]\n",
      " [ 8  9 10 11]]\n"
     ]
    },
    {
     "data": {
      "text/plain": [
       "array([ 1,  6, 11])"
      ]
     },
     "execution_count": 241,
     "metadata": {},
     "output_type": "execute_result"
    }
   ],
   "source": [
    "# fancy indexing\n",
    "# pass an array of indices to access multiple array elements at once\n",
    "\n",
    "rand = np.random.RandomState([42]) # same as seed()\n",
    "\n",
    "x = rand.randint(100, size=10)\n",
    "\n",
    "#x =np.random.randint(100, size = 10)\n",
    "\n",
    "print(x)\n",
    "#access three different elements\n",
    "print([x[3],x[4],x[6]])\n",
    "\n",
    "#pass the indice to x\n",
    "ind = [3,4,6]\n",
    "print(x[ind])\n",
    "print(x[[3,4,6]])\n",
    "\n",
    "#pass a two-dimension array of indices\n",
    "# numpy.reshape(array, shape, order = 'C')\n",
    "# shape is int or tuple or ints\n",
    "ind1 = np.array([3,4,5,7]).reshape((2,2))\n",
    "print(ind1)\n",
    "\n",
    "print(x[ind1])\n",
    "\n",
    "#in a multi-dimension array\n",
    "y = np.arange(12).reshape((3, 4))\n",
    "row = np.array([0, 1, 2])\n",
    "col = np.array([1, 2, 3])\n",
    "print(y)\n",
    "\n",
    "# retrieve cell from matrix\n",
    "y[row, col]"
   ]
  },
  {
   "cell_type": "code",
   "execution_count": 252,
   "id": "c059f38a",
   "metadata": {
    "scrolled": true
   },
   "outputs": [
    {
     "name": "stdout",
     "output_type": "stream",
     "text": [
      "[[ 0  1  2  3]\n",
      " [ 4  5  6  7]\n",
      " [ 8  9 10 11]]\n"
     ]
    },
    {
     "data": {
      "text/plain": [
       "array([10,  9, 11])"
      ]
     },
     "execution_count": 252,
     "metadata": {},
     "output_type": "execute_result"
    },
    {
     "data": {
      "text/plain": [
       "array([[ 6,  5,  7],\n",
       "       [10,  9, 11]])"
      ]
     },
     "execution_count": 252,
     "metadata": {},
     "output_type": "execute_result"
    },
    {
     "data": {
      "text/plain": [
       "array([[10, 11],\n",
       "       [ 6,  7]])"
      ]
     },
     "execution_count": 252,
     "metadata": {},
     "output_type": "execute_result"
    }
   ],
   "source": [
    "y = np.arange(12).reshape((3,4))\n",
    "\n",
    "print(y)\n",
    "\n",
    "#combined indexing\n",
    "y[2, [2, 1, 3]]\n",
    "\n",
    "y[1:,[2, 1, 3]]\n",
    "\n",
    "y[[2,1], 2:]"
   ]
  },
  {
   "cell_type": "code",
   "execution_count": 255,
   "id": "ec011820",
   "metadata": {},
   "outputs": [
    {
     "data": {
      "text/plain": [
       "(100, 2)"
      ]
     },
     "execution_count": 255,
     "metadata": {},
     "output_type": "execute_result"
    },
    {
     "name": "stdout",
     "output_type": "stream",
     "text": [
      "[42  4 91 13 47 14 93 62 26 63 70 58 90 52 22 19  6 64 74 60]\n",
      "[[-0.11538275 -0.76330493]\n",
      " [ 0.78968604 -0.60650466]\n",
      " [-0.57581399 -1.60031929]\n",
      " [ 0.82054844  0.23942764]\n",
      " [-1.597614   -3.13824736]\n",
      " [ 0.89777818  3.70837325]\n",
      " [ 0.12507873  1.0330311 ]\n",
      " [ 1.96532095  3.98435467]\n",
      " [ 1.17458541  1.91791914]\n",
      " [ 0.41042763  0.75645137]\n",
      " [-0.6753141  -2.93499349]\n",
      " [ 1.36611222  3.90428257]\n",
      " [ 0.3125542  -0.95519374]\n",
      " [-1.35870294 -2.13914178]\n",
      " [-0.01049837 -1.88245491]\n",
      " [-1.14089501 -1.59462687]\n",
      " [-0.25164503 -0.1913821 ]\n",
      " [-0.58419821 -1.3035835 ]\n",
      " [ 1.49538439  2.32857734]\n",
      " [-0.34112705 -0.67162493]]\n"
     ]
    },
    {
     "data": {
      "text/plain": [
       "(20, 2)"
      ]
     },
     "execution_count": 255,
     "metadata": {},
     "output_type": "execute_result"
    }
   ],
   "source": [
    "# using fancy indexing in data science projects\n",
    "# select random points\n",
    "\n",
    "#create a two-dimension normal distribution\n",
    "mean = [0, 0]\n",
    "cov = [[1, 2],\n",
    "       [2, 5]]\n",
    "\n",
    "x = rand.multivariate_normal(mean, cov, 100)\n",
    "\n",
    "#x = np.random.normal()\n",
    "# print(x)\n",
    "\n",
    "# dimension of matrix\n",
    "x.shape\n",
    "\n",
    "#select 20 random points\n",
    "#create indices:choosing 20 random indices with no repeats\n",
    "# choice method: https://www.geeksforgeeks.org/numpy-random-choice-in-python/\n",
    "indices = np.random.choice(100, 20, replace = False)\n",
    "print(indices)\n",
    "\n",
    "selection = x[indices]\n",
    "print(selection)\n",
    "selection.shape\n"
   ]
  },
  {
   "cell_type": "code",
   "execution_count": 108,
   "id": "ce66c20e",
   "metadata": {},
   "outputs": [
    {
     "data": {
      "text/plain": [
       "<matplotlib.collections.PathCollection at 0x1e2ac607790>"
      ]
     },
     "execution_count": 108,
     "metadata": {},
     "output_type": "execute_result"
    },
    {
     "data": {
      "image/png": "[encoded data removed]",
      "text/plain": [
       "<Figure size 432x288 with 1 Axes>"
      ]
     },
     "metadata": {},
     "output_type": "display_data"
    }
   ],
   "source": [
    "#plot\n",
    "%matplotlib inline\n",
    "import matplotlib.pyplot as plt\n",
    "import seaborn; \n",
    "\n",
    "seaborn.set() # for plot styling\n",
    "\n",
    "# first column, second column\n",
    "plt.scatter(x[:, 0],x[:, 1])"
   ]
  },
  {
   "cell_type": "code",
   "execution_count": 267,
   "id": "5fe9cbc4",
   "metadata": {},
   "outputs": [
    {
     "data": {
      "application/javascript": [
       "/* Put everything inside the global mpl namespace */\n",
       "/* global mpl */\n",
       "window.mpl = {};\n",
       "\n",
       "mpl.get_websocket_type = function () {\n",
       "    if (typeof WebSocket !== 'undefined') {\n",
       "        return WebSocket;\n",
       "    } else if (typeof MozWebSocket !== 'undefined') {\n",
       "        return MozWebSocket;\n",
       "    } else {\n",
       "        alert(\n",
       "            'Your browser does not have WebSocket support. ' +\n",
       "                'Please try Chrome, Safari or Firefox ≥ 6. ' +\n",
       "                'Firefox 4 and 5 are also supported but you ' +\n",
       "                'have to enable WebSockets in about:config.'\n",
       "        );\n",
       "    }\n",
       "};\n",
       "\n",
       "mpl.figure = function (figure_id, websocket, ondownload, parent_element) {\n",
       "    this.id = figure_id;\n",
       "\n",
       "    this.ws = websocket;\n",
       "\n",
       "    this.supports_binary = this.ws.binaryType !== undefined;\n",
       "\n",
       "    if (!this.supports_binary) {\n",
       "        var warnings = document.getElementById('mpl-warnings');\n",
       "        if (warnings) {\n",
       "            warnings.style.display = 'block';\n",
       "            warnings.textContent =\n",
       "                'This browser does not support binary websocket messages. ' +\n",
       "                'Performance may be slow.';\n",
       "        }\n",
       "    }\n",
       "\n",
       "    this.imageObj = new Image();\n",
       "\n",
       "    this.context = undefined;\n",
       "    this.message = undefined;\n",
       "    this.canvas = undefined;\n",
       "    this.rubberband_canvas = undefined;\n",
       "    this.rubberband_context = undefined;\n",
       "    this.format_dropdown = undefined;\n",
       "\n",
       "    this.image_mode = 'full';\n",
       "\n",
       "    this.root = document.createElement('div');\n",
       "    this.root.setAttribute('style', 'display: inline-block');\n",
       "    this._root_extra_style(this.root);\n",
       "\n",
       "    parent_element.appendChild(this.root);\n",
       "\n",
       "    this._init_header(this);\n",
       "    this._init_canvas(this);\n",
       "    this._init_toolbar(this);\n",
       "\n",
       "    var fig = this;\n",
       "\n",
       "    this.waiting = false;\n",
       "\n",
       "    this.ws.onopen = function () {\n",
       "        fig.send_message('supports_binary', { value: fig.supports_binary });\n",
       "        fig.send_message('send_image_mode', {});\n",
       "        if (fig.ratio !== 1) {\n",
       "            fig.send_message('set_dpi_ratio', { dpi_ratio: fig.ratio });\n",
       "        }\n",
       "        fig.send_message('refresh', {});\n",
       "    };\n",
       "\n",
       "    this.imageObj.onload = function () {\n",
       "        if (fig.image_mode === 'full') {\n",
       "            // Full images could contain transparency (where diff images\n",
       "            // almost always do), so we need to clear the canvas so that\n",
       "            // there is no ghosting.\n",
       "            fig.context.clearRect(0, 0, fig.canvas.width, fig.canvas.height);\n",
       "        }\n",
       "        fig.context.drawImage(fig.imageObj, 0, 0);\n",
       "    };\n",
       "\n",
       "    this.imageObj.onunload = function () {\n",
       "        fig.ws.close();\n",
       "    };\n",
       "\n",
       "    this.ws.onmessage = this._make_on_message_function(this);\n",
       "\n",
       "    this.ondownload = ondownload;\n",
       "};\n",
       "\n",
       "mpl.figure.prototype._init_header = function () {\n",
       "    var titlebar = document.createElement('div');\n",
       "    titlebar.classList =\n",
       "        'ui-dialog-titlebar ui-widget-header ui-corner-all ui-helper-clearfix';\n",
       "    var titletext = document.createElement('div');\n",
       "    titletext.classList = 'ui-dialog-title';\n",
       "    titletext.setAttribute(\n",
       "        'style',\n",
       "        'width: 100%; text-align: center; padding: 3px;'\n",
       "    );\n",
       "    titlebar.appendChild(titletext);\n",
       "    this.root.appendChild(titlebar);\n",
       "    this.header = titletext;\n",
       "};\n",
       "\n",
       "mpl.figure.prototype._canvas_extra_style = function (_canvas_div) {};\n",
       "\n",
       "mpl.figure.prototype._root_extra_style = function (_canvas_div) {};\n",
       "\n",
       "mpl.figure.prototype._init_canvas = function () {\n",
       "    var fig = this;\n",
       "\n",
       "    var canvas_div = (this.canvas_div = document.createElement('div'));\n",
       "    canvas_div.setAttribute(\n",
       "        'style',\n",
       "        'border: 1px solid #ddd;' +\n",
       "            'box-sizing: content-box;' +\n",
       "            'clear: both;' +\n",
       "            'min-height: 1px;' +\n",
       "            'min-width: 1px;' +\n",
       "            'outline: 0;' +\n",
       "            'overflow: hidden;' +\n",
       "            'position: relative;' +\n",
       "            'resize: both;'\n",
       "    );\n",
       "\n",
       "    function on_keyboard_event_closure(name) {\n",
       "        return function (event) {\n",
       "            return fig.key_event(event, name);\n",
       "        };\n",
       "    }\n",
       "\n",
       "    canvas_div.addEventListener(\n",
       "        'keydown',\n",
       "        on_keyboard_event_closure('key_press')\n",
       "    );\n",
       "    canvas_div.addEventListener(\n",
       "        'keyup',\n",
       "        on_keyboard_event_closure('key_release')\n",
       "    );\n",
       "\n",
       "    this._canvas_extra_style(canvas_div);\n",
       "    this.root.appendChild(canvas_div);\n",
       "\n",
       "    var canvas = (this.canvas = document.createElement('canvas'));\n",
       "    canvas.classList.add('mpl-canvas');\n",
       "    canvas.setAttribute('style', 'box-sizing: content-box;');\n",
       "\n",
       "    this.context = canvas.getContext('2d');\n",
       "\n",
       "    var backingStore =\n",
       "        this.context.backingStorePixelRatio ||\n",
       "        this.context.webkitBackingStorePixelRatio ||\n",
       "        this.context.mozBackingStorePixelRatio ||\n",
       "        this.context.msBackingStorePixelRatio ||\n",
       "        this.context.oBackingStorePixelRatio ||\n",
       "        this.context.backingStorePixelRatio ||\n",
       "        1;\n",
       "\n",
       "    this.ratio = (window.devicePixelRatio || 1) / backingStore;\n",
       "\n",
       "    var rubberband_canvas = (this.rubberband_canvas = document.createElement(\n",
       "        'canvas'\n",
       "    ));\n",
       "    rubberband_canvas.setAttribute(\n",
       "        'style',\n",
       "        'box-sizing: content-box; position: absolute; left: 0; top: 0; z-index: 1;'\n",
       "    );\n",
       "\n",
       "    // Apply a ponyfill if ResizeObserver is not implemented by browser.\n",
       "    if (this.ResizeObserver === undefined) {\n",
       "        if (window.ResizeObserver !== undefined) {\n",
       "            this.ResizeObserver = window.ResizeObserver;\n",
       "        } else {\n",
       "            var obs = _JSXTOOLS_RESIZE_OBSERVER({});\n",
       "            this.ResizeObserver = obs.ResizeObserver;\n",
       "        }\n",
       "    }\n",
       "\n",
       "    this.resizeObserverInstance = new this.ResizeObserver(function (entries) {\n",
       "        var nentries = entries.length;\n",
       "        for (var i = 0; i < nentries; i++) {\n",
       "            var entry = entries[i];\n",
       "            var width, height;\n",
       "            if (entry.contentBoxSize) {\n",
       "                if (entry.contentBoxSize instanceof Array) {\n",
       "                    // Chrome 84 implements new version of spec.\n",
       "                    width = entry.contentBoxSize[0].inlineSize;\n",
       "                    height = entry.contentBoxSize[0].blockSize;\n",
       "                } else {\n",
       "                    // Firefox implements old version of spec.\n",
       "                    width = entry.contentBoxSize.inlineSize;\n",
       "                    height = entry.contentBoxSize.blockSize;\n",
       "                }\n",
       "            } else {\n",
       "                // Chrome <84 implements even older version of spec.\n",
       "                width = entry.contentRect.width;\n",
       "                height = entry.contentRect.height;\n",
       "            }\n",
       "\n",
       "            // Keep the size of the canvas and rubber band canvas in sync with\n",
       "            // the canvas container.\n",
       "            if (entry.devicePixelContentBoxSize) {\n",
       "                // Chrome 84 implements new version of spec.\n",
       "                canvas.setAttribute(\n",
       "                    'width',\n",
       "                    entry.devicePixelContentBoxSize[0].inlineSize\n",
       "                );\n",
       "                canvas.setAttribute(\n",
       "                    'height',\n",
       "                    entry.devicePixelContentBoxSize[0].blockSize\n",
       "                );\n",
       "            } else {\n",
       "                canvas.setAttribute('width', width * fig.ratio);\n",
       "                canvas.setAttribute('height', height * fig.ratio);\n",
       "            }\n",
       "            canvas.setAttribute(\n",
       "                'style',\n",
       "                'width: ' + width + 'px; height: ' + height + 'px;'\n",
       "            );\n",
       "\n",
       "            rubberband_canvas.setAttribute('width', width);\n",
       "            rubberband_canvas.setAttribute('height', height);\n",
       "\n",
       "            // And update the size in Python. We ignore the initial 0/0 size\n",
       "            // that occurs as the element is placed into the DOM, which should\n",
       "            // otherwise not happen due to the minimum size styling.\n",
       "            if (fig.ws.readyState == 1 && width != 0 && height != 0) {\n",
       "                fig.request_resize(width, height);\n",
       "            }\n",
       "        }\n",
       "    });\n",
       "    this.resizeObserverInstance.observe(canvas_div);\n",
       "\n",
       "    function on_mouse_event_closure(name) {\n",
       "        return function (event) {\n",
       "            return fig.mouse_event(event, name);\n",
       "        };\n",
       "    }\n",
       "\n",
       "    rubberband_canvas.addEventListener(\n",
       "        'mousedown',\n",
       "        on_mouse_event_closure('button_press')\n",
       "    );\n",
       "    rubberband_canvas.addEventListener(\n",
       "        'mouseup',\n",
       "        on_mouse_event_closure('button_release')\n",
       "    );\n",
       "    rubberband_canvas.addEventListener(\n",
       "        'dblclick',\n",
       "        on_mouse_event_closure('dblclick')\n",
       "    );\n",
       "    // Throttle sequential mouse events to 1 every 20ms.\n",
       "    rubberband_canvas.addEventListener(\n",
       "        'mousemove',\n",
       "        on_mouse_event_closure('motion_notify')\n",
       "    );\n",
       "\n",
       "    rubberband_canvas.addEventListener(\n",
       "        'mouseenter',\n",
       "        on_mouse_event_closure('figure_enter')\n",
       "    );\n",
       "    rubberband_canvas.addEventListener(\n",
       "        'mouseleave',\n",
       "        on_mouse_event_closure('figure_leave')\n",
       "    );\n",
       "\n",
       "    canvas_div.addEventListener('wheel', function (event) {\n",
       "        if (event.deltaY < 0) {\n",
       "            event.step = 1;\n",
       "        } else {\n",
       "            event.step = -1;\n",
       "        }\n",
       "        on_mouse_event_closure('scroll')(event);\n",
       "    });\n",
       "\n",
       "    canvas_div.appendChild(canvas);\n",
       "    canvas_div.appendChild(rubberband_canvas);\n",
       "\n",
       "    this.rubberband_context = rubberband_canvas.getContext('2d');\n",
       "    this.rubberband_context.strokeStyle = '#000000';\n",
       "\n",
       "    this._resize_canvas = function (width, height, forward) {\n",
       "        if (forward) {\n",
       "            canvas_div.style.width = width + 'px';\n",
       "            canvas_div.style.height = height + 'px';\n",
       "        }\n",
       "    };\n",
       "\n",
       "    // Disable right mouse context menu.\n",
       "    this.rubberband_canvas.addEventListener('contextmenu', function (_e) {\n",
       "        event.preventDefault();\n",
       "        return false;\n",
       "    });\n",
       "\n",
       "    function set_focus() {\n",
       "        canvas.focus();\n",
       "        canvas_div.focus();\n",
       "    }\n",
       "\n",
       "    window.setTimeout(set_focus, 100);\n",
       "};\n",
       "\n",
       "mpl.figure.prototype._init_toolbar = function () {\n",
       "    var fig = this;\n",
       "\n",
       "    var toolbar = document.createElement('div');\n",
       "    toolbar.classList = 'mpl-toolbar';\n",
       "    this.root.appendChild(toolbar);\n",
       "\n",
       "    function on_click_closure(name) {\n",
       "        return function (_event) {\n",
       "            return fig.toolbar_button_onclick(name);\n",
       "        };\n",
       "    }\n",
       "\n",
       "    function on_mouseover_closure(tooltip) {\n",
       "        return function (event) {\n",
       "            if (!event.currentTarget.disabled) {\n",
       "                return fig.toolbar_button_onmouseover(tooltip);\n",
       "            }\n",
       "        };\n",
       "    }\n",
       "\n",
       "    fig.buttons = {};\n",
       "    var buttonGroup = document.createElement('div');\n",
       "    buttonGroup.classList = 'mpl-button-group';\n",
       "    for (var toolbar_ind in mpl.toolbar_items) {\n",
       "        var name = mpl.toolbar_items[toolbar_ind][0];\n",
       "        var tooltip = mpl.toolbar_items[toolbar_ind][1];\n",
       "        var image = mpl.toolbar_items[toolbar_ind][2];\n",
       "        var method_name = mpl.toolbar_items[toolbar_ind][3];\n",
       "\n",
       "        if (!name) {\n",
       "            /* Instead of a spacer, we start a new button group. */\n",
       "            if (buttonGroup.hasChildNodes()) {\n",
       "                toolbar.appendChild(buttonGroup);\n",
       "            }\n",
       "            buttonGroup = document.createElement('div');\n",
       "            buttonGroup.classList = 'mpl-button-group';\n",
       "            continue;\n",
       "        }\n",
       "\n",
       "        var button = (fig.buttons[name] = document.createElement('button'));\n",
       "        button.classList = 'mpl-widget';\n",
       "        button.setAttribute('role', 'button');\n",
       "        button.setAttribute('aria-disabled', 'false');\n",
       "        button.addEventListener('click', on_click_closure(method_name));\n",
       "        button.addEventListener('mouseover', on_mouseover_closure(tooltip));\n",
       "\n",
       "        var icon_img = document.createElement('img');\n",
       "        icon_img.src = '_images/' + image + '.png';\n",
       "        icon_img.srcset = '_images/' + image + '_large.png 2x';\n",
       "        icon_img.alt = tooltip;\n",
       "        button.appendChild(icon_img);\n",
       "\n",
       "        buttonGroup.appendChild(button);\n",
       "    }\n",
       "\n",
       "    if (buttonGroup.hasChildNodes()) {\n",
       "        toolbar.appendChild(buttonGroup);\n",
       "    }\n",
       "\n",
       "    var fmt_picker = document.createElement('select');\n",
       "    fmt_picker.classList = 'mpl-widget';\n",
       "    toolbar.appendChild(fmt_picker);\n",
       "    this.format_dropdown = fmt_picker;\n",
       "\n",
       "    for (var ind in mpl.extensions) {\n",
       "        var fmt = mpl.extensions[ind];\n",
       "        var option = document.createElement('option');\n",
       "        option.selected = fmt === mpl.default_extension;\n",
       "        option.innerHTML = fmt;\n",
       "        fmt_picker.appendChild(option);\n",
       "    }\n",
       "\n",
       "    var status_bar = document.createElement('span');\n",
       "    status_bar.classList = 'mpl-message';\n",
       "    toolbar.appendChild(status_bar);\n",
       "    this.message = status_bar;\n",
       "};\n",
       "\n",
       "mpl.figure.prototype.request_resize = function (x_pixels, y_pixels) {\n",
       "    // Request matplotlib to resize the figure. Matplotlib will then trigger a resize in the client,\n",
       "    // which will in turn request a refresh of the image.\n",
       "    this.send_message('resize', { width: x_pixels, height: y_pixels });\n",
       "};\n",
       "\n",
       "mpl.figure.prototype.send_message = function (type, properties) {\n",
       "    properties['type'] = type;\n",
       "    properties['figure_id'] = this.id;\n",
       "    this.ws.send(JSON.stringify(properties));\n",
       "};\n",
       "\n",
       "mpl.figure.prototype.send_draw_message = function () {\n",
       "    if (!this.waiting) {\n",
       "        this.waiting = true;\n",
       "        this.ws.send(JSON.stringify({ type: 'draw', figure_id: this.id }));\n",
       "    }\n",
       "};\n",
       "\n",
       "mpl.figure.prototype.handle_save = function (fig, _msg) {\n",
       "    var format_dropdown = fig.format_dropdown;\n",
       "    var format = format_dropdown.options[format_dropdown.selectedIndex].value;\n",
       "    fig.ondownload(fig, format);\n",
       "};\n",
       "\n",
       "mpl.figure.prototype.handle_resize = function (fig, msg) {\n",
       "    var size = msg['size'];\n",
       "    if (size[0] !== fig.canvas.width || size[1] !== fig.canvas.height) {\n",
       "        fig._resize_canvas(size[0], size[1], msg['forward']);\n",
       "        fig.send_message('refresh', {});\n",
       "    }\n",
       "};\n",
       "\n",
       "mpl.figure.prototype.handle_rubberband = function (fig, msg) {\n",
       "    var x0 = msg['x0'] / fig.ratio;\n",
       "    var y0 = (fig.canvas.height - msg['y0']) / fig.ratio;\n",
       "    var x1 = msg['x1'] / fig.ratio;\n",
       "    var y1 = (fig.canvas.height - msg['y1']) / fig.ratio;\n",
       "    x0 = Math.floor(x0) + 0.5;\n",
       "    y0 = Math.floor(y0) + 0.5;\n",
       "    x1 = Math.floor(x1) + 0.5;\n",
       "    y1 = Math.floor(y1) + 0.5;\n",
       "    var min_x = Math.min(x0, x1);\n",
       "    var min_y = Math.min(y0, y1);\n",
       "    var width = Math.abs(x1 - x0);\n",
       "    var height = Math.abs(y1 - y0);\n",
       "\n",
       "    fig.rubberband_context.clearRect(\n",
       "        0,\n",
       "        0,\n",
       "        fig.canvas.width / fig.ratio,\n",
       "        fig.canvas.height / fig.ratio\n",
       "    );\n",
       "\n",
       "    fig.rubberband_context.strokeRect(min_x, min_y, width, height);\n",
       "};\n",
       "\n",
       "mpl.figure.prototype.handle_figure_label = function (fig, msg) {\n",
       "    // Updates the figure title.\n",
       "    fig.header.textContent = msg['label'];\n",
       "};\n",
       "\n",
       "mpl.figure.prototype.handle_cursor = function (fig, msg) {\n",
       "    var cursor = msg['cursor'];\n",
       "    switch (cursor) {\n",
       "        case 0:\n",
       "            cursor = 'pointer';\n",
       "            break;\n",
       "        case 1:\n",
       "            cursor = 'default';\n",
       "            break;\n",
       "        case 2:\n",
       "            cursor = 'crosshair';\n",
       "            break;\n",
       "        case 3:\n",
       "            cursor = 'move';\n",
       "            break;\n",
       "    }\n",
       "    fig.rubberband_canvas.style.cursor = cursor;\n",
       "};\n",
       "\n",
       "mpl.figure.prototype.handle_message = function (fig, msg) {\n",
       "    fig.message.textContent = msg['message'];\n",
       "};\n",
       "\n",
       "mpl.figure.prototype.handle_draw = function (fig, _msg) {\n",
       "    // Request the server to send over a new figure.\n",
       "    fig.send_draw_message();\n",
       "};\n",
       "\n",
       "mpl.figure.prototype.handle_image_mode = function (fig, msg) {\n",
       "    fig.image_mode = msg['mode'];\n",
       "};\n",
       "\n",
       "mpl.figure.prototype.handle_history_buttons = function (fig, msg) {\n",
       "    for (var key in msg) {\n",
       "        if (!(key in fig.buttons)) {\n",
       "            continue;\n",
       "        }\n",
       "        fig.buttons[key].disabled = !msg[key];\n",
       "        fig.buttons[key].setAttribute('aria-disabled', !msg[key]);\n",
       "    }\n",
       "};\n",
       "\n",
       "mpl.figure.prototype.handle_navigate_mode = function (fig, msg) {\n",
       "    if (msg['mode'] === 'PAN') {\n",
       "        fig.buttons['Pan'].classList.add('active');\n",
       "        fig.buttons['Zoom'].classList.remove('active');\n",
       "    } else if (msg['mode'] === 'ZOOM') {\n",
       "        fig.buttons['Pan'].classList.remove('active');\n",
       "        fig.buttons['Zoom'].classList.add('active');\n",
       "    } else {\n",
       "        fig.buttons['Pan'].classList.remove('active');\n",
       "        fig.buttons['Zoom'].classList.remove('active');\n",
       "    }\n",
       "};\n",
       "\n",
       "mpl.figure.prototype.updated_canvas_event = function () {\n",
       "    // Called whenever the canvas gets updated.\n",
       "    this.send_message('ack', {});\n",
       "};\n",
       "\n",
       "// A function to construct a web socket function for onmessage handling.\n",
       "// Called in the figure constructor.\n",
       "mpl.figure.prototype._make_on_message_function = function (fig) {\n",
       "    return function socket_on_message(evt) {\n",
       "        if (evt.data instanceof Blob) {\n",
       "            var img = evt.data;\n",
       "            if (img.type !== 'image/png') {\n",
       "                /* FIXME: We get \"Resource interpreted as Image but\n",
       "                 * transferred with MIME type text/plain:\" errors on\n",
       "                 * Chrome.  But how to set the MIME type?  It doesn't seem\n",
       "                 * to be part of the websocket stream */\n",
       "                img.type = 'image/png';\n",
       "            }\n",
       "\n",
       "            /* Free the memory for the previous frames */\n",
       "            if (fig.imageObj.src) {\n",
       "                (window.URL || window.webkitURL).revokeObjectURL(\n",
       "                    fig.imageObj.src\n",
       "                );\n",
       "            }\n",
       "\n",
       "            fig.imageObj.src = (window.URL || window.webkitURL).createObjectURL(\n",
       "                img\n",
       "            );\n",
       "            fig.updated_canvas_event();\n",
       "            fig.waiting = false;\n",
       "            return;\n",
       "        } else if (\n",
       "            typeof evt.data === 'string' &&\n",
       "            evt.data.slice(0, 21) === 'data:image/png;base64'\n",
       "        ) {\n",
       "            fig.imageObj.src = evt.data;\n",
       "            fig.updated_canvas_event();\n",
       "            fig.waiting = false;\n",
       "            return;\n",
       "        }\n",
       "\n",
       "        var msg = JSON.parse(evt.data);\n",
       "        var msg_type = msg['type'];\n",
       "\n",
       "        // Call the  \"handle_{type}\" callback, which takes\n",
       "        // the figure and JSON message as its only arguments.\n",
       "        try {\n",
       "            var callback = fig['handle_' + msg_type];\n",
       "        } catch (e) {\n",
       "            console.log(\n",
       "                \"No handler for the '\" + msg_type + \"' message type: \",\n",
       "                msg\n",
       "            );\n",
       "            return;\n",
       "        }\n",
       "\n",
       "        if (callback) {\n",
       "            try {\n",
       "                // console.log(\"Handling '\" + msg_type + \"' message: \", msg);\n",
       "                callback(fig, msg);\n",
       "            } catch (e) {\n",
       "                console.log(\n",
       "                    \"Exception inside the 'handler_\" + msg_type + \"' callback:\",\n",
       "                    e,\n",
       "                    e.stack,\n",
       "                    msg\n",
       "                );\n",
       "            }\n",
       "        }\n",
       "    };\n",
       "};\n",
       "\n",
       "// from http://stackoverflow.com/questions/1114465/getting-mouse-location-in-canvas\n",
       "mpl.findpos = function (e) {\n",
       "    //this section is from http://www.quirksmode.org/js/events_properties.html\n",
       "    var targ;\n",
       "    if (!e) {\n",
       "        e = window.event;\n",
       "    }\n",
       "    if (e.target) {\n",
       "        targ = e.target;\n",
       "    } else if (e.srcElement) {\n",
       "        targ = e.srcElement;\n",
       "    }\n",
       "    if (targ.nodeType === 3) {\n",
       "        // defeat Safari bug\n",
       "        targ = targ.parentNode;\n",
       "    }\n",
       "\n",
       "    // pageX,Y are the mouse positions relative to the document\n",
       "    var boundingRect = targ.getBoundingClientRect();\n",
       "    var x = e.pageX - (boundingRect.left + document.body.scrollLeft);\n",
       "    var y = e.pageY - (boundingRect.top + document.body.scrollTop);\n",
       "\n",
       "    return { x: x, y: y };\n",
       "};\n",
       "\n",
       "/*\n",
       " * return a copy of an object with only non-object keys\n",
       " * we need this to avoid circular references\n",
       " * http://stackoverflow.com/a/24161582/3208463\n",
       " */\n",
       "function simpleKeys(original) {\n",
       "    return Object.keys(original).reduce(function (obj, key) {\n",
       "        if (typeof original[key] !== 'object') {\n",
       "            obj[key] = original[key];\n",
       "        }\n",
       "        return obj;\n",
       "    }, {});\n",
       "}\n",
       "\n",
       "mpl.figure.prototype.mouse_event = function (event, name) {\n",
       "    var canvas_pos = mpl.findpos(event);\n",
       "\n",
       "    if (name === 'button_press') {\n",
       "        this.canvas.focus();\n",
       "        this.canvas_div.focus();\n",
       "    }\n",
       "\n",
       "    var x = canvas_pos.x * this.ratio;\n",
       "    var y = canvas_pos.y * this.ratio;\n",
       "\n",
       "    this.send_message(name, {\n",
       "        x: x,\n",
       "        y: y,\n",
       "        button: event.button,\n",
       "        step: event.step,\n",
       "        guiEvent: simpleKeys(event),\n",
       "    });\n",
       "\n",
       "    /* This prevents the web browser from automatically changing to\n",
       "     * the text insertion cursor when the button is pressed.  We want\n",
       "     * to control all of the cursor setting manually through the\n",
       "     * 'cursor' event from matplotlib */\n",
       "    event.preventDefault();\n",
       "    return false;\n",
       "};\n",
       "\n",
       "mpl.figure.prototype._key_event_extra = function (_event, _name) {\n",
       "    // Handle any extra behaviour associated with a key event\n",
       "};\n",
       "\n",
       "mpl.figure.prototype.key_event = function (event, name) {\n",
       "    // Prevent repeat events\n",
       "    if (name === 'key_press') {\n",
       "        if (event.key === this._key) {\n",
       "            return;\n",
       "        } else {\n",
       "            this._key = event.key;\n",
       "        }\n",
       "    }\n",
       "    if (name === 'key_release') {\n",
       "        this._key = null;\n",
       "    }\n",
       "\n",
       "    var value = '';\n",
       "    if (event.ctrlKey && event.key !== 'Control') {\n",
       "        value += 'ctrl+';\n",
       "    }\n",
       "    else if (event.altKey && event.key !== 'Alt') {\n",
       "        value += 'alt+';\n",
       "    }\n",
       "    else if (event.shiftKey && event.key !== 'Shift') {\n",
       "        value += 'shift+';\n",
       "    }\n",
       "\n",
       "    value += 'k' + event.key;\n",
       "\n",
       "    this._key_event_extra(event, name);\n",
       "\n",
       "    this.send_message(name, { key: value, guiEvent: simpleKeys(event) });\n",
       "    return false;\n",
       "};\n",
       "\n",
       "mpl.figure.prototype.toolbar_button_onclick = function (name) {\n",
       "    if (name === 'download') {\n",
       "        this.handle_save(this, null);\n",
       "    } else {\n",
       "        this.send_message('toolbar_button', { name: name });\n",
       "    }\n",
       "};\n",
       "\n",
       "mpl.figure.prototype.toolbar_button_onmouseover = function (tooltip) {\n",
       "    this.message.textContent = tooltip;\n",
       "};\n",
       "\n",
       "///////////////// REMAINING CONTENT GENERATED BY embed_js.py /////////////////\n",
       "// prettier-ignore\n",
       "var _JSXTOOLS_RESIZE_OBSERVER=function(A){var t,i=new WeakMap,n=new WeakMap,a=new WeakMap,r=new WeakMap,o=new Set;function s(e){if(!(this instanceof s))throw new TypeError(\"Constructor requires 'new' operator\");i.set(this,e)}function h(){throw new TypeError(\"Function is not a constructor\")}function c(e,t,i,n){e=0 in arguments?Number(arguments[0]):0,t=1 in arguments?Number(arguments[1]):0,i=2 in arguments?Number(arguments[2]):0,n=3 in arguments?Number(arguments[3]):0,this.right=(this.x=this.left=e)+(this.width=i),this.bottom=(this.y=this.top=t)+(this.height=n),Object.freeze(this)}function d(){t=requestAnimationFrame(d);var s=new WeakMap,p=new Set;o.forEach((function(t){r.get(t).forEach((function(i){var r=t instanceof window.SVGElement,o=a.get(t),d=r?0:parseFloat(o.paddingTop),f=r?0:parseFloat(o.paddingRight),l=r?0:parseFloat(o.paddingBottom),u=r?0:parseFloat(o.paddingLeft),g=r?0:parseFloat(o.borderTopWidth),m=r?0:parseFloat(o.borderRightWidth),w=r?0:parseFloat(o.borderBottomWidth),b=u+f,F=d+l,v=(r?0:parseFloat(o.borderLeftWidth))+m,W=g+w,y=r?0:t.offsetHeight-W-t.clientHeight,E=r?0:t.offsetWidth-v-t.clientWidth,R=b+v,z=F+W,M=r?t.width:parseFloat(o.width)-R-E,O=r?t.height:parseFloat(o.height)-z-y;if(n.has(t)){var k=n.get(t);if(k[0]===M&&k[1]===O)return}n.set(t,[M,O]);var S=Object.create(h.prototype);S.target=t,S.contentRect=new c(u,d,M,O),s.has(i)||(s.set(i,[]),p.add(i)),s.get(i).push(S)}))})),p.forEach((function(e){i.get(e).call(e,s.get(e),e)}))}return s.prototype.observe=function(i){if(i instanceof window.Element){r.has(i)||(r.set(i,new Set),o.add(i),a.set(i,window.getComputedStyle(i)));var n=r.get(i);n.has(this)||n.add(this),cancelAnimationFrame(t),t=requestAnimationFrame(d)}},s.prototype.unobserve=function(i){if(i instanceof window.Element&&r.has(i)){var n=r.get(i);n.has(this)&&(n.delete(this),n.size||(r.delete(i),o.delete(i))),n.size||r.delete(i),o.size||cancelAnimationFrame(t)}},A.DOMRectReadOnly=c,A.ResizeObserver=s,A.ResizeObserverEntry=h,A}; // eslint-disable-line\n",
       "mpl.toolbar_items = [[\"Home\", \"Reset original view\", \"fa fa-home icon-home\", \"home\"], [\"Back\", \"Back to previous view\", \"fa fa-arrow-left icon-arrow-left\", \"back\"], [\"Forward\", \"Forward to next view\", \"fa fa-arrow-right icon-arrow-right\", \"forward\"], [\"\", \"\", \"\", \"\"], [\"Pan\", \"Left button pans, Right button zooms\\nx/y fixes axis, CTRL fixes aspect\", \"fa fa-arrows icon-move\", \"pan\"], [\"Zoom\", \"Zoom to rectangle\\nx/y fixes axis, CTRL fixes aspect\", \"fa fa-square-o icon-check-empty\", \"zoom\"], [\"\", \"\", \"\", \"\"], [\"Download\", \"Download plot\", \"fa fa-floppy-o icon-save\", \"download\"]];\n",
       "\n",
       "mpl.extensions = [\"eps\", \"jpeg\", \"pgf\", \"pdf\", \"png\", \"ps\", \"raw\", \"svg\", \"tif\"];\n",
       "\n",
       "mpl.default_extension = \"png\";/* global mpl */\n",
       "\n",
       "var comm_websocket_adapter = function (comm) {\n",
       "    // Create a \"websocket\"-like object which calls the given IPython comm\n",
       "    // object with the appropriate methods. Currently this is a non binary\n",
       "    // socket, so there is still some room for performance tuning.\n",
       "    var ws = {};\n",
       "\n",
       "    ws.binaryType = comm.kernel.ws.binaryType;\n",
       "    ws.readyState = comm.kernel.ws.readyState;\n",
       "    function updateReadyState(_event) {\n",
       "        if (comm.kernel.ws) {\n",
       "            ws.readyState = comm.kernel.ws.readyState;\n",
       "        } else {\n",
       "            ws.readyState = 3; // Closed state.\n",
       "        }\n",
       "    }\n",
       "    comm.kernel.ws.addEventListener('open', updateReadyState);\n",
       "    comm.kernel.ws.addEventListener('close', updateReadyState);\n",
       "    comm.kernel.ws.addEventListener('error', updateReadyState);\n",
       "\n",
       "    ws.close = function () {\n",
       "        comm.close();\n",
       "    };\n",
       "    ws.send = function (m) {\n",
       "        //console.log('sending', m);\n",
       "        comm.send(m);\n",
       "    };\n",
       "    // Register the callback with on_msg.\n",
       "    comm.on_msg(function (msg) {\n",
       "        //console.log('receiving', msg['content']['data'], msg);\n",
       "        var data = msg['content']['data'];\n",
       "        if (data['blob'] !== undefined) {\n",
       "            data = {\n",
       "                data: new Blob(msg['buffers'], { type: data['blob'] }),\n",
       "            };\n",
       "        }\n",
       "        // Pass the mpl event to the overridden (by mpl) onmessage function.\n",
       "        ws.onmessage(data);\n",
       "    });\n",
       "    return ws;\n",
       "};\n",
       "\n",
       "mpl.mpl_figure_comm = function (comm, msg) {\n",
       "    // This is the function which gets called when the mpl process\n",
       "    // starts-up an IPython Comm through the \"matplotlib\" channel.\n",
       "\n",
       "    var id = msg.content.data.id;\n",
       "    // Get hold of the div created by the display call when the Comm\n",
       "    // socket was opened in Python.\n",
       "    var element = document.getElementById(id);\n",
       "    var ws_proxy = comm_websocket_adapter(comm);\n",
       "\n",
       "    function ondownload(figure, _format) {\n",
       "        window.open(figure.canvas.toDataURL());\n",
       "    }\n",
       "\n",
       "    var fig = new mpl.figure(id, ws_proxy, ondownload, element);\n",
       "\n",
       "    // Call onopen now - mpl needs it, as it is assuming we've passed it a real\n",
       "    // web socket which is closed, not our websocket->open comm proxy.\n",
       "    ws_proxy.onopen();\n",
       "\n",
       "    fig.parent_element = element;\n",
       "    fig.cell_info = mpl.find_output_cell(\"<div id='\" + id + \"'></div>\");\n",
       "    if (!fig.cell_info) {\n",
       "        console.error('Failed to find cell for figure', id, fig);\n",
       "        return;\n",
       "    }\n",
       "    fig.cell_info[0].output_area.element.on(\n",
       "        'cleared',\n",
       "        { fig: fig },\n",
       "        fig._remove_fig_handler\n",
       "    );\n",
       "};\n",
       "\n",
       "mpl.figure.prototype.handle_close = function (fig, msg) {\n",
       "    var width = fig.canvas.width / fig.ratio;\n",
       "    fig.cell_info[0].output_area.element.off(\n",
       "        'cleared',\n",
       "        fig._remove_fig_handler\n",
       "    );\n",
       "    fig.resizeObserverInstance.unobserve(fig.canvas_div);\n",
       "\n",
       "    // Update the output cell to use the data from the current canvas.\n",
       "    fig.push_to_output();\n",
       "    var dataURL = fig.canvas.toDataURL();\n",
       "    // Re-enable the keyboard manager in IPython - without this line, in FF,\n",
       "    // the notebook keyboard shortcuts fail.\n",
       "    IPython.keyboard_manager.enable();\n",
       "    fig.parent_element.innerHTML =\n",
       "        '<img src=\"' + dataURL + '\" width=\"' + width + '\">';\n",
       "    fig.close_ws(fig, msg);\n",
       "};\n",
       "\n",
       "mpl.figure.prototype.close_ws = function (fig, msg) {\n",
       "    fig.send_message('closing', msg);\n",
       "    // fig.ws.close()\n",
       "};\n",
       "\n",
       "mpl.figure.prototype.push_to_output = function (_remove_interactive) {\n",
       "    // Turn the data on the canvas into data in the output cell.\n",
       "    var width = this.canvas.width / this.ratio;\n",
       "    var dataURL = this.canvas.toDataURL();\n",
       "    this.cell_info[1]['text/html'] =\n",
       "        '<img src=\"' + dataURL + '\" width=\"' + width + '\">';\n",
       "};\n",
       "\n",
       "mpl.figure.prototype.updated_canvas_event = function () {\n",
       "    // Tell IPython that the notebook contents must change.\n",
       "    IPython.notebook.set_dirty(true);\n",
       "    this.send_message('ack', {});\n",
       "    var fig = this;\n",
       "    // Wait a second, then push the new image to the DOM so\n",
       "    // that it is saved nicely (might be nice to debounce this).\n",
       "    setTimeout(function () {\n",
       "        fig.push_to_output();\n",
       "    }, 1000);\n",
       "};\n",
       "\n",
       "mpl.figure.prototype._init_toolbar = function () {\n",
       "    var fig = this;\n",
       "\n",
       "    var toolbar = document.createElement('div');\n",
       "    toolbar.classList = 'btn-toolbar';\n",
       "    this.root.appendChild(toolbar);\n",
       "\n",
       "    function on_click_closure(name) {\n",
       "        return function (_event) {\n",
       "            return fig.toolbar_button_onclick(name);\n",
       "        };\n",
       "    }\n",
       "\n",
       "    function on_mouseover_closure(tooltip) {\n",
       "        return function (event) {\n",
       "            if (!event.currentTarget.disabled) {\n",
       "                return fig.toolbar_button_onmouseover(tooltip);\n",
       "            }\n",
       "        };\n",
       "    }\n",
       "\n",
       "    fig.buttons = {};\n",
       "    var buttonGroup = document.createElement('div');\n",
       "    buttonGroup.classList = 'btn-group';\n",
       "    var button;\n",
       "    for (var toolbar_ind in mpl.toolbar_items) {\n",
       "        var name = mpl.toolbar_items[toolbar_ind][0];\n",
       "        var tooltip = mpl.toolbar_items[toolbar_ind][1];\n",
       "        var image = mpl.toolbar_items[toolbar_ind][2];\n",
       "        var method_name = mpl.toolbar_items[toolbar_ind][3];\n",
       "\n",
       "        if (!name) {\n",
       "            /* Instead of a spacer, we start a new button group. */\n",
       "            if (buttonGroup.hasChildNodes()) {\n",
       "                toolbar.appendChild(buttonGroup);\n",
       "            }\n",
       "            buttonGroup = document.createElement('div');\n",
       "            buttonGroup.classList = 'btn-group';\n",
       "            continue;\n",
       "        }\n",
       "\n",
       "        button = fig.buttons[name] = document.createElement('button');\n",
       "        button.classList = 'btn btn-default';\n",
       "        button.href = '#';\n",
       "        button.title = name;\n",
       "        button.innerHTML = '<i class=\"fa ' + image + ' fa-lg\"></i>';\n",
       "        button.addEventListener('click', on_click_closure(method_name));\n",
       "        button.addEventListener('mouseover', on_mouseover_closure(tooltip));\n",
       "        buttonGroup.appendChild(button);\n",
       "    }\n",
       "\n",
       "    if (buttonGroup.hasChildNodes()) {\n",
       "        toolbar.appendChild(buttonGroup);\n",
       "    }\n",
       "\n",
       "    // Add the status bar.\n",
       "    var status_bar = document.createElement('span');\n",
       "    status_bar.classList = 'mpl-message pull-right';\n",
       "    toolbar.appendChild(status_bar);\n",
       "    this.message = status_bar;\n",
       "\n",
       "    // Add the close button to the window.\n",
       "    var buttongrp = document.createElement('div');\n",
       "    buttongrp.classList = 'btn-group inline pull-right';\n",
       "    button = document.createElement('button');\n",
       "    button.classList = 'btn btn-mini btn-primary';\n",
       "    button.href = '#';\n",
       "    button.title = 'Stop Interaction';\n",
       "    button.innerHTML = '<i class=\"fa fa-power-off icon-remove icon-large\"></i>';\n",
       "    button.addEventListener('click', function (_evt) {\n",
       "        fig.handle_close(fig, {});\n",
       "    });\n",
       "    button.addEventListener(\n",
       "        'mouseover',\n",
       "        on_mouseover_closure('Stop Interaction')\n",
       "    );\n",
       "    buttongrp.appendChild(button);\n",
       "    var titlebar = this.root.querySelector('.ui-dialog-titlebar');\n",
       "    titlebar.insertBefore(buttongrp, titlebar.firstChild);\n",
       "};\n",
       "\n",
       "mpl.figure.prototype._remove_fig_handler = function (event) {\n",
       "    var fig = event.data.fig;\n",
       "    if (event.target !== this) {\n",
       "        // Ignore bubbled events from children.\n",
       "        return;\n",
       "    }\n",
       "    fig.close_ws(fig, {});\n",
       "};\n",
       "\n",
       "mpl.figure.prototype._root_extra_style = function (el) {\n",
       "    el.style.boxSizing = 'content-box'; // override notebook setting of border-box.\n",
       "};\n",
       "\n",
       "mpl.figure.prototype._canvas_extra_style = function (el) {\n",
       "    // this is important to make the div 'focusable\n",
       "    el.setAttribute('tabindex', 0);\n",
       "    // reach out to IPython and tell the keyboard manager to turn it's self\n",
       "    // off when our div gets focus\n",
       "\n",
       "    // location in version 3\n",
       "    if (IPython.notebook.keyboard_manager) {\n",
       "        IPython.notebook.keyboard_manager.register_events(el);\n",
       "    } else {\n",
       "        // location in version 2\n",
       "        IPython.keyboard_manager.register_events(el);\n",
       "    }\n",
       "};\n",
       "\n",
       "mpl.figure.prototype._key_event_extra = function (event, _name) {\n",
       "    var manager = IPython.notebook.keyboard_manager;\n",
       "    if (!manager) {\n",
       "        manager = IPython.keyboard_manager;\n",
       "    }\n",
       "\n",
       "    // Check for shift+enter\n",
       "    if (event.shiftKey && event.which === 13) {\n",
       "        this.canvas_div.blur();\n",
       "        // select the cell after this one\n",
       "        var index = IPython.notebook.find_cell_index(this.cell_info[0]);\n",
       "        IPython.notebook.select(index + 1);\n",
       "    }\n",
       "};\n",
       "\n",
       "mpl.figure.prototype.handle_save = function (fig, _msg) {\n",
       "    fig.ondownload(fig, null);\n",
       "};\n",
       "\n",
       "mpl.find_output_cell = function (html_output) {\n",
       "    // Return the cell and output element which can be found *uniquely* in the notebook.\n",
       "    // Note - this is a bit hacky, but it is done because the \"notebook_saving.Notebook\"\n",
       "    // IPython event is triggered only after the cells have been serialised, which for\n",
       "    // our purposes (turning an active figure into a static one), is too late.\n",
       "    var cells = IPython.notebook.get_cells();\n",
       "    var ncells = cells.length;\n",
       "    for (var i = 0; i < ncells; i++) {\n",
       "        var cell = cells[i];\n",
       "        if (cell.cell_type === 'code') {\n",
       "            for (var j = 0; j < cell.output_area.outputs.length; j++) {\n",
       "                var data = cell.output_area.outputs[j];\n",
       "                if (data.data) {\n",
       "                    // IPython >= 3 moved mimebundle to data attribute of output\n",
       "                    data = data.data;\n",
       "                }\n",
       "                if (data['text/html'] === html_output) {\n",
       "                    return [cell, data, j];\n",
       "                }\n",
       "            }\n",
       "        }\n",
       "    }\n",
       "};\n",
       "\n",
       "// Register the function which deals with the matplotlib target/channel.\n",
       "// The kernel may be null if the page has been refreshed.\n",
       "if (IPython.notebook.kernel !== null) {\n",
       "    IPython.notebook.kernel.comm_manager.register_target(\n",
       "        'matplotlib',\n",
       "        mpl.mpl_figure_comm\n",
       "    );\n",
       "}\n"
      ],
      "text/plain": [
       "<IPython.core.display.Javascript object>"
      ]
     },
     "metadata": {},
     "output_type": "display_data"
    },
    {
     "data": {
      "text/html": [
       "<img src=\"data:image/png;base64,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\" width=\"432\">"
      ],
      "text/plain": [
       "<IPython.core.display.HTML object>"
      ]
     },
     "metadata": {},
     "output_type": "display_data"
    },
    {
     "data": {
      "text/plain": [
       "<matplotlib.collections.PathCollection at 0x1e2aedc0a60>"
      ]
     },
     "execution_count": 267,
     "metadata": {},
     "output_type": "execute_result"
    }
   ],
   "source": [
    "%matplotlib notebook\n",
    "\n",
    "# plt.scatter(x[:, 0],x[:, 1], alpha = .3)\n",
    "plt.scatter(selection[:,0],selection[:,1], c ='blue',s = 50, alpha = 0.4)"
   ]
  },
  {
   "cell_type": "code",
   "execution_count": 269,
   "id": "b1cf7522",
   "metadata": {},
   "outputs": [
    {
     "data": {
      "text/plain": [
       "array([[0, 1, 2],\n",
       "       [3, 4, 5],\n",
       "       [6, 7, 8]])"
      ]
     },
     "execution_count": 269,
     "metadata": {},
     "output_type": "execute_result"
    },
    {
     "data": {
      "text/plain": [
       "array([0, 1, 2])"
      ]
     },
     "execution_count": 269,
     "metadata": {},
     "output_type": "execute_result"
    }
   ],
   "source": [
    "array1 = np.arange(9).reshape((3,3))\n",
    "array2 = np.arange(3)\n",
    "array1\n",
    "array2"
   ]
  },
  {
   "cell_type": "code",
   "execution_count": 270,
   "id": "8f669331",
   "metadata": {},
   "outputs": [],
   "source": [
    "array = np.arange(4)"
   ]
  },
  {
   "cell_type": "code",
   "execution_count": 273,
   "id": "36721a5a",
   "metadata": {},
   "outputs": [
    {
     "data": {
      "text/plain": [
       "array([[ 0,  1,  4],\n",
       "       [ 0,  4, 10],\n",
       "       [ 0,  7, 16]])"
      ]
     },
     "execution_count": 273,
     "metadata": {},
     "output_type": "execute_result"
    }
   ],
   "source": [
    "array1 * array2"
   ]
  },
  {
   "cell_type": "code",
   "execution_count": 271,
   "id": "68b15601",
   "metadata": {},
   "outputs": [
    {
     "data": {
      "text/plain": [
       "array([[ 0,  2,  4],\n",
       "       [ 3,  5,  7],\n",
       "       [ 6,  8, 10]])"
      ]
     },
     "execution_count": 271,
     "metadata": {},
     "output_type": "execute_result"
    },
    {
     "data": {
      "text/plain": [
       "array([[ 0,  1,  4],\n",
       "       [ 0,  4, 10],\n",
       "       [ 0,  7, 16]])"
      ]
     },
     "execution_count": 271,
     "metadata": {},
     "output_type": "execute_result"
    },
    {
     "data": {
      "text/plain": [
       "array([ 5, 14, 23])"
      ]
     },
     "execution_count": 271,
     "metadata": {},
     "output_type": "execute_result"
    },
    {
     "data": {
      "text/plain": [
       "<function numpy.mean(a, axis=None, dtype=None, out=None, keepdims=<no value>, *, where=<no value>)>"
      ]
     },
     "execution_count": 271,
     "metadata": {},
     "output_type": "execute_result"
    },
    {
     "data": {
      "text/plain": [
       "3"
      ]
     },
     "execution_count": 271,
     "metadata": {},
     "output_type": "execute_result"
    },
    {
     "data": {
      "text/plain": [
       "array([[0, 1, 2],\n",
       "       [3, 4, 5],\n",
       "       [6, 7, 8]])"
      ]
     },
     "execution_count": 271,
     "metadata": {},
     "output_type": "execute_result"
    },
    {
     "data": {
      "text/plain": [
       "0"
      ]
     },
     "execution_count": 271,
     "metadata": {},
     "output_type": "execute_result"
    },
    {
     "data": {
      "text/plain": [
       "array([[0, 1, 2],\n",
       "       [0, 1, 2],\n",
       "       [0, 1, 2]])"
      ]
     },
     "execution_count": 271,
     "metadata": {},
     "output_type": "execute_result"
    },
    {
     "data": {
      "text/plain": [
       "<function numpy.median(a, axis=None, out=None, overwrite_input=False, keepdims=False)>"
      ]
     },
     "execution_count": 271,
     "metadata": {},
     "output_type": "execute_result"
    },
    {
     "data": {
      "text/plain": [
       "<function numpy.cumsum(a, axis=None, dtype=None, out=None)>"
      ]
     },
     "execution_count": 271,
     "metadata": {},
     "output_type": "execute_result"
    },
    {
     "data": {
      "text/plain": [
       "<ufunc 'sqrt'>"
      ]
     },
     "execution_count": 271,
     "metadata": {},
     "output_type": "execute_result"
    },
    {
     "data": {
      "text/plain": [
       "<ufunc 'exp'>"
      ]
     },
     "execution_count": 271,
     "metadata": {},
     "output_type": "execute_result"
    },
    {
     "data": {
      "text/plain": [
       "<ufunc 'add'>"
      ]
     },
     "execution_count": 271,
     "metadata": {},
     "output_type": "execute_result"
    },
    {
     "data": {
      "text/plain": [
       "<ufunc 'subtract'>"
      ]
     },
     "execution_count": 271,
     "metadata": {},
     "output_type": "execute_result"
    }
   ],
   "source": [
    "#common vectorized computation methods\n",
    "array1 + array2\n",
    "array1 * array2\n",
    "np.dot(array1, array2)\n",
    "np.mean\n",
    "\n",
    "np.max(array, axis = None) # or '0' for column-wise, or '1' for row-wise\n",
    "np.maximum(array1, array2)\n",
    "np.min(array, axis = None) # or '0' for column-wise, or '1' for row-wise\n",
    "np.minimum(array1, array2)\n",
    "np.median\n",
    "np.cumsum\n",
    "np.sqrt\n",
    "np.exp\n",
    "np.add\n",
    "np.subtract"
   ]
  },
  {
   "cell_type": "code",
   "execution_count": 116,
   "id": "3b618250",
   "metadata": {},
   "outputs": [
    {
     "data": {
      "text/plain": [
       "array([[ 28,  17,  18,  30],\n",
       "       [ 94,  83,  66, 114],\n",
       "       [160, 149, 114, 198],\n",
       "       [226, 215, 162, 282]])"
      ]
     },
     "execution_count": 116,
     "metadata": {},
     "output_type": "execute_result"
    }
   ],
   "source": [
    "array1 = np.arange(12).reshape((4,3))\n",
    "array2 = np.random.randint(1,20,(3,4))\n",
    "\n",
    "np.dot(array1, array2)\n",
    "#np.mean(array1)\n",
    "#print(array1)\n",
    "#np.max(array1,axis=1)\n",
    "#np.min(array1, axis = 0)"
   ]
  },
  {
   "cell_type": "markdown",
   "id": "36ebe30c",
   "metadata": {},
   "source": [
    "### Broadcasting\n",
    "a set of rules for applying binary ufuncs (addition, subtraction, multiplication, etc.) on arrays of different sizes.\n",
    "\n",
    "- Rule 1: If the two arrays differ in their number of dimensions, the shape of the one with fewer dimensions is padded with ones on its leading (left) side.\n",
    "- Rule 2: If the shape of the two arrays does not match in any dimension, the array with shape equal to 1 in that dimension is stretched to match the other shape.\n",
    "- Rule 3: If in any dimension the sizes disagree and neither is equal to 1, an error is raised."
   ]
  },
  {
   "cell_type": "code",
   "execution_count": 516,
   "id": "53328bc3",
   "metadata": {},
   "outputs": [
    {
     "data": {
      "text/plain": [
       "array([2, 3, 4])"
      ]
     },
     "execution_count": 516,
     "metadata": {},
     "output_type": "execute_result"
    },
    {
     "data": {
      "text/plain": [
       "array([0, 1, 2])"
      ]
     },
     "execution_count": 516,
     "metadata": {},
     "output_type": "execute_result"
    },
    {
     "data": {
      "text/plain": [
       "array([[1., 1., 1.],\n",
       "       [1., 1., 1.],\n",
       "       [1., 1., 1.]])"
      ]
     },
     "execution_count": 516,
     "metadata": {},
     "output_type": "execute_result"
    },
    {
     "data": {
      "text/plain": [
       "array([[1., 2., 3.],\n",
       "       [1., 2., 3.],\n",
       "       [1., 2., 3.]])"
      ]
     },
     "execution_count": 516,
     "metadata": {},
     "output_type": "execute_result"
    }
   ],
   "source": [
    "# array add a scalar\n",
    "\n",
    "# one dimension array\n",
    "a = np.array([0,1,2])\n",
    "a + 2\n",
    "\n",
    "a\n",
    "# two dimension array\n",
    "M = np.ones((3,3))\n",
    "M\n",
    "M + a\n",
    "\n",
    "# the one dimension array is stretched, or broadcast, across the second dimension \n",
    "# to match the dimension of M"
   ]
  },
  {
   "cell_type": "code",
   "execution_count": 523,
   "id": "2b9f903c",
   "metadata": {},
   "outputs": [
    {
     "data": {
      "text/plain": [
       "array([0, 1, 2])"
      ]
     },
     "execution_count": 523,
     "metadata": {},
     "output_type": "execute_result"
    },
    {
     "data": {
      "text/plain": [
       "array([[0],\n",
       "       [1],\n",
       "       [2]])"
      ]
     },
     "execution_count": 523,
     "metadata": {},
     "output_type": "execute_result"
    },
    {
     "data": {
      "text/plain": [
       "array([[0, 1, 2],\n",
       "       [1, 2, 3],\n",
       "       [2, 3, 4]])"
      ]
     },
     "execution_count": 523,
     "metadata": {},
     "output_type": "execute_result"
    },
    {
     "data": {
      "text/plain": [
       "array([[0, 0, 0],\n",
       "       [0, 1, 2],\n",
       "       [0, 2, 4]])"
      ]
     },
     "execution_count": 523,
     "metadata": {},
     "output_type": "execute_result"
    }
   ],
   "source": [
    "a = np.arange(3)\n",
    "b = np.arange(3).reshape((3,1))\n",
    "# b = np.arange(3)[:, np.newaxis] # np.newaxis is used for extending dimensions \n",
    "a\n",
    "b\n",
    "\n",
    "# inputs are two 1 dimension arrays\n",
    "# output is a 2 dimension array\n",
    "a + b\n",
    "a * b"
   ]
  },
  {
   "cell_type": "markdown",
   "id": "708fe91f",
   "metadata": {},
   "source": [
    "<br><br>\n",
    "<center><img src=\"images/Numpy_3.JPG\" width = \"400\"></center>\n",
    "<center>Figure 3. NumPy broadcasting</center>"
   ]
  },
  {
   "cell_type": "code",
   "execution_count": 451,
   "id": "bcc4b470",
   "metadata": {},
   "outputs": [
    {
     "data": {
      "text/plain": [
       "array([[[99, 82, 77],\n",
       "        [23, 24, 76]],\n",
       "\n",
       "       [[57, 72, 44],\n",
       "        [29, 31, 39]]])"
      ]
     },
     "execution_count": 451,
     "metadata": {},
     "output_type": "execute_result"
    },
    {
     "data": {
      "text/plain": [
       "array([[[100,  83,  78],\n",
       "        [ 24,  25,  77]],\n",
       "\n",
       "       [[ 58,  73,  45],\n",
       "        [ 30,  32,  40]]])"
      ]
     },
     "execution_count": 451,
     "metadata": {},
     "output_type": "execute_result"
    }
   ],
   "source": [
    "y\n",
    "y + 1"
   ]
  },
  {
   "cell_type": "code",
   "execution_count": 526,
   "id": "ab796ea8",
   "metadata": {},
   "outputs": [
    {
     "data": {
      "text/plain": [
       "array([[1., 1., 1.],\n",
       "       [1., 1., 1.]])"
      ]
     },
     "execution_count": 526,
     "metadata": {},
     "output_type": "execute_result"
    },
    {
     "data": {
      "text/plain": [
       "array([0, 1, 2])"
      ]
     },
     "execution_count": 526,
     "metadata": {},
     "output_type": "execute_result"
    },
    {
     "data": {
      "text/plain": [
       "array([[1., 2., 3.],\n",
       "       [1., 2., 3.]])"
      ]
     },
     "execution_count": 526,
     "metadata": {},
     "output_type": "execute_result"
    }
   ],
   "source": [
    "# Broadcasting ex 1\n",
    "# 2 dimension array\n",
    "x = np.ones((2,3))\n",
    "# 1 dimension array\n",
    "y = np.arange(3)\n",
    "x\n",
    "y\n",
    "\n",
    "x + y"
   ]
  },
  {
   "cell_type": "code",
   "execution_count": 470,
   "id": "13d633cd",
   "metadata": {},
   "outputs": [
    {
     "data": {
      "text/plain": [
       "array([[0],\n",
       "       [1],\n",
       "       [2]])"
      ]
     },
     "execution_count": 470,
     "metadata": {},
     "output_type": "execute_result"
    },
    {
     "data": {
      "text/plain": [
       "array([0, 1, 2])"
      ]
     },
     "execution_count": 470,
     "metadata": {},
     "output_type": "execute_result"
    },
    {
     "data": {
      "text/plain": [
       "array([[0, 1, 2],\n",
       "       [1, 2, 3],\n",
       "       [2, 3, 4]])"
      ]
     },
     "execution_count": 470,
     "metadata": {},
     "output_type": "execute_result"
    }
   ],
   "source": [
    "# Broadcasting ex 2\n",
    "a = np.arange(3).reshape((3,1))\n",
    "b = np.arange(3)\n",
    "\n",
    "a\n",
    "b\n",
    "\n",
    "a + b"
   ]
  },
  {
   "cell_type": "code",
   "execution_count": 474,
   "id": "914aa79f",
   "metadata": {},
   "outputs": [
    {
     "data": {
      "text/plain": [
       "array([[1., 1.],\n",
       "       [1., 1.],\n",
       "       [1., 1.]])"
      ]
     },
     "execution_count": 474,
     "metadata": {},
     "output_type": "execute_result"
    },
    {
     "data": {
      "text/plain": [
       "array([0, 1, 2])"
      ]
     },
     "execution_count": 474,
     "metadata": {},
     "output_type": "execute_result"
    },
    {
     "ename": "ValueError",
     "evalue": "operands could not be broadcast together with shapes (3,2) (3,) ",
     "output_type": "error",
     "traceback": [
      "\u001b[1;31m---------------------------------------------------------------------------\u001b[0m",
      "\u001b[1;31mValueError\u001b[0m                                Traceback (most recent call last)",
      "\u001b[1;32m<ipython-input-474-c78f6904568a>\u001b[0m in \u001b[0;36m<module>\u001b[1;34m\u001b[0m\n\u001b[0;32m      5\u001b[0m \u001b[0mb\u001b[0m\u001b[1;33m\u001b[0m\u001b[1;33m\u001b[0m\u001b[0m\n\u001b[0;32m      6\u001b[0m \u001b[1;33m\u001b[0m\u001b[0m\n\u001b[1;32m----> 7\u001b[1;33m \u001b[0ma\u001b[0m \u001b[1;33m+\u001b[0m \u001b[0mb\u001b[0m\u001b[1;33m\u001b[0m\u001b[1;33m\u001b[0m\u001b[0m\n\u001b[0m",
      "\u001b[1;31mValueError\u001b[0m: operands could not be broadcast together with shapes (3,2) (3,) "
     ]
    }
   ],
   "source": [
    "# Broadcasting ex 3\n",
    "a = np.ones((3,2))\n",
    "b = np.arange(3)\n",
    "a # 3x2\n",
    "b # 1x3\n",
    "\n",
    "a + b"
   ]
  },
  {
   "cell_type": "code",
   "execution_count": 477,
   "id": "7292e56c",
   "metadata": {},
   "outputs": [
    {
     "data": {
      "text/plain": [
       "array([[0],\n",
       "       [1],\n",
       "       [2]])"
      ]
     },
     "execution_count": 477,
     "metadata": {},
     "output_type": "execute_result"
    },
    {
     "data": {
      "text/plain": [
       "array([[1., 1.],\n",
       "       [1., 1.],\n",
       "       [1., 1.]])"
      ]
     },
     "execution_count": 477,
     "metadata": {},
     "output_type": "execute_result"
    },
    {
     "data": {
      "text/plain": [
       "array([[1., 1.],\n",
       "       [2., 2.],\n",
       "       [3., 3.]])"
      ]
     },
     "execution_count": 477,
     "metadata": {},
     "output_type": "execute_result"
    }
   ],
   "source": [
    "b[:, np.newaxis]\n",
    "a\n",
    "a + b[:, np.newaxis]"
   ]
  },
  {
   "cell_type": "code",
   "execution_count": 490,
   "id": "14d656c6",
   "metadata": {},
   "outputs": [
    {
     "data": {
      "text/plain": [
       "array([[2.71828183, 2.71828183],\n",
       "       [2.71828183, 2.71828183],\n",
       "       [2.71828183, 2.71828183]])"
      ]
     },
     "execution_count": 490,
     "metadata": {},
     "output_type": "execute_result"
    },
    {
     "data": {
      "text/plain": [
       "array([1.        , 2.71828183, 7.3890561 ])"
      ]
     },
     "execution_count": 490,
     "metadata": {},
     "output_type": "execute_result"
    }
   ],
   "source": [
    "np.exp(a)\n",
    "np.exp(b)\n",
    "\n",
    "# np.exp(b)[:, np.newaxis]\n",
    "# np.log(np.exp(a) + np.exp(b)[:, np.newaxis])"
   ]
  },
  {
   "cell_type": "code",
   "execution_count": 502,
   "id": "d831606e",
   "metadata": {
    "scrolled": true
   },
   "outputs": [
    {
     "data": {
      "text/plain": [
       "array([0, 1, 2])"
      ]
     },
     "execution_count": 502,
     "metadata": {},
     "output_type": "execute_result"
    },
    {
     "data": {
      "text/plain": [
       "array([[1, 1, 1],\n",
       "       [1, 1, 1],\n",
       "       [1, 1, 1]])"
      ]
     },
     "execution_count": 502,
     "metadata": {},
     "output_type": "execute_result"
    },
    {
     "data": {
      "text/plain": [
       "array([[1, 1],\n",
       "       [1, 1],\n",
       "       [1, 1]])"
      ]
     },
     "execution_count": 502,
     "metadata": {},
     "output_type": "execute_result"
    },
    {
     "data": {
      "text/plain": [
       "array([[1, 2, 3],\n",
       "       [1, 2, 3],\n",
       "       [1, 2, 3]])"
      ]
     },
     "execution_count": 502,
     "metadata": {},
     "output_type": "execute_result"
    },
    {
     "ename": "ValueError",
     "evalue": "operands could not be broadcast together with shapes (3,2) (3,) ",
     "output_type": "error",
     "traceback": [
      "\u001b[1;31m---------------------------------------------------------------------------\u001b[0m",
      "\u001b[1;31mValueError\u001b[0m                                Traceback (most recent call last)",
      "\u001b[1;32m<ipython-input-502-20feb4588e25>\u001b[0m in \u001b[0;36m<module>\u001b[1;34m\u001b[0m\n\u001b[0;32m     11\u001b[0m \u001b[0ma1\u001b[0m \u001b[1;33m+\u001b[0m \u001b[0ma2\u001b[0m\u001b[1;33m\u001b[0m\u001b[1;33m\u001b[0m\u001b[0m\n\u001b[0;32m     12\u001b[0m \u001b[1;33m\u001b[0m\u001b[0m\n\u001b[1;32m---> 13\u001b[1;33m \u001b[0ma3\u001b[0m \u001b[1;33m+\u001b[0m \u001b[0ma1\u001b[0m\u001b[1;33m\u001b[0m\u001b[1;33m\u001b[0m\u001b[0m\n\u001b[0m\u001b[0;32m     14\u001b[0m \u001b[1;31m# a3 + a1.reshape(3,1)\u001b[0m\u001b[1;33m\u001b[0m\u001b[1;33m\u001b[0m\u001b[1;33m\u001b[0m\u001b[0m\n",
      "\u001b[1;31mValueError\u001b[0m: operands could not be broadcast together with shapes (3,2) (3,) "
     ]
    }
   ],
   "source": [
    "# Broadcasting examples\n",
    "a1 = np.arange(3)\n",
    "a2 = np.ones((3,3),dtype='int')\n",
    "a3 = np.ones((3,2),dtype='int')\n",
    "a1\n",
    "a2\n",
    "a3\n",
    "# print(a1.shape,'\\n',a2.shape,'\\n',a3.shape)\n",
    "# a1 + 5\n",
    "\n",
    "a1 + a2\n",
    "\n",
    "a3 + a1\n",
    "# a3 + a1.reshape(3,1)\n"
   ]
  },
  {
   "cell_type": "code",
   "execution_count": 510,
   "id": "7033cf39",
   "metadata": {},
   "outputs": [
    {
     "data": {
      "text/plain": [
       "array([[0.1971993 , 0.2737172 , 0.80664559],\n",
       "       [0.12795214, 0.74832818, 0.15328873],\n",
       "       [0.64007825, 0.56112099, 0.99771693],\n",
       "       [0.59142874, 0.1258379 , 0.26427913],\n",
       "       [0.21400439, 0.56670611, 0.03711501],\n",
       "       [0.77855492, 0.12333906, 0.97831986],\n",
       "       [0.91493149, 0.48018112, 0.64199802],\n",
       "       [0.72634578, 0.76189613, 0.73617636],\n",
       "       [0.27554977, 0.51399161, 0.31250207],\n",
       "       [0.51614311, 0.33375313, 0.07894331]])"
      ]
     },
     "execution_count": 510,
     "metadata": {},
     "output_type": "execute_result"
    },
    {
     "data": {
      "text/plain": [
       "array([0.49821879, 0.44888714, 0.5006985 ])"
      ]
     },
     "execution_count": 510,
     "metadata": {},
     "output_type": "execute_result"
    }
   ],
   "source": [
    "# centering an arrays\n",
    "X = np.random.random((10,3))\n",
    "X\n",
    "X.mean(0)"
   ]
  },
  {
   "cell_type": "code",
   "execution_count": 3,
   "id": "b6825f82",
   "metadata": {},
   "outputs": [
    {
     "data": {
      "text/plain": [
       "array([ 1,  3,  6, 10, 15])"
      ]
     },
     "execution_count": 3,
     "metadata": {},
     "output_type": "execute_result"
    }
   ],
   "source": [
    "x = np.arange(1, 6)\n",
    "y = np.arange(2, 7)\n",
    "\n",
    "#np.add(x,y)\n",
    "\n",
    "#reduce: repeatedly applies a given operation to the elements of an array until only a single result remains.\n",
    "np.add.reduce(x)\n",
    "np.multiply.reduce(x)\n",
    "\n",
    "#store all the intermediate results of the computation\n",
    "np.add.accumulate(x)\n",
    "\n",
    "#create a multiplication table\n",
    "#np.outer : computer outer product of two vectors\n"
   ]
  },
  {
   "cell_type": "markdown",
   "id": "1e36459a",
   "metadata": {},
   "source": [
    "### Comparisons, Masks, and Boolean Logic\n",
    "\n",
    "- Masking comes up when you want to extract, modify, count, or otherwise manipulate values in an array based on some criterion\n",
    "    - Ex., count all values greater than a certain value\n",
    "    - Ex., remove all outliers that are above some threshold\n",
    "\n",
    "- Boolean masking: most efficient way to accomplish these types of tasks"
   ]
  },
  {
   "cell_type": "code",
   "execution_count": 781,
   "id": "b5bbcc4a",
   "metadata": {},
   "outputs": [],
   "source": [
    "pd.read_csv?"
   ]
  },
  {
   "cell_type": "code",
   "execution_count": 782,
   "id": "0b9ce3cc",
   "metadata": {},
   "outputs": [
    {
     "data": {
      "text/plain": [
       "numpy.ndarray"
      ]
     },
     "execution_count": 782,
     "metadata": {},
     "output_type": "execute_result"
    },
    {
     "data": {
      "text/plain": [
       "(365,)"
      ]
     },
     "execution_count": 782,
     "metadata": {},
     "output_type": "execute_result"
    }
   ],
   "source": [
    "import numpy as np\n",
    "import pandas as pd \n",
    "\n",
    "# https://github.com/jakevdp/PythonDataScienceHandbook/blob/master/notebooks/data/Seattle2014.csv\n",
    "\n",
    "# use Pandas to extract rainfall inces as a NumPy array\n",
    "rainfall = pd.read_csv('https://raw.githubusercontent.com/jakevdp/PythonDataScienceHandbook/master/notebooks/data/Seattle2014.csv')['PRCP'].values\n",
    "inches = rainfall/254 # 1/10mm -> inches\n",
    "type(inches)\n",
    "inches.shape"
   ]
  },
  {
   "cell_type": "code",
   "execution_count": 793,
   "id": "0a65f57b",
   "metadata": {},
   "outputs": [
    {
     "data": {
      "text/plain": [
       "(array([245.,  14.,  13.,  17.,   8.,   6.,   5.,   6.,   4.,   3.,   7.,\n",
       "          6.,   3.,   3.,   3.,   4.,   4.,   2.,   4.,   0.,   0.,   1.,\n",
       "          1.,   1.,   0.,   0.,   0.,   2.,   1.,   1.,   0.,   0.,   0.,\n",
       "          0.,   0.,   0.,   0.,   0.,   0.,   1.]),\n",
       " array([0.        , 0.04596457, 0.09192913, 0.1378937 , 0.18385827,\n",
       "        0.22982283, 0.2757874 , 0.32175197, 0.36771654, 0.4136811 ,\n",
       "        0.45964567, 0.50561024, 0.5515748 , 0.59753937, 0.64350394,\n",
       "        0.6894685 , 0.73543307, 0.78139764, 0.8273622 , 0.87332677,\n",
       "        0.91929134, 0.96525591, 1.01122047, 1.05718504, 1.10314961,\n",
       "        1.14911417, 1.19507874, 1.24104331, 1.28700787, 1.33297244,\n",
       "        1.37893701, 1.42490157, 1.47086614, 1.51683071, 1.56279528,\n",
       "        1.60875984, 1.65472441, 1.70068898, 1.74665354, 1.79261811,\n",
       "        1.83858268]),\n",
       " <BarContainer object of 40 artists>)"
      ]
     },
     "execution_count": 793,
     "metadata": {},
     "output_type": "execute_result"
    },
    {
     "data": {
      "image/png": "[encoded data removed]",
      "text/plain": [
       "<Figure size 432x288 with 1 Axes>"
      ]
     },
     "metadata": {},
     "output_type": "display_data"
    }
   ],
   "source": [
    "%matplotlib inline\n",
    "import matplotlib.pyplot as plt\n",
    "import seaborn; seaborn.set() # set plot styles\n",
    "plt.hist(inches, 40, orientation='horizontal')"
   ]
  },
  {
   "cell_type": "code",
   "execution_count": 792,
   "id": "f534a374",
   "metadata": {},
   "outputs": [],
   "source": [
    "plt.hist?"
   ]
  },
  {
   "cell_type": "markdown",
   "id": "9a724896",
   "metadata": {},
   "source": [
    "#### Comparison Operators as ufuncs\n",
    "\n",
    "NumPy also implements comparison operators such as < (less than) and > (greater than) as element-wise ufuncs."
   ]
  },
  {
   "cell_type": "code",
   "execution_count": 543,
   "id": "520f843d",
   "metadata": {},
   "outputs": [
    {
     "data": {
      "text/plain": [
       "array([ True,  True, False, False, False])"
      ]
     },
     "execution_count": 543,
     "metadata": {},
     "output_type": "execute_result"
    },
    {
     "data": {
      "text/plain": [
       "array([ True,  True,  True, False, False])"
      ]
     },
     "execution_count": 543,
     "metadata": {},
     "output_type": "execute_result"
    },
    {
     "data": {
      "text/plain": [
       "array([ True,  True, False,  True,  True])"
      ]
     },
     "execution_count": 543,
     "metadata": {},
     "output_type": "execute_result"
    },
    {
     "data": {
      "text/plain": [
       "array([False, False,  True, False, False])"
      ]
     },
     "execution_count": 543,
     "metadata": {},
     "output_type": "execute_result"
    }
   ],
   "source": [
    "x = np.array([1, 2, 3, 4, 5])\n",
    "x < 3\n",
    "x <= 3\n",
    "x != 3\n",
    "x == 3"
   ]
  },
  {
   "cell_type": "code",
   "execution_count": 544,
   "id": "26b461ee",
   "metadata": {},
   "outputs": [
    {
     "data": {
      "text/plain": [
       "array([False,  True, False, False, False])"
      ]
     },
     "execution_count": 544,
     "metadata": {},
     "output_type": "execute_result"
    }
   ],
   "source": [
    "# element-by-element comparison of 2 arrays\n",
    "# ompound expressions\n",
    "(2 * x) == (x ** 2)"
   ]
  },
  {
   "cell_type": "code",
   "execution_count": 546,
   "id": "b4a394b9",
   "metadata": {},
   "outputs": [
    {
     "data": {
      "text/plain": [
       "array([ True,  True, False, False, False])"
      ]
     },
     "execution_count": 546,
     "metadata": {},
     "output_type": "execute_result"
    },
    {
     "data": {
      "text/plain": [
       "array([ True,  True, False, False, False])"
      ]
     },
     "execution_count": 546,
     "metadata": {},
     "output_type": "execute_result"
    }
   ],
   "source": [
    "# compraison operators are implemented as ufuncs in NumPy\n",
    "x < 3\n",
    "np.less(x, 3)"
   ]
  },
  {
   "cell_type": "markdown",
   "id": "26cb7c77",
   "metadata": {},
   "source": [
    "| Operator | Equivalent ufunc |\n",
    "|----------|------------------|\n",
    "| ==       | np.equal         |\n",
    "| !=       | np.not_equal     |\n",
    "| <        | np.less          |\n",
    "| <=       | np.less_equal    |\n",
    "| >        | np.greater       |\n",
    "| >=       | np.greater_equal |"
   ]
  },
  {
   "cell_type": "code",
   "execution_count": 794,
   "id": "87aae6b5",
   "metadata": {},
   "outputs": [
    {
     "data": {
      "text/plain": [
       "array([[5, 0, 3, 3],\n",
       "       [7, 9, 3, 5],\n",
       "       [2, 4, 7, 6]])"
      ]
     },
     "execution_count": 794,
     "metadata": {},
     "output_type": "execute_result"
    },
    {
     "data": {
      "text/plain": [
       "array([[ True,  True,  True,  True],\n",
       "       [False, False,  True,  True],\n",
       "       [ True,  True, False, False]])"
      ]
     },
     "execution_count": 794,
     "metadata": {},
     "output_type": "execute_result"
    },
    {
     "data": {
      "text/plain": [
       "array([[ True,  True,  True,  True],\n",
       "       [False, False,  True,  True],\n",
       "       [ True,  True, False, False]])"
      ]
     },
     "execution_count": 794,
     "metadata": {},
     "output_type": "execute_result"
    }
   ],
   "source": [
    "# it works on any size array\n",
    "rng = np.random.RandomState(0)\n",
    "# np.seeds(0)\n",
    "x = rng.randint(10, size = (3,4))\n",
    "x\n",
    "\n",
    "x < 6 \n",
    "# equivalent ufuncs in Numpy\n",
    "np.less(x, 6)"
   ]
  },
  {
   "cell_type": "markdown",
   "id": "c7f81278",
   "metadata": {},
   "source": [
    "#### Working with boolean arrays\n",
    "\n",
    "- `&` np.bitwise_and\n",
    "- `|` np.bitwise_or\n",
    "- `^` np.bitwise_xor\n",
    "- `~` np.bitwise_not\n",
    "\n",
    "Note: Python has built-in `sum()`, `any()`, and `all()` functions. These have different syntax than the NumPy versions. So you need to use `np.sum()`, `np.any()`, and `np.all()` for these instances."
   ]
  },
  {
   "cell_type": "code",
   "execution_count": 801,
   "id": "8a193de9",
   "metadata": {
    "scrolled": true
   },
   "outputs": [
    {
     "data": {
      "text/plain": [
       "array([[5, 0, 3, 3],\n",
       "       [7, 9, 3, 5],\n",
       "       [2, 4, 7, 6]])"
      ]
     },
     "execution_count": 801,
     "metadata": {},
     "output_type": "execute_result"
    },
    {
     "data": {
      "text/plain": [
       "11"
      ]
     },
     "execution_count": 801,
     "metadata": {},
     "output_type": "execute_result"
    },
    {
     "data": {
      "text/plain": [
       "54"
      ]
     },
     "execution_count": 801,
     "metadata": {},
     "output_type": "execute_result"
    },
    {
     "data": {
      "text/plain": [
       "1"
      ]
     },
     "execution_count": 801,
     "metadata": {},
     "output_type": "execute_result"
    },
    {
     "data": {
      "text/plain": [
       "array([4, 2, 2])"
      ]
     },
     "execution_count": 801,
     "metadata": {},
     "output_type": "execute_result"
    }
   ],
   "source": [
    "# counting entries\n",
    "x\n",
    "\n",
    "# how many nonzero entries\n",
    "np.count_nonzero(x)\n",
    "\n",
    "# summation of entries\n",
    "np.sum(x)\n",
    "\n",
    "# count # of entries satisfying requirements\n",
    "np.sum(x == 6)\n",
    "\n",
    "# summation can be done along rows or columns\n",
    "# how many values less than 6 in each row\n",
    "np.sum(x < 6, axis = 1)"
   ]
  },
  {
   "cell_type": "code",
   "execution_count": 798,
   "id": "4ca6c2c7",
   "metadata": {},
   "outputs": [],
   "source": [
    "np.sum?"
   ]
  },
  {
   "cell_type": "code",
   "execution_count": 813,
   "id": "6d78a571",
   "metadata": {},
   "outputs": [
    {
     "name": "stdout",
     "output_type": "stream",
     "text": [
      "[[38 13 73 10]\n",
      " [76  6 80 65]\n",
      " [17  2 77 72]]\n"
     ]
    },
    {
     "data": {
      "text/plain": [
       "True"
      ]
     },
     "execution_count": 813,
     "metadata": {},
     "output_type": "execute_result"
    },
    {
     "data": {
      "text/plain": [
       "array([ True,  True,  True,  True])"
      ]
     },
     "execution_count": 813,
     "metadata": {},
     "output_type": "execute_result"
    },
    {
     "data": {
      "text/plain": [
       "array([ True, False, False])"
      ]
     },
     "execution_count": 813,
     "metadata": {},
     "output_type": "execute_result"
    },
    {
     "data": {
      "text/plain": [
       "array([76,  6, 80, 65])"
      ]
     },
     "execution_count": 813,
     "metadata": {},
     "output_type": "execute_result"
    },
    {
     "data": {
      "text/plain": [
       "array([[ True,  True,  True,  True],\n",
       "       [ True, False,  True,  True],\n",
       "       [ True, False,  True,  True]])"
      ]
     },
     "execution_count": 813,
     "metadata": {},
     "output_type": "execute_result"
    },
    {
     "data": {
      "text/plain": [
       "array([6])"
      ]
     },
     "execution_count": 813,
     "metadata": {},
     "output_type": "execute_result"
    }
   ],
   "source": [
    "# more examples\n",
    "np.random.seed(1) # same as np.random.RandomState()\n",
    "x = np.random.randint(1,100,(3,4))\n",
    "\n",
    "print(x)\n",
    "\n",
    "# are there any values greater than 8?\n",
    "# return boolean\n",
    "np.any(x > 8)\n",
    "\n",
    "# are there any values in each column greater than 8 \n",
    "# return boolean in an array\n",
    "np.any(x > 8, axis = 0)\n",
    "\n",
    "# are all values in each row less than 8?\n",
    "# return boolean in array\n",
    "np.all(x > 8, axis = 1)\n",
    "\n",
    "# indexing\n",
    "x[1]\n",
    "\n",
    "# what values are greater than 8?\n",
    "x > 8\n",
    "x[x > 8]"
   ]
  },
  {
   "cell_type": "code",
   "execution_count": 815,
   "id": "934b7843",
   "metadata": {},
   "outputs": [
    {
     "data": {
      "text/plain": [
       "29"
      ]
     },
     "execution_count": 815,
     "metadata": {},
     "output_type": "execute_result"
    }
   ],
   "source": [
    "# boolean operators\n",
    "# both are true -> true\n",
    "# inches\n",
    "np.sum((inches > 0.5) & (inches < 1))"
   ]
  },
  {
   "cell_type": "code",
   "execution_count": 606,
   "id": "ee8212d2",
   "metadata": {},
   "outputs": [
    {
     "data": {
      "text/plain": [
       "29"
      ]
     },
     "execution_count": 606,
     "metadata": {},
     "output_type": "execute_result"
    }
   ],
   "source": [
    "# either one is true -> true\n",
    "# both are false -> false\n",
    "np.sum(~((inches <= 0.5) | (inches >= 1))) "
   ]
  },
  {
   "cell_type": "markdown",
   "id": "1c7c803b",
   "metadata": {},
   "source": [
    "#### Boolean array as masks"
   ]
  },
  {
   "cell_type": "code",
   "execution_count": 621,
   "id": "645ca362",
   "metadata": {},
   "outputs": [
    {
     "data": {
      "text/plain": [
       "array([[38, 13, 73, 10],\n",
       "       [76,  6, 80, 65],\n",
       "       [17,  2, 77, 72]])"
      ]
     },
     "execution_count": 621,
     "metadata": {},
     "output_type": "execute_result"
    },
    {
     "data": {
      "text/plain": [
       "array([[False, False, False, False],\n",
       "       [False, False, False, False],\n",
       "       [False,  True, False, False]])"
      ]
     },
     "execution_count": 621,
     "metadata": {},
     "output_type": "execute_result"
    },
    {
     "data": {
      "text/plain": [
       "array([2])"
      ]
     },
     "execution_count": 621,
     "metadata": {},
     "output_type": "execute_result"
    }
   ],
   "source": [
    "# array\n",
    "x\n",
    "\n",
    "# obtain a boolean array for the condition\n",
    "x < 5\n",
    "\n",
    "# select these values from the array\n",
    "x[x < 5]"
   ]
  },
  {
   "cell_type": "code",
   "execution_count": 829,
   "id": "027f9170",
   "metadata": {},
   "outputs": [
    {
     "data": {
      "text/plain": [
       "array([0.        , 0.        , 0.        , 0.        , 0.07086614,\n",
       "       0.09055118, 0.        , 0.        , 0.        , 0.        ,\n",
       "       0.        , 0.        , 0.        , 0.        , 0.        ,\n",
       "       0.        , 0.        , 0.        , 0.        , 0.        ,\n",
       "       0.        , 0.        , 0.        , 0.        , 0.        ,\n",
       "       0.        , 0.        , 0.        , 0.        , 0.01181102,\n",
       "       0.75984252, 0.        , 0.        , 0.        , 0.        ,\n",
       "       0.        , 0.        , 0.        , 0.        , 0.        ,\n",
       "       0.01968504, 0.        , 0.        , 0.        , 0.        ,\n",
       "       0.        , 0.        , 0.        , 0.        , 0.01968504,\n",
       "       0.5       , 0.8503937 , 0.        , 0.03937008, 0.        ,\n",
       "       0.        , 0.        , 0.        , 0.        , 0.        ,\n",
       "       0.        , 0.        , 0.        , 0.        , 0.        ,\n",
       "       0.        , 0.        , 0.        , 0.33070866, 0.0511811 ,\n",
       "       0.        , 0.11811024, 0.        , 0.        , 0.        ,\n",
       "       0.        , 0.        , 0.        , 0.        , 0.        ,\n",
       "       0.        , 0.        , 0.        , 0.        , 0.        ,\n",
       "       0.        , 0.01968504, 0.01181102, 0.        ])"
      ]
     },
     "execution_count": 829,
     "metadata": {},
     "output_type": "execute_result"
    }
   ],
   "source": [
    "inches[summer]"
   ]
  },
  {
   "cell_type": "code",
   "execution_count": 830,
   "id": "0abb5e97",
   "metadata": {},
   "outputs": [
    {
     "data": {
      "text/plain": [
       "0.19488188976377951"
      ]
     },
     "execution_count": 830,
     "metadata": {},
     "output_type": "execute_result"
    },
    {
     "data": {
      "text/plain": [
       "0.0"
      ]
     },
     "execution_count": 830,
     "metadata": {},
     "output_type": "execute_result"
    },
    {
     "data": {
      "text/plain": [
       "0.8503937007874016"
      ]
     },
     "execution_count": 830,
     "metadata": {},
     "output_type": "execute_result"
    },
    {
     "data": {
      "text/plain": [
       "0.2066929133858267"
      ]
     },
     "execution_count": 830,
     "metadata": {},
     "output_type": "execute_result"
    },
    {
     "data": {
      "text/plain": [
       "0.3356009726725335"
      ]
     },
     "execution_count": 830,
     "metadata": {},
     "output_type": "execute_result"
    }
   ],
   "source": [
    "# a mask of all rainy days\n",
    "rainy = (inches > 0)\n",
    "\n",
    "# a mask of all summer days (Jun 21st is the 172nd day in a year)\n",
    "summer = (np.arange(365) - 172 < 90) & (np.arange(365) - 172 > 0)\n",
    "\n",
    "# calculate median of the rain during rainy days over the year\n",
    "np.median(inches[rainy])\n",
    "# median of the rain in the summer days\n",
    "np.median(inches[summer])\n",
    "\n",
    "np.max(inches[summer])\n",
    "\n",
    "np.average(inches[rainy & summer])\n",
    "np.average(inches[rainy & ~summer])"
   ]
  },
  {
   "cell_type": "markdown",
   "id": "f4aa96e6",
   "metadata": {},
   "source": [
    "#### Using the Keywords and/or Versus the Operators & / |\n",
    "\n",
    "- `and` and `or` gauge the truth or falsehood of entire object\n",
    "    - When you use `and` or `or`, it’s equivalent to asking Python to treat the object as a single Boolean entity.\n",
    "    - In Python, all nonzero integers will evaluate as `True`\n",
    "    \n",
    "- `& `and `|` refer to bits within each object.\n",
    "    - When you use `&` and `|` on integers, the expression operates on the bits of the element\n",
    "    - applying the `and` or the `or` to the individual bits making up the number"
   ]
  },
  {
   "cell_type": "code",
   "execution_count": 657,
   "id": "ac3e9e03",
   "metadata": {},
   "outputs": [
    {
     "data": {
      "text/plain": [
       "(True, False)"
      ]
     },
     "execution_count": 657,
     "metadata": {},
     "output_type": "execute_result"
    },
    {
     "data": {
      "text/plain": [
       "False"
      ]
     },
     "execution_count": 657,
     "metadata": {},
     "output_type": "execute_result"
    },
    {
     "data": {
      "text/plain": [
       "True"
      ]
     },
     "execution_count": 657,
     "metadata": {},
     "output_type": "execute_result"
    }
   ],
   "source": [
    "bool(42), bool(0)\n",
    "\n",
    "bool(42 and 0)\n",
    "\n",
    "bool(42 or 0)"
   ]
  },
  {
   "cell_type": "code",
   "execution_count": 655,
   "id": "e36782ff",
   "metadata": {},
   "outputs": [
    {
     "data": {
      "text/plain": [
       "'0b101010'"
      ]
     },
     "execution_count": 655,
     "metadata": {},
     "output_type": "execute_result"
    },
    {
     "data": {
      "text/plain": [
       "'0b111011'"
      ]
     },
     "execution_count": 655,
     "metadata": {},
     "output_type": "execute_result"
    },
    {
     "data": {
      "text/plain": [
       "'0b101010'"
      ]
     },
     "execution_count": 655,
     "metadata": {},
     "output_type": "execute_result"
    },
    {
     "data": {
      "text/plain": [
       "'0b111011'"
      ]
     },
     "execution_count": 655,
     "metadata": {},
     "output_type": "execute_result"
    }
   ],
   "source": [
    "# bin() method converts a specified integer number to its binary representation\n",
    "bin(42)\n",
    "bin(59)\n",
    "\n",
    "bin(42 & 59)\n",
    "\n",
    "bin(42 | 59)"
   ]
  },
  {
   "cell_type": "code",
   "execution_count": 663,
   "id": "0638f2ce",
   "metadata": {},
   "outputs": [
    {
     "data": {
      "text/plain": [
       "array([ True, False,  True, False,  True, False])"
      ]
     },
     "execution_count": 663,
     "metadata": {},
     "output_type": "execute_result"
    },
    {
     "data": {
      "text/plain": [
       "array([ True,  True,  True, False,  True,  True])"
      ]
     },
     "execution_count": 663,
     "metadata": {},
     "output_type": "execute_result"
    }
   ],
   "source": [
    "# in NumPy array of boolean values\n",
    "# a string of bits 1 = True and 0 = False\n",
    "A = np.array([1, 0, 1, 0, 1, 0], dtype = bool)\n",
    "B = np.array([1, 1, 1, 0, 1, 1], dtype = bool)\n",
    "A & B\n",
    "A | B"
   ]
  },
  {
   "cell_type": "code",
   "execution_count": 664,
   "id": "77368dc1",
   "metadata": {},
   "outputs": [
    {
     "ename": "ValueError",
     "evalue": "The truth value of an array with more than one element is ambiguous. Use a.any() or a.all()",
     "output_type": "error",
     "traceback": [
      "\u001b[1;31m---------------------------------------------------------------------------\u001b[0m",
      "\u001b[1;31mValueError\u001b[0m                                Traceback (most recent call last)",
      "\u001b[1;32m<ipython-input-664-0cc67685677c>\u001b[0m in \u001b[0;36m<module>\u001b[1;34m\u001b[0m\n\u001b[1;32m----> 1\u001b[1;33m \u001b[0mA\u001b[0m \u001b[1;32mand\u001b[0m \u001b[0mB\u001b[0m\u001b[1;33m\u001b[0m\u001b[1;33m\u001b[0m\u001b[0m\n\u001b[0m",
      "\u001b[1;31mValueError\u001b[0m: The truth value of an array with more than one element is ambiguous. Use a.any() or a.all()"
     ]
    }
   ],
   "source": [
    "# Use and will evaluate the truth or falsehood of the entire array object\n",
    "# which is not well-defined\n",
    "A and B"
   ]
  },
  {
   "cell_type": "code",
   "execution_count": 674,
   "id": "5f677c48",
   "metadata": {},
   "outputs": [
    {
     "data": {
      "text/plain": [
       "array([0, 1, 2, 3, 4, 5, 6, 7, 8, 9])"
      ]
     },
     "execution_count": 674,
     "metadata": {},
     "output_type": "execute_result"
    },
    {
     "data": {
      "text/plain": [
       "array([False, False, False, False, False,  True,  True,  True, False,\n",
       "       False])"
      ]
     },
     "execution_count": 674,
     "metadata": {},
     "output_type": "execute_result"
    }
   ],
   "source": [
    "# when using boolean expression on given array\n",
    "# use | or & rather than or or and\n",
    "x = np.arange(10)\n",
    "x\n",
    "\n",
    "(x > 4) & (x < 8)"
   ]
  },
  {
   "cell_type": "markdown",
   "id": "4880ed35",
   "metadata": {},
   "source": [
    "### Practice \n",
    "\n",
    "Work with `president_heights.csv` dataset.\n",
    "1. Use `df = pd.read_csv(url, index_col = 0)` to load the data into Jupyter Notebook and assign it to the object `df`. The link of the dataset is https://raw.githubusercontent.com/jakevdp/PythonDataScienceHandbook/master/notebooks/data/president_heights.csv.\n",
    "\n",
    "2. Extract the height column and convert data table to Numpy array using `height = np.array(df['height(cm)'])`.\n",
    "\n",
    "3. Find mean, median, min, and max in the `height` array. \n",
    "\n",
    "4. Find heights greater than 165cm and less than 185cm."
   ]
  },
  {
   "cell_type": "code",
   "execution_count": 831,
   "id": "07d4155c",
   "metadata": {},
   "outputs": [
    {
     "data": {
      "text/html": [
       "<div>\n",
       "<style scoped>\n",
       "    .dataframe tbody tr th:only-of-type {\n",
       "        vertical-align: middle;\n",
       "    }\n",
       "\n",
       "    .dataframe tbody tr th {\n",
       "        vertical-align: top;\n",
       "    }\n",
       "\n",
       "    .dataframe thead th {\n",
       "        text-align: right;\n",
       "    }\n",
       "</style>\n",
       "<table border=\"1\" class=\"dataframe\">\n",
       "  <thead>\n",
       "    <tr style=\"text-align: right;\">\n",
       "      <th></th>\n",
       "      <th>name</th>\n",
       "      <th>height(cm)</th>\n",
       "    </tr>\n",
       "    <tr>\n",
       "      <th>order</th>\n",
       "      <th></th>\n",
       "      <th></th>\n",
       "    </tr>\n",
       "  </thead>\n",
       "  <tbody>\n",
       "    <tr>\n",
       "      <th>1</th>\n",
       "      <td>George Washington</td>\n",
       "      <td>189</td>\n",
       "    </tr>\n",
       "    <tr>\n",
       "      <th>2</th>\n",
       "      <td>John Adams</td>\n",
       "      <td>170</td>\n",
       "    </tr>\n",
       "    <tr>\n",
       "      <th>3</th>\n",
       "      <td>Thomas Jefferson</td>\n",
       "      <td>189</td>\n",
       "    </tr>\n",
       "    <tr>\n",
       "      <th>4</th>\n",
       "      <td>James Madison</td>\n",
       "      <td>163</td>\n",
       "    </tr>\n",
       "    <tr>\n",
       "      <th>5</th>\n",
       "      <td>James Monroe</td>\n",
       "      <td>183</td>\n",
       "    </tr>\n",
       "    <tr>\n",
       "      <th>6</th>\n",
       "      <td>John Quincy Adams</td>\n",
       "      <td>171</td>\n",
       "    </tr>\n",
       "    <tr>\n",
       "      <th>7</th>\n",
       "      <td>Andrew Jackson</td>\n",
       "      <td>185</td>\n",
       "    </tr>\n",
       "    <tr>\n",
       "      <th>8</th>\n",
       "      <td>Martin Van Buren</td>\n",
       "      <td>168</td>\n",
       "    </tr>\n",
       "    <tr>\n",
       "      <th>9</th>\n",
       "      <td>William Henry Harrison</td>\n",
       "      <td>173</td>\n",
       "    </tr>\n",
       "    <tr>\n",
       "      <th>10</th>\n",
       "      <td>John Tyler</td>\n",
       "      <td>183</td>\n",
       "    </tr>\n",
       "    <tr>\n",
       "      <th>11</th>\n",
       "      <td>James K. Polk</td>\n",
       "      <td>173</td>\n",
       "    </tr>\n",
       "    <tr>\n",
       "      <th>12</th>\n",
       "      <td>Zachary Taylor</td>\n",
       "      <td>173</td>\n",
       "    </tr>\n",
       "    <tr>\n",
       "      <th>13</th>\n",
       "      <td>Millard Fillmore</td>\n",
       "      <td>175</td>\n",
       "    </tr>\n",
       "    <tr>\n",
       "      <th>14</th>\n",
       "      <td>Franklin Pierce</td>\n",
       "      <td>178</td>\n",
       "    </tr>\n",
       "    <tr>\n",
       "      <th>15</th>\n",
       "      <td>James Buchanan</td>\n",
       "      <td>183</td>\n",
       "    </tr>\n",
       "    <tr>\n",
       "      <th>16</th>\n",
       "      <td>Abraham Lincoln</td>\n",
       "      <td>193</td>\n",
       "    </tr>\n",
       "    <tr>\n",
       "      <th>17</th>\n",
       "      <td>Andrew Johnson</td>\n",
       "      <td>178</td>\n",
       "    </tr>\n",
       "    <tr>\n",
       "      <th>18</th>\n",
       "      <td>Ulysses S. Grant</td>\n",
       "      <td>173</td>\n",
       "    </tr>\n",
       "    <tr>\n",
       "      <th>19</th>\n",
       "      <td>Rutherford B. Hayes</td>\n",
       "      <td>174</td>\n",
       "    </tr>\n",
       "    <tr>\n",
       "      <th>20</th>\n",
       "      <td>James A. Garfield</td>\n",
       "      <td>183</td>\n",
       "    </tr>\n",
       "    <tr>\n",
       "      <th>21</th>\n",
       "      <td>Chester A. Arthur</td>\n",
       "      <td>183</td>\n",
       "    </tr>\n",
       "    <tr>\n",
       "      <th>23</th>\n",
       "      <td>Benjamin Harrison</td>\n",
       "      <td>168</td>\n",
       "    </tr>\n",
       "    <tr>\n",
       "      <th>25</th>\n",
       "      <td>William McKinley</td>\n",
       "      <td>170</td>\n",
       "    </tr>\n",
       "    <tr>\n",
       "      <th>26</th>\n",
       "      <td>Theodore Roosevelt</td>\n",
       "      <td>178</td>\n",
       "    </tr>\n",
       "    <tr>\n",
       "      <th>27</th>\n",
       "      <td>William Howard Taft</td>\n",
       "      <td>182</td>\n",
       "    </tr>\n",
       "    <tr>\n",
       "      <th>28</th>\n",
       "      <td>Woodrow Wilson</td>\n",
       "      <td>180</td>\n",
       "    </tr>\n",
       "    <tr>\n",
       "      <th>29</th>\n",
       "      <td>Warren G. Harding</td>\n",
       "      <td>183</td>\n",
       "    </tr>\n",
       "    <tr>\n",
       "      <th>30</th>\n",
       "      <td>Calvin Coolidge</td>\n",
       "      <td>178</td>\n",
       "    </tr>\n",
       "    <tr>\n",
       "      <th>31</th>\n",
       "      <td>Herbert Hoover</td>\n",
       "      <td>182</td>\n",
       "    </tr>\n",
       "    <tr>\n",
       "      <th>32</th>\n",
       "      <td>Franklin D. Roosevelt</td>\n",
       "      <td>188</td>\n",
       "    </tr>\n",
       "    <tr>\n",
       "      <th>33</th>\n",
       "      <td>Harry S. Truman</td>\n",
       "      <td>175</td>\n",
       "    </tr>\n",
       "    <tr>\n",
       "      <th>34</th>\n",
       "      <td>Dwight D. Eisenhower</td>\n",
       "      <td>179</td>\n",
       "    </tr>\n",
       "    <tr>\n",
       "      <th>35</th>\n",
       "      <td>John F. Kennedy</td>\n",
       "      <td>183</td>\n",
       "    </tr>\n",
       "    <tr>\n",
       "      <th>36</th>\n",
       "      <td>Lyndon B. Johnson</td>\n",
       "      <td>193</td>\n",
       "    </tr>\n",
       "    <tr>\n",
       "      <th>37</th>\n",
       "      <td>Richard Nixon</td>\n",
       "      <td>182</td>\n",
       "    </tr>\n",
       "    <tr>\n",
       "      <th>38</th>\n",
       "      <td>Gerald Ford</td>\n",
       "      <td>183</td>\n",
       "    </tr>\n",
       "    <tr>\n",
       "      <th>39</th>\n",
       "      <td>Jimmy Carter</td>\n",
       "      <td>177</td>\n",
       "    </tr>\n",
       "    <tr>\n",
       "      <th>40</th>\n",
       "      <td>Ronald Reagan</td>\n",
       "      <td>185</td>\n",
       "    </tr>\n",
       "    <tr>\n",
       "      <th>41</th>\n",
       "      <td>George H. W. Bush</td>\n",
       "      <td>188</td>\n",
       "    </tr>\n",
       "    <tr>\n",
       "      <th>42</th>\n",
       "      <td>Bill Clinton</td>\n",
       "      <td>188</td>\n",
       "    </tr>\n",
       "    <tr>\n",
       "      <th>43</th>\n",
       "      <td>George W. Bush</td>\n",
       "      <td>182</td>\n",
       "    </tr>\n",
       "    <tr>\n",
       "      <th>44</th>\n",
       "      <td>Barack Obama</td>\n",
       "      <td>185</td>\n",
       "    </tr>\n",
       "  </tbody>\n",
       "</table>\n",
       "</div>"
      ],
      "text/plain": [
       "                         name  height(cm)\n",
       "order                                    \n",
       "1           George Washington         189\n",
       "2                  John Adams         170\n",
       "3            Thomas Jefferson         189\n",
       "4               James Madison         163\n",
       "5                James Monroe         183\n",
       "6           John Quincy Adams         171\n",
       "7              Andrew Jackson         185\n",
       "8            Martin Van Buren         168\n",
       "9      William Henry Harrison         173\n",
       "10                 John Tyler         183\n",
       "11              James K. Polk         173\n",
       "12             Zachary Taylor         173\n",
       "13           Millard Fillmore         175\n",
       "14            Franklin Pierce         178\n",
       "15             James Buchanan         183\n",
       "16            Abraham Lincoln         193\n",
       "17             Andrew Johnson         178\n",
       "18           Ulysses S. Grant         173\n",
       "19        Rutherford B. Hayes         174\n",
       "20          James A. Garfield         183\n",
       "21          Chester A. Arthur         183\n",
       "23          Benjamin Harrison         168\n",
       "25           William McKinley         170\n",
       "26         Theodore Roosevelt         178\n",
       "27        William Howard Taft         182\n",
       "28             Woodrow Wilson         180\n",
       "29          Warren G. Harding         183\n",
       "30            Calvin Coolidge         178\n",
       "31             Herbert Hoover         182\n",
       "32      Franklin D. Roosevelt         188\n",
       "33            Harry S. Truman         175\n",
       "34       Dwight D. Eisenhower         179\n",
       "35            John F. Kennedy         183\n",
       "36          Lyndon B. Johnson         193\n",
       "37              Richard Nixon         182\n",
       "38                Gerald Ford         183\n",
       "39               Jimmy Carter         177\n",
       "40              Ronald Reagan         185\n",
       "41          George H. W. Bush         188\n",
       "42               Bill Clinton         188\n",
       "43             George W. Bush         182\n",
       "44               Barack Obama         185"
      ]
     },
     "execution_count": 831,
     "metadata": {},
     "output_type": "execute_result"
    }
   ],
   "source": [
    "#president_heights.csv\n",
    "\n",
    "#https://github.com/jakevdp/PythonDataScienceHandbook/blob/master/notebooks/data/president_heights.csv\n",
    "\n",
    "import pandas as pd\n",
    "url = 'https://raw.githubusercontent.com/jakevdp/PythonDataScienceHandbook/master/notebooks/data/president_heights.csv'\n",
    "df = pd.read_csv(url,index_col = 0)\n",
    "df"
   ]
  },
  {
   "cell_type": "code",
   "execution_count": 832,
   "id": "91607246",
   "metadata": {},
   "outputs": [
    {
     "data": {
      "text/plain": [
       "pandas.core.frame.DataFrame"
      ]
     },
     "execution_count": 832,
     "metadata": {},
     "output_type": "execute_result"
    }
   ],
   "source": [
    "type(df)"
   ]
  },
  {
   "cell_type": "code",
   "execution_count": 834,
   "id": "2cf396e5",
   "metadata": {},
   "outputs": [
    {
     "data": {
      "text/plain": [
       "array([189, 170, 189, 163, 183, 171, 185, 168, 173, 183, 173, 173, 175,\n",
       "       178, 183, 193, 178, 173, 174, 183, 183, 168, 170, 178, 182, 180,\n",
       "       183, 178, 182, 188, 175, 179, 183, 193, 182, 183, 177, 185, 188,\n",
       "       188, 182, 185], dtype=int64)"
      ]
     },
     "execution_count": 834,
     "metadata": {},
     "output_type": "execute_result"
    }
   ],
   "source": [
    "height = np.array(df['height(cm)'])\n",
    "height"
   ]
  },
  {
   "cell_type": "code",
   "execution_count": 839,
   "id": "27136384",
   "metadata": {},
   "outputs": [
    {
     "data": {
      "text/plain": [
       "179.73809523809524"
      ]
     },
     "execution_count": 839,
     "metadata": {},
     "output_type": "execute_result"
    },
    {
     "data": {
      "text/plain": [
       "6.931843442745892"
      ]
     },
     "execution_count": 839,
     "metadata": {},
     "output_type": "execute_result"
    },
    {
     "data": {
      "text/plain": [
       "163"
      ]
     },
     "execution_count": 839,
     "metadata": {},
     "output_type": "execute_result"
    },
    {
     "data": {
      "text/plain": [
       "193"
      ]
     },
     "execution_count": 839,
     "metadata": {},
     "output_type": "execute_result"
    }
   ],
   "source": [
    "# use NumPy functions\n",
    "np.average(height)\n",
    "np.std(height)\n",
    "np.min(height)\n",
    "np.max(height)"
   ]
  },
  {
   "cell_type": "code",
   "execution_count": 835,
   "id": "03fffbc3",
   "metadata": {},
   "outputs": [
    {
     "name": "stdout",
     "output_type": "stream",
     "text": [
      "Mean height:  179.73809523809524\n",
      "Standard deviation: 6.931843442745892\n",
      "Minimum height:  163\n",
      "Maximum height:  193\n"
     ]
    }
   ],
   "source": [
    "#check basic statistics\n",
    "print(\"Mean height: \", height.mean())\n",
    "print(\"Standard deviation:\", height.std())\n",
    "print(\"Minimum height: \", height.min())\n",
    "print(\"Maximum height: \", height.max())"
   ]
  },
  {
   "cell_type": "code",
   "execution_count": 842,
   "id": "41fd45fc",
   "metadata": {},
   "outputs": [
    {
     "data": {
      "text/plain": [
       "array([170, 183, 171, 168, 173, 183, 173, 173, 175, 178, 183, 178, 173,\n",
       "       174, 183, 183, 168, 170, 178, 182, 180, 183, 178, 182, 175, 179,\n",
       "       183, 182, 183, 177, 182], dtype=int64)"
      ]
     },
     "execution_count": 842,
     "metadata": {},
     "output_type": "execute_result"
    }
   ],
   "source": [
    "#find heights greater than 165cm and less than 185cm\n",
    "height[(height > 165) & (height < 185)]"
   ]
  },
  {
   "cell_type": "markdown",
   "id": "6126a64e",
   "metadata": {},
   "source": [
    "### Sorting arrays\n",
    "\n",
    "There are some algorithms related to sorting values in NumPy arrays."
   ]
  },
  {
   "cell_type": "code",
   "execution_count": 843,
   "id": "1716b547",
   "metadata": {},
   "outputs": [
    {
     "name": "stdout",
     "output_type": "stream",
     "text": [
      "[[38 13 73 10]\n",
      " [76  6 80 65]\n",
      " [17  2 77 72]]\n"
     ]
    },
    {
     "data": {
      "text/plain": [
       "array([[10, 13, 38, 73],\n",
       "       [ 6, 65, 76, 80],\n",
       "       [ 2, 17, 72, 77]])"
      ]
     },
     "execution_count": 843,
     "metadata": {},
     "output_type": "execute_result"
    },
    {
     "data": {
      "text/plain": [
       "array([[17,  2, 73, 10],\n",
       "       [38,  6, 77, 65],\n",
       "       [76, 13, 80, 72]])"
      ]
     },
     "execution_count": 843,
     "metadata": {},
     "output_type": "execute_result"
    },
    {
     "data": {
      "text/plain": [
       "array([[3, 1, 0, 2],\n",
       "       [1, 3, 0, 2],\n",
       "       [1, 0, 3, 2]], dtype=int64)"
      ]
     },
     "execution_count": 843,
     "metadata": {},
     "output_type": "execute_result"
    },
    {
     "data": {
      "text/plain": [
       "array([[2, 2, 0, 0],\n",
       "       [0, 1, 2, 1],\n",
       "       [1, 0, 1, 2]], dtype=int64)"
      ]
     },
     "execution_count": 843,
     "metadata": {},
     "output_type": "execute_result"
    },
    {
     "data": {
      "text/plain": [
       "numpy.ndarray"
      ]
     },
     "execution_count": 843,
     "metadata": {},
     "output_type": "execute_result"
    }
   ],
   "source": [
    "#sorting\n",
    "np.random.seed(1)\n",
    "x = np.random.randint(1,100,(3,4))\n",
    "\n",
    "print(x)\n",
    "#np.sort()\n",
    "#sort arrays without modifying the input\n",
    "\n",
    "# sort row\n",
    "np.sort(x, axis = 1)\n",
    "# sort column\n",
    "np.sort(x, axis = 0)\n",
    "\n",
    "#np.argsort(): returns the indices of the sorted elements\n",
    "np.argsort(x, axis = 1)\n",
    "np.argsort(x, axis = 0)\n",
    "\n",
    "type(np.argsort(x))"
   ]
  },
  {
   "cell_type": "code",
   "execution_count": 694,
   "id": "e21c033c",
   "metadata": {},
   "outputs": [],
   "source": [
    "np.sort?"
   ]
  },
  {
   "cell_type": "code",
   "execution_count": 702,
   "id": "d37852d0",
   "metadata": {},
   "outputs": [
    {
     "data": {
      "text/plain": [
       "3"
      ]
     },
     "execution_count": 702,
     "metadata": {},
     "output_type": "execute_result"
    }
   ],
   "source": [
    "x = np.array([2, 1, 4, 3, 5])\n",
    "x[2 + np.argmin(x[2:])]"
   ]
  },
  {
   "cell_type": "markdown",
   "id": "253270b7",
   "metadata": {},
   "source": [
    "### Numpy structured arrays\n",
    "\n",
    "This section demonstrates the use of NumPy’s structured arrays and record arrays, which provide efficient storage for compound, heterogeneous data."
   ]
  },
  {
   "cell_type": "code",
   "execution_count": 9,
   "id": "d4c839db",
   "metadata": {},
   "outputs": [
    {
     "data": {
      "text/plain": [
       "array([16, 14,  3, 17,  8, 19, 15,  7,  9, 11, 16, 12, 17,  3, 15, 18,  4,\n",
       "        7,  5, 17])"
      ]
     },
     "execution_count": 9,
     "metadata": {},
     "output_type": "execute_result"
    }
   ],
   "source": [
    "import numpy as np\n",
    "\n",
    "np.random.randint(1, 20, 20)"
   ]
  },
  {
   "cell_type": "code",
   "execution_count": 706,
   "id": "002eb186",
   "metadata": {},
   "outputs": [
    {
     "data": {
      "text/plain": [
       "array([0, 0, 0, 0])"
      ]
     },
     "execution_count": 706,
     "metadata": {},
     "output_type": "execute_result"
    },
    {
     "name": "stdout",
     "output_type": "stream",
     "text": [
      "[('name', '<U10'), ('age', '<i4'), ('weight', '<f8')]\n"
     ]
    },
    {
     "data": {
      "text/plain": [
       "array([('', 0, 0.), ('', 0, 0.), ('', 0, 0.), ('', 0, 0.)],\n",
       "      dtype=[('name', '<U10'), ('age', '<i4'), ('weight', '<f8')])"
      ]
     },
     "execution_count": 706,
     "metadata": {},
     "output_type": "execute_result"
    }
   ],
   "source": [
    "#Numpy structured arrays\n",
    "#provide efficient storage for compound, heterogeneous data\n",
    "\n",
    "name = ['Alice', 'Bob', 'Cathy', 'Doug']\n",
    "age = [25, 45, 37, 19]\n",
    "weight = [55.0, 85.5, 68.0, 61.5]\n",
    "\n",
    "# we used to create a simple array\n",
    "np.zeros(4, dtype = int)\n",
    "\n",
    "# Use a compound data type for structured arrays\n",
    "data = np.zeros(4, dtype={'names':('name', 'age', 'weight'),\n",
    "'formats':('U10', 'int', 'float')})\n",
    "\n",
    "print(data.dtype)\n",
    "# U10: Unicode string of maximum length 10\n",
    "# i4: 4-byte (i.e., 32 bit) integer,\n",
    "# f8: 8-byte (i.e., 64 bit) float\n",
    "\n",
    "data"
   ]
  },
  {
   "cell_type": "code",
   "execution_count": 844,
   "id": "7287a74a",
   "metadata": {},
   "outputs": [
    {
     "data": {
      "text/plain": [
       "array([('Alice', 25, 55. ), ('Bob', 45, 85.5), ('Cathy', 37, 68. ),\n",
       "       ('Doug', 19, 61.5)],\n",
       "      dtype=[('name', '<U10'), ('age', '<i4'), ('weight', '<f8')])"
      ]
     },
     "execution_count": 844,
     "metadata": {},
     "output_type": "execute_result"
    },
    {
     "data": {
      "text/plain": [
       "numpy.ndarray"
      ]
     },
     "execution_count": 844,
     "metadata": {},
     "output_type": "execute_result"
    },
    {
     "data": {
      "text/plain": [
       "(4,)"
      ]
     },
     "execution_count": 844,
     "metadata": {},
     "output_type": "execute_result"
    }
   ],
   "source": [
    "data['name'] = name\n",
    "data['age'] = age\n",
    "data['weight'] = weight\n",
    "\n",
    "data\n",
    "\n",
    "type(data)\n",
    "\n",
    "data.shape"
   ]
  },
  {
   "cell_type": "code",
   "execution_count": 847,
   "id": "0201b405",
   "metadata": {},
   "outputs": [
    {
     "data": {
      "text/plain": [
       "('Alice', 25, 55.)"
      ]
     },
     "execution_count": 847,
     "metadata": {},
     "output_type": "execute_result"
    },
    {
     "data": {
      "text/plain": [
       "55.0"
      ]
     },
     "execution_count": 847,
     "metadata": {},
     "output_type": "execute_result"
    }
   ],
   "source": [
    "# get first row\n",
    "data[0]\n",
    "\n",
    "# get name from last row\n",
    "data[0]['weight']"
   ]
  },
  {
   "cell_type": "code",
   "execution_count": 722,
   "id": "6ebaa791",
   "metadata": {},
   "outputs": [
    {
     "data": {
      "text/plain": [
       "array([('Alice', 25, 55. ), ('Doug', 19, 61.5)],\n",
       "      dtype=[('name', '<U10'), ('age', '<i4'), ('weight', '<f8')])"
      ]
     },
     "execution_count": 722,
     "metadata": {},
     "output_type": "execute_result"
    },
    {
     "data": {
      "text/plain": [
       "array(['Alice', 'Doug'], dtype='<U10')"
      ]
     },
     "execution_count": 722,
     "metadata": {},
     "output_type": "execute_result"
    }
   ],
   "source": [
    "# get rows where age < 30\n",
    "data[data['age'] < 30]\n",
    "\n",
    "# get names where age < 30\n",
    "data['name'][data['age'] < 30]"
   ]
  },
  {
   "cell_type": "markdown",
   "id": "950b2b27",
   "metadata": {},
   "source": [
    "#### Create structured arrays"
   ]
  },
  {
   "cell_type": "code",
   "execution_count": 723,
   "id": "82b785e8",
   "metadata": {},
   "outputs": [
    {
     "data": {
      "text/plain": [
       "dtype([('name', '<U10'), ('age', '<i4'), ('weight', '<f8')])"
      ]
     },
     "execution_count": 723,
     "metadata": {},
     "output_type": "execute_result"
    }
   ],
   "source": [
    "# dictionary method\n",
    "np.dtype({\n",
    "    'names':('name', 'age', 'weight'),\n",
    "    'formats':('U10', 'i4', 'f8')\n",
    "})"
   ]
  },
  {
   "cell_type": "code",
   "execution_count": 724,
   "id": "22390e7c",
   "metadata": {},
   "outputs": [
    {
     "data": {
      "text/plain": [
       "dtype([('name', '<U10'), ('age', '<i4'), ('weight', '<f4')])"
      ]
     },
     "execution_count": 724,
     "metadata": {},
     "output_type": "execute_result"
    }
   ],
   "source": [
    "# specified with Python types or NumPy dtypes\n",
    "np.dtype({\n",
    "    'names':('name', 'age', 'weight'),\n",
    "    'formats':((np.str_,10), int, np.float32)\n",
    "})"
   ]
  },
  {
   "cell_type": "code",
   "execution_count": 726,
   "id": "b23a988e",
   "metadata": {},
   "outputs": [
    {
     "data": {
      "text/plain": [
       "dtype([('name', 'S10'), ('age', '<i4'), ('weight', '<f8')])"
      ]
     },
     "execution_count": 726,
     "metadata": {},
     "output_type": "execute_result"
    }
   ],
   "source": [
    "# specified as a list of tuples\n",
    "np.dtype([('name', 'S10'), ('age','i4'),('weight','f8')])"
   ]
  },
  {
   "cell_type": "code",
   "execution_count": 727,
   "id": "58d52d09",
   "metadata": {},
   "outputs": [
    {
     "data": {
      "text/plain": [
       "dtype([('f0', 'S10'), ('f1', '<i4'), ('f2', '<f8')])"
      ]
     },
     "execution_count": 727,
     "metadata": {},
     "output_type": "execute_result"
    }
   ],
   "source": [
    "# specified without names\n",
    "np.dtype('S10, i4, f8')"
   ]
  },
  {
   "cell_type": "code",
   "execution_count": 22,
   "id": "6cd3502b",
   "metadata": {},
   "outputs": [
    {
     "data": {
      "text/plain": [
       "array([(18, 24.5)], dtype=[('id', '<i8'), ('age', '<f8')])"
      ]
     },
     "execution_count": 22,
     "metadata": {},
     "output_type": "execute_result"
    }
   ],
   "source": [
    "# ex.,\n",
    "# create structured array with 2 characteristics\n",
    "# 1. id (int) ; 2. age (float)\n",
    "tp = np.dtype([('id', 'i8'), ('age', 'f8')])\n",
    "# create structured array with only 1 element\n",
    "x = np.zeros(1, dtype = tp)\n",
    "\n",
    "x['id'] = [18]\n",
    "x['age'] = [24.5]\n",
    "x"
   ]
  },
  {
   "cell_type": "code",
   "execution_count": 30,
   "id": "de6f4355",
   "metadata": {},
   "outputs": [
    {
     "name": "stdout",
     "output_type": "stream",
     "text": [
      "18\n",
      "18\n"
     ]
    }
   ],
   "source": [
    "print(x['id'][0])\n",
    "print(x[0]['id'])"
   ]
  },
  {
   "cell_type": "code",
   "execution_count": null,
   "id": "44ed8393",
   "metadata": {},
   "outputs": [],
   "source": [
    "import numpy as np"
   ]
  },
  {
   "cell_type": "code",
   "execution_count": 49,
   "id": "b884ec52",
   "metadata": {},
   "outputs": [
    {
     "data": {
      "text/plain": [
       "'staff'"
      ]
     },
     "execution_count": 49,
     "metadata": {},
     "output_type": "execute_result"
    }
   ],
   "source": [
    "# exercise\n",
    "# create a structured array for store employees\n",
    "# we have 4 people in the store, each person has 4 characteristics\n",
    "# 1. name 'U10' 2. cellphone 'i8' 3. age 'f8' 4. working title 'S10'\n",
    "name = ['Tom','Mary', 'Caren', 'Jack']\n",
    "cellphone = [917888888, 917555555, 917444444, 917333333]\n",
    "age = [19,20,49,32]\n",
    "title = ['staff', 'staff', 'manager', 'staff']\n",
    "employee_type = np.dtype([('name', 'U10'), ('cellphone', 'i8'), ('age','f8'), ('title','U10')])\n",
    "employee = np.zeros(4, dtype = employee_type)\n",
    "\n",
    "employee['name'] = name\n",
    "employee['cellphone'] = cellphone\n",
    "employee['age'] = age\n",
    "employee['title'] = title\n",
    "\n",
    "# title of the first employee\n",
    "employee['title'][0]"
   ]
  }
 ],
 "metadata": {
  "celltoolbar": "Slideshow",
  "kernelspec": {
   "display_name": "Python 3 (ipykernel)",
   "language": "python",
   "name": "python3"
  },
  "language_info": {
   "codemirror_mode": {
    "name": "ipython",
    "version": 3
   },
   "file_extension": ".py",
   "mimetype": "text/x-python",
   "name": "python",
   "nbconvert_exporter": "python",
   "pygments_lexer": "ipython3",
   "version": "3.11.1"
  }
 },
 "nbformat": 4,
 "nbformat_minor": 5
}
