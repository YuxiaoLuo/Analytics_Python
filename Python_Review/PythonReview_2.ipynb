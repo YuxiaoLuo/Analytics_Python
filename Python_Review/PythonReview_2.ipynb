{
 "cells": [
  {
   "cell_type": "markdown",
   "id": "da99dc09",
   "metadata": {},
   "source": [
    "# IPython: Beyond Normal Python\n",
    "\n",
    "1. Launching the Jupyter Notebook:\n",
    "    - The Jupyter notebook is a browser-based graphical interface to the IPython shell, and builds on it a rich set of dynamic display capabilities.\n",
    "    - Run this `$ jupyter notebook` in your system cell.\n",
    "    - Upon issuing the command, your default browser should automatically open and navigate to the listed local URL; the exact address will depend on your system. If the browser does not open automatically, you can open a window and manually open this address (http://localhost:8888/ in this example)."
   ]
  },
  {
   "cell_type": "markdown",
   "id": "06e0ae21",
   "metadata": {},
   "source": [
    "2. Help and Documentation in IPython with ?\n",
    "\n",
    "    - Accessing Documentation with ? or `help`\n",
    "    \n",
    "    ```\n",
    "    In [1]: help(len)\n",
    "Help on built-in function len in module builtins:\n",
    "len(...)\n",
    "len(object) -> integer\n",
    "Return the number of items of a sequence or mapping.\n",
    "    ```\n",
    "    - This notation ? works for just about anything, including object methods\n",
    "    \n",
    "    ```\n",
    "    In [3]: L = [1, 2, 3]\n",
    "In [4]: L.insert?\n",
    "Type: builtin_function_or_method\n",
    "String form: <built-in method insert of list object at 0x1024b8ea8>\n",
    "Docstring: L.insert(index, object) -- insert object before index\n",
    "    ```\n",
    "    - or even objects themselves, with the documentation from their type:\n",
    "    \n",
    "    ```\n",
    "    In [5]: L?\n",
    "Type: list\n",
    "String form: [1, 2, 3]\n",
    "Length: 3\n",
    "Docstring:\n",
    "list() -> new empty list\n",
    "list(iterable) -> new list initialized from iterable's items\n",
    "    \n",
    "    ```\n",
    "    \n",
    "    - Importantly, this will even work for functions or other objects you create yourself!\n",
    "    \n",
    "    ```\n",
    "    In [6]: def square(a):\n",
    "    ....: \"\"\"Return the square of a.\"\"\"\n",
    "    ....: return a ** 2\n",
    "    ....:\n",
    "    ```\n",
    "    \n",
    "    ```\n",
    "    In [7]: square?\n",
    "Type: function\n",
    "String form: <function square at 0x103713cb0>\n",
    "Definition: square(a)\n",
    "Docstring: Return the square of a.\n",
    "    ```"
   ]
  },
  {
   "cell_type": "markdown",
   "id": "b69a76b1",
   "metadata": {},
   "source": [
    "3. Help and Documentation in IPython with ??\n",
    "    - IPython provides a shortcut to the **source code** with the double question mark (??)\n",
    "    ```\n",
    "    In [8]: square??\n",
    "Type: function\n",
    "String form: <function square at 0x103713cb0>\n",
    "Definition: square(a)\n",
    "Source:\n",
    "def square(a):\n",
    "\"Return the square of a\"\n",
    "return a ** 2\n",
    "    ```\n",
    "    - You’ll notice that sometimes the ?? suffix doesn’t display any source code: this is generally because the object in question is not implemented in Python, but in C or some other compiled extension language. If this is the case, the ?? suffix gives the same output as the ? suffix.\n",
    "    \n",
    "    ```\n",
    "    In [9]: len??\n",
    "Type: builtin_function_or_method\n",
    "String form: <built-in function len>\n",
    "Namespace: Python builtin\n",
    "Docstring:\n",
    "len(object) -> integer\n",
    "Return the number of items of a sequence or mapping.\n",
    "    ```"
   ]
  }
 ],
 "metadata": {
  "kernelspec": {
   "display_name": "Python 3 (ipykernel)",
   "language": "python",
   "name": "python3"
  },
  "language_info": {
   "codemirror_mode": {
    "name": "ipython",
    "version": 3
   },
   "file_extension": ".py",
   "mimetype": "text/x-python",
   "name": "python",
   "nbconvert_exporter": "python",
   "pygments_lexer": "ipython3",
   "version": "3.11.1"
  }
 },
 "nbformat": 4,
 "nbformat_minor": 5
}
