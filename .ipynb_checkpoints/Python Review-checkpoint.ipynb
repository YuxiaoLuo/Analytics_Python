{
 "cells": [
  {
   "cell_type": "markdown",
   "id": "14dca0ed",
   "metadata": {},
   "source": [
    "# Python Review\n",
    "\n",
    "## Number, booleans, strings\n",
    "\n",
    "- lists, tuples, dictionaries and sets"
   ]
  },
  {
   "cell_type": "code",
   "execution_count": 1,
   "id": "f38a1228",
   "metadata": {},
   "outputs": [
    {
     "name": "stdout",
     "output_type": "stream",
     "text": [
      "[]\n"
     ]
    }
   ],
   "source": [
    "#creating a empty list and adding numbers\n",
    "li1 = []\n",
    "print(li1)"
   ]
  },
  {
   "cell_type": "code",
   "execution_count": 2,
   "id": "f2298546",
   "metadata": {},
   "outputs": [
    {
     "name": "stdout",
     "output_type": "stream",
     "text": [
      "[1]\n",
      "[1, 2]\n"
     ]
    }
   ],
   "source": [
    "#list.append(x) :add an item to the end of the list\n",
    "li1.append(1) \n",
    "print(li1)\n",
    "li1.append(2)\n",
    "print(li1)"
   ]
  },
  {
   "cell_type": "code",
   "execution_count": 3,
   "id": "e44bf787",
   "metadata": {},
   "outputs": [
    {
     "name": "stdout",
     "output_type": "stream",
     "text": [
      "[1]\n"
     ]
    }
   ],
   "source": [
    "#list.pop(): removes and returns the last item in the list\n",
    "li1.pop()\n",
    "print(li1)"
   ]
  },
  {
   "cell_type": "markdown",
   "id": "4f95a5b3",
   "metadata": {},
   "source": [
    "### list methods (remove, insert, locate position of each component, extend list)"
   ]
  },
  {
   "cell_type": "code",
   "execution_count": 4,
   "id": "44aa4aed",
   "metadata": {},
   "outputs": [],
   "source": [
    "# lists\n",
    "\n",
    "# list can contains different types of elements\n",
    "li1 = ['a', 2, False]\n",
    "li2 = [[3], [3,5], [2,3,4]]\n",
    "li3 = [2,3,3,5]"
   ]
  },
  {
   "cell_type": "code",
   "execution_count": 5,
   "id": "edbf2bfd",
   "metadata": {},
   "outputs": [
    {
     "name": "stdout",
     "output_type": "stream",
     "text": [
      "[2, 300, 3, 3, 5]\n"
     ]
    }
   ],
   "source": [
    "# list.index() return index of the first element equal to the argument\n",
    "#list.insert(i,x) insert an item x at a given position i\n",
    "#list.remove(x) remove the first item from the list whose value is equal to x\n",
    "#list.extend(iterable) extend the list by appending all the items from the iterable\n",
    "\n",
    "#del li1[2] #delete one element in the list\n",
    "\n",
    "li3.insert(1, 300)\n",
    "print(li3)"
   ]
  },
  {
   "cell_type": "code",
   "execution_count": 6,
   "id": "eb1b80d2",
   "metadata": {},
   "outputs": [
    {
     "name": "stdout",
     "output_type": "stream",
     "text": [
      "[2, 300, 3, 5]\n"
     ]
    }
   ],
   "source": [
    "li3.remove(3)\n",
    "print(li3)"
   ]
  },
  {
   "cell_type": "code",
   "execution_count": 7,
   "id": "f2214148",
   "metadata": {},
   "outputs": [
    {
     "name": "stdout",
     "output_type": "stream",
     "text": [
      "[2, 300, 3, 5, 0, 1, 2]\n"
     ]
    }
   ],
   "source": [
    "li3.extend(range(3))\n",
    "print(li3)"
   ]
  },
  {
   "cell_type": "code",
   "execution_count": 8,
   "id": "3585223f",
   "metadata": {},
   "outputs": [
    {
     "name": "stdout",
     "output_type": "stream",
     "text": [
      "[2, 300, 3, 5, 0, 1, 2, 0, 1, 2]\n"
     ]
    }
   ],
   "source": [
    "li3.extend(range(3))\n",
    "print(li3)"
   ]
  },
  {
   "cell_type": "code",
   "execution_count": 9,
   "id": "f0c3f3c8",
   "metadata": {},
   "outputs": [
    {
     "name": "stdout",
     "output_type": "stream",
     "text": [
      "[2, 300, 3, 5, 0, 1, 2, 0, 1, 2, [3], [3, 5], [2, 3, 4]]\n",
      "['a', 2, False] [[3], [3, 5], [2, 3, 4]] [2, 300, 3, 5, 0, 1, 2, 0, 1, 2, [3], [3, 5], [2, 3, 4]]\n"
     ]
    }
   ],
   "source": [
    "li3.extend(li2)\n",
    "print(li3)\n",
    "print(li1, li2, li3)"
   ]
  },
  {
   "cell_type": "code",
   "execution_count": 53,
   "id": "6ec0d967",
   "metadata": {},
   "outputs": [
    {
     "name": "stdout",
     "output_type": "stream",
     "text": [
      "a\n",
      "2\n",
      "False\n"
     ]
    },
    {
     "data": {
      "text/plain": [
       "False"
      ]
     },
     "execution_count": 53,
     "metadata": {},
     "output_type": "execute_result"
    }
   ],
   "source": [
    "#for loop in list\n",
    "for num in li1:\n",
    "    print(num)    \n",
    "    \n",
    "5 in li1"
   ]
  },
  {
   "cell_type": "code",
   "execution_count": 14,
   "id": "06d6ebbd",
   "metadata": {},
   "outputs": [
    {
     "name": "stdout",
     "output_type": "stream",
     "text": [
      "0\n",
      "2\n",
      "4\n"
     ]
    }
   ],
   "source": [
    "#while loop\n",
    "x = 0\n",
    "while x<5:\n",
    "    print(x)\n",
    "    x = x+1\n",
    "    # x += 1"
   ]
  },
  {
   "cell_type": "code",
   "execution_count": 15,
   "id": "427bde82",
   "metadata": {},
   "outputs": [
    {
     "name": "stdout",
     "output_type": "stream",
     "text": [
      "[0, 1, 2]\n",
      "[0, 2, 4, 6, 8]\n"
     ]
    }
   ],
   "source": [
    "#for loop and range()\n",
    "#range(lower, upper, step) create a sequence of numbers\n",
    "print(list(range(0,3)))\n",
    "\n",
    "print(list(range(0,10,2)))\n",
    "\n",
    "#for number in range(0,10,2):\n",
    " #   print(number)\n",
    "\n",
    "#list(range(0,3))"
   ]
  },
  {
   "cell_type": "code",
   "execution_count": 99,
   "id": "a8394b7c",
   "metadata": {},
   "outputs": [
    {
     "name": "stdout",
     "output_type": "stream",
     "text": [
      "[0]\n",
      "[0, 1]\n",
      "[0, 1, 4]\n",
      "[0, 1, 4, 9]\n",
      "[0, 1, 4, 9, 16]\n",
      "[0, 1, 4, 9, 16, 25]\n",
      "[0, 1, 4, 9, 16, 25, 36]\n",
      "[0, 1, 4, 9, 16, 25, 36, 49]\n",
      "[0, 1, 4, 9, 16, 25, 36, 49, 64]\n",
      "[0, 1, 4, 9, 16, 25, 36, 49, 64, 81]\n"
     ]
    }
   ],
   "source": [
    "#create a list with squares of integers less than 10\n",
    "#1 for loop\n",
    "\n",
    "newlist = []\n",
    "for x in range(10):\n",
    "    newlist.append(x**2)\n",
    "    print(newlist)\n",
    "      "
   ]
  },
  {
   "cell_type": "code",
   "execution_count": 95,
   "id": "0ba63aa5",
   "metadata": {},
   "outputs": [
    {
     "data": {
      "text/plain": [
       "[0, 1, 2, 3, 4, 5, 6, 7, 8, 9]"
      ]
     },
     "execution_count": 95,
     "metadata": {},
     "output_type": "execute_result"
    }
   ],
   "source": [
    "list(range(10))"
   ]
  },
  {
   "cell_type": "code",
   "execution_count": 111,
   "id": "1064aaf5",
   "metadata": {},
   "outputs": [
    {
     "data": {
      "text/plain": [
       "[0, 1, 4, 9, 16, 25, 36, 49, 64, 81]"
      ]
     },
     "execution_count": 111,
     "metadata": {},
     "output_type": "execute_result"
    }
   ],
   "source": [
    "#create a list with squares of integers less than 10 \n",
    "#2 list comprehension\n",
    "\n",
    "#list comprehension\n",
    "#a shorter syntax of for loop\n",
    "#create a new list based on the values of an existing list\n",
    "\n",
    "#syntax\n",
    "#output_list = [item for item in existing_list if (condition to be satisfied) ]\n",
    "\n",
    "newlist = []\n",
    "for x in range(10):\n",
    "    newlist.append(x**2)\n",
    "    #print(newlist)\n",
    "    \n",
    "newlist4 = [x**2 for x in range(10)]\n",
    "newlist4"
   ]
  },
  {
   "cell_type": "code",
   "execution_count": 108,
   "id": "ffbf4b36",
   "metadata": {},
   "outputs": [
    {
     "data": {
      "text/plain": [
       "['Apple', 'banana', 'mango', 'Avocado', 'blackberry']"
      ]
     },
     "execution_count": 108,
     "metadata": {},
     "output_type": "execute_result"
    }
   ],
   "source": [
    "#list comprehension\n",
    "#example 2\n",
    "#create a newlist which contains letters with letter \"a\" in the name\n",
    "\n",
    "fruits = [\"Apple\", \"banana\", \"cherry\", \"kiwi\", \"mango\", \"Avocado\", \"blackberry\"]\n",
    "\n",
    "newlist2 = []\n",
    "for f in fruits:\n",
    "    if 'A' in f or 'a' in f:\n",
    "        newlist2.append(f)\n",
    "\n",
    "#print(newlist2)\n",
    "newlist2\n",
    "\n",
    "#syntax\n",
    "#output_list = [item for item in existing_list if (condition to be satisfied) ]\n",
    "\n",
    "newlist3 = [f for f in fruits if 'a' or 'A' in f]\n",
    "\n",
    "#print(newlist2, newlist3)"
   ]
  },
  {
   "cell_type": "markdown",
   "id": "8161ad65",
   "metadata": {},
   "source": [
    "### Lambda\n",
    "\n",
    "A lambda function is a small anonymous function. A lambda function can take any number of arguments, but can only have one expression. \n",
    "\n",
    "Uses of Lambda Functions:\n",
    "- To include a function into another that is named and declared with def\n",
    "- To perform calculations embeded in code (e.g., create a new df column)\n",
    "- To leverage calculations for filtering operations in a more efficient way\n",
    "\n",
    "#### Syntax\n",
    "`lambda arguments: expression`\n",
    "\n",
    "source: http://www.geeksforgeeks.org/python-pandas-apply/"
   ]
  },
  {
   "cell_type": "code",
   "execution_count": 59,
   "id": "c6e08758",
   "metadata": {},
   "outputs": [
    {
     "name": "stdout",
     "output_type": "stream",
     "text": [
      "15\n"
     ]
    }
   ],
   "source": [
    "# example 1\n",
    "x = lambda a: a + 10\n",
    "print(x(5))"
   ]
  },
  {
   "cell_type": "code",
   "execution_count": 58,
   "id": "e206c4c7",
   "metadata": {},
   "outputs": [
    {
     "data": {
      "text/plain": [
       "4"
      ]
     },
     "execution_count": 58,
     "metadata": {},
     "output_type": "execute_result"
    }
   ],
   "source": [
    "# example 2\n",
    "sqrt = lambda x,y: x**y\n",
    "sqrt(2,2)"
   ]
  },
  {
   "cell_type": "code",
   "execution_count": null,
   "id": "51cd0f23",
   "metadata": {},
   "outputs": [],
   "source": [
    "# write the function in a program\n",
    "def main():\n",
    "    print(\"This program calculates square root. \\n\")\n",
    "    numerator = int(input(\"what is the numerator? \"))\n",
    "    denominator = int(input(\"what is the denominator? \"))\n",
    "    print(f'The result is {sqrt(numerator,denominator)}')\n",
    "\n",
    "def sqrt(x,y):\n",
    "    return x**y\n",
    "\n",
    "if __name__ == '__main__':\n",
    "    main()"
   ]
  },
  {
   "cell_type": "markdown",
   "id": "2a01e0df",
   "metadata": {},
   "source": [
    "### `map()`\n",
    "- syntax: `map(fun, iterable)`\n",
    "- apply the given function to each item of a given iterable (list, tuple, set, dictionary etc.)"
   ]
  },
  {
   "cell_type": "code",
   "execution_count": 60,
   "id": "1e9e04c1",
   "metadata": {},
   "outputs": [
    {
     "data": {
      "text/plain": [
       "[0, 1, 4, 9, 16, 25, 36, 49, 64, 81]"
      ]
     },
     "execution_count": 60,
     "metadata": {},
     "output_type": "execute_result"
    }
   ],
   "source": [
    "#create a list with squares of integers less than 10\n",
    "list(map(lambda x:x**2, range(10)))"
   ]
  },
  {
   "cell_type": "code",
   "execution_count": 116,
   "id": "338b5012",
   "metadata": {},
   "outputs": [
    {
     "data": {
      "text/plain": [
       "12"
      ]
     },
     "execution_count": 116,
     "metadata": {},
     "output_type": "execute_result"
    }
   ],
   "source": [
    "#user-defined function\n",
    "def add(x, y):\n",
    "    #print(\"x is {} and y is {}\".format(x,y))\n",
    "    return x + y # return value\n",
    "\n",
    "#compare with the lambda method\n",
    "#syntax: lambda arguments: experssion ()\n",
    "\n",
    "add1 = lambda x,y: x+y\n",
    "\n",
    "#add(4,5)\n",
    "add1(4,8)"
   ]
  },
  {
   "cell_type": "markdown",
   "id": "c140fec8",
   "metadata": {},
   "source": [
    "#### Processing multiple input iterables with `map()`\n",
    "If you supply multiple iterables to map(), then the transformation function must take as many arguments as iterables you pass in. Each iteration of map() will pass one value from each iterable as an argument to function. The iteration stops at the end of the shortest iterable."
   ]
  },
  {
   "cell_type": "code",
   "execution_count": 4,
   "id": "1b72ce4e",
   "metadata": {},
   "outputs": [
    {
     "data": {
      "text/plain": [
       "[8, 14, 16, 14]"
      ]
     },
     "execution_count": 4,
     "metadata": {},
     "output_type": "execute_result"
    }
   ],
   "source": [
    "list(map(lambda a,b,c: a+b+c,[4,5,6,5],[3,4,5,6],[1,5,5,3,6]))"
   ]
  },
  {
   "cell_type": "markdown",
   "id": "222d84ce",
   "metadata": {},
   "source": [
    "### Tuples\n",
    "\n",
    "- similar to lists but are immutable, meaning that elements cannot be added or removed after creation\n",
    "- when to use tuple? \n",
    "    - Choose tuple if elements don't change "
   ]
  },
  {
   "cell_type": "code",
   "execution_count": 62,
   "id": "c6c96129",
   "metadata": {},
   "outputs": [
    {
     "data": {
      "text/plain": [
       "(1, 2, 3, 6, 7, 10, 30, 50)"
      ]
     },
     "execution_count": 62,
     "metadata": {},
     "output_type": "execute_result"
    }
   ],
   "source": [
    "tup = (1,2,3,6,7)\n",
    "\n",
    "#locate elements in tuple, delete, extend tuple\n",
    "tup[1]\n",
    "\n",
    "tup + (10,30,50)"
   ]
  },
  {
   "cell_type": "markdown",
   "id": "057f579e",
   "metadata": {},
   "source": [
    "### Sets\n",
    "- also similar to lists, but they store a unique and unordered collection of items, with no duplicates\n",
    "- set will automatically reorder the number and delete duplicates\n"
   ]
  },
  {
   "cell_type": "code",
   "execution_count": 71,
   "id": "1945189a",
   "metadata": {},
   "outputs": [
    {
     "name": "stdout",
     "output_type": "stream",
     "text": [
      "{2, 3, 5, 7, 8, 10}\n",
      "{3, 'a', 5, 'b'}\n"
     ]
    }
   ],
   "source": [
    "#create an empty set\n",
    "set1 = set()   \n",
    "\n",
    "#set will automatically reorder the number and delete duplicates\n",
    "set2 = {3,3,5,7,8,2,10} \n",
    "set3 = {'a','a','b',3,5}\n",
    "\n",
    "print(set2)\n",
    "print(set3)"
   ]
  },
  {
   "cell_type": "code",
   "execution_count": 66,
   "id": "06ef0aa3",
   "metadata": {},
   "outputs": [
    {
     "name": "stdout",
     "output_type": "stream",
     "text": [
      "{1, 2, 3, 5, 7, 8, 10}\n"
     ]
    }
   ],
   "source": [
    "#set.add()\n",
    "set2.add(1)\n",
    "print(set2)"
   ]
  },
  {
   "cell_type": "code",
   "execution_count": 67,
   "id": "912ad8ea",
   "metadata": {},
   "outputs": [
    {
     "name": "stdout",
     "output_type": "stream",
     "text": [
      "{1, 2, 3, 5, 8, 10}\n"
     ]
    }
   ],
   "source": [
    "# set.remove()\n",
    "set2.remove(7)\n",
    "print(set2)"
   ]
  },
  {
   "cell_type": "code",
   "execution_count": 72,
   "id": "01bdf13b",
   "metadata": {},
   "outputs": [
    {
     "name": "stdout",
     "output_type": "stream",
     "text": [
      "{3, 5, 7, 8, 10}\n",
      "{5, 7, 8, 10}\n"
     ]
    }
   ],
   "source": [
    "# set.pop() removes a random item from the set.\n",
    "set2.pop()\n",
    "print(set2)\n",
    "\n",
    "set2.pop()\n",
    "print(set2)"
   ]
  },
  {
   "cell_type": "code",
   "execution_count": 74,
   "id": "a5bae41b",
   "metadata": {
    "scrolled": true
   },
   "outputs": [
    {
     "name": "stdout",
     "output_type": "stream",
     "text": [
      "{3, 'a', 5}\n"
     ]
    }
   ],
   "source": [
    "# set.remove() removes an item from a set. \n",
    "# Will raise a KeyError exception if the specified item is not found in the set.\n",
    "set3.remove('b')\n",
    "print(set3)"
   ]
  },
  {
   "cell_type": "code",
   "execution_count": 76,
   "id": "ec67f9b5",
   "metadata": {},
   "outputs": [
    {
     "name": "stdout",
     "output_type": "stream",
     "text": [
      "{5, 7, 8, 10} {3, 'a', 5}\n"
     ]
    }
   ],
   "source": [
    "print(set2, set3)"
   ]
  },
  {
   "cell_type": "code",
   "execution_count": 77,
   "id": "05cb0fa4",
   "metadata": {},
   "outputs": [
    {
     "data": {
      "text/plain": [
       "{10, 3, 7, 8, 'a'}"
      ]
     },
     "execution_count": 77,
     "metadata": {},
     "output_type": "execute_result"
    }
   ],
   "source": [
    "#set operations\n",
    "set2&set3           #find intersection between two sets\n",
    "set2|set3           #union two sets\n",
    "set2-set3           #find elements in set2 but not in set 3\n",
    "set2^set3           #find elements in set2 or set3 but not both"
   ]
  },
  {
   "cell_type": "code",
   "execution_count": 24,
   "id": "ffb37a19",
   "metadata": {},
   "outputs": [
    {
     "data": {
      "text/plain": [
       "{'d', 'r'}"
      ]
     },
     "execution_count": 24,
     "metadata": {},
     "output_type": "execute_result"
    }
   ],
   "source": [
    "#Set comprehension\n",
    "#syntax\n",
    "#output_list = {item for item in existing_list if (condition to be satisfied)}\n",
    "\n",
    "#Create a set with unique characters other than 'abc' in the following string \n",
    "check_char = 'abracadabra'\n",
    "\n",
    "#{char for char in check_char if char not in 'abc'}\n",
    "{char for char in check_char if char not in ('a','b','c')}"
   ]
  },
  {
   "cell_type": "code",
   "execution_count": 49,
   "id": "23b220b6",
   "metadata": {},
   "outputs": [
    {
     "data": {
      "text/plain": [
       "False"
      ]
     },
     "execution_count": 49,
     "metadata": {},
     "output_type": "execute_result"
    }
   ],
   "source": [
    "#Dictionaries store a mapping between a series of unique keys and values\n",
    "#Dictionaries are indexed by immutable keys (strings, numbers, tuples)\n",
    "\n",
    "dic1 = {}\n",
    "dic1 = {\"one\": 1, \"two\": 2, \"three\": 3}\n",
    "type(dic1)\n",
    "dic1\n",
    "\n",
    "dic1[\"three\"]\n",
    "#dic1[2]\n",
    "\n",
    "#create a dictionary with dict()\n",
    "\n",
    "a = [('a',1),('b',2),('c',3)]\n",
    "\n",
    "dic2 = dict(a)\n",
    "dic2\n",
    "\n",
    "#separate keys and values with method values() and keys()\n",
    "list(dic1.values())\n",
    "\n",
    "list(dic1.keys())[2]\n",
    "\n",
    "#get a specific value from a dictionary, with method get()\n",
    "dic1.get('one')\n",
    "\n",
    "#update and remove dictionary element with method update() and del statement\n",
    "dic1.update({'four':4,'five':5})\n",
    "#del dic1\n",
    "\n",
    "#check whether a value/key is in a dictionary\n",
    "'one' in dic1\n",
    "1 in dic1"
   ]
  },
  {
   "cell_type": "code",
   "execution_count": 50,
   "id": "7178c4b7",
   "metadata": {},
   "outputs": [
    {
     "data": {
      "text/plain": [
       "{0: 0, 1: 1, 2: 4, 3: 9, 4: 16, 5: 25, 6: 36, 7: 49, 8: 64, 9: 81}"
      ]
     },
     "execution_count": 50,
     "metadata": {},
     "output_type": "execute_result"
    }
   ],
   "source": [
    "#dict comprehensions \n",
    "#can be used to create dictionaries from arbitrary key and value expressions\n",
    "\n",
    "#create a list with squares of integers less than 10\n",
    "\n",
    "{x:x**2 for x in range(10)} \n"
   ]
  },
  {
   "cell_type": "markdown",
   "id": "9ddd9722",
   "metadata": {},
   "source": [
    "## Import statement\n",
    "\n",
    "1. Two approaches to import \n",
    "    1. `import datetime` \n",
    "    2. `from datetime import datetime, date`\n",
    "2. Short names can be optionally assigned arbitrary \n",
    "    1. `import datetime as dtl`\n",
    "3. Handled by the Python datetime module, which provides datetime\n",
    "\n",
    "4. Two useful methods for dates \n",
    "    1. The `strftime` methods a datetime as a string and strings can be converted (parsed) into datetime objects with` strptime` and the corresponding format (specificaitons) \n",
    "    \n",
    "Note: When you import the `datetime` library without specifying objects, you need to type datetime twice to use the `strptime` method, as follows: `datetime.datetime.strptime()`"
   ]
  },
  {
   "cell_type": "markdown",
   "id": "ceb1a475",
   "metadata": {},
   "source": [
    "#### Age Calculation Code Exercise\n",
    "Write Python code to do\n",
    "1. Ask for someone's date of birth (input)\n",
    "2. Calculate his/her age (process*)\n",
    "3. Print the result (Output) \n",
    "\n",
    "**Apply algo thinking  to map the process**"
   ]
  },
  {
   "cell_type": "code",
   "execution_count": 36,
   "id": "d4c6262b",
   "metadata": {},
   "outputs": [
    {
     "name": "stdout",
     "output_type": "stream",
     "text": [
      "This program calculates square root. \n",
      "\n",
      "what is the numerator? 2\n",
      "what is the denominator? 2\n",
      "The result is 4\n"
     ]
    }
   ],
   "source": [
    "# write the function in a program\n",
    "def main():\n",
    "    print(\"This program calculates square root. \\n\")\n",
    "    numerator = int(input(\"what is the numerator? \"))\n",
    "    denominator = int(input(\"what is the denominator? \"))\n",
    "    print(f'The result is {sqrt(numerator,denominator)}')\n",
    "\n",
    "def sqrt(x,y):\n",
    "    return x**y\n",
    "\n",
    "if __name__ == '__main__':\n",
    "    main()"
   ]
  }
 ],
 "metadata": {
  "kernelspec": {
   "display_name": "Python 3",
   "language": "python",
   "name": "python3"
  },
  "language_info": {
   "codemirror_mode": {
    "name": "ipython",
    "version": 3
   },
   "file_extension": ".py",
   "mimetype": "text/x-python",
   "name": "python",
   "nbconvert_exporter": "python",
   "pygments_lexer": "ipython3",
   "version": "3.9.5"
  }
 },
 "nbformat": 4,
 "nbformat_minor": 5
}
