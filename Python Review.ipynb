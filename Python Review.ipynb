{
 "cells": [
  {
   "cell_type": "code",
   "execution_count": 1,
   "id": "bf04939a",
   "metadata": {},
   "outputs": [],
   "source": [
    "#Number, booleans, strings"
   ]
  },
  {
   "cell_type": "code",
   "execution_count": 64,
   "id": "e44bf787",
   "metadata": {},
   "outputs": [
    {
     "data": {
      "text/plain": [
       "[1]"
      ]
     },
     "execution_count": 64,
     "metadata": {},
     "output_type": "execute_result"
    }
   ],
   "source": [
    "#lists, tuples, dictionaries and sets\n",
    "#creating a empty list and adding numbers\n",
    "\n",
    "#list.append(x) :add an item to the end of the list\n",
    "#list.pop(): removes and returns the last item in the list\n",
    "\n",
    "li1 = []\n",
    "li1.append(1) # li is now [1]\n",
    "li1.append(2) # li is now [1, 2]\n",
    "\n",
    "#li1.pop() # removes and returns the last element\n",
    "\n",
    "li1\n",
    "li1.pop(1)\n",
    "\n",
    "li1"
   ]
  },
  {
   "cell_type": "code",
   "execution_count": 80,
   "id": "edbf2bfd",
   "metadata": {},
   "outputs": [
    {
     "data": {
      "text/plain": [
       "['a', False]"
      ]
     },
     "execution_count": 80,
     "metadata": {},
     "output_type": "execute_result"
    }
   ],
   "source": [
    "#list\n",
    "li1 = ['a', 2, False] # not all elements need to be the same type\n",
    "li2 = [[3], [3, 4], [1, 2, 3]] # even lists of lists\n",
    "li3 = [2,3,4,1]\n",
    "\n",
    "\n",
    "#list methods (remove, insert, locate position of each component, extend list)\n",
    "#list.insert(i,x) insert an item x at a given position i\n",
    "#list.remove(x) remove the first item from the list whose value is equal to x\n",
    "#list.extend(iterable) extend the list by appending all the items from the iterable\n",
    "\n",
    "#del li1[2] #delete one element in the list\n",
    "\n",
    "li3.insert(1, 300)\n",
    "li3.remove(2)\n",
    "\n",
    "li3.extend(range(3))\n",
    "\n",
    "li3.extend(li2)\n",
    "#print(li1, li2, li3)\n",
    "li3\n",
    "\n",
    "del li1[1]\n",
    "\n",
    "li1"
   ]
  },
  {
   "cell_type": "code",
   "execution_count": 84,
   "id": "6ec0d967",
   "metadata": {},
   "outputs": [
    {
     "name": "stdout",
     "output_type": "stream",
     "text": [
      "a\n",
      "False\n"
     ]
    },
    {
     "data": {
      "text/plain": [
       "False"
      ]
     },
     "execution_count": 84,
     "metadata": {},
     "output_type": "execute_result"
    }
   ],
   "source": [
    "#for loop in list\n",
    "for num in li1:\n",
    "    print(num)    \n",
    "    \n",
    "    \n",
    "    \n",
    "    \n",
    "5 in li1"
   ]
  },
  {
   "cell_type": "code",
   "execution_count": 87,
   "id": "06d6ebbd",
   "metadata": {},
   "outputs": [
    {
     "name": "stdout",
     "output_type": "stream",
     "text": [
      "0\n",
      "1\n",
      "2\n",
      "3\n",
      "4\n"
     ]
    }
   ],
   "source": [
    "#while loop\n",
    "x = 0\n",
    "while x<5:\n",
    "    print(x)\n",
    "    x = x+1\n",
    "    x += 1"
   ]
  },
  {
   "cell_type": "code",
   "execution_count": 90,
   "id": "427bde82",
   "metadata": {},
   "outputs": [
    {
     "data": {
      "text/plain": [
       "[0, 2, 4, 6, 8]"
      ]
     },
     "execution_count": 90,
     "metadata": {},
     "output_type": "execute_result"
    }
   ],
   "source": [
    "#for loop and range()\n",
    "#range(lower, upper, step) create a sequence of numbers\n",
    "list(range(0,3))\n",
    "\n",
    "list(range(0,10,2)) \n",
    "\n",
    "#for number in range(0,10,2):\n",
    " #   print(number)\n",
    "\n",
    "#list(range(0,3))"
   ]
  },
  {
   "cell_type": "code",
   "execution_count": 99,
   "id": "a8394b7c",
   "metadata": {},
   "outputs": [
    {
     "name": "stdout",
     "output_type": "stream",
     "text": [
      "[0]\n",
      "[0, 1]\n",
      "[0, 1, 4]\n",
      "[0, 1, 4, 9]\n",
      "[0, 1, 4, 9, 16]\n",
      "[0, 1, 4, 9, 16, 25]\n",
      "[0, 1, 4, 9, 16, 25, 36]\n",
      "[0, 1, 4, 9, 16, 25, 36, 49]\n",
      "[0, 1, 4, 9, 16, 25, 36, 49, 64]\n",
      "[0, 1, 4, 9, 16, 25, 36, 49, 64, 81]\n"
     ]
    }
   ],
   "source": [
    "#create a list with squares of integers less than 10\n",
    "#1 for loop\n",
    "\n",
    "newlist = []\n",
    "for x in range(10):\n",
    "    newlist.append(x**2)\n",
    "    print(newlist)\n",
    "      "
   ]
  },
  {
   "cell_type": "code",
   "execution_count": 95,
   "id": "0ba63aa5",
   "metadata": {},
   "outputs": [
    {
     "data": {
      "text/plain": [
       "[0, 1, 2, 3, 4, 5, 6, 7, 8, 9]"
      ]
     },
     "execution_count": 95,
     "metadata": {},
     "output_type": "execute_result"
    }
   ],
   "source": [
    "list(range(10))"
   ]
  },
  {
   "cell_type": "code",
   "execution_count": 111,
   "id": "1064aaf5",
   "metadata": {},
   "outputs": [
    {
     "data": {
      "text/plain": [
       "[0, 1, 4, 9, 16, 25, 36, 49, 64, 81]"
      ]
     },
     "execution_count": 111,
     "metadata": {},
     "output_type": "execute_result"
    }
   ],
   "source": [
    "#create a list with squares of integers less than 10 \n",
    "#2 list comprehension\n",
    "\n",
    "#list comprehension\n",
    "#a shorter syntax of for loop\n",
    "#create a new list based on the values of an existing list\n",
    "\n",
    "#syntax\n",
    "#output_list = [item for item in existing_list if (condition to be satisfied) ]\n",
    "\n",
    "newlist = []\n",
    "for x in range(10):\n",
    "    newlist.append(x**2)\n",
    "    #print(newlist)\n",
    "    \n",
    "newlist4 = [x**2 for x in range(10)]\n",
    "newlist4"
   ]
  },
  {
   "cell_type": "code",
   "execution_count": 108,
   "id": "ffbf4b36",
   "metadata": {},
   "outputs": [
    {
     "data": {
      "text/plain": [
       "['Apple', 'banana', 'mango', 'Avocado', 'blackberry']"
      ]
     },
     "execution_count": 108,
     "metadata": {},
     "output_type": "execute_result"
    }
   ],
   "source": [
    "#list comprehension\n",
    "#example 2\n",
    "#create a newlist which contains letters with letter \"a\" in the name\n",
    "\n",
    "fruits = [\"Apple\", \"banana\", \"cherry\", \"kiwi\", \"mango\", \"Avocado\", \"blackberry\"]\n",
    "\n",
    "newlist2 = []\n",
    "for f in fruits:\n",
    "    if 'A' in f or 'a' in f:\n",
    "        newlist2.append(f)\n",
    "\n",
    "#print(newlist2)\n",
    "newlist2\n",
    "\n",
    "#syntax\n",
    "#output_list = [item for item in existing_list if (condition to be satisfied) ]\n",
    "\n",
    "newlist3 = [f for f in fruits if 'a' or 'A' in f]\n",
    "\n",
    "#print(newlist2, newlist3)"
   ]
  },
  {
   "cell_type": "code",
   "execution_count": 119,
   "id": "1e9e04c1",
   "metadata": {},
   "outputs": [
    {
     "data": {
      "text/plain": [
       "[0, 1, 4, 9, 16, 25, 36, 49, 64, 81]"
      ]
     },
     "execution_count": 119,
     "metadata": {},
     "output_type": "execute_result"
    }
   ],
   "source": [
    "#create a list with squares of integers less than 10\n",
    "#3 lambda & map()\n",
    "\n",
    "#lambda: used to define an anonymous function in Python, similar to 'def'\n",
    "#syntax: lambda arguments: experssion ()\n",
    "\n",
    "#map()\n",
    "#syntax: map(fun, ite)\n",
    "#apply the given function to each item of a given iterable (list, tuple, set, dictionary etc.)\n",
    "\n",
    "list(map(lambda x:x**2, range(10)))"
   ]
  },
  {
   "cell_type": "code",
   "execution_count": 116,
   "id": "338b5012",
   "metadata": {},
   "outputs": [
    {
     "data": {
      "text/plain": [
       "12"
      ]
     },
     "execution_count": 116,
     "metadata": {},
     "output_type": "execute_result"
    }
   ],
   "source": [
    "#user-defined function\n",
    "def add(x, y):\n",
    "    #print(\"x is {} and y is {}\".format(x,y))\n",
    "    return x + y # return value\n",
    "\n",
    "#compare with the lambda method\n",
    "#syntax: lambda arguments: experssion ()\n",
    "\n",
    "add1 = lambda x,y: x+y\n",
    "\n",
    "#add(4,5)\n",
    "add1(4,8)"
   ]
  },
  {
   "cell_type": "code",
   "execution_count": 4,
   "id": "1b72ce4e",
   "metadata": {},
   "outputs": [
    {
     "data": {
      "text/plain": [
       "[8, 14, 16, 14]"
      ]
     },
     "execution_count": 4,
     "metadata": {},
     "output_type": "execute_result"
    }
   ],
   "source": [
    "list(map(lambda a,b,c :a+b+c,[4,5,6,5],[3,4,5,6],[1,5,5,3,6]))"
   ]
  },
  {
   "cell_type": "code",
   "execution_count": 5,
   "id": "c6c96129",
   "metadata": {},
   "outputs": [
    {
     "data": {
      "text/plain": [
       "(1, 2, 3, 6, 7, 10, 30, 50)"
      ]
     },
     "execution_count": 5,
     "metadata": {},
     "output_type": "execute_result"
    }
   ],
   "source": [
    "#Tuples: similar to lists but are immutable, meaning that elements cannot be added or removed after creation\n",
    "#When to use tuple? \n",
    "#Choose tuple if elements don't change \n",
    "\n",
    "tup = (1,2,3,6,7)\n",
    "\n",
    "\n",
    "#locate elements in tuple, delete, extend tuple\n",
    "tup[1]\n",
    "\n",
    "tup + (10,30,50)\n",
    "\n",
    "\n"
   ]
  },
  {
   "cell_type": "code",
   "execution_count": 22,
   "id": "05cb0fa4",
   "metadata": {},
   "outputs": [
    {
     "data": {
      "text/plain": [
       "{10, 2, 7, 8, 'a', 'b'}"
      ]
     },
     "execution_count": 22,
     "metadata": {},
     "output_type": "execute_result"
    }
   ],
   "source": [
    "#Sets: also similar to lists, but they store a unique and unordered collection of items, with no duplicates\n",
    "\n",
    "\n",
    "set1 = set()   #create an empty set\n",
    "set2 = {3,3,5,7,8,2,10}   #set will automatically reorder the number and delete duplicates\n",
    "set3 = {'a','a','b',3,5}\n",
    "\n",
    "#set1.add(1)\n",
    "#set2.remove(3)\n",
    "#set2.pop()\n",
    "\n",
    "\n",
    "\n",
    "#set operations\n",
    "\n",
    "set2&set3           #find intersection between two sets\n",
    "set2|set3           #union two sets\n",
    "set2-set3           #find elements in set2 but not in set 3\n",
    "set2^set3           #find elements in set2 or set3 but not both\n",
    "\n",
    "#print(set2)\n",
    "#print(set3)"
   ]
  },
  {
   "cell_type": "code",
   "execution_count": 24,
   "id": "ffb37a19",
   "metadata": {},
   "outputs": [
    {
     "data": {
      "text/plain": [
       "{'d', 'r'}"
      ]
     },
     "execution_count": 24,
     "metadata": {},
     "output_type": "execute_result"
    }
   ],
   "source": [
    "#Set comprehension\n",
    "#syntax\n",
    "#output_list = {item for item in existing_list if (condition to be satisfied)}\n",
    "\n",
    "#Create a set with unique characters other than 'abc' in the following string \n",
    "check_char = 'abracadabra'\n",
    "\n",
    "#{char for char in check_char if char not in 'abc'}\n",
    "{char for char in check_char if char not in ('a','b','c')}"
   ]
  },
  {
   "cell_type": "code",
   "execution_count": 49,
   "id": "23b220b6",
   "metadata": {},
   "outputs": [
    {
     "data": {
      "text/plain": [
       "False"
      ]
     },
     "execution_count": 49,
     "metadata": {},
     "output_type": "execute_result"
    }
   ],
   "source": [
    "#Dictionaries store a mapping between a series of unique keys and values\n",
    "#Dictionaries are indexed by immutable keys (strings, numbers, tuples)\n",
    "\n",
    "dic1 = {}\n",
    "dic1 = {\"one\": 1, \"two\": 2, \"three\": 3}\n",
    "type(dic1)\n",
    "dic1\n",
    "\n",
    "dic1[\"three\"]\n",
    "#dic1[2]\n",
    "\n",
    "#create a dictionary with dict()\n",
    "\n",
    "a = [('a',1),('b',2),('c',3)]\n",
    "\n",
    "dic2 = dict(a)\n",
    "dic2\n",
    "\n",
    "#separate keys and values with method values() and keys()\n",
    "list(dic1.values())\n",
    "\n",
    "list(dic1.keys())[2]\n",
    "\n",
    "#get a specific value from a dictionary, with method get()\n",
    "dic1.get('one')\n",
    "\n",
    "#update and remove dictionary element with method update() and del statement\n",
    "dic1.update({'four':4,'five':5})\n",
    "#del dic1\n",
    "\n",
    "#check whether a value/key is in a dictionary\n",
    "'one' in dic1\n",
    "1 in dic1"
   ]
  },
  {
   "cell_type": "code",
   "execution_count": 50,
   "id": "7178c4b7",
   "metadata": {},
   "outputs": [
    {
     "data": {
      "text/plain": [
       "{0: 0, 1: 1, 2: 4, 3: 9, 4: 16, 5: 25, 6: 36, 7: 49, 8: 64, 9: 81}"
      ]
     },
     "execution_count": 50,
     "metadata": {},
     "output_type": "execute_result"
    }
   ],
   "source": [
    "#dict comprehensions \n",
    "#can be used to create dictionaries from arbitrary key and value expressions\n",
    "\n",
    "\n",
    "#create a list with squares of integers less than 10\n",
    "\n",
    "{x:x**2 for x in range(10)} \n"
   ]
  }
 ],
 "metadata": {
  "kernelspec": {
   "display_name": "Python 3 (ipykernel)",
   "language": "python",
   "name": "python3"
  },
  "language_info": {
   "codemirror_mode": {
    "name": "ipython",
    "version": 3
   },
   "file_extension": ".py",
   "mimetype": "text/x-python",
   "name": "python",
   "nbconvert_exporter": "python",
   "pygments_lexer": "ipython3",
   "version": "3.9.7"
  }
 },
 "nbformat": 4,
 "nbformat_minor": 5
}
