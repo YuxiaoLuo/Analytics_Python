{
 "cells": [
  {
   "cell_type": "code",
   "execution_count": 2,
   "id": "86686993",
   "metadata": {},
   "outputs": [],
   "source": [
    "from IPython.core.interactiveshell import InteractiveShell\n",
    "InteractiveShell.ast_node_interactivity = \"all\""
   ]
  },
  {
   "cell_type": "markdown",
   "id": "0db794ca",
   "metadata": {},
   "source": [
    "1.\tWrite a Python program to filter integers (1-50) into two lists (even numbers and odd numbers) (using Lambda argument)"
   ]
  },
  {
   "cell_type": "code",
   "execution_count": 52,
   "id": "fa1d378a",
   "metadata": {},
   "outputs": [
    {
     "name": "stdout",
     "output_type": "stream",
     "text": [
      "This program filters integers (1-50) into two lists. \n",
      "\n",
      "The odd list is [1, 3, 5, 7, 9, 11, 13, 15, 17, 19, 21, 23, 25, 27, 29, 31, 33, 35, 37, 39, 41, 43, 45, 47, 49]. \n",
      "\n",
      "The even list is [2, 4, 6, 8, 10, 12, 14, 16, 18, 20, 22, 24, 26, 28, 30, 32, 34, 36, 38, 40, 42, 44, 46, 48, 50]. \n",
      "\n"
     ]
    }
   ],
   "source": [
    "def main():\n",
    "    print(\"This program filters integers (1-50) into two lists. \\n\")\n",
    "    odd = []\n",
    "    even = []\n",
    "    for number in range(1,51):\n",
    "        if number%2 == 0:\n",
    "            even.append(number)\n",
    "        elif number % 2 != 0:\n",
    "            odd.append(number)\n",
    "        else:\n",
    "            print(\"ERROR: please check!\")\n",
    "    print(f\"The odd list is {odd}. \\n\")\n",
    "    print(f\"The even list is {even}. \\n\")\n",
    "    \n",
    "if __name__ == \"__main__\":\n",
    "    main()"
   ]
  },
  {
   "cell_type": "code",
   "execution_count": 7,
   "id": "48e4d1bd",
   "metadata": {},
   "outputs": [
    {
     "data": {
      "text/plain": [
       "range"
      ]
     },
     "execution_count": 7,
     "metadata": {},
     "output_type": "execute_result"
    },
    {
     "name": "stdout",
     "output_type": "stream",
     "text": [
      "[2, 4, 6, 8, 10, 12, 14, 16, 18, 20, 22, 24, 26, 28, 30, 32, 34, 36, 38, 40, 42, 44, 46, 48, 50]\n",
      "[1, 3, 5, 7, 9, 11, 13, 15, 17, 19, 21, 23, 25, 27, 29, 31, 33, 35, 37, 39, 41, 43, 45, 47, 49]\n"
     ]
    }
   ],
   "source": [
    "# using lambda and filter()\n",
    "num = range(1,51)\n",
    "type(num)\n",
    "\n",
    "# filter(func, iterable) extracts the True elements returned by the func\n",
    "even_num = list(filter(lambda x: x%2 == 0, num))\n",
    "\n",
    "odd_num = list(filter(lambda x: x%2 !=0, num))\n",
    "\n",
    "print(even_num)\n",
    "print(odd_num)"
   ]
  },
  {
   "cell_type": "markdown",
   "id": "13b0bad7",
   "metadata": {},
   "source": [
    "2.\tCreate a list and find numbers from 1 to 200, which are divisible by 2-9 (use for loop)"
   ]
  },
  {
   "cell_type": "code",
   "execution_count": 32,
   "id": "7b5d0d79",
   "metadata": {},
   "outputs": [
    {
     "name": "stdout",
     "output_type": "stream",
     "text": [
      "From 1 to 200, these numbers are divisible by 2-9: {2, 3, 4, 5, 6, 7, 8, 9, 10, 12, 14, 15, 16, 18, 20, 21, 22, 24, 25, 26, 27, 28, 30, 32, 33, 34, 35, 36, 38, 39, 40, 42, 44, 45, 46, 48, 49, 50, 51, 52, 54, 55, 56, 57, 58, 60, 62, 63, 64, 65, 66, 68, 69, 70, 72, 74, 75, 76, 77, 78, 80, 81, 82, 84, 85, 86, 87, 88, 90, 91, 92, 93, 94, 95, 96, 98, 99, 100, 102, 104, 105, 106, 108, 110, 111, 112, 114, 115, 116, 117, 118, 119, 120, 122, 123, 124, 125, 126, 128, 129, 130, 132, 133, 134, 135, 136, 138, 140, 141, 142, 144, 145, 146, 147, 148, 150, 152, 153, 154, 155, 156, 158, 159, 160, 161, 162, 164, 165, 166, 168, 170, 171, 172, 174, 175, 176, 177, 178, 180, 182, 183, 184, 185, 186, 188, 189, 190, 192, 194, 195, 196, 198, 200}\n"
     ]
    }
   ],
   "source": [
    "def main():\n",
    "    \n",
    "    # create empty list\n",
    "    nums_divisible = []\n",
    "    \n",
    "    # for loop\n",
    "    for num in range(1, 201):\n",
    "        for denominator in range(2,10):\n",
    "            if num % denominator == 0:\n",
    "                nums_divisible += [num]\n",
    "                \n",
    "    # keep unique numbers in the list\n",
    "    nums_divisible = set(nums_divisible)            \n",
    "    # print result\n",
    "    print(f\"From 1 to 200, these numbers are divisible by 2-9: {nums_divisible}\")\n",
    "    \n",
    "if __name__ == '__main__':\n",
    "    main()"
   ]
  },
  {
   "cell_type": "markdown",
   "id": "b5cd2222",
   "metadata": {},
   "source": [
    "3.\tCreate a list and find numbers from 1 to 200, which are divisible by 2-9 (use list comprehension)"
   ]
  },
  {
   "cell_type": "code",
   "execution_count": 51,
   "id": "649f595b",
   "metadata": {},
   "outputs": [
    {
     "name": "stdout",
     "output_type": "stream",
     "text": [
      "[2, 3, 4, 5, 6, 7, 8, 9, 10, 12, 14, 15, 16, 18, 20, 21, 22, 24, 25, 26, 27, 28, 30, 32, 33, 34, 35, 36, 38, 39, 40, 42, 44, 45, 46, 48, 49, 50, 51, 52, 54, 55, 56, 57, 58, 60, 62, 63, 64, 65, 66, 68, 69, 70, 72, 74, 75, 76, 77, 78, 80, 81, 82, 84, 85, 86, 87, 88, 90, 91, 92, 93, 94, 95, 96, 98, 99, 100, 102, 104, 105, 106, 108, 110, 111, 112, 114, 115, 116, 117, 118, 119, 120, 122, 123, 124, 125, 126, 128, 129, 130, 132, 133, 134, 135, 136, 138, 140, 141, 142, 144, 145, 146, 147, 148, 150, 152, 153, 154, 155, 156, 158, 159, 160, 161, 162, 164, 165, 166, 168, 170, 171, 172, 174, 175, 176, 177, 178, 180, 182, 183, 184, 185, 186, 188, 189, 190, 192, 194, 195, 196, 198, 200]\n"
     ]
    }
   ],
   "source": [
    "# use indexing \n",
    "nums_divisible = [num for num in range(1,201) if True in [True for denominator in range(2,10) \n",
    "                                                          if num % denominator == 0]]\n",
    "print(nums_divisible)"
   ]
  },
  {
   "cell_type": "code",
   "execution_count": 50,
   "id": "76a7b22e",
   "metadata": {},
   "outputs": [
    {
     "name": "stdout",
     "output_type": "stream",
     "text": [
      "[2, 3, 4, 5, 6, 7, 8, 9, 10, 12, 14, 15, 16, 18, 20, 21, 22, 24, 25, 26, 27, 28, 30, 32, 33, 34, 35, 36, 38, 39, 40, 42, 44, 45, 46, 48, 49, 50, 51, 52, 54, 55, 56, 57, 58, 60, 62, 63, 64, 65, 66, 68, 69, 70, 72, 74, 75, 76, 77, 78, 80, 81, 82, 84, 85, 86, 87, 88, 90, 91, 92, 93, 94, 95, 96, 98, 99, 100, 102, 104, 105, 106, 108, 110, 111, 112, 114, 115, 116, 117, 118, 119, 120, 122, 123, 124, 125, 126, 128, 129, 130, 132, 133, 134, 135, 136, 138, 140, 141, 142, 144, 145, 146, 147, 148, 150, 152, 153, 154, 155, 156, 158, 159, 160, 161, 162, 164, 165, 166, 168, 170, 171, 172, 174, 175, 176, 177, 178, 180, 182, 183, 184, 185, 186, 188, 189, 190, 192, 194, 195, 196, 198, 200]\n"
     ]
    }
   ],
   "source": [
    "# nested for loop in list comprehension\n",
    "nums_divisible = set(num for num in range(1,201) for denominator in range(2,10) if \n",
    "                     num % denominator == 0)\n",
    "print(list(nums_divisible))"
   ]
  },
  {
   "cell_type": "markdown",
   "id": "41b10e2c",
   "metadata": {},
   "source": [
    "4.\t\n",
    "Create a list to get the first 11 Fibonacci series. \n",
    "\n",
    "\n",
    "Note: The Fibonacci Sequence is the series of numbers: 0, 1, 1, 2, 3, 5, 8, 13, 21, .... \n",
    "\n",
    "Every next number is found by adding up the two numbers before it.\n",
    "\n",
    "Expected Output: 1 1 2 3 5 8 13 21 34 55 89\n"
   ]
  },
  {
   "cell_type": "code",
   "execution_count": 9,
   "id": "b44ef054",
   "metadata": {},
   "outputs": [
    {
     "name": "stdout",
     "output_type": "stream",
     "text": [
      "How long the Fibonacci series do you wanna get? 50\n",
      "The Fibonacci series is [1, 1, 2, 3, 5, 8, 13, 21, 34, 55, 89, 144, 233, 377, 610, 987, 1597, 2584, 4181, 6765, 10946, 17711, 28657, 46368, 75025, 121393, 196418, 317811, 514229, 832040, 1346269, 2178309, 3524578, 5702887, 9227465, 14930352, 24157817, 39088169, 63245986, 102334155, 165580141, 267914296, 433494437, 701408733, 1134903170, 1836311903, 2971215073, 4807526976, 7778742049, 12586269025].\n"
     ]
    }
   ],
   "source": [
    "# use for loop\n",
    "def main():\n",
    "    Fibonacci = [0,1]\n",
    "    \n",
    "    length = int(input(\"How long the Fibonacci series do you wanna get? \"))\n",
    "    \n",
    "    if len(Fibonacci) >= length:\n",
    "        print(f\"The Fibonacci series is {Fibonacci}.\")\n",
    "    else:\n",
    "        for i in range(length-1):\n",
    "            Fibonacci.append(Fibonacci[i]+Fibonacci[i+1])\n",
    "        # remove 0 from series\n",
    "        del Fibonacci[0]\n",
    "        print(f\"The Fibonacci series is {Fibonacci}.\")\n",
    "        \n",
    "if __name__ == '__main__':\n",
    "    main()"
   ]
  },
  {
   "cell_type": "code",
   "execution_count": 69,
   "id": "38484def",
   "metadata": {},
   "outputs": [
    {
     "name": "stdout",
     "output_type": "stream",
     "text": [
      "How many Fibonacci seires numbers you want? 11\n",
      "[1, 1, 2, 3, 5, 8, 13, 21, 34, 55, 89]\n"
     ]
    }
   ],
   "source": [
    "# use recursion\n",
    "\n",
    "def main():\n",
    "    length = int(input(\"How many Fibonacci seires numbers you want? \"))\n",
    "    fib_series = []\n",
    "    for i in range(1,length+1):\n",
    "        fib_series.append(fibonacci(i))\n",
    "    print(fib_series)\n",
    "    \n",
    "def fibonacci(n):\n",
    "    if n in {0,1}:\n",
    "        return n\n",
    "    return fibonacci(n-1) + fibonacci(n-2)\n",
    "\n",
    "if __name__ == '__main__':\n",
    "    main()"
   ]
  },
  {
   "cell_type": "markdown",
   "id": "f6c9ccde",
   "metadata": {},
   "source": [
    "5.\tCount the number of paragraphs, tables, and external links from the webpage: https://en.wikipedia.org/wiki/Baruch_College"
   ]
  },
  {
   "cell_type": "code",
   "execution_count": 93,
   "id": "5e1f97ed",
   "metadata": {},
   "outputs": [],
   "source": [
    "import requests\n",
    "from bs4 import BeautifulSoup\n",
    "\n",
    "url = 'https://en.wikipedia.org/wiki/Baruch_College'\n",
    "    \n",
    "r = requests.get(url)\n",
    "\n",
    "html_soup = BeautifulSoup(r.text)\n",
    "\n",
    "# find all paragraphs\n",
    "para = html_soup.find_all('p')\n",
    "# find all tables\n",
    "table = html_soup.find_all('table')\n",
    "# find all hyperlinks\n",
    "hyperlink = html_soup.find_all('a', attrs = {'class':'external text'})"
   ]
  },
  {
   "cell_type": "code",
   "execution_count": 123,
   "id": "7d05f675",
   "metadata": {},
   "outputs": [
    {
     "data": {
      "text/plain": [
       "33"
      ]
     },
     "execution_count": 123,
     "metadata": {},
     "output_type": "execute_result"
    },
    {
     "data": {
      "text/plain": [
       "8"
      ]
     },
     "execution_count": 123,
     "metadata": {},
     "output_type": "execute_result"
    },
    {
     "data": {
      "text/plain": [
       "188"
      ]
     },
     "execution_count": 123,
     "metadata": {},
     "output_type": "execute_result"
    }
   ],
   "source": [
    "# count number of all the paragraphs, tables, and hyperlinks\n",
    "len(para)\n",
    "len(table)\n",
    "len(hyperlink)"
   ]
  },
  {
   "cell_type": "code",
   "execution_count": 121,
   "id": "2d425927",
   "metadata": {},
   "outputs": [
    {
     "data": {
      "text/plain": [
       "['//geohack.toolforge.org/geohack.php?pagename=Baruch_College&params=40.740159_N_73.98338_W_source:dewiki_region:US-NY_type:edu_dim:5km',\n",
       " '//geohack.toolforge.org/geohack.php?pagename=Baruch_College&params=40.740159_N_73.98338_W_source:dewiki_region:US-NY_type:edu_dim:5km',\n",
       " 'http://www.baruch.cuny.edu',\n",
       " 'https://en.wikipedia.org/w/index.php?title=Baruch_College&action=edit',\n",
       " 'https://www.alumni.baruch.cuny.edu/uploaded/Annual_Reports/BCF_Annual_Report_2020-21-Final.pdf']"
      ]
     },
     "execution_count": 121,
     "metadata": {},
     "output_type": "execute_result"
    }
   ],
   "source": [
    "# Check the the links with URL\n",
    "href_list = [hyperlink[i].get('href') for i in range(len(hyperlink))]\n",
    "href_list[0:5]"
   ]
  },
  {
   "cell_type": "markdown",
   "id": "18173f12",
   "metadata": {},
   "source": [
    "6.\tPrint the text in the first paragraph from the following html document:\n",
    "\n",
    "```\n",
    "html_doc = \"\"\"\n",
    "<html>\n",
    "<head>\n",
    "<meta http-equiv=\"Content-Type\" content=\"text/html;\n",
    "charset=iso-8859-1\">\n",
    "<title>An example of HTML page</title>\n",
    "</head>\n",
    "<body>\n",
    "<h2>This is an example HTML page</h2>\n",
    "<p>\n",
    "Lorem ipsum dolor sit amet, consectetur adipiscing elit. Nunc at nisi velit,\n",
    "aliquet iaculis est. Curabitur porttitor nisi vel lacus euismod egestas. In hac\n",
    "habitasse platea dictumst. In sagittis magna eu odio interdum mollis. Phasellus\n",
    "sagittis pulvinar facilisis. Donec vel odio volutpat tortor volutpat commodo.\n",
    "Donec vehicula vulputate sem, vel iaculis urna molestie eget. Sed pellentesque\n",
    "adipiscing tortor, at condimentum elit elementum sed. Mauris dignissim\n",
    "elementum nunc, non elementum felis condimentum eu. In in turpis quis erat\n",
    "imperdiet vulputate. Pellentesque mauris turpis, dignissim sed iaculis eu,\n",
    "euismod eget ipsum. Vivamus mollis adipiscing viverra. Morbi at sem eget nisl\n",
    "euismod porta.</p>\n",
    "<p><a href=\"https://www.w3resource.com/html/HTML-tutorials.php\">Learn HTML from\n",
    "w3resource.com</a></p>\n",
    "<p><a href=\"https://www.w3resource.com/css/CSS-tutorials.php\">Learn CSS from \n",
    "w3resource.com</a></p>\n",
    "</body>\n",
    "</html>\n",
    "\"\"\"\n",
    "```\n"
   ]
  },
  {
   "cell_type": "code",
   "execution_count": 138,
   "id": "16baa35e",
   "metadata": {},
   "outputs": [],
   "source": [
    "# assign the html code to the object html_doc\n",
    "html_doc = \"\"\"\n",
    "<html>\n",
    "<head>\n",
    "<meta http-equiv=\"Content-Type\" content=\"text/html;\n",
    "charset=iso-8859-1\">\n",
    "<title>An example of HTML page</title>\n",
    "</head>\n",
    "<body>\n",
    "<h2>This is an example HTML page</h2>\n",
    "<p>\n",
    "Lorem ipsum dolor sit amet, consectetur adipiscing elit. Nunc at nisi velit,\n",
    "aliquet iaculis est. Curabitur porttitor nisi vel lacus euismod egestas. In hac\n",
    "habitasse platea dictumst. In sagittis magna eu odio interdum mollis. Phasellus\n",
    "sagittis pulvinar facilisis. Donec vel odio volutpat tortor volutpat commodo.\n",
    "Donec vehicula vulputate sem, vel iaculis urna molestie eget. Sed pellentesque\n",
    "adipiscing tortor, at condimentum elit elementum sed. Mauris dignissim\n",
    "elementum nunc, non elementum felis condimentum eu. In in turpis quis erat\n",
    "imperdiet vulputate. Pellentesque mauris turpis, dignissim sed iaculis eu,\n",
    "euismod eget ipsum. Vivamus mollis adipiscing viverra. Morbi at sem eget nisl\n",
    "euismod porta.</p>\n",
    "<p><a href=\"https://www.w3resource.com/html/HTML-tutorials.php\">Learn HTML from\n",
    "w3resource.com</a></p>\n",
    "<p><a href=\"https://www.w3resource.com/css/CSS-tutorials.php\">Learn CSS from \n",
    "w3resource.com</a></p>\n",
    "</body>\n",
    "</html>\n",
    "\"\"\""
   ]
  },
  {
   "cell_type": "code",
   "execution_count": 146,
   "id": "e7b61244",
   "metadata": {},
   "outputs": [
    {
     "name": "stdout",
     "output_type": "stream",
     "text": [
      "\n",
      "Lorem ipsum dolor sit amet, consectetur adipiscing elit. Nunc at nisi velit,\n",
      "aliquet iaculis est. Curabitur porttitor nisi vel lacus euismod egestas. In hac\n",
      "habitasse platea dictumst. In sagittis magna eu odio interdum mollis. Phasellus\n",
      "sagittis pulvinar facilisis. Donec vel odio volutpat tortor volutpat commodo.\n",
      "Donec vehicula vulputate sem, vel iaculis urna molestie eget. Sed pellentesque\n",
      "adipiscing tortor, at condimentum elit elementum sed. Mauris dignissim\n",
      "elementum nunc, non elementum felis condimentum eu. In in turpis quis erat\n",
      "imperdiet vulputate. Pellentesque mauris turpis, dignissim sed iaculis eu,\n",
      "euismod eget ipsum. Vivamus mollis adipiscing viverra. Morbi at sem eget nisl\n",
      "euismod porta.\n"
     ]
    }
   ],
   "source": [
    "html_soup = BeautifulSoup(markup = html_doc, features = 'html.parser')\n",
    "\n",
    "print(html_soup.find('p').text)"
   ]
  },
  {
   "cell_type": "markdown",
   "id": "fc6619a4",
   "metadata": {},
   "source": [
    "7.\tWrite a Python program to find all the link tags and list the first ten from the webpage https://www.baruch.cuny.edu"
   ]
  },
  {
   "cell_type": "code",
   "execution_count": 134,
   "id": "ec7a7a54",
   "metadata": {},
   "outputs": [],
   "source": [
    "import requests\n",
    "from bs4 import BeautifulSoup\n",
    "\n",
    "url = 'https://www.baruch.cuny.edu'\n",
    "r = requests.get(url)\n",
    "\n",
    "html_soup = BeautifulSoup(markup = r.text, features = 'html.parser' )\n",
    "\n",
    "# all the link tags\n",
    "links = html_soup.find_all('a', limit = 10)"
   ]
  },
  {
   "cell_type": "code",
   "execution_count": 137,
   "id": "0fbae705",
   "metadata": {},
   "outputs": [
    {
     "data": {
      "text/plain": [
       "['https://blogs.baruch.cuny.edu/bctc/2022/03/22/m365emailfaq/',\n",
       " '#content',\n",
       " 'https://forward.baruch.cuny.edu/',\n",
       " 'https://www.baruch.cuny.edu/bctc/blackboard/',\n",
       " 'https://blogs.baruch.cuny.edu/',\n",
       " 'https://home.cunyfirst.cuny.edu/',\n",
       " 'https://www.baruch.cuny.edu/bctc/degreeworks/',\n",
       " 'https://baruch.cuny.edu/epaf/',\n",
       " '#',\n",
       " 'https://outlook.office.com/']"
      ]
     },
     "execution_count": 137,
     "metadata": {},
     "output_type": "execute_result"
    }
   ],
   "source": [
    "link_href = [links[i].get('href') for i in range(len(links))]\n",
    "link_href"
   ]
  },
  {
   "cell_type": "markdown",
   "id": "86f8c959",
   "metadata": {},
   "source": [
    "8.\tCreate a Python dictionary to get the title, rating and the url of the top 50 movie from IMDb movie database: https://www.imdb.com/chart/top/?ref_=nv_mv_250"
   ]
  },
  {
   "cell_type": "code",
   "execution_count": 2,
   "id": "21f8a813",
   "metadata": {},
   "outputs": [],
   "source": [
    "import requests\n",
    "from bs4 import BeautifulSoup\n",
    "\n",
    "url = 'https://www.imdb.com/chart/top/?ref_=nv_mv_250'\n",
    "    \n",
    "r = requests.get(url)\n",
    "\n",
    "html_soup = BeautifulSoup(markup = r.text, features = 'html.parser')\n",
    "\n",
    "# go to the page and find the table there\n",
    "table = html_soup.find('table', attrs = {'data-caller-name':'chart-top250movie'})"
   ]
  },
  {
   "cell_type": "code",
   "execution_count": 3,
   "id": "147c8908",
   "metadata": {},
   "outputs": [
    {
     "data": {
      "text/plain": [
       "250"
      ]
     },
     "execution_count": 3,
     "metadata": {},
     "output_type": "execute_result"
    }
   ],
   "source": [
    "# td(table data) tag contains the table\n",
    "Titles_tag = table.find_all('td', attrs = {'class':'titleColumn'})\n",
    "# a tag contains movie titles\n",
    "titles = [Titles_tag[i].find('a').text for i in range(len(Titles_tag))]\n",
    "# check movie titles\n",
    "titles[:5]\n",
    "len(titles)"
   ]
  },
  {
   "cell_type": "code",
   "execution_count": 5,
   "id": "f53f4de1",
   "metadata": {},
   "outputs": [
    {
     "data": {
      "text/plain": [
       "['/title/tt0111161/',\n",
       " '/title/tt0068646/',\n",
       " '/title/tt0468569/',\n",
       " '/title/tt0071562/',\n",
       " '/title/tt0050083/']"
      ]
     },
     "execution_count": 5,
     "metadata": {},
     "output_type": "execute_result"
    }
   ],
   "source": [
    "# links in href attrs in a tag\n",
    "links = [Titles_tag[i].find('a').get('href') for i in range(len(Titles_tag))]\n",
    "links[:5]"
   ]
  },
  {
   "cell_type": "code",
   "execution_count": 6,
   "id": "70e7b027",
   "metadata": {},
   "outputs": [
    {
     "data": {
      "text/plain": [
       "['9.2', '9.2', '9.0', '9.0', '8.9']"
      ]
     },
     "execution_count": 6,
     "metadata": {},
     "output_type": "execute_result"
    }
   ],
   "source": [
    "# ratings tag\n",
    "ratings_tag = table.find_all('strong')\n",
    "ratings = [ratings_tag[i].text for i in range(len(ratings_tag))]\n",
    "# check the ratings\n",
    "ratings[:5]"
   ]
  },
  {
   "cell_type": "code",
   "execution_count": 10,
   "id": "cc7358cc",
   "metadata": {},
   "outputs": [
    {
     "name": "stdout",
     "output_type": "stream",
     "text": [
      "{'Title': 'The Shawshank Redemption', 'Rating': '9.2', 'URL': '/title/tt0111161/'}\n",
      "{'Title': 'The Godfather', 'Rating': '9.2', 'URL': '/title/tt0068646/'}\n",
      "{'Title': 'The Dark Knight', 'Rating': '9.0', 'URL': '/title/tt0468569/'}\n",
      "{'Title': 'The Godfather Part II', 'Rating': '9.0', 'URL': '/title/tt0071562/'}\n",
      "{'Title': '12 Angry Men', 'Rating': '8.9', 'URL': '/title/tt0050083/'}\n",
      "{'Title': \"Schindler's List\", 'Rating': '8.9', 'URL': '/title/tt0108052/'}\n",
      "{'Title': 'The Lord of the Rings: The Return of the King', 'Rating': '8.9', 'URL': '/title/tt0167260/'}\n",
      "{'Title': 'Pulp Fiction', 'Rating': '8.9', 'URL': '/title/tt0110912/'}\n",
      "{'Title': 'The Lord of the Rings: The Fellowship of the Ring', 'Rating': '8.8', 'URL': '/title/tt0120737/'}\n",
      "{'Title': 'The Good, the Bad and the Ugly', 'Rating': '8.8', 'URL': '/title/tt0060196/'}\n",
      "{'Title': 'Forrest Gump', 'Rating': '8.8', 'URL': '/title/tt0109830/'}\n",
      "{'Title': 'Fight Club', 'Rating': '8.7', 'URL': '/title/tt0137523/'}\n",
      "{'Title': 'Inception', 'Rating': '8.7', 'URL': '/title/tt1375666/'}\n",
      "{'Title': 'The Lord of the Rings: The Two Towers', 'Rating': '8.7', 'URL': '/title/tt0167261/'}\n",
      "{'Title': 'Star Wars: Episode V - The Empire Strikes Back', 'Rating': '8.7', 'URL': '/title/tt0080684/'}\n",
      "{'Title': 'The Matrix', 'Rating': '8.7', 'URL': '/title/tt0133093/'}\n",
      "{'Title': 'Goodfellas', 'Rating': '8.7', 'URL': '/title/tt0099685/'}\n",
      "{'Title': \"One Flew Over the Cuckoo's Nest\", 'Rating': '8.6', 'URL': '/title/tt0073486/'}\n",
      "{'Title': 'Se7en', 'Rating': '8.6', 'URL': '/title/tt0114369/'}\n",
      "{'Title': 'Seven Samurai', 'Rating': '8.6', 'URL': '/title/tt0047478/'}\n",
      "{'Title': \"It's a Wonderful Life\", 'Rating': '8.6', 'URL': '/title/tt0038650/'}\n",
      "{'Title': 'The Silence of the Lambs', 'Rating': '8.6', 'URL': '/title/tt0102926/'}\n",
      "{'Title': 'City of God', 'Rating': '8.6', 'URL': '/title/tt0317248/'}\n",
      "{'Title': 'Saving Private Ryan', 'Rating': '8.6', 'URL': '/title/tt0120815/'}\n",
      "{'Title': 'Life Is Beautiful', 'Rating': '8.6', 'URL': '/title/tt0118799/'}\n",
      "{'Title': 'The Green Mile', 'Rating': '8.6', 'URL': '/title/tt0120689/'}\n",
      "{'Title': 'Interstellar', 'Rating': '8.6', 'URL': '/title/tt0816692/'}\n",
      "{'Title': 'Star Wars', 'Rating': '8.6', 'URL': '/title/tt0076759/'}\n",
      "{'Title': 'Terminator 2: Judgment Day', 'Rating': '8.5', 'URL': '/title/tt0103064/'}\n",
      "{'Title': 'Back to the Future', 'Rating': '8.5', 'URL': '/title/tt0088763/'}\n",
      "{'Title': 'Spirited Away', 'Rating': '8.5', 'URL': '/title/tt0245429/'}\n",
      "{'Title': 'Psycho', 'Rating': '8.5', 'URL': '/title/tt0054215/'}\n",
      "{'Title': 'The Pianist', 'Rating': '8.5', 'URL': '/title/tt0253474/'}\n",
      "{'Title': 'Léon: The Professional', 'Rating': '8.5', 'URL': '/title/tt0110413/'}\n",
      "{'Title': 'Parasite', 'Rating': '8.5', 'URL': '/title/tt6751668/'}\n",
      "{'Title': 'The Lion King', 'Rating': '8.5', 'URL': '/title/tt0110357/'}\n",
      "{'Title': 'Gladiator', 'Rating': '8.5', 'URL': '/title/tt0172495/'}\n",
      "{'Title': 'American History X', 'Rating': '8.5', 'URL': '/title/tt0120586/'}\n",
      "{'Title': 'The Usual Suspects', 'Rating': '8.5', 'URL': '/title/tt0114814/'}\n",
      "{'Title': 'The Departed', 'Rating': '8.5', 'URL': '/title/tt0407887/'}\n",
      "{'Title': 'The Prestige', 'Rating': '8.5', 'URL': '/title/tt0482571/'}\n",
      "{'Title': 'Casablanca', 'Rating': '8.5', 'URL': '/title/tt0034583/'}\n",
      "{'Title': 'Whiplash', 'Rating': '8.5', 'URL': '/title/tt2582802/'}\n",
      "{'Title': 'Top Gun: Maverick', 'Rating': '8.5', 'URL': '/title/tt1745960/'}\n",
      "{'Title': 'The Intouchables', 'Rating': '8.5', 'URL': '/title/tt1675434/'}\n",
      "{'Title': 'Modern Times', 'Rating': '8.4', 'URL': '/title/tt0027977/'}\n",
      "{'Title': 'Hara-Kiri', 'Rating': '8.4', 'URL': '/title/tt0056058/'}\n",
      "{'Title': 'Grave of the Fireflies', 'Rating': '8.4', 'URL': '/title/tt0095327/'}\n",
      "{'Title': 'Once Upon a Time in the West', 'Rating': '8.4', 'URL': '/title/tt0064116/'}\n",
      "{'Title': 'Rear Window', 'Rating': '8.4', 'URL': '/title/tt0047396/'}\n"
     ]
    }
   ],
   "source": [
    "movies = []\n",
    "\n",
    "for i in range(50):\n",
    "    movie = {'Title': titles[i], 'Rating':ratings[i], 'URL':links[i]}\n",
    "    movies.append(movie)\n",
    "\n",
    "for i in movies:\n",
    "    print(i)"
   ]
  },
  {
   "cell_type": "code",
   "execution_count": 11,
   "id": "b514b1ac",
   "metadata": {},
   "outputs": [
    {
     "data": {
      "text/html": [
       "<div>\n",
       "<style scoped>\n",
       "    .dataframe tbody tr th:only-of-type {\n",
       "        vertical-align: middle;\n",
       "    }\n",
       "\n",
       "    .dataframe tbody tr th {\n",
       "        vertical-align: top;\n",
       "    }\n",
       "\n",
       "    .dataframe thead th {\n",
       "        text-align: right;\n",
       "    }\n",
       "</style>\n",
       "<table border=\"1\" class=\"dataframe\">\n",
       "  <thead>\n",
       "    <tr style=\"text-align: right;\">\n",
       "      <th></th>\n",
       "      <th>Title</th>\n",
       "      <th>Rating</th>\n",
       "      <th>URL</th>\n",
       "    </tr>\n",
       "  </thead>\n",
       "  <tbody>\n",
       "    <tr>\n",
       "      <th>1</th>\n",
       "      <td>The Shawshank Redemption</td>\n",
       "      <td>9.2</td>\n",
       "      <td>/title/tt0111161/</td>\n",
       "    </tr>\n",
       "    <tr>\n",
       "      <th>2</th>\n",
       "      <td>The Godfather</td>\n",
       "      <td>9.2</td>\n",
       "      <td>/title/tt0068646/</td>\n",
       "    </tr>\n",
       "    <tr>\n",
       "      <th>3</th>\n",
       "      <td>The Dark Knight</td>\n",
       "      <td>9.0</td>\n",
       "      <td>/title/tt0468569/</td>\n",
       "    </tr>\n",
       "    <tr>\n",
       "      <th>4</th>\n",
       "      <td>The Godfather Part II</td>\n",
       "      <td>9.0</td>\n",
       "      <td>/title/tt0071562/</td>\n",
       "    </tr>\n",
       "    <tr>\n",
       "      <th>5</th>\n",
       "      <td>12 Angry Men</td>\n",
       "      <td>8.9</td>\n",
       "      <td>/title/tt0050083/</td>\n",
       "    </tr>\n",
       "    <tr>\n",
       "      <th>6</th>\n",
       "      <td>Schindler's List</td>\n",
       "      <td>8.9</td>\n",
       "      <td>/title/tt0108052/</td>\n",
       "    </tr>\n",
       "    <tr>\n",
       "      <th>7</th>\n",
       "      <td>The Lord of the Rings: The Return of the King</td>\n",
       "      <td>8.9</td>\n",
       "      <td>/title/tt0167260/</td>\n",
       "    </tr>\n",
       "    <tr>\n",
       "      <th>8</th>\n",
       "      <td>Pulp Fiction</td>\n",
       "      <td>8.9</td>\n",
       "      <td>/title/tt0110912/</td>\n",
       "    </tr>\n",
       "    <tr>\n",
       "      <th>9</th>\n",
       "      <td>The Lord of the Rings: The Fellowship of the Ring</td>\n",
       "      <td>8.8</td>\n",
       "      <td>/title/tt0120737/</td>\n",
       "    </tr>\n",
       "    <tr>\n",
       "      <th>10</th>\n",
       "      <td>The Good, the Bad and the Ugly</td>\n",
       "      <td>8.8</td>\n",
       "      <td>/title/tt0060196/</td>\n",
       "    </tr>\n",
       "    <tr>\n",
       "      <th>11</th>\n",
       "      <td>Forrest Gump</td>\n",
       "      <td>8.8</td>\n",
       "      <td>/title/tt0109830/</td>\n",
       "    </tr>\n",
       "    <tr>\n",
       "      <th>12</th>\n",
       "      <td>Fight Club</td>\n",
       "      <td>8.7</td>\n",
       "      <td>/title/tt0137523/</td>\n",
       "    </tr>\n",
       "    <tr>\n",
       "      <th>13</th>\n",
       "      <td>Inception</td>\n",
       "      <td>8.7</td>\n",
       "      <td>/title/tt1375666/</td>\n",
       "    </tr>\n",
       "    <tr>\n",
       "      <th>14</th>\n",
       "      <td>The Lord of the Rings: The Two Towers</td>\n",
       "      <td>8.7</td>\n",
       "      <td>/title/tt0167261/</td>\n",
       "    </tr>\n",
       "    <tr>\n",
       "      <th>15</th>\n",
       "      <td>Star Wars: Episode V - The Empire Strikes Back</td>\n",
       "      <td>8.7</td>\n",
       "      <td>/title/tt0080684/</td>\n",
       "    </tr>\n",
       "    <tr>\n",
       "      <th>16</th>\n",
       "      <td>The Matrix</td>\n",
       "      <td>8.7</td>\n",
       "      <td>/title/tt0133093/</td>\n",
       "    </tr>\n",
       "    <tr>\n",
       "      <th>17</th>\n",
       "      <td>Goodfellas</td>\n",
       "      <td>8.7</td>\n",
       "      <td>/title/tt0099685/</td>\n",
       "    </tr>\n",
       "    <tr>\n",
       "      <th>18</th>\n",
       "      <td>One Flew Over the Cuckoo's Nest</td>\n",
       "      <td>8.6</td>\n",
       "      <td>/title/tt0073486/</td>\n",
       "    </tr>\n",
       "    <tr>\n",
       "      <th>19</th>\n",
       "      <td>Se7en</td>\n",
       "      <td>8.6</td>\n",
       "      <td>/title/tt0114369/</td>\n",
       "    </tr>\n",
       "    <tr>\n",
       "      <th>20</th>\n",
       "      <td>Seven Samurai</td>\n",
       "      <td>8.6</td>\n",
       "      <td>/title/tt0047478/</td>\n",
       "    </tr>\n",
       "    <tr>\n",
       "      <th>21</th>\n",
       "      <td>It's a Wonderful Life</td>\n",
       "      <td>8.6</td>\n",
       "      <td>/title/tt0038650/</td>\n",
       "    </tr>\n",
       "    <tr>\n",
       "      <th>22</th>\n",
       "      <td>The Silence of the Lambs</td>\n",
       "      <td>8.6</td>\n",
       "      <td>/title/tt0102926/</td>\n",
       "    </tr>\n",
       "    <tr>\n",
       "      <th>23</th>\n",
       "      <td>City of God</td>\n",
       "      <td>8.6</td>\n",
       "      <td>/title/tt0317248/</td>\n",
       "    </tr>\n",
       "    <tr>\n",
       "      <th>24</th>\n",
       "      <td>Saving Private Ryan</td>\n",
       "      <td>8.6</td>\n",
       "      <td>/title/tt0120815/</td>\n",
       "    </tr>\n",
       "    <tr>\n",
       "      <th>25</th>\n",
       "      <td>Life Is Beautiful</td>\n",
       "      <td>8.6</td>\n",
       "      <td>/title/tt0118799/</td>\n",
       "    </tr>\n",
       "    <tr>\n",
       "      <th>26</th>\n",
       "      <td>The Green Mile</td>\n",
       "      <td>8.6</td>\n",
       "      <td>/title/tt0120689/</td>\n",
       "    </tr>\n",
       "    <tr>\n",
       "      <th>27</th>\n",
       "      <td>Interstellar</td>\n",
       "      <td>8.6</td>\n",
       "      <td>/title/tt0816692/</td>\n",
       "    </tr>\n",
       "    <tr>\n",
       "      <th>28</th>\n",
       "      <td>Star Wars</td>\n",
       "      <td>8.6</td>\n",
       "      <td>/title/tt0076759/</td>\n",
       "    </tr>\n",
       "    <tr>\n",
       "      <th>29</th>\n",
       "      <td>Terminator 2: Judgment Day</td>\n",
       "      <td>8.5</td>\n",
       "      <td>/title/tt0103064/</td>\n",
       "    </tr>\n",
       "    <tr>\n",
       "      <th>30</th>\n",
       "      <td>Back to the Future</td>\n",
       "      <td>8.5</td>\n",
       "      <td>/title/tt0088763/</td>\n",
       "    </tr>\n",
       "    <tr>\n",
       "      <th>31</th>\n",
       "      <td>Spirited Away</td>\n",
       "      <td>8.5</td>\n",
       "      <td>/title/tt0245429/</td>\n",
       "    </tr>\n",
       "    <tr>\n",
       "      <th>32</th>\n",
       "      <td>Psycho</td>\n",
       "      <td>8.5</td>\n",
       "      <td>/title/tt0054215/</td>\n",
       "    </tr>\n",
       "    <tr>\n",
       "      <th>33</th>\n",
       "      <td>The Pianist</td>\n",
       "      <td>8.5</td>\n",
       "      <td>/title/tt0253474/</td>\n",
       "    </tr>\n",
       "    <tr>\n",
       "      <th>34</th>\n",
       "      <td>Léon: The Professional</td>\n",
       "      <td>8.5</td>\n",
       "      <td>/title/tt0110413/</td>\n",
       "    </tr>\n",
       "    <tr>\n",
       "      <th>35</th>\n",
       "      <td>Parasite</td>\n",
       "      <td>8.5</td>\n",
       "      <td>/title/tt6751668/</td>\n",
       "    </tr>\n",
       "    <tr>\n",
       "      <th>36</th>\n",
       "      <td>The Lion King</td>\n",
       "      <td>8.5</td>\n",
       "      <td>/title/tt0110357/</td>\n",
       "    </tr>\n",
       "    <tr>\n",
       "      <th>37</th>\n",
       "      <td>Gladiator</td>\n",
       "      <td>8.5</td>\n",
       "      <td>/title/tt0172495/</td>\n",
       "    </tr>\n",
       "    <tr>\n",
       "      <th>38</th>\n",
       "      <td>American History X</td>\n",
       "      <td>8.5</td>\n",
       "      <td>/title/tt0120586/</td>\n",
       "    </tr>\n",
       "    <tr>\n",
       "      <th>39</th>\n",
       "      <td>The Usual Suspects</td>\n",
       "      <td>8.5</td>\n",
       "      <td>/title/tt0114814/</td>\n",
       "    </tr>\n",
       "    <tr>\n",
       "      <th>40</th>\n",
       "      <td>The Departed</td>\n",
       "      <td>8.5</td>\n",
       "      <td>/title/tt0407887/</td>\n",
       "    </tr>\n",
       "    <tr>\n",
       "      <th>41</th>\n",
       "      <td>The Prestige</td>\n",
       "      <td>8.5</td>\n",
       "      <td>/title/tt0482571/</td>\n",
       "    </tr>\n",
       "    <tr>\n",
       "      <th>42</th>\n",
       "      <td>Casablanca</td>\n",
       "      <td>8.5</td>\n",
       "      <td>/title/tt0034583/</td>\n",
       "    </tr>\n",
       "    <tr>\n",
       "      <th>43</th>\n",
       "      <td>Whiplash</td>\n",
       "      <td>8.5</td>\n",
       "      <td>/title/tt2582802/</td>\n",
       "    </tr>\n",
       "    <tr>\n",
       "      <th>44</th>\n",
       "      <td>Top Gun: Maverick</td>\n",
       "      <td>8.5</td>\n",
       "      <td>/title/tt1745960/</td>\n",
       "    </tr>\n",
       "    <tr>\n",
       "      <th>45</th>\n",
       "      <td>The Intouchables</td>\n",
       "      <td>8.5</td>\n",
       "      <td>/title/tt1675434/</td>\n",
       "    </tr>\n",
       "    <tr>\n",
       "      <th>46</th>\n",
       "      <td>Modern Times</td>\n",
       "      <td>8.4</td>\n",
       "      <td>/title/tt0027977/</td>\n",
       "    </tr>\n",
       "    <tr>\n",
       "      <th>47</th>\n",
       "      <td>Hara-Kiri</td>\n",
       "      <td>8.4</td>\n",
       "      <td>/title/tt0056058/</td>\n",
       "    </tr>\n",
       "    <tr>\n",
       "      <th>48</th>\n",
       "      <td>Grave of the Fireflies</td>\n",
       "      <td>8.4</td>\n",
       "      <td>/title/tt0095327/</td>\n",
       "    </tr>\n",
       "    <tr>\n",
       "      <th>49</th>\n",
       "      <td>Once Upon a Time in the West</td>\n",
       "      <td>8.4</td>\n",
       "      <td>/title/tt0064116/</td>\n",
       "    </tr>\n",
       "    <tr>\n",
       "      <th>50</th>\n",
       "      <td>Rear Window</td>\n",
       "      <td>8.4</td>\n",
       "      <td>/title/tt0047396/</td>\n",
       "    </tr>\n",
       "  </tbody>\n",
       "</table>\n",
       "</div>"
      ],
      "text/plain": [
       "                                                Title Rating  \\\n",
       "1                            The Shawshank Redemption    9.2   \n",
       "2                                       The Godfather    9.2   \n",
       "3                                     The Dark Knight    9.0   \n",
       "4                               The Godfather Part II    9.0   \n",
       "5                                        12 Angry Men    8.9   \n",
       "6                                    Schindler's List    8.9   \n",
       "7       The Lord of the Rings: The Return of the King    8.9   \n",
       "8                                        Pulp Fiction    8.9   \n",
       "9   The Lord of the Rings: The Fellowship of the Ring    8.8   \n",
       "10                     The Good, the Bad and the Ugly    8.8   \n",
       "11                                       Forrest Gump    8.8   \n",
       "12                                         Fight Club    8.7   \n",
       "13                                          Inception    8.7   \n",
       "14              The Lord of the Rings: The Two Towers    8.7   \n",
       "15     Star Wars: Episode V - The Empire Strikes Back    8.7   \n",
       "16                                         The Matrix    8.7   \n",
       "17                                         Goodfellas    8.7   \n",
       "18                    One Flew Over the Cuckoo's Nest    8.6   \n",
       "19                                              Se7en    8.6   \n",
       "20                                      Seven Samurai    8.6   \n",
       "21                              It's a Wonderful Life    8.6   \n",
       "22                           The Silence of the Lambs    8.6   \n",
       "23                                        City of God    8.6   \n",
       "24                                Saving Private Ryan    8.6   \n",
       "25                                  Life Is Beautiful    8.6   \n",
       "26                                     The Green Mile    8.6   \n",
       "27                                       Interstellar    8.6   \n",
       "28                                          Star Wars    8.6   \n",
       "29                         Terminator 2: Judgment Day    8.5   \n",
       "30                                 Back to the Future    8.5   \n",
       "31                                      Spirited Away    8.5   \n",
       "32                                             Psycho    8.5   \n",
       "33                                        The Pianist    8.5   \n",
       "34                             Léon: The Professional    8.5   \n",
       "35                                           Parasite    8.5   \n",
       "36                                      The Lion King    8.5   \n",
       "37                                          Gladiator    8.5   \n",
       "38                                 American History X    8.5   \n",
       "39                                 The Usual Suspects    8.5   \n",
       "40                                       The Departed    8.5   \n",
       "41                                       The Prestige    8.5   \n",
       "42                                         Casablanca    8.5   \n",
       "43                                           Whiplash    8.5   \n",
       "44                                  Top Gun: Maverick    8.5   \n",
       "45                                   The Intouchables    8.5   \n",
       "46                                       Modern Times    8.4   \n",
       "47                                          Hara-Kiri    8.4   \n",
       "48                             Grave of the Fireflies    8.4   \n",
       "49                       Once Upon a Time in the West    8.4   \n",
       "50                                        Rear Window    8.4   \n",
       "\n",
       "                  URL  \n",
       "1   /title/tt0111161/  \n",
       "2   /title/tt0068646/  \n",
       "3   /title/tt0468569/  \n",
       "4   /title/tt0071562/  \n",
       "5   /title/tt0050083/  \n",
       "6   /title/tt0108052/  \n",
       "7   /title/tt0167260/  \n",
       "8   /title/tt0110912/  \n",
       "9   /title/tt0120737/  \n",
       "10  /title/tt0060196/  \n",
       "11  /title/tt0109830/  \n",
       "12  /title/tt0137523/  \n",
       "13  /title/tt1375666/  \n",
       "14  /title/tt0167261/  \n",
       "15  /title/tt0080684/  \n",
       "16  /title/tt0133093/  \n",
       "17  /title/tt0099685/  \n",
       "18  /title/tt0073486/  \n",
       "19  /title/tt0114369/  \n",
       "20  /title/tt0047478/  \n",
       "21  /title/tt0038650/  \n",
       "22  /title/tt0102926/  \n",
       "23  /title/tt0317248/  \n",
       "24  /title/tt0120815/  \n",
       "25  /title/tt0118799/  \n",
       "26  /title/tt0120689/  \n",
       "27  /title/tt0816692/  \n",
       "28  /title/tt0076759/  \n",
       "29  /title/tt0103064/  \n",
       "30  /title/tt0088763/  \n",
       "31  /title/tt0245429/  \n",
       "32  /title/tt0054215/  \n",
       "33  /title/tt0253474/  \n",
       "34  /title/tt0110413/  \n",
       "35  /title/tt6751668/  \n",
       "36  /title/tt0110357/  \n",
       "37  /title/tt0172495/  \n",
       "38  /title/tt0120586/  \n",
       "39  /title/tt0114814/  \n",
       "40  /title/tt0407887/  \n",
       "41  /title/tt0482571/  \n",
       "42  /title/tt0034583/  \n",
       "43  /title/tt2582802/  \n",
       "44  /title/tt1745960/  \n",
       "45  /title/tt1675434/  \n",
       "46  /title/tt0027977/  \n",
       "47  /title/tt0056058/  \n",
       "48  /title/tt0095327/  \n",
       "49  /title/tt0064116/  \n",
       "50  /title/tt0047396/  "
      ]
     },
     "execution_count": 11,
     "metadata": {},
     "output_type": "execute_result"
    }
   ],
   "source": [
    "import pandas as pd\n",
    "\n",
    "pd.DataFrame(movies,\n",
    "            index = range(1,len(movies)+1))"
   ]
  }
 ],
 "metadata": {
  "kernelspec": {
   "display_name": "Python 3",
   "language": "python",
   "name": "python3"
  },
  "language_info": {
   "codemirror_mode": {
    "name": "ipython",
    "version": 3
   },
   "file_extension": ".py",
   "mimetype": "text/x-python",
   "name": "python",
   "nbconvert_exporter": "python",
   "pygments_lexer": "ipython3",
   "version": "3.9.5"
  }
 },
 "nbformat": 4,
 "nbformat_minor": 5
}
