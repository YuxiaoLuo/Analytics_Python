{
 "cells": [
  {
   "cell_type": "code",
   "execution_count": 2,
   "id": "86686993",
   "metadata": {},
   "outputs": [],
   "source": [
    "from IPython.core.interactiveshell import InteractiveShell\n",
    "InteractiveShell.ast_node_interactivity = \"all\""
   ]
  },
  {
   "cell_type": "markdown",
   "id": "0db794ca",
   "metadata": {},
   "source": [
    "1.\tWrite a Python program to filter integers (1-50) into two lists (even numbers and odd numbers) (using Lambda argument)"
   ]
  },
  {
   "cell_type": "code",
   "execution_count": 52,
   "id": "fa1d378a",
   "metadata": {},
   "outputs": [
    {
     "name": "stdout",
     "output_type": "stream",
     "text": [
      "This program filters integers (1-50) into two lists. \n",
      "\n",
      "The odd list is [1, 3, 5, 7, 9, 11, 13, 15, 17, 19, 21, 23, 25, 27, 29, 31, 33, 35, 37, 39, 41, 43, 45, 47, 49]. \n",
      "\n",
      "The even list is [2, 4, 6, 8, 10, 12, 14, 16, 18, 20, 22, 24, 26, 28, 30, 32, 34, 36, 38, 40, 42, 44, 46, 48, 50]. \n",
      "\n"
     ]
    }
   ],
   "source": [
    "def main():\n",
    "    print(\"This program filters integers (1-50) into two lists. \\n\")\n",
    "    odd = []\n",
    "    even = []\n",
    "    for number in range(1,51):\n",
    "        if number%2 == 0:\n",
    "            even.append(number)\n",
    "        elif number % 2 != 0:\n",
    "            odd.append(number)\n",
    "        else:\n",
    "            print(\"ERROR: please check!\")\n",
    "    print(f\"The odd list is {odd}. \\n\")\n",
    "    print(f\"The even list is {even}. \\n\")\n",
    "    \n",
    "if __name__ == \"__main__\":\n",
    "    main()"
   ]
  },
  {
   "cell_type": "code",
   "execution_count": 7,
   "id": "48e4d1bd",
   "metadata": {},
   "outputs": [
    {
     "data": {
      "text/plain": [
       "range"
      ]
     },
     "execution_count": 7,
     "metadata": {},
     "output_type": "execute_result"
    },
    {
     "name": "stdout",
     "output_type": "stream",
     "text": [
      "[2, 4, 6, 8, 10, 12, 14, 16, 18, 20, 22, 24, 26, 28, 30, 32, 34, 36, 38, 40, 42, 44, 46, 48, 50]\n",
      "[1, 3, 5, 7, 9, 11, 13, 15, 17, 19, 21, 23, 25, 27, 29, 31, 33, 35, 37, 39, 41, 43, 45, 47, 49]\n"
     ]
    }
   ],
   "source": [
    "# using lambda and filter()\n",
    "num = range(1,51)\n",
    "type(num)\n",
    "\n",
    "# filter(func, iterable) extracts the True elements returned by the func\n",
    "even_num = list(filter(lambda x: x%2 == 0, num))\n",
    "\n",
    "odd_num = list(filter(lambda x: x%2 !=0, num))\n",
    "\n",
    "print(even_num)\n",
    "print(odd_num)"
   ]
  },
  {
   "cell_type": "markdown",
   "id": "13b0bad7",
   "metadata": {},
   "source": [
    "2.\tCreate a list and find numbers from 1 to 200, which are divisible by 2-9 (use for loop)"
   ]
  },
  {
   "cell_type": "code",
   "execution_count": 32,
   "id": "7b5d0d79",
   "metadata": {},
   "outputs": [
    {
     "name": "stdout",
     "output_type": "stream",
     "text": [
      "From 1 to 200, these numbers are divisible by 2-9: {2, 3, 4, 5, 6, 7, 8, 9, 10, 12, 14, 15, 16, 18, 20, 21, 22, 24, 25, 26, 27, 28, 30, 32, 33, 34, 35, 36, 38, 39, 40, 42, 44, 45, 46, 48, 49, 50, 51, 52, 54, 55, 56, 57, 58, 60, 62, 63, 64, 65, 66, 68, 69, 70, 72, 74, 75, 76, 77, 78, 80, 81, 82, 84, 85, 86, 87, 88, 90, 91, 92, 93, 94, 95, 96, 98, 99, 100, 102, 104, 105, 106, 108, 110, 111, 112, 114, 115, 116, 117, 118, 119, 120, 122, 123, 124, 125, 126, 128, 129, 130, 132, 133, 134, 135, 136, 138, 140, 141, 142, 144, 145, 146, 147, 148, 150, 152, 153, 154, 155, 156, 158, 159, 160, 161, 162, 164, 165, 166, 168, 170, 171, 172, 174, 175, 176, 177, 178, 180, 182, 183, 184, 185, 186, 188, 189, 190, 192, 194, 195, 196, 198, 200}\n"
     ]
    }
   ],
   "source": [
    "def main():\n",
    "    \n",
    "    # create empty list\n",
    "    nums_divisible = []\n",
    "    \n",
    "    # for loop\n",
    "    for num in range(1, 201):\n",
    "        for denominator in range(2,10):\n",
    "            if num % denominator == 0:\n",
    "                nums_divisible += [num]\n",
    "                \n",
    "    # keep unique numbers in the list\n",
    "    nums_divisible = set(nums_divisible)            \n",
    "    # print result\n",
    "    print(f\"From 1 to 200, these numbers are divisible by 2-9: {nums_divisible}\")\n",
    "    \n",
    "if __name__ == '__main__':\n",
    "    main()"
   ]
  },
  {
   "cell_type": "markdown",
   "id": "b5cd2222",
   "metadata": {},
   "source": [
    "3.\tCreate a list and find numbers from 1 to 200, which are divisible by 2-9 (use list comprehension)"
   ]
  },
  {
   "cell_type": "code",
   "execution_count": 51,
   "id": "649f595b",
   "metadata": {},
   "outputs": [
    {
     "name": "stdout",
     "output_type": "stream",
     "text": [
      "[2, 3, 4, 5, 6, 7, 8, 9, 10, 12, 14, 15, 16, 18, 20, 21, 22, 24, 25, 26, 27, 28, 30, 32, 33, 34, 35, 36, 38, 39, 40, 42, 44, 45, 46, 48, 49, 50, 51, 52, 54, 55, 56, 57, 58, 60, 62, 63, 64, 65, 66, 68, 69, 70, 72, 74, 75, 76, 77, 78, 80, 81, 82, 84, 85, 86, 87, 88, 90, 91, 92, 93, 94, 95, 96, 98, 99, 100, 102, 104, 105, 106, 108, 110, 111, 112, 114, 115, 116, 117, 118, 119, 120, 122, 123, 124, 125, 126, 128, 129, 130, 132, 133, 134, 135, 136, 138, 140, 141, 142, 144, 145, 146, 147, 148, 150, 152, 153, 154, 155, 156, 158, 159, 160, 161, 162, 164, 165, 166, 168, 170, 171, 172, 174, 175, 176, 177, 178, 180, 182, 183, 184, 185, 186, 188, 189, 190, 192, 194, 195, 196, 198, 200]\n"
     ]
    }
   ],
   "source": [
    "# use indexing \n",
    "nums_divisible = [num for num in range(1,201) if True in [True for denominator in range(2,10) \n",
    "                                                          if num % denominator == 0]]\n",
    "print(nums_divisible)"
   ]
  },
  {
   "cell_type": "code",
   "execution_count": 50,
   "id": "76a7b22e",
   "metadata": {},
   "outputs": [
    {
     "name": "stdout",
     "output_type": "stream",
     "text": [
      "[2, 3, 4, 5, 6, 7, 8, 9, 10, 12, 14, 15, 16, 18, 20, 21, 22, 24, 25, 26, 27, 28, 30, 32, 33, 34, 35, 36, 38, 39, 40, 42, 44, 45, 46, 48, 49, 50, 51, 52, 54, 55, 56, 57, 58, 60, 62, 63, 64, 65, 66, 68, 69, 70, 72, 74, 75, 76, 77, 78, 80, 81, 82, 84, 85, 86, 87, 88, 90, 91, 92, 93, 94, 95, 96, 98, 99, 100, 102, 104, 105, 106, 108, 110, 111, 112, 114, 115, 116, 117, 118, 119, 120, 122, 123, 124, 125, 126, 128, 129, 130, 132, 133, 134, 135, 136, 138, 140, 141, 142, 144, 145, 146, 147, 148, 150, 152, 153, 154, 155, 156, 158, 159, 160, 161, 162, 164, 165, 166, 168, 170, 171, 172, 174, 175, 176, 177, 178, 180, 182, 183, 184, 185, 186, 188, 189, 190, 192, 194, 195, 196, 198, 200]\n"
     ]
    }
   ],
   "source": [
    "# nested for loop in list comprehension\n",
    "nums_divisible = set(num for num in range(1,201) for denominator in range(2,10) if \n",
    "                     num % denominator == 0)\n",
    "print(list(nums_divisible))"
   ]
  },
  {
   "cell_type": "markdown",
   "id": "41b10e2c",
   "metadata": {},
   "source": [
    "4.\t\n",
    "Create a list to get the first 11 Fibonacci series. \n",
    "\n",
    "\n",
    "Note: The Fibonacci Sequence is the series of numbers: 0, 1, 1, 2, 3, 5, 8, 13, 21, .... \n",
    "\n",
    "Every next number is found by adding up the two numbers before it.\n",
    "\n",
    "Expected Output: 1 1 2 3 5 8 13 21 34 55 89\n"
   ]
  },
  {
   "cell_type": "code",
   "execution_count": 9,
   "id": "b44ef054",
   "metadata": {},
   "outputs": [
    {
     "name": "stdout",
     "output_type": "stream",
     "text": [
      "How long the Fibonacci series do you wanna get? 50\n",
      "The Fibonacci series is [1, 1, 2, 3, 5, 8, 13, 21, 34, 55, 89, 144, 233, 377, 610, 987, 1597, 2584, 4181, 6765, 10946, 17711, 28657, 46368, 75025, 121393, 196418, 317811, 514229, 832040, 1346269, 2178309, 3524578, 5702887, 9227465, 14930352, 24157817, 39088169, 63245986, 102334155, 165580141, 267914296, 433494437, 701408733, 1134903170, 1836311903, 2971215073, 4807526976, 7778742049, 12586269025].\n"
     ]
    }
   ],
   "source": [
    "# use for loop\n",
    "def main():\n",
    "    Fibonacci = [0,1]\n",
    "    \n",
    "    length = int(input(\"How long the Fibonacci series do you wanna get? \"))\n",
    "    \n",
    "    if len(Fibonacci) >= length:\n",
    "        print(f\"The Fibonacci series is {Fibonacci}.\")\n",
    "    else:\n",
    "        for i in range(length-1):\n",
    "            Fibonacci.append(Fibonacci[i]+Fibonacci[i+1])\n",
    "        # remove 0 from series\n",
    "        del Fibonacci[0]\n",
    "        print(f\"The Fibonacci series is {Fibonacci}.\")\n",
    "        \n",
    "if __name__ == '__main__':\n",
    "    main()"
   ]
  },
  {
   "cell_type": "code",
   "execution_count": 69,
   "id": "38484def",
   "metadata": {},
   "outputs": [
    {
     "name": "stdout",
     "output_type": "stream",
     "text": [
      "How many Fibonacci seires numbers you want? 11\n",
      "[1, 1, 2, 3, 5, 8, 13, 21, 34, 55, 89]\n"
     ]
    }
   ],
   "source": [
    "# use recursion\n",
    "\n",
    "def main():\n",
    "    length = int(input(\"How many Fibonacci seires numbers you want? \"))\n",
    "    fib_series = []\n",
    "    for i in range(1,length+1):\n",
    "        fib_series.append(fibonacci(i))\n",
    "    print(fib_series)\n",
    "    \n",
    "def fibonacci(n):\n",
    "    if n in {0,1}:\n",
    "        return n\n",
    "    return fibonacci(n-1) + fibonacci(n-2)\n",
    "\n",
    "if __name__ == '__main__':\n",
    "    main()"
   ]
  },
  {
   "cell_type": "markdown",
   "id": "f6c9ccde",
   "metadata": {},
   "source": [
    "5.\tCount the number of paragraphs, tables, and external links from the webpage: https://en.wikipedia.org/wiki/Baruch_College"
   ]
  },
  {
   "cell_type": "code",
   "execution_count": 93,
   "id": "5e1f97ed",
   "metadata": {},
   "outputs": [],
   "source": [
    "import requests\n",
    "from bs4 import BeautifulSoup\n",
    "\n",
    "url = 'https://en.wikipedia.org/wiki/Baruch_College'\n",
    "    \n",
    "r = requests.get(url)\n",
    "\n",
    "html_soup = BeautifulSoup(r.text)\n",
    "\n",
    "# find all paragraphs\n",
    "para = html_soup.find_all('p')\n",
    "# find all tables\n",
    "table = html_soup.find_all('table')\n",
    "# find all hyperlinks\n",
    "hyperlink = html_soup.find_all('a', attrs = {'class':'external text'})"
   ]
  },
  {
   "cell_type": "code",
   "execution_count": 123,
   "id": "7d05f675",
   "metadata": {},
   "outputs": [
    {
     "data": {
      "text/plain": [
       "33"
      ]
     },
     "execution_count": 123,
     "metadata": {},
     "output_type": "execute_result"
    },
    {
     "data": {
      "text/plain": [
       "8"
      ]
     },
     "execution_count": 123,
     "metadata": {},
     "output_type": "execute_result"
    },
    {
     "data": {
      "text/plain": [
       "188"
      ]
     },
     "execution_count": 123,
     "metadata": {},
     "output_type": "execute_result"
    }
   ],
   "source": [
    "# count number of all the paragraphs, tables, and hyperlinks\n",
    "len(para)\n",
    "len(table)\n",
    "len(hyperlink)"
   ]
  },
  {
   "cell_type": "code",
   "execution_count": 121,
   "id": "2d425927",
   "metadata": {},
   "outputs": [
    {
     "data": {
      "text/plain": [
       "['//geohack.toolforge.org/geohack.php?pagename=Baruch_College&params=40.740159_N_73.98338_W_source:dewiki_region:US-NY_type:edu_dim:5km',\n",
       " '//geohack.toolforge.org/geohack.php?pagename=Baruch_College&params=40.740159_N_73.98338_W_source:dewiki_region:US-NY_type:edu_dim:5km',\n",
       " 'http://www.baruch.cuny.edu',\n",
       " 'https://en.wikipedia.org/w/index.php?title=Baruch_College&action=edit',\n",
       " 'https://www.alumni.baruch.cuny.edu/uploaded/Annual_Reports/BCF_Annual_Report_2020-21-Final.pdf']"
      ]
     },
     "execution_count": 121,
     "metadata": {},
     "output_type": "execute_result"
    }
   ],
   "source": [
    "# Check the the links with URL\n",
    "href_list = [hyperlink[i].get('href') for i in range(len(hyperlink))]\n",
    "href_list[0:5]"
   ]
  },
  {
   "cell_type": "markdown",
   "id": "18173f12",
   "metadata": {},
   "source": [
    "6.\tPrint the text in the first paragraph from the following html document:\n",
    "\n",
    "```\n",
    "html_doc = \"\"\"\n",
    "<html>\n",
    "<head>\n",
    "<meta http-equiv=\"Content-Type\" content=\"text/html;\n",
    "charset=iso-8859-1\">\n",
    "<title>An example of HTML page</title>\n",
    "</head>\n",
    "<body>\n",
    "<h2>This is an example HTML page</h2>\n",
    "<p>\n",
    "Lorem ipsum dolor sit amet, consectetur adipiscing elit. Nunc at nisi velit,\n",
    "aliquet iaculis est. Curabitur porttitor nisi vel lacus euismod egestas. In hac\n",
    "habitasse platea dictumst. In sagittis magna eu odio interdum mollis. Phasellus\n",
    "sagittis pulvinar facilisis. Donec vel odio volutpat tortor volutpat commodo.\n",
    "Donec vehicula vulputate sem, vel iaculis urna molestie eget. Sed pellentesque\n",
    "adipiscing tortor, at condimentum elit elementum sed. Mauris dignissim\n",
    "elementum nunc, non elementum felis condimentum eu. In in turpis quis erat\n",
    "imperdiet vulputate. Pellentesque mauris turpis, dignissim sed iaculis eu,\n",
    "euismod eget ipsum. Vivamus mollis adipiscing viverra. Morbi at sem eget nisl\n",
    "euismod porta.</p>\n",
    "<p><a href=\"https://www.w3resource.com/html/HTML-tutorials.php\">Learn HTML from\n",
    "w3resource.com</a></p>\n",
    "<p><a href=\"https://www.w3resource.com/css/CSS-tutorials.php\">Learn CSS from \n",
    "w3resource.com</a></p>\n",
    "</body>\n",
    "</html>\n",
    "\"\"\"\n",
    "```\n"
   ]
  },
  {
   "cell_type": "code",
   "execution_count": 138,
   "id": "16baa35e",
   "metadata": {},
   "outputs": [],
   "source": [
    "# assign the html code to the object html_doc\n",
    "html_doc = \"\"\"\n",
    "<html>\n",
    "<head>\n",
    "<meta http-equiv=\"Content-Type\" content=\"text/html;\n",
    "charset=iso-8859-1\">\n",
    "<title>An example of HTML page</title>\n",
    "</head>\n",
    "<body>\n",
    "<h2>This is an example HTML page</h2>\n",
    "<p>\n",
    "Lorem ipsum dolor sit amet, consectetur adipiscing elit. Nunc at nisi velit,\n",
    "aliquet iaculis est. Curabitur porttitor nisi vel lacus euismod egestas. In hac\n",
    "habitasse platea dictumst. In sagittis magna eu odio interdum mollis. Phasellus\n",
    "sagittis pulvinar facilisis. Donec vel odio volutpat tortor volutpat commodo.\n",
    "Donec vehicula vulputate sem, vel iaculis urna molestie eget. Sed pellentesque\n",
    "adipiscing tortor, at condimentum elit elementum sed. Mauris dignissim\n",
    "elementum nunc, non elementum felis condimentum eu. In in turpis quis erat\n",
    "imperdiet vulputate. Pellentesque mauris turpis, dignissim sed iaculis eu,\n",
    "euismod eget ipsum. Vivamus mollis adipiscing viverra. Morbi at sem eget nisl\n",
    "euismod porta.</p>\n",
    "<p><a href=\"https://www.w3resource.com/html/HTML-tutorials.php\">Learn HTML from\n",
    "w3resource.com</a></p>\n",
    "<p><a href=\"https://www.w3resource.com/css/CSS-tutorials.php\">Learn CSS from \n",
    "w3resource.com</a></p>\n",
    "</body>\n",
    "</html>\n",
    "\"\"\""
   ]
  },
  {
   "cell_type": "code",
   "execution_count": 146,
   "id": "e7b61244",
   "metadata": {},
   "outputs": [
    {
     "name": "stdout",
     "output_type": "stream",
     "text": [
      "\n",
      "Lorem ipsum dolor sit amet, consectetur adipiscing elit. Nunc at nisi velit,\n",
      "aliquet iaculis est. Curabitur porttitor nisi vel lacus euismod egestas. In hac\n",
      "habitasse platea dictumst. In sagittis magna eu odio interdum mollis. Phasellus\n",
      "sagittis pulvinar facilisis. Donec vel odio volutpat tortor volutpat commodo.\n",
      "Donec vehicula vulputate sem, vel iaculis urna molestie eget. Sed pellentesque\n",
      "adipiscing tortor, at condimentum elit elementum sed. Mauris dignissim\n",
      "elementum nunc, non elementum felis condimentum eu. In in turpis quis erat\n",
      "imperdiet vulputate. Pellentesque mauris turpis, dignissim sed iaculis eu,\n",
      "euismod eget ipsum. Vivamus mollis adipiscing viverra. Morbi at sem eget nisl\n",
      "euismod porta.\n"
     ]
    }
   ],
   "source": [
    "html_soup = BeautifulSoup(markup = html_doc, features = 'html.parser')\n",
    "\n",
    "print(html_soup.find('p').text)"
   ]
  },
  {
   "cell_type": "markdown",
   "id": "fc6619a4",
   "metadata": {},
   "source": [
    "7.\tWrite a Python program to find all the link tags and list the first ten from the webpage https://www.baruch.cuny.edu"
   ]
  },
  {
   "cell_type": "code",
   "execution_count": 134,
   "id": "ec7a7a54",
   "metadata": {},
   "outputs": [],
   "source": [
    "import requests\n",
    "from bs4 import BeautifulSoup\n",
    "\n",
    "url = 'https://www.baruch.cuny.edu'\n",
    "r = requests.get(url)\n",
    "\n",
    "html_soup = BeautifulSoup(markup = r.text, features = 'html.parser' )\n",
    "\n",
    "# all the link tags\n",
    "links = html_soup.find_all('a', limit = 10)"
   ]
  },
  {
   "cell_type": "code",
   "execution_count": 137,
   "id": "0fbae705",
   "metadata": {},
   "outputs": [
    {
     "data": {
      "text/plain": [
       "['https://blogs.baruch.cuny.edu/bctc/2022/03/22/m365emailfaq/',\n",
       " '#content',\n",
       " 'https://forward.baruch.cuny.edu/',\n",
       " 'https://www.baruch.cuny.edu/bctc/blackboard/',\n",
       " 'https://blogs.baruch.cuny.edu/',\n",
       " 'https://home.cunyfirst.cuny.edu/',\n",
       " 'https://www.baruch.cuny.edu/bctc/degreeworks/',\n",
       " 'https://baruch.cuny.edu/epaf/',\n",
       " '#',\n",
       " 'https://outlook.office.com/']"
      ]
     },
     "execution_count": 137,
     "metadata": {},
     "output_type": "execute_result"
    }
   ],
   "source": [
    "link_href = [links[i].get('href') for i in range(len(links))]\n",
    "link_href"
   ]
  },
  {
   "cell_type": "markdown",
   "id": "86f8c959",
   "metadata": {},
   "source": [
    "8.\tCreate a Python dictionary to get the title, rating and the url of the Top 50 best movies of all time from IMDb website: https://www.imdb.com/list/ls053181721/. "
   ]
  },
  {
   "cell_type": "code",
   "execution_count": 23,
   "id": "21f8a813",
   "metadata": {},
   "outputs": [],
   "source": [
    "import requests\n",
    "from bs4 import BeautifulSoup\n",
    "\n",
    "url = 'https://www.imdb.com/list/ls053181721/'\n",
    "\n",
    "# possible solution if you get 403 error forbidden status code\n",
    "#user_agent = 'Mozilla/5.0 (Macintosh; Intel Mac OS X 10_9_3) AppleWebKit/537.36 (KHTML, like Gecko) Chrome/35.0.1916.47 Safari/537.36'\n",
    "#headers = {'User-Agent': user_agent}\n",
    "\n",
    "r = requests.get(url)\n",
    "\n",
    "html_soup = BeautifulSoup(markup = r.text, features = 'html.parser')\n",
    "\n",
    "# go to the page and find the table there\n",
    "table = html_soup.find('div', attrs = {'class':'lister-list'})"
   ]
  },
  {
   "cell_type": "code",
   "execution_count": 48,
   "id": "0df30c17",
   "metadata": {
    "scrolled": true
   },
   "outputs": [
    {
     "data": {
      "text/plain": [
       "[<h3 class=\"lister-item-header\">\n",
       " <span class=\"lister-item-index unbold text-primary\">1.</span>\n",
       " <a href=\"/title/tt0109830/\">Forrest Gump</a>\n",
       " <span class=\"lister-item-year text-muted unbold\">(1994)</span>\n",
       " </h3>]"
      ]
     },
     "execution_count": 48,
     "metadata": {},
     "output_type": "execute_result"
    }
   ],
   "source": [
    "# h3 tag contains title info\n",
    "table.find_all('h3', attrs = {'class':'lister-item-header'}, limit = 1)"
   ]
  },
  {
   "cell_type": "code",
   "execution_count": 29,
   "id": "147c8908",
   "metadata": {},
   "outputs": [
    {
     "name": "stdout",
     "output_type": "stream",
     "text": [
      "['Forrest Gump', 'The Shawshank Redemption', 'The Perks of Being a Wallflower', 'The Dark Knight', 'Changeling']\n"
     ]
    },
    {
     "data": {
      "text/plain": [
       "50"
      ]
     },
     "execution_count": 29,
     "metadata": {},
     "output_type": "execute_result"
    }
   ],
   "source": [
    "# td(table data) tag contains the table\n",
    "Titles_tag = table.find_all('h3', attrs = {'class':'lister-item-header'})\n",
    "# a tag contains movie titles\n",
    "titles = [Titles_tag[i].find('a').text for i in range(len(Titles_tag))]\n",
    "# check movie titles\n",
    "print(titles[:5])\n",
    "len(titles)"
   ]
  },
  {
   "cell_type": "code",
   "execution_count": 30,
   "id": "f53f4de1",
   "metadata": {},
   "outputs": [
    {
     "data": {
      "text/plain": [
       "['/title/tt0109830/',\n",
       " '/title/tt0111161/',\n",
       " '/title/tt1659337/',\n",
       " '/title/tt0468569/',\n",
       " '/title/tt0824747/']"
      ]
     },
     "execution_count": 30,
     "metadata": {},
     "output_type": "execute_result"
    }
   ],
   "source": [
    "# links in href attrs in a tag\n",
    "links = [Titles_tag[i].find('a').get('href') for i in range(len(Titles_tag))]\n",
    "links[:5]"
   ]
  },
  {
   "cell_type": "code",
   "execution_count": 45,
   "id": "70e7b027",
   "metadata": {},
   "outputs": [
    {
     "name": "stdout",
     "output_type": "stream",
     "text": [
      "['8.8', '9.3', '7.9', '9', '7.8']\n"
     ]
    },
    {
     "data": {
      "text/plain": [
       "50"
      ]
     },
     "execution_count": 45,
     "metadata": {},
     "output_type": "execute_result"
    }
   ],
   "source": [
    "# ratings tag\n",
    "ratings_tag = table.find_all('div', attrs = {'class':'ipl-rating-star small'})\n",
    "# first span tag in each rating tag contains the rating value\n",
    "ratings = [ratings_tag[i].find('span', attrs = {'class':'ipl-rating-star__rating'}).text for i in range(len(ratings_tag))]\n",
    "# check the ratings\n",
    "print(ratings[:5])\n",
    "len(ratings)"
   ]
  },
  {
   "cell_type": "code",
   "execution_count": 46,
   "id": "cc7358cc",
   "metadata": {},
   "outputs": [
    {
     "name": "stdout",
     "output_type": "stream",
     "text": [
      "{'Title': 'Forrest Gump', 'Rating': '8.8', 'URL': '/title/tt0109830/'}\n",
      "{'Title': 'The Shawshank Redemption', 'Rating': '9.3', 'URL': '/title/tt0111161/'}\n",
      "{'Title': 'The Perks of Being a Wallflower', 'Rating': '7.9', 'URL': '/title/tt1659337/'}\n",
      "{'Title': 'The Dark Knight', 'Rating': '9', 'URL': '/title/tt0468569/'}\n",
      "{'Title': 'Changeling', 'Rating': '7.8', 'URL': '/title/tt0824747/'}\n",
      "{'Title': \"This Boy's Life\", 'Rating': '7.3', 'URL': '/title/tt0108330/'}\n",
      "{'Title': \"It's a Wonderful Life\", 'Rating': '8.6', 'URL': '/title/tt0038650/'}\n",
      "{'Title': 'The Silence of the Lambs', 'Rating': '8.6', 'URL': '/title/tt0102926/'}\n",
      "{'Title': '8 Mile', 'Rating': '7.2', 'URL': '/title/tt0298203/'}\n",
      "{'Title': 'The Breakfast Club', 'Rating': '7.8', 'URL': '/title/tt0088847/'}\n",
      "{'Title': 'Django Unchained', 'Rating': '8.4', 'URL': '/title/tt1853728/'}\n",
      "{'Title': 'Silver Linings Playbook', 'Rating': '7.7', 'URL': '/title/tt1045658/'}\n",
      "{'Title': 'The Shining', 'Rating': '8.4', 'URL': '/title/tt0081505/'}\n",
      "{'Title': 'Se7en', 'Rating': '8.6', 'URL': '/title/tt0114369/'}\n",
      "{'Title': 'American Beauty', 'Rating': '8.3', 'URL': '/title/tt0169547/'}\n",
      "{'Title': 'Pulp Fiction', 'Rating': '8.9', 'URL': '/title/tt0110912/'}\n",
      "{'Title': 'Zero Dark Thirty', 'Rating': '7.4', 'URL': '/title/tt1790885/'}\n",
      "{'Title': 'Argo', 'Rating': '7.7', 'URL': '/title/tt1024648/'}\n",
      "{'Title': 'The Hurt Locker', 'Rating': '7.5', 'URL': '/title/tt0887912/'}\n",
      "{'Title': 'The Godfather', 'Rating': '9.2', 'URL': '/title/tt0068646/'}\n",
      "{'Title': 'The Town', 'Rating': '7.5', 'URL': '/title/tt0840361/'}\n",
      "{'Title': 'The Departed', 'Rating': '8.5', 'URL': '/title/tt0407887/'}\n",
      "{'Title': 'Scream', 'Rating': '7.4', 'URL': '/title/tt0117571/'}\n",
      "{'Title': 'Up in the Air', 'Rating': '7.4', 'URL': '/title/tt1193138/'}\n",
      "{'Title': \"What's Eating Gilbert Grape\", 'Rating': '7.7', 'URL': '/title/tt0108550/'}\n",
      "{'Title': 'Lost in Translation', 'Rating': '7.7', 'URL': '/title/tt0335266/'}\n",
      "{'Title': 'The Conjuring', 'Rating': '7.5', 'URL': '/title/tt1457767/'}\n",
      "{'Title': 'Juno', 'Rating': '7.5', 'URL': '/title/tt0467406/'}\n",
      "{'Title': 'Stand by Me', 'Rating': '8.1', 'URL': '/title/tt0092005/'}\n",
      "{'Title': 'The Green Mile', 'Rating': '8.6', 'URL': '/title/tt0120689/'}\n",
      "{'Title': 'Super 8', 'Rating': '7', 'URL': '/title/tt1650062/'}\n",
      "{'Title': 'Jarhead', 'Rating': '7', 'URL': '/title/tt0418763/'}\n",
      "{'Title': 'Misery', 'Rating': '7.8', 'URL': '/title/tt0100157/'}\n",
      "{'Title': 'Fight Club', 'Rating': '8.8', 'URL': '/title/tt0137523/'}\n",
      "{'Title': 'Shutter Island', 'Rating': '8.2', 'URL': '/title/tt1130884/'}\n",
      "{'Title': 'Lawless', 'Rating': '7.2', 'URL': '/title/tt1212450/'}\n",
      "{'Title': \"Winter's Bone\", 'Rating': '7.1', 'URL': '/title/tt1399683/'}\n",
      "{'Title': 'Taxi Driver', 'Rating': '8.2', 'URL': '/title/tt0075314/'}\n",
      "{'Title': 'Saving Private Ryan', 'Rating': '8.6', 'URL': '/title/tt0120815/'}\n",
      "{'Title': 'Black Swan', 'Rating': '8', 'URL': '/title/tt0947798/'}\n",
      "{'Title': 'Inception', 'Rating': '8.8', 'URL': '/title/tt1375666/'}\n",
      "{'Title': 'Boogie Nights', 'Rating': '7.9', 'URL': '/title/tt0118749/'}\n",
      "{'Title': '50/50', 'Rating': '7.6', 'URL': '/title/tt1306980/'}\n",
      "{'Title': 'Brothers', 'Rating': '7.1', 'URL': '/title/tt0765010/'}\n",
      "{'Title': 'Blood Diamond', 'Rating': '8', 'URL': '/title/tt0450259/'}\n",
      "{'Title': 'A Few Good Men', 'Rating': '7.7', 'URL': '/title/tt0104257/'}\n",
      "{'Title': 'Gladiator', 'Rating': '8.5', 'URL': '/title/tt0172495/'}\n",
      "{'Title': 'Law Abiding Citizen', 'Rating': '7.4', 'URL': '/title/tt1197624/'}\n",
      "{'Title': 'Lakeview Terrace', 'Rating': '6.2', 'URL': '/title/tt0947802/'}\n",
      "{'Title': 'Glory Road', 'Rating': '7.2', 'URL': '/title/tt0385726/'}\n"
     ]
    }
   ],
   "source": [
    "movies = []\n",
    "\n",
    "for i in range(50):\n",
    "    movie = {'Title': titles[i], 'Rating':ratings[i], 'URL':links[i]}\n",
    "    movies.append(movie)\n",
    "\n",
    "for i in movies:\n",
    "    print(i)"
   ]
  },
  {
   "cell_type": "code",
   "execution_count": 47,
   "id": "b514b1ac",
   "metadata": {},
   "outputs": [
    {
     "data": {
      "text/html": [
       "<div>\n",
       "<style scoped>\n",
       "    .dataframe tbody tr th:only-of-type {\n",
       "        vertical-align: middle;\n",
       "    }\n",
       "\n",
       "    .dataframe tbody tr th {\n",
       "        vertical-align: top;\n",
       "    }\n",
       "\n",
       "    .dataframe thead th {\n",
       "        text-align: right;\n",
       "    }\n",
       "</style>\n",
       "<table border=\"1\" class=\"dataframe\">\n",
       "  <thead>\n",
       "    <tr style=\"text-align: right;\">\n",
       "      <th></th>\n",
       "      <th>Title</th>\n",
       "      <th>Rating</th>\n",
       "      <th>URL</th>\n",
       "    </tr>\n",
       "  </thead>\n",
       "  <tbody>\n",
       "    <tr>\n",
       "      <th>1</th>\n",
       "      <td>Forrest Gump</td>\n",
       "      <td>8.8</td>\n",
       "      <td>/title/tt0109830/</td>\n",
       "    </tr>\n",
       "    <tr>\n",
       "      <th>2</th>\n",
       "      <td>The Shawshank Redemption</td>\n",
       "      <td>9.3</td>\n",
       "      <td>/title/tt0111161/</td>\n",
       "    </tr>\n",
       "    <tr>\n",
       "      <th>3</th>\n",
       "      <td>The Perks of Being a Wallflower</td>\n",
       "      <td>7.9</td>\n",
       "      <td>/title/tt1659337/</td>\n",
       "    </tr>\n",
       "    <tr>\n",
       "      <th>4</th>\n",
       "      <td>The Dark Knight</td>\n",
       "      <td>9</td>\n",
       "      <td>/title/tt0468569/</td>\n",
       "    </tr>\n",
       "    <tr>\n",
       "      <th>5</th>\n",
       "      <td>Changeling</td>\n",
       "      <td>7.8</td>\n",
       "      <td>/title/tt0824747/</td>\n",
       "    </tr>\n",
       "    <tr>\n",
       "      <th>6</th>\n",
       "      <td>This Boy's Life</td>\n",
       "      <td>7.3</td>\n",
       "      <td>/title/tt0108330/</td>\n",
       "    </tr>\n",
       "    <tr>\n",
       "      <th>7</th>\n",
       "      <td>It's a Wonderful Life</td>\n",
       "      <td>8.6</td>\n",
       "      <td>/title/tt0038650/</td>\n",
       "    </tr>\n",
       "    <tr>\n",
       "      <th>8</th>\n",
       "      <td>The Silence of the Lambs</td>\n",
       "      <td>8.6</td>\n",
       "      <td>/title/tt0102926/</td>\n",
       "    </tr>\n",
       "    <tr>\n",
       "      <th>9</th>\n",
       "      <td>8 Mile</td>\n",
       "      <td>7.2</td>\n",
       "      <td>/title/tt0298203/</td>\n",
       "    </tr>\n",
       "    <tr>\n",
       "      <th>10</th>\n",
       "      <td>The Breakfast Club</td>\n",
       "      <td>7.8</td>\n",
       "      <td>/title/tt0088847/</td>\n",
       "    </tr>\n",
       "    <tr>\n",
       "      <th>11</th>\n",
       "      <td>Django Unchained</td>\n",
       "      <td>8.4</td>\n",
       "      <td>/title/tt1853728/</td>\n",
       "    </tr>\n",
       "    <tr>\n",
       "      <th>12</th>\n",
       "      <td>Silver Linings Playbook</td>\n",
       "      <td>7.7</td>\n",
       "      <td>/title/tt1045658/</td>\n",
       "    </tr>\n",
       "    <tr>\n",
       "      <th>13</th>\n",
       "      <td>The Shining</td>\n",
       "      <td>8.4</td>\n",
       "      <td>/title/tt0081505/</td>\n",
       "    </tr>\n",
       "    <tr>\n",
       "      <th>14</th>\n",
       "      <td>Se7en</td>\n",
       "      <td>8.6</td>\n",
       "      <td>/title/tt0114369/</td>\n",
       "    </tr>\n",
       "    <tr>\n",
       "      <th>15</th>\n",
       "      <td>American Beauty</td>\n",
       "      <td>8.3</td>\n",
       "      <td>/title/tt0169547/</td>\n",
       "    </tr>\n",
       "    <tr>\n",
       "      <th>16</th>\n",
       "      <td>Pulp Fiction</td>\n",
       "      <td>8.9</td>\n",
       "      <td>/title/tt0110912/</td>\n",
       "    </tr>\n",
       "    <tr>\n",
       "      <th>17</th>\n",
       "      <td>Zero Dark Thirty</td>\n",
       "      <td>7.4</td>\n",
       "      <td>/title/tt1790885/</td>\n",
       "    </tr>\n",
       "    <tr>\n",
       "      <th>18</th>\n",
       "      <td>Argo</td>\n",
       "      <td>7.7</td>\n",
       "      <td>/title/tt1024648/</td>\n",
       "    </tr>\n",
       "    <tr>\n",
       "      <th>19</th>\n",
       "      <td>The Hurt Locker</td>\n",
       "      <td>7.5</td>\n",
       "      <td>/title/tt0887912/</td>\n",
       "    </tr>\n",
       "    <tr>\n",
       "      <th>20</th>\n",
       "      <td>The Godfather</td>\n",
       "      <td>9.2</td>\n",
       "      <td>/title/tt0068646/</td>\n",
       "    </tr>\n",
       "    <tr>\n",
       "      <th>21</th>\n",
       "      <td>The Town</td>\n",
       "      <td>7.5</td>\n",
       "      <td>/title/tt0840361/</td>\n",
       "    </tr>\n",
       "    <tr>\n",
       "      <th>22</th>\n",
       "      <td>The Departed</td>\n",
       "      <td>8.5</td>\n",
       "      <td>/title/tt0407887/</td>\n",
       "    </tr>\n",
       "    <tr>\n",
       "      <th>23</th>\n",
       "      <td>Scream</td>\n",
       "      <td>7.4</td>\n",
       "      <td>/title/tt0117571/</td>\n",
       "    </tr>\n",
       "    <tr>\n",
       "      <th>24</th>\n",
       "      <td>Up in the Air</td>\n",
       "      <td>7.4</td>\n",
       "      <td>/title/tt1193138/</td>\n",
       "    </tr>\n",
       "    <tr>\n",
       "      <th>25</th>\n",
       "      <td>What's Eating Gilbert Grape</td>\n",
       "      <td>7.7</td>\n",
       "      <td>/title/tt0108550/</td>\n",
       "    </tr>\n",
       "    <tr>\n",
       "      <th>26</th>\n",
       "      <td>Lost in Translation</td>\n",
       "      <td>7.7</td>\n",
       "      <td>/title/tt0335266/</td>\n",
       "    </tr>\n",
       "    <tr>\n",
       "      <th>27</th>\n",
       "      <td>The Conjuring</td>\n",
       "      <td>7.5</td>\n",
       "      <td>/title/tt1457767/</td>\n",
       "    </tr>\n",
       "    <tr>\n",
       "      <th>28</th>\n",
       "      <td>Juno</td>\n",
       "      <td>7.5</td>\n",
       "      <td>/title/tt0467406/</td>\n",
       "    </tr>\n",
       "    <tr>\n",
       "      <th>29</th>\n",
       "      <td>Stand by Me</td>\n",
       "      <td>8.1</td>\n",
       "      <td>/title/tt0092005/</td>\n",
       "    </tr>\n",
       "    <tr>\n",
       "      <th>30</th>\n",
       "      <td>The Green Mile</td>\n",
       "      <td>8.6</td>\n",
       "      <td>/title/tt0120689/</td>\n",
       "    </tr>\n",
       "    <tr>\n",
       "      <th>31</th>\n",
       "      <td>Super 8</td>\n",
       "      <td>7</td>\n",
       "      <td>/title/tt1650062/</td>\n",
       "    </tr>\n",
       "    <tr>\n",
       "      <th>32</th>\n",
       "      <td>Jarhead</td>\n",
       "      <td>7</td>\n",
       "      <td>/title/tt0418763/</td>\n",
       "    </tr>\n",
       "    <tr>\n",
       "      <th>33</th>\n",
       "      <td>Misery</td>\n",
       "      <td>7.8</td>\n",
       "      <td>/title/tt0100157/</td>\n",
       "    </tr>\n",
       "    <tr>\n",
       "      <th>34</th>\n",
       "      <td>Fight Club</td>\n",
       "      <td>8.8</td>\n",
       "      <td>/title/tt0137523/</td>\n",
       "    </tr>\n",
       "    <tr>\n",
       "      <th>35</th>\n",
       "      <td>Shutter Island</td>\n",
       "      <td>8.2</td>\n",
       "      <td>/title/tt1130884/</td>\n",
       "    </tr>\n",
       "    <tr>\n",
       "      <th>36</th>\n",
       "      <td>Lawless</td>\n",
       "      <td>7.2</td>\n",
       "      <td>/title/tt1212450/</td>\n",
       "    </tr>\n",
       "    <tr>\n",
       "      <th>37</th>\n",
       "      <td>Winter's Bone</td>\n",
       "      <td>7.1</td>\n",
       "      <td>/title/tt1399683/</td>\n",
       "    </tr>\n",
       "    <tr>\n",
       "      <th>38</th>\n",
       "      <td>Taxi Driver</td>\n",
       "      <td>8.2</td>\n",
       "      <td>/title/tt0075314/</td>\n",
       "    </tr>\n",
       "    <tr>\n",
       "      <th>39</th>\n",
       "      <td>Saving Private Ryan</td>\n",
       "      <td>8.6</td>\n",
       "      <td>/title/tt0120815/</td>\n",
       "    </tr>\n",
       "    <tr>\n",
       "      <th>40</th>\n",
       "      <td>Black Swan</td>\n",
       "      <td>8</td>\n",
       "      <td>/title/tt0947798/</td>\n",
       "    </tr>\n",
       "    <tr>\n",
       "      <th>41</th>\n",
       "      <td>Inception</td>\n",
       "      <td>8.8</td>\n",
       "      <td>/title/tt1375666/</td>\n",
       "    </tr>\n",
       "    <tr>\n",
       "      <th>42</th>\n",
       "      <td>Boogie Nights</td>\n",
       "      <td>7.9</td>\n",
       "      <td>/title/tt0118749/</td>\n",
       "    </tr>\n",
       "    <tr>\n",
       "      <th>43</th>\n",
       "      <td>50/50</td>\n",
       "      <td>7.6</td>\n",
       "      <td>/title/tt1306980/</td>\n",
       "    </tr>\n",
       "    <tr>\n",
       "      <th>44</th>\n",
       "      <td>Brothers</td>\n",
       "      <td>7.1</td>\n",
       "      <td>/title/tt0765010/</td>\n",
       "    </tr>\n",
       "    <tr>\n",
       "      <th>45</th>\n",
       "      <td>Blood Diamond</td>\n",
       "      <td>8</td>\n",
       "      <td>/title/tt0450259/</td>\n",
       "    </tr>\n",
       "    <tr>\n",
       "      <th>46</th>\n",
       "      <td>A Few Good Men</td>\n",
       "      <td>7.7</td>\n",
       "      <td>/title/tt0104257/</td>\n",
       "    </tr>\n",
       "    <tr>\n",
       "      <th>47</th>\n",
       "      <td>Gladiator</td>\n",
       "      <td>8.5</td>\n",
       "      <td>/title/tt0172495/</td>\n",
       "    </tr>\n",
       "    <tr>\n",
       "      <th>48</th>\n",
       "      <td>Law Abiding Citizen</td>\n",
       "      <td>7.4</td>\n",
       "      <td>/title/tt1197624/</td>\n",
       "    </tr>\n",
       "    <tr>\n",
       "      <th>49</th>\n",
       "      <td>Lakeview Terrace</td>\n",
       "      <td>6.2</td>\n",
       "      <td>/title/tt0947802/</td>\n",
       "    </tr>\n",
       "    <tr>\n",
       "      <th>50</th>\n",
       "      <td>Glory Road</td>\n",
       "      <td>7.2</td>\n",
       "      <td>/title/tt0385726/</td>\n",
       "    </tr>\n",
       "  </tbody>\n",
       "</table>\n",
       "</div>"
      ],
      "text/plain": [
       "                              Title Rating                URL\n",
       "1                      Forrest Gump    8.8  /title/tt0109830/\n",
       "2          The Shawshank Redemption    9.3  /title/tt0111161/\n",
       "3   The Perks of Being a Wallflower    7.9  /title/tt1659337/\n",
       "4                   The Dark Knight      9  /title/tt0468569/\n",
       "5                        Changeling    7.8  /title/tt0824747/\n",
       "6                   This Boy's Life    7.3  /title/tt0108330/\n",
       "7             It's a Wonderful Life    8.6  /title/tt0038650/\n",
       "8          The Silence of the Lambs    8.6  /title/tt0102926/\n",
       "9                            8 Mile    7.2  /title/tt0298203/\n",
       "10               The Breakfast Club    7.8  /title/tt0088847/\n",
       "11                 Django Unchained    8.4  /title/tt1853728/\n",
       "12          Silver Linings Playbook    7.7  /title/tt1045658/\n",
       "13                      The Shining    8.4  /title/tt0081505/\n",
       "14                            Se7en    8.6  /title/tt0114369/\n",
       "15                  American Beauty    8.3  /title/tt0169547/\n",
       "16                     Pulp Fiction    8.9  /title/tt0110912/\n",
       "17                 Zero Dark Thirty    7.4  /title/tt1790885/\n",
       "18                             Argo    7.7  /title/tt1024648/\n",
       "19                  The Hurt Locker    7.5  /title/tt0887912/\n",
       "20                    The Godfather    9.2  /title/tt0068646/\n",
       "21                         The Town    7.5  /title/tt0840361/\n",
       "22                     The Departed    8.5  /title/tt0407887/\n",
       "23                           Scream    7.4  /title/tt0117571/\n",
       "24                    Up in the Air    7.4  /title/tt1193138/\n",
       "25      What's Eating Gilbert Grape    7.7  /title/tt0108550/\n",
       "26              Lost in Translation    7.7  /title/tt0335266/\n",
       "27                    The Conjuring    7.5  /title/tt1457767/\n",
       "28                             Juno    7.5  /title/tt0467406/\n",
       "29                      Stand by Me    8.1  /title/tt0092005/\n",
       "30                   The Green Mile    8.6  /title/tt0120689/\n",
       "31                          Super 8      7  /title/tt1650062/\n",
       "32                          Jarhead      7  /title/tt0418763/\n",
       "33                           Misery    7.8  /title/tt0100157/\n",
       "34                       Fight Club    8.8  /title/tt0137523/\n",
       "35                   Shutter Island    8.2  /title/tt1130884/\n",
       "36                          Lawless    7.2  /title/tt1212450/\n",
       "37                    Winter's Bone    7.1  /title/tt1399683/\n",
       "38                      Taxi Driver    8.2  /title/tt0075314/\n",
       "39              Saving Private Ryan    8.6  /title/tt0120815/\n",
       "40                       Black Swan      8  /title/tt0947798/\n",
       "41                        Inception    8.8  /title/tt1375666/\n",
       "42                    Boogie Nights    7.9  /title/tt0118749/\n",
       "43                            50/50    7.6  /title/tt1306980/\n",
       "44                         Brothers    7.1  /title/tt0765010/\n",
       "45                    Blood Diamond      8  /title/tt0450259/\n",
       "46                   A Few Good Men    7.7  /title/tt0104257/\n",
       "47                        Gladiator    8.5  /title/tt0172495/\n",
       "48              Law Abiding Citizen    7.4  /title/tt1197624/\n",
       "49                 Lakeview Terrace    6.2  /title/tt0947802/\n",
       "50                       Glory Road    7.2  /title/tt0385726/"
      ]
     },
     "execution_count": 47,
     "metadata": {},
     "output_type": "execute_result"
    }
   ],
   "source": [
    "import pandas as pd\n",
    "\n",
    "pd.DataFrame(movies,\n",
    "            index = range(1,len(movies)+1))"
   ]
  },
  {
   "cell_type": "code",
   "execution_count": 57,
   "id": "e679a3cc",
   "metadata": {},
   "outputs": [
    {
     "name": "stdout",
     "output_type": "stream",
     "text": [
      "{'Title': 'Forrest Gump', 'rate': '8.8', 'link': 'https://www.imdb.com/title/tt0109830/?ref_=ttls_li_tt'}\n",
      "{'Title': 'The Shawshank Redemption', 'rate': '9.3', 'link': 'https://www.imdb.com/title/tt0111161/?ref_=ttls_li_tt'}\n",
      "{'Title': 'The Perks of Being a Wallflower', 'rate': '7.9', 'link': 'https://www.imdb.com/title/tt1659337/?ref_=ttls_li_tt'}\n",
      "{'Title': 'The Dark Knight', 'rate': '9', 'link': 'https://www.imdb.com/title/tt0468569/?ref_=ttls_li_tt'}\n",
      "{'Title': 'Changeling', 'rate': '7.8', 'link': 'https://www.imdb.com/title/tt0824747/?ref_=ttls_li_tt'}\n",
      "{'Title': \"This Boy's Life\", 'rate': '7.3', 'link': 'https://www.imdb.com/title/tt0108330/?ref_=ttls_li_tt'}\n",
      "{'Title': \"It's a Wonderful Life\", 'rate': '8.6', 'link': 'https://www.imdb.com/title/tt0038650/?ref_=ttls_li_tt'}\n",
      "{'Title': 'The Silence of the Lambs', 'rate': '8.6', 'link': 'https://www.imdb.com/title/tt0102926/?ref_=ttls_li_tt'}\n",
      "{'Title': '8 Mile', 'rate': '7.2', 'link': 'https://www.imdb.com/title/tt0298203/?ref_=ttls_li_tt'}\n",
      "{'Title': 'The Breakfast Club', 'rate': '7.8', 'link': 'https://www.imdb.com/title/tt0088847/?ref_=ttls_li_tt'}\n",
      "{'Title': 'Django Unchained', 'rate': '8.4', 'link': 'https://www.imdb.com/title/tt1853728/?ref_=ttls_li_tt'}\n",
      "{'Title': 'Silver Linings Playbook', 'rate': '7.7', 'link': 'https://www.imdb.com/title/tt1045658/?ref_=ttls_li_tt'}\n",
      "{'Title': 'The Shining', 'rate': '8.4', 'link': 'https://www.imdb.com/title/tt0081505/?ref_=ttls_li_tt'}\n",
      "{'Title': 'Se7en', 'rate': '8.6', 'link': 'https://www.imdb.com/title/tt0114369/?ref_=ttls_li_tt'}\n",
      "{'Title': 'American Beauty', 'rate': '8.3', 'link': 'https://www.imdb.com/title/tt0169547/?ref_=ttls_li_tt'}\n",
      "{'Title': 'Pulp Fiction', 'rate': '8.9', 'link': 'https://www.imdb.com/title/tt0110912/?ref_=ttls_li_tt'}\n",
      "{'Title': 'Zero Dark Thirty', 'rate': '7.4', 'link': 'https://www.imdb.com/title/tt1790885/?ref_=ttls_li_tt'}\n",
      "{'Title': 'Argo', 'rate': '7.7', 'link': 'https://www.imdb.com/title/tt1024648/?ref_=ttls_li_tt'}\n",
      "{'Title': 'The Hurt Locker', 'rate': '7.5', 'link': 'https://www.imdb.com/title/tt0887912/?ref_=ttls_li_tt'}\n",
      "{'Title': 'The Godfather', 'rate': '9.2', 'link': 'https://www.imdb.com/title/tt0068646/?ref_=ttls_li_tt'}\n",
      "{'Title': 'The Town', 'rate': '7.5', 'link': 'https://www.imdb.com/title/tt0840361/?ref_=ttls_li_tt'}\n",
      "{'Title': 'The Departed', 'rate': '8.5', 'link': 'https://www.imdb.com/title/tt0407887/?ref_=ttls_li_tt'}\n",
      "{'Title': 'Scream', 'rate': '7.4', 'link': 'https://www.imdb.com/title/tt0117571/?ref_=ttls_li_tt'}\n",
      "{'Title': 'Up in the Air', 'rate': '7.4', 'link': 'https://www.imdb.com/title/tt1193138/?ref_=ttls_li_tt'}\n",
      "{'Title': \"What's Eating Gilbert Grape\", 'rate': '7.7', 'link': 'https://www.imdb.com/title/tt0108550/?ref_=ttls_li_tt'}\n",
      "{'Title': 'Lost in Translation', 'rate': '7.7', 'link': 'https://www.imdb.com/title/tt0335266/?ref_=ttls_li_tt'}\n",
      "{'Title': 'The Conjuring', 'rate': '7.5', 'link': 'https://www.imdb.com/title/tt1457767/?ref_=ttls_li_tt'}\n",
      "{'Title': 'Juno', 'rate': '7.5', 'link': 'https://www.imdb.com/title/tt0467406/?ref_=ttls_li_tt'}\n",
      "{'Title': 'Stand by Me', 'rate': '8.1', 'link': 'https://www.imdb.com/title/tt0092005/?ref_=ttls_li_tt'}\n",
      "{'Title': 'The Green Mile', 'rate': '8.6', 'link': 'https://www.imdb.com/title/tt0120689/?ref_=ttls_li_tt'}\n",
      "{'Title': 'Super 8', 'rate': '7', 'link': 'https://www.imdb.com/title/tt1650062/?ref_=ttls_li_tt'}\n",
      "{'Title': 'Jarhead', 'rate': '7', 'link': 'https://www.imdb.com/title/tt0418763/?ref_=ttls_li_tt'}\n",
      "{'Title': 'Misery', 'rate': '7.8', 'link': 'https://www.imdb.com/title/tt0100157/?ref_=ttls_li_tt'}\n",
      "{'Title': 'Fight Club', 'rate': '8.8', 'link': 'https://www.imdb.com/title/tt0137523/?ref_=ttls_li_tt'}\n",
      "{'Title': 'Shutter Island', 'rate': '8.2', 'link': 'https://www.imdb.com/title/tt1130884/?ref_=ttls_li_tt'}\n",
      "{'Title': 'Lawless', 'rate': '7.2', 'link': 'https://www.imdb.com/title/tt1212450/?ref_=ttls_li_tt'}\n",
      "{'Title': \"Winter's Bone\", 'rate': '7.1', 'link': 'https://www.imdb.com/title/tt1399683/?ref_=ttls_li_tt'}\n",
      "{'Title': 'Taxi Driver', 'rate': '8.2', 'link': 'https://www.imdb.com/title/tt0075314/?ref_=ttls_li_tt'}\n",
      "{'Title': 'Saving Private Ryan', 'rate': '8.6', 'link': 'https://www.imdb.com/title/tt0120815/?ref_=ttls_li_tt'}\n",
      "{'Title': 'Black Swan', 'rate': '8', 'link': 'https://www.imdb.com/title/tt0947798/?ref_=ttls_li_tt'}\n",
      "{'Title': 'Inception', 'rate': '8.8', 'link': 'https://www.imdb.com/title/tt1375666/?ref_=ttls_li_tt'}\n",
      "{'Title': 'Boogie Nights', 'rate': '7.9', 'link': 'https://www.imdb.com/title/tt0118749/?ref_=ttls_li_tt'}\n",
      "{'Title': '50/50', 'rate': '7.6', 'link': 'https://www.imdb.com/title/tt1306980/?ref_=ttls_li_tt'}\n",
      "{'Title': 'Brothers', 'rate': '7.1', 'link': 'https://www.imdb.com/title/tt0765010/?ref_=ttls_li_tt'}\n",
      "{'Title': 'Blood Diamond', 'rate': '8', 'link': 'https://www.imdb.com/title/tt0450259/?ref_=ttls_li_tt'}\n",
      "{'Title': 'A Few Good Men', 'rate': '7.7', 'link': 'https://www.imdb.com/title/tt0104257/?ref_=ttls_li_tt'}\n",
      "{'Title': 'Gladiator', 'rate': '8.5', 'link': 'https://www.imdb.com/title/tt0172495/?ref_=ttls_li_tt'}\n",
      "{'Title': 'Law Abiding Citizen', 'rate': '7.4', 'link': 'https://www.imdb.com/title/tt1197624/?ref_=ttls_li_tt'}\n",
      "{'Title': 'Lakeview Terrace', 'rate': '6.2', 'link': 'https://www.imdb.com/title/tt0947802/?ref_=ttls_li_tt'}\n",
      "{'Title': 'Glory Road', 'rate': '7.2', 'link': 'https://www.imdb.com/title/tt0385726/?ref_=ttls_li_tt'}\n"
     ]
    }
   ],
   "source": [
    "from selenium import webdriver\n",
    "from selenium.webdriver.common.by import By\n",
    "import time\n",
    "\n",
    "url = 'https://www.imdb.com/list/ls053181721/'\n",
    "# driver = webdriver.Chrome()\n",
    "driver.get(url)\n",
    "\n",
    "# driver.implicitly_wait(2) \n",
    "\n",
    "movies = driver.find_elements(By.CLASS_NAME,'lister-item-content')\n",
    "\n",
    "newlist =[]\n",
    "\n",
    "# CSS selector\n",
    "# find_element(By.CSS_SELECTOR, '#main > div > div.lister.list.detail.sub-list > div.lister-list > div:nth-child(1) > div.lister-item-content > div.ipl-rating-widget > div.ipl-rating-star.small > span.ipl-rating-star__rating')\n",
    "\n",
    "# iterate index for XPATH\n",
    "i = 0\n",
    "\n",
    "for m in movies:\n",
    "    \n",
    "    i += 1\n",
    "    title = m.find_element(By.TAG_NAME, 'a').text\n",
    "    # the XPATH tag is dynamic, change the index number \n",
    "    rate = m.find_element(By.XPATH, '//*[@id=\"main\"]/div/div[4]/div[3]/div['+ str(i) +']/div[2]/div[1]/div[1]/span[2]').text\n",
    "    link = m.find_element(By.XPATH, '//*[@id=\"main\"]/div/div[4]/div[3]/div['+ str(i) +']/div[2]/h3/a').get_attribute('href')\n",
    "    #print(title,rating,link)\n",
    "    #top is creating a dictionary to store the data in\n",
    "    top = {\n",
    "        'Title':title,\n",
    "        'rate':rate,\n",
    "        'link':link\n",
    "    }\n",
    "    newlist.append(top)\n",
    "    \n",
    "# display each movie \n",
    "for movie in newlist:\n",
    "    print(movie)"
   ]
  }
 ],
 "metadata": {
  "kernelspec": {
   "display_name": "Python 3 (ipykernel)",
   "language": "python",
   "name": "python3"
  },
  "language_info": {
   "codemirror_mode": {
    "name": "ipython",
    "version": 3
   },
   "file_extension": ".py",
   "mimetype": "text/x-python",
   "name": "python",
   "nbconvert_exporter": "python",
   "pygments_lexer": "ipython3",
   "version": "3.11.1"
  }
 },
 "nbformat": 4,
 "nbformat_minor": 5
}
